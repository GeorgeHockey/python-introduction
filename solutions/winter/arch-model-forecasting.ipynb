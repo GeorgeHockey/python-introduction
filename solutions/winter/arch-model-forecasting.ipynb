{
 "cells": [
  {
   "cell_type": "markdown",
   "metadata": {
    "collapsed": true,
    "pycharm": {
     "name": "#%% md\n"
    }
   },
   "source": [
    "## ARCH Model Forecasting\n",
    "\n",
    "**Functions**\n",
    "\n",
    "`sm.OLS`, `sm.WLS`\n",
    "\n",
    "\n",
    "### Exercise 54\n",
    "\n",
    "Use 50% of the sample to estimate your preferred GARCH model for returns to the S&P 500 and the\n",
    "EUR/USD rate, and construct forecasts for the remaining period."
   ]
  },
  {
   "cell_type": "code",
   "execution_count": 16,
   "metadata": {
    "collapsed": false,
    "pycharm": {
     "is_executing": false,
     "name": "#%% \n"
    }
   },
   "outputs": [],
   "source": [
    "from arch import arch_model\n",
    "import pandas as pd\n",
    "import seaborn as sns\n",
    "from pandas.plotting import register_matplotlib_converters\n",
    "import matplotlib.pyplot as plt\n",
    "import numpy as np\n",
    "register_matplotlib_converters()\n",
    "\n",
    "sns.set_style(\"darkgrid\")\n",
    "plt.rc(\"figure\", figsize=(16, 6))\n",
    "plt.rc(\"font\", size=14)"
   ]
  },
  {
   "cell_type": "code",
   "execution_count": 2,
   "metadata": {
    "collapsed": false,
    "pycharm": {
     "is_executing": false,
     "name": "#%%\n"
    }
   },
   "outputs": [
    {
     "name": "stdout",
     "output_type": "stream",
     "text": [
      "Iteration:      1,   Func. Count:      7,   Neg. LLF: 4485.018723660958\n",
      "Iteration:      2,   Func. Count:     18,   Neg. LLF: 4483.412039285513\n",
      "Iteration:      3,   Func. Count:     27,   Neg. LLF: 4480.082800760504\n",
      "Iteration:      4,   Func. Count:     35,   Neg. LLF: 4473.414791182588\n",
      "Iteration:      5,   Func. Count:     42,   Neg. LLF: 4464.584865717883\n",
      "Iteration:      6,   Func. Count:     51,   Neg. LLF: 4462.456236064096\n",
      "Iteration:      7,   Func. Count:     60,   Neg. LLF: 4457.657690365339\n",
      "Iteration:      8,   Func. Count:     67,   Neg. LLF: 4455.751862593274\n",
      "Iteration:      9,   Func. Count:     75,   Neg. LLF: 4455.480579070787\n",
      "Iteration:     10,   Func. Count:     82,   Neg. LLF: 4455.4509217002105\n",
      "Iteration:     11,   Func. Count:     89,   Neg. LLF: 4455.4463589232055\n",
      "Iteration:     12,   Func. Count:     96,   Neg. LLF: 4455.4462991975615\n",
      "Iteration:     13,   Func. Count:    103,   Neg. LLF: 4455.446293520799\n",
      "Optimization terminated successfully.    (Exit mode 0)\n",
      "            Current function value: 4455.4462928872\n",
      "            Iterations: 13\n",
      "            Function evaluations: 104\n",
      "            Gradient evaluations: 13\n"
     ]
    },
    {
     "data": {
      "text/html": [
       "<div>\n",
       "<style scoped>\n",
       "    .dataframe tbody tr th:only-of-type {\n",
       "        vertical-align: middle;\n",
       "    }\n",
       "\n",
       "    .dataframe tbody tr th {\n",
       "        vertical-align: top;\n",
       "    }\n",
       "\n",
       "    .dataframe thead th {\n",
       "        text-align: right;\n",
       "    }\n",
       "</style>\n",
       "<table border=\"1\" class=\"dataframe\">\n",
       "  <thead>\n",
       "    <tr style=\"text-align: right;\">\n",
       "      <th></th>\n",
       "      <th>h.1</th>\n",
       "    </tr>\n",
       "    <tr>\n",
       "      <th>DATE</th>\n",
       "      <th></th>\n",
       "    </tr>\n",
       "  </thead>\n",
       "  <tbody>\n",
       "    <tr>\n",
       "      <th>2015-01-07</th>\n",
       "      <td>164.597059</td>\n",
       "    </tr>\n",
       "    <tr>\n",
       "      <th>2015-01-08</th>\n",
       "      <td>135.068831</td>\n",
       "    </tr>\n",
       "    <tr>\n",
       "      <th>2015-01-09</th>\n",
       "      <td>111.715514</td>\n",
       "    </tr>\n",
       "    <tr>\n",
       "      <th>2015-01-12</th>\n",
       "      <td>133.144951</td>\n",
       "    </tr>\n",
       "    <tr>\n",
       "      <th>2015-01-13</th>\n",
       "      <td>151.692913</td>\n",
       "    </tr>\n",
       "    <tr>\n",
       "      <th>...</th>\n",
       "      <td>...</td>\n",
       "    </tr>\n",
       "    <tr>\n",
       "      <th>2019-12-24</th>\n",
       "      <td>20.407733</td>\n",
       "    </tr>\n",
       "    <tr>\n",
       "      <th>2019-12-26</th>\n",
       "      <td>20.146127</td>\n",
       "    </tr>\n",
       "    <tr>\n",
       "      <th>2019-12-27</th>\n",
       "      <td>18.951020</td>\n",
       "    </tr>\n",
       "    <tr>\n",
       "      <th>2019-12-30</th>\n",
       "      <td>18.453076</td>\n",
       "    </tr>\n",
       "    <tr>\n",
       "      <th>2019-12-31</th>\n",
       "      <td>30.293711</td>\n",
       "    </tr>\n",
       "  </tbody>\n",
       "</table>\n",
       "<p>1255 rows × 1 columns</p>\n",
       "</div>"
      ],
      "text/plain": [
       "                   h.1\n",
       "DATE                  \n",
       "2015-01-07  164.597059\n",
       "2015-01-08  135.068831\n",
       "2015-01-09  111.715514\n",
       "2015-01-12  133.144951\n",
       "2015-01-13  151.692913\n",
       "...                ...\n",
       "2019-12-24   20.407733\n",
       "2019-12-26   20.146127\n",
       "2019-12-27   18.951020\n",
       "2019-12-30   18.453076\n",
       "2019-12-31   30.293711\n",
       "\n",
       "[1255 rows x 1 columns]"
      ]
     },
     "execution_count": 2,
     "metadata": {},
     "output_type": "execute_result"
    }
   ],
   "source": [
    "sp500 = pd.read_hdf('./data/arch-data.h5','sp500')\n",
    "# Get the series\n",
    "sp500 = sp500.SP500\n",
    "returns = 1000 * sp500.pct_change().dropna()\n",
    "# TARCH(1,1,1)\n",
    "mod = arch_model(returns, o=1, power=1.0)\n",
    "last = returns.index[returns.shape[0] // 2]\n",
    "res = mod.fit(last_obs=last)\n",
    "in_samp_variance = res.conditional_volatility ** 2\n",
    "in_samp_variance.dropna()\n",
    "\n",
    "forecasts = res.forecast(align=\"target\")\n",
    "oos_variance = forecasts.variance.dropna()\n",
    "oos_variance"
   ]
  },
  {
   "cell_type": "code",
   "execution_count": 3,
   "metadata": {
    "collapsed": false,
    "pycharm": {
     "is_executing": false,
     "name": "#%%\n"
    }
   },
   "outputs": [],
   "source": [
    "fig, ax = plt.subplots(1, 1)\n",
    "plt.plot(in_samp_variance, label=\"In Sample\")\n",
    "plt.plot(oos_variance, label=\"Out of Sample\")\n",
    "ax.set_xlim(in_samp_variance.index[0], oos_variance.index[-1])\n",
    "ylim = ax.set_ylim(0, ax.get_ylim()[1])\n",
    "# The _ is used to capture the output from the legend command so that\n",
    "# does not print\n",
    "_ = plt.legend(frameon=False)"
   ]
  },
  {
   "cell_type": "code",
   "execution_count": 4,
   "metadata": {
    "collapsed": false,
    "pycharm": {
     "is_executing": false,
     "name": "#%%\n"
    }
   },
   "outputs": [],
   "source": [
    "_, ax = plt.subplots(1, 1)\n",
    "plt.plot(np.sqrt(252*in_samp_variance / 100), label=\"In Sample Ann. Vol.\")\n",
    "plt.plot(np.sqrt(252*oos_variance / 100), label=\"Out of Sample Ann. Vol.\")\n",
    "ax.set_xlim(in_samp_variance.index[0], oos_variance.index[-1])\n",
    "ax.set_ylim(0, ax.get_ylim()[1])\n",
    "_ = plt.legend(frameon=False)"
   ]
  },
  {
   "cell_type": "markdown",
   "metadata": {
    "collapsed": false
   },
   "source": [
    "### Exercise 55\n",
    "\n",
    "Evaluate the accuracy of the forecasts."
   ]
  },
  {
   "cell_type": "code",
   "execution_count": 5,
   "metadata": {
    "collapsed": false,
    "pycharm": {
     "is_executing": false,
     "name": "#%% \n"
    }
   },
   "outputs": [],
   "source": [
    "# Join the returns and the variance forecasts\n",
    "combined = pd.concat([returns, oos_variance], axis = 1)\n",
    "combined.columns = [\"returns\",\"oos_variance\"]\n",
    "# Remove mossing\n",
    "combined = combined.dropna() "
   ]
  },
  {
   "cell_type": "code",
   "execution_count": 6,
   "metadata": {
    "collapsed": false,
    "pycharm": {
     "is_executing": false,
     "name": "#%%\n"
    }
   },
   "outputs": [
    {
     "name": "stderr",
     "output_type": "stream",
     "text": [
      "C:\\Anaconda\\envs\\anaconda-core\\lib\\site-packages\\numpy\\core\\fromnumeric.py:2495: FutureWarning: Method .ptp is deprecated and will be removed in a future version. Use numpy.ptp instead.\n",
      "  return ptp(axis=axis, out=out, **kwargs)\n"
     ]
    },
    {
     "data": {
      "text/html": [
       "<table class=\"simpletable\">\n",
       "<caption>OLS Regression Results</caption>\n",
       "<tr>\n",
       "  <th>Dep. Variable:</th>            <td>y</td>        <th>  R-squared:         </th> <td>   0.000</td> \n",
       "</tr>\n",
       "<tr>\n",
       "  <th>Model:</th>                   <td>OLS</td>       <th>  Adj. R-squared:    </th> <td>  -0.001</td> \n",
       "</tr>\n",
       "<tr>\n",
       "  <th>Method:</th>             <td>Least Squares</td>  <th>  F-statistic:       </th> <td> 0.01935</td> \n",
       "</tr>\n",
       "<tr>\n",
       "  <th>Date:</th>             <td>Fri, 24 Jan 2020</td> <th>  Prob (F-statistic):</th>  <td> 0.889</td>  \n",
       "</tr>\n",
       "<tr>\n",
       "  <th>Time:</th>                 <td>19:07:28</td>     <th>  Log-Likelihood:    </th> <td> -8085.4</td> \n",
       "</tr>\n",
       "<tr>\n",
       "  <th>No. Observations:</th>      <td>  1255</td>      <th>  AIC:               </th> <td>1.617e+04</td>\n",
       "</tr>\n",
       "<tr>\n",
       "  <th>Df Residuals:</th>          <td>  1253</td>      <th>  BIC:               </th> <td>1.619e+04</td>\n",
       "</tr>\n",
       "<tr>\n",
       "  <th>Df Model:</th>              <td>     1</td>      <th>                     </th>     <td> </td>    \n",
       "</tr>\n",
       "<tr>\n",
       "  <th>Covariance Type:</th>         <td>HC0</td>       <th>                     </th>     <td> </td>    \n",
       "</tr>\n",
       "</table>\n",
       "<table class=\"simpletable\">\n",
       "<tr>\n",
       "        <td></td>          <th>coef</th>     <th>std err</th>      <th>z</th>      <th>P>|z|</th>  <th>[0.025</th>    <th>0.975]</th>  \n",
       "</tr>\n",
       "<tr>\n",
       "  <th>const</th>        <td>   -7.6166</td> <td>   11.505</td> <td>   -0.662</td> <td> 0.508</td> <td>  -30.166</td> <td>   14.933</td>\n",
       "</tr>\n",
       "<tr>\n",
       "  <th>oos_variance</th> <td>   -0.0236</td> <td>    0.170</td> <td>   -0.139</td> <td> 0.889</td> <td>   -0.356</td> <td>    0.309</td>\n",
       "</tr>\n",
       "</table>\n",
       "<table class=\"simpletable\">\n",
       "<tr>\n",
       "  <th>Omnibus:</th>       <td>1315.863</td> <th>  Durbin-Watson:     </th> <td>   2.013</td> \n",
       "</tr>\n",
       "<tr>\n",
       "  <th>Prob(Omnibus):</th>  <td> 0.000</td>  <th>  Jarque-Bera (JB):  </th> <td>95936.093</td>\n",
       "</tr>\n",
       "<tr>\n",
       "  <th>Skew:</th>           <td> 4.989</td>  <th>  Prob(JB):          </th> <td>    0.00</td> \n",
       "</tr>\n",
       "<tr>\n",
       "  <th>Kurtosis:</th>       <td>44.654</td>  <th>  Cond. No.          </th> <td>    162.</td> \n",
       "</tr>\n",
       "</table><br/><br/>Warnings:<br/>[1] Standard Errors are heteroscedasticity robust (HC0)"
      ],
      "text/plain": [
       "<class 'statsmodels.iolib.summary.Summary'>\n",
       "\"\"\"\n",
       "                            OLS Regression Results                            \n",
       "==============================================================================\n",
       "Dep. Variable:                      y   R-squared:                       0.000\n",
       "Model:                            OLS   Adj. R-squared:                 -0.001\n",
       "Method:                 Least Squares   F-statistic:                   0.01935\n",
       "Date:                Fri, 24 Jan 2020   Prob (F-statistic):              0.889\n",
       "Time:                        19:07:28   Log-Likelihood:                -8085.4\n",
       "No. Observations:                1255   AIC:                         1.617e+04\n",
       "Df Residuals:                    1253   BIC:                         1.619e+04\n",
       "Df Model:                           1                                         \n",
       "Covariance Type:                  HC0                                         \n",
       "================================================================================\n",
       "                   coef    std err          z      P>|z|      [0.025      0.975]\n",
       "--------------------------------------------------------------------------------\n",
       "const           -7.6166     11.505     -0.662      0.508     -30.166      14.933\n",
       "oos_variance    -0.0236      0.170     -0.139      0.889      -0.356       0.309\n",
       "==============================================================================\n",
       "Omnibus:                     1315.863   Durbin-Watson:                   2.013\n",
       "Prob(Omnibus):                  0.000   Jarque-Bera (JB):            95936.093\n",
       "Skew:                           4.989   Prob(JB):                         0.00\n",
       "Kurtosis:                      44.654   Cond. No.                         162.\n",
       "==============================================================================\n",
       "\n",
       "Warnings:\n",
       "[1] Standard Errors are heteroscedasticity robust (HC0)\n",
       "\"\"\""
      ]
     },
     "execution_count": 6,
     "metadata": {},
     "output_type": "execute_result"
    }
   ],
   "source": [
    "import statsmodels.api as sm\n",
    "\n",
    "# Construct the error\n",
    "variance_error = combined.returns ** 2 - combined.oos_variance\n",
    "x = sm.add_constant(combined.oos_variance)\n",
    "\n",
    "res = sm.OLS(variance_error, x).fit(cov_type=\"HC0\")\n",
    "res.summary()"
   ]
  },
  {
   "cell_type": "code",
   "execution_count": 7,
   "metadata": {
    "collapsed": false,
    "pycharm": {
     "is_executing": false,
     "name": "#%%\n"
    }
   },
   "outputs": [
    {
     "name": "stdout",
     "output_type": "stream",
     "text": [
      "Stat: 7.6644442594595965, Pval:0.02166142760738248\n"
     ]
    }
   ],
   "source": [
    "test = res.wald_test(np.eye(2), use_f=False)\n",
    "print(f\"Stat: {test.statistic[0,0]}, Pval:{test.pvalue}\")"
   ]
  },
  {
   "cell_type": "code",
   "execution_count": 8,
   "metadata": {
    "collapsed": false,
    "pycharm": {
     "is_executing": false,
     "name": "#%%\n"
    }
   },
   "outputs": [
    {
     "data": {
      "text/html": [
       "<table class=\"simpletable\">\n",
       "<caption>WLS Regression Results</caption>\n",
       "<tr>\n",
       "  <th>Dep. Variable:</th>            <td>y</td>        <th>  R-squared:         </th> <td>   0.000</td> \n",
       "</tr>\n",
       "<tr>\n",
       "  <th>Model:</th>                   <td>WLS</td>       <th>  Adj. R-squared:    </th> <td>  -0.001</td> \n",
       "</tr>\n",
       "<tr>\n",
       "  <th>Method:</th>             <td>Least Squares</td>  <th>  F-statistic:       </th> <td>  0.2708</td> \n",
       "</tr>\n",
       "<tr>\n",
       "  <th>Date:</th>             <td>Fri, 24 Jan 2020</td> <th>  Prob (F-statistic):</th>  <td> 0.603</td>  \n",
       "</tr>\n",
       "<tr>\n",
       "  <th>Time:</th>                 <td>19:07:28</td>     <th>  Log-Likelihood:    </th> <td> -7619.3</td> \n",
       "</tr>\n",
       "<tr>\n",
       "  <th>No. Observations:</th>      <td>  1255</td>      <th>  AIC:               </th> <td>1.524e+04</td>\n",
       "</tr>\n",
       "<tr>\n",
       "  <th>Df Residuals:</th>          <td>  1253</td>      <th>  BIC:               </th> <td>1.525e+04</td>\n",
       "</tr>\n",
       "<tr>\n",
       "  <th>Df Model:</th>              <td>     1</td>      <th>                     </th>     <td> </td>    \n",
       "</tr>\n",
       "<tr>\n",
       "  <th>Covariance Type:</th>      <td>nonrobust</td>    <th>                     </th>     <td> </td>    \n",
       "</tr>\n",
       "</table>\n",
       "<table class=\"simpletable\">\n",
       "<tr>\n",
       "        <td></td>          <th>coef</th>     <th>std err</th>      <th>t</th>      <th>P>|t|</th>  <th>[0.025</th>    <th>0.975]</th>  \n",
       "</tr>\n",
       "<tr>\n",
       "  <th>const</th>        <td>   -5.1903</td> <td>    3.918</td> <td>   -1.325</td> <td> 0.185</td> <td>  -12.876</td> <td>    2.496</td>\n",
       "</tr>\n",
       "<tr>\n",
       "  <th>oos_variance</th> <td>   -0.0510</td> <td>    0.098</td> <td>   -0.520</td> <td> 0.603</td> <td>   -0.243</td> <td>    0.141</td>\n",
       "</tr>\n",
       "</table>\n",
       "<table class=\"simpletable\">\n",
       "<tr>\n",
       "  <th>Omnibus:</th>       <td>1816.570</td> <th>  Durbin-Watson:     </th>  <td>   1.901</td> \n",
       "</tr>\n",
       "<tr>\n",
       "  <th>Prob(Omnibus):</th>  <td> 0.000</td>  <th>  Jarque-Bera (JB):  </th> <td>614752.657</td>\n",
       "</tr>\n",
       "<tr>\n",
       "  <th>Skew:</th>           <td> 8.235</td>  <th>  Prob(JB):          </th>  <td>    0.00</td> \n",
       "</tr>\n",
       "<tr>\n",
       "  <th>Kurtosis:</th>       <td>110.168</td> <th>  Cond. No.          </th>  <td>    77.8</td> \n",
       "</tr>\n",
       "</table><br/><br/>Warnings:<br/>[1] Standard Errors assume that the covariance matrix of the errors is correctly specified."
      ],
      "text/plain": [
       "<class 'statsmodels.iolib.summary.Summary'>\n",
       "\"\"\"\n",
       "                            WLS Regression Results                            \n",
       "==============================================================================\n",
       "Dep. Variable:                      y   R-squared:                       0.000\n",
       "Model:                            WLS   Adj. R-squared:                 -0.001\n",
       "Method:                 Least Squares   F-statistic:                    0.2708\n",
       "Date:                Fri, 24 Jan 2020   Prob (F-statistic):              0.603\n",
       "Time:                        19:07:28   Log-Likelihood:                -7619.3\n",
       "No. Observations:                1255   AIC:                         1.524e+04\n",
       "Df Residuals:                    1253   BIC:                         1.525e+04\n",
       "Df Model:                           1                                         \n",
       "Covariance Type:            nonrobust                                         \n",
       "================================================================================\n",
       "                   coef    std err          t      P>|t|      [0.025      0.975]\n",
       "--------------------------------------------------------------------------------\n",
       "const           -5.1903      3.918     -1.325      0.185     -12.876       2.496\n",
       "oos_variance    -0.0510      0.098     -0.520      0.603      -0.243       0.141\n",
       "==============================================================================\n",
       "Omnibus:                     1816.570   Durbin-Watson:                   1.901\n",
       "Prob(Omnibus):                  0.000   Jarque-Bera (JB):           614752.657\n",
       "Skew:                           8.235   Prob(JB):                         0.00\n",
       "Kurtosis:                     110.168   Cond. No.                         77.8\n",
       "==============================================================================\n",
       "\n",
       "Warnings:\n",
       "[1] Standard Errors assume that the covariance matrix of the errors is correctly specified.\n",
       "\"\"\""
      ]
     },
     "execution_count": 8,
     "metadata": {},
     "output_type": "execute_result"
    }
   ],
   "source": [
    "res = sm.WLS(variance_error, x, weights=1./(combined.oos_variance**2)).fit()\n",
    "res.summary()"
   ]
  },
  {
   "cell_type": "code",
   "execution_count": 9,
   "metadata": {
    "collapsed": false,
    "pycharm": {
     "is_executing": false,
     "name": "#%%\n"
    }
   },
   "outputs": [
    {
     "name": "stdout",
     "output_type": "stream",
     "text": [
      "Stat: 12.109143926359664, Pval:0.0023471065537154284\n"
     ]
    }
   ],
   "source": [
    "test = res.wald_test(np.eye(2), use_f=False)\n",
    "print(f\"Stat: {test.statistic[0,0]}, Pval:{test.pvalue}\")\n",
    "\n"
   ]
  },
  {
   "cell_type": "markdown",
   "metadata": {
    "collapsed": false
   },
   "source": [
    "### Exercise 56\n",
    "\n",
    "Evaluate the accuracy of forecasts from a 2-year backward moving average variance."
   ]
  },
  {
   "cell_type": "code",
   "execution_count": 10,
   "metadata": {
    "collapsed": false,
    "pycharm": {
     "is_executing": false,
     "name": "#%% \n"
    }
   },
   "outputs": [],
   "source": [
    "rolling_variance = (returns**2).rolling(2*252).mean()\n",
    "rolling_variance = rolling_variance.shift(1)\n",
    "rolling_variance.name = \"rolling_variance\"\n",
    "combined = pd.concat([combined, rolling_variance], axis=1).dropna()\n",
    "\n",
    "_, ax = plt.subplots(1, 1)\n",
    "plt.plot(combined.oos_variance, label=\"TARCH\")\n",
    "plt.plot(combined.rolling_variance, label=\"Rolling\")\n",
    "ax.set_xlim(combined.index[0], combined.index[-1])\n",
    "ax.set_ylim(0, ax.get_ylim()[1])\n",
    "_ = plt.legend(frameon=False)"
   ]
  },
  {
   "cell_type": "code",
   "execution_count": 11,
   "metadata": {
    "collapsed": false,
    "pycharm": {
     "is_executing": false,
     "name": "#%%\n"
    }
   },
   "outputs": [
    {
     "data": {
      "text/html": [
       "<table class=\"simpletable\">\n",
       "<caption>OLS Regression Results</caption>\n",
       "<tr>\n",
       "  <th>Dep. Variable:</th>            <td>y</td>        <th>  R-squared:         </th> <td>   0.031</td> \n",
       "</tr>\n",
       "<tr>\n",
       "  <th>Model:</th>                   <td>OLS</td>       <th>  Adj. R-squared:    </th> <td>   0.030</td> \n",
       "</tr>\n",
       "<tr>\n",
       "  <th>Method:</th>             <td>Least Squares</td>  <th>  F-statistic:       </th> <td>   37.76</td> \n",
       "</tr>\n",
       "<tr>\n",
       "  <th>Date:</th>             <td>Fri, 24 Jan 2020</td> <th>  Prob (F-statistic):</th> <td>1.07e-09</td> \n",
       "</tr>\n",
       "<tr>\n",
       "  <th>Time:</th>                 <td>19:07:28</td>     <th>  Log-Likelihood:    </th> <td> -8231.6</td> \n",
       "</tr>\n",
       "<tr>\n",
       "  <th>No. Observations:</th>      <td>  1255</td>      <th>  AIC:               </th> <td>1.647e+04</td>\n",
       "</tr>\n",
       "<tr>\n",
       "  <th>Df Residuals:</th>          <td>  1253</td>      <th>  BIC:               </th> <td>1.648e+04</td>\n",
       "</tr>\n",
       "<tr>\n",
       "  <th>Df Model:</th>              <td>     1</td>      <th>                     </th>     <td> </td>    \n",
       "</tr>\n",
       "<tr>\n",
       "  <th>Covariance Type:</th>         <td>HC0</td>       <th>                     </th>     <td> </td>    \n",
       "</tr>\n",
       "</table>\n",
       "<table class=\"simpletable\">\n",
       "<tr>\n",
       "          <td></td>            <th>coef</th>     <th>std err</th>      <th>z</th>      <th>P>|z|</th>  <th>[0.025</th>    <th>0.975]</th>  \n",
       "</tr>\n",
       "<tr>\n",
       "  <th>const</th>            <td>  134.1073</td> <td>   23.522</td> <td>    5.701</td> <td> 0.000</td> <td>   88.005</td> <td>  180.210</td>\n",
       "</tr>\n",
       "<tr>\n",
       "  <th>rolling_variance</th> <td>   -1.9418</td> <td>    0.316</td> <td>   -6.145</td> <td> 0.000</td> <td>   -2.561</td> <td>   -1.322</td>\n",
       "</tr>\n",
       "</table>\n",
       "<table class=\"simpletable\">\n",
       "<tr>\n",
       "  <th>Omnibus:</th>       <td>1494.680</td> <th>  Durbin-Watson:     </th>  <td>   1.460</td> \n",
       "</tr>\n",
       "<tr>\n",
       "  <th>Prob(Omnibus):</th>  <td> 0.000</td>  <th>  Jarque-Bera (JB):  </th> <td>159696.448</td>\n",
       "</tr>\n",
       "<tr>\n",
       "  <th>Skew:</th>           <td> 6.091</td>  <th>  Prob(JB):          </th>  <td>    0.00</td> \n",
       "</tr>\n",
       "<tr>\n",
       "  <th>Kurtosis:</th>       <td>56.903</td>  <th>  Cond. No.          </th>  <td>    298.</td> \n",
       "</tr>\n",
       "</table><br/><br/>Warnings:<br/>[1] Standard Errors are heteroscedasticity robust (HC0)"
      ],
      "text/plain": [
       "<class 'statsmodels.iolib.summary.Summary'>\n",
       "\"\"\"\n",
       "                            OLS Regression Results                            \n",
       "==============================================================================\n",
       "Dep. Variable:                      y   R-squared:                       0.031\n",
       "Model:                            OLS   Adj. R-squared:                  0.030\n",
       "Method:                 Least Squares   F-statistic:                     37.76\n",
       "Date:                Fri, 24 Jan 2020   Prob (F-statistic):           1.07e-09\n",
       "Time:                        19:07:28   Log-Likelihood:                -8231.6\n",
       "No. Observations:                1255   AIC:                         1.647e+04\n",
       "Df Residuals:                    1253   BIC:                         1.648e+04\n",
       "Df Model:                           1                                         \n",
       "Covariance Type:                  HC0                                         \n",
       "====================================================================================\n",
       "                       coef    std err          z      P>|z|      [0.025      0.975]\n",
       "------------------------------------------------------------------------------------\n",
       "const              134.1073     23.522      5.701      0.000      88.005     180.210\n",
       "rolling_variance    -1.9418      0.316     -6.145      0.000      -2.561      -1.322\n",
       "==============================================================================\n",
       "Omnibus:                     1494.680   Durbin-Watson:                   1.460\n",
       "Prob(Omnibus):                  0.000   Jarque-Bera (JB):           159696.448\n",
       "Skew:                           6.091   Prob(JB):                         0.00\n",
       "Kurtosis:                      56.903   Cond. No.                         298.\n",
       "==============================================================================\n",
       "\n",
       "Warnings:\n",
       "[1] Standard Errors are heteroscedasticity robust (HC0)\n",
       "\"\"\""
      ]
     },
     "execution_count": 11,
     "metadata": {},
     "output_type": "execute_result"
    }
   ],
   "source": [
    "# Construct the error\n",
    "variance_error = combined.returns ** 2 - combined.rolling_variance\n",
    "x = sm.add_constant(combined.rolling_variance)\n",
    "\n",
    "res = sm.OLS(variance_error, x).fit(cov_type=\"HC0\")\n",
    "res.summary()"
   ]
  },
  {
   "cell_type": "code",
   "execution_count": 12,
   "metadata": {
    "collapsed": false,
    "pycharm": {
     "is_executing": false,
     "name": "#%%\n"
    }
   },
   "outputs": [
    {
     "name": "stdout",
     "output_type": "stream",
     "text": [
      "Stat: 41.163438441822386, Pval:1.1520542072085852e-09\n"
     ]
    }
   ],
   "source": [
    "test = res.wald_test(np.eye(2), use_f=False)\n",
    "print(f\"Stat: {test.statistic[0,0]}, Pval:{test.pvalue}\")"
   ]
  },
  {
   "cell_type": "code",
   "execution_count": 13,
   "metadata": {
    "collapsed": false,
    "pycharm": {
     "is_executing": false,
     "name": "#%%\n"
    }
   },
   "outputs": [
    {
     "data": {
      "text/html": [
       "<table class=\"simpletable\">\n",
       "<caption>WLS Regression Results</caption>\n",
       "<tr>\n",
       "  <th>Dep. Variable:</th>            <td>y</td>        <th>  R-squared:         </th> <td>   0.024</td> \n",
       "</tr>\n",
       "<tr>\n",
       "  <th>Model:</th>                   <td>WLS</td>       <th>  Adj. R-squared:    </th> <td>   0.024</td> \n",
       "</tr>\n",
       "<tr>\n",
       "  <th>Method:</th>             <td>Least Squares</td>  <th>  F-statistic:       </th> <td>   31.44</td> \n",
       "</tr>\n",
       "<tr>\n",
       "  <th>Date:</th>             <td>Fri, 24 Jan 2020</td> <th>  Prob (F-statistic):</th> <td>2.53e-08</td> \n",
       "</tr>\n",
       "<tr>\n",
       "  <th>Time:</th>                 <td>19:07:28</td>     <th>  Log-Likelihood:    </th> <td> -8452.9</td> \n",
       "</tr>\n",
       "<tr>\n",
       "  <th>No. Observations:</th>      <td>  1255</td>      <th>  AIC:               </th> <td>1.691e+04</td>\n",
       "</tr>\n",
       "<tr>\n",
       "  <th>Df Residuals:</th>          <td>  1253</td>      <th>  BIC:               </th> <td>1.692e+04</td>\n",
       "</tr>\n",
       "<tr>\n",
       "  <th>Df Model:</th>              <td>     1</td>      <th>                     </th>     <td> </td>    \n",
       "</tr>\n",
       "<tr>\n",
       "  <th>Covariance Type:</th>      <td>nonrobust</td>    <th>                     </th>     <td> </td>    \n",
       "</tr>\n",
       "</table>\n",
       "<table class=\"simpletable\">\n",
       "<tr>\n",
       "          <td></td>            <th>coef</th>     <th>std err</th>      <th>t</th>      <th>P>|t|</th>  <th>[0.025</th>    <th>0.975]</th>  \n",
       "</tr>\n",
       "<tr>\n",
       "  <th>const</th>            <td>  136.6023</td> <td>   21.360</td> <td>    6.395</td> <td> 0.000</td> <td>   94.697</td> <td>  178.508</td>\n",
       "</tr>\n",
       "<tr>\n",
       "  <th>rolling_variance</th> <td>   -1.9826</td> <td>    0.354</td> <td>   -5.607</td> <td> 0.000</td> <td>   -2.676</td> <td>   -1.289</td>\n",
       "</tr>\n",
       "</table>\n",
       "<table class=\"simpletable\">\n",
       "<tr>\n",
       "  <th>Omnibus:</th>       <td>1641.605</td> <th>  Durbin-Watson:     </th>  <td>   1.446</td> \n",
       "</tr>\n",
       "<tr>\n",
       "  <th>Prob(Omnibus):</th>  <td> 0.000</td>  <th>  Jarque-Bera (JB):  </th> <td>267902.976</td>\n",
       "</tr>\n",
       "<tr>\n",
       "  <th>Skew:</th>           <td> 7.057</td>  <th>  Prob(JB):          </th>  <td>    0.00</td> \n",
       "</tr>\n",
       "<tr>\n",
       "  <th>Kurtosis:</th>       <td>73.172</td>  <th>  Cond. No.          </th>  <td>    239.</td> \n",
       "</tr>\n",
       "</table><br/><br/>Warnings:<br/>[1] Standard Errors assume that the covariance matrix of the errors is correctly specified."
      ],
      "text/plain": [
       "<class 'statsmodels.iolib.summary.Summary'>\n",
       "\"\"\"\n",
       "                            WLS Regression Results                            \n",
       "==============================================================================\n",
       "Dep. Variable:                      y   R-squared:                       0.024\n",
       "Model:                            WLS   Adj. R-squared:                  0.024\n",
       "Method:                 Least Squares   F-statistic:                     31.44\n",
       "Date:                Fri, 24 Jan 2020   Prob (F-statistic):           2.53e-08\n",
       "Time:                        19:07:28   Log-Likelihood:                -8452.9\n",
       "No. Observations:                1255   AIC:                         1.691e+04\n",
       "Df Residuals:                    1253   BIC:                         1.692e+04\n",
       "Df Model:                           1                                         \n",
       "Covariance Type:            nonrobust                                         \n",
       "====================================================================================\n",
       "                       coef    std err          t      P>|t|      [0.025      0.975]\n",
       "------------------------------------------------------------------------------------\n",
       "const              136.6023     21.360      6.395      0.000      94.697     178.508\n",
       "rolling_variance    -1.9826      0.354     -5.607      0.000      -2.676      -1.289\n",
       "==============================================================================\n",
       "Omnibus:                     1641.605   Durbin-Watson:                   1.446\n",
       "Prob(Omnibus):                  0.000   Jarque-Bera (JB):           267902.976\n",
       "Skew:                           7.057   Prob(JB):                         0.00\n",
       "Kurtosis:                      73.172   Cond. No.                         239.\n",
       "==============================================================================\n",
       "\n",
       "Warnings:\n",
       "[1] Standard Errors assume that the covariance matrix of the errors is correctly specified.\n",
       "\"\"\""
      ]
     },
     "execution_count": 13,
     "metadata": {},
     "output_type": "execute_result"
    }
   ],
   "source": [
    "res = sm.WLS(variance_error, x, weights=1./(combined.rolling_variance**2)).fit()\n",
    "res.summary()\n"
   ]
  },
  {
   "cell_type": "code",
   "execution_count": 14,
   "metadata": {
    "collapsed": false,
    "pycharm": {
     "is_executing": false,
     "name": "#%%\n"
    }
   },
   "outputs": [
    {
     "name": "stdout",
     "output_type": "stream",
     "text": [
      "Stat: 46.199297869364216, Pval:9.288593000671533e-11\n"
     ]
    }
   ],
   "source": [
    "test = res.wald_test(np.eye(2), use_f=False)\n",
    "print(f\"Stat: {test.statistic[0,0]}, Pval:{test.pvalue}\")\n"
   ]
  },
  {
   "cell_type": "markdown",
   "metadata": {
    "collapsed": false
   },
   "source": [
    "### Exercise 57\n",
    "\n",
    "Compare the ARCH-model forecasts to a naive 2-year backward looking moving average using QLIKE."
   ]
  },
  {
   "cell_type": "code",
   "execution_count": 15,
   "metadata": {
    "collapsed": false,
    "pycharm": {
     "is_executing": false,
     "name": "#%%\n"
    }
   },
   "outputs": [
    {
     "name": "stderr",
     "output_type": "stream",
     "text": [
      "C:\\Anaconda\\envs\\anaconda-core\\lib\\site-packages\\scipy\\stats\\_distn_infrastructure.py:901: RuntimeWarning: invalid value encountered in greater\n",
      "  return (a < x) & (x < b)\n",
      "C:\\Anaconda\\envs\\anaconda-core\\lib\\site-packages\\scipy\\stats\\_distn_infrastructure.py:901: RuntimeWarning: invalid value encountered in less\n",
      "  return (a < x) & (x < b)\n",
      "C:\\Anaconda\\envs\\anaconda-core\\lib\\site-packages\\scipy\\stats\\_distn_infrastructure.py:1892: RuntimeWarning: invalid value encountered in less_equal\n",
      "  cond2 = cond0 & (x <= _a)\n"
     ]
    },
    {
     "data": {
      "text/html": [
       "<table class=\"simpletable\">\n",
       "<caption>OLS Regression Results</caption>\n",
       "<tr>\n",
       "  <th>Dep. Variable:</th>            <td>y</td>        <th>  R-squared:         </th> <td>   0.000</td>\n",
       "</tr>\n",
       "<tr>\n",
       "  <th>Model:</th>                   <td>OLS</td>       <th>  Adj. R-squared:    </th> <td>   0.000</td>\n",
       "</tr>\n",
       "<tr>\n",
       "  <th>Method:</th>             <td>Least Squares</td>  <th>  F-statistic:       </th> <td>     nan</td>\n",
       "</tr>\n",
       "<tr>\n",
       "  <th>Date:</th>             <td>Fri, 24 Jan 2020</td> <th>  Prob (F-statistic):</th>  <td>   nan</td> \n",
       "</tr>\n",
       "<tr>\n",
       "  <th>Time:</th>                 <td>19:07:29</td>     <th>  Log-Likelihood:    </th> <td> -2808.4</td>\n",
       "</tr>\n",
       "<tr>\n",
       "  <th>No. Observations:</th>      <td>  1255</td>      <th>  AIC:               </th> <td>   5619.</td>\n",
       "</tr>\n",
       "<tr>\n",
       "  <th>Df Residuals:</th>          <td>  1254</td>      <th>  BIC:               </th> <td>   5624.</td>\n",
       "</tr>\n",
       "<tr>\n",
       "  <th>Df Model:</th>              <td>     0</td>      <th>                     </th>     <td> </td>   \n",
       "</tr>\n",
       "<tr>\n",
       "  <th>Covariance Type:</th>         <td>HAC</td>       <th>                     </th>     <td> </td>   \n",
       "</tr>\n",
       "</table>\n",
       "<table class=\"simpletable\">\n",
       "<tr>\n",
       "    <td></td>       <th>coef</th>     <th>std err</th>      <th>z</th>      <th>P>|z|</th>  <th>[0.025</th>    <th>0.975]</th>  \n",
       "</tr>\n",
       "<tr>\n",
       "  <th>const</th> <td>   -0.4604</td> <td>    0.092</td> <td>   -4.979</td> <td> 0.000</td> <td>   -0.642</td> <td>   -0.279</td>\n",
       "</tr>\n",
       "</table>\n",
       "<table class=\"simpletable\">\n",
       "<tr>\n",
       "  <th>Omnibus:</th>       <td>1786.242</td> <th>  Durbin-Watson:     </th>  <td>   1.651</td> \n",
       "</tr>\n",
       "<tr>\n",
       "  <th>Prob(Omnibus):</th>  <td> 0.000</td>  <th>  Jarque-Bera (JB):  </th> <td>579321.112</td>\n",
       "</tr>\n",
       "<tr>\n",
       "  <th>Skew:</th>           <td>-7.976</td>  <th>  Prob(JB):          </th>  <td>    0.00</td> \n",
       "</tr>\n",
       "<tr>\n",
       "  <th>Kurtosis:</th>       <td>107.039</td> <th>  Cond. No.          </th>  <td>    1.00</td> \n",
       "</tr>\n",
       "</table><br/><br/>Warnings:<br/>[1] Standard Errors are heteroscedasticity and autocorrelation robust (HAC) using 12 lags and without small sample correction"
      ],
      "text/plain": [
       "<class 'statsmodels.iolib.summary.Summary'>\n",
       "\"\"\"\n",
       "                            OLS Regression Results                            \n",
       "==============================================================================\n",
       "Dep. Variable:                      y   R-squared:                       0.000\n",
       "Model:                            OLS   Adj. R-squared:                  0.000\n",
       "Method:                 Least Squares   F-statistic:                       nan\n",
       "Date:                Fri, 24 Jan 2020   Prob (F-statistic):                nan\n",
       "Time:                        19:07:29   Log-Likelihood:                -2808.4\n",
       "No. Observations:                1255   AIC:                             5619.\n",
       "Df Residuals:                    1254   BIC:                             5624.\n",
       "Df Model:                           0                                         \n",
       "Covariance Type:                  HAC                                         \n",
       "==============================================================================\n",
       "                 coef    std err          z      P>|z|      [0.025      0.975]\n",
       "------------------------------------------------------------------------------\n",
       "const         -0.4604      0.092     -4.979      0.000      -0.642      -0.279\n",
       "==============================================================================\n",
       "Omnibus:                     1786.242   Durbin-Watson:                   1.651\n",
       "Prob(Omnibus):                  0.000   Jarque-Bera (JB):           579321.112\n",
       "Skew:                          -7.976   Prob(JB):                         0.00\n",
       "Kurtosis:                     107.039   Cond. No.                         1.00\n",
       "==============================================================================\n",
       "\n",
       "Warnings:\n",
       "[1] Standard Errors are heteroscedasticity and autocorrelation robust (HAC) using 12 lags and without small sample correction\n",
       "\"\"\""
      ]
     },
     "execution_count": 15,
     "metadata": {},
     "output_type": "execute_result"
    }
   ],
   "source": [
    "#combined\n",
    "forecasts = combined[[\"oos_variance\",\"rolling_variance\"]]\n",
    "ratio = ((combined.returns**2)/forecasts.T).T\n",
    "qlik = ratio + np.log(forecasts)\n",
    "delta = qlik.oos_variance - qlik.rolling_variance\n",
    "lags = int(1.2 * delta.shape[0] ** (1/3))\n",
    "dm = sm.OLS(delta, np.ones_like(delta)).fit(cov_type=\"HAC\", cov_kwds={\"maxlags\":lags})\n",
    "dm.summary()\n"
   ]
  },
  {
   "cell_type": "code",
   "execution_count": 16,
   "metadata": {
    "pycharm": {
     "is_executing": false
    }
   },
   "outputs": [],
   "source": [
    "_, ax = plt.subplots(1, 1)\n",
    "plt.plot(in_samp_variance, label=\"In Sample\")\n",
    "plt.plot(oos_variance, label=\"Out of Sample\")\n",
    "ax.set_xlim(in_samp_variance.index[0], oos_variance.index[-1])\n",
    "ax.set_ylim(0, ax.get_ylim()[1])\n",
    "legend = plt.legend(frameon=False)"
   ]
  },
  {
   "cell_type": "code",
   "execution_count": 17,
   "metadata": {
    "pycharm": {
     "is_executing": false,
     "name": "#%%\n"
    }
   },
   "outputs": [],
   "source": [
    "_, ax = plt.subplots(1, 1)\n",
    "plt.plot(np.sqrt(252*in_samp_variance / 100), label=\"In Sample Ann. Vol.\")\n",
    "plt.plot(np.sqrt(252*oos_variance / 100), label=\"Out of Sample Ann. Vol.\")\n",
    "ax.set_xlim(in_samp_variance.index[0], oos_variance.index[-1])\n",
    "ax.set_ylim(0, ax.get_ylim()[1])\n",
    "_ = plt.legend(frameon=False)"
   ]
  }
 ],
 "metadata": {
  "kernelspec": {
   "display_name": "Python 3",
   "language": "python",
   "name": "python3"
  },
  "language_info": {
   "codemirror_mode": {
    "name": "ipython",
    "version": 3
   },
   "file_extension": ".py",
   "mimetype": "text/x-python",
   "name": "python",
   "nbconvert_exporter": "python",
   "pygments_lexer": "ipython3",
   "version": "3.7.6"
  },
  "pycharm": {
   "stem_cell": {
    "cell_type": "raw",
    "metadata": {
     "collapsed": false
    },
    "source": []
   }
  }
 },
 "nbformat": 4,
 "nbformat_minor": 1
}
