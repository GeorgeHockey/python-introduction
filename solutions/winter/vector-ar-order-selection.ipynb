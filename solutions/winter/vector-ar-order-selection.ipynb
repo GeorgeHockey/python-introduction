{
 "cells": [
  {
   "cell_type": "markdown",
   "metadata": {
    "collapsed": true,
    "pycharm": {
     "name": "#%% md\n"
    }
   },
   "source": [
    "## VAR Model Order Selection\n",
    "\n",
    "**Functions**\n",
    "\n",
    "`tsa.VAR`\n",
    "\n",
    "### Exercise 68\n",
    "Using the same data as in the previous exercise, determine the optimal VAR order using:\n",
    "\n",
    "1. AIC\n",
    "2. HQIC\n",
    "3. BIC\n",
    "4. Likelihood-ratio testing using General-to-Specific"
   ]
  },
  {
   "cell_type": "code",
   "execution_count": 3,
   "metadata": {
    "collapsed": false,
    "pycharm": {
     "name": "#%%\n",
     "is_executing": false
    }
   },
   "outputs": [],
   "source": [
    "import pandas as pd\n",
    "data = pd.read_hdf(\"./data/var-data.h5\", \"var_data\")"
   ]
  },
  {
   "cell_type": "code",
   "execution_count": 7,
   "outputs": [
    {
     "data": {
      "text/plain": "  Summary of Regression Results   \n==================================\nModel:                         VAR\nMethod:                        OLS\nDate:           Thu, 27, Feb, 2020\nTime:                     08:15:58\n--------------------------------------------------------------------\nNo. of Equations:         3.00000    BIC:                   -15.1574\nNobs:                     264.000    HQIC:                  -15.3276\nLog likelihood:           935.526    FPE:                1.96653e-07\nAIC:                     -15.4419    Det(Omega_mle):     1.81805e-07\n--------------------------------------------------------------------\nResults for equation spread\n============================================================================\n               coefficient       std. error           t-stat            prob\n----------------------------------------------------------------------------\nconst             0.112254         0.072096            1.557           0.119\nL1.spread         1.068581         0.098461           10.853           0.000\nL1.gs1           -0.051826         0.061315           -0.845           0.398\nL1.deflg          0.539863         9.421895            0.057           0.954\nL2.spread        -0.174806         0.096106           -1.819           0.069\nL2.gs1            0.071472         0.060068            1.190           0.234\nL2.deflg        -14.203952         9.479998           -1.498           0.134\n============================================================================\n\nResults for equation gs1\n============================================================================\n               coefficient       std. error           t-stat            prob\n----------------------------------------------------------------------------\nconst            -0.027394         0.116916           -0.234           0.815\nL1.spread         0.147928         0.159672            0.926           0.354\nL1.gs1            1.237031         0.099434           12.441           0.000\nL1.deflg         -0.054555        15.279342           -0.004           0.997\nL2.spread        -0.097344         0.155854           -0.625           0.532\nL2.gs1           -0.301646         0.097412           -3.097           0.002\nL2.deflg         37.418811        15.373567            2.434           0.015\n============================================================================\n\nResults for equation deflg\n============================================================================\n               coefficient       std. error           t-stat            prob\n----------------------------------------------------------------------------\nconst             0.000920         0.000453            2.033           0.042\nL1.spread        -0.000508         0.000618           -0.822           0.411\nL1.gs1            0.000635         0.000385            1.651           0.099\nL1.deflg          0.535110         0.059144            9.048           0.000\nL2.spread         0.000337         0.000603            0.559           0.576\nL2.gs1           -0.000576         0.000377           -1.527           0.127\nL2.deflg          0.331763         0.059509            5.575           0.000\n============================================================================\n\nCorrelation matrix of residuals\n            spread       gs1     deflg\nspread    1.000000 -0.787847 -0.016651\ngs1      -0.787847  1.000000  0.094543\ndeflg    -0.016651  0.094543  1.000000\n\n"
     },
     "metadata": {},
     "output_type": "execute_result",
     "execution_count": 7
    }
   ],
   "source": [
    "import statsmodels.tsa.api as tsa\n",
    "mod = tsa.VAR(data[[\"spread\",\"gs1\",\"deflg\"]])\n",
    "res = mod.fit(8, ic=\"bic\")\n",
    "res.summary()"
   ],
   "metadata": {
    "collapsed": false,
    "pycharm": {
     "name": "#%%\n",
     "is_executing": false
    }
   }
  },
  {
   "cell_type": "code",
   "execution_count": 25,
   "outputs": [
    {
     "name": "stderr",
     "text": [
      "C:\\Anaconda\\lib\\site-packages\\scipy\\stats\\_distn_infrastructure.py:903: RuntimeWarning: invalid value encountered in greater\n",
      "  return (a < x) & (x < b)\n",
      "C:\\Anaconda\\lib\\site-packages\\scipy\\stats\\_distn_infrastructure.py:903: RuntimeWarning: invalid value encountered in less\n",
      "  return (a < x) & (x < b)\n",
      "C:\\Anaconda\\lib\\site-packages\\scipy\\stats\\_distn_infrastructure.py:1827: RuntimeWarning: invalid value encountered in greater_equal\n",
      "  cond2 = (x >= np.asarray(_b)) & cond0\n"
     ],
     "output_type": "stream"
    },
    {
     "data": {
      "text/plain": "      AIC    HQIC     BIC      LLF        LR   pval\n0  -8.796  -8.779  -8.755   40.491       NaN    NaN\n1 -15.249 -15.184 -15.087  904.460  1727.938  0.000\n2 -15.442 -15.328 -15.157  935.526    62.133  0.000\n3 -15.454 -15.291 -15.047  942.707    14.361  0.110\n4 -15.507 -15.294 -14.976  955.196    24.979  0.003\n5 -15.471 -15.207 -14.815  955.931     1.471  0.997\n6 -15.553 -15.239 -14.772  972.085    32.306  0.000\n7 -15.549 -15.185 -14.643  977.091    10.014  0.349\n8 -15.578 -15.163 -14.545  986.309    18.435  0.030",
      "text/html": "<div>\n<style scoped>\n    .dataframe tbody tr th:only-of-type {\n        vertical-align: middle;\n    }\n\n    .dataframe tbody tr th {\n        vertical-align: top;\n    }\n\n    .dataframe thead th {\n        text-align: right;\n    }\n</style>\n<table border=\"1\" class=\"dataframe\">\n  <thead>\n    <tr style=\"text-align: right;\">\n      <th></th>\n      <th>AIC</th>\n      <th>HQIC</th>\n      <th>BIC</th>\n      <th>LLF</th>\n      <th>LR</th>\n      <th>pval</th>\n    </tr>\n  </thead>\n  <tbody>\n    <tr>\n      <th>0</th>\n      <td>-8.796</td>\n      <td>-8.779</td>\n      <td>-8.755</td>\n      <td>40.491</td>\n      <td>NaN</td>\n      <td>NaN</td>\n    </tr>\n    <tr>\n      <th>1</th>\n      <td>-15.249</td>\n      <td>-15.184</td>\n      <td>-15.087</td>\n      <td>904.460</td>\n      <td>1727.938</td>\n      <td>0.000</td>\n    </tr>\n    <tr>\n      <th>2</th>\n      <td>-15.442</td>\n      <td>-15.328</td>\n      <td>-15.157</td>\n      <td>935.526</td>\n      <td>62.133</td>\n      <td>0.000</td>\n    </tr>\n    <tr>\n      <th>3</th>\n      <td>-15.454</td>\n      <td>-15.291</td>\n      <td>-15.047</td>\n      <td>942.707</td>\n      <td>14.361</td>\n      <td>0.110</td>\n    </tr>\n    <tr>\n      <th>4</th>\n      <td>-15.507</td>\n      <td>-15.294</td>\n      <td>-14.976</td>\n      <td>955.196</td>\n      <td>24.979</td>\n      <td>0.003</td>\n    </tr>\n    <tr>\n      <th>5</th>\n      <td>-15.471</td>\n      <td>-15.207</td>\n      <td>-14.815</td>\n      <td>955.931</td>\n      <td>1.471</td>\n      <td>0.997</td>\n    </tr>\n    <tr>\n      <th>6</th>\n      <td>-15.553</td>\n      <td>-15.239</td>\n      <td>-14.772</td>\n      <td>972.085</td>\n      <td>32.306</td>\n      <td>0.000</td>\n    </tr>\n    <tr>\n      <th>7</th>\n      <td>-15.549</td>\n      <td>-15.185</td>\n      <td>-14.643</td>\n      <td>977.091</td>\n      <td>10.014</td>\n      <td>0.349</td>\n    </tr>\n    <tr>\n      <th>8</th>\n      <td>-15.578</td>\n      <td>-15.163</td>\n      <td>-14.545</td>\n      <td>986.309</td>\n      <td>18.435</td>\n      <td>0.030</td>\n    </tr>\n  </tbody>\n</table>\n</div>"
     },
     "metadata": {},
     "output_type": "execute_result",
     "execution_count": 25
    }
   ],
   "source": [
    "import numpy as np\n",
    "from scipy import stats\n",
    "ics = pd.DataFrame(columns=[\"AIC\",\"HQIC\",\"BIC\", \"LLF\"],\n",
    "                   index=np.arange(9), dtype=np.double)\n",
    "\n",
    "for lag in range(9):\n",
    "    res = mod.fit(lag, ic=None)\n",
    "    ics.loc[lag, \"AIC\"] = res.aic\n",
    "    ics.loc[lag, \"HQIC\"] = res.hqic\n",
    "    ics.loc[lag, \"BIC\"] = res.bic\n",
    "    ics.loc[lag, \"LLF\"] = res.llf\n",
    "ics[\"LR\"] = 2 * (ics.LLF - ics.LLF.shift(1))\n",
    "ics[\"pval\"] = 1 - stats.chi2(9).cdf(ics.LR)\n",
    "# Pretty the values by truncating at 3 d.p.\n",
    "ics.round(3)"
   ],
   "metadata": {
    "collapsed": false,
    "pycharm": {
     "name": "#%%\n",
     "is_executing": false
    }
   }
  },
  {
   "cell_type": "code",
   "execution_count": 22,
   "outputs": [
    {
     "data": {
      "text/plain": "AIC     8\nHQIC    2\nBIC     2\ndtype: int64"
     },
     "metadata": {},
     "output_type": "execute_result",
     "execution_count": 22
    }
   ],
   "source": [
    "ics[[\"AIC\",\"HQIC\",\"BIC\"]].idxmin()\n"
   ],
   "metadata": {
    "collapsed": false,
    "pycharm": {
     "name": "#%%\n",
     "is_executing": false
    }
   }
  }
 ],
 "metadata": {
  "kernelspec": {
   "display_name": "Python 3",
   "language": "python",
   "name": "python3"
  },
  "language_info": {
   "codemirror_mode": {
    "name": "ipython",
    "version": 3
   },
   "file_extension": ".py",
   "mimetype": "text/x-python",
   "name": "python",
   "nbconvert_exporter": "python",
   "pygments_lexer": "ipython3",
   "version": "3.7.6"
  },
  "pycharm": {
   "stem_cell": {
    "cell_type": "raw",
    "source": [],
    "metadata": {
     "collapsed": false
    }
   }
  }
 },
 "nbformat": 4,
 "nbformat_minor": 0
}