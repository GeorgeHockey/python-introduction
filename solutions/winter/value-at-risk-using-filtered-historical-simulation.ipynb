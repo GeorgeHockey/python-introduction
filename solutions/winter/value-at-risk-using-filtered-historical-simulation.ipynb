{
 "cells": [
  {
   "cell_type": "markdown",
   "metadata": {
    "collapsed": true,
    "pycharm": {
     "name": "#%% md\n"
    }
   },
   "source": [
    "## Value-at-Risk: Using Filtered Historical Simulation\n",
    "\n",
    "**Functions**\n",
    "\n",
    "`arch_model`, `ARCHModelResult.std_resid`, `np.percentile`\n",
    "\n",
    "### Exercise 59\n",
    "Use a GARCH(1,1) model to construct filtered historical VaR for the S&P 500 and\n",
    "the EUR/USD exchange rate, using 10 years of data.\n",
    "\n",
    "**Note**: For simplicity, estimate the model on the full sample, but start the\n",
    "historical simulation at 25% of the data, and then build the additional forecasts\n",
    "using a recursive scheme."
   ]
  },
  {
   "cell_type": "code",
   "execution_count": null,
   "metadata": {
    "collapsed": false,
    "pycharm": {
     "is_executing": false,
     "name": "#%%\n"
    }
   },
   "outputs": [],
   "source": [
    "from arch import arch_model\n",
    "import pandas as pd\n",
    "import numpy as np\n",
    "sp500 = pd.read_hdf(\"./data/arch-data.h5\", \"sp500\")        \n",
    "eurusd = pd.read_hdf(\"./data/arch-data.h5\", \"eurusd\")\n",
    "\n",
    "sp500_returns = 100 * sp500.SP500.pct_change().dropna()\n",
    "eurusd_returns = 100 * eurusd.DEXUSEU.pct_change().dropna()\n",
    "\n",
    "mod = arch_model(sp500_returns)\n",
    "res = mod.fit()"
   ]
  },
  {
   "cell_type": "markdown",
   "metadata": {
    "collapsed": false
   },
   "source": [
    "### Explanation\n",
    "\n",
    "We start out by loading the index data, computing percentage returns\n",
    "and then estimating a GARCH(1,1) on the S&P 500 returns."
   ]
  },
  {
   "cell_type": "code",
   "execution_count": null,
   "metadata": {
    "collapsed": false,
    "pycharm": {
     "is_executing": false,
     "name": "#%%\n"
    }
   },
   "outputs": [],
   "source": [
    "std_resid: pd.Series = res.std_resid\n",
    "forecasts = res.forecast(start=sp500_returns.index[0])\n",
    "\n",
    "start = int(0.25 * std_resid.shape[0])\n",
    "std_quantile = std_resid.expanding(min_periods=start).quantile(0.05)\n",
    "\n",
    "\n",
    "mu = res.params.mu\n",
    "sigma = np.sqrt(forecasts.variance[\"h.1\"])\n",
    "q = std_quantile\n",
    "\n",
    "var_1step = -mu - sigma * q\n",
    "# Fix alignment since both q and sigma are aligned at time when produced\n",
    "var_1step = var_1step.dropna()\n"
   ]
  },
  {
   "cell_type": "markdown",
   "metadata": {
    "collapsed": false
   },
   "source": [
    "### Explanation\n",
    "\n",
    "The 1-step FHS 95% VaR requires three inputs: the conditional mean and\n",
    "variance and the quantile of the standardized residuals.  The mean is\n",
    "constant and so can be determined from the model parameters. The 1-step\n",
    "ahead variance can be computed using the `forecast` method. The forecast\n",
    "variance is returns in a DataFrame in the column `h.1`. This value is\n",
    "origin-aligned so that the value in position $m$ is the forecast for\n",
    "period $m+1$.  Finally, we need to quantile of the standardized residuals.\n",
    "This is computed on an expanding basis using the same method that was used\n",
    "to construct HS VaR in the previous lesson. \n",
    "\n",
    "Finally, these are combined to produce the VaR.  Note that we use\n",
    "$-\\mu - \\sigma q_{0.05}$ since we want the VaR to be positive in most\n",
    "situations and $q_{0.05}$ is usually negative."
   ]
  },
  {
   "cell_type": "code",
   "execution_count": null,
   "metadata": {
    "collapsed": false,
    "pycharm": {
     "is_executing": false,
     "name": "#%%\n"
    }
   },
   "outputs": [],
   "source": [
    "%matplotlib inline\n",
    "import matplotlib.pyplot as plt\n",
    "import seaborn as sns\n",
    "sns.set_style(\"darkgrid\")\n",
    "plt.rc(\"figure\",figsize=(16,6))\n",
    "plt.rc(\"font\",size=14)\n",
    "fig, ax = plt.subplots(1,1)\n",
    "var_1step.plot(ax=ax)"
   ]
  },
  {
   "cell_type": "markdown",
   "metadata": {
    "collapsed": false,
    "pycharm": {
     "name": "#%% md\n"
    }
   },
   "source": [
    "### Explanation\n",
    "Here we plot the one-step ahead VaR.\n"
   ]
  },
  {
   "cell_type": "code",
   "execution_count": null,
   "metadata": {
    "collapsed": false,
    "pycharm": {
     "is_executing": false,
     "name": "#%%\n"
    }
   },
   "outputs": [],
   "source": [
    "# Use a RandomState for reproducibility\n",
    "rs = np.random.RandomState([738492843,438248394])\n",
    "# The first date\n",
    "loc = start\n",
    "# Arrays to hold the simulated variance and returns\n",
    "variances = np.empty((1000, 5))\n",
    "sim_eps = np.empty((1000,5))\n",
    "# Simulation will use all of the parameters\n",
    "mu, omega, alpha, beta = res.params\n",
    "# Loop over the horizon, 5\n",
    "for i in range(5):\n",
    "    # Simulate standardized residuals (e) from the empirical distribution \n",
    "    sim_e = rs.choice(res.std_resid.iloc[:loc],size=1000)\n",
    "    if i == 0:\n",
    "        # For 0 we use the 1-step variance forecast\n",
    "        variances[:,0] = res.conditional_volatility.iloc[loc] ** 2\n",
    "    else:\n",
    "        # For 2 we simulate the vairance\n",
    "        variances[:,i] = omega + alpha * sim_eps[:,i-1]**2 + beta * variances[:,i-1]\n",
    "    # The simulated residual is then the produce of the variance and the\n",
    "    # simulated standardized residuals.\n",
    "    sim_eps[:,i] = np.sqrt(variances[:,i]) * sim_e\n",
    "# Finally, the simulate returns include the mean\n",
    "sim_rets = mu + sim_eps\n",
    "# The 5-day return is then the sum accross time (axis=1)\n",
    "rets_5 = sim_rets.sum(axis=1)\n",
    "# The VaR is then determined uinsg the 5% quantile\n",
    "fhs_var = -np.percentile(rets_5, 5)\n",
    "fhs_var"
   ]
  },
  {
   "cell_type": "markdown",
   "metadata": {
    "collapsed": false
   },
   "source": [
    "### Explanation\n",
    "\n",
    "Multi-step VaR is harder.  We need to simulate returns for $h$ days and then take\n",
    "the quantile of the simulated returns. While `arch` can do this for us, it is\n",
    "instructive to manually implement the steps. We start with a single day,\n",
    "and then wrap that in a loop to compute the 5-day VaR for the entire sample."
   ]
  },
  {
   "cell_type": "code",
   "execution_count": null,
   "metadata": {
    "collapsed": false,
    "pycharm": {
     "is_executing": false,
     "name": "#%% \n"
    }
   },
   "outputs": [],
   "source": [
    "nobs =sp500_returns.shape[0]\n",
    "var_5step = np.full(nobs, np.nan)\n",
    "for j in range(start, nobs):\n",
    "    if j % 250 == 0:\n",
    "        print(f\"Remaining: {nobs - j}\")\n",
    "    sub_std_resid = res.std_resid.iloc[:j]\n",
    "    sigma2_t = res.conditional_volatility.iloc[j] ** 2\n",
    "    for i in range(5):\n",
    "        sim_e = rs.choice(sub_std_resid,size=1000)\n",
    "        if i== 0:\n",
    "            variances[:,0] = sigma2_t\n",
    "        else:\n",
    "            variances[:,i] = omega + alpha * sim_eps[:,i-1]**2 + beta * variances[:,i-1]\n",
    "        sim_eps[:,i] = np.sqrt(variances[:,i]) * sim_e\n",
    "    sim_rets = mu + sim_eps\n",
    "    rets_5 = sim_rets.sum(1)\n",
    "    var_5step[j] = -np.percentile(rets_5, 5)"
   ]
  },
  {
   "cell_type": "markdown",
   "metadata": {
    "collapsed": false
   },
   "source": [
    "### Explanation\n",
    "We can construct the 5-step ahead forecasts by simulating the model foreward.\n",
    "Note that the first out-of-sample variance is known at time $t$, and so we\n",
    "only simulat for `i > 0`. Once we ahve the simulated $\\epsilon$, we then then\n",
    "simulate the 5 returns and the total return over 5 days using `sum`. Finally,\n",
    "we use `percentile` to find the 5% quantile. "
   ]
  },
  {
   "cell_type": "code",
   "execution_count": null,
   "metadata": {
    "collapsed": false,
    "pycharm": {
     "is_executing": false,
     "name": "#%%\n"
    }
   },
   "outputs": [],
   "source": [
    "var_5step = pd.Series(var_5step, index=sp500_returns.index)\n",
    "var_5step = var_5step.shift(5)"
   ]
  },
  {
   "cell_type": "markdown",
   "metadata": {
    "collapsed": false
   },
   "source": [
    "### Explanation\n",
    "\n",
    "Finally, we shift it by 5 places so that the forecast lines up with the point\n",
    "where we will evaluate it."
   ]
  },
  {
   "cell_type": "code",
   "execution_count": null,
   "metadata": {
    "collapsed": false,
    "pycharm": {
     "is_executing": false,
     "name": "#%%\n"
    }
   },
   "outputs": [],
   "source": [
    "value_at_risks = pd.concat([var_1step, var_5step],axis=1).dropna()\n",
    "value_at_risks.columns=[\"1-day\",\"5-day\"]\n",
    "value_at_risks.plot(legend=False)\n",
    "plt.legend(frameon=False)\n"
   ]
  },
  {
   "cell_type": "markdown",
   "metadata": {
    "collapsed": false
   },
   "source": [
    "### Explanation\n",
    "\n",
    "We can plot the 1- and 5-day Value-at-Risks."
   ]
  },
  {
   "cell_type": "code",
   "execution_count": null,
   "metadata": {
    "collapsed": false,
    "pycharm": {
     "is_executing": false,
     "name": "#%%\n"
    }
   },
   "outputs": [],
   "source": [
    "def fhs_var(params, std_resid, cond_variances, loc, random_state, horizon):\n",
    "    variances = np.empty((1000, horizon))\n",
    "    sim_eps = np.empty((1000, horizon))\n",
    "    mu, omega, alpha, beta = params \n",
    "\n",
    "    for i in range(horizon):\n",
    "        sim_e = random_state.choice(std_resid.iloc[:loc],size=1000)\n",
    "        if i == 0:\n",
    "            variances[:,0] = cond_variances.iloc[loc] ** 2\n",
    "        else:\n",
    "            variances[:,i] = omega + alpha * sim_eps[:,i-1]**2 + beta * variances[:,i-1]\n",
    "        sim_eps[:,i] = np.sqrt(variances[:,i]) * sim_e\n",
    "    sim_rets = mu + sim_eps\n",
    "    rets_horizon = sim_rets.sum(1)\n",
    "    return -np.percentile(rets_horizon, 5)\n"
   ]
  },
  {
   "cell_type": "markdown",
   "metadata": {
    "collapsed": false
   },
   "source": [
    "### Explanation\n",
    "\n",
    "Finally, we generalize the code above to allow simulation over any `horizon`.\n",
    "Thie code is virtually identical to the 5-step forecasts except that it has\n",
    "been wrapped in a function."
   ]
  },
  {
   "cell_type": "code",
   "execution_count": null,
   "metadata": {
    "collapsed": false,
    "pycharm": {
     "is_executing": false,
     "name": "#%%\n"
    }
   },
   "outputs": [],
   "source": [
    "var_10step = np.full(nobs, np.nan)\n",
    "cond_var = res.conditional_volatility ** 2\n",
    "horizon = 10\n",
    "for loc in range(start, nobs):\n",
    "    if loc % 250 == 0:\n",
    "        print(f\"Remaining: {nobs - loc}\")\n",
    "    var_10step[loc] = fhs_var(res.params, res.std_resid, cond_var, loc, rs, horizon)"
   ]
  },
  {
   "cell_type": "markdown",
   "metadata": {
    "collapsed": false
   },
   "source": [
    "### Explanation\n",
    "\n",
    "We can use the funciton to produce the forecasts with a basic loop."
   ]
  },
  {
   "cell_type": "code",
   "execution_count": null,
   "metadata": {
    "collapsed": false,
    "pycharm": {
     "is_executing": false,
     "name": "#%%\n"
    }
   },
   "outputs": [],
   "source": [
    "var_10step = pd.Series(var_10step, index=sp500_returns.index)\n",
    "var_10step = var_10step.shift(10)\n"
   ]
  },
  {
   "cell_type": "markdown",
   "metadata": {
    "collapsed": false
   },
   "source": [
    "### Explanation\n",
    "\n",
    "We shift to the evaluation point. "
   ]
  },
  {
   "cell_type": "code",
   "execution_count": null,
   "metadata": {
    "collapsed": false,
    "pycharm": {
     "is_executing": false,
     "name": "#%%\n"
    }
   },
   "outputs": [],
   "source": [
    "value_at_risks = pd.concat([var_1step, var_5step, var_10step],axis=1).dropna()\n",
    "value_at_risks.columns=[\"1-day 95% VaR\",\"5-day 95% VaR\",\"10-day 95% VaR\"]\n",
    "ax = value_at_risks.plot(legend=False)\n",
    "plt.legend(frameon=False)\n",
    "ax.set_yticklabels([f\"{tick}%\" for tick in ax.get_yticks()])\n",
    "ax.set_title(\"S&P 500 Filtered Historical Simulation VaR\")\n"
   ]
  },
  {
   "cell_type": "markdown",
   "metadata": {
    "collapsed": false
   },
   "source": [
    "### Explanation\n",
    "\n",
    "Finally we can plot all three Value-at-Risks."
   ]
  },
  {
   "cell_type": "markdown",
   "metadata": {
    "collapsed": false,
    "pycharm": {
     "name": "#%% md\n"
    }
   },
   "source": [
    "### Exercise 60\n",
    "\n",
    "Compare this VaR to the HS VaR in the previous example."
   ]
  },
  {
   "cell_type": "code",
   "execution_count": null,
   "metadata": {
    "collapsed": false,
    "pycharm": {
     "is_executing": false,
     "name": "#%%"
    }
   },
   "outputs": [],
   "source": [
    "mod = arch_model(eurusd_returns)\n",
    "res = mod.fit()"
   ]
  },
  {
   "cell_type": "code",
   "execution_count": null,
   "metadata": {
    "collapsed": false,
    "pycharm": {
     "is_executing": false,
     "name": "#%%\n"
    }
   },
   "outputs": [],
   "source": [
    "cond_var = res.conditional_volatility ** 2\n",
    "eurusd_var = {}\n",
    "nobs = eurusd_returns.shape[0]\n",
    "start = int(0.25 * nobs)\n",
    "index = eurusd_returns.index\n",
    "for horizon in (1,5, 10):\n",
    "    temp = np.full(nobs, np.nan)\n",
    "    for loc in range(start, nobs):\n",
    "        if loc % 500 == 0:\n",
    "            print(f\"Horizon: {horizon}, Remaining: {nobs - loc}\")\n",
    "        temp[loc] = fhs_var(res.params, res.std_resid, cond_var, loc, rs, horizon)\n",
    "    eurusd_var[f\"{horizon}-day 95%-VaR\"] = pd.Series(temp, index=index)\n",
    "eurusd_var = pd.DataFrame(eurusd_var).dropna()"
   ]
  },
  {
   "cell_type": "code",
   "execution_count": null,
   "metadata": {
    "collapsed": false,
    "pycharm": {
     "is_executing": false,
     "name": "#%%\n"
    }
   },
   "outputs": [],
   "source": [
    "ax = eurusd_var.plot(legend=False)\n",
    "plt.legend(frameon=False)\n",
    "ax.set_yticklabels([f\"{tick}%\" for tick in ax.get_yticks()])\n",
    "title = ax.set_title(\"EUR-USD Filtered Historical Simulation VaR\")"
   ]
  },
  {
   "cell_type": "markdown",
   "metadata": {
    "collapsed": false,
    "pycharm": {
     "name": "#%% md\n"
    }
   },
   "source": [
    "### Explanation\n",
    "\n",
    "We start by using the function to compute the FHS VaR for the EUR-USD rate for\n",
    "all 3 horizons. We plot both VaRs. Finally, we save the VaRs to use in a later\n",
    "lesson.\n"
   ]
  },
  {
   "cell_type": "code",
   "execution_count": null,
   "outputs": [],
   "source": [
    "with pd.HDFStore(\"./data/fhs-var.h5\", mode=\"w\") as hdf:\n",
    "    hdf.put(\"sp500_var\", value_at_risks)\n",
    "    hdf.put(\"eurusd_var\", eurusd_var)"
   ],
   "metadata": {
    "collapsed": false,
    "pycharm": {
     "name": "#%% \n",
     "is_executing": false
    }
   }
  }
 ],
 "metadata": {
  "kernelspec": {
   "name": "pycharm-98793682",
   "language": "python",
   "display_name": "PyCharm (python-introduction)"
  },
  "language_info": {
   "codemirror_mode": {
    "name": "ipython",
    "version": 3
   },
   "file_extension": ".py",
   "mimetype": "text/x-python",
   "name": "python",
   "nbconvert_exporter": "python",
   "pygments_lexer": "ipython3",
   "version": "3.7.6"
  },
  "pycharm": {
   "stem_cell": {
    "cell_type": "raw",
    "source": [],
    "metadata": {
     "collapsed": false
    }
   }
  }
 },
 "nbformat": 4,
 "nbformat_minor": 0
}