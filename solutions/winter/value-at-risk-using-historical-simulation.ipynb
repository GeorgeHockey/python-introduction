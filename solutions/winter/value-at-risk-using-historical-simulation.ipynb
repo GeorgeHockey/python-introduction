{
 "cells": [
  {
   "cell_type": "markdown",
   "metadata": {
    "collapsed": true,
    "pycharm": {
     "name": "#%% md\n"
    }
   },
   "source": [
    "## Value-at-Risk: Using Historical Simulation\n",
    "\n",
    "**Functions**\n",
    "\n",
    "`Series.quantile`, `Series.rolling`"
   ]
  },
  {
   "cell_type": "markdown",
   "metadata": {
    "collapsed": false
   },
   "source": [
    "### Exercise 58\n",
    "Compute the 1-, 5- and 10-day historical simulation VaR for the S&P 500 and\n",
    "the EUR/USD rate.\n",
    "\n",
    "**Note**: Start the historical simulation at 25% of the data, and then build the\n",
    "additional forecasts using a recursive scheme."
   ]
  },
  {
   "cell_type": "code",
   "execution_count": null,
   "metadata": {
    "collapsed": false,
    "pycharm": {
     "is_executing": false,
     "name": "#%%\n"
    }
   },
   "outputs": [],
   "source": [
    "%matplotlib inline\n",
    "\n",
    "import pandas as pd\n",
    "sp500 = pd.read_hdf(\"./data/arch-data.h5\", \"sp500\")\n",
    "eurusd = pd.read_hdf(\"./data/arch-data.h5\", \"eurusd\")\n",
    "\n",
    "sp500_returns = 100 * sp500.SP500.pct_change().dropna()\n",
    "eurusd_returns = 100 * eurusd.DEXUSEU.pct_change().dropna()"
   ]
  },
  {
   "cell_type": "markdown",
   "metadata": {
    "collapsed": false,
    "pycharm": {
     "name": "#%% md\n"
    }
   },
   "source": [
    "### Explanation\n",
    "\n",
    "We start by loading the indices and transforming each into percentage returns."
   ]
  },
  {
   "cell_type": "code",
   "execution_count": null,
   "metadata": {
    "collapsed": false,
    "pycharm": {
     "is_executing": false,
     "name": "#%%\n"
    }
   },
   "outputs": [],
   "source": [
    "start = int(sp500_returns.shape[0] * 0.25)\n",
    "var_95_1day = -sp500_returns.expanding(min_periods=start).quantile(0.05)"
   ]
  },
  {
   "cell_type": "markdown",
   "metadata": {
    "collapsed": false
   },
   "source": [
    "### Explanation\n",
    "\n",
    "pandas exposes an interface for `expanding` window statistics which is virtually\n",
    "identical to the `rolling` window interface. The key parameter is `min_periods`\n",
    "which sets the smallest sample that will be used.  A key feature of `expanding`\n",
    "is that the statistic computed using observations $0$, $1$, $\\ldots$, $m$ are\n",
    "placed in position $m$. In code notation, `stat[m] = func(data[:(m+1)])`.  This\n",
    "is important when forecasting since the value in position $m$ is the forecast\n",
    "for `m+1`. We could use `shift` to move it forward 1 observation, which aligns the\n",
    "forecast with its realization."
   ]
  },
  {
   "cell_type": "code",
   "execution_count": null,
   "metadata": {
    "collapsed": false,
    "pycharm": {
     "is_executing": false,
     "name": "#%%\n"
    }
   },
   "outputs": [],
   "source": [
    "rets_5_day = sp500_returns.rolling(5).sum().dropna()\n",
    "var_95_5day = -rets_5_day.expanding(min_periods=start).quantile(0.05)\n"
   ]
  },
  {
   "cell_type": "markdown",
   "metadata": {
    "collapsed": false
   },
   "source": [
    "### Explanation\n",
    "\n",
    "To implement HS over longer horizons, we first need to compute the $h$-day return.\n",
    "We construct the returns using `rolling(h).sum()`. Finally, we can use `expanding`\n",
    "on the 5-day returns to compute the expanding set of quantiles. Again, these are\n",
    "aligned at the point where the forecast is made, not where it is forecasting."
   ]
  },
  {
   "cell_type": "code",
   "execution_count": null,
   "metadata": {
    "collapsed": false,
    "pycharm": {
     "is_executing": false,
     "name": "#%%\n"
    }
   },
   "outputs": [],
   "source": [
    "rets_10_day = sp500_returns.rolling(10).sum().dropna()\n",
    "var_95_10day = -rets_10_day.expanding(min_periods=start).quantile(0.05)\n"
   ]
  },
  {
   "cell_type": "markdown",
   "metadata": {
    "collapsed": false
   },
   "source": [
    "### Explanation\n",
    "\n",
    "The 10-day VaR is virtually identical, using `rolling` and then `expanding`."
   ]
  },
  {
   "cell_type": "code",
   "execution_count": null,
   "metadata": {
    "collapsed": false,
    "pycharm": {
     "is_executing": false,
     "name": "#%%\n"
    }
   },
   "outputs": [],
   "source": [
    "import matplotlib.pyplot as plt\n",
    "import seaborn as sns\n",
    "sns.set_style(\"darkgrid\")\n",
    "plt.rc(\"figure\",figsize=(16,6))\n",
    "plt.rc(\"font\",size=14)\n",
    "\n",
    "value_at_risks = pd.concat([var_95_1day, var_95_5day, var_95_10day], axis=1)\n",
    "value_at_risks = value_at_risks.dropna(how=\"all\")\n",
    "value_at_risks.columns = [\"1-day 95% VaR\",\"5-day 95% VaR\",\"10-day 95% VaR\"]\n",
    "ax = value_at_risks.plot(legend=False)\n",
    "ax.set_yticklabels([f\"{tick}%\" for tick in ax.get_yticks()])\n",
    "ax.set_title(\"S&P 500 Historical Simulation VaR\")\n",
    "lgd = plt.legend(frameon=False)\n"
   ]
  },
  {
   "cell_type": "markdown",
   "metadata": {
    "collapsed": false
   },
   "source": [
    "### Explanation\n",
    "\n",
    "We can join the three VaRs into a single DataFrame and then plot them."
   ]
  },
  {
   "cell_type": "code",
   "execution_count": null,
   "metadata": {
    "collapsed": false,
    "pycharm": {
     "is_executing": false,
     "name": "#%%\n"
    }
   },
   "outputs": [],
   "source": [
    "eurusd_value_at_risks = {}\n",
    "for horizon in (1,5,10):\n",
    "    multi_day_returns = eurusd_returns.rolling(horizon).sum().dropna()\n",
    "    actual_var = multi_day_returns.expanding(min_periods=start).quantile(0.05)\n",
    "    eurusd_value_at_risks[f\"{horizon}-day 95% VaR\"] = actual_var\n",
    "eurusd_value_at_risks = pd.DataFrame(eurusd_value_at_risks).dropna(how=\"all\")\n",
    "\n",
    "ax = eurusd_value_at_risks.plot(legend=False)\n",
    "ax.set_yticklabels([f\"{tick}%\" for tick in ax.get_yticks()])\n",
    "ax.set_title(\"EUR-USD Historical Simulation VaR\")\n",
    "plt.legend(frameon=False)\n"
   ]
  },
  {
   "cell_type": "markdown",
   "metadata": {
    "collapsed": false
   },
   "source": [
    "### Explanation\n",
    "\n",
    "We can use the same process to automate the process for the EUR/USD rate.\n",
    "While it is wasteful to use `rolling(1)` for the 1-step VaR, uniformly\n",
    "applying this method simplified the code. Finally, we can plot the series.\n",
    "\n",
    "The function `ax.set_yticklabels` allows us to set the string labels\n",
    "of the y-ticks, which we get with `ax.get_yticks`."
   ]
  },
  {
   "cell_type": "code",
   "execution_count": null,
   "metadata": {
    "collapsed": false,
    "pycharm": {
     "name": "#%%\n"
    }
   },
   "outputs": [],
   "source": [
    "with pd.HDFStore(\"./data/hs-var.h5\", mode=\"w\") as hdf:\n",
    "    hdf.put(\"sp500_var\", value_at_risks)\n",
    "    hdf.put(\"eurusd_var\", eurusd_value_at_risks)"
   ]
  }
 ],
 "metadata": {
  "kernelspec": {
   "name": "pycharm-98793682",
   "language": "python",
   "display_name": "PyCharm (python-introduction)"
  },
  "language_info": {
   "codemirror_mode": {
    "name": "ipython",
    "version": 3
   },
   "file_extension": ".py",
   "mimetype": "text/x-python",
   "name": "python",
   "nbconvert_exporter": "python",
   "pygments_lexer": "ipython3",
   "version": "3.7.6"
  },
  "pycharm": {
   "stem_cell": {
    "cell_type": "raw",
    "metadata": {
     "collapsed": false
    },
    "source": []
   }
  }
 },
 "nbformat": 4,
 "nbformat_minor": 0
}