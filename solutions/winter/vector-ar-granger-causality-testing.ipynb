{
 "cells": [
  {
   "cell_type": "markdown",
   "metadata": {
    "collapsed": true,
    "pycharm": {
     "name": "#%% md\n"
    }
   },
   "source": [
    "## Granger Causality Testing\n",
    "\n",
    "**Functions**\n",
    "\n",
    "`VARResults.test_causality`\n",
    "\n",
    "### Exercise 69\n",
    "Using the data and the models selected in the previous exercise, is there evidence of Granger Causality between the series?"
   ]
  },
  {
   "cell_type": "code",
   "execution_count": 21,
   "metadata": {
    "collapsed": false,
    "pycharm": {
     "name": "#%%\n",
     "is_executing": false
    }
   },
   "outputs": [
    {
     "data": {
      "text/plain": "  Summary of Regression Results   \n==================================\nModel:                         VAR\nMethod:                        OLS\nDate:           Thu, 27, Feb, 2020\nTime:                     08:35:31\n--------------------------------------------------------------------\nNo. of Equations:         3.00000    BIC:                   -15.1574\nNobs:                     264.000    HQIC:                  -15.3276\nLog likelihood:           935.526    FPE:                1.96653e-07\nAIC:                     -15.4419    Det(Omega_mle):     1.81805e-07\n--------------------------------------------------------------------\nResults for equation spread\n============================================================================\n               coefficient       std. error           t-stat            prob\n----------------------------------------------------------------------------\nconst             0.112254         0.072096            1.557           0.119\nL1.spread         1.068581         0.098461           10.853           0.000\nL1.gs1           -0.051826         0.061315           -0.845           0.398\nL1.deflg          0.539863         9.421895            0.057           0.954\nL2.spread        -0.174806         0.096106           -1.819           0.069\nL2.gs1            0.071472         0.060068            1.190           0.234\nL2.deflg        -14.203952         9.479998           -1.498           0.134\n============================================================================\n\nResults for equation gs1\n============================================================================\n               coefficient       std. error           t-stat            prob\n----------------------------------------------------------------------------\nconst            -0.027394         0.116916           -0.234           0.815\nL1.spread         0.147928         0.159672            0.926           0.354\nL1.gs1            1.237031         0.099434           12.441           0.000\nL1.deflg         -0.054555        15.279342           -0.004           0.997\nL2.spread        -0.097344         0.155854           -0.625           0.532\nL2.gs1           -0.301646         0.097412           -3.097           0.002\nL2.deflg         37.418811        15.373567            2.434           0.015\n============================================================================\n\nResults for equation deflg\n============================================================================\n               coefficient       std. error           t-stat            prob\n----------------------------------------------------------------------------\nconst             0.000920         0.000453            2.033           0.042\nL1.spread        -0.000508         0.000618           -0.822           0.411\nL1.gs1            0.000635         0.000385            1.651           0.099\nL1.deflg          0.535110         0.059144            9.048           0.000\nL2.spread         0.000337         0.000603            0.559           0.576\nL2.gs1           -0.000576         0.000377           -1.527           0.127\nL2.deflg          0.331763         0.059509            5.575           0.000\n============================================================================\n\nCorrelation matrix of residuals\n            spread       gs1     deflg\nspread    1.000000 -0.787847 -0.016651\ngs1      -0.787847  1.000000  0.094543\ndeflg    -0.016651  0.094543  1.000000\n\n"
     },
     "metadata": {},
     "output_type": "execute_result",
     "execution_count": 21
    }
   ],
   "source": [
    "import pandas as pd\n",
    "import statsmodels.tsa.api as tsa\n",
    "data = pd.read_hdf(\"./data/var-data.h5\", \"var_data\")\n",
    "var_data = data[[\"spread\",\"gs1\",\"deflg\"]]\n",
    "mod = tsa.VAR(var_data)\n",
    "res = mod.fit(2, ic=None)"
   ]
  },
  {
   "cell_type": "code",
   "execution_count": 20,
   "outputs": [
    {
     "data": {
      "text/plain": "                Test Stat    PValue\ncaused causing                     \nspread gs1       2.182779  0.113424\n       deflg     2.446992  0.087225\ngs1    spread    0.817780  0.441793\n       deflg     6.826381  0.001152\ndeflg  spread    0.628702  0.533557\n       gs1       1.488053  0.226460",
      "text/html": "<div>\n<style scoped>\n    .dataframe tbody tr th:only-of-type {\n        vertical-align: middle;\n    }\n\n    .dataframe tbody tr th {\n        vertical-align: top;\n    }\n\n    .dataframe thead th {\n        text-align: right;\n    }\n</style>\n<table border=\"1\" class=\"dataframe\">\n  <thead>\n    <tr style=\"text-align: right;\">\n      <th></th>\n      <th></th>\n      <th>Test Stat</th>\n      <th>PValue</th>\n    </tr>\n    <tr>\n      <th>caused</th>\n      <th>causing</th>\n      <th></th>\n      <th></th>\n    </tr>\n  </thead>\n  <tbody>\n    <tr>\n      <th rowspan=\"2\" valign=\"top\">spread</th>\n      <th>gs1</th>\n      <td>2.182779</td>\n      <td>0.113424</td>\n    </tr>\n    <tr>\n      <th>deflg</th>\n      <td>2.446992</td>\n      <td>0.087225</td>\n    </tr>\n    <tr>\n      <th rowspan=\"2\" valign=\"top\">gs1</th>\n      <th>spread</th>\n      <td>0.817780</td>\n      <td>0.441793</td>\n    </tr>\n    <tr>\n      <th>deflg</th>\n      <td>6.826381</td>\n      <td>0.001152</td>\n    </tr>\n    <tr>\n      <th rowspan=\"2\" valign=\"top\">deflg</th>\n      <th>spread</th>\n      <td>0.628702</td>\n      <td>0.533557</td>\n    </tr>\n    <tr>\n      <th>gs1</th>\n      <td>1.488053</td>\n      <td>0.226460</td>\n    </tr>\n  </tbody>\n</table>\n</div>"
     },
     "metadata": {},
     "output_type": "execute_result",
     "execution_count": 20
    }
   ],
   "source": [
    "gc = {}\n",
    "for caused in var_data:\n",
    "    for causing in var_data:\n",
    "        if caused == causing:\n",
    "            continue\n",
    "        test_res = res.test_causality(caused, causing)\n",
    "        gc[(caused, causing)] = [test_res.test_statistic, test_res.pvalue]\n",
    "\n",
    "gc = pd.DataFrame(gc).T\n",
    "gc.columns=[\"Test Stat\", \"PValue\"]\n",
    "gc.index = gc.index.set_names([\"caused\",\"causing\"])\n",
    "gc"
   ],
   "metadata": {
    "collapsed": false,
    "pycharm": {
     "name": "#%%\n",
     "is_executing": false
    }
   }
  },
  {
   "cell_type": "markdown",
   "metadata": {
    "collapsed": false
   },
   "source": [
    "### Exercise 70\n",
    "What if the 10 year and the 1 year are both used, but the spread is omitted?"
   ]
  },
  {
   "cell_type": "code",
   "execution_count": 22,
   "metadata": {
    "collapsed": false,
    "pycharm": {
     "name": "#%%\n",
     "is_executing": false
    }
   },
   "outputs": [
    {
     "data": {
      "text/plain": "                Test Stat    PValue\ncaused causing                     \ngs10   gs1       0.240809  0.786051\n       deflg     6.651588  0.001367\ngs1    gs10      0.817780  0.441793\n       deflg     6.826381  0.001152\ndeflg  gs10      0.628702  0.533557\n       gs1       4.501112  0.011390",
      "text/html": "<div>\n<style scoped>\n    .dataframe tbody tr th:only-of-type {\n        vertical-align: middle;\n    }\n\n    .dataframe tbody tr th {\n        vertical-align: top;\n    }\n\n    .dataframe thead th {\n        text-align: right;\n    }\n</style>\n<table border=\"1\" class=\"dataframe\">\n  <thead>\n    <tr style=\"text-align: right;\">\n      <th></th>\n      <th></th>\n      <th>Test Stat</th>\n      <th>PValue</th>\n    </tr>\n    <tr>\n      <th>caused</th>\n      <th>causing</th>\n      <th></th>\n      <th></th>\n    </tr>\n  </thead>\n  <tbody>\n    <tr>\n      <th rowspan=\"2\" valign=\"top\">gs10</th>\n      <th>gs1</th>\n      <td>0.240809</td>\n      <td>0.786051</td>\n    </tr>\n    <tr>\n      <th>deflg</th>\n      <td>6.651588</td>\n      <td>0.001367</td>\n    </tr>\n    <tr>\n      <th rowspan=\"2\" valign=\"top\">gs1</th>\n      <th>gs10</th>\n      <td>0.817780</td>\n      <td>0.441793</td>\n    </tr>\n    <tr>\n      <th>deflg</th>\n      <td>6.826381</td>\n      <td>0.001152</td>\n    </tr>\n    <tr>\n      <th rowspan=\"2\" valign=\"top\">deflg</th>\n      <th>gs10</th>\n      <td>0.628702</td>\n      <td>0.533557</td>\n    </tr>\n    <tr>\n      <th>gs1</th>\n      <td>4.501112</td>\n      <td>0.011390</td>\n    </tr>\n  </tbody>\n</table>\n</div>"
     },
     "metadata": {},
     "output_type": "execute_result",
     "execution_count": 22
    }
   ],
   "source": [
    "var_data = data[[\"gs10\",\"gs1\",\"deflg\"]]\n",
    "mod = tsa.VAR(var_data)\n",
    "res = mod.fit(2, ic=None)\n",
    "\n",
    "gc = {}\n",
    "for caused in var_data:\n",
    "    for causing in var_data:\n",
    "        if caused == causing:\n",
    "            continue\n",
    "        test_res = res.test_causality(caused, causing)\n",
    "        gc[(caused, causing)] = [test_res.test_statistic, test_res.pvalue]\n",
    "\n",
    "gc = pd.DataFrame(gc).T\n",
    "gc.columns=[\"Test Stat\", \"PValue\"]\n",
    "gc.index = gc.index.set_names([\"caused\",\"causing\"])\n",
    "gc"
   ]
  }
 ],
 "metadata": {
  "kernelspec": {
   "display_name": "Python 3",
   "language": "python",
   "name": "python3"
  },
  "language_info": {
   "codemirror_mode": {
    "name": "ipython",
    "version": 3
   },
   "file_extension": ".py",
   "mimetype": "text/x-python",
   "name": "python",
   "nbconvert_exporter": "python",
   "pygments_lexer": "ipython3",
   "version": "3.7.6"
  },
  "pycharm": {
   "stem_cell": {
    "cell_type": "raw",
    "source": [],
    "metadata": {
     "collapsed": false
    }
   }
  }
 },
 "nbformat": 4,
 "nbformat_minor": 0
}