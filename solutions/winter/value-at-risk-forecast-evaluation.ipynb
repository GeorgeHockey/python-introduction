{
 "cells": [
  {
   "cell_type": "markdown",
   "metadata": {
    "collapsed": true,
    "pycharm": {
     "name": "#%% md\n"
    }
   },
   "source": [
    "## Value-at-Risk: Forecast Evaluation\n",
    "\n",
    "**Functions**\n",
    "\n",
    "`sm.OLS`, `stats.bernoulli`"
   ]
  },
  {
   "cell_type": "markdown",
   "metadata": {
    "collapsed": false
   },
   "source": [
    "### Exercise 61\n",
    "Evaluate the FHS and HS VaR forecasts constructed in the previous exercises using:\n",
    "\n",
    "* HIT tests\n",
    "* The Bernoulli test for unconditionally correct VaR\n",
    "* Christoffersen’s test for conditionally correct VaR\n"
   ]
  },
  {
   "cell_type": "code",
   "execution_count": null,
   "metadata": {
    "collapsed": false,
    "pycharm": {
     "name": "#%%\n",
     "is_executing": false
    }
   },
   "outputs": [],
   "source": [
    "import pandas as pd\n",
    "\n",
    "# Load Data\n",
    "sp500 = pd.read_hdf(\"./data/arch-data.h5\", \"sp500\")        \n",
    "eurusd = pd.read_hdf(\"./data/arch-data.h5\", \"eurusd\")\n",
    "\n",
    "sp500_returns = 100 * sp500.SP500.pct_change().dropna()\n",
    "eurusd_returns = 100 * eurusd.DEXUSEU.pct_change().dropna()\n",
    "\n",
    "with pd.HDFStore(\"./data/hs-var.h5\", mode=\"r\") as hdf:\n",
    "    sp500_hs = hdf.get(\"sp500_var\")\n",
    "    eurusd_hs = hdf.get(\"eurusd_var\")\n",
    "with pd.HDFStore(\"./data/fhs-var.h5\", mode=\"r\") as hdf:\n",
    "    sp500_fhs = hdf.get(\"sp500_var\")\n",
    "    eurusd_fhs = hdf.get(\"eurusd_var\")\n",
    "# Construct HITS"
   ]
  },
  {
   "cell_type": "code",
   "execution_count": null,
   "outputs": [],
   "source": [
    "start = int(0.25 * sp500_returns.shape[0])\n",
    "sp500_fhs.head()\n",
    "multi_day = {}\n",
    "for h in (1, 5, 10):\n",
    "    multi_day[f\"horizon_{h}\"] = sp500_returns.rolling(h).sum()\n",
    "multi_day = pd.DataFrame(multi_day)"
   ],
   "metadata": {
    "collapsed": false,
    "pycharm": {
     "name": "#%%\n",
     "is_executing": false
    }
   }
  },
  {
   "cell_type": "code",
   "execution_count": null,
   "outputs": [],
   "source": [
    "sp500_hs.columns=[\"hs_1\",\"hs_5\",\"hs_10\"]\n",
    "sp500_fhs.columns=[\"fhs_1\",\"fhs_5\",\"fhs_10\"]\n",
    "combined = pd.concat([multi_day, sp500_hs, sp500_fhs], axis=1)\n",
    "combined = combined.dropna(how=\"any\")"
   ],
   "metadata": {
    "collapsed": false,
    "pycharm": {
     "name": "#%%\n",
     "is_executing": false
    }
   }
  },
  {
   "cell_type": "code",
   "execution_count": null,
   "outputs": [],
   "source": [
    "hits = {\"hit_hs_1\": combined.horizon_1 < -combined.hs_1,\n",
    "        \"hit_hs_5\": combined.horizon_5 < -combined.hs_5,\n",
    "        \"hit_hs_10\": combined.horizon_10 < -combined.hs_10,\n",
    "        \"hit_fhs_1\": combined.horizon_1 < -combined.fhs_1,\n",
    "        \"hit_fhs_5\": combined.horizon_5 < -combined.fhs_5,\n",
    "        \"hit_fhs_10\": combined.horizon_10 < -combined.fhs_10}\n",
    "hits = pd.DataFrame(hits).dropna(how=\"all\")\n",
    "hits.head(10)"
   ],
   "metadata": {
    "collapsed": false,
    "pycharm": {
     "name": "#%%\n",
     "is_executing": false
    }
   }
  },
  {
   "cell_type": "code",
   "execution_count": null,
   "outputs": [],
   "source": [
    "import numpy as np\n",
    "import statsmodels.api as sm\n",
    "# TODO: Be careful about lags in multistep and what is known\n",
    "for col in hits:\n",
    "    data = hits[col] - 0.05\n",
    "    key = col.replace(\"hit_\",\"\")\n",
    "    data_with_fcast = pd.concat([data, combined[key]],axis=1).astype(np.double)\n",
    "\n",
    "    x, y = sm.tsa.lagmat(data_with_fcast[col], 10, trim=\"both\", original=\"sep\", use_pandas=True)\n",
    "    x = pd.concat([combined[key], x],axis=1)\n",
    "    x = sm.add_constant(x)\n",
    "    x = x.dropna()\n",
    "    res = sm.OLS(y, x).fit(cov_type=\"HAC\",cov_kwds={\"maxlags\":int(1.2*x.shape[0]**(2/5))})\n",
    "    test_statistic = res.wald_test(np.eye(12), use_f=False)\n",
    "    print(test_statistic)\n",
    "    print(res.summary())"
   ],
   "metadata": {
    "collapsed": false,
    "pycharm": {
     "name": "#%%\n",
     "is_executing": false
    }
   }
  }
 ],
 "metadata": {
  "kernelspec": {
   "name": "pycharm-98793682",
   "language": "python",
   "display_name": "PyCharm (python-introduction)"
  },
  "language_info": {
   "codemirror_mode": {
    "name": "ipython",
    "version": 3
   },
   "file_extension": ".py",
   "mimetype": "text/x-python",
   "name": "python",
   "nbconvert_exporter": "python",
   "pygments_lexer": "ipython3",
   "version": "3.7.6"
  },
  "pycharm": {
   "stem_cell": {
    "cell_type": "raw",
    "source": [],
    "metadata": {
     "collapsed": false
    }
   }
  }
 },
 "nbformat": 4,
 "nbformat_minor": 0
}