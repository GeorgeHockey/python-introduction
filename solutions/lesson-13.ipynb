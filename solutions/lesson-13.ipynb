{
 "cells": [
  {
   "cell_type": "markdown",
   "metadata": {},
   "source": [
    "# Logic and Loops\n",
    "\n",
    "This lesson covers:\n",
    "\n",
    "* Mixing logic and loops \n",
    "* `all` and `any` \n",
    "\n",
    "Begin by loading the data in momentum.csv.\n"
   ]
  },
  {
   "cell_type": "code",
   "execution_count": 1,
   "metadata": {
    "pycharm": {
     "is_executing": false,
     "name": "#%%\n"
    }
   },
   "outputs": [
    {
     "name": "stdout",
     "output_type": "stream",
     "text": [
      "            mom_01  mom_02  mom_03  mom_04  mom_05  mom_06  mom_07  mom_08  \\\n",
      "date                                                                         \n",
      "2016-01-04    0.67   -0.03   -0.93   -1.11   -1.47   -1.66   -1.40   -2.08   \n",
      "2016-01-05   -0.36    0.20   -0.37    0.28    0.16    0.18   -0.22    0.25   \n",
      "2016-01-06   -4.97   -2.33   -2.60   -1.16   -1.70   -1.45   -1.15   -1.46   \n",
      "2016-01-07   -4.91   -1.91   -3.03   -1.87   -2.31   -2.30   -2.70   -2.31   \n",
      "2016-01-08   -0.40   -1.26   -0.98   -1.26   -1.13   -1.02   -0.96   -1.42   \n",
      "\n",
      "            mom_09  mom_10  \n",
      "date                        \n",
      "2016-01-04   -1.71   -2.67  \n",
      "2016-01-05    0.29    0.13  \n",
      "2016-01-06   -1.14   -0.45  \n",
      "2016-01-07   -2.36   -2.66  \n",
      "2016-01-08   -0.94   -1.32  \n"
     ]
    }
   ],
   "source": [
    "# Setup: Load the momentum data\n",
    "\n",
    "import numpy as np\n",
    "import pandas as pd\n",
    "\n",
    "momentum = pd.read_csv('data/momentum.csv', index_col='date', parse_dates=True)\n",
    "\n",
    "print(momentum.head())\n",
    "\n",
    "mom_01 = momentum['mom_01']\n",
    "mom_10 = momentum['mom_10']\n",
    "mom_05 = momentum['mom_05']"
   ]
  },
  {
   "cell_type": "markdown",
   "metadata": {},
   "source": [
    "## Problem: Logical Statements and for Loops\n",
    "Use a for loop along with an if statement to simulate an asymmetric random walk of the form \n",
    "\n",
    "$$y_{i}=y_{i-1}+e_{i}+I_{[e_{i}<0]}e_{i}$$\n",
    "\n",
    "where $I_{[e_{i}<0]}$ is known as an indicator variable that takes the value 1 if the statement in \n",
    "brackets is true. Plot y. $e$ is a standard normal shock. Use `cumsum` to simulate a symmetric\n",
    "one (`z`), and plot the two using the code in the cell below.\n",
    " "
   ]
  },
  {
   "cell_type": "code",
   "execution_count": 2,
   "metadata": {
    "pycharm": {
     "is_executing": false,
     "name": "#%%\n"
    }
   },
   "outputs": [],
   "source": [
    "e = np.random.standard_normal(100)\n",
    "y = np.zeros(100)\n",
    "y[0] = e[0]\n",
    "for i in range(1, 100):\n",
    "    y[i] = y[i-1] + e[i] + e[i] * (e[i] < 0)\n",
    "\n",
    "z = np.cumsum(e)"
   ]
  },
  {
   "cell_type": "code",
   "execution_count": 3,
   "metadata": {
    "collapsed": false,
    "pycharm": {
     "is_executing": false,
     "name": "#%%\n"
    }
   },
   "outputs": [],
   "source": [
    "# Setup: Plot the data\n",
    "%matplotlib inline"
   ]
  },
  {
   "cell_type": "code",
   "execution_count": 4,
   "metadata": {
    "collapsed": false,
    "pycharm": {
     "name": "#%%\n"
    }
   },
   "outputs": [
    {
     "data": {
      "text/plain": [
       "<matplotlib.legend.Legend at 0x1f06dbc5888>"
      ]
     },
     "execution_count": 4,
     "metadata": {},
     "output_type": "execute_result"
    },
    {
     "data": {
      "image/png": "[encoded data removed]",
      "text/plain": [
       "<Figure size 432x288 with 1 Axes>"
      ]
     },
     "metadata": {
      "needs_background": "light"
     },
     "output_type": "display_data"
    }
   ],
   "source": [
    "import matplotlib.pyplot as plt\n",
    "plt.plot(y)\n",
    "plt.plot(z)\n",
    "plt.legend(['y', 'z'])\n"
   ]
  },
  {
   "cell_type": "markdown",
   "metadata": {},
   "source": [
    "## Problem: Selecting Elements using Logical Statements\n",
    "For portfolio 1 and portfolio 10, select the elements that are $<0$, $\\geq 0$ and exactly equal to \n",
    "$0$. Next select the elements where both portfolios are less than $0$. \n"
   ]
  },
  {
   "cell_type": "code",
   "execution_count": 5,
   "metadata": {
    "pycharm": {
     "is_executing": false,
     "name": "#%%\n"
    }
   },
   "outputs": [
    {
     "name": "stdout",
     "output_type": "stream",
     "text": [
      "date\n",
      "2016-01-05   -0.36\n",
      "2016-01-06   -4.97\n",
      "2016-01-07   -4.91\n",
      "2016-01-08   -0.40\n",
      "2016-01-11   -5.14\n",
      "2016-01-12   -1.84\n",
      "2016-01-13   -4.88\n",
      "2016-01-15   -3.85\n",
      "2016-01-19   -4.74\n",
      "2016-01-20   -1.27\n",
      "Name: mom_01, dtype: float64\n",
      "date\n",
      "2016-01-04   -2.67\n",
      "2016-01-06   -0.45\n",
      "2016-01-07   -2.66\n",
      "2016-01-08   -1.32\n",
      "2016-01-13   -3.71\n",
      "2016-01-15   -2.40\n",
      "2016-01-20   -0.42\n",
      "2016-01-25   -1.12\n",
      "2016-01-27   -2.02\n",
      "2016-02-02   -1.70\n",
      "Name: mom_10, dtype: float64\n"
     ]
    }
   ],
   "source": [
    "mom_01_neg = mom_01[mom_01 < 0]\n",
    "mom_10_neg = mom_10[mom_10 < 0]\n",
    "print(mom_01_neg[:10])\n",
    "print(mom_10_neg[:10])"
   ]
  },
  {
   "cell_type": "code",
   "execution_count": 6,
   "metadata": {
    "collapsed": false,
    "pycharm": {
     "is_executing": false,
     "name": "#%%\n"
    }
   },
   "outputs": [
    {
     "name": "stdout",
     "output_type": "stream",
     "text": [
      "Series([], Name: mom_01, dtype: float64)\n",
      "date\n",
      "2016-05-31    0.0\n",
      "2017-02-10    0.0\n",
      "2017-11-08    0.0\n",
      "Name: mom_10, dtype: float64\n"
     ]
    }
   ],
   "source": [
    "mom_01_eq0 = mom_01[mom_01 == 0]\n",
    "# There are none, so this series is empty\n",
    "print(mom_01_eq0)\n",
    "\n",
    "mom_10_eq0 = mom_10[mom_10 == 0]\n",
    "print(mom_10_eq0)"
   ]
  },
  {
   "cell_type": "code",
   "execution_count": 7,
   "metadata": {
    "collapsed": false,
    "pycharm": {
     "is_executing": false,
     "name": "#%%\n"
    }
   },
   "outputs": [
    {
     "name": "stdout",
     "output_type": "stream",
     "text": [
      "date\n",
      "2016-01-04    0.67\n",
      "2016-01-14    3.85\n",
      "2016-01-21    7.67\n",
      "2016-01-22    4.24\n",
      "2016-01-26    4.75\n",
      "2016-01-28    1.04\n",
      "2016-01-29    6.12\n",
      "2016-02-03    4.92\n",
      "2016-02-04    3.26\n",
      "2016-02-12    5.19\n",
      "Name: mom_01, dtype: float64\n"
     ]
    }
   ],
   "source": [
    "mom_01_neg = mom_01[mom_01 >= 0]\n",
    "print(mom_01_neg[:10])"
   ]
  },
  {
   "cell_type": "markdown",
   "metadata": {},
   "source": [
    "## Problem: Using `where`\n",
    "Use `where` to select the index of the elements in portfolio 5 that are negative. Next, use the\n",
    "`where` command in its two output form to determine which elements of the portfolio return matrix\n",
    "are less than -2%."
   ]
  },
  {
   "cell_type": "code",
   "execution_count": 8,
   "metadata": {
    "pycharm": {
     "is_executing": false,
     "name": "#%%\n"
    }
   },
   "outputs": [
    {
     "data": {
      "text/plain": [
       "(array([  0,   2,   3,   4,   5,   7,   9,  10,  11,  14,  16,  19,  20,\n",
       "         23,  24,  25,  26,  27,  31,  32,  34,  38,  44,  48,  49,  54,\n",
       "         55,  56,  57,  60,  62,  63,  65,  70,  71,  75,  77,  79,  80,\n",
       "         81,  83,  84,  87,  89,  90,  91,  93,  97, 100, 105, 109, 110,\n",
       "        111, 112, 113, 114, 117, 118, 120, 121, 126, 135, 136, 138, 140,\n",
       "        142, 143, 144, 145, 146, 148, 150, 152, 154, 156, 160, 162, 164,\n",
       "        167, 168, 170, 173, 175, 176, 178, 180, 183, 184, 187, 189, 190,\n",
       "        193, 195, 197, 199, 202, 205, 206, 207, 209, 210, 211, 212, 213,\n",
       "        217, 223, 228, 230, 231, 232, 238, 240, 242, 245, 246, 247, 249,\n",
       "        251, 254, 256, 261, 263, 265, 268, 270, 271, 275, 276, 277, 283,\n",
       "        287, 290, 292, 293, 294, 295, 300, 302, 303, 304, 305, 307, 308,\n",
       "        309, 314, 316, 318, 320, 321, 322, 324, 325, 327, 331, 332, 335,\n",
       "        338, 339, 341, 342, 344, 345, 353, 357, 358, 360, 365, 368, 373,\n",
       "        375, 379, 381, 382, 391, 393, 395, 398, 399, 400, 402, 403, 404,\n",
       "        407, 409, 410, 413, 414, 416, 421, 424, 428, 430, 433, 437, 444,\n",
       "        445, 448, 451, 452, 455, 457, 460, 463, 465, 467, 468, 471, 472,\n",
       "        474, 477, 479, 485, 486, 491, 492, 495, 498, 500, 502], dtype=int64),)"
      ]
     },
     "execution_count": 8,
     "metadata": {},
     "output_type": "execute_result"
    }
   ],
   "source": [
    "np.where(mom_05 < 0)"
   ]
  },
  {
   "cell_type": "code",
   "execution_count": 9,
   "metadata": {
    "collapsed": false,
    "pycharm": {
     "is_executing": false,
     "name": "#%%\n"
    }
   },
   "outputs": [
    {
     "data": {
      "text/plain": [
       "date\n",
       "2016-01-04   -1.47\n",
       "2016-01-06   -1.70\n",
       "2016-01-07   -2.31\n",
       "2016-01-08   -1.13\n",
       "2016-01-11   -0.43\n",
       "              ... \n",
       "2017-12-14   -0.38\n",
       "2017-12-19   -0.17\n",
       "2017-12-22   -0.08\n",
       "2017-12-27   -0.14\n",
       "2017-12-29   -0.45\n",
       "Name: mom_05, Length: 219, dtype: float64"
      ]
     },
     "execution_count": 9,
     "metadata": {},
     "output_type": "execute_result"
    }
   ],
   "source": [
    "loc = np.where(mom_05 < 0)\n",
    "mom_05.iloc[loc]"
   ]
  },
  {
   "cell_type": "code",
   "execution_count": 10,
   "metadata": {
    "collapsed": false,
    "pycharm": {
     "is_executing": false,
     "name": "#%%\n"
    }
   },
   "outputs": [
    {
     "name": "stdout",
     "output_type": "stream",
     "text": [
      "(array([  0,   0,   0, ..., 502, 502, 502], dtype=int64), array([1, 2, 3, ..., 7, 8, 9], dtype=int64))\n"
     ]
    }
   ],
   "source": [
    "loc = np.where(momentum < 0)\n",
    "# Two awways, rows and columns where momentum < 0\n",
    "print(loc)"
   ]
  },
  {
   "cell_type": "markdown",
   "metadata": {},
   "source": [
    "## Problem: Combining flow control\n",
    "For momentum portfolios 1 and 10, compute the length of the runs in the series. In pseudo code,\n",
    "\n",
    "* Start at i=1 and define run(1) = 1\n",
    "* For i in 2,...,T, define run(i) = run(i-1) + 1 if \n",
    "  $\\textrm{sgn}\\left(r_{i}\\right)=\\textrm{sgn}\\left(r_{i-1}\\right)$ else 1.\n",
    "\n",
    "You will need to use `len` and `zeros`. \n",
    "\n",
    "1. Compute the length longest run in the series and the index of the location of the longest run. \n",
    "Was it positive or negative?\n",
    "2. How many distinct runs lasted 5 or more days?"
   ]
  },
  {
   "cell_type": "code",
   "execution_count": 11,
   "metadata": {
    "pycharm": {
     "is_executing": false,
     "name": "#%%\n"
    }
   },
   "outputs": [
    {
     "name": "stdout",
     "output_type": "stream",
     "text": [
      "9.0\n"
     ]
    },
    {
     "data": {
      "text/plain": [
       "(array([ 43, 212], dtype=int64),)"
      ]
     },
     "execution_count": 11,
     "metadata": {},
     "output_type": "execute_result"
    }
   ],
   "source": [
    "n = len(mom_01)\n",
    "run = np.zeros(n)\n",
    "# or np.zeros_like(mom_01)\n",
    "# or np.zeros(mom_01.shape)\n",
    "run[0] = 1\n",
    "for i in range(n):\n",
    "    if np.sign(mom_01[i]) == np.sign(mom_01[i-1]):\n",
    "        run[i] = run[i-1] + 1\n",
    "    else:\n",
    "        run[i] = 1\n",
    "\n",
    "max_run = run.max()\n",
    "print(max_run)\n",
    "# Happened twice\n",
    "np.where(run==max_run)"
   ]
  },
  {
   "cell_type": "code",
   "execution_count": 12,
   "metadata": {
    "collapsed": false,
    "pycharm": {
     "is_executing": false,
     "name": "#%%\n"
    }
   },
   "outputs": [
    {
     "data": {
      "text/plain": [
       "[<matplotlib.lines.Line2D at 0x1f06dce8708>]"
      ]
     },
     "execution_count": 12,
     "metadata": {},
     "output_type": "execute_result"
    },
    {
     "data": {
      "image/png": "[encoded data removed]",
      "text/plain": [
       "<Figure size 432x288 with 1 Axes>"
      ]
     },
     "metadata": {
      "needs_background": "light"
     },
     "output_type": "display_data"
    }
   ],
   "source": [
    "plt.plot(run)"
   ]
  },
  {
   "cell_type": "markdown",
   "metadata": {
    "collapsed": false,
    "pycharm": {
     "name": "#%% md\n"
    }
   },
   "source": [
    "## Problem: Use `any` to find large losses\n",
    "\n",
    "Use any to determine if any of the 10 portfolios experienced a loss greater than -5%."
   ]
  },
  {
   "cell_type": "code",
   "execution_count": 13,
   "metadata": {
    "collapsed": false,
    "pycharm": {
     "is_executing": false,
     "name": "#%%\n"
    }
   },
   "outputs": [
    {
     "data": {
      "text/plain": [
       "True"
      ]
     },
     "execution_count": 13,
     "metadata": {},
     "output_type": "execute_result"
    }
   ],
   "source": [
    "np.any(momentum < -.05)"
   ]
  },
  {
   "cell_type": "code",
   "execution_count": 14,
   "metadata": {
    "collapsed": false,
    "pycharm": {
     "is_executing": false,
     "name": "#%%\n"
    }
   },
   "outputs": [
    {
     "data": {
      "text/plain": [
       "mom_01    True\n",
       "mom_02    True\n",
       "mom_03    True\n",
       "mom_04    True\n",
       "mom_05    True\n",
       "mom_06    True\n",
       "mom_07    True\n",
       "mom_08    True\n",
       "mom_09    True\n",
       "mom_10    True\n",
       "dtype: bool"
      ]
     },
     "execution_count": 14,
     "metadata": {},
     "output_type": "execute_result"
    }
   ],
   "source": [
    "# Must use axis to perform column-by-column\n",
    "np.any(momentum < -.05, axis=0)"
   ]
  },
  {
   "cell_type": "code",
   "execution_count": 15,
   "metadata": {
    "collapsed": false,
    "pycharm": {
     "is_executing": false,
     "name": "#%%\n"
    }
   },
   "outputs": [
    {
     "data": {
      "text/plain": [
       "mom_01     True\n",
       "mom_02     True\n",
       "mom_03     True\n",
       "mom_04    False\n",
       "mom_05    False\n",
       "mom_06    False\n",
       "mom_07    False\n",
       "mom_08    False\n",
       "mom_09    False\n",
       "mom_10    False\n",
       "dtype: bool"
      ]
     },
     "execution_count": 15,
     "metadata": {},
     "output_type": "execute_result"
    }
   ],
   "source": [
    "# Built-in pandas operations work column-by-column\n",
    "(momentum < -5).any()"
   ]
  },
  {
   "cell_type": "markdown",
   "metadata": {
    "collapsed": false,
    "pycharm": {
     "name": "#%% md\n"
    }
   },
   "source": [
    "Use `all` and negation to do the same check as `any`."
   ]
  },
  {
   "cell_type": "code",
   "execution_count": 16,
   "metadata": {
    "collapsed": false,
    "pycharm": {
     "is_executing": false,
     "name": "#%%\n"
    }
   },
   "outputs": [
    {
     "data": {
      "text/plain": [
       "mom_01     True\n",
       "mom_02     True\n",
       "mom_03     True\n",
       "mom_04    False\n",
       "mom_05    False\n",
       "mom_06    False\n",
       "mom_07    False\n",
       "mom_08    False\n",
       "mom_09    False\n",
       "mom_10    False\n",
       "dtype: bool"
      ]
     },
     "execution_count": 16,
     "metadata": {},
     "output_type": "execute_result"
    }
   ],
   "source": [
    "~((momentum >= -5).all())"
   ]
  },
  {
   "cell_type": "markdown",
   "metadata": {},
   "source": [
    "## Exercises\n",
    "\n",
    "### Exercise: all and any\n",
    "Use all to determine the number of days where all of the portfolio returns were negative. Use any \n",
    "to compute the number of days with at least 1 negative return and with no negative returns (Hint: \n",
    "use negation (~ or `logical_not`)). "
   ]
  }
 ],
 "metadata": {
  "kernelspec": {
   "display_name": "Python 3",
   "language": "python",
   "name": "python3"
  },
  "language_info": {
   "codemirror_mode": {
    "name": "ipython",
    "version": 3
   },
   "file_extension": ".py",
   "mimetype": "text/x-python",
   "name": "python",
   "nbconvert_exporter": "python",
   "pygments_lexer": "ipython3",
   "version": "3.7.4"
  },
  "pycharm": {
   "stem_cell": {
    "cell_type": "raw",
    "metadata": {
     "collapsed": false
    },
    "source": []
   }
  }
 },
 "nbformat": 4,
 "nbformat_minor": 1
}
