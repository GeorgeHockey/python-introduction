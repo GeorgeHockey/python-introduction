{
 "cells": [
  {
   "cell_type": "markdown",
   "metadata": {
    "collapsed": false
   },
   "source": [
    "# Series and DataFrames\n",
    "\n",
    "This lesson covers:\n",
    "\n",
    "* Manually inputting data in scalars, vectors, and matrices \n",
    "* Basic mathematical operations \n",
    "* Saving and loading data \n",
    "\n",
    "<a id=\"stock-data\"></a>\n",
    "## Data\n",
    "September 2018 prices (adjusted closing prices) for the S&P 500 EFT (SPY), Apple (AAPL) and \n",
    "Google (GOOG) are listed below:\n",
    "\n",
    "\n",
    "\n",
    "| Date   | SPY Price | AAPL Price | GOOG Price | \n",
    "|:-------|----------:|-----------:|-----------:| \n",
    "| Sept4  | 289.81    | 228.36     | 1197.00    | \n",
    "| Sept5  | 289.03    | 226.87     | 1186.48    | \n",
    "| Sept6  | 288.16    | 223.10     | 1171.44    | \n",
    "| Sept7  | 287.60    | 221.30     | 1164.83    | \n",
    "| Sept10 | 288.10    | 218.33     | 1164.64    | \n",
    "| Sept11 | 289.05    | 223.85     | 1177.36    | \n",
    "| Sept12 | 289.12    | 221.07     | 1162.82    | \n",
    "| Sept13 | 290.83    | 226.41     | 1175.33    | \n",
    "| Sept14 | 290.88    | 223.84     | 1172.53    | \n",
    "| Sept17 | 289.34    | 217.88     | 1156.05    | \n",
    "| Sept18 | 290.91    | 218.24     | 1161.22    | \n",
    "| Sept19 | 291.44    | 216.64     | 1158.78    | \n",
    "\n",
    "**Prices in September 2018**\n",
    " "
   ]
  },
  {
   "cell_type": "markdown",
   "metadata": {
    "collapsed": false
   },
   "source": [
    "## Problem: Input scalar data\n",
    "\n",
    "Create 3 variables, one labeled `spy`, one labeled `aapl` and one labeled `goog` that contain the\n",
    "September 4 price of the asset. For example, to enter the Google data\n",
    "```python\n",
    "goog = 1197.00\n",
    "```"
   ]
  },
  {
   "cell_type": "code",
   "execution_count": 1,
   "metadata": {
    "collapsed": false,
    "pycharm": {
     "is_executing": false,
     "name": "#%%\n"
    }
   },
   "outputs": [],
   "source": [
    "spy = 289.81\n",
    "aapl = 228.36\n",
    "goog = 1197.00"
   ]
  },
  {
   "cell_type": "markdown",
   "metadata": {
    "collapsed": false
   },
   "source": [
    "## Problem: Print the values\n",
    "Print the values of the three variables you created in the previous step using `print`."
   ]
  },
  {
   "cell_type": "code",
   "execution_count": 2,
   "metadata": {
    "collapsed": false,
    "pycharm": {
     "is_executing": false,
     "name": "#%%\n"
    }
   },
   "outputs": [
    {
     "name": "stdout",
     "output_type": "stream",
     "text": [
      "289.81\n",
      "228.36\n",
      "1197.0\n",
      "289.81 228.36 1197.0\n"
     ]
    }
   ],
   "source": [
    "print(spy)\n",
    "print(aapl)\n",
    "print(goog)\n",
    "print(spy, aapl, goog)"
   ]
  },
  {
   "cell_type": "markdown",
   "metadata": {
    "collapsed": false
   },
   "source": [
    "## Problem: Print the values with formatting\n",
    "Print the values of the three variables you created in the previous step using format strings following\n",
    "the pattern TICKER: Value. For example, you can print the value of Google using `print(f'GOOG: {goog}')`."
   ]
  },
  {
   "cell_type": "code",
   "execution_count": 3,
   "metadata": {
    "collapsed": false,
    "pycharm": {
     "is_executing": false,
     "name": "#%%\n"
    }
   },
   "outputs": [
    {
     "name": "stdout",
     "output_type": "stream",
     "text": [
      "GOOG: 1197.0\n",
      "SPY: 289.81\n",
      "AAPL: 228.36\n"
     ]
    }
   ],
   "source": [
    "print(f'GOOG: {goog}')\n",
    "print(f'SPY: {spy}')\n",
    "print(f'AAPL: {aapl}')"
   ]
  },
  {
   "cell_type": "markdown",
   "metadata": {
    "collapsed": false
   },
   "source": [
    "## Problem: Input a Vector\n",
    "\n",
    "Create vectors for each of the days in the [Table](#stock-data) named `sep_xx` where `xx` is the \n",
    "numeric date. For example,  \n",
    "```python\n",
    "import pandas as pd\n",
    "\n",
    "sep_04 = pd.Series([289.81,228.36,1197.00], index=['SPY','AAPL','GOOG']);\n",
    "```"
   ]
  },
  {
   "cell_type": "code",
   "execution_count": 4,
   "metadata": {
    "collapsed": false,
    "pycharm": {
     "is_executing": false,
     "name": "#%%\n"
    }
   },
   "outputs": [],
   "source": [
    "import pandas as pd\n",
    "\n",
    "sep_04 = pd.Series([289.81, 228.36, 1197.00])\n",
    "sep_05 = pd.Series([289.03, 226.87, 1186.48])\n",
    "sep_06 = pd.Series([288.16, 223.10, 1171.44])\n",
    "sep_07 = pd.Series([287.60, 221.30, 1164.83])\n",
    "sep_10 = pd.Series([288.10, 218.33, 1164.64])\n",
    "sep_11 = pd.Series([289.05, 223.85, 1177.36])\n",
    "sep_12 = pd.Series([289.12, 221.07, 1162.82])\n",
    "sep_13 = pd.Series([290.83, 226.41, 1175.33])\n",
    "sep_14 = pd.Series([290.88, 223.84, 1172.53])\n",
    "sep_17 = pd.Series([289.34, 217.88, 1156.05])\n",
    "sep_18 = pd.Series([290.91, 218.24, 1161.22])\n",
    "sep_19 = pd.Series([291.44, 216.64, 1158.78])\n"
   ]
  },
  {
   "cell_type": "markdown",
   "metadata": {
    "collapsed": false
   },
   "source": [
    "## Problem: Create a Vector of Dates\n",
    "\n",
    "Use the pandas function `pd.to_datetime` to convert a list of string dates to a pandas \n",
    "`DateTimeIndex`, which can be used to set dates in other arrays. For example, the first two dates \n",
    "are\n",
    "```python\n",
    "dates_2 = pd.to_datetime(['4-9-2018','5-9-2018'])\n",
    "print(dates_2)\n",
    "```\n",
    "which produces\n",
    "```python\n",
    "DatetimeIndex(['2018-04-09', '2018-05-09'], dtype='datetime64[ns]', freq=None)\n",
    "```\n",
    "\n",
    "Create a vector containing all of the dates in the table."
   ]
  },
  {
   "cell_type": "code",
   "execution_count": 5,
   "metadata": {
    "collapsed": false,
    "pycharm": {
     "is_executing": false,
     "name": "#%%\n"
    }
   },
   "outputs": [
    {
     "name": "stdout",
     "output_type": "stream",
     "text": [
      "DatetimeIndex(['2018-04-09', '2018-05-09', '2018-06-09', '2018-07-09',\n",
      "               '2018-10-09', '2018-11-09', '2018-12-09', '2018-09-13',\n",
      "               '2018-09-14', '2018-09-17', '2018-09-18', '2018-09-19'],\n",
      "              dtype='datetime64[ns]', freq=None)\n"
     ]
    }
   ],
   "source": [
    "dates = pd.to_datetime(['4-9-2018','5-9-2018','6-9-2018','7-9-2018',\n",
    "                        '10-9-2018','11-9-2018','12-9-2018','13-9-2018','14-9-2018',\n",
    "                        '17-9-2018','18-9-2018','19-9-2018'])\n",
    "print(dates)"
   ]
  },
  {
   "cell_type": "markdown",
   "metadata": {
    "collapsed": false
   },
   "source": [
    "## Problem: Input a Vector with Dates\n",
    "\n",
    "Create vectors for each of the ticker symbols in [Table](#stock-data) named spy, aapl and \n",
    "goog, respectively. Use the variable `dates` that you created in the previous step. \n",
    "\n",
    "For example\n",
    "\n",
    "```python\n",
    "goog = pd.Series([1197.00,1186.48,1171.44,...], index=dates)\n",
    "```"
   ]
  },
  {
   "cell_type": "code",
   "execution_count": 6,
   "metadata": {
    "collapsed": false,
    "pycharm": {
     "is_executing": false,
     "name": "#%%\n"
    }
   },
   "outputs": [],
   "source": [
    "goog = pd.Series([1197.00, 1186.48, 1171.44, 1164.83, 1164.64, 1177.36,\n",
    "                  1162.82, 1175.33, 1172.53, 1156.05, 1161.22, 1158.78],\n",
    "                 index=dates, name='GOOG') \n",
    "aapl = pd.Series([228.36, 226.87, 223.10, 221.30, 218.33, 223.85,\n",
    "                  221.07, 226.41, 223.84, 217.88, 218.24, 216.64],\n",
    "                 index=dates, name='AAPL')\n",
    "spy = pd.Series([289.81, 289.03, 288.16, 287.60, 288.10, 289.05,\n",
    "                 289.12, 290.83, 290.88, 289.34, 290.91, 291.44],\n",
    "                index=dates, name='SPY')"
   ]
  },
  {
   "cell_type": "markdown",
   "metadata": {
    "collapsed": false
   },
   "source": [
    "## Problem: Create a DataFrame\n",
    "\n",
    "Create a DataFrame named `prices` containing [Table](#stock-data). Set the column names equal to \n",
    "the ticker and set the index to the dates you created previously.\n",
    "\n",
    "```python\n",
    "prices = pd.DataFrame([[289.81, 228.36, 1197.00], [289.03, 226.87, 1186.48]],\n",
    "                      columns = ['SPY', 'AAPL', 'GOOG'],index=dates_2)\n",
    "```"
   ]
  },
  {
   "cell_type": "code",
   "execution_count": 7,
   "metadata": {
    "collapsed": false,
    "pycharm": {
     "is_executing": false,
     "name": "#%%\n"
    }
   },
   "outputs": [],
   "source": [
    "prices = pd.DataFrame([[289.81, 228.36, 1197.00],\n",
    "                       [289.03, 226.87, 1186.48],\n",
    "                       [288.16, 223.10, 1171.44],\n",
    "                       [287.60, 221.30, 1164.83],\n",
    "                       [288.10, 218.33, 1164.64],\n",
    "                       [289.05, 223.85, 1177.36],\n",
    "                       [289.12, 221.07, 1162.82],\n",
    "                       [290.83, 226.41, 1175.33],\n",
    "                       [290.88, 223.84, 1172.53],\n",
    "                       [289.34, 217.88, 1156.05],\n",
    "                       [290.91, 218.24, 1161.22],\n",
    "                       [291.44, 216.64, 1158.78]],\n",
    "                      columns=['SPY', 'AAPL', 'GOOG'], index=dates)\n"
   ]
  },
  {
   "cell_type": "markdown",
   "metadata": {
    "collapsed": false
   },
   "source": [
    "## Problem: Construct a DataFrame from Series\n",
    "\n",
    "Create a second DataFrame named prices_row from the row vectors previously entered such that \n",
    "the results are identical to prices. For example, the first two days worth of data are\n",
    "\n",
    "```python\n",
    "pricess_row = pd.DataFrame([Sep04, Sep05])\n",
    "# Set the index after using concat to join\n",
    "pricess_row.index = dates_2\n",
    "```\n",
    "\n",
    "Create a third DataFrame named prices_col from the 3 column vectors entered such that the results \n",
    "are identical to prices\n",
    "```python\n",
    "prices_col = pd.DataFrame([SPY,APPL,GOOG]).T\n",
    "```\n",
    "\n",
    "*Note*: The `.T` above transposes the 2-d array since `DataFrame` builds the array by rows.\n",
    "\n",
    "Verify that all three matrices are identical by printing the difference, e.g., \n",
    "\n",
    "```python\n",
    "print(pricescol - prices)\n",
    "```\n",
    "\n",
    "and that all elements are 0. "
   ]
  },
  {
   "cell_type": "code",
   "execution_count": 8,
   "metadata": {
    "collapsed": false,
    "pycharm": {
     "is_executing": false,
     "name": "#%%\n"
    }
   },
   "outputs": [
    {
     "name": "stdout",
     "output_type": "stream",
     "text": [
      "               SPY    AAPL     GOOG\n",
      "2018-04-09  289.81  228.36  1197.00\n",
      "2018-05-09  289.03  226.87  1186.48\n",
      "2018-06-09  288.16  223.10  1171.44\n",
      "2018-07-09  287.60  221.30  1164.83\n",
      "2018-10-09  288.10  218.33  1164.64\n",
      "2018-11-09  289.05  223.85  1177.36\n",
      "2018-12-09  289.12  221.07  1162.82\n",
      "2018-09-13  290.83  226.41  1175.33\n",
      "2018-09-14  290.88  223.84  1172.53\n",
      "2018-09-17  289.34  217.88  1156.05\n",
      "2018-09-18  290.91  218.24  1161.22\n",
      "2018-09-19  291.44  216.64  1158.78\n",
      "            SPY  AAPL  GOOG\n",
      "2018-04-09  0.0   0.0   0.0\n",
      "2018-05-09  0.0   0.0   0.0\n",
      "2018-06-09  0.0   0.0   0.0\n",
      "2018-07-09  0.0   0.0   0.0\n",
      "2018-10-09  0.0   0.0   0.0\n",
      "2018-11-09  0.0   0.0   0.0\n",
      "2018-12-09  0.0   0.0   0.0\n",
      "2018-09-13  0.0   0.0   0.0\n",
      "2018-09-14  0.0   0.0   0.0\n",
      "2018-09-17  0.0   0.0   0.0\n",
      "2018-09-18  0.0   0.0   0.0\n",
      "2018-09-19  0.0   0.0   0.0\n",
      "            SPY  AAPL  GOOG\n",
      "2018-04-09  0.0   0.0   0.0\n",
      "2018-05-09  0.0   0.0   0.0\n",
      "2018-06-09  0.0   0.0   0.0\n",
      "2018-07-09  0.0   0.0   0.0\n",
      "2018-10-09  0.0   0.0   0.0\n",
      "2018-11-09  0.0   0.0   0.0\n",
      "2018-12-09  0.0   0.0   0.0\n",
      "2018-09-13  0.0   0.0   0.0\n",
      "2018-09-14  0.0   0.0   0.0\n",
      "2018-09-17  0.0   0.0   0.0\n",
      "2018-09-18  0.0   0.0   0.0\n",
      "2018-09-19  0.0   0.0   0.0\n"
     ]
    },
    {
     "data": {
      "text/html": [
       "<div>\n",
       "<style scoped>\n",
       "    .dataframe tbody tr th:only-of-type {\n",
       "        vertical-align: middle;\n",
       "    }\n",
       "\n",
       "    .dataframe tbody tr th {\n",
       "        vertical-align: top;\n",
       "    }\n",
       "\n",
       "    .dataframe thead th {\n",
       "        text-align: right;\n",
       "    }\n",
       "</style>\n",
       "<table border=\"1\" class=\"dataframe\">\n",
       "  <thead>\n",
       "    <tr style=\"text-align: right;\">\n",
       "      <th></th>\n",
       "      <th>SPY</th>\n",
       "      <th>AAPL</th>\n",
       "      <th>GOOG</th>\n",
       "    </tr>\n",
       "  </thead>\n",
       "  <tbody>\n",
       "    <tr>\n",
       "      <td>2018-04-09</td>\n",
       "      <td>289.81</td>\n",
       "      <td>228.36</td>\n",
       "      <td>1197.00</td>\n",
       "    </tr>\n",
       "    <tr>\n",
       "      <td>2018-05-09</td>\n",
       "      <td>289.03</td>\n",
       "      <td>226.87</td>\n",
       "      <td>1186.48</td>\n",
       "    </tr>\n",
       "    <tr>\n",
       "      <td>2018-06-09</td>\n",
       "      <td>288.16</td>\n",
       "      <td>223.10</td>\n",
       "      <td>1171.44</td>\n",
       "    </tr>\n",
       "    <tr>\n",
       "      <td>2018-07-09</td>\n",
       "      <td>287.60</td>\n",
       "      <td>221.30</td>\n",
       "      <td>1164.83</td>\n",
       "    </tr>\n",
       "    <tr>\n",
       "      <td>2018-10-09</td>\n",
       "      <td>288.10</td>\n",
       "      <td>218.33</td>\n",
       "      <td>1164.64</td>\n",
       "    </tr>\n",
       "    <tr>\n",
       "      <td>2018-11-09</td>\n",
       "      <td>289.05</td>\n",
       "      <td>223.85</td>\n",
       "      <td>1177.36</td>\n",
       "    </tr>\n",
       "    <tr>\n",
       "      <td>2018-12-09</td>\n",
       "      <td>289.12</td>\n",
       "      <td>221.07</td>\n",
       "      <td>1162.82</td>\n",
       "    </tr>\n",
       "    <tr>\n",
       "      <td>2018-09-13</td>\n",
       "      <td>290.83</td>\n",
       "      <td>226.41</td>\n",
       "      <td>1175.33</td>\n",
       "    </tr>\n",
       "    <tr>\n",
       "      <td>2018-09-14</td>\n",
       "      <td>290.88</td>\n",
       "      <td>223.84</td>\n",
       "      <td>1172.53</td>\n",
       "    </tr>\n",
       "    <tr>\n",
       "      <td>2018-09-17</td>\n",
       "      <td>289.34</td>\n",
       "      <td>217.88</td>\n",
       "      <td>1156.05</td>\n",
       "    </tr>\n",
       "    <tr>\n",
       "      <td>2018-09-18</td>\n",
       "      <td>290.91</td>\n",
       "      <td>218.24</td>\n",
       "      <td>1161.22</td>\n",
       "    </tr>\n",
       "    <tr>\n",
       "      <td>2018-09-19</td>\n",
       "      <td>291.44</td>\n",
       "      <td>216.64</td>\n",
       "      <td>1158.78</td>\n",
       "    </tr>\n",
       "  </tbody>\n",
       "</table>\n",
       "</div>"
      ],
      "text/plain": [
       "               SPY    AAPL     GOOG\n",
       "2018-04-09  289.81  228.36  1197.00\n",
       "2018-05-09  289.03  226.87  1186.48\n",
       "2018-06-09  288.16  223.10  1171.44\n",
       "2018-07-09  287.60  221.30  1164.83\n",
       "2018-10-09  288.10  218.33  1164.64\n",
       "2018-11-09  289.05  223.85  1177.36\n",
       "2018-12-09  289.12  221.07  1162.82\n",
       "2018-09-13  290.83  226.41  1175.33\n",
       "2018-09-14  290.88  223.84  1172.53\n",
       "2018-09-17  289.34  217.88  1156.05\n",
       "2018-09-18  290.91  218.24  1161.22\n",
       "2018-09-19  291.44  216.64  1158.78"
      ]
     },
     "execution_count": 8,
     "metadata": {},
     "output_type": "execute_result"
    }
   ],
   "source": [
    "prices_row = pd.DataFrame([sep_04, sep_05, sep_06, sep_07, sep_10, sep_11,\n",
    "                           sep_12, sep_13, sep_14, sep_17, sep_18, sep_19])\n",
    "prices_row.columns = ['SPY', 'AAPL', 'GOOG']\n",
    "prices_row.index = dates\n",
    "print(prices_row)\n",
    "print(prices - prices_row)\n",
    "# No need to set the index or the column names since index\n",
    "# and name set in Series\n",
    "prices_col = pd.DataFrame([spy, aapl, goog]).T\n",
    "print(prices - prices_col)\n",
    "prices_col\n"
   ]
  },
  {
   "cell_type": "markdown",
   "metadata": {
    "collapsed": false,
    "pycharm": {
     "name": "#%% md\n"
    }
   },
   "source": [
    "Save the price data\n",
    "\n",
    "This block saves prices to a HDF file for use in later lessons."
   ]
  },
  {
   "cell_type": "code",
   "execution_count": 9,
   "metadata": {
    "collapsed": false,
    "pycharm": {
     "is_executing": false,
     "name": "#%%\n"
    }
   },
   "outputs": [],
   "source": [
    "# Setup: Save prices, goog and sep_04 into a single file for use in other lessons\n",
    "\n",
    "# Only run if prices has been defined\n",
    "if 'prices' in globals():\n",
    "    with pd.HDFStore('lesson-6.h5', mode='w') as h5:\n",
    "        h5.put('prices', prices)\n",
    "        h5.put('goog', goog)\n",
    "        h5.put('sep_04', sep_04)"
   ]
  }
 ],
 "metadata": {
  "kernelspec": {
   "display_name": "Python 3",
   "language": "python",
   "name": "python3"
  },
  "language_info": {
   "codemirror_mode": {
    "name": "ipython",
    "version": 3
   },
   "file_extension": ".py",
   "mimetype": "text/x-python",
   "name": "python",
   "nbconvert_exporter": "python",
   "pygments_lexer": "ipython3",
   "version": "3.7.4"
  },
  "pycharm": {
   "stem_cell": {
    "cell_type": "raw",
    "metadata": {
     "collapsed": false
    },
    "source": []
   }
  }
 },
 "nbformat": 4,
 "nbformat_minor": 1
}
