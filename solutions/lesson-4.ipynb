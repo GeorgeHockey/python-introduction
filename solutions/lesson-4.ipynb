{
 "cells": [
  {
   "cell_type": "markdown",
   "metadata": {
    "collapsed": true,
    "pycharm": {
     "name": "#%% md\n"
    }
   },
   "source": [
    "# Calling Functions\n",
    "\n",
    "This lesson covers:\n",
    "\n",
    "\n",
    "* Calling functions with more than one input and output \n",
    "* Calling functions when some inputs are not used "
   ]
  },
  {
   "cell_type": "markdown",
   "metadata": {
    "collapsed": false
   },
   "source": [
    "Read the data in momentum.csv and creating some variable. This cell uses some magic to automate \n",
    "repeated typing.\n"
   ]
  },
  {
   "cell_type": "code",
   "execution_count": 1,
   "metadata": {
    "collapsed": false,
    "pycharm": {
     "is_executing": false,
     "name": "#%%\n"
    }
   },
   "outputs": [
    {
     "name": "stdout",
     "output_type": "stream",
     "text": [
      "         date  mom_01  mom_02  mom_03  mom_04  mom_05  mom_06  mom_07  mom_08  \\\n",
      "0  2016-01-04    0.67   -0.03   -0.93   -1.11   -1.47   -1.66   -1.40   -2.08   \n",
      "1  2016-01-05   -0.36    0.20   -0.37    0.28    0.16    0.18   -0.22    0.25   \n",
      "2  2016-01-06   -4.97   -2.33   -2.60   -1.16   -1.70   -1.45   -1.15   -1.46   \n",
      "3  2016-01-07   -4.91   -1.91   -3.03   -1.87   -2.31   -2.30   -2.70   -2.31   \n",
      "4  2016-01-08   -0.40   -1.26   -0.98   -1.26   -1.13   -1.02   -0.96   -1.42   \n",
      "\n",
      "   mom_09  mom_10  \n",
      "0   -1.71   -2.67  \n",
      "1    0.29    0.13  \n",
      "2   -1.14   -0.45  \n",
      "3   -2.36   -2.66  \n",
      "4   -0.94   -1.32  \n"
     ]
    }
   ],
   "source": [
    "# Setup: Load the momentum data\n",
    "import pandas as pd\n",
    "\n",
    "momentum = pd.read_csv('data/momentum.csv')\n",
    "\n",
    "print(momentum.head())\n",
    "\n",
    "mom_01 = momentum['mom_01']\n",
    "mom_10 = momentum['mom_10']"
   ]
  },
  {
   "cell_type": "markdown",
   "metadata": {
    "collapsed": false
   },
   "source": [
    "This data set contains 2 years of data on the 10 momentum portfolios from 2016–2018. The variables\n",
    "are named mom_XX where XX ranges from 01 (work return over the past 12 months) to 10 (best return \n",
    "over the past 12 months). "
   ]
  },
  {
   "cell_type": "markdown",
   "metadata": {
    "collapsed": false,
    "pycharm": {
     "name": "#%% md\n"
    }
   },
   "source": [
    "## Problem: Calling Functions\n",
    "Functions were used in the previous lesson. Get used to calling functions by computing the mean,\n",
    "std, kurtosis, max, and min of the 10 momentum portfolios. Also, explore the help \n",
    "available for calling functions `?` operator. For example,\n",
    "\n",
    "```python\n",
    "momentum.std?\n",
    "```  \n",
    "\n",
    "opens a help window that shows the inputs and output, while\n",
    "\n",
    "```python\n",
    "help(momentum.std)\n",
    "```\n",
    "\n",
    "shows the help.\n",
    "\n",
    "Use the functions `mean`, `std`, `skew` and `kurt` to print the\n",
    "values for `mom_01`."
   ]
  },
  {
   "cell_type": "code",
   "execution_count": 2,
   "metadata": {
    "collapsed": false,
    "pycharm": {
     "is_executing": false,
     "name": "#%%\n"
    }
   },
   "outputs": [
    {
     "name": "stdout",
     "output_type": "stream",
     "text": [
      "0.10190854870775348 1.7201674428556768 -0.10718993942161407 3.6858942336434177\n",
      "0.06095427435387675 0.9514153243557435 -0.7699794641799718 2.6473273511803805\n"
     ]
    }
   ],
   "source": [
    "# Use the functions attached to the Series\n",
    "print(mom_01.mean(), mom_01.std(), mom_01.skew(), mom_01.kurt())\n",
    "print(mom_10.mean(), mom_10.std(), mom_10.skew(), mom_10.kurt())"
   ]
  },
  {
   "cell_type": "markdown",
   "metadata": {
    "collapsed": false,
    "pycharm": {
     "name": "#%% md\n"
    }
   },
   "source": [
    "## Problem: Use NumPy and SciPy functions\n",
    "\n",
    "Use the NumPy functions `mean` and `std` and the SciPy `stats` functions\n",
    "`skew` and `kurtosis` to produce the same output."
   ]
  },
  {
   "cell_type": "code",
   "execution_count": 3,
   "metadata": {
    "collapsed": false,
    "pycharm": {
     "is_executing": false,
     "name": "#%%\n"
    }
   },
   "outputs": [
    {
     "name": "stdout",
     "output_type": "stream",
     "text": [
      "0.10190854870775348 1.718456684160085 -0.10687002235784658 3.6374521972731158\n"
     ]
    }
   ],
   "source": [
    "# Use the NumPy functions and the statistics function in SciPY\n",
    "# These are the same up to some bias-adjustment constants that depend only on sample size\n",
    "import numpy as np\n",
    "import scipy.stats as stats\n",
    "print(np.mean(mom_01), np.std(mom_01), stats.skew(mom_01), stats.kurtosis(mom_01))"
   ]
  },
  {
   "cell_type": "markdown",
   "metadata": {
    "collapsed": false,
    "pycharm": {
     "name": "#%% md\n"
    }
   },
   "source": [
    "## Problem: Calling Functions with 2 Outputs\n",
    "\n",
    "Some useful functions return 2 or more outputs. One example is ``np.linalg.slogdet`` \n",
    "computes the signed log determinant of a square array. It returns two output,\n",
    "the sign and the log of the absolute determinant.\n",
    "\n",
    "Use this function to compute the sign and log determinant of the 2 by 2 array:\n",
    "\n",
    "```\n",
    "1  2\n",
    "2  9\n",
    "```  "
   ]
  },
  {
   "cell_type": "code",
   "execution_count": 4,
   "metadata": {
    "collapsed": false,
    "pycharm": {
     "is_executing": false,
     "name": "#%%\n"
    }
   },
   "outputs": [
    {
     "name": "stdout",
     "output_type": "stream",
     "text": [
      "(1.0, 1.6094379124341005)\n",
      "1.0\n",
      "1.6094379124341005\n"
     ]
    }
   ],
   "source": [
    "# The full set of outputs is returned as a tuple\n",
    "data = np.array([[1,2],[2,9]])\n",
    "output = np.linalg.slogdet(data)\n",
    "print(output)\n",
    "\n",
    "# You can also supply as many output as required to directly assign each component\n",
    "sign, log_det = np.linalg.slogdet(data)\n",
    "print(sign)\n",
    "print(log_det)\n"
   ]
  },
  {
   "cell_type": "markdown",
   "metadata": {
    "collapsed": false
   },
   "source": [
    "## Problem: Calling Functions with 2 Inputs\n",
    "\n",
    "Many functions take two or more inputs. Like outputs, the inputs are simply listed in order\n",
    "separated by commas. Use `np.linspace` to produce a series of 11 points evenly spaced between 0 \n",
    "and 1.  "
   ]
  },
  {
   "cell_type": "code",
   "execution_count": 5,
   "metadata": {
    "collapsed": false,
    "pycharm": {
     "is_executing": false,
     "name": "#%%\n"
    }
   },
   "outputs": [
    {
     "data": {
      "text/plain": [
       "array([0. , 0.1, 0.2, 0.3, 0.4, 0.5, 0.6, 0.7, 0.8, 0.9, 1. ])"
      ]
     },
     "execution_count": 5,
     "metadata": {},
     "output_type": "execute_result"
    }
   ],
   "source": [
    "np.linspace(0, 1, 11)"
   ]
  },
  {
   "cell_type": "markdown",
   "metadata": {
    "collapsed": false
   },
   "source": [
    "## Problem: Calling Functions using Keyword Arguments\n",
    "\n",
    "Many functions have optional arguments. You can see these in a docstring since\n",
    "optional arguments take the form `variable=default`. For example, see\n",
    "the help for `np.mean`"
   ]
  },
  {
   "cell_type": "code",
   "execution_count": 6,
   "metadata": {
    "collapsed": false,
    "pycharm": {
     "is_executing": false,
     "name": "#%%\n"
    }
   },
   "outputs": [],
   "source": [
    "pd.DataFrame.std?"
   ]
  },
  {
   "cell_type": "markdown",
   "metadata": {
    "collapsed": false,
    "pycharm": {
     "name": "#%% md\n"
    }
   },
   "source": [
    "which is \n",
    "\n",
    "```python\n",
    "pd.DataFrame.std(self, axis=None, skipna=None, level=None, ddof=1, numeric_only=None)\n",
    "```\n",
    "\n",
    "`std`  computes the standard deviation.\n",
    "\n",
    "This tells us that only `self` (which is the DataFrame) is required and that the other 5 inputs\n",
    "can be omitted if you are happy with the defaults.  However, if we want to change some\n",
    "of the optional inputs, then we can directly use the inputs name in the function call.\n",
    "\n",
    "By default `std` divides by `n-1`.  The `1` can be set using `ddof`.\n",
    "\n",
    "Compute `std` using `ddof=0` on the momentum data."
   ]
  },
  {
   "cell_type": "code",
   "execution_count": 7,
   "metadata": {
    "collapsed": false,
    "pycharm": {
     "is_executing": false,
     "name": "#%%\n"
    }
   },
   "outputs": [
    {
     "data": {
      "text/plain": [
       "mom_01    1.718457\n",
       "mom_02    1.136706\n",
       "mom_03    0.920436\n",
       "mom_04    0.816846\n",
       "mom_05    0.755038\n",
       "mom_06    0.738145\n",
       "mom_07    0.708202\n",
       "mom_08    0.719665\n",
       "mom_09    0.772839\n",
       "mom_10    0.950469\n",
       "dtype: float64"
      ]
     },
     "execution_count": 7,
     "metadata": {},
     "output_type": "execute_result"
    }
   ],
   "source": [
    "momentum.std(ddof=0)"
   ]
  },
  {
   "cell_type": "code",
   "execution_count": 8,
   "metadata": {
    "collapsed": false,
    "pycharm": {
     "is_executing": false,
     "name": "#%%\n"
    }
   },
   "outputs": [
    {
     "data": {
      "text/plain": [
       "mom_01    1.720167\n",
       "mom_02    1.137837\n",
       "mom_03    0.921353\n",
       "mom_04    0.817660\n",
       "mom_05    0.755789\n",
       "mom_06    0.738880\n",
       "mom_07    0.708907\n",
       "mom_08    0.720382\n",
       "mom_09    0.773608\n",
       "mom_10    0.951415\n",
       "dtype: float64"
      ]
     },
     "execution_count": 8,
     "metadata": {},
     "output_type": "execute_result"
    }
   ],
   "source": [
    "momentum.std()  # Default is 1, so these value are slightly larger"
   ]
  }
 ],
 "metadata": {
  "kernelspec": {
   "display_name": "Python 3",
   "language": "python",
   "name": "python3"
  },
  "language_info": {
   "codemirror_mode": {
    "name": "ipython",
    "version": 3
   },
   "file_extension": ".py",
   "mimetype": "text/x-python",
   "name": "python",
   "nbconvert_exporter": "python",
   "pygments_lexer": "ipython3",
   "version": "3.7.4"
  },
  "pycharm": {
   "stem_cell": {
    "cell_type": "raw",
    "metadata": {
     "collapsed": false
    },
    "source": []
   }
  }
 },
 "nbformat": 4,
 "nbformat_minor": 0
}
