{
 "cells": [
  {
   "cell_type": "markdown",
   "metadata": {
    "collapsed": false
   },
   "source": [
    "# Series and DataFrames\n",
    "\n",
    "This lesson covers:\n",
    "\n",
    "* Constructing pandas Series and DataFrames \n",
    "\n",
    "<a id=\"stock-data\"></a>\n",
    "## Data\n",
    "September 2018 prices (adjusted closing prices) for the S&P 500 EFT (SPY),\n",
    "Apple (AAPL) and Google (GOOG) are listed below:\n",
    "\n",
    "\n",
    "\n",
    "| Date   | SPY Price | AAPL Price | GOOG Price | \n",
    "|:-------|----------:|-----------:|-----------:| \n",
    "| Sept4  | 289.81    | 228.36     | 1197.00    | \n",
    "| Sept5  | 289.03    | 226.87     | 1186.48    | \n",
    "| Sept6  | 288.16    | 223.10     | 1171.44    | \n",
    "| Sept7  | 287.60    | 221.30     | 1164.83    | \n",
    "| Sept10 | 288.10    | 218.33     | 1164.64    | \n",
    "| Sept11 | 289.05    | 223.85     | 1177.36    | \n",
    "| Sept12 | 289.12    | 221.07     | 1162.82    | \n",
    "| Sept13 | 290.83    | 226.41     | 1175.33    | \n",
    "| Sept14 | 290.88    | 223.84     | 1172.53    | \n",
    "| Sept17 | 289.34    | 217.88     | 1156.05    | \n",
    "| Sept18 | 290.91    | 218.24     | 1161.22    | \n",
    "| Sept19 | 291.44    | 216.64     | 1158.78    | \n",
    "\n",
    "**Prices in September 2018**\n",
    " "
   ]
  },
  {
   "cell_type": "markdown",
   "metadata": {
    "collapsed": false
   },
   "source": []
  },
  {
   "cell_type": "markdown",
   "metadata": {
    "collapsed": false
   },
   "source": [
    "## Problem: Input a pandas Series\n",
    "\n",
    "Create vectors for each of the days in the [Table](#stock-data) named `sep_xx`\n",
    "where `xx` is the numeric date. For example,  \n",
    "```python\n",
    "import pandas as pd\n",
    "\n",
    "sep_04 = pd.Series([289.81,228.36,1197.00], index=['SPY','AAPL','GOOG']);\n",
    "```\n",
    "\n",
    "Using the ticker names as the `index` of each series"
   ]
  },
  {
   "cell_type": "code",
   "execution_count": 1,
   "metadata": {
    "collapsed": false,
    "pycharm": {
     "is_executing": false,
     "name": "#%%\n"
    }
   },
   "outputs": [],
   "source": [
    "import pandas as pd\n",
    "\n",
    "tickers = ['SPY', 'GOOG', 'AAPL']\n",
    "\n",
    "sep_04 = pd.Series([289.81, 228.36, 1197.00], index=tickers)\n",
    "sep_05 = pd.Series([289.03, 226.87, 1186.48], index=tickers)\n",
    "sep_06 = pd.Series([288.16, 223.10, 1171.44], index=tickers)\n",
    "sep_07 = pd.Series([287.60, 221.30, 1164.83], index=tickers)\n",
    "sep_10 = pd.Series([288.10, 218.33, 1164.64], index=tickers)\n",
    "sep_11 = pd.Series([289.05, 223.85, 1177.36], index=tickers)\n",
    "sep_12 = pd.Series([289.12, 221.07, 1162.82], index=tickers)\n",
    "sep_13 = pd.Series([290.83, 226.41, 1175.33], index=tickers)\n",
    "sep_14 = pd.Series([290.88, 223.84, 1172.53], index=tickers)\n",
    "sep_17 = pd.Series([289.34, 217.88, 1156.05], index=tickers)\n",
    "sep_18 = pd.Series([290.91, 218.24, 1161.22], index=tickers)\n",
    "sep_19 = pd.Series([291.44, 216.64, 1158.78], index=tickers)\n"
   ]
  },
  {
   "cell_type": "markdown",
   "metadata": {
    "collapsed": false
   },
   "source": [
    "## Problem: Create a Vector of Dates\n",
    "\n",
    "Use the pandas function `pd.to_datetime` to convert a list of string dates to\n",
    "a pandas `DateTimeIndex`, which can be used to set dates in other arrays.\n",
    "\n",
    "For example, the first two dates are\n",
    "```python\n",
    "import pandas as pd\n",
    "\n",
    "dates_2 = pd.to_datetime(['4-9-2018','5-9-2018'])\n",
    "print(dates_2)\n",
    "```\n",
    "which produces\n",
    "\n",
    "```\n",
    "DatetimeIndex(['2018-04-09', '2018-05-09'], dtype='datetime64[ns]', freq=None)\n",
    "```\n",
    "\n",
    "Create a vector containing all of the dates in the table."
   ]
  },
  {
   "cell_type": "code",
   "execution_count": 2,
   "metadata": {
    "collapsed": false,
    "pycharm": {
     "is_executing": false,
     "name": "#%%\n"
    }
   },
   "outputs": [
    {
     "name": "stdout",
     "output_type": "stream",
     "text": [
      "DatetimeIndex(['2018-04-09', '2018-05-09', '2018-06-09', '2018-07-09',\n",
      "               '2018-10-09', '2018-11-09', '2018-12-09', '2018-09-13',\n",
      "               '2018-09-14', '2018-09-17', '2018-09-18', '2018-09-19'],\n",
      "              dtype='datetime64[ns]', freq=None)\n"
     ]
    }
   ],
   "source": [
    "dates = pd.to_datetime(['4-9-2018','5-9-2018','6-9-2018','7-9-2018',\n",
    "                        '10-9-2018','11-9-2018','12-9-2018','13-9-2018','14-9-2018',\n",
    "                        '17-9-2018','18-9-2018','19-9-2018'])\n",
    "print(dates)"
   ]
  },
  {
   "cell_type": "markdown",
   "metadata": {
    "collapsed": false
   },
   "source": [
    "## Problem: Input a Series with Dates\n",
    "\n",
    "Create vectors for each of the ticker symbols in [Table](#stock-data) named\n",
    "spy, aapl and goog, respectively. Use the variable `dates` that you created\n",
    "in the previous step as the index. \n",
    "\n",
    "For example\n",
    "\n",
    "```python\n",
    "goog = pd.Series([1197.00,1186.48,1171.44,...], index=dates)\n",
    "```\n",
    "\n",
    "Set the `name` of each series as the series' ticker."
   ]
  },
  {
   "cell_type": "code",
   "execution_count": 3,
   "metadata": {
    "collapsed": false,
    "pycharm": {
     "is_executing": false,
     "name": "#%%\n"
    }
   },
   "outputs": [],
   "source": [
    "goog = pd.Series([1197.00, 1186.48, 1171.44, 1164.83, 1164.64, 1177.36,\n",
    "                  1162.82, 1175.33, 1172.53, 1156.05, 1161.22, 1158.78],\n",
    "                 index=dates, name='GOOG') \n",
    "aapl = pd.Series([228.36, 226.87, 223.10, 221.30, 218.33, 223.85,\n",
    "                  221.07, 226.41, 223.84, 217.88, 218.24, 216.64],\n",
    "                 index=dates, name='AAPL')\n",
    "spy = pd.Series([289.81, 289.03, 288.16, 287.60, 288.10, 289.05,\n",
    "                 289.12, 290.83, 290.88, 289.34, 290.91, 291.44],\n",
    "                index=dates, name='SPY')"
   ]
  },
  {
   "cell_type": "markdown",
   "metadata": {
    "collapsed": false
   },
   "source": [
    "## Problem: Create a DataFrame\n",
    "\n",
    "Create a DataFrame named `prices` containing [Table](#stock-data). Set the\n",
    "column names equal to the ticker and set the index to `dates`.\n",
    "\n",
    "```python\n",
    "prices = pd.DataFrame([[289.81, 228.36, 1197.00], [289.03, 226.87, 1186.48]],\n",
    "                      columns = ['SPY', 'AAPL', 'GOOG'],index=dates_2)\n",
    "```"
   ]
  },
  {
   "cell_type": "code",
   "execution_count": 4,
   "metadata": {
    "collapsed": false,
    "pycharm": {
     "is_executing": false,
     "name": "#%%\n"
    }
   },
   "outputs": [],
   "source": [
    "prices = pd.DataFrame([[289.81, 228.36, 1197.00],\n",
    "                       [289.03, 226.87, 1186.48],\n",
    "                       [288.16, 223.10, 1171.44],\n",
    "                       [287.60, 221.30, 1164.83],\n",
    "                       [288.10, 218.33, 1164.64],\n",
    "                       [289.05, 223.85, 1177.36],\n",
    "                       [289.12, 221.07, 1162.82],\n",
    "                       [290.83, 226.41, 1175.33],\n",
    "                       [290.88, 223.84, 1172.53],\n",
    "                       [289.34, 217.88, 1156.05],\n",
    "                       [290.91, 218.24, 1161.22],\n",
    "                       [291.44, 216.64, 1158.78]],\n",
    "                      columns=['SPY', 'AAPL', 'GOOG'], index=dates)\n"
   ]
  },
  {
   "cell_type": "markdown",
   "metadata": {
    "collapsed": false
   },
   "source": [
    "Save the price data\n",
    "\n",
    "This block saves prices to a HDF file for use in later lessons. The\n",
    "function used to save the data is covered in a later lesson.\n",
    "\n",
    "This function uses some sophisticated ggeatures of Python. Do not\n",
    "worry if it is unclear at this point."
   ]
  },
  {
   "cell_type": "code",
   "execution_count": 5,
   "metadata": {
    "collapsed": false,
    "pycharm": {
     "is_executing": false,
     "name": "#%%\n"
    }
   },
   "outputs": [],
   "source": [
    "# Setup: Save prices, goog and sep_04 into a single file for use in other lessons\n",
    "\n",
    "# Only run if prices has been defined\n",
    "if 'prices' in globals():\n",
    "    dates = pd.Series(dates)\n",
    "    variables = ['sep_04', 'sep_05', 'sep_06', 'sep_07', 'sep_10', 'sep_11',\n",
    "                 'sep_12', 'sep_13', 'sep_14', 'sep_17', 'sep_18', 'sep_19',\n",
    "                 'spy', 'goog', 'aapl', 'prices', 'dates']\n",
    "    with pd.HDFStore('data/dataframes.h5', mode='w') as h5:\n",
    "        for var in variables:\n",
    "            h5.put(var, globals()[var])"
   ]
  }
 ],
 "metadata": {
  "kernelspec": {
   "display_name": "Python 3",
   "language": "python",
   "name": "python3"
  },
  "language_info": {
   "codemirror_mode": {
    "name": "ipython",
    "version": 3
   },
   "file_extension": ".py",
   "mimetype": "text/x-python",
   "name": "python",
   "nbconvert_exporter": "python",
   "pygments_lexer": "ipython3",
   "version": "3.7.4"
  },
  "pycharm": {
   "stem_cell": {
    "cell_type": "raw",
    "metadata": {
     "collapsed": false
    },
    "source": []
   }
  }
 },
 "nbformat": 4,
 "nbformat_minor": 1
}
