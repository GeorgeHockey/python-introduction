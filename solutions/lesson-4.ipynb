{
 "cells": [
  {
   "cell_type": "markdown",
   "metadata": {
    "collapsed": true,
    "pycharm": {
     "name": "#%% md\n"
    }
   },
   "source": [
    "# Basic Input and Operators\n",
    "\n",
    "This lesson covers:\n",
    "\n",
    "* Manually inputting data in scalars, vectors, and matrices \n",
    "* Basic mathematical operations \n",
    "* Saving and loading data \n",
    "\n",
    "<a id=\"stock-data\"></a>\n",
    "## Data\n",
    "September 2018 prices (adjusted closing prices) for the S&P 500 EFT (SPY), Apple (AAPL) and \n",
    "Google (GOOG) are listed below:\n",
    "\n",
    "\n",
    "\n",
    "| Date   | SPY Price | AAPL Price | GOOG Price | \n",
    "|:-------|----------:|-----------:|-----------:| \n",
    "| Sept4  | 289.81    | 228.36     | 1197.00    | \n",
    "| Sept5  | 289.03    | 226.87     | 1186.48    | \n",
    "| Sept6  | 288.16    | 223.10     | 1171.44    | \n",
    "| Sept7  | 287.60    | 221.30     | 1164.83    | \n",
    "| Sept10 | 288.10    | 218.33     | 1164.64    | \n",
    "| Sept11 | 289.05    | 223.85     | 1177.36    | \n",
    "| Sept12 | 289.12    | 221.07     | 1162.82    | \n",
    "| Sept13 | 290.83    | 226.41     | 1175.33    | \n",
    "| Sept14 | 290.88    | 223.84     | 1172.53    | \n",
    "| Sept17 | 289.34    | 217.88     | 1156.05    | \n",
    "| Sept18 | 290.91    | 218.24     | 1161.22    | \n",
    "| Sept19 | 291.44    | 216.64     | 1158.78    | \n",
    "\n",
    "**Prices in September 2018**\n",
    " "
   ]
  },
  {
   "cell_type": "markdown",
   "metadata": {
    "pycharm": {
     "name": "#%% md\n"
    }
   },
   "source": [
    "## Problem: Input scalar data\n",
    "\n",
    "Create 3 variables, one labeled `spy`, one labeled `aapl` and one labeled `goog` that contain the\n",
    "September 4 price of the asset. For example, to enter the Google data\n",
    "```python\n",
    "goog = 1197.00\n",
    "```"
   ]
  },
  {
   "cell_type": "code",
   "execution_count": 1,
   "metadata": {
    "pycharm": {
     "name": "#%%\n"
    }
   },
   "outputs": [],
   "source": [
    "spy = 289.81\n",
    "aapl = 228.36\n",
    "goog = 1197.00"
   ]
  },
  {
   "cell_type": "markdown",
   "metadata": {
    "pycharm": {
     "name": "#%% md\n"
    }
   },
   "source": [
    "## Problem: Print the values\n",
    "Print the values of the three variables you created in the previous step using `print`."
   ]
  },
  {
   "cell_type": "code",
   "execution_count": 2,
   "metadata": {
    "pycharm": {
     "name": "#%%\n"
    }
   },
   "outputs": [
    {
     "name": "stdout",
     "output_type": "stream",
     "text": [
      "289.81\n",
      "228.36\n",
      "1197.0\n",
      "289.81 228.36 1197.0\n"
     ]
    }
   ],
   "source": [
    "print(spy)\n",
    "print(aapl)\n",
    "print(goog)\n",
    "print(spy, aapl, goog)"
   ]
  },
  {
   "cell_type": "markdown",
   "metadata": {},
   "source": [
    "## Problem: Print the values with formatting\n",
    "Print the values of the three variables you created in the previous step using format strings following\n",
    "the pattern TICKER: Value. For example, you can print the value of Google using `print(f'GOOG: {goog}')`."
   ]
  },
  {
   "cell_type": "code",
   "execution_count": 3,
   "metadata": {
    "pycharm": {
     "name": "#%%\n"
    }
   },
   "outputs": [
    {
     "name": "stdout",
     "output_type": "stream",
     "text": [
      "GOOG: 1197.0\n",
      "SPY: 289.81\n",
      "AAPL: 228.36\n"
     ]
    }
   ],
   "source": [
    "print(f'GOOG: {goog}')\n",
    "print(f'SPY: {spy}')\n",
    "print(f'AAPL: {aapl}')"
   ]
  },
  {
   "cell_type": "markdown",
   "metadata": {
    "pycharm": {
     "name": "#%% md\n"
    }
   },
   "source": [
    "## Problem: Input a Vector\n",
    "\n",
    "Create vectors for each of the days in the [Table](#stock-data) named `sep_xx` where `xx` is the \n",
    "numeric date. For example,  \n",
    "```python\n",
    "import pandas as pd\n",
    "\n",
    "sep_04 = pd.Series([289.81,228.36,1197.00], index=['SPY','AAPL','GOOG']);\n",
    "```"
   ]
  },
  {
   "cell_type": "code",
   "execution_count": 4,
   "metadata": {
    "pycharm": {
     "name": "#%%\n"
    }
   },
   "outputs": [],
   "source": [
    "import pandas as pd\n",
    "\n",
    "sep_04 = pd.Series([289.81, 228.36, 1197.00])\n",
    "sep_05 = pd.Series([289.03, 226.87, 1186.48])\n",
    "sep_06 = pd.Series([288.16, 223.10, 1171.44])\n",
    "sep_07 = pd.Series([287.60, 221.30, 1164.83])\n",
    "sep_10 = pd.Series([288.10, 218.33, 1164.64])\n",
    "sep_11 = pd.Series([289.05, 223.85, 1177.36])\n",
    "sep_12 = pd.Series([289.12, 221.07, 1162.82])\n",
    "sep_13 = pd.Series([290.83, 226.41, 1175.33])\n",
    "sep_14 = pd.Series([290.88, 223.84, 1172.53])\n",
    "sep_17 = pd.Series([289.34, 217.88, 1156.05])\n",
    "sep_18 = pd.Series([290.91, 218.24, 1161.22])\n",
    "sep_19 = pd.Series([291.44, 216.64, 1158.78])\n"
   ]
  },
  {
   "cell_type": "markdown",
   "metadata": {},
   "source": [
    "## Problem: Create a Vector of Dates\n",
    "\n",
    "Use the pandas function `pd.to_datetime` to convert a list of string dates to a pandas \n",
    "`DateTimeIndex`, which can be used to set dates in other arrays. For example, the first two dates \n",
    "are\n",
    "```python\n",
    "dates_2 = pd.to_datetime(['4-9-2018','5-9-2018'])\n",
    "print(dates_2)\n",
    "```\n",
    "which produces\n",
    "```python\n",
    "DatetimeIndex(['2018-04-09', '2018-05-09'], dtype='datetime64[ns]', freq=None)\n",
    "```\n",
    "\n",
    "Create a vector containing all of the dates in the table."
   ]
  },
  {
   "cell_type": "code",
   "execution_count": 5,
   "metadata": {},
   "outputs": [
    {
     "name": "stdout",
     "output_type": "stream",
     "text": [
      "DatetimeIndex(['2018-04-09', '2018-05-09', '2018-06-09', '2018-07-09',\n",
      "               '2018-10-09', '2018-11-09', '2018-12-09', '2018-09-13',\n",
      "               '2018-09-14', '2018-09-17', '2018-09-18', '2018-09-19'],\n",
      "              dtype='datetime64[ns]', freq=None)\n"
     ]
    }
   ],
   "source": [
    "dates = pd.to_datetime(['4-9-2018','5-9-2018','6-9-2018','7-9-2018',\n",
    "                        '10-9-2018','11-9-2018','12-9-2018','13-9-2018','14-9-2018',\n",
    "                        '17-9-2018','18-9-2018','19-9-2018'])\n",
    "print(dates)"
   ]
  },
  {
   "cell_type": "markdown",
   "metadata": {},
   "source": [
    "## Problem: Input a Vector with Dates\n",
    "\n",
    "Create vectors for each of the ticker symbols in [Table](#stock-data) named spy, aapl and \n",
    "goog, respectively. Use the variable `dates` that you created in the previous step. \n",
    "\n",
    "For example\n",
    "\n",
    "```python\n",
    "goog = pd.Series([1197.00,1186.48,1171.44,...], index=dates)\n",
    "```"
   ]
  },
  {
   "cell_type": "code",
   "execution_count": 6,
   "metadata": {},
   "outputs": [],
   "source": [
    "goog = pd.Series([1197.00, 1186.48, 1171.44, 1164.83, 1164.64, 1177.36,\n",
    "                  1162.82, 1175.33, 1172.53, 1156.05, 1161.22, 1158.78],\n",
    "                 index=dates, name='GOOG') \n",
    "aapl = pd.Series([228.36, 226.87, 223.10, 221.30, 218.33, 223.85,\n",
    "                  221.07, 226.41, 223.84, 217.88, 218.24, 216.64],\n",
    "                 index=dates, name='AAPL')\n",
    "spy = pd.Series([289.81, 289.03, 288.16, 287.60, 288.10, 289.05,\n",
    "                 289.12, 290.83, 290.88, 289.34, 290.91, 291.44],\n",
    "                index=dates, name='SPY')"
   ]
  },
  {
   "cell_type": "markdown",
   "metadata": {},
   "source": [
    "## Problem: Create a DataFrame\n",
    "\n",
    "Create a DataFrame named `prices` containing [Table](#stock-data). Set the column names equal to \n",
    "the ticker and set the index to the dates you created previously.\n",
    "\n",
    "```python\n",
    "prices = pd.DataFrame([[289.81, 228.36, 1197.00], [289.03, 226.87, 1186.48]],\n",
    "                      columns = ['SPY', 'AAPL', 'GOOG'],index=dates_2)\n",
    "```"
   ]
  },
  {
   "cell_type": "code",
   "execution_count": 7,
   "metadata": {
    "pycharm": {
     "name": "#%%\n"
    }
   },
   "outputs": [],
   "source": [
    "prices = pd.DataFrame([[289.81, 228.36, 1197.00],\n",
    "                       [289.03, 226.87, 1186.48],\n",
    "                       [288.16, 223.10, 1171.44],\n",
    "                       [287.60, 221.30, 1164.83],\n",
    "                       [288.10, 218.33, 1164.64],\n",
    "                       [289.05, 223.85, 1177.36],\n",
    "                       [289.12, 221.07, 1162.82],\n",
    "                       [290.83, 226.41, 1175.33],\n",
    "                       [290.88, 223.84, 1172.53],\n",
    "                       [289.34, 217.88, 1156.05],\n",
    "                       [290.91, 218.24, 1161.22],\n",
    "                       [291.44, 216.64, 1158.78]],\n",
    "                      columns=['SPY', 'AAPL', 'GOOG'], index=dates)\n"
   ]
  },
  {
   "cell_type": "code",
   "execution_count": null,
   "metadata": {},
   "outputs": [],
   "source": []
  },
  {
   "cell_type": "code",
   "execution_count": null,
   "metadata": {},
   "outputs": [],
   "source": []
  },
  {
   "cell_type": "markdown",
   "metadata": {},
   "source": [
    "## Problem: Construct a DataFrame from Series\n",
    "\n",
    "Create a second DataFrame named prices_row from the row vectors previously entered such that \n",
    "the results are identical to prices. For example, the first two days worth of data are\n",
    "\n",
    "```python\n",
    "pricess_row = pd.DataFrame([Sep04, Sep05])\n",
    "# Set the index after using concat to join\n",
    "pricess_row.index = dates_2\n",
    "```\n",
    "\n",
    "Create a third DataFrame named prices_col from the 3 column vectors entered such that the results \n",
    "are identical to prices\n",
    "```python\n",
    "prices_col = pd.DataFrame([SPY,APPL,GOOG]).T\n",
    "```\n",
    "\n",
    "*Note*: The `.T` above transposes the 2-d array since `DataFrame` builds the array by rows.\n",
    "\n",
    "Verify that all three matrices are identical by printing the difference, e.g., \n",
    "\n",
    "```python\n",
    "print(pricescol - prices)\n",
    "```\n",
    "\n",
    "and that all elements are 0. "
   ]
  },
  {
   "cell_type": "code",
   "execution_count": 8,
   "metadata": {
    "pycharm": {
     "name": "#%%\n"
    }
   },
   "outputs": [
    {
     "name": "stdout",
     "output_type": "stream",
     "text": [
      "               SPY    AAPL     GOOG\n",
      "2018-04-09  289.81  228.36  1197.00\n",
      "2018-05-09  289.03  226.87  1186.48\n",
      "2018-06-09  288.16  223.10  1171.44\n",
      "2018-07-09  287.60  221.30  1164.83\n",
      "2018-10-09  288.10  218.33  1164.64\n",
      "2018-11-09  289.05  223.85  1177.36\n",
      "2018-12-09  289.12  221.07  1162.82\n",
      "2018-09-13  290.83  226.41  1175.33\n",
      "2018-09-14  290.88  223.84  1172.53\n",
      "2018-09-17  289.34  217.88  1156.05\n",
      "2018-09-18  290.91  218.24  1161.22\n",
      "2018-09-19  291.44  216.64  1158.78\n",
      "            SPY  AAPL  GOOG\n",
      "2018-04-09  0.0   0.0   0.0\n",
      "2018-05-09  0.0   0.0   0.0\n",
      "2018-06-09  0.0   0.0   0.0\n",
      "2018-07-09  0.0   0.0   0.0\n",
      "2018-10-09  0.0   0.0   0.0\n",
      "2018-11-09  0.0   0.0   0.0\n",
      "2018-12-09  0.0   0.0   0.0\n",
      "2018-09-13  0.0   0.0   0.0\n",
      "2018-09-14  0.0   0.0   0.0\n",
      "2018-09-17  0.0   0.0   0.0\n",
      "2018-09-18  0.0   0.0   0.0\n",
      "2018-09-19  0.0   0.0   0.0\n",
      "            SPY  AAPL  GOOG\n",
      "2018-04-09  0.0   0.0   0.0\n",
      "2018-05-09  0.0   0.0   0.0\n",
      "2018-06-09  0.0   0.0   0.0\n",
      "2018-07-09  0.0   0.0   0.0\n",
      "2018-10-09  0.0   0.0   0.0\n",
      "2018-11-09  0.0   0.0   0.0\n",
      "2018-12-09  0.0   0.0   0.0\n",
      "2018-09-13  0.0   0.0   0.0\n",
      "2018-09-14  0.0   0.0   0.0\n",
      "2018-09-17  0.0   0.0   0.0\n",
      "2018-09-18  0.0   0.0   0.0\n",
      "2018-09-19  0.0   0.0   0.0\n"
     ]
    },
    {
     "data": {
      "text/html": [
       "<div>\n",
       "<style scoped>\n",
       "    .dataframe tbody tr th:only-of-type {\n",
       "        vertical-align: middle;\n",
       "    }\n",
       "\n",
       "    .dataframe tbody tr th {\n",
       "        vertical-align: top;\n",
       "    }\n",
       "\n",
       "    .dataframe thead th {\n",
       "        text-align: right;\n",
       "    }\n",
       "</style>\n",
       "<table border=\"1\" class=\"dataframe\">\n",
       "  <thead>\n",
       "    <tr style=\"text-align: right;\">\n",
       "      <th></th>\n",
       "      <th>SPY</th>\n",
       "      <th>AAPL</th>\n",
       "      <th>GOOG</th>\n",
       "    </tr>\n",
       "  </thead>\n",
       "  <tbody>\n",
       "    <tr>\n",
       "      <td>2018-04-09</td>\n",
       "      <td>289.81</td>\n",
       "      <td>228.36</td>\n",
       "      <td>1197.00</td>\n",
       "    </tr>\n",
       "    <tr>\n",
       "      <td>2018-05-09</td>\n",
       "      <td>289.03</td>\n",
       "      <td>226.87</td>\n",
       "      <td>1186.48</td>\n",
       "    </tr>\n",
       "    <tr>\n",
       "      <td>2018-06-09</td>\n",
       "      <td>288.16</td>\n",
       "      <td>223.10</td>\n",
       "      <td>1171.44</td>\n",
       "    </tr>\n",
       "    <tr>\n",
       "      <td>2018-07-09</td>\n",
       "      <td>287.60</td>\n",
       "      <td>221.30</td>\n",
       "      <td>1164.83</td>\n",
       "    </tr>\n",
       "    <tr>\n",
       "      <td>2018-10-09</td>\n",
       "      <td>288.10</td>\n",
       "      <td>218.33</td>\n",
       "      <td>1164.64</td>\n",
       "    </tr>\n",
       "    <tr>\n",
       "      <td>2018-11-09</td>\n",
       "      <td>289.05</td>\n",
       "      <td>223.85</td>\n",
       "      <td>1177.36</td>\n",
       "    </tr>\n",
       "    <tr>\n",
       "      <td>2018-12-09</td>\n",
       "      <td>289.12</td>\n",
       "      <td>221.07</td>\n",
       "      <td>1162.82</td>\n",
       "    </tr>\n",
       "    <tr>\n",
       "      <td>2018-09-13</td>\n",
       "      <td>290.83</td>\n",
       "      <td>226.41</td>\n",
       "      <td>1175.33</td>\n",
       "    </tr>\n",
       "    <tr>\n",
       "      <td>2018-09-14</td>\n",
       "      <td>290.88</td>\n",
       "      <td>223.84</td>\n",
       "      <td>1172.53</td>\n",
       "    </tr>\n",
       "    <tr>\n",
       "      <td>2018-09-17</td>\n",
       "      <td>289.34</td>\n",
       "      <td>217.88</td>\n",
       "      <td>1156.05</td>\n",
       "    </tr>\n",
       "    <tr>\n",
       "      <td>2018-09-18</td>\n",
       "      <td>290.91</td>\n",
       "      <td>218.24</td>\n",
       "      <td>1161.22</td>\n",
       "    </tr>\n",
       "    <tr>\n",
       "      <td>2018-09-19</td>\n",
       "      <td>291.44</td>\n",
       "      <td>216.64</td>\n",
       "      <td>1158.78</td>\n",
       "    </tr>\n",
       "  </tbody>\n",
       "</table>\n",
       "</div>"
      ],
      "text/plain": [
       "               SPY    AAPL     GOOG\n",
       "2018-04-09  289.81  228.36  1197.00\n",
       "2018-05-09  289.03  226.87  1186.48\n",
       "2018-06-09  288.16  223.10  1171.44\n",
       "2018-07-09  287.60  221.30  1164.83\n",
       "2018-10-09  288.10  218.33  1164.64\n",
       "2018-11-09  289.05  223.85  1177.36\n",
       "2018-12-09  289.12  221.07  1162.82\n",
       "2018-09-13  290.83  226.41  1175.33\n",
       "2018-09-14  290.88  223.84  1172.53\n",
       "2018-09-17  289.34  217.88  1156.05\n",
       "2018-09-18  290.91  218.24  1161.22\n",
       "2018-09-19  291.44  216.64  1158.78"
      ]
     },
     "execution_count": 8,
     "metadata": {},
     "output_type": "execute_result"
    }
   ],
   "source": [
    "prices_row = pd.DataFrame([sep_04, sep_05, sep_06, sep_07, sep_10, sep_11,\n",
    "                           sep_12, sep_13, sep_14, sep_17, sep_18, sep_19])\n",
    "prices_row.columns = ['SPY', 'AAPL', 'GOOG']\n",
    "prices_row.index = dates\n",
    "print(prices_row)\n",
    "print(prices - prices_row)\n",
    "# No need to set the index or the column names since index\n",
    "# and name set in Series\n",
    "prices_col = pd.DataFrame([spy, aapl, goog]).T\n",
    "print(prices - prices_col)\n",
    "prices_col"
   ]
  },
  {
   "cell_type": "markdown",
   "metadata": {},
   "source": [
    "## Problem: Saving Data \n",
    "Save the prices DataFrame to a pickle using `prices.to_pickle('prices.pkl')`.\n",
    "\n",
    "Delete the `prices` variable using `del prices`, and then load it back using \n",
    "`prices = pd.load_pickle('prices.pkl')`. Finally, print the loaded data to verify it is the same."
   ]
  },
  {
   "cell_type": "code",
   "execution_count": 9,
   "metadata": {
    "pycharm": {
     "name": "#%%\n"
    }
   },
   "outputs": [
    {
     "name": "stdout",
     "output_type": "stream",
     "text": [
      "               SPY    AAPL     GOOG\n",
      "2018-04-09  289.81  228.36  1197.00\n",
      "2018-05-09  289.03  226.87  1186.48\n",
      "2018-06-09  288.16  223.10  1171.44\n",
      "2018-07-09  287.60  221.30  1164.83\n",
      "2018-10-09  288.10  218.33  1164.64\n"
     ]
    }
   ],
   "source": [
    "import pickle\n",
    "prices.to_pickle('prices.pkl')\n",
    "del prices\n",
    "prices = pd.read_pickle('prices.pkl')\n",
    "# Print first 5 rows\n",
    "print(prices.head())"
   ]
  },
  {
   "cell_type": "markdown",
   "metadata": {},
   "source": [
    "## Problem: Addition and Subtraction\n",
    "\n",
    "Add the prices of the three series together using `.sum(axis=1)`. Add the prices in `sep_04` to \n",
    "the prices of `goog`. What happens? "
   ]
  },
  {
   "cell_type": "code",
   "execution_count": 10,
   "metadata": {
    "pycharm": {
     "name": "#%%\n"
    }
   },
   "outputs": [
    {
     "data": {
      "text/plain": [
       "SPY      3474.27\n",
       "AAPL     2665.89\n",
       "GOOG    14048.48\n",
       "dtype: float64"
      ]
     },
     "execution_count": 10,
     "metadata": {},
     "output_type": "execute_result"
    }
   ],
   "source": [
    "prices.sum()"
   ]
  },
  {
   "cell_type": "code",
   "execution_count": 11,
   "metadata": {},
   "outputs": [
    {
     "name": "stderr",
     "output_type": "stream",
     "text": [
      "C:\\Anaconda\\lib\\site-packages\\pandas\\core\\indexes\\base.py:3597: RuntimeWarning: '<' not supported between instances of 'int' and 'Timestamp', sort order is undefined for incomparable objects\n",
      "  join_index = self.union(other)\n"
     ]
    },
    {
     "data": {
      "text/plain": [
       "2018-04-09 00:00:00   NaN\n",
       "2018-05-09 00:00:00   NaN\n",
       "2018-06-09 00:00:00   NaN\n",
       "2018-07-09 00:00:00   NaN\n",
       "2018-10-09 00:00:00   NaN\n",
       "2018-11-09 00:00:00   NaN\n",
       "2018-12-09 00:00:00   NaN\n",
       "2018-09-13 00:00:00   NaN\n",
       "2018-09-14 00:00:00   NaN\n",
       "2018-09-17 00:00:00   NaN\n",
       "2018-09-18 00:00:00   NaN\n",
       "2018-09-19 00:00:00   NaN\n",
       "0                     NaN\n",
       "1                     NaN\n",
       "2                     NaN\n",
       "dtype: float64"
      ]
     },
     "execution_count": 11,
     "metadata": {},
     "output_type": "execute_result"
    }
   ],
   "source": [
    "sep_04 + goog"
   ]
  },
  {
   "cell_type": "markdown",
   "metadata": {},
   "source": [
    "## Problem: Multiplication\n",
    "\n",
    "Multiply the price of Google by 2. "
   ]
  },
  {
   "cell_type": "code",
   "execution_count": 12,
   "metadata": {
    "pycharm": {
     "name": "#%%\n"
    }
   },
   "outputs": [
    {
     "data": {
      "text/plain": [
       "2018-04-09    2394.00\n",
       "2018-05-09    2372.96\n",
       "2018-06-09    2342.88\n",
       "2018-07-09    2329.66\n",
       "2018-10-09    2329.28\n",
       "2018-11-09    2354.72\n",
       "2018-12-09    2325.64\n",
       "2018-09-13    2350.66\n",
       "2018-09-14    2345.06\n",
       "2018-09-17    2312.10\n",
       "2018-09-18    2322.44\n",
       "2018-09-19    2317.56\n",
       "Name: GOOG, dtype: float64"
      ]
     },
     "execution_count": 12,
     "metadata": {},
     "output_type": "execute_result"
    }
   ],
   "source": [
    "2 * goog"
   ]
  },
  {
   "cell_type": "markdown",
   "metadata": {},
   "source": [
    "## Problem: Constructing portfolio returns\n",
    "Set up a vector or portfolio weights $w=\\left(\\frac{1}{3},\\,\\frac{1}{3}\\,,\\frac{1}{3}\\right)$ and \n",
    "compute the price of a portfolio with $\\frac{1}{3}$ share of each.\n",
    "\n",
    "*Note*: Division uses the slash operator (/). "
   ]
  },
  {
   "cell_type": "code",
   "execution_count": 13,
   "metadata": {
    "pycharm": {
     "name": "#%%\n"
    }
   },
   "outputs": [
    {
     "name": "stdout",
     "output_type": "stream",
     "text": [
      "2018-04-09    571.723333\n",
      "2018-05-09    567.460000\n",
      "2018-06-09    560.900000\n",
      "2018-07-09    557.910000\n",
      "2018-10-09    557.023333\n",
      "2018-11-09    563.420000\n",
      "2018-12-09    557.670000\n",
      "2018-09-13    564.190000\n",
      "2018-09-14    562.416667\n",
      "2018-09-17    554.423333\n",
      "2018-09-18    556.790000\n",
      "2018-09-19    555.620000\n",
      "dtype: float64\n"
     ]
    }
   ],
   "source": [
    "import numpy as np\n",
    "\n",
    "w = np.array([1/3, 1/3, 1/3])\n",
    "\n",
    "port_price = prices @ w\n",
    "print(port_price)"
   ]
  },
  {
   "cell_type": "markdown",
   "metadata": {},
   "source": [
    "## Problem: Compute Returns\n",
    "\n",
    "Compute returns using \n",
    "\n",
    "```python\n",
    "returns = prices.pct_change()\n",
    "```\n",
    "\n",
    "which computes the percentage change.\n",
    "\n",
    "Additionally, extract returns for each name using \n",
    "\n",
    "```python\n",
    "spy_returns = returns['SPY']\n",
    "```\n"
   ]
  },
  {
   "cell_type": "code",
   "execution_count": 14,
   "metadata": {
    "pycharm": {
     "name": "#%%\n"
    }
   },
   "outputs": [
    {
     "name": "stdout",
     "output_type": "stream",
     "text": [
      "                 SPY      AAPL      GOOG\n",
      "2018-04-09       NaN       NaN       NaN\n",
      "2018-05-09 -0.002691 -0.006525 -0.008789\n",
      "2018-06-09 -0.003010 -0.016617 -0.012676\n",
      "2018-07-09 -0.001943 -0.008068 -0.005643\n",
      "2018-10-09  0.001739 -0.013421 -0.000163\n",
      "2018-11-09  0.003297  0.025283  0.010922\n",
      "2018-12-09  0.000242 -0.012419 -0.012350\n",
      "2018-09-13  0.005914  0.024155  0.010758\n",
      "2018-09-14  0.000172 -0.011351 -0.002382\n",
      "2018-09-17 -0.005294 -0.026626 -0.014055\n",
      "2018-09-18  0.005426  0.001652  0.004472\n",
      "2018-09-19  0.001822 -0.007331 -0.002101\n"
     ]
    }
   ],
   "source": [
    "returns = prices.pct_change()\n",
    "print(returns)"
   ]
  },
  {
   "cell_type": "code",
   "execution_count": 15,
   "metadata": {},
   "outputs": [
    {
     "name": "stdout",
     "output_type": "stream",
     "text": [
      "                 SPY      AAPL      GOOG\n",
      "2018-05-09 -0.002691 -0.006525 -0.008789\n",
      "2018-06-09 -0.003010 -0.016617 -0.012676\n",
      "2018-07-09 -0.001943 -0.008068 -0.005643\n",
      "2018-10-09  0.001739 -0.013421 -0.000163\n",
      "2018-11-09  0.003297  0.025283  0.010922\n",
      "2018-12-09  0.000242 -0.012419 -0.012350\n",
      "2018-09-13  0.005914  0.024155  0.010758\n",
      "2018-09-14  0.000172 -0.011351 -0.002382\n",
      "2018-09-17 -0.005294 -0.026626 -0.014055\n",
      "2018-09-18  0.005426  0.001652  0.004472\n",
      "2018-09-19  0.001822 -0.007331 -0.002101\n"
     ]
    }
   ],
   "source": [
    "# First row is missing since no data on Sep 3, can use .dropna() to remove rows with missing values\n",
    "print(returns.dropna())"
   ]
  },
  {
   "cell_type": "code",
   "execution_count": 16,
   "metadata": {},
   "outputs": [],
   "source": [
    "spy_returns = returns['SPY']\n",
    "goog_returns = returns['GOOG']\n",
    "aapl_returns = returns['AAPL']"
   ]
  },
  {
   "cell_type": "markdown",
   "metadata": {},
   "source": [
    "## Problem: Compute Log Returns\n",
    "\n",
    "```python\n",
    "import numpy as np\n",
    "\n",
    "log_returns = np.log(prices).diff()\n",
    "```\n",
    "\n",
    "first difference of the natural log of the prices. Mathematically this is \n",
    "$r_{t}=\\ln\\left(P_{t}\\right)-\\ln\\left(P_{t-1}\\right)=\\ln\\left(\\frac{P_{t}}{P_{t-1}}\\right)\\approx\\frac{P_{t}}{P_{t-1}}-1$."
   ]
  },
  {
   "cell_type": "code",
   "execution_count": 17,
   "metadata": {},
   "outputs": [
    {
     "data": {
      "text/html": [
       "<div>\n",
       "<style scoped>\n",
       "    .dataframe tbody tr th:only-of-type {\n",
       "        vertical-align: middle;\n",
       "    }\n",
       "\n",
       "    .dataframe tbody tr th {\n",
       "        vertical-align: top;\n",
       "    }\n",
       "\n",
       "    .dataframe thead th {\n",
       "        text-align: right;\n",
       "    }\n",
       "</style>\n",
       "<table border=\"1\" class=\"dataframe\">\n",
       "  <thead>\n",
       "    <tr style=\"text-align: right;\">\n",
       "      <th></th>\n",
       "      <th>SPY</th>\n",
       "      <th>AAPL</th>\n",
       "      <th>GOOG</th>\n",
       "    </tr>\n",
       "  </thead>\n",
       "  <tbody>\n",
       "    <tr>\n",
       "      <td>2018-04-09</td>\n",
       "      <td>NaN</td>\n",
       "      <td>NaN</td>\n",
       "      <td>NaN</td>\n",
       "    </tr>\n",
       "    <tr>\n",
       "      <td>2018-05-09</td>\n",
       "      <td>-0.002695</td>\n",
       "      <td>-0.006546</td>\n",
       "      <td>-0.008827</td>\n",
       "    </tr>\n",
       "    <tr>\n",
       "      <td>2018-06-09</td>\n",
       "      <td>-0.003015</td>\n",
       "      <td>-0.016757</td>\n",
       "      <td>-0.012757</td>\n",
       "    </tr>\n",
       "    <tr>\n",
       "      <td>2018-07-09</td>\n",
       "      <td>-0.001945</td>\n",
       "      <td>-0.008101</td>\n",
       "      <td>-0.005659</td>\n",
       "    </tr>\n",
       "    <tr>\n",
       "      <td>2018-10-09</td>\n",
       "      <td>0.001737</td>\n",
       "      <td>-0.013512</td>\n",
       "      <td>-0.000163</td>\n",
       "    </tr>\n",
       "    <tr>\n",
       "      <td>2018-11-09</td>\n",
       "      <td>0.003292</td>\n",
       "      <td>0.024969</td>\n",
       "      <td>0.010863</td>\n",
       "    </tr>\n",
       "    <tr>\n",
       "      <td>2018-12-09</td>\n",
       "      <td>0.000242</td>\n",
       "      <td>-0.012497</td>\n",
       "      <td>-0.012427</td>\n",
       "    </tr>\n",
       "    <tr>\n",
       "      <td>2018-09-13</td>\n",
       "      <td>0.005897</td>\n",
       "      <td>0.023868</td>\n",
       "      <td>0.010701</td>\n",
       "    </tr>\n",
       "    <tr>\n",
       "      <td>2018-09-14</td>\n",
       "      <td>0.000172</td>\n",
       "      <td>-0.011416</td>\n",
       "      <td>-0.002385</td>\n",
       "    </tr>\n",
       "    <tr>\n",
       "      <td>2018-09-17</td>\n",
       "      <td>-0.005308</td>\n",
       "      <td>-0.026987</td>\n",
       "      <td>-0.014155</td>\n",
       "    </tr>\n",
       "    <tr>\n",
       "      <td>2018-09-18</td>\n",
       "      <td>0.005411</td>\n",
       "      <td>0.001651</td>\n",
       "      <td>0.004462</td>\n",
       "    </tr>\n",
       "    <tr>\n",
       "      <td>2018-09-19</td>\n",
       "      <td>0.001820</td>\n",
       "      <td>-0.007358</td>\n",
       "      <td>-0.002103</td>\n",
       "    </tr>\n",
       "  </tbody>\n",
       "</table>\n",
       "</div>"
      ],
      "text/plain": [
       "                 SPY      AAPL      GOOG\n",
       "2018-04-09       NaN       NaN       NaN\n",
       "2018-05-09 -0.002695 -0.006546 -0.008827\n",
       "2018-06-09 -0.003015 -0.016757 -0.012757\n",
       "2018-07-09 -0.001945 -0.008101 -0.005659\n",
       "2018-10-09  0.001737 -0.013512 -0.000163\n",
       "2018-11-09  0.003292  0.024969  0.010863\n",
       "2018-12-09  0.000242 -0.012497 -0.012427\n",
       "2018-09-13  0.005897  0.023868  0.010701\n",
       "2018-09-14  0.000172 -0.011416 -0.002385\n",
       "2018-09-17 -0.005308 -0.026987 -0.014155\n",
       "2018-09-18  0.005411  0.001651  0.004462\n",
       "2018-09-19  0.001820 -0.007358 -0.002103"
      ]
     },
     "execution_count": 17,
     "metadata": {},
     "output_type": "execute_result"
    }
   ],
   "source": [
    "log_returns = np.log(prices).diff()\n",
    "log_returns"
   ]
  },
  {
   "cell_type": "markdown",
   "metadata": {},
   "source": [
    "## Problem: Mean, Standard Deviation and Correlation\n",
    "\n",
    "Using the function mean, compute the mean of the three returns series one at a time. For example  \n",
    "```python\n",
    "goog_mean = goog_returns.mean()\n",
    "```\n",
    "Next, compute the mean of the matrix of returns using  \n",
    "\n",
    "```python\n",
    "retmean = returns.mean()\n",
    "```\n",
    "\n",
    "What is the relationship between these two? Repeat this exercise for the standard deviation (`std()`).\n",
    "Finally, compute the correlation of the matrix of returns (`corr()`). "
   ]
  },
  {
   "cell_type": "code",
   "execution_count": 18,
   "metadata": {
    "pycharm": {
     "name": "#%%\n"
    }
   },
   "outputs": [
    {
     "name": "stdout",
     "output_type": "stream",
     "text": [
      "0.0005157696449953846 -0.0046607598305810375 -0.0029096851629990942\n"
     ]
    }
   ],
   "source": [
    "goog_mean = goog_returns.mean()\n",
    "spy_mean = spy_returns.mean()\n",
    "aapl_mean = aapl_returns.mean()\n",
    "print(spy_mean, aapl_mean, goog_mean)"
   ]
  },
  {
   "cell_type": "code",
   "execution_count": 19,
   "metadata": {},
   "outputs": [
    {
     "data": {
      "text/plain": [
       "SPY     0.000516\n",
       "AAPL   -0.004661\n",
       "GOOG   -0.002910\n",
       "dtype: float64"
      ]
     },
     "execution_count": 19,
     "metadata": {},
     "output_type": "execute_result"
    }
   ],
   "source": [
    "returns.mean()"
   ]
  },
  {
   "cell_type": "code",
   "execution_count": 20,
   "metadata": {},
   "outputs": [
    {
     "data": {
      "text/plain": [
       "SPY     0.003562\n",
       "AAPL    0.016113\n",
       "GOOG    0.008899\n",
       "dtype: float64"
      ]
     },
     "execution_count": 20,
     "metadata": {},
     "output_type": "execute_result"
    }
   ],
   "source": [
    "returns.std()"
   ]
  },
  {
   "cell_type": "code",
   "execution_count": 21,
   "metadata": {},
   "outputs": [
    {
     "data": {
      "text/html": [
       "<div>\n",
       "<style scoped>\n",
       "    .dataframe tbody tr th:only-of-type {\n",
       "        vertical-align: middle;\n",
       "    }\n",
       "\n",
       "    .dataframe tbody tr th {\n",
       "        vertical-align: top;\n",
       "    }\n",
       "\n",
       "    .dataframe thead th {\n",
       "        text-align: right;\n",
       "    }\n",
       "</style>\n",
       "<table border=\"1\" class=\"dataframe\">\n",
       "  <thead>\n",
       "    <tr style=\"text-align: right;\">\n",
       "      <th></th>\n",
       "      <th>SPY</th>\n",
       "      <th>AAPL</th>\n",
       "      <th>GOOG</th>\n",
       "    </tr>\n",
       "  </thead>\n",
       "  <tbody>\n",
       "    <tr>\n",
       "      <td>SPY</td>\n",
       "      <td>1.000000</td>\n",
       "      <td>0.773894</td>\n",
       "      <td>0.883557</td>\n",
       "    </tr>\n",
       "    <tr>\n",
       "      <td>AAPL</td>\n",
       "      <td>0.773894</td>\n",
       "      <td>1.000000</td>\n",
       "      <td>0.892719</td>\n",
       "    </tr>\n",
       "    <tr>\n",
       "      <td>GOOG</td>\n",
       "      <td>0.883557</td>\n",
       "      <td>0.892719</td>\n",
       "      <td>1.000000</td>\n",
       "    </tr>\n",
       "  </tbody>\n",
       "</table>\n",
       "</div>"
      ],
      "text/plain": [
       "           SPY      AAPL      GOOG\n",
       "SPY   1.000000  0.773894  0.883557\n",
       "AAPL  0.773894  1.000000  0.892719\n",
       "GOOG  0.883557  0.892719  1.000000"
      ]
     },
     "execution_count": 21,
     "metadata": {},
     "output_type": "execute_result"
    }
   ],
   "source": [
    "returns.corr()"
   ]
  },
  {
   "cell_type": "markdown",
   "metadata": {},
   "source": [
    "## Problem: Summing all elements\n",
    "\n",
    "Compute the sum of the columns of returns using `.sum()`. How is this related to the mean computed \n",
    "in the previous step? "
   ]
  },
  {
   "cell_type": "code",
   "execution_count": 22,
   "metadata": {
    "pycharm": {
     "name": "#%%\n"
    }
   },
   "outputs": [
    {
     "data": {
      "text/plain": [
       "SPY     0.000516\n",
       "AAPL   -0.004661\n",
       "GOOG   -0.002910\n",
       "dtype: float64"
      ]
     },
     "execution_count": 22,
     "metadata": {},
     "output_type": "execute_result"
    }
   ],
   "source": [
    "returns.dropna().mean()\n",
    "\n"
   ]
  },
  {
   "cell_type": "code",
   "execution_count": 23,
   "metadata": {},
   "outputs": [
    {
     "data": {
      "text/plain": [
       "SPY     0.000516\n",
       "AAPL   -0.004661\n",
       "GOOG   -0.002910\n",
       "dtype: float64"
      ]
     },
     "execution_count": 23,
     "metadata": {},
     "output_type": "execute_result"
    }
   ],
   "source": [
    "returns.sum() / 11"
   ]
  },
  {
   "cell_type": "markdown",
   "metadata": {},
   "source": [
    "## Problem: Maximum and Minimum Values\n",
    "Compute the minimum and maximum values of the columns of returns using the `min()` and `max()` commands. "
   ]
  },
  {
   "cell_type": "code",
   "execution_count": 24,
   "metadata": {
    "pycharm": {
     "name": "#%%\n"
    }
   },
   "outputs": [
    {
     "data": {
      "text/plain": [
       "SPY    -0.005294\n",
       "AAPL   -0.026626\n",
       "GOOG   -0.014055\n",
       "dtype: float64"
      ]
     },
     "execution_count": 24,
     "metadata": {},
     "output_type": "execute_result"
    }
   ],
   "source": [
    "returns.min()"
   ]
  },
  {
   "cell_type": "code",
   "execution_count": 25,
   "metadata": {},
   "outputs": [
    {
     "data": {
      "text/plain": [
       "SPY     0.005914\n",
       "AAPL    0.025283\n",
       "GOOG    0.010922\n",
       "dtype: float64"
      ]
     },
     "execution_count": 25,
     "metadata": {},
     "output_type": "execute_result"
    }
   ],
   "source": [
    "returns.max()"
   ]
  },
  {
   "cell_type": "markdown",
   "metadata": {},
   "source": [
    "## Problem: Rounding Up, Down and to the Closest Integer\n",
    "\n",
    "Rounding up is handled by ceil, rounding down is handled by floor and rounding to the closest \n",
    "integer is handled by round. Try all of these commands on 100 times returns. For example,  \n",
    "```python\n",
    "rounded = (100*returns).round()\n",
    "``` \n",
    "\n",
    "Use `ceil` and `floor` to round up and down, respectively."
   ]
  },
  {
   "cell_type": "code",
   "execution_count": 26,
   "metadata": {
    "pycharm": {
     "name": "#%%\n"
    }
   },
   "outputs": [
    {
     "data": {
      "text/html": [
       "<div>\n",
       "<style scoped>\n",
       "    .dataframe tbody tr th:only-of-type {\n",
       "        vertical-align: middle;\n",
       "    }\n",
       "\n",
       "    .dataframe tbody tr th {\n",
       "        vertical-align: top;\n",
       "    }\n",
       "\n",
       "    .dataframe thead th {\n",
       "        text-align: right;\n",
       "    }\n",
       "</style>\n",
       "<table border=\"1\" class=\"dataframe\">\n",
       "  <thead>\n",
       "    <tr style=\"text-align: right;\">\n",
       "      <th></th>\n",
       "      <th>SPY</th>\n",
       "      <th>AAPL</th>\n",
       "      <th>GOOG</th>\n",
       "    </tr>\n",
       "  </thead>\n",
       "  <tbody>\n",
       "    <tr>\n",
       "      <td>2018-04-09</td>\n",
       "      <td>NaN</td>\n",
       "      <td>NaN</td>\n",
       "      <td>NaN</td>\n",
       "    </tr>\n",
       "    <tr>\n",
       "      <td>2018-05-09</td>\n",
       "      <td>-0.0</td>\n",
       "      <td>-1.0</td>\n",
       "      <td>-1.0</td>\n",
       "    </tr>\n",
       "    <tr>\n",
       "      <td>2018-06-09</td>\n",
       "      <td>-0.0</td>\n",
       "      <td>-2.0</td>\n",
       "      <td>-1.0</td>\n",
       "    </tr>\n",
       "    <tr>\n",
       "      <td>2018-07-09</td>\n",
       "      <td>-0.0</td>\n",
       "      <td>-1.0</td>\n",
       "      <td>-1.0</td>\n",
       "    </tr>\n",
       "    <tr>\n",
       "      <td>2018-10-09</td>\n",
       "      <td>0.0</td>\n",
       "      <td>-1.0</td>\n",
       "      <td>-0.0</td>\n",
       "    </tr>\n",
       "    <tr>\n",
       "      <td>2018-11-09</td>\n",
       "      <td>0.0</td>\n",
       "      <td>3.0</td>\n",
       "      <td>1.0</td>\n",
       "    </tr>\n",
       "    <tr>\n",
       "      <td>2018-12-09</td>\n",
       "      <td>0.0</td>\n",
       "      <td>-1.0</td>\n",
       "      <td>-1.0</td>\n",
       "    </tr>\n",
       "    <tr>\n",
       "      <td>2018-09-13</td>\n",
       "      <td>1.0</td>\n",
       "      <td>2.0</td>\n",
       "      <td>1.0</td>\n",
       "    </tr>\n",
       "    <tr>\n",
       "      <td>2018-09-14</td>\n",
       "      <td>0.0</td>\n",
       "      <td>-1.0</td>\n",
       "      <td>-0.0</td>\n",
       "    </tr>\n",
       "    <tr>\n",
       "      <td>2018-09-17</td>\n",
       "      <td>-1.0</td>\n",
       "      <td>-3.0</td>\n",
       "      <td>-1.0</td>\n",
       "    </tr>\n",
       "    <tr>\n",
       "      <td>2018-09-18</td>\n",
       "      <td>1.0</td>\n",
       "      <td>0.0</td>\n",
       "      <td>0.0</td>\n",
       "    </tr>\n",
       "    <tr>\n",
       "      <td>2018-09-19</td>\n",
       "      <td>0.0</td>\n",
       "      <td>-1.0</td>\n",
       "      <td>-0.0</td>\n",
       "    </tr>\n",
       "  </tbody>\n",
       "</table>\n",
       "</div>"
      ],
      "text/plain": [
       "            SPY  AAPL  GOOG\n",
       "2018-04-09  NaN   NaN   NaN\n",
       "2018-05-09 -0.0  -1.0  -1.0\n",
       "2018-06-09 -0.0  -2.0  -1.0\n",
       "2018-07-09 -0.0  -1.0  -1.0\n",
       "2018-10-09  0.0  -1.0  -0.0\n",
       "2018-11-09  0.0   3.0   1.0\n",
       "2018-12-09  0.0  -1.0  -1.0\n",
       "2018-09-13  1.0   2.0   1.0\n",
       "2018-09-14  0.0  -1.0  -0.0\n",
       "2018-09-17 -1.0  -3.0  -1.0\n",
       "2018-09-18  1.0   0.0   0.0\n",
       "2018-09-19  0.0  -1.0  -0.0"
      ]
     },
     "execution_count": 26,
     "metadata": {},
     "output_type": "execute_result"
    }
   ],
   "source": [
    "rounded = (100*returns).round()\n",
    "rounded"
   ]
  },
  {
   "cell_type": "code",
   "execution_count": 27,
   "metadata": {},
   "outputs": [
    {
     "data": {
      "text/html": [
       "<div>\n",
       "<style scoped>\n",
       "    .dataframe tbody tr th:only-of-type {\n",
       "        vertical-align: middle;\n",
       "    }\n",
       "\n",
       "    .dataframe tbody tr th {\n",
       "        vertical-align: top;\n",
       "    }\n",
       "\n",
       "    .dataframe thead th {\n",
       "        text-align: right;\n",
       "    }\n",
       "</style>\n",
       "<table border=\"1\" class=\"dataframe\">\n",
       "  <thead>\n",
       "    <tr style=\"text-align: right;\">\n",
       "      <th></th>\n",
       "      <th>SPY</th>\n",
       "      <th>AAPL</th>\n",
       "      <th>GOOG</th>\n",
       "    </tr>\n",
       "  </thead>\n",
       "  <tbody>\n",
       "    <tr>\n",
       "      <td>2018-04-09</td>\n",
       "      <td>NaN</td>\n",
       "      <td>NaN</td>\n",
       "      <td>NaN</td>\n",
       "    </tr>\n",
       "    <tr>\n",
       "      <td>2018-05-09</td>\n",
       "      <td>-0.0</td>\n",
       "      <td>-0.0</td>\n",
       "      <td>-0.0</td>\n",
       "    </tr>\n",
       "    <tr>\n",
       "      <td>2018-06-09</td>\n",
       "      <td>-0.0</td>\n",
       "      <td>-1.0</td>\n",
       "      <td>-1.0</td>\n",
       "    </tr>\n",
       "    <tr>\n",
       "      <td>2018-07-09</td>\n",
       "      <td>-0.0</td>\n",
       "      <td>-0.0</td>\n",
       "      <td>-0.0</td>\n",
       "    </tr>\n",
       "    <tr>\n",
       "      <td>2018-10-09</td>\n",
       "      <td>1.0</td>\n",
       "      <td>-1.0</td>\n",
       "      <td>-0.0</td>\n",
       "    </tr>\n",
       "    <tr>\n",
       "      <td>2018-11-09</td>\n",
       "      <td>1.0</td>\n",
       "      <td>3.0</td>\n",
       "      <td>2.0</td>\n",
       "    </tr>\n",
       "    <tr>\n",
       "      <td>2018-12-09</td>\n",
       "      <td>1.0</td>\n",
       "      <td>-1.0</td>\n",
       "      <td>-1.0</td>\n",
       "    </tr>\n",
       "    <tr>\n",
       "      <td>2018-09-13</td>\n",
       "      <td>1.0</td>\n",
       "      <td>3.0</td>\n",
       "      <td>2.0</td>\n",
       "    </tr>\n",
       "    <tr>\n",
       "      <td>2018-09-14</td>\n",
       "      <td>1.0</td>\n",
       "      <td>-1.0</td>\n",
       "      <td>-0.0</td>\n",
       "    </tr>\n",
       "    <tr>\n",
       "      <td>2018-09-17</td>\n",
       "      <td>-0.0</td>\n",
       "      <td>-2.0</td>\n",
       "      <td>-1.0</td>\n",
       "    </tr>\n",
       "    <tr>\n",
       "      <td>2018-09-18</td>\n",
       "      <td>1.0</td>\n",
       "      <td>1.0</td>\n",
       "      <td>1.0</td>\n",
       "    </tr>\n",
       "    <tr>\n",
       "      <td>2018-09-19</td>\n",
       "      <td>1.0</td>\n",
       "      <td>-0.0</td>\n",
       "      <td>-0.0</td>\n",
       "    </tr>\n",
       "  </tbody>\n",
       "</table>\n",
       "</div>"
      ],
      "text/plain": [
       "            SPY  AAPL  GOOG\n",
       "2018-04-09  NaN   NaN   NaN\n",
       "2018-05-09 -0.0  -0.0  -0.0\n",
       "2018-06-09 -0.0  -1.0  -1.0\n",
       "2018-07-09 -0.0  -0.0  -0.0\n",
       "2018-10-09  1.0  -1.0  -0.0\n",
       "2018-11-09  1.0   3.0   2.0\n",
       "2018-12-09  1.0  -1.0  -1.0\n",
       "2018-09-13  1.0   3.0   2.0\n",
       "2018-09-14  1.0  -1.0  -0.0\n",
       "2018-09-17 -0.0  -2.0  -1.0\n",
       "2018-09-18  1.0   1.0   1.0\n",
       "2018-09-19  1.0  -0.0  -0.0"
      ]
     },
     "execution_count": 27,
     "metadata": {},
     "output_type": "execute_result"
    }
   ],
   "source": [
    "ceiled = np.ceil(100*returns)\n",
    "ceiled"
   ]
  },
  {
   "cell_type": "code",
   "execution_count": 28,
   "metadata": {},
   "outputs": [
    {
     "data": {
      "text/html": [
       "<div>\n",
       "<style scoped>\n",
       "    .dataframe tbody tr th:only-of-type {\n",
       "        vertical-align: middle;\n",
       "    }\n",
       "\n",
       "    .dataframe tbody tr th {\n",
       "        vertical-align: top;\n",
       "    }\n",
       "\n",
       "    .dataframe thead th {\n",
       "        text-align: right;\n",
       "    }\n",
       "</style>\n",
       "<table border=\"1\" class=\"dataframe\">\n",
       "  <thead>\n",
       "    <tr style=\"text-align: right;\">\n",
       "      <th></th>\n",
       "      <th>SPY</th>\n",
       "      <th>AAPL</th>\n",
       "      <th>GOOG</th>\n",
       "    </tr>\n",
       "  </thead>\n",
       "  <tbody>\n",
       "    <tr>\n",
       "      <td>2018-04-09</td>\n",
       "      <td>NaN</td>\n",
       "      <td>NaN</td>\n",
       "      <td>NaN</td>\n",
       "    </tr>\n",
       "    <tr>\n",
       "      <td>2018-05-09</td>\n",
       "      <td>-0.0</td>\n",
       "      <td>-0.0</td>\n",
       "      <td>-0.0</td>\n",
       "    </tr>\n",
       "    <tr>\n",
       "      <td>2018-06-09</td>\n",
       "      <td>-0.0</td>\n",
       "      <td>-1.0</td>\n",
       "      <td>-1.0</td>\n",
       "    </tr>\n",
       "    <tr>\n",
       "      <td>2018-07-09</td>\n",
       "      <td>-0.0</td>\n",
       "      <td>-0.0</td>\n",
       "      <td>-0.0</td>\n",
       "    </tr>\n",
       "    <tr>\n",
       "      <td>2018-10-09</td>\n",
       "      <td>1.0</td>\n",
       "      <td>-1.0</td>\n",
       "      <td>-0.0</td>\n",
       "    </tr>\n",
       "    <tr>\n",
       "      <td>2018-11-09</td>\n",
       "      <td>1.0</td>\n",
       "      <td>3.0</td>\n",
       "      <td>2.0</td>\n",
       "    </tr>\n",
       "    <tr>\n",
       "      <td>2018-12-09</td>\n",
       "      <td>1.0</td>\n",
       "      <td>-1.0</td>\n",
       "      <td>-1.0</td>\n",
       "    </tr>\n",
       "    <tr>\n",
       "      <td>2018-09-13</td>\n",
       "      <td>1.0</td>\n",
       "      <td>3.0</td>\n",
       "      <td>2.0</td>\n",
       "    </tr>\n",
       "    <tr>\n",
       "      <td>2018-09-14</td>\n",
       "      <td>1.0</td>\n",
       "      <td>-1.0</td>\n",
       "      <td>-0.0</td>\n",
       "    </tr>\n",
       "    <tr>\n",
       "      <td>2018-09-17</td>\n",
       "      <td>-0.0</td>\n",
       "      <td>-2.0</td>\n",
       "      <td>-1.0</td>\n",
       "    </tr>\n",
       "    <tr>\n",
       "      <td>2018-09-18</td>\n",
       "      <td>1.0</td>\n",
       "      <td>1.0</td>\n",
       "      <td>1.0</td>\n",
       "    </tr>\n",
       "    <tr>\n",
       "      <td>2018-09-19</td>\n",
       "      <td>1.0</td>\n",
       "      <td>-0.0</td>\n",
       "      <td>-0.0</td>\n",
       "    </tr>\n",
       "  </tbody>\n",
       "</table>\n",
       "</div>"
      ],
      "text/plain": [
       "            SPY  AAPL  GOOG\n",
       "2018-04-09  NaN   NaN   NaN\n",
       "2018-05-09 -0.0  -0.0  -0.0\n",
       "2018-06-09 -0.0  -1.0  -1.0\n",
       "2018-07-09 -0.0  -0.0  -0.0\n",
       "2018-10-09  1.0  -1.0  -0.0\n",
       "2018-11-09  1.0   3.0   2.0\n",
       "2018-12-09  1.0  -1.0  -1.0\n",
       "2018-09-13  1.0   3.0   2.0\n",
       "2018-09-14  1.0  -1.0  -0.0\n",
       "2018-09-17 -0.0  -2.0  -1.0\n",
       "2018-09-18  1.0   1.0   1.0\n",
       "2018-09-19  1.0  -0.0  -0.0"
      ]
     },
     "execution_count": 28,
     "metadata": {},
     "output_type": "execute_result"
    }
   ],
   "source": [
    "floored = np.ceil(100*returns)\n",
    "floored"
   ]
  },
  {
   "cell_type": "markdown",
   "metadata": {},
   "source": [
    "## Problem: Element-by-Element Multiplication\n",
    "\n",
    "Mathematical commands in Python are element-by-element, except the `@` operator which is matrix \n",
    "multiplication and uses the rules of linear algebra. \n",
    "\n",
    "Multiply the returns of Google and SPY together using the dot operator. "
   ]
  },
  {
   "cell_type": "code",
   "execution_count": 29,
   "metadata": {},
   "outputs": [
    {
     "data": {
      "text/plain": [
       "2018-04-09             NaN\n",
       "2018-05-09    2.365390e-05\n",
       "2018-06-09    3.815608e-05\n",
       "2018-07-09    1.096568e-05\n",
       "2018-10-09   -2.835778e-07\n",
       "2018-11-09    3.601436e-05\n",
       "2018-12-09   -2.990751e-06\n",
       "2018-09-13    6.363013e-05\n",
       "2018-09-14   -4.095708e-07\n",
       "2018-09-17    7.441151e-05\n",
       "2018-09-18    2.426639e-05\n",
       "2018-09-19   -3.828182e-06\n",
       "dtype: float64"
      ]
     },
     "execution_count": 29,
     "metadata": {},
     "output_type": "execute_result"
    }
   ],
   "source": [
    "goog_returns * spy_returns"
   ]
  },
  {
   "cell_type": "markdown",
   "metadata": {},
   "source": [
    "## Problem: Save Everything\n",
    "Save everything created using `dill`.\n",
    "\n",
    "```python\n",
    "import dill\n",
    "\n",
    "dill.dump_session('lesson-3.dill')\n",
    "```\n",
    "\n",
    "You can load everything using `dill.load_session('lesson-3.dill')` later if you want to get \n",
    "the data back."
   ]
  },
  {
   "cell_type": "code",
   "execution_count": 30,
   "metadata": {},
   "outputs": [
    {
     "name": "stdout",
     "output_type": "stream",
     "text": [
      " Volume in drive C has no label.\n",
      " Volume Serial Number is 5303-EBBC\n",
      "\n",
      " Directory of c:\\git\\python-introduction\\solutions\n",
      "\n",
      "09/27/2019  04:25 PM            28,307 lesson-4.dill\n",
      "               1 File(s)         28,307 bytes\n",
      "               0 Dir(s)  39,200,886,784 bytes free\n"
     ]
    }
   ],
   "source": [
    "import dill\n",
    "\n",
    "dill.dump_session('lesson-4.dill')\n",
    "# Show file contents using ls. %ls is an IPython magic function.\n",
    "%ls *.dill"
   ]
  }
 ],
 "metadata": {
  "kernelspec": {
   "display_name": "Python 3",
   "language": "python",
   "name": "python3"
  },
  "language_info": {
   "codemirror_mode": {
    "name": "ipython",
    "version": 3
   },
   "file_extension": ".py",
   "mimetype": "text/x-python",
   "name": "python",
   "nbconvert_exporter": "python",
   "pygments_lexer": "ipython3",
   "version": "3.7.4"
  },
  "pycharm": {
   "stem_cell": {
    "cell_type": "raw",
    "metadata": {
     "collapsed": false
    },
    "source": []
   }
  }
 },
 "nbformat": 4,
 "nbformat_minor": 1
}
