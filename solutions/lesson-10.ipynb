{
 "cells": [
  {
   "cell_type": "markdown",
   "metadata": {
    "collapsed": true,
    "pycharm": {
     "name": "#%% md\n"
    }
   },
   "source": [
    "# Numeric Indexing of DataFrames\n",
    "\n",
    "This lesson covers:\n",
    "\n",
    "* Accessing specific elements in DataFrames using numeric indices\n",
    "\n",
    "Accessing elements in a DataFrame is a common task. To begin this lesson, clear the\n",
    "workspace set up some vectors and a $5\\times5$ array. These vectors and matrix will make it easy\n",
    "to determine which elements are selected by a command."
   ]
  },
  {
   "cell_type": "code",
   "execution_count": 1,
   "metadata": {
    "collapsed": false,
    "pycharm": {
     "is_executing": false,
     "name": "#%%\n"
    }
   },
   "outputs": [
    {
     "name": "stdout",
     "output_type": "stream",
     "text": [
      "x = [[ 0  1  2  3  4]\n",
      " [ 5  6  7  8  9]\n",
      " [10 11 12 13 14]\n",
      " [15 16 17 18 19]\n",
      " [20 21 22 23 24]]\n",
      "y = [0 1 2 3 4]\n",
      "\n",
      "x_df = \n",
      "    0   1   2   3   4\n",
      "0   0   1   2   3   4\n",
      "1   5   6   7   8   9\n",
      "2  10  11  12  13  14\n",
      "3  15  16  17  18  19\n",
      "4  20  21  22  23  24\n",
      "y_s = \n",
      "0    0\n",
      "1    1\n",
      "2    2\n",
      "3    3\n",
      "4    4\n",
      "dtype: int32\n",
      "\n",
      "x_named = \n",
      "    c0  c1  c2  c3  c4\n",
      "r0   0   1   2   3   4\n",
      "r1   5   6   7   8   9\n",
      "r2  10  11  12  13  14\n",
      "r3  15  16  17  18  19\n",
      "r4  20  21  22  23  24\n",
      "y_named = \n",
      "r0    0\n",
      "r1    1\n",
      "r2    2\n",
      "r3    3\n",
      "r4    4\n",
      "dtype: int32\n"
     ]
    }
   ],
   "source": [
    "import numpy as np\n",
    "import pandas as pd\n",
    "\n",
    "x = np.arange(25).reshape((5,5))  \n",
    "y = np.arange(5)\n",
    "\n",
    "\n",
    "x_df = pd.DataFrame(x)\n",
    "x_named = pd.DataFrame(x, index=['r0','r1','r2','r3','r4'],\n",
    "                       columns=['c0','c1','c2','c3','c4'])\n",
    "y_s = pd.Series(y)\n",
    "y_named = pd.Series(y, index=['r0','r1','r2','r3','r4'])\n",
    "\n",
    "print(f'x = {x}')\n",
    "print(f'y = {y}')\n",
    "\n",
    "print()\n",
    "print(f'x_df = \\n{x_df}')\n",
    "print(f'y_s = \\n{y_s}')\n",
    "\n",
    "print()\n",
    "print(f'x_named = \\n{x_named}')\n",
    "print(f'y_named = \\n{y_named}')"
   ]
  },
  {
   "cell_type": "markdown",
   "metadata": {
    "collapsed": false,
    "pycharm": {
     "name": "#%% md\n"
    }
   },
   "source": [
    "## Problem: Picking an Element out of a Matrix\n",
    "\n",
    "Using double index notation, select the (0,2) and the (2,0) element of `x_named`."
   ]
  },
  {
   "cell_type": "code",
   "execution_count": 2,
   "metadata": {
    "collapsed": false,
    "pycharm": {
     "is_executing": false,
     "name": "#%%\n"
    }
   },
   "outputs": [
    {
     "name": "stdout",
     "output_type": "stream",
     "text": [
      "2\n",
      "10\n"
     ]
    }
   ],
   "source": [
    "print(x_named.iloc[0, 2])\n",
    "print(x_named.iloc[2, 0])\n"
   ]
  },
  {
   "cell_type": "markdown",
   "metadata": {
    "collapsed": false
   },
   "source": [
    "## Problem: Selecting Entire Rows\n",
    "1. Select the 2nd row of `x_named` using the colon (:) operator.\n",
    "2. Select the 2nd element of `y_named` using the same syntax.\n"
   ]
  },
  {
   "cell_type": "code",
   "execution_count": 3,
   "metadata": {
    "collapsed": false,
    "pycharm": {
     "is_executing": false,
     "name": "#%%\n"
    }
   },
   "outputs": [
    {
     "name": "stdout",
     "output_type": "stream",
     "text": [
      "0    5\n",
      "1    6\n",
      "2    7\n",
      "3    8\n",
      "4    9\n",
      "Name: 1, dtype: int32\n",
      "0    5\n",
      "1    6\n",
      "2    7\n",
      "3    8\n",
      "4    9\n",
      "Name: 1, dtype: int32\n",
      "r1    1\n",
      "dtype: int32\n"
     ]
    }
   ],
   "source": [
    "print(x_df.iloc[1, :])\n",
    "print(x_df.iloc[1])\n",
    "print(y_named.iloc[1:2])"
   ]
  },
  {
   "cell_type": "markdown",
   "metadata": {
    "collapsed": false
   },
   "source": [
    "## Problem: Selecting Entire Columns\n",
    "Select the 2nd column of `x_named` using the colon (:) operator. "
   ]
  },
  {
   "cell_type": "code",
   "execution_count": 4,
   "metadata": {
    "collapsed": false,
    "pycharm": {
     "is_executing": false,
     "name": "#%%\n"
    }
   },
   "outputs": [
    {
     "name": "stdout",
     "output_type": "stream",
     "text": [
      "r0     1\n",
      "r1     6\n",
      "r2    11\n",
      "r3    16\n",
      "r4    21\n",
      "Name: c1, dtype: int32\n"
     ]
    }
   ],
   "source": [
    "print(x_named.iloc[:, 1])"
   ]
  },
  {
   "cell_type": "code",
   "execution_count": 5,
   "metadata": {
    "collapsed": false,
    "pycharm": {
     "is_executing": false,
     "name": "#%%\n"
    }
   },
   "outputs": [
    {
     "name": "stdout",
     "output_type": "stream",
     "text": [
      "    c1\n",
      "r0   1\n",
      "r1   6\n",
      "r2  11\n",
      "r3  16\n",
      "r4  21\n",
      "    c1\n",
      "r0   1\n",
      "r1   6\n",
      "r2  11\n",
      "r3  16\n",
      "r4  21\n"
     ]
    }
   ],
   "source": [
    "print(x_named.iloc[:, [1]])\n",
    "print(x_named.iloc[:, 1:2])\n"
   ]
  },
  {
   "cell_type": "markdown",
   "metadata": {
    "collapsed": false
   },
   "source": [
    "## Problem: Selecting Specific Columns\n",
    "Select the 2nd and 3rd columns of `x_named` using the colon (:) operator."
   ]
  },
  {
   "cell_type": "code",
   "execution_count": 6,
   "metadata": {
    "collapsed": false,
    "pycharm": {
     "is_executing": false,
     "name": "#%%\n"
    }
   },
   "outputs": [
    {
     "name": "stdout",
     "output_type": "stream",
     "text": [
      "    c1  c2\n",
      "r0   1   2\n",
      "r1   6   7\n",
      "r2  11  12\n",
      "r3  16  17\n",
      "r4  21  22\n"
     ]
    }
   ],
   "source": [
    "print(x_named.iloc[:, 1:3])"
   ]
  },
  {
   "cell_type": "markdown",
   "metadata": {
    "collapsed": false,
    "pycharm": {
     "name": "#%% md\n"
    }
   },
   "source": [
    "## Problem: Select Specific Rows\n",
    "\n",
    "Select the 2nd and 4th rows of `x_named`. \n",
    "Combine these be combined to select columns 2 and 3 and rows 2 and 4. \n"
   ]
  },
  {
   "cell_type": "code",
   "execution_count": 7,
   "metadata": {
    "collapsed": false,
    "pycharm": {
     "is_executing": false,
     "name": "#%%\n"
    }
   },
   "outputs": [
    {
     "name": "stdout",
     "output_type": "stream",
     "text": [
      "    c0  c1  c2  c3  c4\n",
      "r1   5   6   7   8   9\n",
      "r3  15  16  17  18  19\n",
      "    c0  c1  c2  c3  c4\n",
      "r1   5   6   7   8   9\n",
      "r3  15  16  17  18  19\n"
     ]
    }
   ],
   "source": [
    "print(x_named.iloc[[1, 3], :])\n",
    "print(x_named.iloc[1:4:2, :])"
   ]
  },
  {
   "cell_type": "markdown",
   "metadata": {
    "collapsed": false
   },
   "source": [
    "## Problem: Select Specific Rows and Columns\n",
    "\n",
    "Combine these be combined to select columns 2 and 3 and rows 2 and 4. "
   ]
  },
  {
   "cell_type": "code",
   "execution_count": 8,
   "metadata": {
    "collapsed": false,
    "pycharm": {
     "is_executing": false,
     "name": "#%%\n"
    }
   },
   "outputs": [
    {
     "name": "stdout",
     "output_type": "stream",
     "text": [
      "    c1  c2\n",
      "r1   6   7\n",
      "r3  16  17\n",
      "    c1  c2\n",
      "r1   6   7\n",
      "r3  16  17\n",
      "    c1  c2\n",
      "r1   6   7\n",
      "r3  16  17\n"
     ]
    }
   ],
   "source": [
    "print(x_named.iloc[1:4:2, 1:3])\n",
    "\n",
    "# Wrong\n",
    "print(x_named.iloc[[1, 3],[1, 2]])\n",
    "\n",
    "# Right\n",
    "print(x_named.iloc[[1,3], 1:3])"
   ]
  },
  {
   "cell_type": "markdown",
   "metadata": {
    "collapsed": false
   },
   "source": [
    "## Problem: Select arbitrary rows and columns\n",
    "Select the 2nd and 4th rows and 1st and 3rd columns of `x`.\n",
    "\n",
    "**Note**: This is the only important difference with NumPy.  Arbitrary row/column\n",
    "selection using `DataFrame.iloc` is simpler but less flexible."
   ]
  },
  {
   "cell_type": "code",
   "execution_count": 9,
   "metadata": {
    "collapsed": false,
    "pycharm": {
     "is_executing": false,
     "name": "#%%\n"
    }
   },
   "outputs": [
    {
     "data": {
      "text/html": [
       "<div>\n",
       "<style scoped>\n",
       "    .dataframe tbody tr th:only-of-type {\n",
       "        vertical-align: middle;\n",
       "    }\n",
       "\n",
       "    .dataframe tbody tr th {\n",
       "        vertical-align: top;\n",
       "    }\n",
       "\n",
       "    .dataframe thead th {\n",
       "        text-align: right;\n",
       "    }\n",
       "</style>\n",
       "<table border=\"1\" class=\"dataframe\">\n",
       "  <thead>\n",
       "    <tr style=\"text-align: right;\">\n",
       "      <th></th>\n",
       "      <th>c1</th>\n",
       "      <th>c2</th>\n",
       "    </tr>\n",
       "  </thead>\n",
       "  <tbody>\n",
       "    <tr>\n",
       "      <td>r1</td>\n",
       "      <td>6</td>\n",
       "      <td>7</td>\n",
       "    </tr>\n",
       "    <tr>\n",
       "      <td>r3</td>\n",
       "      <td>16</td>\n",
       "      <td>17</td>\n",
       "    </tr>\n",
       "  </tbody>\n",
       "</table>\n",
       "</div>"
      ],
      "text/plain": [
       "    c1  c2\n",
       "r1   6   7\n",
       "r3  16  17"
      ]
     },
     "execution_count": 9,
     "metadata": {},
     "output_type": "execute_result"
    }
   ],
   "source": [
    "x_named.iloc[[1, 3],[1, 2]]"
   ]
  }
 ],
 "metadata": {
  "kernelspec": {
   "display_name": "Python 3",
   "language": "python",
   "name": "python3"
  },
  "language_info": {
   "codemirror_mode": {
    "name": "ipython",
    "version": 3
   },
   "file_extension": ".py",
   "mimetype": "text/x-python",
   "name": "python",
   "nbconvert_exporter": "python",
   "pygments_lexer": "ipython3",
   "version": "3.7.4"
  },
  "pycharm": {
   "stem_cell": {
    "cell_type": "raw",
    "metadata": {
     "collapsed": false
    },
    "source": []
   }
  }
 },
 "nbformat": 4,
 "nbformat_minor": 0
}
