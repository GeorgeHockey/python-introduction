{
 "cells": [
  {
   "cell_type": "markdown",
   "metadata": {
    "collapsed": true,
    "pycharm": {
     "name": "#%% md\n"
    }
   },
   "source": [
    "# Numeric Indexing of DataFrames\n",
    "\n",
    "This lesson covers:\n",
    "\n",
    "* Accessing specific elements in DataFrames using numeric indices\n",
    "\n",
    "Accessing elements in a DataFrame is a common task. To begin this lesson,\n",
    "clear the workspace set up some vectors and a $5\\times5$ array. These vectors\n",
    "and matrix will make it easy to determine which elements are selected by a\n",
    "command.\n",
    "\n",
    "Begin by creating:\n",
    "\n",
    "* A 5-by-5 DataFrame `x_df` containing `np.arange(25).reshape((5,5))`.\n",
    "* A 5-element Series `y_s` containing `np.arange(5)`.\n",
    "* A 5-by-5 DataFrame `x_named` that is `x_df` with columns 'c0', 'c1', ...,\n",
    "  'c4' and rows 'r0', 'r1', ..., 'r4'.\n",
    "* A 5-element Series `y_named` with index 'r0', 'r1', ..., 'r4'. "
   ]
  },
  {
   "cell_type": "code",
   "execution_count": 31,
   "metadata": {
    "collapsed": false,
    "pycharm": {
     "is_executing": false,
     "name": "#%%\n"
    }
   },
   "outputs": [
    {
     "name": "stdout",
     "text": [
      "x_df = \n    0   1   2   3   4\n0   0   1   2   3   4\n1   5   6   7   8   9\n2  10  11  12  13  14\n3  15  16  17  18  19\n4  20  21  22  23  24\ny_s = \n0    0\n1    1\n2    2\n3    3\n4    4\ndtype: int32\nx_named = \n    c0  c1  c2  c3  c4\nr0   0   1   2   3   4\nr1   5   6   7   8   9\nr2  10  11  12  13  14\nr3  15  16  17  18  19\nr4  20  21  22  23  24\ny_named = \nr0    0\nr1    1\nr2    2\nr3    3\nr4    4\ndtype: int32\n"
     ],
     "output_type": "stream"
    }
   ],
   "source": [
    "import numpy as np\n",
    "import pandas as pd\n",
    "\n",
    "x = np.arange(25).reshape((5,5))  \n",
    "y = np.arange(5)\n",
    "\n",
    "\n",
    "x_df = pd.DataFrame(x)\n",
    "x_named = pd.DataFrame(x, index=['r0','r1','r2','r3','r4'],\n",
    "                       columns=['c0','c1','c2','c3','c4'])\n",
    "y_s = pd.Series(y)\n",
    "y_named = pd.Series(y, index=['r0','r1','r2','r3','r4'])\n",
    "\n",
    "print(f'x_df = \\n{x_df}')\n",
    "print(f'y_s = \\n{y_s}')\n",
    "\n",
    "print(f'x_named = \\n{x_named}')\n",
    "print(f'y_named = \\n{y_named}')"
   ]
  },
  {
   "cell_type": "markdown",
   "metadata": {
    "collapsed": false,
    "pycharm": {
     "name": "#%% md\n"
    }
   },
   "source": [
    "## Problem: Picking an Element out of a DataFrame\n",
    "\n",
    "Using double index notation, select the (0,2) and the (2,0) element of\n",
    "`x_named`."
   ]
  },
  {
   "cell_type": "code",
   "execution_count": 32,
   "metadata": {
    "collapsed": false,
    "pycharm": {
     "is_executing": false,
     "name": "#%%\n"
    }
   },
   "outputs": [
    {
     "name": "stdout",
     "text": [
      "2\n10\n"
     ],
     "output_type": "stream"
    }
   ],
   "source": [
    "print(x_named.iloc[0, 2])\n",
    "print(x_named.iloc[2, 0])"
   ]
  },
  {
   "cell_type": "markdown",
   "source": [
    "## Problem: Select Elements from Series\n",
    "\n",
    "Select the 2nd element of `y_named`."
   ],
   "metadata": {
    "collapsed": false,
    "pycharm": {
     "name": "#%% md\n"
    }
   }
  },
  {
   "cell_type": "code",
   "execution_count": 33,
   "outputs": [
    {
     "data": {
      "text/plain": "r1    1\ndtype: int32"
     },
     "metadata": {},
     "output_type": "execute_result",
     "execution_count": 33
    }
   ],
   "source": [
    "y_named.iloc[1:2]\n"
   ],
   "metadata": {
    "collapsed": false,
    "pycharm": {
     "name": "#%%\n",
     "is_executing": false
    }
   }
  },
  {
   "cell_type": "markdown",
   "metadata": {
    "collapsed": false
   },
   "source": [
    "## Problem: Selecting Rows as Series\n",
    "\n",
    "Select the 2nd row of `x_named` using the colon (:) operator.\n"
   ]
  },
  {
   "cell_type": "code",
   "execution_count": 34,
   "metadata": {
    "collapsed": false,
    "pycharm": {
     "is_executing": false,
     "name": "#%%\n"
    }
   },
   "outputs": [
    {
     "data": {
      "text/plain": "c0    5\nc1    6\nc2    7\nc3    8\nc4    9\nName: r1, dtype: int32"
     },
     "metadata": {},
     "output_type": "execute_result",
     "execution_count": 34
    }
   ],
   "source": [
    "x_named.iloc[1, :]\n"
   ]
  },
  {
   "cell_type": "markdown",
   "source": [
    "## Problem: Selecting Rows as DataFrames\n",
    "\n",
    "1. Select the 2nd row of `x_named` using a slice so that the selection\n",
    "   remains a DataFrame.\n",
    "2. Repeat using a list of indices to retain the DataFrame. \n"
   ],
   "metadata": {
    "collapsed": false,
    "pycharm": {
     "name": "#%% md\n"
    }
   }
  },
  {
   "cell_type": "code",
   "execution_count": 35,
   "outputs": [
    {
     "data": {
      "text/plain": "    c0  c1  c2  c3  c4\nr1   5   6   7   8   9",
      "text/html": "<div>\n<style scoped>\n    .dataframe tbody tr th:only-of-type {\n        vertical-align: middle;\n    }\n\n    .dataframe tbody tr th {\n        vertical-align: top;\n    }\n\n    .dataframe thead th {\n        text-align: right;\n    }\n</style>\n<table border=\"1\" class=\"dataframe\">\n  <thead>\n    <tr style=\"text-align: right;\">\n      <th></th>\n      <th>c0</th>\n      <th>c1</th>\n      <th>c2</th>\n      <th>c3</th>\n      <th>c4</th>\n    </tr>\n  </thead>\n  <tbody>\n    <tr>\n      <td>r1</td>\n      <td>5</td>\n      <td>6</td>\n      <td>7</td>\n      <td>8</td>\n      <td>9</td>\n    </tr>\n  </tbody>\n</table>\n</div>"
     },
     "metadata": {},
     "output_type": "execute_result",
     "execution_count": 35
    }
   ],
   "source": [
    "x_named.iloc[1:2, :]"
   ],
   "metadata": {
    "collapsed": false,
    "pycharm": {
     "name": "#%%\n",
     "is_executing": false
    }
   }
  },
  {
   "cell_type": "code",
   "execution_count": 36,
   "outputs": [
    {
     "data": {
      "text/plain": "    c0  c1  c2  c3  c4\nr1   5   6   7   8   9",
      "text/html": "<div>\n<style scoped>\n    .dataframe tbody tr th:only-of-type {\n        vertical-align: middle;\n    }\n\n    .dataframe tbody tr th {\n        vertical-align: top;\n    }\n\n    .dataframe thead th {\n        text-align: right;\n    }\n</style>\n<table border=\"1\" class=\"dataframe\">\n  <thead>\n    <tr style=\"text-align: right;\">\n      <th></th>\n      <th>c0</th>\n      <th>c1</th>\n      <th>c2</th>\n      <th>c3</th>\n      <th>c4</th>\n    </tr>\n  </thead>\n  <tbody>\n    <tr>\n      <td>r1</td>\n      <td>5</td>\n      <td>6</td>\n      <td>7</td>\n      <td>8</td>\n      <td>9</td>\n    </tr>\n  </tbody>\n</table>\n</div>"
     },
     "metadata": {},
     "output_type": "execute_result",
     "execution_count": 36
    }
   ],
   "source": [
    "x_named.iloc[[1], :]\n"
   ],
   "metadata": {
    "collapsed": false,
    "pycharm": {
     "name": "#%%\n",
     "is_executing": false
    }
   }
  },
  {
   "cell_type": "markdown",
   "metadata": {
    "collapsed": false
   },
   "source": [
    "## Problem: Selecting Entire Columns as Series\n",
    "Select the 2nd column of `x_named` using the colon (:) operator. "
   ]
  },
  {
   "cell_type": "code",
   "execution_count": 37,
   "metadata": {
    "collapsed": false,
    "pycharm": {
     "is_executing": false,
     "name": "#%%\n"
    }
   },
   "outputs": [
    {
     "name": "stdout",
     "text": [
      "r0     1\nr1     6\nr2    11\nr3    16\nr4    21\nName: c1, dtype: int32",
      "\n"
     ],
     "output_type": "stream"
    }
   ],
   "source": [
    "print(x_named.iloc[:, 1])"
   ]
  },
  {
   "cell_type": "markdown",
   "source": [
    "## Problem: Selecting Single Columns as DataFrames\n",
    "Select the 2nd column of `x_named`  so that the selection remains a DataFrame. \n"
   ],
   "metadata": {
    "collapsed": false,
    "pycharm": {
     "name": "#%% md\n"
    }
   }
  },
  {
   "cell_type": "code",
   "execution_count": 38,
   "metadata": {
    "collapsed": false,
    "pycharm": {
     "is_executing": false,
     "name": "#%%\n"
    }
   },
   "outputs": [
    {
     "data": {
      "text/plain": "    c1\nr0   1\nr1   6\nr2  11\nr3  16\nr4  21",
      "text/html": "<div>\n<style scoped>\n    .dataframe tbody tr th:only-of-type {\n        vertical-align: middle;\n    }\n\n    .dataframe tbody tr th {\n        vertical-align: top;\n    }\n\n    .dataframe thead th {\n        text-align: right;\n    }\n</style>\n<table border=\"1\" class=\"dataframe\">\n  <thead>\n    <tr style=\"text-align: right;\">\n      <th></th>\n      <th>c1</th>\n    </tr>\n  </thead>\n  <tbody>\n    <tr>\n      <td>r0</td>\n      <td>1</td>\n    </tr>\n    <tr>\n      <td>r1</td>\n      <td>6</td>\n    </tr>\n    <tr>\n      <td>r2</td>\n      <td>11</td>\n    </tr>\n    <tr>\n      <td>r3</td>\n      <td>16</td>\n    </tr>\n    <tr>\n      <td>r4</td>\n      <td>21</td>\n    </tr>\n  </tbody>\n</table>\n</div>"
     },
     "metadata": {},
     "output_type": "execute_result",
     "execution_count": 38
    }
   ],
   "source": [
    "x_named.iloc[:, 1:2]"
   ]
  },
  {
   "cell_type": "code",
   "execution_count": 39,
   "outputs": [
    {
     "data": {
      "text/plain": "    c1\nr0   1\nr1   6\nr2  11\nr3  16\nr4  21",
      "text/html": "<div>\n<style scoped>\n    .dataframe tbody tr th:only-of-type {\n        vertical-align: middle;\n    }\n\n    .dataframe tbody tr th {\n        vertical-align: top;\n    }\n\n    .dataframe thead th {\n        text-align: right;\n    }\n</style>\n<table border=\"1\" class=\"dataframe\">\n  <thead>\n    <tr style=\"text-align: right;\">\n      <th></th>\n      <th>c1</th>\n    </tr>\n  </thead>\n  <tbody>\n    <tr>\n      <td>r0</td>\n      <td>1</td>\n    </tr>\n    <tr>\n      <td>r1</td>\n      <td>6</td>\n    </tr>\n    <tr>\n      <td>r2</td>\n      <td>11</td>\n    </tr>\n    <tr>\n      <td>r3</td>\n      <td>16</td>\n    </tr>\n    <tr>\n      <td>r4</td>\n      <td>21</td>\n    </tr>\n  </tbody>\n</table>\n</div>"
     },
     "metadata": {},
     "output_type": "execute_result",
     "execution_count": 39
    }
   ],
   "source": [
    "x_named.iloc[:, [1]]\n"
   ],
   "metadata": {
    "collapsed": false,
    "pycharm": {
     "name": "#%%\n",
     "is_executing": false
    }
   }
  },
  {
   "cell_type": "markdown",
   "metadata": {
    "collapsed": false
   },
   "source": [
    "## Problem: Selecting Specific Columns\n",
    "Select the 2nd and 3rd columns of `x_named` using a slice."
   ]
  },
  {
   "cell_type": "code",
   "execution_count": 40,
   "metadata": {
    "collapsed": false,
    "pycharm": {
     "is_executing": false,
     "name": "#%%\n"
    }
   },
   "outputs": [
    {
     "name": "stdout",
     "text": [
      "    c1  c2\nr0   1   2\nr1   6   7\nr2  11  12\nr3  16  17\nr4  21  22\n"
     ],
     "output_type": "stream"
    }
   ],
   "source": [
    "print(x_named.iloc[:, 1:3])"
   ]
  },
  {
   "cell_type": "markdown",
   "metadata": {
    "collapsed": false,
    "pycharm": {
     "name": "#%% md\n"
    }
   },
   "source": [
    "## Problem: Select Specific Rows\n",
    "\n",
    "Select the 2nd and 4th rows of `x_named` using a slice.  Repeat the \n",
    "selection using a list of integers."
   ]
  },
  {
   "cell_type": "code",
   "execution_count": 41,
   "metadata": {
    "collapsed": false,
    "pycharm": {
     "is_executing": false,
     "name": "#%%\n"
    }
   },
   "outputs": [
    {
     "data": {
      "text/plain": "    c0  c1  c2  c3  c4\nr1   5   6   7   8   9\nr3  15  16  17  18  19",
      "text/html": "<div>\n<style scoped>\n    .dataframe tbody tr th:only-of-type {\n        vertical-align: middle;\n    }\n\n    .dataframe tbody tr th {\n        vertical-align: top;\n    }\n\n    .dataframe thead th {\n        text-align: right;\n    }\n</style>\n<table border=\"1\" class=\"dataframe\">\n  <thead>\n    <tr style=\"text-align: right;\">\n      <th></th>\n      <th>c0</th>\n      <th>c1</th>\n      <th>c2</th>\n      <th>c3</th>\n      <th>c4</th>\n    </tr>\n  </thead>\n  <tbody>\n    <tr>\n      <td>r1</td>\n      <td>5</td>\n      <td>6</td>\n      <td>7</td>\n      <td>8</td>\n      <td>9</td>\n    </tr>\n    <tr>\n      <td>r3</td>\n      <td>15</td>\n      <td>16</td>\n      <td>17</td>\n      <td>18</td>\n      <td>19</td>\n    </tr>\n  </tbody>\n</table>\n</div>"
     },
     "metadata": {},
     "output_type": "execute_result",
     "execution_count": 41
    }
   ],
   "source": [
    "x_named.iloc[1:4:2, :]"
   ]
  },
  {
   "cell_type": "code",
   "execution_count": 42,
   "outputs": [
    {
     "data": {
      "text/plain": "    c0  c1  c2  c3  c4\nr1   5   6   7   8   9\nr3  15  16  17  18  19",
      "text/html": "<div>\n<style scoped>\n    .dataframe tbody tr th:only-of-type {\n        vertical-align: middle;\n    }\n\n    .dataframe tbody tr th {\n        vertical-align: top;\n    }\n\n    .dataframe thead th {\n        text-align: right;\n    }\n</style>\n<table border=\"1\" class=\"dataframe\">\n  <thead>\n    <tr style=\"text-align: right;\">\n      <th></th>\n      <th>c0</th>\n      <th>c1</th>\n      <th>c2</th>\n      <th>c3</th>\n      <th>c4</th>\n    </tr>\n  </thead>\n  <tbody>\n    <tr>\n      <td>r1</td>\n      <td>5</td>\n      <td>6</td>\n      <td>7</td>\n      <td>8</td>\n      <td>9</td>\n    </tr>\n    <tr>\n      <td>r3</td>\n      <td>15</td>\n      <td>16</td>\n      <td>17</td>\n      <td>18</td>\n      <td>19</td>\n    </tr>\n  </tbody>\n</table>\n</div>"
     },
     "metadata": {},
     "output_type": "execute_result",
     "execution_count": 42
    }
   ],
   "source": [
    "x_named.iloc[[1, 3], :]\n"
   ],
   "metadata": {
    "collapsed": false,
    "pycharm": {
     "name": "#%%\n",
     "is_executing": false
    }
   }
  },
  {
   "cell_type": "markdown",
   "metadata": {
    "collapsed": false
   },
   "source": [
    "## Problem: Select arbitrary rows and columns\n",
    "\n",
    "Combine the previous selections to select columns 2 and 3 and rows 2 and 4\n",
    "of `x_named`. \n",
    "\n",
    "**Note**: This is the only important difference with NumPy.  Arbitrary\n",
    "row/column selection using `DataFrame.iloc` is simpler but less flexible.\n",
    "\n",
    "print(x_named.iloc[1:4:2, 1:3])\n",
    "print(x_named.iloc[[1, 3],[1, 2]])\n",
    "print(x_named.iloc[[1,3], 1:3])"
   ]
  },
  {
   "cell_type": "markdown",
   "metadata": {
    "collapsed": false,
    "pycharm": {
     "name": "#%% md\n"
    }
   },
   "source": [
    "## Problem: Mixed selection\n",
    "\n",
    "Select the columns c1 and c2 and rows 0, 2 and 4."
   ]
  },
  {
   "cell_type": "code",
   "execution_count": 43,
   "metadata": {
    "collapsed": false,
    "pycharm": {
     "is_executing": false,
     "name": "#%%\n"
    }
   },
   "outputs": [
    {
     "data": {
      "text/plain": "    c1  c2\nr0   1   2\nr2  11  12\nr4  21  22",
      "text/html": "<div>\n<style scoped>\n    .dataframe tbody tr th:only-of-type {\n        vertical-align: middle;\n    }\n\n    .dataframe tbody tr th {\n        vertical-align: top;\n    }\n\n    .dataframe thead th {\n        text-align: right;\n    }\n</style>\n<table border=\"1\" class=\"dataframe\">\n  <thead>\n    <tr style=\"text-align: right;\">\n      <th></th>\n      <th>c1</th>\n      <th>c2</th>\n    </tr>\n  </thead>\n  <tbody>\n    <tr>\n      <td>r0</td>\n      <td>1</td>\n      <td>2</td>\n    </tr>\n    <tr>\n      <td>r2</td>\n      <td>11</td>\n      <td>12</td>\n    </tr>\n    <tr>\n      <td>r4</td>\n      <td>21</td>\n      <td>22</td>\n    </tr>\n  </tbody>\n</table>\n</div>"
     },
     "metadata": {},
     "output_type": "execute_result",
     "execution_count": 43
    }
   ],
   "source": [
    "x_named[['c1', 'c2']].iloc[[0, 2, 4]]"
   ]
  },
  {
   "cell_type": "markdown",
   "metadata": {
    "collapsed": false
   },
   "source": [
    "## Problem: Mixed selection 2\n",
    "\n",
    "Select the rows r1 and r2 and columns 0, 2 and 4."
   ]
  },
  {
   "cell_type": "code",
   "execution_count": 44,
   "metadata": {
    "collapsed": false,
    "pycharm": {
     "is_executing": false,
     "name": "#%%\n"
    }
   },
   "outputs": [
    {
     "data": {
      "text/plain": "    c0  c2  c4\nr1   5   7   9\nr2  10  12  14",
      "text/html": "<div>\n<style scoped>\n    .dataframe tbody tr th:only-of-type {\n        vertical-align: middle;\n    }\n\n    .dataframe tbody tr th {\n        vertical-align: top;\n    }\n\n    .dataframe thead th {\n        text-align: right;\n    }\n</style>\n<table border=\"1\" class=\"dataframe\">\n  <thead>\n    <tr style=\"text-align: right;\">\n      <th></th>\n      <th>c0</th>\n      <th>c2</th>\n      <th>c4</th>\n    </tr>\n  </thead>\n  <tbody>\n    <tr>\n      <td>r1</td>\n      <td>5</td>\n      <td>7</td>\n      <td>9</td>\n    </tr>\n    <tr>\n      <td>r2</td>\n      <td>10</td>\n      <td>12</td>\n      <td>14</td>\n    </tr>\n  </tbody>\n</table>\n</div>"
     },
     "metadata": {},
     "output_type": "execute_result",
     "execution_count": 44
    }
   ],
   "source": [
    "x_named.loc[['r1','r2']].iloc[:, [0, 2, 4]]"
   ]
  }
 ],
 "metadata": {
  "kernelspec": {
   "display_name": "Python 3",
   "language": "python",
   "name": "python3"
  },
  "language_info": {
   "codemirror_mode": {
    "name": "ipython",
    "version": 3
   },
   "file_extension": ".py",
   "mimetype": "text/x-python",
   "name": "python",
   "nbconvert_exporter": "python",
   "pygments_lexer": "ipython3",
   "version": "3.7.4"
  },
  "pycharm": {
   "stem_cell": {
    "cell_type": "raw",
    "source": [],
    "metadata": {
     "collapsed": false
    }
   }
  }
 },
 "nbformat": 4,
 "nbformat_minor": 0
}