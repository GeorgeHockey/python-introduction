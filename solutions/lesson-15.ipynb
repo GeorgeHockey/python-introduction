{
 "cells": [
  {
   "cell_type": "markdown",
   "metadata": {
    "pycharm": {
     "name": "#%% md\n"
    }
   },
   "source": [
    "# Saving and Exporting Data\n",
    "\n",
    "This lesson covers:\n",
    "\n",
    "* Saving and reloading data"
   ]
  },
  {
   "cell_type": "markdown",
   "metadata": {},
   "source": [
    "## Problem: Reading in data with Dates\n",
    "\n",
    "Read in the files `GS10.csv` and `GS10.xlsx` which have both been downloaded from\n",
    "[FRED](https://fred.stlouisfed.org/)."
   ]
  },
  {
   "cell_type": "code",
   "execution_count": 1,
   "metadata": {
    "pycharm": {
     "is_executing": false,
     "name": "#%%\n"
    }
   },
   "outputs": [],
   "source": [
    "# Setup: Load the data to use later\n",
    "import pandas as pd\n",
    "\n",
    "gs10_csv = pd.read_csv('data/GS10.csv', index_col='DATE', parse_dates=True)\n",
    "gs10_excel = pd.read_excel('data/GS10.xls', skiprows=10, index_col='observation_date')\n"
   ]
  },
  {
   "cell_type": "markdown",
   "metadata": {
    "pycharm": {
     "name": "#%% md\n"
    }
   },
   "source": [
    "## Problem: Export to Excel, CSV, HDF, and Pickle.\n",
    "\n",
    "Export both `gs10_excel` and `gs10_csv` to the same Excel file"
   ]
  },
  {
   "cell_type": "code",
   "execution_count": 2,
   "metadata": {
    "collapsed": false,
    "pycharm": {
     "name": "#%%\n"
    }
   },
   "outputs": [
    {
     "name": "stdout",
     "output_type": "stream",
     "text": [
      "  observation_date  GS10\n",
      "0       1953-04-01  2.83\n",
      "1       1953-05-01  3.05\n",
      "2       1953-06-01  3.11\n",
      "3       1953-07-01  2.93\n",
      "4       1953-08-01  2.95\n",
      "        DATE  GS10\n",
      "0 1953-04-01  2.83\n",
      "1 1953-05-01  3.05\n",
      "2 1953-06-01  3.11\n",
      "3 1953-07-01  2.93\n",
      "4 1953-08-01  2.95\n"
     ]
    }
   ],
   "source": [
    "writer = pd.ExcelWriter('gs10-combined.xlsx', mode='w')\n",
    "gs10_csv.to_excel(writer,sheet_name='csv-data')\n",
    "gs10_excel.to_excel(writer,sheet_name='excel-data')\n",
    "writer.close()\n",
    "\n",
    "print(pd.read_excel('gs10-combined.xlsx', 'excel-data').head())\n",
    "print(pd.read_excel('gs10-combined.xlsx', 'csv-data').head())"
   ]
  },
  {
   "cell_type": "markdown",
   "metadata": {
    "collapsed": false
   },
   "source": [
    "## Problem: Export to CSV\n",
    "\n",
    "Export `gs10_excel` to CSV. "
   ]
  },
  {
   "cell_type": "code",
   "execution_count": 3,
   "metadata": {
    "collapsed": false,
    "pycharm": {
     "name": "#%%\n"
    }
   },
   "outputs": [],
   "source": [
    "gs10_csv.to_csv('gs10-exported.csv')"
   ]
  },
  {
   "cell_type": "markdown",
   "metadata": {
    "collapsed": false
   },
   "source": [
    "## Problem: Export to HDF\n",
    "\n",
    "Export both to an HDF file (the closest thing to a \"native\" format in pandas)"
   ]
  },
  {
   "cell_type": "code",
   "execution_count": 4,
   "metadata": {
    "collapsed": false,
    "pycharm": {
     "name": "#%%\n"
    }
   },
   "outputs": [],
   "source": [
    "# mode='w' creates a new file for writing\n",
    "gs10_csv.to_hdf('gs10.h5', 'csv', mode='w')\n",
    "# 'a' allows an existing file to be appended to\n",
    "gs10_excel.to_hdf('gs10.h5', 'excel', mode='a')"
   ]
  },
  {
   "cell_type": "markdown",
   "metadata": {
    "collapsed": false
   },
   "source": [
    "## Problem: Export to Pickle\n",
    "\n",
    "1. Export `gs10_excel` to a pickle file.\n",
    "2. Combine `gs10_excel` and `gs10_csv` into a dictionary and pickle the dictionary."
   ]
  },
  {
   "cell_type": "code",
   "execution_count": 5,
   "metadata": {
    "pycharm": {
     "is_executing": false,
     "name": "#%%\n"
    }
   },
   "outputs": [
    {
     "name": "stdout",
     "output_type": "stream",
     "text": [
      " Volume in drive C has no label.\n",
      " Volume Serial Number is 5303-EBBC\n",
      "\n",
      " Directory of C:\\git\\python-introduction\\solutions\n",
      "\n",
      "09/30/2019  12:50 AM            13,693 gs10.pkl\n",
      "               1 File(s)         13,693 bytes\n",
      "               0 Dir(s)  34,951,368,704 bytes free\n"
     ]
    }
   ],
   "source": [
    "gs10_excel.to_pickle('gs10.pkl')\n",
    "%ls gs10.pkl"
   ]
  },
  {
   "cell_type": "code",
   "execution_count": 6,
   "metadata": {
    "pycharm": {
     "is_executing": false,
     "name": "#%%\n"
    }
   },
   "outputs": [],
   "source": [
    "out = {'gs10_excel': gs10_excel, 'gs10_csv': gs10_csv}\n",
    "import pickle\n",
    "with open('gs10-combined.pkl', 'wb') as pkl_file:\n",
    "    pickle.dump(out, pkl_file)"
   ]
  },
  {
   "cell_type": "markdown",
   "metadata": {},
   "source": [
    "## Problem: Import from HDF and Pickle.\n",
    "\n",
    "Import the data saved in steps 3-5 of the previous problem."
   ]
  },
  {
   "cell_type": "code",
   "execution_count": 7,
   "metadata": {
    "pycharm": {
     "is_executing": false,
     "name": "#%%\n"
    }
   },
   "outputs": [
    {
     "name": "stdout",
     "output_type": "stream",
     "text": [
      "            GS10\n",
      "DATE            \n",
      "1953-04-01  2.83\n",
      "1953-05-01  3.05\n",
      "1953-06-01  3.11\n",
      "1953-07-01  2.93\n",
      "1953-08-01  2.95\n",
      "                  GS10\n",
      "observation_date      \n",
      "1953-04-01        2.83\n",
      "1953-05-01        3.05\n",
      "1953-06-01        3.11\n",
      "1953-07-01        2.93\n",
      "1953-08-01        2.95\n"
     ]
    }
   ],
   "source": [
    "gs10_csv_reloaded = pd.read_hdf('gs10.h5', 'csv')\n",
    "print(gs10_csv_reloaded.head())\n",
    "\n",
    "gs10_excel_reloaded = pd.read_pickle('gs10.pkl')\n",
    "print(gs10_excel_reloaded.head())\n",
    "\n",
    "# Open for reading only, and inform that the file is binary (not text)\n",
    "with open('gs10-combined.pkl', 'rb') as pkl_file:\n",
    "    pickle.load(pkl_file)"
   ]
  }
 ],
 "metadata": {
  "kernelspec": {
   "display_name": "Python 3",
   "language": "python",
   "name": "python3"
  },
  "language_info": {
   "codemirror_mode": {
    "name": "ipython",
    "version": 3
   },
   "file_extension": ".py",
   "mimetype": "text/x-python",
   "name": "python",
   "nbconvert_exporter": "python",
   "pygments_lexer": "ipython3",
   "version": "3.7.4"
  },
  "pycharm": {
   "stem_cell": {
    "cell_type": "raw",
    "metadata": {
     "collapsed": false
    },
    "source": []
   }
  }
 },
 "nbformat": 4,
 "nbformat_minor": 1
}
