{
 "cells": [
  {
   "cell_type": "markdown",
   "metadata": {
    "collapsed": false
   },
   "source": [
    "# Graphics: Other Plots\n",
    "\n",
    "This lesson covers:\n",
    "\n",
    "* Histograms \n",
    "* Scatter Plots"
   ]
  },
  {
   "cell_type": "markdown",
   "metadata": {
    "collapsed": false
   },
   "source": [
    "Plotting in notebooks requires using a magic command, which starts with `%`, to initialize\n",
    "the plotting backend."
   ]
  },
  {
   "cell_type": "code",
   "execution_count": 1,
   "metadata": {
    "collapsed": false,
    "pycharm": {
     "name": "#%%\n"
    }
   },
   "outputs": [],
   "source": [
    "# Setup\n",
    "%matplotlib inline"
   ]
  },
  {
   "cell_type": "markdown",
   "metadata": {
    "collapsed": false
   },
   "source": [
    "Begin by loading the data in hf.h5. This data set contains high-frequency price data for IBM and MSFT\n",
    "on a single day stored as two Series. IBM is stored as 'IBM' in the HDF file, and MSFT is stored\n",
    "as 'MSFT."
   ]
  },
  {
   "cell_type": "code",
   "execution_count": 2,
   "metadata": {
    "collapsed": false,
    "pycharm": {
     "name": "#%%\n"
    }
   },
   "outputs": [],
   "source": [
    "import pandas as pd\n",
    "\n",
    "ibm = pd.read_hdf('data/hf.h5', 'IBM')\n",
    "msft = pd.read_hdf('data/hf.h5', 'MSFT')\n"
   ]
  },
  {
   "cell_type": "markdown",
   "metadata": {
    "collapsed": false
   },
   "source": [
    "## Problem: Histogram\n",
    "\n",
    "Produce a histogram of MSFT 1-minute returns (Hint: you have to produce the 1-minute Microsoft\n",
    "returns first using `resample` and `pct_change`)."
   ]
  },
  {
   "cell_type": "code",
   "execution_count": 3,
   "metadata": {
    "collapsed": false,
    "pycharm": {
     "name": "#%%\n"
    }
   },
   "outputs": [
    {
     "data": {
      "text/plain": [
       "Text(0.5, 1.0, '1-Minute MSFT returns (%)')"
      ]
     },
     "execution_count": 3,
     "metadata": {},
     "output_type": "execute_result"
    },
    {
     "data": {
      "image/png": "[encoded data removed]",
      "text/plain": [
       "<Figure size 432x288 with 1 Axes>"
      ]
     },
     "metadata": {
      "needs_background": "light"
     },
     "output_type": "display_data"
    }
   ],
   "source": [
    "rets = msft.resample('60S').last().pct_change().dropna()\n",
    "ax = rets.plot.hist()\n",
    "ax.set_title('1-Minute MSFT returns (%)')"
   ]
  },
  {
   "cell_type": "markdown",
   "metadata": {
    "collapsed": false
   },
   "source": [
    "## Problem: Scatter Plot\n",
    "\n",
    "Scatter the 5-minute MSFT returns against the 5-minute IBM returns.\n",
    "\n",
    "*Hint*: You will need to create both 5-minute return series, merge them, and then plot using \n",
    "the combined DataFrame. "
   ]
  },
  {
   "cell_type": "code",
   "execution_count": 4,
   "metadata": {
    "collapsed": false,
    "pycharm": {
     "name": "#%%\n"
    }
   },
   "outputs": [
    {
     "name": "stdout",
     "output_type": "stream",
     "text": [
      "                         MSFT       IBM\n",
      "2011-05-06 09:35:00 -0.000287 -0.002446\n",
      "2011-05-06 09:40:00  0.003063  0.000473\n",
      "2011-05-06 09:45:00 -0.003359 -0.000709\n",
      "2011-05-06 09:50:00  0.001455 -0.000827\n",
      "2011-05-06 09:55:00 -0.001453 -0.000651\n",
      "                         MSFT       IBM\n",
      "2011-05-06 15:35:00 -0.000386  0.000534\n",
      "2011-05-06 15:40:00  0.002513  0.001837\n",
      "2011-05-06 15:45:00 -0.000193 -0.000296\n",
      "2011-05-06 15:50:00 -0.001535 -0.001183\n",
      "2011-05-06 15:55:00 -0.000780  0.000592\n"
     ]
    },
    {
     "data": {
      "image/png": "[encoded data removed]",
      "text/plain": [
       "<Figure size 432x288 with 1 Axes>"
      ]
     },
     "metadata": {
      "needs_background": "light"
     },
     "output_type": "display_data"
    }
   ],
   "source": [
    "msft_rets = msft.resample('300S').last().pct_change().dropna()\n",
    "ibm_rets = ibm.resample('300S').last().pct_change().dropna()\n",
    "rets = pd.DataFrame([msft_rets, ibm_rets]).T\n",
    "rets = rets.dropna()\n",
    "print(rets.head())\n",
    "print(rets.tail())\n",
    "\n",
    "ax = rets.plot.scatter(x='MSFT', y='IBM', marker='x', s=64, c='red')\n",
    "lower, upper = 1.1 * rets.min().min(), 1.1 * rets.max().max()\n",
    "ax.set_xlim(lower, upper)\n",
    "ylim = ax.set_ylim(lower, upper)"
   ]
  },
  {
   "cell_type": "markdown",
   "metadata": {
    "collapsed": false,
    "pycharm": {
     "name": "#%% md\n"
    }
   },
   "source": [
    "## Problem: Saving plots\n",
    "\n",
    "Save the previous plot to PNG and PDF."
   ]
  },
  {
   "cell_type": "code",
   "execution_count": 5,
   "metadata": {
    "collapsed": false,
    "pycharm": {
     "name": "#%%\n"
    }
   },
   "outputs": [
    {
     "data": {
      "text/plain": [
       "<Figure size 432x288 with 0 Axes>"
      ]
     },
     "metadata": {},
     "output_type": "display_data"
    }
   ],
   "source": [
    "import matplotlib.pyplot as plt\n",
    "\n",
    "fig = plt.gcf()\n",
    "fig.savefig('scatter.pdf')\n",
    "# Save with custom DPI and transparent background\n",
    "fig.savefig('scatter.png', transparent=True, dpi=300)"
   ]
  }
 ],
 "metadata": {
  "kernelspec": {
   "display_name": "Python 3",
   "language": "python",
   "name": "python3"
  },
  "language_info": {
   "codemirror_mode": {
    "name": "ipython",
    "version": 3
   },
   "file_extension": ".py",
   "mimetype": "text/x-python",
   "name": "python",
   "nbconvert_exporter": "python",
   "pygments_lexer": "ipython3",
   "version": "3.7.4"
  },
  "pycharm": {
   "stem_cell": {
    "cell_type": "raw",
    "metadata": {
     "collapsed": false
    },
    "source": []
   }
  }
 },
 "nbformat": 4,
 "nbformat_minor": 0
}
