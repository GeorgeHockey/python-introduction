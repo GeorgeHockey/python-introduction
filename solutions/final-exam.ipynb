{
 "cells": [
  {
   "cell_type": "markdown",
   "metadata": {
    "collapsed": true,
    "pycharm": {
     "name": "#%% md\n"
    }
   },
   "source": [
    "# Final Exam\n",
    "\n",
    "This self-grading notebook serves as a final exam for the introductory course.\n",
    "If you have grasped the contents of the course, you should be able to complete\n",
    "this exam. \n",
    "\n",
    "It is essential that you answer each cell by assigning the solution to `QUESTION_#`\n",
    "where `#` is the question number.  \n",
    "\n",
    "We will start with a warm-up question that is already answered.\n",
    "\n",
    "## Question 0\n",
    "\n",
    "Create a 3-element 1-dimensional array containing the values [1,1,1]\n",
    "\n",
    "_Note_: This answer is not assessed."
   ]
  },
  {
   "cell_type": "code",
   "execution_count": null,
   "outputs": [],
   "source": [
    "# Setup: The solution is used as a model\n",
    "import numpy as np\n",
    "\n",
    "QUESTION_0 = np.ones(3) "
   ],
   "metadata": {
    "collapsed": false,
    "pycharm": {
     "name": "#%%\n"
    }
   }
  },
  {
   "cell_type": "markdown",
   "source": [
    "## Question 1\n",
    "\n",
    "Construct the correlation matrix\n",
    "\n",
    "$$\\left[\\begin{array}{ccc} 1 & 0.2 & 0.5 \\\\ 0.2 & 1 & 0.8 \\\\ 0.5 & 0.8 & 1 \\end{array}\\right]$$\n",
    "\n",
    "as a NumPy array."
   ],
   "metadata": {
    "collapsed": false,
    "pycharm": {
     "name": "#%% md\n"
    }
   }
  },
  {
   "cell_type": "code",
   "execution_count": 7,
   "outputs": [],
   "source": [
    "import numpy as np\n",
    "\n",
    "QUESTION_1 = np.array([[1,.2,.5],[.2,1,.8],[.5,.8,1]])"
   ],
   "metadata": {
    "collapsed": false,
    "pycharm": {
     "name": "#%%\n",
     "is_executing": false
    }
   }
  },
  {
   "cell_type": "markdown",
   "source": [
    "## Question 2\n",
    "\n",
    "Construct the correlation matrix\n",
    "\n",
    "$$\\left[\\begin{array}{ccc} 1 & 0.2 & 0.5 \\\\ 0.2 & 1 & 0.8 \\\\ 0.5 & 0.8 & 1 \\end{array}\\right]$$\n",
    "\n",
    "as a DataFrame with columns and index both equal to `['A', 'B', 'C']`. "
   ],
   "metadata": {
    "collapsed": false
   }
  },
  {
   "cell_type": "code",
   "execution_count": 10,
   "outputs": [],
   "source": [
    "import pandas as pd\n",
    "\n",
    "QUESTION_2 = pd.DataFrame(QUESTION_1, columns=cols, index=cols)\n"
   ],
   "metadata": {
    "collapsed": false,
    "pycharm": {
     "name": "#%%\n",
     "is_executing": false
    }
   }
  },
  {
   "cell_type": "markdown",
   "source": [
    "## Question 3\n",
    "\n",
    "Load the momentum data in the CSV file `momentum.csv`, set the column `date` \n",
    "as the index, and ensure that `date` is a `DateTimeIndex`."
   ],
   "metadata": {
    "collapsed": false
   }
  },
  {
   "cell_type": "code",
   "execution_count": 9,
   "outputs": [],
   "source": [
    "QUESTION_3 = pd.read_csv('data/momentum.csv', parse_dates=True, index_col='date') \n"
   ],
   "metadata": {
    "collapsed": false,
    "pycharm": {
     "name": "#%%\n",
     "is_executing": false
    }
   }
  },
  {
   "cell_type": "markdown",
   "source": [
    "## Question 4\n",
    "\n",
    "Construct a DataFrame using the data loaded in the previous question\n",
    "that contains the returns from momentum portfolio 5 in March and April 2016.\n"
   ],
   "metadata": {
    "collapsed": false
   }
  },
  {
   "cell_type": "code",
   "execution_count": 39,
   "outputs": [
    {
     "data": {
      "text/plain": "            mom_05\ndate              \n2016-03-01    2.61\n2016-03-02    0.58\n2016-03-03    0.71\n2016-03-04    0.73\n2016-03-07    0.63\n2016-03-08   -1.97\n2016-03-09    0.34\n2016-03-10    0.00\n2016-03-11    2.08\n2016-03-14   -0.09\n2016-03-15   -0.04\n2016-03-16    0.61\n2016-03-17    0.68\n2016-03-18    0.87\n2016-03-21    0.20\n2016-03-22   -0.11\n2016-03-23   -1.11\n2016-03-24   -0.21\n2016-03-28   -0.05\n2016-03-29    0.98\n2016-03-30    0.69\n2016-03-31   -0.17\n2016-04-01    0.39\n2016-04-04   -0.08\n2016-04-05   -1.09\n2016-04-06    1.49\n2016-04-07   -1.51\n2016-04-08    0.10\n2016-04-11    0.00\n2016-04-12    1.37\n2016-04-13    1.64\n2016-04-14   -0.08\n2016-04-15   -0.70\n2016-04-18    0.10\n2016-04-19    0.25\n2016-04-20    0.73\n2016-04-21   -0.37\n2016-04-22    0.51\n2016-04-25   -0.29\n2016-04-26    0.35\n2016-04-27   -1.04\n2016-04-28   -1.33\n2016-04-29   -1.43",
      "text/html": "<div>\n<style scoped>\n    .dataframe tbody tr th:only-of-type {\n        vertical-align: middle;\n    }\n\n    .dataframe tbody tr th {\n        vertical-align: top;\n    }\n\n    .dataframe thead th {\n        text-align: right;\n    }\n</style>\n<table border=\"1\" class=\"dataframe\">\n  <thead>\n    <tr style=\"text-align: right;\">\n      <th></th>\n      <th>mom_05</th>\n    </tr>\n    <tr>\n      <th>date</th>\n      <th></th>\n    </tr>\n  </thead>\n  <tbody>\n    <tr>\n      <td>2016-03-01</td>\n      <td>2.61</td>\n    </tr>\n    <tr>\n      <td>2016-03-02</td>\n      <td>0.58</td>\n    </tr>\n    <tr>\n      <td>2016-03-03</td>\n      <td>0.71</td>\n    </tr>\n    <tr>\n      <td>2016-03-04</td>\n      <td>0.73</td>\n    </tr>\n    <tr>\n      <td>2016-03-07</td>\n      <td>0.63</td>\n    </tr>\n    <tr>\n      <td>2016-03-08</td>\n      <td>-1.97</td>\n    </tr>\n    <tr>\n      <td>2016-03-09</td>\n      <td>0.34</td>\n    </tr>\n    <tr>\n      <td>2016-03-10</td>\n      <td>0.00</td>\n    </tr>\n    <tr>\n      <td>2016-03-11</td>\n      <td>2.08</td>\n    </tr>\n    <tr>\n      <td>2016-03-14</td>\n      <td>-0.09</td>\n    </tr>\n    <tr>\n      <td>2016-03-15</td>\n      <td>-0.04</td>\n    </tr>\n    <tr>\n      <td>2016-03-16</td>\n      <td>0.61</td>\n    </tr>\n    <tr>\n      <td>2016-03-17</td>\n      <td>0.68</td>\n    </tr>\n    <tr>\n      <td>2016-03-18</td>\n      <td>0.87</td>\n    </tr>\n    <tr>\n      <td>2016-03-21</td>\n      <td>0.20</td>\n    </tr>\n    <tr>\n      <td>2016-03-22</td>\n      <td>-0.11</td>\n    </tr>\n    <tr>\n      <td>2016-03-23</td>\n      <td>-1.11</td>\n    </tr>\n    <tr>\n      <td>2016-03-24</td>\n      <td>-0.21</td>\n    </tr>\n    <tr>\n      <td>2016-03-28</td>\n      <td>-0.05</td>\n    </tr>\n    <tr>\n      <td>2016-03-29</td>\n      <td>0.98</td>\n    </tr>\n    <tr>\n      <td>2016-03-30</td>\n      <td>0.69</td>\n    </tr>\n    <tr>\n      <td>2016-03-31</td>\n      <td>-0.17</td>\n    </tr>\n    <tr>\n      <td>2016-04-01</td>\n      <td>0.39</td>\n    </tr>\n    <tr>\n      <td>2016-04-04</td>\n      <td>-0.08</td>\n    </tr>\n    <tr>\n      <td>2016-04-05</td>\n      <td>-1.09</td>\n    </tr>\n    <tr>\n      <td>2016-04-06</td>\n      <td>1.49</td>\n    </tr>\n    <tr>\n      <td>2016-04-07</td>\n      <td>-1.51</td>\n    </tr>\n    <tr>\n      <td>2016-04-08</td>\n      <td>0.10</td>\n    </tr>\n    <tr>\n      <td>2016-04-11</td>\n      <td>0.00</td>\n    </tr>\n    <tr>\n      <td>2016-04-12</td>\n      <td>1.37</td>\n    </tr>\n    <tr>\n      <td>2016-04-13</td>\n      <td>1.64</td>\n    </tr>\n    <tr>\n      <td>2016-04-14</td>\n      <td>-0.08</td>\n    </tr>\n    <tr>\n      <td>2016-04-15</td>\n      <td>-0.70</td>\n    </tr>\n    <tr>\n      <td>2016-04-18</td>\n      <td>0.10</td>\n    </tr>\n    <tr>\n      <td>2016-04-19</td>\n      <td>0.25</td>\n    </tr>\n    <tr>\n      <td>2016-04-20</td>\n      <td>0.73</td>\n    </tr>\n    <tr>\n      <td>2016-04-21</td>\n      <td>-0.37</td>\n    </tr>\n    <tr>\n      <td>2016-04-22</td>\n      <td>0.51</td>\n    </tr>\n    <tr>\n      <td>2016-04-25</td>\n      <td>-0.29</td>\n    </tr>\n    <tr>\n      <td>2016-04-26</td>\n      <td>0.35</td>\n    </tr>\n    <tr>\n      <td>2016-04-27</td>\n      <td>-1.04</td>\n    </tr>\n    <tr>\n      <td>2016-04-28</td>\n      <td>-1.33</td>\n    </tr>\n    <tr>\n      <td>2016-04-29</td>\n      <td>-1.43</td>\n    </tr>\n  </tbody>\n</table>\n</div>"
     },
     "metadata": {},
     "output_type": "execute_result",
     "execution_count": 39
    }
   ],
   "source": [
    "QUESTION_4 = QUESTION_3.loc['2016-03':'2016-04', ['mom_05']]"
   ],
   "metadata": {
    "collapsed": false,
    "pycharm": {
     "name": "#%%\n",
     "is_executing": false
    }
   }
  },
  {
   "cell_type": "markdown",
   "source": [
    "## Question 5\n",
    "\n",
    "What is the standard deviation of the data:\n",
    "\n",
    "$$ 1, 3, 1, 2,9, 4, 5, 6, 10, 4 $$\n",
    "\n",
    "**Note** Use 1 degree of freedom in the denominator."
   ],
   "metadata": {
    "collapsed": false
   }
  },
  {
   "cell_type": "code",
   "execution_count": 44,
   "outputs": [
    {
     "data": {
      "text/plain": "3.100179206289712"
     },
     "metadata": {},
     "output_type": "execute_result",
     "execution_count": 44
    }
   ],
   "source": [
    "data = np.array([1, 3, 1, 2,9, 4, 5, 6, 10, 4])\n",
    "QUESTION_5 = pd.Series(data).std()"
   ],
   "metadata": {
    "collapsed": false,
    "pycharm": {
     "name": "#%%\n",
     "is_executing": false
    }
   }
  },
  {
   "cell_type": "markdown",
   "source": [
    "## Question 6"
   ],
   "metadata": {
    "collapsed": false
   }
  },
  {
   "cell_type": "code",
   "execution_count": null,
   "outputs": [],
   "source": [],
   "metadata": {
    "collapsed": false,
    "pycharm": {
     "name": "#%%\n"
    }
   }
  },
  {
   "cell_type": "markdown",
   "source": [
    "## Question 7"
   ],
   "metadata": {
    "collapsed": false
   }
  },
  {
   "cell_type": "code",
   "execution_count": null,
   "outputs": [],
   "source": [],
   "metadata": {
    "collapsed": false,
    "pycharm": {
     "name": "#%%\n"
    }
   }
  },
  {
   "cell_type": "markdown",
   "source": [
    "## Question 8"
   ],
   "metadata": {
    "collapsed": false
   }
  },
  {
   "cell_type": "code",
   "execution_count": null,
   "outputs": [],
   "source": [],
   "metadata": {
    "collapsed": false,
    "pycharm": {
     "name": "#%%\n"
    }
   }
  },
  {
   "cell_type": "markdown",
   "source": [
    "## Question 9"
   ],
   "metadata": {
    "collapsed": false
   }
  },
  {
   "cell_type": "code",
   "execution_count": null,
   "outputs": [],
   "source": [],
   "metadata": {
    "collapsed": false,
    "pycharm": {
     "name": "#%%\n"
    }
   }
  },
  {
   "cell_type": "markdown",
   "source": [
    "## Question 10"
   ],
   "metadata": {
    "collapsed": false
   }
  },
  {
   "cell_type": "code",
   "execution_count": null,
   "outputs": [],
   "source": [],
   "metadata": {
    "collapsed": false,
    "pycharm": {
     "name": "#%%\n"
    }
   }
  },
  {
   "cell_type": "markdown",
   "source": [
    "## Question 11"
   ],
   "metadata": {
    "collapsed": false
   }
  },
  {
   "cell_type": "code",
   "execution_count": null,
   "outputs": [],
   "source": [],
   "metadata": {
    "collapsed": false,
    "pycharm": {
     "name": "#%%\n"
    }
   }
  },
  {
   "cell_type": "markdown",
   "source": [
    "## Question 12"
   ],
   "metadata": {
    "collapsed": false
   }
  },
  {
   "cell_type": "code",
   "execution_count": null,
   "outputs": [],
   "source": [],
   "metadata": {
    "collapsed": false,
    "pycharm": {
     "name": "#%%\n"
    }
   }
  },
  {
   "cell_type": "markdown",
   "source": [
    "## Question 13"
   ],
   "metadata": {
    "collapsed": false
   }
  },
  {
   "cell_type": "code",
   "execution_count": null,
   "outputs": [],
   "source": [],
   "metadata": {
    "collapsed": false,
    "pycharm": {
     "name": "#%%\n"
    }
   }
  },
  {
   "cell_type": "markdown",
   "source": [
    "## Question 14\n",
    "\n",
    "Simulate a random walk using 100 normal observations from a\n",
    "NumPy `RandomState` intialized with a seed of `19991231`."
   ],
   "metadata": {
    "collapsed": false
   }
  },
  {
   "cell_type": "code",
   "execution_count": null,
   "outputs": [],
   "source": [
    "rs = np.random.RandomState(19991231)\n",
    "QUESTION_14 = np.cumsum(rs.standard_normal(100))"
   ],
   "metadata": {
    "collapsed": false,
    "pycharm": {
     "name": "#%%\n"
    }
   }
  },
  {
   "cell_type": "markdown",
   "source": [
    "## Question 15"
   ],
   "metadata": {
    "collapsed": false
   }
  },
  {
   "cell_type": "code",
   "execution_count": null,
   "outputs": [],
   "source": [],
   "metadata": {
    "collapsed": false,
    "pycharm": {
     "name": "#%%\n"
    }
   }
  },
  {
   "cell_type": "markdown",
   "source": [
    "## Question 16"
   ],
   "metadata": {
    "collapsed": false
   }
  },
  {
   "cell_type": "code",
   "execution_count": null,
   "outputs": [],
   "source": [],
   "metadata": {
    "collapsed": false,
    "pycharm": {
     "name": "#%%\n"
    }
   }
  },
  {
   "cell_type": "markdown",
   "source": [
    "## Question 17"
   ],
   "metadata": {
    "collapsed": false
   }
  },
  {
   "cell_type": "code",
   "execution_count": null,
   "outputs": [],
   "source": [],
   "metadata": {
    "collapsed": false,
    "pycharm": {
     "name": "#%%\n"
    }
   }
  },
  {
   "cell_type": "markdown",
   "source": [
    "## Question 18"
   ],
   "metadata": {
    "collapsed": false
   }
  },
  {
   "cell_type": "code",
   "execution_count": null,
   "outputs": [],
   "source": [],
   "metadata": {
    "collapsed": false,
    "pycharm": {
     "name": "#%%\n"
    }
   }
  },
  {
   "cell_type": "markdown",
   "source": [
    "## Question 19"
   ],
   "metadata": {
    "collapsed": false
   }
  },
  {
   "cell_type": "code",
   "execution_count": null,
   "outputs": [],
   "source": [],
   "metadata": {
    "collapsed": false,
    "pycharm": {
     "name": "#%%\n"
    }
   }
  },
  {
   "cell_type": "markdown",
   "source": [
    "## Question 20"
   ],
   "metadata": {
    "collapsed": false
   }
  },
  {
   "cell_type": "code",
   "execution_count": null,
   "outputs": [],
   "source": [],
   "metadata": {
    "collapsed": false,
    "pycharm": {
     "name": "#%%\n"
    }
   }
  },
  {
   "cell_type": "code",
   "execution_count": 46,
   "outputs": [
    {
     "name": "stdout",
     "text": [
      "Question 1 is CORRECT\nQuestion 2 is CORRECT\nQuestion 3 is CORRECT\nQuestion 4 is CORRECT\nQuestion 5 is CORRECT\nQuestion 6 is WRONG: Variable QUESTION_6 not found\n\n--------------------------------------------------------------------------------\nYou answered 5 out of 20 questions correctly (25%)\n"
     ],
     "output_type": "stream"
    }
   ],
   "source": [
    "# Answer Checker\n",
    "import zlib\n",
    "from base64 import urlsafe_b64encode as b64e, urlsafe_b64decode as b64d\n",
    "\n",
    "def obscure(data: str) -> bytes:\n",
    "    return b64e(zlib.compress(data.encode('ascii'), 9))\n",
    "\n",
    "def unobscure(obscured: bytes) -> str:\n",
    "    return zlib.decompress(b64d(obscured)).decode('ascii')\n",
    "\n",
    "import numpy as np\n",
    "import pandas as pd\n",
    "def checker(question_number, solution):\n",
    "    question = f\"QUESTION_{question_number}\"\n",
    "    if question not in globals():\n",
    "        print(f\"Question {question_number} is WRONG: Variable {question} not found\")\n",
    "        return 0\n",
    "    wrong=False\n",
    "    answer = globals()[question]\n",
    "    if isinstance(solution, np.ndarray):\n",
    "        try:\n",
    "            np.testing.assert_allclose(answer, solution)\n",
    "            assert type(answer) is np.ndarray\n",
    "        except AssertionError:\n",
    "            wrong=True\n",
    "    elif isinstance(solution, pd.DataFrame):\n",
    "        try:\n",
    "            assert_frame_equal(answer, solution)\n",
    "        except AssertionError:\n",
    "            wrong=True\n",
    "    elif isinstance(solution, float):\n",
    "        try:\n",
    "            np.testing.assert_allclose(answer, solution)\n",
    "        except AssertionError:\n",
    "            wrong=True\n",
    "    if wrong:\n",
    "        print(f\"Question {question_number} is WRONG\")\n",
    "        print(\"Submitted Answer:\")\n",
    "        print(answer)\n",
    "        print(\"Expected answer:\")\n",
    "        print(solution)\n",
    "        return 0\n",
    "\n",
    "    print(f\"Question {question_number} is CORRECT\")\n",
    "    return 1\n",
    "\n",
    "    \n",
    "            \n",
    "from pandas.testing import assert_frame_equal\n",
    "        \n",
    "solutions = {\n",
    "    'SOLUTION_1': \"solution = np.array([[1,.2,.5],[.2,1,.8],[.5,.8,1]])\",\n",
    "    'SOLUTION_2': \"solution = pd.DataFrame(np.array([[1,.2,.5],[.2,1,.8],[.5,.8,1]]), columns=['A','B','C'], index=['A','B','C'])\",\n",
    "    'SOLUTION_3' : \"solution = pd.read_csv('data/momentum.csv', parse_dates=True, index_col='date')\",\n",
    "    'SOLUTION_4' : \"solution = pd.read_csv('data/momentum.csv', parse_dates=True, index_col='date').loc['2016-03':'2016-04',['mom_05']]\",\n",
    "    'SOLUTION_5' : \"solution = 3.100179206289712\",\n",
    "    'SOLUTION_14' : \"rs = np.random.RandomState(19991231)\\nsolution = np.cumsum(rs.standard_normal(100))\"\n",
    "}\n",
    "\n",
    "total = 0\n",
    "for i, key in enumerate(solutions, start=1):\n",
    "    solution = exec(solutions[key])\n",
    "    total += checker(i, solution)\n",
    "print('')\n",
    "print('-'*80)\n",
    "percent = int(np.round(100*(total / 20)))\n",
    "print(f\"You answered {total} out of 20 questions correctly ({percent}%)\")"
   ],
   "metadata": {
    "collapsed": false,
    "pycharm": {
     "name": "#%%\n",
     "is_executing": false
    }
   }
  }
 ],
 "metadata": {
  "kernelspec": {
   "display_name": "Python 3",
   "language": "python",
   "name": "python3"
  },
  "language_info": {
   "codemirror_mode": {
    "name": "ipython",
    "version": 2
   },
   "file_extension": ".py",
   "mimetype": "text/x-python",
   "name": "python",
   "nbconvert_exporter": "python",
   "pygments_lexer": "ipython2",
   "version": "2.7.6"
  },
  "pycharm": {
   "stem_cell": {
    "cell_type": "raw",
    "source": [],
    "metadata": {
     "collapsed": false
    }
   }
  }
 },
 "nbformat": 4,
 "nbformat_minor": 0
}