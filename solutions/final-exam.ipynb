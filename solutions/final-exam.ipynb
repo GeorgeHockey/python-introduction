{
 "cells": [
  {
   "cell_type": "markdown",
   "metadata": {
    "collapsed": true,
    "pycharm": {
     "name": "#%% md\n"
    }
   },
   "source": [
    "# Final Exam\n",
    "\n",
    "This self-grading notebook serves as a final exam for the introductory course.\n",
    "If you have grasped the contents of the course, you should be able to complete\n",
    "this exam. \n",
    "\n",
    "It is essential that you answer each cell by assigning the solution to `QUESTION_#`\n",
    "where `#` is the question number.  \n",
    "\n",
    "We will start with a warm-up question that is already answered.\n",
    "\n",
    "## Question 0\n",
    "\n",
    "Create a 3-element 1-dimensional array containing the values [1,1,1]\n",
    "\n",
    "_Note_: This answer is not assessed."
   ]
  },
  {
   "cell_type": "code",
   "execution_count": 89,
   "metadata": {
    "collapsed": false,
    "pycharm": {
     "name": "#%%\n",
     "is_executing": false
    }
   },
   "outputs": [],
   "source": [
    "# Setup: The solution is used as a model\n",
    "import numpy as np\n",
    "\n",
    "QUESTION_0 = np.ones(3) "
   ]
  },
  {
   "cell_type": "markdown",
   "metadata": {
    "collapsed": false,
    "pycharm": {
     "name": "#%% md\n"
    }
   },
   "source": [
    "## Question 1\n",
    "\n",
    "Construct the correlation matrix\n",
    "\n",
    "$$\\left[\\begin{array}{ccc} 1 & 0.2 & 0.5 \\\\ 0.2 & 1 & 0.8 \\\\ 0.5 & 0.8 & 1 \\end{array}\\right]$$\n",
    "\n",
    "as a NumPy array."
   ]
  },
  {
   "cell_type": "code",
   "execution_count": 90,
   "metadata": {
    "collapsed": false,
    "pycharm": {
     "is_executing": false,
     "name": "#%%\n"
    }
   },
   "outputs": [],
   "source": [
    "import numpy as np\n",
    "\n",
    "QUESTION_1 = np.array([[1,.2,.5],[.2,1,.8],[.5,.8,1]])"
   ]
  },
  {
   "cell_type": "markdown",
   "metadata": {
    "collapsed": false
   },
   "source": [
    "## Question 2\n",
    "\n",
    "Construct the correlation matrix\n",
    "\n",
    "$$\\left[\\begin{array}{ccc} 1 & 0.2 & 0.5 \\\\ 0.2 & 1 & 0.8 \\\\ 0.5 & 0.8 & 1 \\end{array}\\right]$$\n",
    "\n",
    "as a DataFrame with columns and index both equal to `['A', 'B', 'C']`. "
   ]
  },
  {
   "cell_type": "code",
   "execution_count": 91,
   "metadata": {
    "collapsed": false,
    "pycharm": {
     "is_executing": false,
     "name": "#%%\n"
    }
   },
   "outputs": [],
   "source": [
    "import pandas as pd\n",
    "\n",
    "cols = ['A', 'B', 'C']\n",
    "QUESTION_2 = pd.DataFrame(QUESTION_1, columns=cols, index=cols)\n"
   ]
  },
  {
   "cell_type": "markdown",
   "metadata": {
    "collapsed": false
   },
   "source": [
    "## Question 3\n",
    "\n",
    "Load the momentum data in the CSV file `momentum.csv`, set the column `date` \n",
    "as the index, and ensure that `date` is a `DateTimeIndex`."
   ]
  },
  {
   "cell_type": "code",
   "execution_count": 92,
   "metadata": {
    "collapsed": false,
    "pycharm": {
     "is_executing": false,
     "name": "#%%\n"
    }
   },
   "outputs": [],
   "source": [
    "QUESTION_3 = pd.read_csv('data/momentum.csv', parse_dates=True, index_col='date') "
   ]
  },
  {
   "cell_type": "markdown",
   "metadata": {
    "collapsed": false
   },
   "source": [
    "## Question 4\n",
    "\n",
    "Construct a DataFrame using the data loaded in the previous question\n",
    "that contains the returns from momentum portfolio 5 in March and April 2016.\n"
   ]
  },
  {
   "cell_type": "code",
   "execution_count": 93,
   "metadata": {
    "collapsed": false,
    "pycharm": {
     "is_executing": false,
     "name": "#%%\n"
    }
   },
   "outputs": [],
   "source": [
    "momentum = QUESTION_3\n",
    "QUESTION_4 = momentum.loc['2016-03':'2016-04', ['mom_05']]"
   ]
  },
  {
   "cell_type": "markdown",
   "metadata": {
    "collapsed": false
   },
   "source": [
    "## Question 5\n",
    "\n",
    "What is the standard deviation of the data:\n",
    "\n",
    "$$ 1, 3, 1, 2,9, 4, 5, 6, 10, 4 $$\n",
    "\n",
    "**Note** Use 1 degree of freedom in the denominator."
   ]
  },
  {
   "cell_type": "code",
   "execution_count": 94,
   "metadata": {
    "collapsed": false,
    "pycharm": {
     "is_executing": false,
     "name": "#%%\n"
    }
   },
   "outputs": [],
   "source": [
    "data = np.array([1, 3, 1, 2,9, 4, 5, 6, 10, 4])\n",
    "QUESTION_5 = pd.Series(data).std()\n"
   ]
  },
  {
   "cell_type": "markdown",
   "metadata": {
    "collapsed": false
   },
   "source": [
    "## Question 6\n",
    "\n",
    "Compute the correlation matrix of momentum portfolios 1, 4, 6, and 10 as a DataFrame\n",
    "where the index and columns are the portfolio names (e.g., 'mom_01') in the order\n",
    "listed above."
   ]
  },
  {
   "cell_type": "code",
   "execution_count": 95,
   "metadata": {
    "collapsed": false,
    "pycharm": {
     "name": "#%%\n",
     "is_executing": false
    }
   },
   "outputs": [],
   "source": [
    "QUESTION_6 = momentum[['mom_01','mom_04','mom_06','mom_10']].corr()"
   ]
  },
  {
   "cell_type": "markdown",
   "metadata": {
    "collapsed": false
   },
   "source": [
    "## Question 7\n",
    "\n",
    "Compute the percentage of returns of each of the 10 momentum portfolios\n",
    "that are outside of the interval \n",
    "\n",
    "$$ [\\hat{\\mu} - \\hat{\\sigma}, \\hat{\\mu} + \\hat{\\sigma}]$$\n",
    "\n",
    "where $\\hat{\\mu}$ is the mean and $\\hat{\\sigma}$ is the standard deviation computed using\n",
    "1 dof.  The returned variable must be a `Series` where the index is the portfolio\n",
    "names ordered from 1 to 10.\n",
    " "
   ]
  },
  {
   "cell_type": "code",
   "execution_count": 96,
   "metadata": {
    "collapsed": false,
    "pycharm": {
     "name": "#%%\n",
     "is_executing": false
    }
   },
   "outputs": [],
   "source": [
    "lower = momentum.mean() - momentum.std()\n",
    "upper = momentum.mean() + momentum.std()\n",
    "outside = (momentum < lower) | (momentum > upper)\n",
    "QUESTION_7 = outside.mean()"
   ]
  },
  {
   "cell_type": "markdown",
   "metadata": {
    "collapsed": false
   },
   "source": [
    "## Question 8\n",
    "\n",
    "Import the data the data in the sheet `question 8` in `final-exam.xlsx` into\n",
    "a DataFrame where the index contains the dates and variable name is the column\n",
    "name."
   ]
  },
  {
   "cell_type": "code",
   "execution_count": 97,
   "metadata": {
    "collapsed": false,
    "pycharm": {
     "name": "#%%\n",
     "is_executing": false
    }
   },
   "outputs": [],
   "source": [
    "QUESTION_8 = pd.read_excel('data/final-exam.xlsx', sheet_name='question 8',\n",
    "                           skiprows=10, index_col='observation_date')"
   ]
  },
  {
   "cell_type": "markdown",
   "metadata": {
    "collapsed": false
   },
   "source": [
    "## Question 9\n",
    "\n",
    "Enter the DataFrame in the table below and save it to HDF with the key 'question9'. The answer to\n",
    "this problem must be the full path to the hdf file. The values in\n",
    "index should be the DataFrame's index.\n",
    "\n",
    "| index | data |\n",
    "| :---- | :--- |\n",
    "|  A    | 6.0  |\n",
    "|  E    | 2.7  |\n",
    "|  G    | 1.6  |\n",
    "|  P    | 3.1  |\n",
    "\n",
    "**Note**: If you want to get the full path to a file saved in the current directory, \n",
    "you can use\n",
    "\n",
    "```python\n",
    "import os\n",
    "\n",
    "file_name = 'my_file_name'\n",
    "full_path = os.path.join(os.getcwd(), file_name)\n",
    "```"
   ]
  },
  {
   "cell_type": "code",
   "execution_count": 98,
   "metadata": {
    "collapsed": false,
    "pycharm": {
     "name": "#%%\n",
     "is_executing": false
    }
   },
   "outputs": [],
   "source": [
    "import os \n",
    "\n",
    "data = pd.DataFrame([[6.0],[2.7],[1.6],[3.1]],index=['A','E','G','P'],columns=['data'])\n",
    "file_name = 'question_9.h5'\n",
    "QUESTION_9 = os.path.join(os.getcwd(), file_name)\n",
    "data.to_hdf(QUESTION_9, 'question9')"
   ]
  },
  {
   "cell_type": "markdown",
   "metadata": {
    "collapsed": false
   },
   "source": [
    "## Question 10\n",
    "\n",
    "Compute the cumulative return on a portfolio the longs mom_10 and shorts mom_01. The\n",
    "first value should be `1 + mom_10.iloc[0] - mom_01.iloc[0]`. The second cumulative\n",
    "return should be the first return times `1 + mom_10.iloc[1] - mom_01.iloc[1]`, and\n",
    "so on.  The solution must be a Series with the name 'momentum_factor' and index\n",
    "equal to the index of the momentum DataFrame. \n",
    "\n",
    "**Note**: The data in the momentum return file is in percentages, i.e., a return of\n",
    "4.2% is recorded as 4.2. "
   ]
  },
  {
   "cell_type": "code",
   "execution_count": 99,
   "metadata": {
    "collapsed": false,
    "pycharm": {
     "name": "#%%\n",
     "is_executing": false
    }
   },
   "outputs": [],
   "source": [
    "gross_returns = 1 + (momentum.mom_10 - momentum.mom_01)/100\n",
    "QUESTION_10 = np.cumprod(gross_returns)\n",
    "QUESTION_10.name = 'momentum_factor'\n"
   ]
  },
  {
   "cell_type": "markdown",
   "metadata": {
    "collapsed": false
   },
   "source": [
    "## Question 11\n",
    "\n",
    "Write a function named QUESTION_11 that take 1 numerical input `x` and returns:\n",
    "\n",
    "* $exp(x)$ is x is less than 0\n",
    "* $log(1+x)$ if `x` is greater than or equal to 0\n"
   ]
  },
  {
   "cell_type": "code",
   "execution_count": 100,
   "metadata": {
    "collapsed": false,
    "pycharm": {
     "name": "#%%\n",
     "is_executing": false
    }
   },
   "outputs": [],
   "source": [
    "def QUESTION_11(x):\n",
    "    if x < 0:\n",
    "        return np.exp(x)\n",
    "    else:\n",
    "        return np.log(1+x)"
   ]
  },
  {
   "cell_type": "markdown",
   "metadata": {
    "collapsed": false
   },
   "source": [
    "## Question 12\n",
    "\n",
    "Produce a scatter plot of the momentum returns of portfolios 1 (x-axis) and 10 using only\n",
    "data in 2016.  Set the x limits and y limits to be tight so that the lower bound is the \n",
    "smallest return plotted and the upper bound is the largest return plotted. Use the 'darkgrid'\n",
    "theme from seaborn.  Assign the **figure** handle to QUESTION_12.\n",
    " "
   ]
  },
  {
   "cell_type": "code",
   "execution_count": 101,
   "metadata": {
    "collapsed": false,
    "pycharm": {
     "name": "#%%\n",
     "is_executing": false
    }
   },
   "outputs": [
    {
     "data": {
      "text/plain": "<Figure size 432x288 with 1 Axes>",
      "image/png": "[encoded data removed]"
     },
     "metadata": {},
     "output_type": "display_data"
    }
   ],
   "source": [
    "import seaborn\n",
    "seaborn.set_style('darkgrid')\n",
    "\n",
    "data = momentum.loc['2016',['mom_01','mom_10']]\n",
    "ax = data.plot.scatter(x='mom_01', y='mom_10')\n",
    "limits = data.min().min(), data.max().max()\n",
    "ax.set_xlim(limits)\n",
    "ax.set_ylim(limits)\n",
    "QUESTION_12 = ax.get_figure()"
   ]
  },
  {
   "cell_type": "markdown",
   "metadata": {
    "collapsed": false
   },
   "source": [
    "## Question 13\n",
    "\n",
    "Compute the excess kurtosis of daily, weekly (using Friday and the end of the week) and monthly \n",
    "returns on the 10 momentum portfolios using the pandas function `kurt`. The solution must be a\n",
    "DataFrame with the portfolio names as the index ordered form 1 to 10 and the sampling frequencies,\n",
    "'daily', 'weekly', or 'monthly' as the columns (in order). When computing weekly or monthly returns\n",
    "from daily data, use the sum of the daily returns.  "
   ]
  },
  {
   "cell_type": "code",
   "execution_count": 102,
   "metadata": {
    "collapsed": false,
    "pycharm": {
     "name": "#%%\n",
     "is_executing": false
    }
   },
   "outputs": [],
   "source": [
    "momentum_perc = momentum / 100\n",
    "QUESTION_13 = pd.DataFrame({'daily': momentum_perc.kurt(),\n",
    "                            'weekly': momentum_perc.resample('W-FRI').sum().kurt(),\n",
    "                            'monthly': momentum_perc.resample('M').sum().kurt()})"
   ]
  },
  {
   "cell_type": "markdown",
   "metadata": {
    "collapsed": false
   },
   "source": [
    "## Question 14\n",
    "\n",
    "Simulate a random walk using 100 normal observations from a\n",
    "NumPy `RandomState` initialized with a seed of `19991231`."
   ]
  },
  {
   "cell_type": "code",
   "execution_count": 103,
   "metadata": {
    "collapsed": false,
    "pycharm": {
     "name": "#%%\n",
     "is_executing": false
    }
   },
   "outputs": [],
   "source": [
    "rs = np.random.RandomState(19991231)\n",
    "QUESTION_14 = np.cumsum(rs.standard_normal(100))"
   ]
  },
  {
   "cell_type": "markdown",
   "metadata": {
    "collapsed": false
   },
   "source": [
    "## Question 15\n",
    "\n",
    "Defining \n",
    "\n",
    "```\n",
    "import numpy as np\n",
    "\n",
    "cum_momentum = np.cumprod(1 + momentum / 100)\n",
    "```\n",
    "\n",
    "compute the ratio of the high-price to the low price in each month.  The solution\n",
    "should be a DataFrame where the index is the last date in each month and the columns\n",
    "are the variables names.\n",
    " "
   ]
  },
  {
   "cell_type": "code",
   "execution_count": 104,
   "metadata": {
    "collapsed": false,
    "pycharm": {
     "name": "#%%\n",
     "is_executing": false
    }
   },
   "outputs": [
    {
     "data": {
      "text/plain": "              mom_01    mom_02    mom_03    mom_04    mom_05    mom_06  \\\ndate                                                                     \n2016-01-31  1.340622  1.125350  1.139909  1.093137  1.082951  1.088088   \n2016-02-29  1.195079  1.123714  1.114333  1.095926  1.067615  1.075781   \n2016-03-31  1.164835  1.097744  1.059228  1.051931  1.055989  1.061364   \n2016-04-30  1.190530  1.127777  1.075059  1.080633  1.038988  1.067277   \n2016-05-31  1.125015  1.080349  1.065771  1.058703  1.051739  1.033644   \n2016-06-30  1.134348  1.128450  1.119531  1.122982  1.101517  1.083269   \n2016-07-31  1.112411  1.097946  1.093735  1.068024  1.061099  1.047744   \n2016-08-31  1.087361  1.053721  1.042859  1.036047  1.028115  1.021110   \n2016-09-30  1.054650  1.034302  1.038959  1.032440  1.026264  1.029877   \n2016-10-31  1.108717  1.046831  1.033268  1.025020  1.020966  1.020843   \n2016-11-30  1.139893  1.099907  1.136821  1.098235  1.071966  1.073088   \n2016-12-31  1.043492  1.043635  1.044362  1.047683  1.045492  1.042833   \n2017-01-31  1.038166  1.031416  1.012099  1.028301  1.023811  1.026673   \n2017-02-28  1.044485  1.060898  1.045907  1.043724  1.034151  1.040533   \n2017-03-31  1.043622  1.016771  1.021408  1.015568  1.024979  1.023565   \n2017-04-30  1.046886  1.027819  1.013813  1.027328  1.027135  1.029052   \n2017-05-31  1.047121  1.017021  1.021225  1.022273  1.030477  1.029761   \n2017-06-30  1.051314  1.030333  1.017897  1.023900  1.025393  1.014919   \n2017-07-31  1.048804  1.039535  1.019575  1.023388  1.031709  1.020734   \n2017-08-31  1.090266  1.041782  1.035090  1.021143  1.028535  1.022866   \n2017-09-30  1.076295  1.055324  1.028339  1.033640  1.025325  1.031503   \n2017-10-31  1.069363  1.052762  1.022805  1.022441  1.013151  1.048874   \n2017-11-30  1.102864  1.046917  1.056493  1.047657  1.048168  1.039323   \n2017-12-31  1.045614  1.063313  1.042389  1.032675  1.023354  1.022035   \n\n              mom_07    mom_08    mom_09    mom_10  \ndate                                                \n2016-01-31  1.076130  1.101781  1.079961  1.081956  \n2016-02-29  1.061786  1.070019  1.066734  1.105156  \n2016-03-31  1.031895  1.041020  1.043520  1.054168  \n2016-04-30  1.039976  1.028395  1.030190  1.029467  \n2016-05-31  1.024883  1.027012  1.022968  1.027706  \n2016-06-30  1.064058  1.049597  1.044133  1.040892  \n2016-07-31  1.042119  1.036273  1.022143  1.043041  \n2016-08-31  1.024462  1.011931  1.013685  1.016875  \n2016-09-30  1.032301  1.032884  1.037079  1.052412  \n2016-10-31  1.027309  1.029849  1.028269  1.052775  \n2016-11-30  1.043922  1.049133  1.058528  1.110624  \n2016-12-31  1.033991  1.038175  1.033741  1.038964  \n2017-01-31  1.030758  1.037366  1.036169  1.041474  \n2017-02-28  1.038877  1.045186  1.052260  1.035981  \n2017-03-31  1.032000  1.032911  1.059018  1.074416  \n2017-04-30  1.036093  1.040047  1.044506  1.059828  \n2017-05-31  1.036753  1.032004  1.031779  1.050405  \n2017-06-30  1.017778  1.019390  1.018853  1.048586  \n2017-07-31  1.031358  1.046321  1.037869  1.055691  \n2017-08-31  1.021099  1.033728  1.033009  1.038729  \n2017-09-30  1.029207  1.030479  1.023676  1.051418  \n2017-10-31  1.036826  1.039286  1.038282  1.034318  \n2017-11-30  1.035288  1.047035  1.028234  1.036381  \n2017-12-31  1.011124  1.024906  1.034620  1.043083  ",
      "text/html": "<div>\n<style scoped>\n    .dataframe tbody tr th:only-of-type {\n        vertical-align: middle;\n    }\n\n    .dataframe tbody tr th {\n        vertical-align: top;\n    }\n\n    .dataframe thead th {\n        text-align: right;\n    }\n</style>\n<table border=\"1\" class=\"dataframe\">\n  <thead>\n    <tr style=\"text-align: right;\">\n      <th></th>\n      <th>mom_01</th>\n      <th>mom_02</th>\n      <th>mom_03</th>\n      <th>mom_04</th>\n      <th>mom_05</th>\n      <th>mom_06</th>\n      <th>mom_07</th>\n      <th>mom_08</th>\n      <th>mom_09</th>\n      <th>mom_10</th>\n    </tr>\n    <tr>\n      <th>date</th>\n      <th></th>\n      <th></th>\n      <th></th>\n      <th></th>\n      <th></th>\n      <th></th>\n      <th></th>\n      <th></th>\n      <th></th>\n      <th></th>\n    </tr>\n  </thead>\n  <tbody>\n    <tr>\n      <td>2016-01-31</td>\n      <td>1.340622</td>\n      <td>1.125350</td>\n      <td>1.139909</td>\n      <td>1.093137</td>\n      <td>1.082951</td>\n      <td>1.088088</td>\n      <td>1.076130</td>\n      <td>1.101781</td>\n      <td>1.079961</td>\n      <td>1.081956</td>\n    </tr>\n    <tr>\n      <td>2016-02-29</td>\n      <td>1.195079</td>\n      <td>1.123714</td>\n      <td>1.114333</td>\n      <td>1.095926</td>\n      <td>1.067615</td>\n      <td>1.075781</td>\n      <td>1.061786</td>\n      <td>1.070019</td>\n      <td>1.066734</td>\n      <td>1.105156</td>\n    </tr>\n    <tr>\n      <td>2016-03-31</td>\n      <td>1.164835</td>\n      <td>1.097744</td>\n      <td>1.059228</td>\n      <td>1.051931</td>\n      <td>1.055989</td>\n      <td>1.061364</td>\n      <td>1.031895</td>\n      <td>1.041020</td>\n      <td>1.043520</td>\n      <td>1.054168</td>\n    </tr>\n    <tr>\n      <td>2016-04-30</td>\n      <td>1.190530</td>\n      <td>1.127777</td>\n      <td>1.075059</td>\n      <td>1.080633</td>\n      <td>1.038988</td>\n      <td>1.067277</td>\n      <td>1.039976</td>\n      <td>1.028395</td>\n      <td>1.030190</td>\n      <td>1.029467</td>\n    </tr>\n    <tr>\n      <td>2016-05-31</td>\n      <td>1.125015</td>\n      <td>1.080349</td>\n      <td>1.065771</td>\n      <td>1.058703</td>\n      <td>1.051739</td>\n      <td>1.033644</td>\n      <td>1.024883</td>\n      <td>1.027012</td>\n      <td>1.022968</td>\n      <td>1.027706</td>\n    </tr>\n    <tr>\n      <td>2016-06-30</td>\n      <td>1.134348</td>\n      <td>1.128450</td>\n      <td>1.119531</td>\n      <td>1.122982</td>\n      <td>1.101517</td>\n      <td>1.083269</td>\n      <td>1.064058</td>\n      <td>1.049597</td>\n      <td>1.044133</td>\n      <td>1.040892</td>\n    </tr>\n    <tr>\n      <td>2016-07-31</td>\n      <td>1.112411</td>\n      <td>1.097946</td>\n      <td>1.093735</td>\n      <td>1.068024</td>\n      <td>1.061099</td>\n      <td>1.047744</td>\n      <td>1.042119</td>\n      <td>1.036273</td>\n      <td>1.022143</td>\n      <td>1.043041</td>\n    </tr>\n    <tr>\n      <td>2016-08-31</td>\n      <td>1.087361</td>\n      <td>1.053721</td>\n      <td>1.042859</td>\n      <td>1.036047</td>\n      <td>1.028115</td>\n      <td>1.021110</td>\n      <td>1.024462</td>\n      <td>1.011931</td>\n      <td>1.013685</td>\n      <td>1.016875</td>\n    </tr>\n    <tr>\n      <td>2016-09-30</td>\n      <td>1.054650</td>\n      <td>1.034302</td>\n      <td>1.038959</td>\n      <td>1.032440</td>\n      <td>1.026264</td>\n      <td>1.029877</td>\n      <td>1.032301</td>\n      <td>1.032884</td>\n      <td>1.037079</td>\n      <td>1.052412</td>\n    </tr>\n    <tr>\n      <td>2016-10-31</td>\n      <td>1.108717</td>\n      <td>1.046831</td>\n      <td>1.033268</td>\n      <td>1.025020</td>\n      <td>1.020966</td>\n      <td>1.020843</td>\n      <td>1.027309</td>\n      <td>1.029849</td>\n      <td>1.028269</td>\n      <td>1.052775</td>\n    </tr>\n    <tr>\n      <td>2016-11-30</td>\n      <td>1.139893</td>\n      <td>1.099907</td>\n      <td>1.136821</td>\n      <td>1.098235</td>\n      <td>1.071966</td>\n      <td>1.073088</td>\n      <td>1.043922</td>\n      <td>1.049133</td>\n      <td>1.058528</td>\n      <td>1.110624</td>\n    </tr>\n    <tr>\n      <td>2016-12-31</td>\n      <td>1.043492</td>\n      <td>1.043635</td>\n      <td>1.044362</td>\n      <td>1.047683</td>\n      <td>1.045492</td>\n      <td>1.042833</td>\n      <td>1.033991</td>\n      <td>1.038175</td>\n      <td>1.033741</td>\n      <td>1.038964</td>\n    </tr>\n    <tr>\n      <td>2017-01-31</td>\n      <td>1.038166</td>\n      <td>1.031416</td>\n      <td>1.012099</td>\n      <td>1.028301</td>\n      <td>1.023811</td>\n      <td>1.026673</td>\n      <td>1.030758</td>\n      <td>1.037366</td>\n      <td>1.036169</td>\n      <td>1.041474</td>\n    </tr>\n    <tr>\n      <td>2017-02-28</td>\n      <td>1.044485</td>\n      <td>1.060898</td>\n      <td>1.045907</td>\n      <td>1.043724</td>\n      <td>1.034151</td>\n      <td>1.040533</td>\n      <td>1.038877</td>\n      <td>1.045186</td>\n      <td>1.052260</td>\n      <td>1.035981</td>\n    </tr>\n    <tr>\n      <td>2017-03-31</td>\n      <td>1.043622</td>\n      <td>1.016771</td>\n      <td>1.021408</td>\n      <td>1.015568</td>\n      <td>1.024979</td>\n      <td>1.023565</td>\n      <td>1.032000</td>\n      <td>1.032911</td>\n      <td>1.059018</td>\n      <td>1.074416</td>\n    </tr>\n    <tr>\n      <td>2017-04-30</td>\n      <td>1.046886</td>\n      <td>1.027819</td>\n      <td>1.013813</td>\n      <td>1.027328</td>\n      <td>1.027135</td>\n      <td>1.029052</td>\n      <td>1.036093</td>\n      <td>1.040047</td>\n      <td>1.044506</td>\n      <td>1.059828</td>\n    </tr>\n    <tr>\n      <td>2017-05-31</td>\n      <td>1.047121</td>\n      <td>1.017021</td>\n      <td>1.021225</td>\n      <td>1.022273</td>\n      <td>1.030477</td>\n      <td>1.029761</td>\n      <td>1.036753</td>\n      <td>1.032004</td>\n      <td>1.031779</td>\n      <td>1.050405</td>\n    </tr>\n    <tr>\n      <td>2017-06-30</td>\n      <td>1.051314</td>\n      <td>1.030333</td>\n      <td>1.017897</td>\n      <td>1.023900</td>\n      <td>1.025393</td>\n      <td>1.014919</td>\n      <td>1.017778</td>\n      <td>1.019390</td>\n      <td>1.018853</td>\n      <td>1.048586</td>\n    </tr>\n    <tr>\n      <td>2017-07-31</td>\n      <td>1.048804</td>\n      <td>1.039535</td>\n      <td>1.019575</td>\n      <td>1.023388</td>\n      <td>1.031709</td>\n      <td>1.020734</td>\n      <td>1.031358</td>\n      <td>1.046321</td>\n      <td>1.037869</td>\n      <td>1.055691</td>\n    </tr>\n    <tr>\n      <td>2017-08-31</td>\n      <td>1.090266</td>\n      <td>1.041782</td>\n      <td>1.035090</td>\n      <td>1.021143</td>\n      <td>1.028535</td>\n      <td>1.022866</td>\n      <td>1.021099</td>\n      <td>1.033728</td>\n      <td>1.033009</td>\n      <td>1.038729</td>\n    </tr>\n    <tr>\n      <td>2017-09-30</td>\n      <td>1.076295</td>\n      <td>1.055324</td>\n      <td>1.028339</td>\n      <td>1.033640</td>\n      <td>1.025325</td>\n      <td>1.031503</td>\n      <td>1.029207</td>\n      <td>1.030479</td>\n      <td>1.023676</td>\n      <td>1.051418</td>\n    </tr>\n    <tr>\n      <td>2017-10-31</td>\n      <td>1.069363</td>\n      <td>1.052762</td>\n      <td>1.022805</td>\n      <td>1.022441</td>\n      <td>1.013151</td>\n      <td>1.048874</td>\n      <td>1.036826</td>\n      <td>1.039286</td>\n      <td>1.038282</td>\n      <td>1.034318</td>\n    </tr>\n    <tr>\n      <td>2017-11-30</td>\n      <td>1.102864</td>\n      <td>1.046917</td>\n      <td>1.056493</td>\n      <td>1.047657</td>\n      <td>1.048168</td>\n      <td>1.039323</td>\n      <td>1.035288</td>\n      <td>1.047035</td>\n      <td>1.028234</td>\n      <td>1.036381</td>\n    </tr>\n    <tr>\n      <td>2017-12-31</td>\n      <td>1.045614</td>\n      <td>1.063313</td>\n      <td>1.042389</td>\n      <td>1.032675</td>\n      <td>1.023354</td>\n      <td>1.022035</td>\n      <td>1.011124</td>\n      <td>1.024906</td>\n      <td>1.034620</td>\n      <td>1.043083</td>\n    </tr>\n  </tbody>\n</table>\n</div>"
     },
     "metadata": {},
     "output_type": "execute_result",
     "execution_count": 104
    }
   ],
   "source": [
    "import numpy as np\n",
    "\n",
    "cum_momentum = np.cumprod(1 + momentum / 100)\n",
    "\n",
    "QUESTION_15 = cum_momentum.resample('M').max() / cum_momentum.resample('M').min() \n"
   ]
  },
  {
   "cell_type": "markdown",
   "metadata": {
    "collapsed": false
   },
   "source": [
    "## Question 16\n",
    "\n",
    "Simulate 100 observations from the model\n",
    "\n",
    "$$ y_i = 0.2 + 1.2 y_{i-1} - 0.2 y_{i-2} + \\epsilon_i$$\n",
    "\n",
    "where $\\epsilon_i$ is a standard normal shock.  Set $y_0=\\epsilon_0$ and\n",
    "$y_1=\\epsilon_0 + \\epsilon_1$. The solution should be a 1-d NumPy array with 100 elements. Use\n",
    "a RandomState with a seed value of 19991231."
   ]
  },
  {
   "cell_type": "code",
   "execution_count": 105,
   "metadata": {
    "collapsed": false,
    "pycharm": {
     "name": "#%%\n",
     "is_executing": false
    }
   },
   "outputs": [],
   "source": [
    "rs = np.random.RandomState(19991231)\n",
    "y = np.zeros(100)\n",
    "e = rs.standard_normal(100)\n",
    "\n",
    "y[0] = e[0]\n",
    "y[1] = e[0] + e[1]\n",
    "for i in range(2, 100):\n",
    "    y[i] = 0.2 + 1.2 * y[i-2] - 0.2 * y[i-2] + e[i]\n",
    "QUESTION_16 = y    \n"
   ]
  },
  {
   "cell_type": "markdown",
   "metadata": {
    "collapsed": false
   },
   "source": [
    "## Question 17\n",
    "What is the ratio of the largest eigenvalue to the smallest eigenvalue \n",
    "of the correlation matrix of the 10 momentum returns? \n",
    "\n",
    "**Note**: This is called the condition number of a matrix and is a measure of\n",
    "how closely correlated the series are. You can compute the eigenvalues from\n",
    "the correlation matrix using `np.linalg.eigs`.  See the help of this function\n",
    "for more details. "
   ]
  },
  {
   "cell_type": "code",
   "execution_count": 106,
   "metadata": {
    "collapsed": false,
    "pycharm": {
     "name": "#%%\n",
     "is_executing": false
    }
   },
   "outputs": [
    {
     "data": {
      "text/plain": "124.89972537712052"
     },
     "metadata": {},
     "output_type": "execute_result",
     "execution_count": 106
    }
   ],
   "source": [
    "corr = momentum.corr()\n",
    "eigs = np.linalg.eigvalsh(corr)\n",
    "QUESTION_17 = eigs.max() / eigs.min()\n",
    "QUESTION_17\n"
   ]
  },
  {
   "cell_type": "markdown",
   "metadata": {
    "collapsed": false
   },
   "source": [
    "## Question 18\n",
    "\n",
    "Write a function that takes a single input 'x' and return the string\n",
    "\"The value of x is \" and the value of x. For example, if x is 3.14,\n",
    "then the returned value should be \"The value of x is 3.14\". The function name\n",
    "must be QUESTION_18."
   ]
  },
  {
   "cell_type": "code",
   "execution_count": 107,
   "metadata": {
    "collapsed": false,
    "pycharm": {
     "name": "#%%\n",
     "is_executing": false
    }
   },
   "outputs": [],
   "source": [
    "def QUESTION_18(x):\n",
    "    return f\"The value of x is {x}\"\n"
   ]
  },
  {
   "cell_type": "markdown",
   "metadata": {
    "collapsed": false
   },
   "source": [
    "## Question 19\n",
    "\n",
    "Compute the percentage of days where all 10 returns are positive and subtract the\n",
    "percentage of days where all 10 momentum returns are negative on the same day."
   ]
  },
  {
   "cell_type": "code",
   "execution_count": 108,
   "metadata": {
    "collapsed": false,
    "pycharm": {
     "name": "#%%\n",
     "is_executing": false
    }
   },
   "outputs": [],
   "source": [
    "positive = (momentum > 0).all(1).mean()\n",
    "negative = (momentum < 0).all(1).mean()\n",
    "QUESTION_19 = positive - negative\n"
   ]
  },
  {
   "cell_type": "markdown",
   "metadata": {
    "collapsed": false
   },
   "source": [
    "## Question 20\n",
    "\n",
    "Write the function `QUESTION_20` that will take a single input `s`, which is a string\n",
    "and will return a Series that counts the number of times each letter in `s` appears in `s`\n",
    "_without_ regard to case. Do not include spaces.  Ensure the Series returned as its index sorted.\n",
    "\n",
    "**Hints**:\n",
    "\n",
    "* Have a look at `value_counts` for a pandas `Series`.\n",
    "* You can iterate across the letters of a string using\n",
    "\n",
    "```\n",
    "some_string = 'abcdefg'\n",
    "for letter in some_string:\n",
    "    do somethign with letter...\n",
    "```\n",
    "* `str.lower` can be used to get the lower case version of a string"
   ]
  },
  {
   "cell_type": "code",
   "execution_count": 1,
   "metadata": {
    "collapsed": false,
    "pycharm": {
     "name": "#%%\n",
     "is_executing": false
    }
   },
   "outputs": [
    {
     "traceback": [
      "\u001b[1;31m---------------------------------------------------------------------------\u001b[0m",
      "\u001b[1;31mNameError\u001b[0m                                 Traceback (most recent call last)",
      "\u001b[1;32m<ipython-input-1-56e873816945>\u001b[0m in \u001b[0;36m<module>\u001b[1;34m\u001b[0m\n\u001b[0;32m      6\u001b[0m     \u001b[1;32mreturn\u001b[0m \u001b[0mpd\u001b[0m\u001b[1;33m.\u001b[0m\u001b[0mSeries\u001b[0m\u001b[1;33m(\u001b[0m\u001b[0mletters\u001b[0m\u001b[1;33m)\u001b[0m\u001b[1;33m.\u001b[0m\u001b[0mvalue_counts\u001b[0m\u001b[1;33m(\u001b[0m\u001b[1;33m)\u001b[0m\u001b[1;33m.\u001b[0m\u001b[0msort_index\u001b[0m\u001b[1;33m(\u001b[0m\u001b[1;33m)\u001b[0m\u001b[1;33m\u001b[0m\u001b[1;33m\u001b[0m\u001b[0m\n\u001b[0;32m      7\u001b[0m \u001b[1;33m\u001b[0m\u001b[0m\n\u001b[1;32m----> 8\u001b[1;33m \u001b[0mQUESTION_20\u001b[0m\u001b[1;33m(\u001b[0m\u001b[1;34m'How now brown cow'\u001b[0m\u001b[1;33m)\u001b[0m\u001b[1;33m\u001b[0m\u001b[1;33m\u001b[0m\u001b[0m\n\u001b[0m",
      "\u001b[1;32m<ipython-input-1-56e873816945>\u001b[0m in \u001b[0;36mQUESTION_20\u001b[1;34m(s)\u001b[0m\n\u001b[0;32m      4\u001b[0m         \u001b[1;32mif\u001b[0m \u001b[0mletter\u001b[0m \u001b[1;33m!=\u001b[0m \u001b[1;34m' '\u001b[0m\u001b[1;33m:\u001b[0m\u001b[1;33m\u001b[0m\u001b[1;33m\u001b[0m\u001b[0m\n\u001b[0;32m      5\u001b[0m             \u001b[0mletters\u001b[0m\u001b[1;33m.\u001b[0m\u001b[0mappend\u001b[0m\u001b[1;33m(\u001b[0m\u001b[0mletter\u001b[0m\u001b[1;33m)\u001b[0m\u001b[1;33m\u001b[0m\u001b[1;33m\u001b[0m\u001b[0m\n\u001b[1;32m----> 6\u001b[1;33m     \u001b[1;32mreturn\u001b[0m \u001b[0mpd\u001b[0m\u001b[1;33m.\u001b[0m\u001b[0mSeries\u001b[0m\u001b[1;33m(\u001b[0m\u001b[0mletters\u001b[0m\u001b[1;33m)\u001b[0m\u001b[1;33m.\u001b[0m\u001b[0mvalue_counts\u001b[0m\u001b[1;33m(\u001b[0m\u001b[1;33m)\u001b[0m\u001b[1;33m.\u001b[0m\u001b[0msort_index\u001b[0m\u001b[1;33m(\u001b[0m\u001b[1;33m)\u001b[0m\u001b[1;33m\u001b[0m\u001b[1;33m\u001b[0m\u001b[0m\n\u001b[0m\u001b[0;32m      7\u001b[0m \u001b[1;33m\u001b[0m\u001b[0m\n\u001b[0;32m      8\u001b[0m \u001b[0mQUESTION_20\u001b[0m\u001b[1;33m(\u001b[0m\u001b[1;34m'How now brown cow'\u001b[0m\u001b[1;33m)\u001b[0m\u001b[1;33m\u001b[0m\u001b[1;33m\u001b[0m\u001b[0m\n",
      "\u001b[1;31mNameError\u001b[0m: name 'pd' is not defined"
     ],
     "ename": "NameError",
     "evalue": "name 'pd' is not defined",
     "output_type": "error"
    }
   ],
   "source": [
    "def QUESTION_20(s):\n",
    "    s = s.lower()\n",
    "    letters = []\n",
    "    for letter in s:\n",
    "        if letter != ' ':\n",
    "            letters.append(letter)\n",
    "    return pd.Series(letters).value_counts().sort_index()"
   ]
  }
 ],
 "metadata": {
  "kernelspec": {
   "display_name": "Python 3",
   "language": "python",
   "name": "python3"
  },
  "language_info": {
   "codemirror_mode": {
    "name": "ipython",
    "version": 3
   },
   "file_extension": ".py",
   "mimetype": "text/x-python",
   "name": "python",
   "nbconvert_exporter": "python",
   "pygments_lexer": "ipython3",
   "version": "3.7.4"
  },
  "pycharm": {
   "stem_cell": {
    "cell_type": "raw",
    "source": [],
    "metadata": {
     "collapsed": false
    }
   }
  }
 },
 "nbformat": 4,
 "nbformat_minor": 0
}