{
 "cells": [
  {
   "cell_type": "markdown",
   "metadata": {
    "collapsed": false
   },
   "source": [
    "\n",
    "## Maximum Likelihood\n",
    "\n",
    "**Functions**\n",
    "\n",
    "`np.log`, `scipy.special.gamma`, `scipy.special.gammaln`, `scipy.stats.norm.cdf`, `scipy.optimize.minimize`,\n",
    "`scipy.stats.t`, `np.var`, `np.std`, `scipy.stats.norm.pdf`\n",
    "\n",
    "### Exercise 19\n",
    "\n",
    "Simulate a set of i.i.d. Student's t random variables with degree of freedom\n",
    "parameter $\\nu=10$. Standardize the residuals so that they have unit variance\n",
    "using the fact that $V\\left[x \\right]=\\frac{\\nu}{\\nu-2}$. Use these to estimate\n",
    "the degree of freedom using maximum likelihood. Note that the likelihood of\n",
    "a standardized Student's t is\n",
    "\n",
    "$$f(x;\\nu,\\mu,\\sigma^{2})=\\frac{\\Gamma\\left(\\frac{\\nu+1}{2}\\right)}{\\Gamma\\left(\\frac{\\nu}{2}\\right)}\\,\\frac{1}{\\sqrt{\\pi(\\nu-2)}}\\,\\frac{1}{\\sigma}\\,\\frac{1}{\\left(1+\\frac{\\left(x-\\mu\\right)^{2}}{\\sigma^{2}(\\nu-2)}\\right)^{\\frac{\\nu+1}{2}}}$$\n",
    "\n",
    "where $\\Gamma\\left(\\right)$ is known as the gamma function."
   ]
  },
  {
   "cell_type": "code",
   "execution_count": 1,
   "metadata": {
    "collapsed": false,
    "pycharm": {
     "is_executing": false,
     "name": "#%%\n"
    }
   },
   "outputs": [
    {
     "name": "stdout",
     "output_type": "stream",
     "text": [
      "The variance is 1.0435286272711175\n"
     ]
    }
   ],
   "source": [
    "import numpy as np\n",
    "rs = np.random.RandomState(19991231)\n",
    "var = 10 / (10 - 2)\n",
    "rvs = rs.standard_t(10, size=1000) / np.sqrt(var)\n",
    "print(f\"The variance is {rvs.var()}\")"
   ]
  },
  {
   "cell_type": "code",
   "execution_count": 2,
   "metadata": {
    "collapsed": false,
    "pycharm": {
     "is_executing": false,
     "name": "#%%\n"
    }
   },
   "outputs": [
    {
     "name": "stdout",
     "output_type": "stream",
     "text": [
      "The log like at the population nu is 1435.8970961055188\n"
     ]
    }
   ],
   "source": [
    "from scipy.special import gammaln\n",
    "\n",
    "def std_t_loglik(nu, x):\n",
    "    # These are fixed for now\n",
    "    mu = 0\n",
    "    sigma2 = 1\n",
    "    sigma = np.sqrt(sigma2)\n",
    "    \n",
    "   \n",
    "    a = gammaln((nu + 1) / 2)\n",
    "    b = gammaln(nu / 2)\n",
    "    c = np.sqrt(np.pi * (nu-2))\n",
    "    d = ((nu + 1) / 2)\n",
    "    e = (x - mu) **2\n",
    "    f = sigma2 * (nu - 2)\n",
    "    \n",
    "    loglik = a - b - np.log(c) - np.log(sigma) - d * np.log(1 + e / f)\n",
    "    return -(loglik.sum())\n",
    "\n",
    "print(f\"The log like at the population nu is {std_t_loglik(10, rvs)}\")\n",
    "                "
   ]
  },
  {
   "cell_type": "code",
   "execution_count": 3,
   "metadata": {
    "collapsed": false,
    "pycharm": {
     "is_executing": false,
     "name": "#%%\n"
    }
   },
   "outputs": [
    {
     "name": "stdout",
     "output_type": "stream",
     "text": [
      "The MLE is 12.65172718249684 and the optimized (negative) LLF is 1435.6002951852095\n"
     ]
    }
   ],
   "source": [
    "from scipy.optimize import minimize\n",
    "\n",
    "starting_val = np.array([10])\n",
    "opt = minimize(std_t_loglik, starting_val, args=(rvs,), bounds=[(2.05, 100)],\n",
    "               options={\"disp\": True})\n",
    "print(f\"The MLE is {opt.x[0]} and the optimized (negative) LLF is {opt.fun}\")\n"
   ]
  },
  {
   "cell_type": "markdown",
   "metadata": {
    "collapsed": false
   },
   "source": [
    "### Exercise 20\n",
    "\n",
    "Repeat the previous exercise using daily, weekly and monthly S&P 500 and Hang Seng data.\n",
    "Note that it is necessary to remove the mean and standardize by the standard deviation\n",
    "error before estimating the degree of freedom. What happens over longer horizons?"
   ]
  },
  {
   "cell_type": "code",
   "execution_count": 4,
   "metadata": {
    "collapsed": false,
    "pycharm": {
     "is_executing": false,
     "name": "#%%\n"
    }
   },
   "outputs": [
    {
     "name": "stdout",
     "output_type": "stream",
     "text": [
      "The MLE is 3.3436180016993595 and the optimized (negative) LLF is 22731.853179026202\n"
     ]
    }
   ],
   "source": [
    "import pandas as pd\n",
    "\n",
    "prices = pd.read_hdf(\"data/equity-indices.h5\", \"sp500\")\n",
    "rets = 100 * prices.Close.pct_change().dropna()\n",
    "\n",
    "std_rets = (rets - rets.mean()) / rets.std()\n",
    "starting_val = np.array([10])\n",
    "opt = minimize(std_t_loglik, starting_val, args=(std_rets,), bounds=[(2.05, 100)],\n",
    "               options={\"disp\": True})\n",
    "print(f\"The MLE is {opt.x[0]} and the optimized (negative) LLF is {opt.fun}\")\n",
    "\n"
   ]
  },
  {
   "cell_type": "code",
   "execution_count": 5,
   "metadata": {
    "collapsed": false,
    "pycharm": {
     "is_executing": false,
     "name": "#%%\n"
    }
   },
   "outputs": [
    {
     "name": "stdout",
     "output_type": "stream",
     "text": [
      "For sp500, the MLE is 3.3436180016993595 and the optimized (negative) LLF is 22731.853179026202\n",
      "For weekly_sp500, the MLE is 4.877079615300741 and the optimized (negative) LLF is 4948.088538563845"
     ]
    },
    {
     "name": "stdout",
     "output_type": "stream",
     "text": [
      "\n",
      "For monthly_sp500, the MLE is 7.195886679997398 and the optimized (negative) LLF is 1169.4687637821962\n"
     ]
    },
    {
     "name": "stdout",
     "output_type": "stream",
     "text": [
      "For hsi, the MLE is 3.3436180016993595 and the optimized (negative) LLF is 22731.853179026202\n"
     ]
    },
    {
     "name": "stdout",
     "output_type": "stream",
     "text": [
      "For weekly_hsi, the MLE is 3.8770233518024906 and the optimized (negative) LLF is 2270.5381886061805\n",
      "For monthly_hsi, the MLE is 4.2998676523610735 and the optimized (negative) LLF is 531.4943348983934\n"
     ]
    }
   ],
   "source": [
    "keys = [\"sp500\", \"weekly_sp500\", \"monthly_sp500\", \"hsi\", \"weekly_hsi\", \"monthly_hsi\"]\n",
    "for key in keys:\n",
    "    prices = pd.read_hdf(\"data/equity-indices.h5\", key)\n",
    "    rets = 100 * prices.Close.pct_change().dropna()\n",
    "    \n",
    "    std_rets = (rets - rets.mean()) / rets.std()\n",
    "    starting_val = np.array([10])\n",
    "    opt = minimize(std_t_loglik, starting_val, args=(std_rets,), bounds=[(2.05, 100)],\n",
    "                   options={\"disp\": True})\n",
    "    print(f\"For {key}, the MLE is {opt.x[0]} and the optimized (negative) LLF is {opt.fun}\")\n",
    "    \n"
   ]
  },
  {
   "cell_type": "markdown",
   "metadata": {
    "collapsed": false
   },
   "source": [
    "### Exercise 21\n",
    "\n",
    "Repeat the previous problem by estimating the mean and variance simultaneously with\n",
    "the degree of freedom parameter."
   ]
  },
  {
   "cell_type": "code",
   "execution_count": 6,
   "metadata": {
    "collapsed": false,
    "pycharm": {
     "is_executing": false,
     "name": "#%%\n"
    }
   },
   "outputs": [],
   "source": [
    "def full_std_t_loglik(parameters, x):\n",
    "    # These are fixed for now\n",
    "    mu = parameters[0]\n",
    "    sigma2 = parameters[1]\n",
    "    nu = parameters[2]\n",
    "    sigma = np.sqrt(sigma2)\n",
    "   \n",
    "    a = gammaln((nu + 1) / 2)\n",
    "    b = gammaln(nu / 2)\n",
    "    c = np.sqrt(np.pi * (nu-2))\n",
    "    d = ((nu + 1) / 2)\n",
    "    e = (x - mu) **2\n",
    "    f = sigma2 * (nu - 2)\n",
    "    \n",
    "    loglik = a - b - np.log(c) - np.log(sigma) - d * np.log(1 + e / f)\n",
    "    return -(loglik.sum())"
   ]
  },
  {
   "cell_type": "code",
   "execution_count": 7,
   "metadata": {
    "collapsed": false,
    "pycharm": {
     "is_executing": false,
     "name": "#%%\n"
    }
   },
   "outputs": [
    {
     "data": {
      "text/plain": [
       "22751.097554147484"
      ]
     },
     "execution_count": 7,
     "metadata": {},
     "output_type": "execute_result"
    }
   ],
   "source": [
    "prices = pd.read_hdf(\"data/equity-indices.h5\", \"sp500\")\n",
    "rets = 100 * prices.Close.pct_change().dropna()\n",
    "\n",
    "mean = rets.mean()\n",
    "var = rets.var()\n",
    "starting_val = np.array([mean, var, 10])\n",
    "full_std_t_loglik(starting_val, rets)"
   ]
  },
  {
   "cell_type": "code",
   "execution_count": 8,
   "metadata": {
    "collapsed": false,
    "pycharm": {
     "is_executing": false,
     "name": "#%%\n"
    }
   },
   "outputs": [
    {
     "name": "stdout",
     "output_type": "stream",
     "text": [
      "The MLE is [0.04885902 1.01909012 3.11731596] and the optimized (negative) LLF is 22034.20166109784\n"
     ]
    }
   ],
   "source": [
    "bounds = [(-10*np.abs(mean), 10*np.abs(mean)), \n",
    "          (var / 1000, 100 * var),\n",
    "          (2.05, 100)]\n",
    "opt = minimize(full_std_t_loglik, starting_val, args=(rets,), bounds=bounds,\n",
    "               options={\"disp\": True})\n",
    "print(f\"The MLE is {opt.x} and the optimized (negative) LLF is {opt.fun}\")"
   ]
  },
  {
   "cell_type": "code",
   "execution_count": 9,
   "metadata": {
    "collapsed": false,
    "pycharm": {
     "is_executing": false,
     "name": "#%%\n"
    }
   },
   "outputs": [
    {
     "name": "stdout",
     "output_type": "stream",
     "text": [
      "For sp500, the MLE is [0.04885902 1.01909012 3.11731596] and the optimized (negative) LLF is 22034.20166109784\n",
      "For weekly_sp500, the MLE is [0.22792173 4.31086558 4.96479108] and the optimized (negative) LLF is 7646.416875193981\n",
      "For monthly_sp500, the MLE is [ 0.83032412 16.92297255  6.9963708 ] and the optimized (negative) LLF is 2351.2108045225245"
     ]
    },
    {
     "name": "stdout",
     "output_type": "stream",
     "text": [
      "\n"
     ]
    },
    {
     "name": "stdout",
     "output_type": "stream",
     "text": [
      "For hsi, the MLE is [0.04885902 1.01909012 3.11731596] and the optimized (negative) LLF is 22034.20166109784\n",
      "For weekly_hsi, the MLE is [ 0.29490842 13.18069951  3.81006233] and the optimized (negative) LLF is 4459.7374461884465\n"
     ]
    },
    {
     "name": "stdout",
     "output_type": "stream",
     "text": [
      "For monthly_hsi, the MLE is [ 1.00200474 55.00150675  4.23240526] and the optimized (negative) LLF is 1316.7986085354805\n"
     ]
    }
   ],
   "source": [
    "keys = [\"sp500\", \"weekly_sp500\", \"monthly_sp500\", \"hsi\", \"weekly_hsi\", \"monthly_hsi\"]\n",
    "for key in keys:\n",
    "    prices = pd.read_hdf(\"data/equity-indices.h5\", key)\n",
    "    rets = 100 * prices.Close.pct_change().dropna()\n",
    "    \n",
    "    mean = rets.mean()\n",
    "    var = rets.var()\n",
    "    starting_val = np.array([mean, var, 10])\n",
    "   \n",
    "    bounds = [(-10*np.abs(mean), 10*np.abs(mean)), \n",
    "              (var / 1000, 100 * var),\n",
    "              (2.05, 100)]\n",
    "    opt = minimize(full_std_t_loglik, starting_val, args=(rets,), bounds=bounds,\n",
    "                   options={\"disp\": True})\n",
    "    print(f\"For {key}, the MLE is {opt.x} and the optimized (negative) LLF is {opt.fun}\")\n"
   ]
  },
  {
   "cell_type": "markdown",
   "metadata": {
    "collapsed": false
   },
   "source": [
    "### Exercise 22\n",
    "\n",
    "Simulate a set of Bernoulli random variables $y_{i}$ where\n",
    "\n",
    "$$p_{i}=\\Phi\\left(x_{i}\\right)$$\n",
    "\n",
    "where $X_{i}\\sim N\\left(0,1\\right)$. (Note: $p_{i}$ is the probability of\n",
    "success and $\\Phi\\left(\\right)$ is the standard Normal CDF). Use this simulated data to\n",
    "estimate the Probit model where $p_{i}=\\Phi\\left(\\alpha_{0}+\\alpha_{1}x_{i}\\right)$ \n",
    "using maximum likelihood. "
   ]
  },
  {
   "cell_type": "code",
   "execution_count": 10,
   "metadata": {
    "collapsed": false,
    "pycharm": {
     "is_executing": false,
     "name": "#%%\n"
    }
   },
   "outputs": [],
   "source": [
    "from scipy import stats\n",
    "\n",
    "nobs = 1000\n",
    "\n",
    "x = rs.standard_normal(size=nobs)\n",
    "p = stats.norm.cdf(x)\n",
    "y = 1.0 * rs.random_sample(size=nobs) < p"
   ]
  },
  {
   "cell_type": "code",
   "execution_count": 11,
   "metadata": {
    "collapsed": false,
    "pycharm": {
     "is_executing": false,
     "name": "#%%\n"
    }
   },
   "outputs": [],
   "source": [
    "def probit_llf(params, y, x):\n",
    "    a0 = params[0]\n",
    "    a1 = params[1]\n",
    "    xhat = a0 + a1 * x\n",
    "    phat = stats.norm.cdf(xhat)\n",
    "    \n",
    "    loglik = y * np.log(phat) + (1-y) * np.log(1-phat)\n",
    "    return -(loglik.sum())"
   ]
  },
  {
   "cell_type": "code",
   "execution_count": 12,
   "metadata": {
    "collapsed": false,
    "pycharm": {
     "is_executing": false,
     "name": "#%%\n"
    }
   },
   "outputs": [
    {
     "data": {
      "text/plain": [
       "506.6527515404093"
      ]
     },
     "execution_count": 12,
     "metadata": {},
     "output_type": "execute_result"
    }
   ],
   "source": [
    "probit_llf([0, 1], y, x)"
   ]
  },
  {
   "cell_type": "code",
   "execution_count": 13,
   "metadata": {
    "collapsed": false,
    "pycharm": {
     "is_executing": false,
     "name": "#%%\n"
    }
   },
   "outputs": [
    {
     "name": "stdout",
     "output_type": "stream",
     "text": [
      "The MLE is [-0.04581815  0.99027212]\n"
     ]
    }
   ],
   "source": [
    "starting_val = np.array([0.0, 1.0])\n",
    "opt = minimize(probit_llf, starting_val, args=(y, x))\n",
    "print(f\"The MLE is {opt.x}\")"
   ]
  },
  {
   "cell_type": "markdown",
   "metadata": {
    "collapsed": false,
    "pycharm": {
     "name": "#%% md\n"
    }
   },
   "source": [
    "### Exercise 23\n",
    "\n",
    "Estimate the asymptotic covariance of the estimated parameters in the previous."
   ]
  },
  {
   "cell_type": "code",
   "execution_count": null,
   "metadata": {
    "collapsed": false,
    "pycharm": {
     "name": "#%%\n"
    }
   },
   "outputs": [],
   "source": []
  }
 ],
 "metadata": {
  "kernelspec": {
   "display_name": "Python 3",
   "language": "python",
   "name": "python3"
  },
  "language_info": {
   "codemirror_mode": {
    "name": "ipython",
    "version": 3
   },
   "file_extension": ".py",
   "mimetype": "text/x-python",
   "name": "python",
   "nbconvert_exporter": "python",
   "pygments_lexer": "ipython3",
   "version": "3.7.4"
  },
  "pycharm": {
   "stem_cell": {
    "cell_type": "raw",
    "metadata": {
     "collapsed": false
    },
    "source": []
   }
  }
 },
 "nbformat": 4,
 "nbformat_minor": 0
}
