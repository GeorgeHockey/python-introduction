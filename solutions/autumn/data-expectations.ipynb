{
 "cells": [
  {
   "cell_type": "markdown",
   "metadata": {
    "collapsed": true,
    "pycharm": {
     "name": "#%% md\n"
    }
   },
   "source": [
    "## Expectations\n",
    "\n",
    "**Functions**\n",
    "\n",
    "`np.random.RandomState`, `RandomState.standard_normal`, `RandomState.standard_t`, `RandomState.chi2`,\n",
    "`np.exp`, `np.mean`, `np.std`, `scipy.integrate.quadrature`, `scipy.integrate.quad`"
   ]
  },
  {
   "cell_type": "markdown",
   "source": [
    "### Exercise 10\n",
    "\n",
    "Compute $E\\left[X\\right]$, $E\\left[X^{2}\\right]$, $V\\left[X\\right]$ and the kurtosis of $X$ using Monte Carlo integration when $X$ is distributed:\n",
    "\n",
    "1. Standard Normal\n",
    "2. $N\\left(0.08,0.2^{2}\\right)$\n",
    "3. Students $t_{8}$\n",
    "4. $\\chi_{5}^{2}$\n",
    "\n"
   ],
   "metadata": {
    "collapsed": false
   }
  },
  {
   "cell_type": "code",
   "execution_count": 1,
   "outputs": [
    {
     "name": "stdout",
     "text": [
      "E[X] = 0.01695855531609172, E[X**2]=0.9893481101158448, V[X]=0.9890605175174358, K[X]=3.008212429714876\n"
     ],
     "output_type": "stream"
    }
   ],
   "source": [
    "import numpy as np\n",
    "\n",
    "rs = np.random.RandomState(30092019)\n",
    "\n",
    "reps = 10000\n",
    "\n",
    "x = rs.standard_normal(reps)\n",
    "mu = x.mean()\n",
    "mu2 = (x**2).mean()\n",
    "var = mu2 - mu**2\n",
    "kurt = np.mean(((x - mu) ** 4)) / var**2\n",
    "\n",
    "print(f\"E[X] = {mu}, E[X**2]={mu2}, V[X]={var}, K[X]={kurt}\")"
   ],
   "metadata": {
    "collapsed": false,
    "pycharm": {
     "name": "#%%\n",
     "is_executing": false
    }
   }
  },
  {
   "cell_type": "code",
   "execution_count": 4,
   "outputs": [
    {
     "name": "stdout",
     "text": [
      "E[X] = -0.01354509569000196, E[X**2]=1.2987568306632953, V[X]=1.298573361046044, K[X]=4.2291706282496655\n"
     ],
     "output_type": "stream"
    }
   ],
   "source": [
    "x = rs.standard_t(8, size=reps)\n",
    "mu = x.mean()\n",
    "mu2 = (x**2).mean()\n",
    "var = mu2 - mu**2\n",
    "kurt = np.mean(((x - mu) ** 4)) / var**2\n",
    "\n",
    "print(f\"E[X] = {mu}, E[X**2]={mu2}, V[X]={var}, K[X]={kurt}\")"
   ],
   "metadata": {
    "collapsed": false,
    "pycharm": {
     "name": "#%%\n",
     "is_executing": false
    }
   }
  },
  {
   "cell_type": "code",
   "execution_count": 3,
   "outputs": [
    {
     "name": "stdout",
     "text": [
      "E[X] = 5.070367506398907, E[X**2]=36.11392404179839, V[X]=10.405297391852521, K[X]=5.14344036255509\n"
     ],
     "output_type": "stream"
    }
   ],
   "source": [
    "x = rs.chisquare(5, size=reps)\n",
    "mu = x.mean()\n",
    "mu2 = (x**2).mean()\n",
    "var = mu2 - mu**2\n",
    "kurt = np.mean(((x - mu) ** 4)) / var**2\n",
    "\n",
    "print(f\"E[X] = {mu}, E[X**2]={mu2}, V[X]={var}, K[X]={kurt}\")\n"
   ],
   "metadata": {
    "collapsed": false,
    "pycharm": {
     "name": "#%%\n",
     "is_executing": false
    }
   }
  },
  {
   "cell_type": "code",
   "execution_count": null,
   "outputs": [],
   "source": [
    "x = rs.normal(0.08, 0.2, size=reps)\n",
    "mu = x.mean()\n",
    "mu2 = (x**2).mean()\n",
    "var = mu2 - mu**2\n",
    "kurt = np.mean(((x - mu) ** 4)) / var**2\n",
    "\n",
    "print(f\"E[X] = {mu}, E[X**2]={mu2}, V[X]={var}, K[X]={kurt}\")"
   ],
   "metadata": {
    "collapsed": false,
    "pycharm": {
     "name": "#%%\n"
    }
   }
  },
  {
   "cell_type": "code",
   "execution_count": 5,
   "outputs": [
    {
     "name": "stdout",
     "text": [
      "E[X] = 5.002214815620888, E[X**2]=35.04526122674316, V[X]=10.023108165126047, K[X]=5.391230855086581\n"
     ],
     "output_type": "stream"
    }
   ],
   "source": [
    "def expectations(x):\n",
    "    mu = x.mean()\n",
    "    mu2 = (x**2).mean()\n",
    "    var = mu2 - mu**2\n",
    "    kurt = np.mean(((x - mu) ** 4)) / var**2\n",
    "    \n",
    "    print(f\"E[X] = {mu}, E[X**2]={mu2}, V[X]={var}, K[X]={kurt}\")\n",
    "reps = 1000000\n",
    "expectations(rs.chisquare(5, reps))\n"
   ],
   "metadata": {
    "collapsed": false,
    "pycharm": {
     "name": "#%%\n",
     "is_executing": false
    }
   }
  },
  {
   "cell_type": "markdown",
   "source": [
    "### Exercise 11 \n",
    "\n",
    "1. Compute $E\\left[\\exp\\left(X\\right)\\right]$ when $X\\sim N\\left(0.08,0.2^{2}\\right)$.\n",
    "2. Compare this to the analytical result for a Log-Normal random variable.\n"
   ],
   "metadata": {
    "collapsed": false
   }
  },
  {
   "cell_type": "code",
   "execution_count": 15,
   "outputs": [
    {
     "name": "stdout",
     "text": [
      "E[exp(X)]=1.1052365499422352\n"
     ],
     "output_type": "stream"
    }
   ],
   "source": [
    "x = rs.normal(0.08, 0.2, size=reps)\n",
    "mu_exp = np.mean(np.exp(x))\n",
    "print(f\"E[exp(X)]={mu_exp}\")"
   ],
   "metadata": {
    "collapsed": false,
    "pycharm": {
     "name": "#%%\n",
     "is_executing": false
    }
   }
  },
  {
   "cell_type": "code",
   "execution_count": 16,
   "outputs": [
    {
     "name": "stdout",
     "text": [
      "Analytical = 1.1051709180756477\n"
     ],
     "output_type": "stream"
    }
   ],
   "source": [
    "analytical = np.exp(0.08 + 0.2**2/2)\n",
    "print(f\"Analytical = {analytical}\")"
   ],
   "metadata": {
    "collapsed": false,
    "pycharm": {
     "name": "#%%\n",
     "is_executing": false
    }
   }
  },
  {
   "cell_type": "markdown",
   "source": [
    "### Exercise 12\n",
    "\n",
    "Explore the role of uncertainty in Monte Carlo integration by increasing the number of simulations 300% relative to the base case.\n"
   ],
   "metadata": {
    "collapsed": false
   }
  },
  {
   "cell_type": "code",
   "execution_count": 18,
   "outputs": [
    {
     "name": "stdout",
     "text": [
      "Std. Dev (base): 0.010790126262401096\nStd. Dev (4*base): 0.004946123382997521\nRatio: 2.1815319649106506\n"
     ],
     "output_type": "stream"
    }
   ],
   "source": [
    "base_reps = 10000\n",
    "\n",
    "x = rs.standard_normal((base_reps,100))\n",
    "mus = x.mean(0)\n",
    "std = mus.std()\n",
    "\n",
    "x = rs.standard_normal((4*base_reps,100))\n",
    "mus_4 = x.mean(0)\n",
    "std_4 = mus_4.std()\n",
    "\n",
    "print(f\"Std. Dev (base): {std}\")\n",
    "print(f\"Std. Dev (4*base): {std_4}\")\n",
    "print(f\"Ratio: {std/std_4}\")\n"
   ],
   "metadata": {
    "collapsed": false,
    "pycharm": {
     "name": "#%%\n",
     "is_executing": false
    }
   }
  },
  {
   "cell_type": "markdown",
   "source": [
    "### Exercise 13\n",
    "\n",
    "Compute the expectation in exercise 11 using quadrature.\n",
    "\n",
    "**Note**: This requires writing a function which will return $\\exp\\left(x\\right)\\times\\phi\\left(x\\right)$ where $\\phi\\left(x\\right)$ is the pdf evaluated at $x$."
   ],
   "metadata": {
    "collapsed": false
   }
  },
  {
   "cell_type": "code",
   "execution_count": 23,
   "outputs": [
    {
     "name": "stdout",
     "text": [
      "Quadrature: 1.1051649239632353\n"
     ],
     "output_type": "stream"
    }
   ],
   "source": [
    "import scipy.stats as stats\n",
    "from scipy.integrate import quadrature, romberg\n",
    "def f(x):\n",
    "    return np.exp(x) * stats.norm.pdf(x, 0.08, 0.2)\n",
    "\n",
    "res, err = quadrature(f, -5 * 0.2, 5 * 0.2)\n",
    "print(f\"Quadrature: {res}\")"
   ],
   "metadata": {
    "collapsed": false,
    "pycharm": {
     "name": "#%%\n",
     "is_executing": false
    }
   }
  },
  {
   "cell_type": "code",
   "execution_count": 24,
   "outputs": [
    {
     "name": "stdout",
     "text": [
      "Quadrature (romberg): 1.1051649244195154\n"
     ],
     "output_type": "stream"
    }
   ],
   "source": [
    "res = romberg(f, -5 * 0.2, 5 * 0.2)\n",
    "print(f\"Quadrature (romberg): {res}\")"
   ],
   "metadata": {
    "collapsed": false,
    "pycharm": {
     "name": "#%%\n",
     "is_executing": false
    }
   }
  },
  {
   "cell_type": "markdown",
   "source": [
    "### Exercise 14 \n",
    "\n",
    "**Optional** (Much more challenging)\n",
    "\n",
    "Suppose log stock market returns are distributed according to a Students t with 8 degrees of\n",
    "freedom, mean 8% and volatility 20%. Utility maximizers hold a portfolio consisting of a\n",
    "risk-free asset paying 1% and the stock market. Assume that they are myopic and only care\n",
    "about next period wealth, so that \n",
    "\n",
    "$$U\\left(W_{t+1}\\right)=U\\left(\\exp\\left(r_{p}\\right)W_{t}\\right)$$\n",
    "\n",
    "and that $U\\left(W\\right)=\\frac{W^{1-\\gamma}}{1-\\gamma}$ is CRRA with risk aversion $\\gamma$.\n",
    "The portfolio return is $r_{p}=wr_{s}+\\left(1-w\\right)r_{f}$ where $s$ is for stock market\n",
    "and $f$ is for risk-free. A 4th order expansion of this utility around the expected wealth\n",
    "next period is\n",
    "\n",
    "$$E_{t}\\left[U\\left(W_{t+1}\\right)\\right]\\approx\\phi_{0}+\\phi_{1}\\mu_{1}^{\\prime}+\\phi_{2}\\mu_{2}^{\\prime}+\\phi_{3}\\mu_{3}^{\\prime}+\\phi_{4}\\mu_{4}^{\\prime}$$\n",
    "\n",
    "where\n",
    "\n",
    "$$\\phi_{j}=\\left(j!\\right)^{-1}U^{\\left(j\\right)}\\left(E_{t}\\left[W_{t+1}\\right]\\right),$$\n",
    "\n",
    "$$U^{(j)}=\\frac{\\partial^{j}U}{\\partial W^{j}},$$\n",
    "\n",
    "$$\\mu_{k}^{\\prime}=E_{t}\\left[\\left(r-\\mu\\right)_{p}^{k}\\right],$$\n",
    "\n",
    "and $\\mu=E_{t}\\left[r_{p}\\right]$. Use Monte Carlo integration to examine how the weight in\n",
    "the stock market varies as the risk aversion varies from 1.5 to 10. Note that when $\\gamma=1$, $U\\left(W\\right)=\\ln\\left(W\\right)$.\n",
    "Use $W_{t}=1$ without loss of generality since the portfolio problem is homogeneous of degree 0 in wealth."
   ],
   "metadata": {
    "collapsed": false
   }
  },
  {
   "cell_type": "code",
   "execution_count": null,
   "outputs": [],
   "source": [],
   "metadata": {
    "collapsed": false,
    "pycharm": {
     "name": "#%%"
    }
   }
  }
 ],
 "metadata": {
  "kernelspec": {
   "display_name": "Python 3",
   "language": "python",
   "name": "python3"
  },
  "language_info": {
   "codemirror_mode": {
    "name": "ipython",
    "version": 2
   },
   "file_extension": ".py",
   "mimetype": "text/x-python",
   "name": "python",
   "nbconvert_exporter": "python",
   "pygments_lexer": "ipython2",
   "version": "2.7.6"
  },
  "pycharm": {
   "stem_cell": {
    "cell_type": "raw",
    "source": [],
    "metadata": {
     "collapsed": false
    }
   }
  }
 },
 "nbformat": 4,
 "nbformat_minor": 0
}