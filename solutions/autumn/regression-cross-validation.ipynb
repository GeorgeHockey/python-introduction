{
 "cells": [
  {
   "cell_type": "markdown",
   "source": [
    "## Model Selection and Cross-Validation\n",
    "\n",
    "Functions\n",
    "\n",
    "randperm, ols, setdiff, norminv, linspace, mean\n",
    "\n",
    "### Exercise 52\n",
    "For these portfolios, and considering all 8 sets of regressors which range from no factor to all 3 factors, which model is preferred by AIC, BIC, GtS and StG?"
   ],
   "metadata": {
    "collapsed": false
   }
  },
  {
   "cell_type": "code",
   "execution_count": null,
   "outputs": [],
   "source": [],
   "metadata": {
    "collapsed": false,
    "pycharm": {
     "name": "#%%\n"
    }
   }
  },
  {
   "cell_type": "markdown",
   "source": [
    "### Exercise 53\n",
    "Cross-validation is a method of analyzing the in-sample forecasting ability of a\n",
    "cross-sectional model by using $\\alpha\\%$ of the data to estimate the model and\n",
    "then measuring the fit using the remaining $100-\\alpha\\%$. The most common forms\n",
    "are 5- and 10-fold cross-validation which use $\\alpha=20\\%$ and $10\\%$, respectively.\n",
    "k-fold cross validation is implemented by randomly grouping the data into\n",
    "k-equally-sized groups, using k-1 of the groups to estimate parameters, and\n",
    "then evaluating using the bin that was held out. This is then repeated so that\n",
    "each bin is held out.\n",
    "\n",
    "1. Implement cross-validation using the 5- and 10-fold methods for all 8 models.\n",
    "2. For each model, compute the full-sample sum of squared errors as well as the\n",
    "   sum-of-squared errors using the held-out sample. Note that all data points\n",
    "   will appear exactly once in both of these sum or squared errors. What happens\n",
    "   to the cross-validated $R^{2}$ when computed on the held out sample when compared\n",
    "   to the full-sample $R^{2}$? (k-fold cross validated SSE by the TSS)."
   ],
   "metadata": {
    "collapsed": false
   }
  },
  {
   "cell_type": "code",
   "execution_count": null,
   "outputs": [],
   "source": [],
   "metadata": {
    "collapsed": false,
    "pycharm": {
     "name": "#%%\n"
    }
   }
  }
 ],
 "metadata": {
  "kernelspec": {
   "display_name": "Python 3",
   "language": "python",
   "name": "python3"
  },
  "language_info": {
   "codemirror_mode": {
    "name": "ipython",
    "version": 2
   },
   "file_extension": ".py",
   "mimetype": "text/x-python",
   "name": "python",
   "nbconvert_exporter": "python",
   "pygments_lexer": "ipython2",
   "version": "2.7.6"
  },
  "pycharm": {
   "stem_cell": {
    "cell_type": "raw",
    "source": [],
    "metadata": {
     "collapsed": false
    }
   }
  }
 },
 "nbformat": 4,
 "nbformat_minor": 0
}