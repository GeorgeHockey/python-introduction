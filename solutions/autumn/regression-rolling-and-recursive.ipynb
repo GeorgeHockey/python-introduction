{
 "cells": [
  {
   "cell_type": "markdown",
   "metadata": {
    "collapsed": false
   },
   "source": [
    "## Rolling and Recursive Regressions\n",
    "\n",
    "**Functions**\n",
    "\n",
    "`sm.OLS`, `plt.title`, `plt.legend`, `plt.subplots`, `plt.plot`\n",
    "\n",
    "### Exercise 47\n",
    "For the same portfolios in the previous exercise, compute rolling $\\beta$s\n",
    "using 60 consecutive observations."
   ]
  },
  {
   "cell_type": "code",
   "execution_count": 1,
   "metadata": {
    "collapsed": false,
    "pycharm": {
     "is_executing": false,
     "name": "#%%\n"
    }
   },
   "outputs": [
    {
     "name": "stderr",
     "output_type": "stream",
     "text": [
      "/home/kevin/miniconda3/lib/python3.7/site-packages/numpy/core/fromnumeric.py:2495: FutureWarning: Method .ptp is deprecated and will be removed in a future version. Use numpy.ptp instead.\n",
      "  return ptp(axis=axis, out=out, **kwargs)\n"
     ]
    }
   ],
   "source": [
    "import pandas as pd\n",
    "import statsmodels.api as sm\n",
    "import numpy as np\n",
    "\n",
    "ff = pd.read_hdf(\"data/ff.h5\", \"ff\")\n",
    "ff.head()\n",
    "\n",
    "factors = sm.add_constant(ff.iloc[:,:3])\n",
    "portfolios = ff.iloc[:,4:]\n",
    "portfolios = portfolios[[\"SMALL LoBM\", \"SMALL HiBM\",\"BIG LoBM\", \"BIG HiBM\"]]"
   ]
  },
  {
   "cell_type": "code",
   "execution_count": 2,
   "metadata": {
    "collapsed": false,
    "pycharm": {
     "is_executing": false,
     "name": "#%%\n"
    }
   },
   "outputs": [],
   "source": [
    "rolling_betas = {}\n",
    "rolling_se = {}\n",
    "nobs = portfolios.shape[0]\n",
    "\n",
    "for column in portfolios:\n",
    "    betas = factors.copy()\n",
    "    betas.loc[:, :] = np.nan\n",
    "    se = betas.copy()\n",
    "\n",
    "    portfolio = portfolios[column]\n",
    "    for i in range(60, nobs):\n",
    "        y = portfolio.iloc[i-60:i]\n",
    "        x = factors.iloc[i-60:i]\n",
    "        res = sm.OLS(y,x).fit(cov_type=\"HC0\")\n",
    "        betas.iloc[i] = res.params\n",
    "        se.iloc[i] = res.bse\n",
    "    rolling_betas[column] = betas\n",
    "    rolling_se[column] = se"
   ]
  },
  {
   "cell_type": "markdown",
   "metadata": {
    "collapsed": false
   },
   "source": [
    "### Exercise 48\n",
    "\n",
    "For each of the four $\\beta$s, produce a plot containing four series: \n",
    "\n",
    "* A line corresponding to the constant $\\beta$ (full sample) \n",
    "* The $\\beta$ estimated on the rolling sample \n",
    "* The constant $\\beta$ plus $1.96 \\times$ the variance of a 60-observation estimate of $\\beta$. \n",
    "  The 60-month covariance can be estimated using a full sample VCV and rescaling it by T/60 \n",
    "  where T is the length of the full sample used to estimate the VCV. Alternatively, the VCV\n",
    "  could be estimated by first estimating the 60-month VCV for each sub-sample and then averaging\n",
    "  these.\n",
    "* The constant $\\beta$ minus $1.96 \\times$ the variance of a 60-observation estimate of $\\beta$. "
   ]
  },
  {
   "cell_type": "code",
   "execution_count": 3,
   "metadata": {
    "collapsed": false,
    "pycharm": {
     "is_executing": false,
     "name": "#%%\n"
    }
   },
   "outputs": [],
   "source": [
    "import matplotlib.pyplot as plt\n",
    "import seaborn as sns\n",
    "from pandas.plotting import register_matplotlib_converters\n",
    "register_matplotlib_converters()\n",
    "\n",
    "plt.rc(\"figure\", figsize=(12,8))\n",
    "sns.set_style(\"darkgrid\")\n",
    "colors = sns.color_palette()\n",
    "\n",
    "for column in portfolios:\n",
    "    betas = rolling_betas[column]\n",
    "    ses = rolling_se[column]\n",
    "    variances = ses ** 2\n",
    "    const_std_errs = np.sqrt(variances.mean(0))\n",
    "    full_sample = sm.OLS(portfolios[column], factors).fit()\n",
    "    fig, axes = plt.subplots(4, 1)\n",
    "    plt.suptitle(column)\n",
    "    for i in range(4):\n",
    "        factor_name = factors.columns[i]\n",
    "        data = pd.DataFrame({\"B\": betas.iloc[:, i]})\n",
    "        const_beta = full_sample.params.iloc[i]\n",
    "        const_se = const_std_errs.iloc[i]\n",
    "        data['Constant B'] = const_beta\n",
    "        data['Upper CI'] = const_beta + 1.96 * const_se\n",
    "        data['Lower CI'] = const_beta - 1.96 * const_se\n",
    "        data = data.dropna()\n",
    "        \n",
    "        ax = axes[i]\n",
    "        ax.plot(data.index, data[\"B\"], color=colors[i])\n",
    "        ax.plot(data.index, data[\"Constant B\"], linestyle=\"--\", color=\"black\")\n",
    "        ax.plot(data.index, data[\"Upper CI\"], linestyle=\":\", color=\"black\")\n",
    "        ax.plot(data.index, data[\"Lower CI\"], linestyle=\":\", color=\"black\")\n",
    "        ax.set_title(factor_name)\n",
    "        ax.set_xlim(data.index[0], data.index[-1])\n",
    "    fig.tight_layout(rect=[0, 0.03, 1, 0.95])\n"
   ]
  },
  {
   "cell_type": "markdown",
   "metadata": {
    "collapsed": false,
    "pycharm": {
     "name": "#%% md\n"
    }
   },
   "source": [
    "### Exercise 49\n",
    "\n",
    "Do the factor exposures appear constant?"
   ]
  },
  {
   "cell_type": "code",
   "execution_count": 4,
   "metadata": {
    "collapsed": false,
    "pycharm": {
     "is_executing": false,
     "name": "#%%\n"
    }
   },
   "outputs": [
    {
     "data": {
      "text/html": [
       "<b>No</b>"
      ],
      "text/plain": [
       "<IPython.core.display.HTML object>"
      ]
     },
     "metadata": {},
     "output_type": "display_data"
    }
   ],
   "source": [
    "from IPython.display import display, HTML\n",
    "\n",
    "display(HTML(\"<b>No</b>\"))\n"
   ]
  },
  {
   "cell_type": "markdown",
   "metadata": {
    "collapsed": false,
    "pycharm": {
     "name": "#%% md\n"
    }
   },
   "source": [
    "### Exercise 50\n",
    "\n",
    "What happens if only the market is used as a factor (repeat the exercise excluding SMB and HML)."
   ]
  },
  {
   "cell_type": "code",
   "execution_count": 5,
   "metadata": {
    "collapsed": false,
    "pycharm": {
     "is_executing": false,
     "name": "#%%\n"
    }
   },
   "outputs": [],
   "source": [
    "rolling_betas = {}\n",
    "rolling_se = {}\n",
    "capm_factors = factors.iloc[:,:2]\n",
    "\n",
    "for column in portfolios:\n",
    "    betas = capm_factors.copy()\n",
    "    betas.loc[:, :] = np.nan\n",
    "    se = betas.copy()\n",
    "\n",
    "    portfolio = portfolios[column]\n",
    "    for i in range(60, nobs):\n",
    "        y = portfolio.iloc[i-60:i]\n",
    "        x = capm_factors.iloc[i-60:i]\n",
    "        res = sm.OLS(y,x).fit(cov_type=\"HC0\")\n",
    "        betas.iloc[i] = res.params\n",
    "        se.iloc[i] = res.bse\n",
    "    rolling_betas[column] = betas\n",
    "    rolling_se[column] = se\n"
   ]
  },
  {
   "cell_type": "code",
   "execution_count": 6,
   "metadata": {
    "collapsed": false,
    "pycharm": {
     "is_executing": false,
     "name": "#%%\n"
    }
   },
   "outputs": [
    {
     "data": {
      "image/png": "[encoded data removed]",
      "text/plain": [
       "<Figure size 432x288 with 4 Axes>"
      ]
     },
     "metadata": {
      "needs_background": "light"
     },
     "output_type": "display_data"
    }
   ],
   "source": [
    "fig, axes = plt.subplots(4, 1)\n",
    "for i in range(4):\n",
    "    column = portfolios.columns[i]\n",
    "    betas = rolling_betas[column]\n",
    "    ses = rolling_se[column]\n",
    "    variances = ses ** 2\n",
    "    const_std_errs = np.sqrt(variances.mean(0))\n",
    "    full_sample = sm.OLS(portfolios[column], capm_factors).fit()\n",
    "    \n",
    "    market_name = \"Mkt-RF\"\n",
    "    data = pd.DataFrame({\"B\": betas[market_name]}).dropna()\n",
    "    const_beta = full_sample.params[market_name]\n",
    "    const_se = const_std_errs[market_name]\n",
    "    data[\"Constant B\"] = const_beta\n",
    "    data[\"Upper CI\"] = const_beta + 1.96 * const_se\n",
    "    data[\"Lower CI\"] = const_beta - 1.96 * const_se\n",
    "    \n",
    "    ax = axes[i]\n",
    "    ax.plot(data.index, data[\"B\"], color=colors[i], label=market_name)\n",
    "    ax.plot(data.index, data[\"Constant B\"], linestyle=\"--\", color=\"black\")\n",
    "    ax.plot(data.index, data[\"Upper CI\"], linestyle=\":\", color=\"black\")\n",
    "    ax.plot(data.index, data[\"Lower CI\"], linestyle=\":\", color=\"black\")\n",
    "    ax.set_title(column)\n",
    "    ax.set_xlim(data.index[0], data.index[-1])\n",
    "    ax.legend(frameon=False)\n",
    "    fig.tight_layout()"
   ]
  },
  {
   "cell_type": "code",
   "execution_count": 7,
   "metadata": {
    "collapsed": false,
    "pycharm": {
     "is_executing": false,
     "name": "#%%\n"
    }
   },
   "outputs": [
    {
     "data": {
      "text/html": [
       "\n",
       "With the exception of the the BIG LoBM, all appear to have economically\n",
       "meaningful time variation.\n"
      ],
      "text/plain": [
       "<IPython.core.display.HTML object>"
      ]
     },
     "metadata": {},
     "output_type": "display_data"
    }
   ],
   "source": [
    "msg = \"\"\"\n",
    "With the exception of the the BIG LoBM, all appear to have economically\n",
    "meaningful time variation.\n",
    "\"\"\"\n",
    "txt = display(HTML(msg))"
   ]
  }
 ],
 "metadata": {
  "kernelspec": {
   "display_name": "Python 3",
   "language": "python",
   "name": "python3"
  },
  "language_info": {
   "codemirror_mode": {
    "name": "ipython",
    "version": 3
   },
   "file_extension": ".py",
   "mimetype": "text/x-python",
   "name": "python",
   "nbconvert_exporter": "python",
   "pygments_lexer": "ipython3",
   "version": "3.7.4"
  },
  "pycharm": {
   "stem_cell": {
    "cell_type": "raw",
    "metadata": {
     "collapsed": false
    },
    "source": []
   }
  }
 },
 "nbformat": 4,
 "nbformat_minor": 0
}
