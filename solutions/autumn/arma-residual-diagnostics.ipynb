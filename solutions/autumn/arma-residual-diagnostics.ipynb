{
 "cells": [
  {
   "cell_type": "markdown",
   "metadata": {
    "collapsed": true,
    "pycharm": {
     "name": "#%% md\n"
    }
   },
   "source": [
    "## ARMA Residual Diagnostics\n",
    "\n",
    "**Functions**\n",
    "\n",
    "`sm.tsa.SARIMAX`, `sm.stats.diagnostic.acorr_ljungbox`, `SARIMAXResults.test_serial_correlation`\n",
    "\n",
    "### Exercise 59\n",
    "Compute the residuals from your preferred model from the previous exercise, as well as a random-walk model.\n",
    "\n",
    "1. Plot the residuals\n",
    "2. Is there evidence of autocorrelation in the residuals?\n",
    "3. Compute the Q statistic from both sets of residuals. Is there evidence of serial correlation?\n",
    "4. Compute the LM test for serial correlation. Is there evidence of serial correlation?"
   ]
  },
  {
   "cell_type": "code",
   "execution_count": null,
   "outputs": [],
   "source": [],
   "metadata": {
    "collapsed": false,
    "pycharm": {
     "name": "#%%\n"
    }
   }
  }
 ],
 "metadata": {
  "kernelspec": {
   "display_name": "Python 3",
   "language": "python",
   "name": "python3"
  },
  "language_info": {
   "codemirror_mode": {
    "name": "ipython",
    "version": 2
   },
   "file_extension": ".py",
   "mimetype": "text/x-python",
   "name": "python",
   "nbconvert_exporter": "python",
   "pygments_lexer": "ipython2",
   "version": "2.7.6"
  },
  "pycharm": {
   "stem_cell": {
    "cell_type": "raw",
    "source": [],
    "metadata": {
     "collapsed": false
    }
   }
  }
 },
 "nbformat": 4,
 "nbformat_minor": 0
}