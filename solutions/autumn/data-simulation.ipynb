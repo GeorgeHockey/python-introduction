{
 "cells": [
  {
   "cell_type": "markdown",
   "metadata": {
    "pycharm": {
     "name": "#%% md\n"
    }
   },
   "source": [
    "## Simulation\n",
    "\n",
    "Functions\n",
    "\n",
    "`np.random.standard_normal`, `np.random.standard_t`, `np.random.RandomState`\n",
    "\n",
    "### Exercise 5\n",
    "\n",
    "Simulate 100 standard Normal random variables\n"
   ]
  },
  {
   "cell_type": "code",
   "execution_count": 1,
   "metadata": {
    "pycharm": {
     "is_executing": false,
     "name": "#%%\n"
    }
   },
   "outputs": [
    {
     "name": "stdout",
     "output_type": "stream",
     "text": [
      "[ 0.54499285 -1.78373135  1.23608986  0.39886213 -1.31152075  0.19603834\n",
      " -0.32168677 -0.81594461 -0.88085281  0.63863508]\n"
     ]
    }
   ],
   "source": [
    "import numpy as np\n",
    "\n",
    "x = np.random.standard_normal(100)\n",
    "print(x[:10])\n"
   ]
  },
  {
   "cell_type": "markdown",
   "metadata": {},
   "source": [
    "### Exercise 6\n",
    "\n",
    "Simulate 100 random variables from a $N\\left(.08,.2^{2}\\right)$"
   ]
  },
  {
   "cell_type": "code",
   "execution_count": 2,
   "metadata": {
    "pycharm": {
     "is_executing": false,
     "name": "#%%\n"
    }
   },
   "outputs": [
    {
     "name": "stdout",
     "output_type": "stream",
     "text": [
      "[-0.01138789 -0.07077417  0.23767348 -0.0185863   0.08993001  0.48644918\n",
      "  0.07873317  0.18018636 -0.26545285 -0.06880158]\n"
     ]
    }
   ],
   "source": [
    "x = np.random.normal(0.08, 0.20, 100)\n",
    "print(x[:10])\n"
   ]
  },
  {
   "cell_type": "markdown",
   "metadata": {},
   "source": [
    "### Exercise 7\n",
    "\n",
    "Simulate 100 random variables from a Students t with 8 degrees of freedom\n"
   ]
  },
  {
   "cell_type": "code",
   "execution_count": 3,
   "metadata": {
    "pycharm": {
     "is_executing": false,
     "name": "#%%\n"
    }
   },
   "outputs": [
    {
     "name": "stdout",
     "output_type": "stream",
     "text": [
      "[-2.56403302  0.37383178  1.38257033  1.28411552 -0.64011536 -1.07020199\n",
      " -0.90048761  0.51159819 -0.16040545 -0.39260257]\n"
     ]
    }
   ],
   "source": [
    "x = np.random.standard_t(8, size=100)\n",
    "print(x[:10])\n"
   ]
  },
  {
   "cell_type": "markdown",
   "metadata": {},
   "source": [
    "### Exercise 8\n",
    "\n",
    "Simulate 100 random variables from a Students t with 8 degrees of freedom with a mean of 8% and a volatility of 20%. Note: $V\\left[X\\right]=\\frac{\\nu}{\\nu-2}$ when $X\\sim t_{\\nu}$."
   ]
  },
  {
   "cell_type": "code",
   "execution_count": 4,
   "metadata": {
    "pycharm": {
     "is_executing": false,
     "name": "#%%\n"
    }
   },
   "outputs": [
    {
     "name": "stdout",
     "output_type": "stream",
     "text": [
      "[-0.04848816 -0.02269621 -0.11545124 -0.15393637  0.36327031  0.12489027\n",
      " -0.27445407  0.4437728  -0.01350396  0.21182686]\n"
     ]
    }
   ],
   "source": [
    "e = np.random.standard_t(8, size=100)\n",
    "e = e / np.sqrt(8/(8-2))\n",
    "x = 0.08 + 0.2 * e\n",
    "print(x[:10])\n"
   ]
  },
  {
   "cell_type": "markdown",
   "metadata": {},
   "source": [
    "\n",
    "### Exercise 9\n",
    "\n",
    "Simulate two identical sets of 100 standard normal random variables by resetting the random number generator."
   ]
  },
  {
   "cell_type": "code",
   "execution_count": 5,
   "metadata": {
    "pycharm": {
     "is_executing": false,
     "name": "#%%\n"
    }
   },
   "outputs": [
    {
     "name": "stdout",
     "output_type": "stream",
     "text": [
      "[0. 0. 0. 0. 0. 0. 0. 0. 0. 0. 0. 0. 0. 0. 0. 0. 0. 0. 0. 0. 0. 0. 0. 0.\n",
      " 0. 0. 0. 0. 0. 0. 0. 0. 0. 0. 0. 0. 0. 0. 0. 0. 0. 0. 0. 0. 0. 0. 0. 0.\n",
      " 0. 0. 0. 0. 0. 0. 0. 0. 0. 0. 0. 0. 0. 0. 0. 0. 0. 0. 0. 0. 0. 0. 0. 0.\n",
      " 0. 0. 0. 0. 0. 0. 0. 0. 0. 0. 0. 0. 0. 0. 0. 0. 0. 0. 0. 0. 0. 0. 0. 0.\n",
      " 0. 0. 0. 0.]\n"
     ]
    }
   ],
   "source": [
    "# Legacy method for any NumPy\n",
    "rs = np.random.RandomState(30092019)\n",
    "# Modern method, NumPy >= 1.17\n",
    "rs = np.random.default_rng(30092019)\n",
    "\n",
    "x1 = rs.standard_normal(100)\n",
    "\n",
    "# rs2 = np.random.RandomState(30092019)\n",
    "rs2 = np.random.default_rng(30092019)\n",
    "\n",
    "x2 = rs2.standard_normal(100)\n",
    "print(x1 - x2)"
   ]
  },
  {
   "cell_type": "code",
   "execution_count": 6,
   "metadata": {
    "pycharm": {
     "is_executing": false,
     "name": "#%%\n"
    }
   },
   "outputs": [
    {
     "name": "stdout",
     "output_type": "stream",
     "text": [
      "[0. 0. 0. 0. 0. 0. 0. 0. 0. 0. 0. 0. 0. 0. 0. 0. 0. 0. 0. 0. 0. 0. 0. 0.\n",
      " 0. 0. 0. 0. 0. 0. 0. 0. 0. 0. 0. 0. 0. 0. 0. 0. 0. 0. 0. 0. 0. 0. 0. 0.\n",
      " 0. 0. 0. 0. 0. 0. 0. 0. 0. 0. 0. 0. 0. 0. 0. 0. 0. 0. 0. 0. 0. 0. 0. 0.\n",
      " 0. 0. 0. 0. 0. 0. 0. 0. 0. 0. 0. 0. 0. 0. 0. 0. 0. 0. 0. 0. 0. 0. 0. 0.\n",
      " 0. 0. 0. 0.]\n"
     ]
    }
   ],
   "source": [
    "# When using the legacy RandomState\n",
    "rs = np.random.RandomState(30092019)\n",
    "state = rs.get_state()\n",
    "x1 = rs.standard_normal(100)\n",
    "rs.set_state(state)\n",
    "x2 = rs.standard_normal(100)\n",
    "print(x1 - x2)"
   ]
  },
  {
   "cell_type": "code",
   "execution_count": 7,
   "metadata": {
    "collapsed": false,
    "pycharm": {
     "is_executing": false,
     "name": "#%%\n"
    }
   },
   "outputs": [
    {
     "name": "stdout",
     "output_type": "stream",
     "text": [
      "[0. 0. 0. 0. 0. 0. 0. 0. 0. 0. 0. 0. 0. 0. 0. 0. 0. 0. 0. 0. 0. 0. 0. 0.\n",
      " 0. 0. 0. 0. 0. 0. 0. 0. 0. 0. 0. 0. 0. 0. 0. 0. 0. 0. 0. 0. 0. 0. 0. 0.\n",
      " 0. 0. 0. 0. 0. 0. 0. 0. 0. 0. 0. 0. 0. 0. 0. 0. 0. 0. 0. 0. 0. 0. 0. 0.\n",
      " 0. 0. 0. 0. 0. 0. 0. 0. 0. 0. 0. 0. 0. 0. 0. 0. 0. 0. 0. 0. 0. 0. 0. 0.\n",
      " 0. 0. 0. 0.]\n"
     ]
    }
   ],
   "source": [
    "# If using the modern way\n",
    "rs = np.random.default_rng(30092019)\n",
    "state = rs.bit_generator.state\n",
    "x1 = rs.standard_normal(100)\n",
    "rs.bit_generator.state = state \n",
    "x2 = rs.standard_normal(100)\n",
    "print(x1 - x2)\n"
   ]
  },
  {
   "cell_type": "markdown",
   "metadata": {},
   "source": [
    "\n",
    "### Exercise 10\n",
    "\n",
    "Repeat exercise 7 using only `standard_normal`."
   ]
  },
  {
   "cell_type": "code",
   "execution_count": 8,
   "metadata": {
    "pycharm": {
     "is_executing": false,
     "name": "#%%"
    }
   },
   "outputs": [
    {
     "name": "stdout",
     "output_type": "stream",
     "text": [
      "[ 0.00851377 -0.12160312  0.25513281  0.00612633 -0.01818945  0.12300775\n",
      " -0.00469669  0.0382072   0.0040533  -0.02505603]\n"
     ]
    }
   ],
   "source": [
    "# Modern way to get a reproducible random generator\n",
    "rs = np.random.default_rng(30092019)\n",
    "\n",
    "df = 8\n",
    "\n",
    "num = rs.standard_normal(100)\n",
    "denom = rs.standard_normal((100, df))\n",
    "denom = np.sum(denom**2, 1)\n",
    "denom = denom / df\n",
    "\n",
    "e = num / np.sqrt(denom)\n",
    "\n",
    "e = e / np.sqrt(df/(df-2))\n",
    "x = 0.08 + 0.2 * e\n",
    "\n",
    "print(x[:10])\n"
   ]
  },
  {
   "cell_type": "code",
   "execution_count": 9,
   "metadata": {
    "pycharm": {
     "is_executing": false,
     "name": "#%%\n"
    }
   },
   "outputs": [
    {
     "name": "stdout",
     "output_type": "stream",
     "text": [
      "Kurtosis: 4.505665233546498\n",
      "Theoretical Value: 4.5\n"
     ]
    }
   ],
   "source": [
    "from scipy import stats\n",
    "\n",
    "reps = 1000000\n",
    "num = rs.standard_normal(reps)\n",
    "denom = rs.standard_normal((reps, df))\n",
    "denom = np.sum(denom**2, 1)\n",
    "denom = denom / df\n",
    "\n",
    "e = num / np.sqrt(denom)\n",
    "print(f\"Kurtosis: {3 + stats.kurtosis(e)}\")\n",
    "print(f\"Theoretical Value: {3 + 6 / (df - 4)}\")"
   ]
  }
 ],
 "metadata": {
  "kernelspec": {
   "display_name": "Python 3",
   "language": "python",
   "name": "python3"
  },
  "language_info": {
   "codemirror_mode": {
    "name": "ipython",
    "version": 3
   },
   "file_extension": ".py",
   "mimetype": "text/x-python",
   "name": "python",
   "nbconvert_exporter": "python",
   "pygments_lexer": "ipython3",
   "version": "3.7.6"
  },
  "pycharm": {
   "stem_cell": {
    "cell_type": "raw",
    "metadata": {
     "collapsed": false
    },
    "source": []
   }
  }
 },
 "nbformat": 4,
 "nbformat_minor": 1
}
