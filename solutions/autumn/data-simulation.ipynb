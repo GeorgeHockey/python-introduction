{
 "cells": [
  {
   "cell_type": "markdown",
   "metadata": {
    "collapsed": false,
    "pycharm": {
     "name": "#%% md\n"
    }
   },
   "source": [
    "## Simulation\n",
    "\n",
    "Functions\n",
    "\n",
    "`np.random.standard_normal`, `np.random.standard_t`, `np.random.RandomState`\n",
    "\n",
    "### Exercise 4\n",
    "\n",
    "Simulate 100 standard Normal random variables\n"
   ]
  },
  {
   "cell_type": "code",
   "execution_count": 1,
   "metadata": {
    "collapsed": false,
    "pycharm": {
     "is_executing": false,
     "name": "#%%\n"
    }
   },
   "outputs": [
    {
     "name": "stdout",
     "output_type": "stream",
     "text": [
      "[-0.70770952 -1.92716002  0.58307846  0.884758   -0.20755651 -1.16962013\n",
      "  2.59251574  1.20996312  0.23138577  1.24217422]\n"
     ]
    }
   ],
   "source": [
    "import numpy as np\n",
    "\n",
    "x = np.random.standard_normal(100)\n",
    "print(x[:10])\n"
   ]
  },
  {
   "cell_type": "markdown",
   "metadata": {
    "collapsed": false
   },
   "source": [
    "### Exercise 5\n",
    "\n",
    "Simulate 100 random variables from a $N\\left(.08,.2^{2}\\right)$"
   ]
  },
  {
   "cell_type": "code",
   "execution_count": 2,
   "metadata": {
    "collapsed": false,
    "pycharm": {
     "is_executing": false,
     "name": "#%%\n"
    }
   },
   "outputs": [
    {
     "name": "stdout",
     "output_type": "stream",
     "text": [
      "[ 0.07332678 -0.08565769  0.09781738  0.30526105  0.42159752  0.09350171\n",
      " -0.01320077  0.4534663   0.25562635 -0.05573341]\n"
     ]
    }
   ],
   "source": [
    "x = np.random.normal(0.08, 0.20, 100)\n",
    "print(x[:10])\n"
   ]
  },
  {
   "cell_type": "markdown",
   "metadata": {
    "collapsed": false
   },
   "source": [
    "### Exercise 6\n",
    "\n",
    "Simulate 100 random variables from a Students t with 8 degrees of freedom\n"
   ]
  },
  {
   "cell_type": "code",
   "execution_count": 3,
   "metadata": {
    "collapsed": false,
    "pycharm": {
     "is_executing": false,
     "name": "#%%\n"
    }
   },
   "outputs": [
    {
     "name": "stdout",
     "output_type": "stream",
     "text": [
      "[-0.18027014  0.42136433 -0.53007993  4.15859315  1.03281338 -1.35205181\n",
      "  1.30609433 -0.17305615 -0.48538279  2.62005101]\n"
     ]
    }
   ],
   "source": [
    "x = np.random.standard_t(8, size=100)\n",
    "print(x[:10])\n"
   ]
  },
  {
   "cell_type": "markdown",
   "metadata": {
    "collapsed": false
   },
   "source": [
    "### Exercise 7\n",
    "\n",
    "Simulate 100 random variables from a Students t with 8 degrees of freedom with a mean of 8% and a volatility of 20%. Note: $V\\left[X\\right]=\\frac{\\nu}{\\nu-2}$ when $X\\sim t_{\\nu}$."
   ]
  },
  {
   "cell_type": "code",
   "execution_count": 4,
   "metadata": {
    "collapsed": false,
    "pycharm": {
     "is_executing": false,
     "name": "#%%\n"
    }
   },
   "outputs": [
    {
     "name": "stdout",
     "output_type": "stream",
     "text": [
      "[-0.17656304  0.59650402  0.05346665  0.14167385  0.49548962 -0.03308175\n",
      "  0.17030125  0.29085229  0.153599   -0.06495371]\n"
     ]
    }
   ],
   "source": [
    "e = np.random.standard_t(8, size=100)\n",
    "e = e / np.sqrt(8/(8-2))\n",
    "x = 0.08 + 0.2 * e\n",
    "print(x[:10])\n"
   ]
  },
  {
   "cell_type": "markdown",
   "metadata": {
    "collapsed": false
   },
   "source": [
    "\n",
    "### Exercise 8\n",
    "\n",
    "Simulate two identical sets of 100 standard normal random variables by resetting the random number generator."
   ]
  },
  {
   "cell_type": "code",
   "execution_count": 5,
   "metadata": {
    "collapsed": false,
    "pycharm": {
     "is_executing": false,
     "name": "#%%\n"
    }
   },
   "outputs": [
    {
     "name": "stdout",
     "output_type": "stream",
     "text": [
      "[0. 0. 0. 0. 0. 0. 0. 0. 0. 0. 0. 0. 0. 0. 0. 0. 0. 0. 0. 0. 0. 0. 0. 0.\n",
      " 0. 0. 0. 0. 0. 0. 0. 0. 0. 0. 0. 0. 0. 0. 0. 0. 0. 0. 0. 0. 0. 0. 0. 0.\n",
      " 0. 0. 0. 0. 0. 0. 0. 0. 0. 0. 0. 0. 0. 0. 0. 0. 0. 0. 0. 0. 0. 0. 0. 0.\n",
      " 0. 0. 0. 0. 0. 0. 0. 0. 0. 0. 0. 0. 0. 0. 0. 0. 0. 0. 0. 0. 0. 0. 0. 0.\n",
      " 0. 0. 0. 0.]\n"
     ]
    }
   ],
   "source": [
    "rs = np.random.RandomState(30092019)\n",
    "x1 = rs.standard_normal(100)\n",
    "\n",
    "rs2 = np.random.RandomState(30092019)\n",
    "x2 = rs2.standard_normal(100)\n",
    "print(x1 - x2)"
   ]
  },
  {
   "cell_type": "code",
   "execution_count": 6,
   "metadata": {
    "collapsed": false,
    "pycharm": {
     "is_executing": false,
     "name": "#%%\n"
    }
   },
   "outputs": [
    {
     "name": "stdout",
     "output_type": "stream",
     "text": [
      "[0. 0. 0. 0. 0. 0. 0. 0. 0. 0. 0. 0. 0. 0. 0. 0. 0. 0. 0. 0. 0. 0. 0. 0.\n",
      " 0. 0. 0. 0. 0. 0. 0. 0. 0. 0. 0. 0. 0. 0. 0. 0. 0. 0. 0. 0. 0. 0. 0. 0.\n",
      " 0. 0. 0. 0. 0. 0. 0. 0. 0. 0. 0. 0. 0. 0. 0. 0. 0. 0. 0. 0. 0. 0. 0. 0.\n",
      " 0. 0. 0. 0. 0. 0. 0. 0. 0. 0. 0. 0. 0. 0. 0. 0. 0. 0. 0. 0. 0. 0. 0. 0.\n",
      " 0. 0. 0. 0.]\n"
     ]
    }
   ],
   "source": [
    "rs = np.random.RandomState(30092019)\n",
    "state = rs.get_state()\n",
    "x1 = rs.standard_normal(100)\n",
    "rs.set_state(state)\n",
    "x2 = rs.standard_normal(100)\n",
    "print(x1 - x2)\n"
   ]
  },
  {
   "cell_type": "markdown",
   "metadata": {
    "collapsed": false
   },
   "source": [
    "\n",
    "### Exercise 9\n",
    "\n",
    "Repeat exercise 7 using only `standard_normal`."
   ]
  },
  {
   "cell_type": "code",
   "execution_count": 7,
   "metadata": {
    "collapsed": false,
    "pycharm": {
     "is_executing": false,
     "name": "#%%"
    }
   },
   "outputs": [
    {
     "name": "stdout",
     "output_type": "stream",
     "text": [
      "[ 0.11873401 -0.04547669  0.06489593 -0.03371655  0.38918186 -0.04650357\n",
      "  0.06247718  0.21445622 -0.1990739  -0.18268203]\n"
     ]
    }
   ],
   "source": [
    "rs = np.random.RandomState(30092019)\n",
    "df = 8\n",
    "\n",
    "num = rs.standard_normal(100)\n",
    "denom = rs.standard_normal((100, df))\n",
    "denom = np.sum(denom**2, 1)\n",
    "denom = denom / df\n",
    "\n",
    "e = num / np.sqrt(denom)\n",
    "\n",
    "e = e / np.sqrt(df/(df-2))\n",
    "x = 0.08 + 0.2 * e\n",
    "\n",
    "print(x[:10])\n"
   ]
  },
  {
   "cell_type": "code",
   "execution_count": 8,
   "metadata": {
    "collapsed": false,
    "pycharm": {
     "is_executing": false,
     "name": "#%%\n"
    }
   },
   "outputs": [
    {
     "name": "stdout",
     "output_type": "stream",
     "text": [
      "Kurtosis: 4.37667281644612\n",
      "Theoretical Value: 4.5\n"
     ]
    }
   ],
   "source": [
    "from scipy import stats\n",
    "\n",
    "reps = 1000000\n",
    "num = rs.standard_normal(reps)\n",
    "denom = rs.standard_normal((reps, df))\n",
    "denom = np.sum(denom**2, 1)\n",
    "denom = denom / df\n",
    "\n",
    "e = num / np.sqrt(denom)\n",
    "print(f\"Kurtosis: {3 + stats.kurtosis(e)}\")\n",
    "print(f\"Theoretical Value: {3 + 6 / (df - 4)}\")"
   ]
  }
 ],
 "metadata": {
  "kernelspec": {
   "display_name": "Python 3",
   "language": "python",
   "name": "python3"
  },
  "language_info": {
   "codemirror_mode": {
    "name": "ipython",
    "version": 3
   },
   "file_extension": ".py",
   "mimetype": "text/x-python",
   "name": "python",
   "nbconvert_exporter": "python",
   "pygments_lexer": "ipython3",
   "version": "3.7.4"
  },
  "pycharm": {
   "stem_cell": {
    "cell_type": "raw",
    "metadata": {
     "collapsed": false
    },
    "source": []
   }
  }
 },
 "nbformat": 4,
 "nbformat_minor": 0
}
