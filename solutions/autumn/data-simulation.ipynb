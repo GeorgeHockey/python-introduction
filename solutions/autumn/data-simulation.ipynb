{
 "cells": [
  {
   "cell_type": "markdown",
   "source": [
    "## Simulation\n",
    "\n",
    "Functions\n",
    "\n",
    "`np.random.standard_normal`, `np.random.standard_t`, `np.random.RandomState` \n",
    "\n",
    "### Exercise 4\n",
    "\n",
    "Simulate 100 standard Normal random variables\n"
   ],
   "metadata": {
    "collapsed": false,
    "pycharm": {
     "name": "#%% md\n"
    }
   }
  },
  {
   "cell_type": "code",
   "execution_count": 15,
   "outputs": [
    {
     "name": "stdout",
     "text": [
      "[ 0.42931907  1.00010804  0.42100064  0.82877627  1.13327772  0.34436974\n -1.23546581 -0.92759946  0.54104338 -0.14181132]\n"
     ],
     "output_type": "stream"
    }
   ],
   "source": [
    "import numpy as np\n",
    "\n",
    "x = np.random.standard_normal(100)\n",
    "print(x[:10])\n"
   ],
   "metadata": {
    "collapsed": false,
    "pycharm": {
     "name": "#%%\n",
     "is_executing": false
    }
   }
  },
  {
   "cell_type": "markdown",
   "source": [
    "### Exercise 5\n",
    "\n",
    "Simulate 100 random variables from a $N\\left(.08,.2^{2}\\right)$"
   ],
   "metadata": {
    "collapsed": false
   }
  },
  {
   "cell_type": "code",
   "execution_count": 16,
   "outputs": [
    {
     "name": "stdout",
     "text": [
      "[-0.0242823   0.14227171  0.33519214  0.11942991  0.37718345 -0.18355211\n -0.26091256  0.30923661  0.0911403   0.0379068 ]\n"
     ],
     "output_type": "stream"
    }
   ],
   "source": [
    "x = np.random.normal(0.08, 0.20, 100)\n",
    "print(x[:10])\n"
   ],
   "metadata": {
    "collapsed": false,
    "pycharm": {
     "name": "#%%\n",
     "is_executing": false
    }
   }
  },
  {
   "cell_type": "markdown",
   "source": [
    "### Exercise 6\n",
    "\n",
    "Simulate 100 random variables from a Students t with 8 degrees of freedom\n"
   ],
   "metadata": {
    "collapsed": false
   }
  },
  {
   "cell_type": "code",
   "execution_count": 17,
   "outputs": [
    {
     "name": "stdout",
     "text": [
      "[ 0.07367302  1.80988841  0.88123156  1.21173223  0.50262237  0.59691484\n  0.87286176 -1.79099945  1.17048735 -0.18480041]\n"
     ],
     "output_type": "stream"
    }
   ],
   "source": [
    "x = np.random.standard_t(8, size=100)\n",
    "print(x[:10])\n"
   ],
   "metadata": {
    "collapsed": false,
    "pycharm": {
     "name": "#%%\n",
     "is_executing": false
    }
   }
  },
  {
   "cell_type": "markdown",
   "source": [
    "### Exercise 7\n",
    "\n",
    "Simulate 100 random variables from a Students t with 8 degrees of freedom with a mean of 8% and a volatility of 20%. Note: $V\\left[X\\right]=\\frac{\\nu}{\\nu-2}$ when $X\\sim t_{\\nu}$."
   ],
   "metadata": {
    "collapsed": false
   }
  },
  {
   "cell_type": "code",
   "execution_count": 18,
   "outputs": [
    {
     "name": "stdout",
     "text": [
      "[ 0.34050368  0.00867784  0.19853593 -0.04407322  0.03905815  0.02654645\n -0.11902764  0.10207868  0.13498037 -0.06685907]\n"
     ],
     "output_type": "stream"
    }
   ],
   "source": [
    "e = np.random.standard_t(8, size=100)\n",
    "e = e / np.sqrt(8/(8-2))\n",
    "x = 0.08 + 0.2 * e\n",
    "print(x[:10])\n"
   ],
   "metadata": {
    "collapsed": false,
    "pycharm": {
     "name": "#%%\n",
     "is_executing": false
    }
   }
  },
  {
   "cell_type": "markdown",
   "source": [
    "\n",
    "### Exercise 8\n",
    "\n",
    "Simulate two identical sets of 100 standard normal random variables by resetting the random number generator."
   ],
   "metadata": {
    "collapsed": false
   }
  },
  {
   "cell_type": "code",
   "execution_count": 19,
   "outputs": [
    {
     "name": "stdout",
     "text": [
      "[0. 0. 0. 0. 0. 0. 0. 0. 0. 0. 0. 0. 0. 0. 0. 0. 0. 0. 0. 0. 0. 0. 0. 0.\n 0. 0. 0. 0. 0. 0. 0. 0. 0. 0. 0. 0. 0. 0. 0. 0. 0. 0. 0. 0. 0. 0. 0. 0.\n 0. 0. 0. 0. 0. 0. 0. 0. 0. 0. 0. 0. 0. 0. 0. 0. 0. 0. 0. 0. 0. 0. 0. 0.\n 0. 0. 0. 0. 0. 0. 0. 0. 0. 0. 0. 0. 0. 0. 0. 0. 0. 0. 0. 0. 0. 0. 0. 0.\n 0. 0. 0. 0.]\n"
     ],
     "output_type": "stream"
    }
   ],
   "source": [
    "rs = np.random.RandomState(30092019)\n",
    "x1 = rs.standard_normal(100)\n",
    "\n",
    "rs2 = np.random.RandomState(30092019)\n",
    "x2 = rs2.standard_normal(100)\n",
    "print(x1 - x2)"
   ],
   "metadata": {
    "collapsed": false,
    "pycharm": {
     "name": "#%%\n",
     "is_executing": false
    }
   }
  },
  {
   "cell_type": "code",
   "execution_count": 20,
   "outputs": [
    {
     "name": "stdout",
     "text": [
      "[0. 0. 0. 0. 0. 0. 0. 0. 0. 0. 0. 0. 0. 0. 0. 0. 0. 0. 0. 0. 0. 0. 0. 0.\n 0. 0. 0. 0. 0. 0. 0. 0. 0. 0. 0. 0. 0. 0. 0. 0. 0. 0. 0. 0. 0. 0. 0. 0.\n 0. 0. 0. 0. 0. 0. 0. 0. 0. 0. 0. 0. 0. 0. 0. 0. 0. 0. 0. 0. 0. 0. 0. 0.\n 0. 0. 0. 0. 0. 0. 0. 0. 0. 0. 0. 0. 0. 0. 0. 0. 0. 0. 0. 0. 0. 0. 0. 0.\n 0. 0. 0. 0.]\n"
     ],
     "output_type": "stream"
    }
   ],
   "source": [
    "rs = np.random.RandomState(30092019)\n",
    "state = rs.get_state()\n",
    "x1 = rs.standard_normal(100)\n",
    "rs.set_state(state)\n",
    "x2 = rs.standard_normal(100)\n",
    "print(x1 - x2)\n"
   ],
   "metadata": {
    "collapsed": false,
    "pycharm": {
     "name": "#%%\n",
     "is_executing": false
    }
   }
  },
  {
   "cell_type": "markdown",
   "source": [
    "\n",
    "### Exercise 9\n",
    "\n",
    "Repeat exercise 7 using only `standard_normal`."
   ],
   "metadata": {
    "collapsed": false
   }
  },
  {
   "cell_type": "code",
   "execution_count": 21,
   "outputs": [
    {
     "name": "stdout",
     "text": [
      "[ 0.11873401 -0.04547669  0.06489593 -0.03371655  0.38918186 -0.04650357\n  0.06247718  0.21445622 -0.1990739  -0.18268203]\n"
     ],
     "output_type": "stream"
    }
   ],
   "source": [
    "rs = np.random.RandomState(30092019)\n",
    "df = 8\n",
    "\n",
    "num = rs.standard_normal(100)\n",
    "denom = rs.standard_normal((100, df))\n",
    "denom = np.sum(denom**2, 1)\n",
    "denom = denom / df\n",
    "\n",
    "e = num / np.sqrt(denom)\n",
    "\n",
    "e = e / np.sqrt(df/(df-2))\n",
    "x = 0.08 + 0.2 * e\n",
    "\n",
    "print(x[:10])\n"
   ],
   "metadata": {
    "collapsed": false,
    "pycharm": {
     "name": "#%%",
     "is_executing": false
    }
   }
  },
  {
   "cell_type": "code",
   "execution_count": 24,
   "outputs": [
    {
     "name": "stdout",
     "text": [
      "Kurtosis: 4.492641073676531\nTheoretical Value: 4.5\n"
     ],
     "output_type": "stream"
    }
   ],
   "source": [
    "from scipy import stats\n",
    "\n",
    "reps = 1000000\n",
    "num = rs.standard_normal(reps)\n",
    "denom = rs.standard_normal((reps, df))\n",
    "denom = np.sum(denom**2, 1)\n",
    "denom = denom / df\n",
    "\n",
    "e = num / np.sqrt(denom)\n",
    "print(f\"Kurtosis: {3 + stats.kurtosis(e)}\")\n",
    "print(f\"Theoretical Value: {3 + 6 / (df - 4)}\")"
   ],
   "metadata": {
    "collapsed": false,
    "pycharm": {
     "name": "#%%\n",
     "is_executing": false
    }
   }
  }
 ],
 "metadata": {
  "kernelspec": {
   "display_name": "Python 3",
   "language": "python",
   "name": "python3"
  },
  "language_info": {
   "codemirror_mode": {
    "name": "ipython",
    "version": 2
   },
   "file_extension": ".py",
   "mimetype": "text/x-python",
   "name": "python",
   "nbconvert_exporter": "python",
   "pygments_lexer": "ipython2",
   "version": "2.7.6"
  },
  "pycharm": {
   "stem_cell": {
    "cell_type": "raw",
    "source": [],
    "metadata": {
     "collapsed": false
    }
   }
  }
 },
 "nbformat": 4,
 "nbformat_minor": 0
}