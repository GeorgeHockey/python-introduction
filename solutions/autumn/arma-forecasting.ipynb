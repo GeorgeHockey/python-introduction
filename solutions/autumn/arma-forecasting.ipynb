{
 "cells": [
  {
   "cell_type": "markdown",
   "metadata": {
    "collapsed": true,
    "pycharm": {
     "name": "#%% md\n"
    }
   },
   "source": [
    "\n",
    "## ARMA Forecasting\n",
    "\n",
    "**Functions**\n",
    "\n",
    "arma_forecaster, cov_nw, ols\n",
    "\n",
    "### Exercise 60\n",
    "Produce 1-step forecasts from your preferred model in the previous exercise, as well as a random-walk model. \n",
    "\n",
    "1. Are the forecasts objectively accurate?\n",
    "2. Compare these forecasts to the random walk models using MSE and MAE.\n"
   ]
  },
  {
   "cell_type": "code",
   "execution_count": null,
   "outputs": [],
   "source": [],
   "metadata": {
    "collapsed": false,
    "pycharm": {
     "name": "#%%\n"
    }
   }
  },
  {
   "cell_type": "markdown",
   "source": [
    "### Exercise 61\n",
    "\n",
    "Produce 3-step forecasts from the models selected in the previous exercises as well as a random walk model.\n",
    "\n",
    "1. Compare these forecasts to the random walk models using MSE and MAE.\n",
    "\n",
    "Note: Use 50% of the sample to estimate the model and 50% to evaluate it.\n"
   ],
   "metadata": {
    "collapsed": false
   }
  },
  {
   "cell_type": "code",
   "execution_count": null,
   "outputs": [],
   "source": [],
   "metadata": {
    "collapsed": false,
    "pycharm": {
     "name": "#%%\n"
    }
   }
  }
 ],
 "metadata": {
  "kernelspec": {
   "display_name": "Python 3",
   "language": "python",
   "name": "python3"
  },
  "language_info": {
   "codemirror_mode": {
    "name": "ipython",
    "version": 2
   },
   "file_extension": ".py",
   "mimetype": "text/x-python",
   "name": "python",
   "nbconvert_exporter": "python",
   "pygments_lexer": "ipython2",
   "version": "2.7.6"
  },
  "pycharm": {
   "stem_cell": {
    "cell_type": "raw",
    "source": [],
    "metadata": {
     "collapsed": false
    }
   }
  }
 },
 "nbformat": 4,
 "nbformat_minor": 0
}