{
 "cells": [
  {
   "cell_type": "markdown",
   "metadata": {
    "collapsed": true,
    "pycharm": {
     "name": "#%% md\n"
    }
   },
   "source": [
    "## ARMA Modeling: Model Selection\n",
    "\n",
    "**Functions**\n",
    "\n",
    "`sm.tsa.SARIMAX`\n",
    "\n",
    "### Exercise 44\n",
    "Perform a model selection exercise on the term premium using\n",
    "\n",
    "1. General-to-Specific\n",
    "2. Specific-to-General\n",
    "3. Minimizing an Information Criteria"
   ]
  },
  {
   "cell_type": "code",
   "execution_count": 1,
   "metadata": {
    "pycharm": {
     "is_executing": false,
     "name": "#%%\n"
    }
   },
   "outputs": [],
   "source": [
    "import pandas as pd\n",
    "data = pd.read_hdf(\"data/term-premium.h5\", \"term_premium\")\n",
    "term = data[\"TERM\"]"
   ]
  },
  {
   "cell_type": "code",
   "execution_count": 2,
   "metadata": {
    "pycharm": {
     "is_executing": false,
     "name": "#%%\n"
    }
   },
   "outputs": [
    {
     "name": "stdout",
     "output_type": "stream",
     "text": [
      "AR: 0, MA: 0\n",
      "AR: 0, MA: 1\n"
     ]
    },
    {
     "name": "stderr",
     "output_type": "stream",
     "text": [
      "c:\\git\\statsmodels\\statsmodels\\tsa\\statespace\\sarimax.py:975: UserWarning: Non-invertible starting MA parameters found. Using zeros as starting parameters.\n",
      "  warn('Non-invertible starting MA parameters found.'\n"
     ]
    },
    {
     "name": "stdout",
     "output_type": "stream",
     "text": [
      "AR: 0, MA: 2\n"
     ]
    },
    {
     "name": "stdout",
     "output_type": "stream",
     "text": [
      "AR: 0, MA: 3\n"
     ]
    },
    {
     "name": "stdout",
     "output_type": "stream",
     "text": [
      "AR: 0, MA: 4\n"
     ]
    },
    {
     "name": "stdout",
     "output_type": "stream",
     "text": [
      "AR: 1, MA: 0\n"
     ]
    },
    {
     "name": "stdout",
     "output_type": "stream",
     "text": [
      "AR: 1, MA: 1\n"
     ]
    },
    {
     "name": "stdout",
     "output_type": "stream",
     "text": [
      "AR: 1, MA: 2\n"
     ]
    },
    {
     "name": "stdout",
     "output_type": "stream",
     "text": [
      "AR: 1, MA: 3\n"
     ]
    },
    {
     "name": "stdout",
     "output_type": "stream",
     "text": [
      "AR: 1, MA: 4\n"
     ]
    },
    {
     "name": "stdout",
     "output_type": "stream",
     "text": [
      "AR: 2, MA: 0\n"
     ]
    },
    {
     "name": "stdout",
     "output_type": "stream",
     "text": [
      "AR: 2, MA: 1\n"
     ]
    },
    {
     "name": "stdout",
     "output_type": "stream",
     "text": [
      "AR: 2, MA: 2\n"
     ]
    },
    {
     "name": "stdout",
     "output_type": "stream",
     "text": [
      "AR: 2, MA: 3\n"
     ]
    },
    {
     "name": "stdout",
     "output_type": "stream",
     "text": [
      "AR: 2, MA: 4\n"
     ]
    },
    {
     "name": "stdout",
     "output_type": "stream",
     "text": [
      "AR: 3, MA: 0\n"
     ]
    },
    {
     "name": "stdout",
     "output_type": "stream",
     "text": [
      "AR: 3, MA: 1\n"
     ]
    },
    {
     "name": "stdout",
     "output_type": "stream",
     "text": [
      "AR: 3, MA: 2\n"
     ]
    },
    {
     "name": "stderr",
     "output_type": "stream",
     "text": [
      "c:\\git\\statsmodels\\statsmodels\\tsa\\statespace\\sarimax.py:963: UserWarning: Non-stationary starting autoregressive parameters found. Using zeros as starting parameters.\n",
      "  warn('Non-stationary starting autoregressive parameters'\n"
     ]
    },
    {
     "name": "stdout",
     "output_type": "stream",
     "text": [
      "AR: 3, MA: 3\n"
     ]
    },
    {
     "name": "stderr",
     "output_type": "stream",
     "text": [
      "c:\\git\\statsmodels\\statsmodels\\base\\model.py:568: ConvergenceWarning: Maximum Likelihood optimization failed to converge. Check mle_retvals\n",
      "  \"Check mle_retvals\", ConvergenceWarning)\n"
     ]
    },
    {
     "name": "stdout",
     "output_type": "stream",
     "text": [
      "AR: 3, MA: 4\n"
     ]
    },
    {
     "name": "stderr",
     "output_type": "stream",
     "text": [
      "c:\\git\\statsmodels\\statsmodels\\base\\model.py:568: ConvergenceWarning: Maximum Likelihood optimization failed to converge. Check mle_retvals\n",
      "  \"Check mle_retvals\", ConvergenceWarning)\n"
     ]
    },
    {
     "name": "stdout",
     "output_type": "stream",
     "text": [
      "AR: 4, MA: 0\n"
     ]
    },
    {
     "name": "stdout",
     "output_type": "stream",
     "text": [
      "AR: 4, MA: 1\n"
     ]
    },
    {
     "name": "stdout",
     "output_type": "stream",
     "text": [
      "AR: 4, MA: 2\n"
     ]
    },
    {
     "name": "stdout",
     "output_type": "stream",
     "text": [
      "AR: 4, MA: 3\n"
     ]
    },
    {
     "name": "stderr",
     "output_type": "stream",
     "text": [
      "c:\\git\\statsmodels\\statsmodels\\base\\model.py:568: ConvergenceWarning: Maximum Likelihood optimization failed to converge. Check mle_retvals\n",
      "  \"Check mle_retvals\", ConvergenceWarning)\n"
     ]
    },
    {
     "name": "stdout",
     "output_type": "stream",
     "text": [
      "AR: 4, MA: 4\n"
     ]
    },
    {
     "name": "stderr",
     "output_type": "stream",
     "text": [
      "c:\\git\\statsmodels\\statsmodels\\base\\model.py:568: ConvergenceWarning: Maximum Likelihood optimization failed to converge. Check mle_retvals\n",
      "  \"Check mle_retvals\", ConvergenceWarning)\n"
     ]
    },
    {
     "data": {
      "text/html": [
       "<div>\n",
       "<style scoped>\n",
       "    .dataframe tbody tr th:only-of-type {\n",
       "        vertical-align: middle;\n",
       "    }\n",
       "\n",
       "    .dataframe tbody tr th {\n",
       "        vertical-align: top;\n",
       "    }\n",
       "\n",
       "    .dataframe thead th {\n",
       "        text-align: right;\n",
       "    }\n",
       "</style>\n",
       "<table border=\"1\" class=\"dataframe\">\n",
       "  <thead>\n",
       "    <tr style=\"text-align: right;\">\n",
       "      <th></th>\n",
       "      <th></th>\n",
       "      <th>AIC</th>\n",
       "      <th>BIC</th>\n",
       "    </tr>\n",
       "    <tr>\n",
       "      <th>AR</th>\n",
       "      <th>MA</th>\n",
       "      <th></th>\n",
       "      <th></th>\n",
       "    </tr>\n",
       "  </thead>\n",
       "  <tbody>\n",
       "    <tr>\n",
       "      <th rowspan=\"5\" valign=\"top\">0</th>\n",
       "      <th>0</th>\n",
       "      <td>2403.038892</td>\n",
       "      <td>2412.410614</td>\n",
       "    </tr>\n",
       "    <tr>\n",
       "      <th>1</th>\n",
       "      <td>1439.107108</td>\n",
       "      <td>1453.164691</td>\n",
       "    </tr>\n",
       "    <tr>\n",
       "      <th>2</th>\n",
       "      <td>884.155933</td>\n",
       "      <td>902.899377</td>\n",
       "    </tr>\n",
       "    <tr>\n",
       "      <th>3</th>\n",
       "      <td>544.541198</td>\n",
       "      <td>567.970503</td>\n",
       "    </tr>\n",
       "    <tr>\n",
       "      <th>4</th>\n",
       "      <td>382.934321</td>\n",
       "      <td>411.049486</td>\n",
       "    </tr>\n",
       "    <tr>\n",
       "      <th rowspan=\"5\" valign=\"top\">1</th>\n",
       "      <th>0</th>\n",
       "      <td>94.865366</td>\n",
       "      <td>108.922949</td>\n",
       "    </tr>\n",
       "    <tr>\n",
       "      <th>1</th>\n",
       "      <td>-9.947408</td>\n",
       "      <td>8.796035</td>\n",
       "    </tr>\n",
       "    <tr>\n",
       "      <th>2</th>\n",
       "      <td>-12.541291</td>\n",
       "      <td>10.888013</td>\n",
       "    </tr>\n",
       "    <tr>\n",
       "      <th>3</th>\n",
       "      <td>-12.410547</td>\n",
       "      <td>15.704619</td>\n",
       "    </tr>\n",
       "    <tr>\n",
       "      <th>4</th>\n",
       "      <td>-13.472772</td>\n",
       "      <td>19.328254</td>\n",
       "    </tr>\n",
       "    <tr>\n",
       "      <th rowspan=\"5\" valign=\"top\">2</th>\n",
       "      <th>0</th>\n",
       "      <td>14.928141</td>\n",
       "      <td>33.671585</td>\n",
       "    </tr>\n",
       "    <tr>\n",
       "      <th>1</th>\n",
       "      <td>-14.115633</td>\n",
       "      <td>9.313671</td>\n",
       "    </tr>\n",
       "    <tr>\n",
       "      <th>2</th>\n",
       "      <td>-13.885318</td>\n",
       "      <td>14.229848</td>\n",
       "    </tr>\n",
       "    <tr>\n",
       "      <th>3</th>\n",
       "      <td>-12.091289</td>\n",
       "      <td>20.709738</td>\n",
       "    </tr>\n",
       "    <tr>\n",
       "      <th>4</th>\n",
       "      <td>-11.659655</td>\n",
       "      <td>25.827232</td>\n",
       "    </tr>\n",
       "    <tr>\n",
       "      <th rowspan=\"5\" valign=\"top\">3</th>\n",
       "      <th>0</th>\n",
       "      <td>-1.276027</td>\n",
       "      <td>22.153277</td>\n",
       "    </tr>\n",
       "    <tr>\n",
       "      <th>1</th>\n",
       "      <td>-13.947483</td>\n",
       "      <td>14.167683</td>\n",
       "    </tr>\n",
       "    <tr>\n",
       "      <th>2</th>\n",
       "      <td>-12.008684</td>\n",
       "      <td>20.792342</td>\n",
       "    </tr>\n",
       "    <tr>\n",
       "      <th>3</th>\n",
       "      <td>-18.970031</td>\n",
       "      <td>18.516857</td>\n",
       "    </tr>\n",
       "    <tr>\n",
       "      <th>4</th>\n",
       "      <td>-18.860674</td>\n",
       "      <td>23.312074</td>\n",
       "    </tr>\n",
       "    <tr>\n",
       "      <th rowspan=\"5\" valign=\"top\">4</th>\n",
       "      <th>0</th>\n",
       "      <td>-2.931746</td>\n",
       "      <td>25.183420</td>\n",
       "    </tr>\n",
       "    <tr>\n",
       "      <th>1</th>\n",
       "      <td>-12.097943</td>\n",
       "      <td>20.703084</td>\n",
       "    </tr>\n",
       "    <tr>\n",
       "      <th>2</th>\n",
       "      <td>-10.009043</td>\n",
       "      <td>27.477845</td>\n",
       "    </tr>\n",
       "    <tr>\n",
       "      <th>3</th>\n",
       "      <td>-15.758761</td>\n",
       "      <td>26.413988</td>\n",
       "    </tr>\n",
       "    <tr>\n",
       "      <th>4</th>\n",
       "      <td>-11.643649</td>\n",
       "      <td>35.214961</td>\n",
       "    </tr>\n",
       "  </tbody>\n",
       "</table>\n",
       "</div>"
      ],
      "text/plain": [
       "               AIC          BIC\n",
       "AR MA                          \n",
       "0  0   2403.038892  2412.410614\n",
       "   1   1439.107108  1453.164691\n",
       "   2    884.155933   902.899377\n",
       "   3    544.541198   567.970503\n",
       "   4    382.934321   411.049486\n",
       "1  0     94.865366   108.922949\n",
       "   1     -9.947408     8.796035\n",
       "   2    -12.541291    10.888013\n",
       "   3    -12.410547    15.704619\n",
       "   4    -13.472772    19.328254\n",
       "2  0     14.928141    33.671585\n",
       "   1    -14.115633     9.313671\n",
       "   2    -13.885318    14.229848\n",
       "   3    -12.091289    20.709738\n",
       "   4    -11.659655    25.827232\n",
       "3  0     -1.276027    22.153277\n",
       "   1    -13.947483    14.167683\n",
       "   2    -12.008684    20.792342\n",
       "   3    -18.970031    18.516857\n",
       "   4    -18.860674    23.312074\n",
       "4  0     -2.931746    25.183420\n",
       "   1    -12.097943    20.703084\n",
       "   2    -10.009043    27.477845\n",
       "   3    -15.758761    26.413988\n",
       "   4    -11.643649    35.214961"
      ]
     },
     "execution_count": 2,
     "metadata": {},
     "output_type": "execute_result"
    }
   ],
   "source": [
    "import statsmodels.tsa.api as tsa\n",
    "\n",
    "ic = {}\n",
    "for ar in range(5):\n",
    "    for ma in range(5):\n",
    "        print(f\"AR: {ar}, MA: {ma}\")\n",
    "        mod = tsa.SARIMAX(term, order=(ar, 0, ma), trend=\"c\")\n",
    "        res = mod.fit()\n",
    "        ic[(ar, ma)] = [res.aic, res.bic]\n",
    "\n",
    "ic = pd.DataFrame(ic, index=[\"AIC\", \"BIC\"]).T\n",
    "ic.index = ic.index.set_names([\"AR\", \"MA\"])\n",
    "ic"
   ]
  },
  {
   "cell_type": "code",
   "execution_count": 3,
   "metadata": {
    "pycharm": {
     "is_executing": false,
     "name": "#%%\n"
    }
   },
   "outputs": [
    {
     "name": "stdout",
     "output_type": "stream",
     "text": [
      "AIC selects AR 3, MA 3\n",
      "BIC selects AR 1, MA 1\n"
     ]
    }
   ],
   "source": [
    "aic = ic.sort_values(\"AIC\")\n",
    "ar, ma = aic.index[0]\n",
    "print(f\"AIC selects AR {ar}, MA {ma}\")\n",
    "\n",
    "bic = ic.sort_values(\"BIC\")\n",
    "ar, ma = bic.index[0]\n",
    "print(f\"BIC selects AR {ar}, MA {ma}\")"
   ]
  },
  {
   "cell_type": "code",
   "execution_count": 4,
   "metadata": {
    "pycharm": {
     "is_executing": false,
     "name": "#%%\n"
    }
   },
   "outputs": [
    {
     "name": "stderr",
     "output_type": "stream",
     "text": [
      "c:\\git\\statsmodels\\statsmodels\\base\\model.py:568: ConvergenceWarning: Maximum Likelihood optimization failed to converge. Check mle_retvals\n",
      "  \"Check mle_retvals\", ConvergenceWarning)\n"
     ]
    },
    {
     "data": {
      "text/plain": [
       "intercept     3.214325\n",
       "ar.L1         3.236575\n",
       "ar.L2        -1.886639\n",
       "ar.L3         1.086879\n",
       "ar.L4         4.377804\n",
       "ma.L1         5.801864\n",
       "ma.L2         7.695099\n",
       "ma.L3         5.852369\n",
       "ma.L4         2.110348\n",
       "sigma2       36.649447\n",
       "dtype: float64"
      ]
     },
     "execution_count": 4,
     "metadata": {},
     "output_type": "execute_result"
    }
   ],
   "source": [
    "res = tsa.SARIMAX(term, order=(4, 0, 4), trend=\"c\").fit()\n",
    "res.tvalues"
   ]
  },
  {
   "cell_type": "code",
   "execution_count": 5,
   "metadata": {
    "pycharm": {
     "is_executing": false,
     "name": "#%%\n"
    }
   },
   "outputs": [
    {
     "name": "stderr",
     "output_type": "stream",
     "text": [
      "c:\\git\\statsmodels\\statsmodels\\base\\model.py:568: ConvergenceWarning: Maximum Likelihood optimization failed to converge. Check mle_retvals\n",
      "  \"Check mle_retvals\", ConvergenceWarning)\n"
     ]
    },
    {
     "data": {
      "text/html": [
       "<table class=\"simpletable\">\n",
       "<caption>SARIMAX Results</caption>\n",
       "<tr>\n",
       "  <th>Dep. Variable:</th>         <td>TERM</td>       <th>  No. Observations:  </th>   <td>801</td>  \n",
       "</tr>\n",
       "<tr>\n",
       "  <th>Model:</th>           <td>SARIMAX(4, 0, 3)</td> <th>  Log Likelihood     </th> <td>16.879</td> \n",
       "</tr>\n",
       "<tr>\n",
       "  <th>Date:</th>            <td>Fri, 24 Jan 2020</td> <th>  AIC                </th> <td>-15.759</td>\n",
       "</tr>\n",
       "<tr>\n",
       "  <th>Time:</th>                <td>23:56:50</td>     <th>  BIC                </th> <td>26.414</td> \n",
       "</tr>\n",
       "<tr>\n",
       "  <th>Sample:</th>             <td>04-01-1953</td>    <th>  HQIC               </th>  <td>0.441</td> \n",
       "</tr>\n",
       "<tr>\n",
       "  <th></th>                   <td>- 12-01-2019</td>   <th>                     </th>    <td> </td>   \n",
       "</tr>\n",
       "<tr>\n",
       "  <th>Covariance Type:</th>        <td>opg</td>       <th>                     </th>    <td> </td>   \n",
       "</tr>\n",
       "</table>\n",
       "<table class=\"simpletable\">\n",
       "<tr>\n",
       "      <td></td>         <th>coef</th>     <th>std err</th>      <th>z</th>      <th>P>|z|</th>  <th>[0.025</th>    <th>0.975]</th>  \n",
       "</tr>\n",
       "<tr>\n",
       "  <th>intercept</th> <td>    0.1325</td> <td>    0.037</td> <td>    3.542</td> <td> 0.000</td> <td>    0.059</td> <td>    0.206</td>\n",
       "</tr>\n",
       "<tr>\n",
       "  <th>ar.L1</th>     <td>   -0.1396</td> <td>    0.091</td> <td>   -1.526</td> <td> 0.127</td> <td>   -0.319</td> <td>    0.040</td>\n",
       "</tr>\n",
       "<tr>\n",
       "  <th>ar.L2</th>     <td>    0.1395</td> <td>    0.088</td> <td>    1.585</td> <td> 0.113</td> <td>   -0.033</td> <td>    0.312</td>\n",
       "</tr>\n",
       "<tr>\n",
       "  <th>ar.L3</th>     <td>    0.7215</td> <td>    0.090</td> <td>    7.997</td> <td> 0.000</td> <td>    0.545</td> <td>    0.898</td>\n",
       "</tr>\n",
       "<tr>\n",
       "  <th>ar.L4</th>     <td>    0.1369</td> <td>    0.063</td> <td>    2.186</td> <td> 0.029</td> <td>    0.014</td> <td>    0.260</td>\n",
       "</tr>\n",
       "<tr>\n",
       "  <th>ma.L1</th>     <td>    1.4947</td> <td>    0.089</td> <td>   16.728</td> <td> 0.000</td> <td>    1.320</td> <td>    1.670</td>\n",
       "</tr>\n",
       "<tr>\n",
       "  <th>ma.L2</th>     <td>    1.3105</td> <td>    0.126</td> <td>   10.374</td> <td> 0.000</td> <td>    1.063</td> <td>    1.558</td>\n",
       "</tr>\n",
       "<tr>\n",
       "  <th>ma.L3</th>     <td>    0.5015</td> <td>    0.067</td> <td>    7.448</td> <td> 0.000</td> <td>    0.370</td> <td>    0.633</td>\n",
       "</tr>\n",
       "<tr>\n",
       "  <th>sigma2</th>    <td>    0.0559</td> <td>    0.001</td> <td>   38.442</td> <td> 0.000</td> <td>    0.053</td> <td>    0.059</td>\n",
       "</tr>\n",
       "</table>\n",
       "<table class=\"simpletable\">\n",
       "<tr>\n",
       "  <th>Ljung-Box (Q):</th>          <td>67.26</td> <th>  Jarque-Bera (JB):  </th> <td>3427.32</td>\n",
       "</tr>\n",
       "<tr>\n",
       "  <th>Prob(Q):</th>                <td>0.00</td>  <th>  Prob(JB):          </th>  <td>0.00</td>  \n",
       "</tr>\n",
       "<tr>\n",
       "  <th>Heteroskedasticity (H):</th> <td>0.71</td>  <th>  Skew:              </th>  <td>0.67</td>  \n",
       "</tr>\n",
       "<tr>\n",
       "  <th>Prob(H) (two-sided):</th>    <td>0.01</td>  <th>  Kurtosis:          </th>  <td>13.05</td> \n",
       "</tr>\n",
       "</table><br/><br/>Warnings:<br/>[1] Covariance matrix calculated using the outer product of gradients (complex-step)."
      ],
      "text/plain": [
       "<class 'statsmodels.iolib.summary.Summary'>\n",
       "\"\"\"\n",
       "                               SARIMAX Results                                \n",
       "==============================================================================\n",
       "Dep. Variable:                   TERM   No. Observations:                  801\n",
       "Model:               SARIMAX(4, 0, 3)   Log Likelihood                  16.879\n",
       "Date:                Fri, 24 Jan 2020   AIC                            -15.759\n",
       "Time:                        23:56:50   BIC                             26.414\n",
       "Sample:                    04-01-1953   HQIC                             0.441\n",
       "                         - 12-01-2019                                         \n",
       "Covariance Type:                  opg                                         \n",
       "==============================================================================\n",
       "                 coef    std err          z      P>|z|      [0.025      0.975]\n",
       "------------------------------------------------------------------------------\n",
       "intercept      0.1325      0.037      3.542      0.000       0.059       0.206\n",
       "ar.L1         -0.1396      0.091     -1.526      0.127      -0.319       0.040\n",
       "ar.L2          0.1395      0.088      1.585      0.113      -0.033       0.312\n",
       "ar.L3          0.7215      0.090      7.997      0.000       0.545       0.898\n",
       "ar.L4          0.1369      0.063      2.186      0.029       0.014       0.260\n",
       "ma.L1          1.4947      0.089     16.728      0.000       1.320       1.670\n",
       "ma.L2          1.3105      0.126     10.374      0.000       1.063       1.558\n",
       "ma.L3          0.5015      0.067      7.448      0.000       0.370       0.633\n",
       "sigma2         0.0559      0.001     38.442      0.000       0.053       0.059\n",
       "===================================================================================\n",
       "Ljung-Box (Q):                       67.26   Jarque-Bera (JB):              3427.32\n",
       "Prob(Q):                              0.00   Prob(JB):                         0.00\n",
       "Heteroskedasticity (H):               0.71   Skew:                             0.67\n",
       "Prob(H) (two-sided):                  0.01   Kurtosis:                        13.05\n",
       "===================================================================================\n",
       "\n",
       "Warnings:\n",
       "[1] Covariance matrix calculated using the outer product of gradients (complex-step).\n",
       "\"\"\""
      ]
     },
     "execution_count": 5,
     "metadata": {},
     "output_type": "execute_result"
    }
   ],
   "source": [
    "gts_res = tsa.SARIMAX(term, order=(4, 0, 3), trend=\"c\").fit()\n",
    "gts_res.summary()"
   ]
  },
  {
   "cell_type": "code",
   "execution_count": 6,
   "metadata": {
    "pycharm": {
     "is_executing": false,
     "name": "#%%\n"
    }
   },
   "outputs": [
    {
     "data": {
      "text/plain": [
       "intercept      2.899870\n",
       "ar.L1        152.442652\n",
       "sigma2        57.298373\n",
       "dtype: float64"
      ]
     },
     "execution_count": 6,
     "metadata": {},
     "output_type": "execute_result"
    }
   ],
   "source": [
    "res = tsa.SARIMAX(term, order=(1, 0, 0), trend=\"c\").fit()\n",
    "res.tvalues"
   ]
  },
  {
   "cell_type": "code",
   "execution_count": 7,
   "metadata": {
    "pycharm": {
     "is_executing": false,
     "name": "#%%\n"
    }
   },
   "outputs": [
    {
     "data": {
      "text/plain": [
       "intercept    23.909363\n",
       "ma.L1        73.856571\n",
       "sigma2       21.508055\n",
       "dtype: float64"
      ]
     },
     "execution_count": 7,
     "metadata": {},
     "output_type": "execute_result"
    }
   ],
   "source": [
    "res = tsa.SARIMAX(term, order=(0, 0, 1), trend=\"c\").fit()\n",
    "res.tvalues"
   ]
  },
  {
   "cell_type": "code",
   "execution_count": 8,
   "metadata": {
    "pycharm": {
     "is_executing": false,
     "name": "#%%\n"
    }
   },
   "outputs": [
    {
     "data": {
      "text/plain": [
       "intercept     4.070461\n",
       "ar.L1        92.708278\n",
       "ar.L2       -22.192438\n",
       "sigma2       49.614191\n",
       "dtype: float64"
      ]
     },
     "execution_count": 8,
     "metadata": {},
     "output_type": "execute_result"
    }
   ],
   "source": [
    "res = tsa.SARIMAX(term, order=(2, 0, 0), trend=\"c\").fit()\n",
    "res.tvalues"
   ]
  },
  {
   "cell_type": "code",
   "execution_count": 9,
   "metadata": {
    "pycharm": {
     "is_executing": false,
     "name": "#%%\n"
    }
   },
   "outputs": [
    {
     "data": {
      "text/plain": [
       "intercept      3.874115\n",
       "ar.L1        115.592148\n",
       "ma.L1         33.848390\n",
       "sigma2        42.504245\n",
       "dtype: float64"
      ]
     },
     "execution_count": 9,
     "metadata": {},
     "output_type": "execute_result"
    }
   ],
   "source": [
    "res = tsa.SARIMAX(term, order=(1, 0, 1), trend=\"c\").fit()\n",
    "res.tvalues\n"
   ]
  },
  {
   "cell_type": "code",
   "execution_count": 10,
   "metadata": {
    "pycharm": {
     "is_executing": false,
     "name": "#%%\n"
    }
   },
   "outputs": [
    {
     "data": {
      "text/plain": [
       "intercept     3.568499\n",
       "ar.L1        18.515267\n",
       "ar.L2         5.963615\n",
       "ma.L1        16.792105\n",
       "sigma2       38.142901\n",
       "dtype: float64"
      ]
     },
     "execution_count": 10,
     "metadata": {},
     "output_type": "execute_result"
    }
   ],
   "source": [
    "res = tsa.SARIMAX(term, order=(2, 0, 1), trend=\"c\").fit()\n",
    "res.tvalues"
   ]
  },
  {
   "cell_type": "code",
   "execution_count": 11,
   "metadata": {
    "pycharm": {
     "is_executing": false,
     "name": "#%%\n"
    }
   },
   "outputs": [
    {
     "data": {
      "text/plain": [
       "intercept      3.540617\n",
       "ar.L1        115.599079\n",
       "ma.L1         26.011213\n",
       "ma.L2         -3.616864\n",
       "sigma2        37.369782\n",
       "dtype: float64"
      ]
     },
     "execution_count": 11,
     "metadata": {},
     "output_type": "execute_result"
    }
   ],
   "source": [
    "res = tsa.SARIMAX(term, order=(1, 0, 2), trend=\"c\").fit()\n",
    "res.tvalues\n"
   ]
  },
  {
   "cell_type": "code",
   "execution_count": 12,
   "metadata": {
    "pycharm": {
     "is_executing": false,
     "name": "#%%\n"
    }
   },
   "outputs": [
    {
     "data": {
      "text/plain": [
       "intercept     3.624126\n",
       "ar.L1        11.922279\n",
       "ar.L2         4.742558\n",
       "ar.L3        -1.870700\n",
       "ma.L1        12.733144\n",
       "sigma2       37.460436\n",
       "dtype: float64"
      ]
     },
     "execution_count": 12,
     "metadata": {},
     "output_type": "execute_result"
    }
   ],
   "source": [
    "res = tsa.SARIMAX(term, order=(3, 0, 1), trend=\"c\").fit()\n",
    "res.tvalues"
   ]
  },
  {
   "cell_type": "code",
   "execution_count": 13,
   "metadata": {
    "pycharm": {
     "is_executing": false,
     "name": "#%%\n"
    }
   },
   "outputs": [
    {
     "data": {
      "text/plain": [
       "intercept     3.121539\n",
       "ar.L1         2.099811\n",
       "ar.L2         3.021153\n",
       "ma.L1         4.909944\n",
       "ma.L2         1.650082\n",
       "sigma2       37.641998\n",
       "dtype: float64"
      ]
     },
     "execution_count": 13,
     "metadata": {},
     "output_type": "execute_result"
    }
   ],
   "source": [
    "res = tsa.SARIMAX(term, order=(2, 0, 2), trend=\"c\").fit()\n",
    "res.tvalues"
   ]
  },
  {
   "cell_type": "code",
   "execution_count": 14,
   "metadata": {
    "pycharm": {
     "is_executing": false,
     "name": "#%%\n"
    }
   },
   "outputs": [
    {
     "data": {
      "text/html": [
       "<table class=\"simpletable\">\n",
       "<caption>SARIMAX Results</caption>\n",
       "<tr>\n",
       "  <th>Dep. Variable:</th>         <td>TERM</td>       <th>  No. Observations:  </th>   <td>801</td>  \n",
       "</tr>\n",
       "<tr>\n",
       "  <th>Model:</th>           <td>SARIMAX(2, 0, 1)</td> <th>  Log Likelihood     </th> <td>12.058</td> \n",
       "</tr>\n",
       "<tr>\n",
       "  <th>Date:</th>            <td>Fri, 24 Jan 2020</td> <th>  AIC                </th> <td>-14.116</td>\n",
       "</tr>\n",
       "<tr>\n",
       "  <th>Time:</th>                <td>23:57:08</td>     <th>  BIC                </th>  <td>9.314</td> \n",
       "</tr>\n",
       "<tr>\n",
       "  <th>Sample:</th>             <td>04-01-1953</td>    <th>  HQIC               </th> <td>-5.116</td> \n",
       "</tr>\n",
       "<tr>\n",
       "  <th></th>                   <td>- 12-01-2019</td>   <th>                     </th>    <td> </td>   \n",
       "</tr>\n",
       "<tr>\n",
       "  <th>Covariance Type:</th>        <td>opg</td>       <th>                     </th>    <td> </td>   \n",
       "</tr>\n",
       "</table>\n",
       "<table class=\"simpletable\">\n",
       "<tr>\n",
       "      <td></td>         <th>coef</th>     <th>std err</th>      <th>z</th>      <th>P>|z|</th>  <th>[0.025</th>    <th>0.975]</th>  \n",
       "</tr>\n",
       "<tr>\n",
       "  <th>intercept</th> <td>    0.0495</td> <td>    0.014</td> <td>    3.568</td> <td> 0.000</td> <td>    0.022</td> <td>    0.077</td>\n",
       "</tr>\n",
       "<tr>\n",
       "  <th>ar.L1</th>     <td>    0.7174</td> <td>    0.039</td> <td>   18.515</td> <td> 0.000</td> <td>    0.641</td> <td>    0.793</td>\n",
       "</tr>\n",
       "<tr>\n",
       "  <th>ar.L2</th>     <td>    0.2297</td> <td>    0.039</td> <td>    5.964</td> <td> 0.000</td> <td>    0.154</td> <td>    0.305</td>\n",
       "</tr>\n",
       "<tr>\n",
       "  <th>ma.L1</th>     <td>    0.6227</td> <td>    0.037</td> <td>   16.792</td> <td> 0.000</td> <td>    0.550</td> <td>    0.695</td>\n",
       "</tr>\n",
       "<tr>\n",
       "  <th>sigma2</th>    <td>    0.0566</td> <td>    0.001</td> <td>   38.143</td> <td> 0.000</td> <td>    0.054</td> <td>    0.059</td>\n",
       "</tr>\n",
       "</table>\n",
       "<table class=\"simpletable\">\n",
       "<tr>\n",
       "  <th>Ljung-Box (Q):</th>          <td>81.45</td> <th>  Jarque-Bera (JB):  </th> <td>3065.73</td>\n",
       "</tr>\n",
       "<tr>\n",
       "  <th>Prob(Q):</th>                <td>0.00</td>  <th>  Prob(JB):          </th>  <td>0.00</td>  \n",
       "</tr>\n",
       "<tr>\n",
       "  <th>Heteroskedasticity (H):</th> <td>0.72</td>  <th>  Skew:              </th>  <td>0.58</td>  \n",
       "</tr>\n",
       "<tr>\n",
       "  <th>Prob(H) (two-sided):</th>    <td>0.01</td>  <th>  Kurtosis:          </th>  <td>12.51</td> \n",
       "</tr>\n",
       "</table><br/><br/>Warnings:<br/>[1] Covariance matrix calculated using the outer product of gradients (complex-step)."
      ],
      "text/plain": [
       "<class 'statsmodels.iolib.summary.Summary'>\n",
       "\"\"\"\n",
       "                               SARIMAX Results                                \n",
       "==============================================================================\n",
       "Dep. Variable:                   TERM   No. Observations:                  801\n",
       "Model:               SARIMAX(2, 0, 1)   Log Likelihood                  12.058\n",
       "Date:                Fri, 24 Jan 2020   AIC                            -14.116\n",
       "Time:                        23:57:08   BIC                              9.314\n",
       "Sample:                    04-01-1953   HQIC                            -5.116\n",
       "                         - 12-01-2019                                         \n",
       "Covariance Type:                  opg                                         \n",
       "==============================================================================\n",
       "                 coef    std err          z      P>|z|      [0.025      0.975]\n",
       "------------------------------------------------------------------------------\n",
       "intercept      0.0495      0.014      3.568      0.000       0.022       0.077\n",
       "ar.L1          0.7174      0.039     18.515      0.000       0.641       0.793\n",
       "ar.L2          0.2297      0.039      5.964      0.000       0.154       0.305\n",
       "ma.L1          0.6227      0.037     16.792      0.000       0.550       0.695\n",
       "sigma2         0.0566      0.001     38.143      0.000       0.054       0.059\n",
       "===================================================================================\n",
       "Ljung-Box (Q):                       81.45   Jarque-Bera (JB):              3065.73\n",
       "Prob(Q):                              0.00   Prob(JB):                         0.00\n",
       "Heteroskedasticity (H):               0.72   Skew:                             0.58\n",
       "Prob(H) (two-sided):                  0.01   Kurtosis:                        12.51\n",
       "===================================================================================\n",
       "\n",
       "Warnings:\n",
       "[1] Covariance matrix calculated using the outer product of gradients (complex-step).\n",
       "\"\"\""
      ]
     },
     "execution_count": 14,
     "metadata": {},
     "output_type": "execute_result"
    }
   ],
   "source": [
    "stg_res = tsa.SARIMAX(term, order=(2, 0, 1), trend=\"c\").fit()\n",
    "stg_res.summary()"
   ]
  }
 ],
 "metadata": {
  "kernelspec": {
   "display_name": "Python 3",
   "language": "python",
   "name": "python3"
  },
  "language_info": {
   "codemirror_mode": {
    "name": "ipython",
    "version": 3
   },
   "file_extension": ".py",
   "mimetype": "text/x-python",
   "name": "python",
   "nbconvert_exporter": "python",
   "pygments_lexer": "ipython3",
   "version": "3.7.6"
  },
  "pycharm": {
   "stem_cell": {
    "cell_type": "raw",
    "metadata": {
     "collapsed": false
    },
    "source": []
   }
  }
 },
 "nbformat": 4,
 "nbformat_minor": 1
}
