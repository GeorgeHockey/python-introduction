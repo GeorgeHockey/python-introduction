{
 "cells": [
  {
   "cell_type": "markdown",
   "metadata": {
    "collapsed": true,
    "pycharm": {
     "name": "#%% md\n"
    }
   },
   "source": [
    "## ARMA Model Selection\n",
    "\n",
    "**Functions**\n",
    "\n",
    "`sm.tsa.SARIMAX`\n",
    "\n",
    "### Exercise 44\n",
    "Perform a model selection exercise on the term premium using\n",
    "\n",
    "1. General-to-Specific\n",
    "2. Specific-to-General\n",
    "3. Minimizing an Information Criteria"
   ]
  },
  {
   "cell_type": "code",
   "execution_count": 1,
   "metadata": {
    "pycharm": {
     "is_executing": false,
     "name": "#%%\n"
    }
   },
   "outputs": [],
   "source": [
    "import pandas as pd\n",
    "data = pd.read_hdf(\"data/term-premium.h5\", \"term_premium\")\n",
    "term = data[\"TERM\"]"
   ]
  },
  {
   "cell_type": "code",
   "execution_count": 2,
   "metadata": {
    "pycharm": {
     "is_executing": false,
     "name": "#%%\n"
    }
   },
   "outputs": [
    {
     "name": "stdout",
     "output_type": "stream",
     "text": [
      "AR: 0, MA: 0\n",
      "AR: 0, MA: 1\n"
     ]
    },
    {
     "name": "stderr",
     "output_type": "stream",
     "text": [
      "/mnt/c/git/statsmodels/statsmodels/tsa/statespace/sarimax.py:973: UserWarning: Non-invertible starting MA parameters found. Using zeros as starting parameters.\n",
      "  warn('Non-invertible starting MA parameters found.'\n"
     ]
    },
    {
     "name": "stdout",
     "output_type": "stream",
     "text": [
      "AR: 0, MA: 2\n",
      "AR: 0, MA: 3\n",
      "AR: 0, MA: 4\n",
      "AR: 1, MA: 0\n",
      "AR: 1, MA: 1\n",
      "AR: 1, MA: 2\n",
      "AR: 1, MA: 3\n",
      "AR: 1, MA: 4\n",
      "AR: 2, MA: 0\n",
      "AR: 2, MA: 1\n",
      "AR: 2, MA: 2\n",
      "AR: 2, MA: 3\n",
      "AR: 2, MA: 4\n",
      "AR: 3, MA: 0\n",
      "AR: 3, MA: 1\n",
      "AR: 3, MA: 2\n"
     ]
    },
    {
     "name": "stderr",
     "output_type": "stream",
     "text": [
      "/mnt/c/git/statsmodels/statsmodels/tsa/statespace/sarimax.py:961: UserWarning: Non-stationary starting autoregressive parameters found. Using zeros as starting parameters.\n",
      "  warn('Non-stationary starting autoregressive parameters'\n"
     ]
    },
    {
     "name": "stdout",
     "output_type": "stream",
     "text": [
      "AR: 3, MA: 3\n"
     ]
    },
    {
     "name": "stderr",
     "output_type": "stream",
     "text": [
      "/mnt/c/git/statsmodels/statsmodels/base/model.py:568: ConvergenceWarning: Maximum Likelihood optimization failed to converge. Check mle_retvals\n",
      "  \"Check mle_retvals\", ConvergenceWarning)\n"
     ]
    },
    {
     "name": "stdout",
     "output_type": "stream",
     "text": [
      "AR: 3, MA: 4\n"
     ]
    },
    {
     "name": "stderr",
     "output_type": "stream",
     "text": [
      "/mnt/c/git/statsmodels/statsmodels/base/model.py:568: ConvergenceWarning: Maximum Likelihood optimization failed to converge. Check mle_retvals\n",
      "  \"Check mle_retvals\", ConvergenceWarning)\n"
     ]
    },
    {
     "name": "stdout",
     "output_type": "stream",
     "text": [
      "AR: 4, MA: 0\n",
      "AR: 4, MA: 1\n",
      "AR: 4, MA: 2\n",
      "AR: 4, MA: 3\n"
     ]
    },
    {
     "name": "stderr",
     "output_type": "stream",
     "text": [
      "/mnt/c/git/statsmodels/statsmodels/base/model.py:568: ConvergenceWarning: Maximum Likelihood optimization failed to converge. Check mle_retvals\n",
      "  \"Check mle_retvals\", ConvergenceWarning)\n"
     ]
    },
    {
     "name": "stdout",
     "output_type": "stream",
     "text": [
      "AR: 4, MA: 4\n"
     ]
    },
    {
     "name": "stderr",
     "output_type": "stream",
     "text": [
      "/mnt/c/git/statsmodels/statsmodels/base/model.py:568: ConvergenceWarning: Maximum Likelihood optimization failed to converge. Check mle_retvals\n",
      "  \"Check mle_retvals\", ConvergenceWarning)\n"
     ]
    },
    {
     "data": {
      "text/html": [
       "<div>\n",
       "<style scoped>\n",
       "    .dataframe tbody tr th:only-of-type {\n",
       "        vertical-align: middle;\n",
       "    }\n",
       "\n",
       "    .dataframe tbody tr th {\n",
       "        vertical-align: top;\n",
       "    }\n",
       "\n",
       "    .dataframe thead th {\n",
       "        text-align: right;\n",
       "    }\n",
       "</style>\n",
       "<table border=\"1\" class=\"dataframe\">\n",
       "  <thead>\n",
       "    <tr style=\"text-align: right;\">\n",
       "      <th></th>\n",
       "      <th></th>\n",
       "      <th>AIC</th>\n",
       "      <th>BIC</th>\n",
       "    </tr>\n",
       "    <tr>\n",
       "      <th>AR</th>\n",
       "      <th>MA</th>\n",
       "      <th></th>\n",
       "      <th></th>\n",
       "    </tr>\n",
       "  </thead>\n",
       "  <tbody>\n",
       "    <tr>\n",
       "      <td rowspan=\"5\" valign=\"top\">0</td>\n",
       "      <td>0</td>\n",
       "      <td>2395.585046</td>\n",
       "      <td>2404.949263</td>\n",
       "    </tr>\n",
       "    <tr>\n",
       "      <td>1</td>\n",
       "      <td>1435.400654</td>\n",
       "      <td>1449.446980</td>\n",
       "    </tr>\n",
       "    <tr>\n",
       "      <td>2</td>\n",
       "      <td>882.868033</td>\n",
       "      <td>901.596467</td>\n",
       "    </tr>\n",
       "    <tr>\n",
       "      <td>3</td>\n",
       "      <td>544.829300</td>\n",
       "      <td>568.239843</td>\n",
       "    </tr>\n",
       "    <tr>\n",
       "      <td>4</td>\n",
       "      <td>383.919042</td>\n",
       "      <td>412.011694</td>\n",
       "    </tr>\n",
       "    <tr>\n",
       "      <td rowspan=\"5\" valign=\"top\">1</td>\n",
       "      <td>0</td>\n",
       "      <td>96.846257</td>\n",
       "      <td>110.892583</td>\n",
       "    </tr>\n",
       "    <tr>\n",
       "      <td>1</td>\n",
       "      <td>-7.122076</td>\n",
       "      <td>11.606359</td>\n",
       "    </tr>\n",
       "    <tr>\n",
       "      <td>2</td>\n",
       "      <td>-9.717014</td>\n",
       "      <td>13.693529</td>\n",
       "    </tr>\n",
       "    <tr>\n",
       "      <td>3</td>\n",
       "      <td>-9.598418</td>\n",
       "      <td>18.494233</td>\n",
       "    </tr>\n",
       "    <tr>\n",
       "      <td>4</td>\n",
       "      <td>-10.655067</td>\n",
       "      <td>22.119693</td>\n",
       "    </tr>\n",
       "    <tr>\n",
       "      <td rowspan=\"5\" valign=\"top\">2</td>\n",
       "      <td>0</td>\n",
       "      <td>17.498199</td>\n",
       "      <td>36.226633</td>\n",
       "    </tr>\n",
       "    <tr>\n",
       "      <td>1</td>\n",
       "      <td>-11.305478</td>\n",
       "      <td>12.105065</td>\n",
       "    </tr>\n",
       "    <tr>\n",
       "      <td>2</td>\n",
       "      <td>-11.070658</td>\n",
       "      <td>17.021993</td>\n",
       "    </tr>\n",
       "    <tr>\n",
       "      <td>3</td>\n",
       "      <td>-9.279839</td>\n",
       "      <td>23.494921</td>\n",
       "    </tr>\n",
       "    <tr>\n",
       "      <td>4</td>\n",
       "      <td>-8.841517</td>\n",
       "      <td>28.615352</td>\n",
       "    </tr>\n",
       "    <tr>\n",
       "      <td rowspan=\"5\" valign=\"top\">3</td>\n",
       "      <td>0</td>\n",
       "      <td>1.479904</td>\n",
       "      <td>24.890447</td>\n",
       "    </tr>\n",
       "    <tr>\n",
       "      <td>1</td>\n",
       "      <td>-11.137268</td>\n",
       "      <td>16.955383</td>\n",
       "    </tr>\n",
       "    <tr>\n",
       "      <td>2</td>\n",
       "      <td>-9.195650</td>\n",
       "      <td>23.579110</td>\n",
       "    </tr>\n",
       "    <tr>\n",
       "      <td>3</td>\n",
       "      <td>-16.468887</td>\n",
       "      <td>20.987982</td>\n",
       "    </tr>\n",
       "    <tr>\n",
       "      <td>4</td>\n",
       "      <td>-13.939153</td>\n",
       "      <td>28.199824</td>\n",
       "    </tr>\n",
       "    <tr>\n",
       "      <td rowspan=\"5\" valign=\"top\">4</td>\n",
       "      <td>0</td>\n",
       "      <td>-0.146898</td>\n",
       "      <td>27.945754</td>\n",
       "    </tr>\n",
       "    <tr>\n",
       "      <td>1</td>\n",
       "      <td>-9.280991</td>\n",
       "      <td>23.493769</td>\n",
       "    </tr>\n",
       "    <tr>\n",
       "      <td>2</td>\n",
       "      <td>-7.205306</td>\n",
       "      <td>30.251563</td>\n",
       "    </tr>\n",
       "    <tr>\n",
       "      <td>3</td>\n",
       "      <td>-15.057637</td>\n",
       "      <td>27.081341</td>\n",
       "    </tr>\n",
       "    <tr>\n",
       "      <td>4</td>\n",
       "      <td>-8.659220</td>\n",
       "      <td>38.161866</td>\n",
       "    </tr>\n",
       "  </tbody>\n",
       "</table>\n",
       "</div>"
      ],
      "text/plain": [
       "               AIC          BIC\n",
       "AR MA                          \n",
       "0  0   2395.585046  2404.949263\n",
       "   1   1435.400654  1449.446980\n",
       "   2    882.868033   901.596467\n",
       "   3    544.829300   568.239843\n",
       "   4    383.919042   412.011694\n",
       "1  0     96.846257   110.892583\n",
       "   1     -7.122076    11.606359\n",
       "   2     -9.717014    13.693529\n",
       "   3     -9.598418    18.494233\n",
       "   4    -10.655067    22.119693\n",
       "2  0     17.498199    36.226633\n",
       "   1    -11.305478    12.105065\n",
       "   2    -11.070658    17.021993\n",
       "   3     -9.279839    23.494921\n",
       "   4     -8.841517    28.615352\n",
       "3  0      1.479904    24.890447\n",
       "   1    -11.137268    16.955383\n",
       "   2     -9.195650    23.579110\n",
       "   3    -16.468887    20.987982\n",
       "   4    -13.939153    28.199824\n",
       "4  0     -0.146898    27.945754\n",
       "   1     -9.280991    23.493769\n",
       "   2     -7.205306    30.251563\n",
       "   3    -15.057637    27.081341\n",
       "   4     -8.659220    38.161866"
      ]
     },
     "execution_count": 2,
     "metadata": {},
     "output_type": "execute_result"
    }
   ],
   "source": [
    "import statsmodels.tsa.api as tsa\n",
    "\n",
    "ic = {}\n",
    "for ar in range(5):\n",
    "    for ma in range(5):\n",
    "        print(f\"AR: {ar}, MA: {ma}\")\n",
    "        mod = tsa.SARIMAX(term, order=(ar, 0, ma), trend=\"c\")\n",
    "        res = mod.fit()\n",
    "        ic[(ar, ma)] = [res.aic, res.bic]\n",
    "\n",
    "ic = pd.DataFrame(ic, index=[\"AIC\", \"BIC\"]).T\n",
    "ic.index = ic.index.set_names([\"AR\", \"MA\"])\n",
    "ic"
   ]
  },
  {
   "cell_type": "code",
   "execution_count": 3,
   "metadata": {
    "pycharm": {
     "is_executing": false,
     "name": "#%%\n"
    }
   },
   "outputs": [
    {
     "name": "stdout",
     "output_type": "stream",
     "text": [
      "AIC selects AR 3, MA 3\n",
      "BIC selects AR 1, MA 1\n"
     ]
    }
   ],
   "source": [
    "aic = ic.sort_values(\"AIC\")\n",
    "ar, ma = aic.index[0]\n",
    "print(f\"AIC selects AR {ar}, MA {ma}\")\n",
    "\n",
    "bic = ic.sort_values(\"BIC\")\n",
    "ar, ma = bic.index[0]\n",
    "print(f\"BIC selects AR {ar}, MA {ma}\")"
   ]
  },
  {
   "cell_type": "code",
   "execution_count": 4,
   "metadata": {
    "pycharm": {
     "is_executing": false,
     "name": "#%%\n"
    }
   },
   "outputs": [
    {
     "name": "stderr",
     "output_type": "stream",
     "text": [
      "/mnt/c/git/statsmodels/statsmodels/base/model.py:568: ConvergenceWarning: Maximum Likelihood optimization failed to converge. Check mle_retvals\n",
      "  \"Check mle_retvals\", ConvergenceWarning)\n"
     ]
    },
    {
     "data": {
      "text/plain": [
       "intercept     3.046513\n",
       "ar.L1         3.057977\n",
       "ar.L2        -1.659920\n",
       "ar.L3         1.029930\n",
       "ar.L4         3.971583\n",
       "ma.L1         5.319236\n",
       "ma.L2         6.439091\n",
       "ma.L3         5.190762\n",
       "ma.L4         1.889471\n",
       "sigma2       36.578646\n",
       "dtype: float64"
      ]
     },
     "execution_count": 4,
     "metadata": {},
     "output_type": "execute_result"
    }
   ],
   "source": [
    "res = tsa.SARIMAX(term, order=(4, 0, 4), trend=\"c\").fit()\n",
    "res.tvalues"
   ]
  },
  {
   "cell_type": "code",
   "execution_count": 5,
   "metadata": {
    "pycharm": {
     "is_executing": false,
     "name": "#%%\n"
    }
   },
   "outputs": [
    {
     "name": "stdout",
     "output_type": "stream",
     "text": [
      "The history saving thread hit an unexpected error (OperationalError('disk I/O error')).History will not be written to the database.\n"
     ]
    },
    {
     "name": "stderr",
     "output_type": "stream",
     "text": [
      "/mnt/c/git/statsmodels/statsmodels/base/model.py:568: ConvergenceWarning: Maximum Likelihood optimization failed to converge. Check mle_retvals\n",
      "  \"Check mle_retvals\", ConvergenceWarning)\n"
     ]
    },
    {
     "data": {
      "text/html": [
       "<table class=\"simpletable\">\n",
       "<caption>Statespace Model Results</caption>\n",
       "<tr>\n",
       "  <th>Dep. Variable:</th>         <td>TERM</td>       <th>  No. Observations:  </th>   <td>798</td>  \n",
       "</tr>\n",
       "<tr>\n",
       "  <th>Model:</th>           <td>SARIMAX(4, 0, 3)</td> <th>  Log Likelihood     </th> <td>16.529</td> \n",
       "</tr>\n",
       "<tr>\n",
       "  <th>Date:</th>            <td>Fri, 25 Oct 2019</td> <th>  AIC                </th> <td>-15.058</td>\n",
       "</tr>\n",
       "<tr>\n",
       "  <th>Time:</th>                <td>16:33:29</td>     <th>  BIC                </th> <td>27.081</td> \n",
       "</tr>\n",
       "<tr>\n",
       "  <th>Sample:</th>             <td>04-01-1953</td>    <th>  HQIC               </th>  <td>1.132</td> \n",
       "</tr>\n",
       "<tr>\n",
       "  <th></th>                   <td>- 09-01-2019</td>   <th>                     </th>    <td> </td>   \n",
       "</tr>\n",
       "<tr>\n",
       "  <th>Covariance Type:</th>        <td>opg</td>       <th>                     </th>    <td> </td>   \n",
       "</tr>\n",
       "</table>\n",
       "<table class=\"simpletable\">\n",
       "<tr>\n",
       "      <td></td>         <th>coef</th>     <th>std err</th>      <th>z</th>      <th>P>|z|</th>  <th>[0.025</th>    <th>0.975]</th>  \n",
       "</tr>\n",
       "<tr>\n",
       "  <th>intercept</th> <td>    0.1336</td> <td>    0.040</td> <td>    3.307</td> <td> 0.001</td> <td>    0.054</td> <td>    0.213</td>\n",
       "</tr>\n",
       "<tr>\n",
       "  <th>ar.L1</th>     <td>   -0.1934</td> <td>    0.052</td> <td>   -3.704</td> <td> 0.000</td> <td>   -0.296</td> <td>   -0.091</td>\n",
       "</tr>\n",
       "<tr>\n",
       "  <th>ar.L2</th>     <td>    0.0145</td> <td>    0.055</td> <td>    0.261</td> <td> 0.794</td> <td>   -0.094</td> <td>    0.123</td>\n",
       "</tr>\n",
       "<tr>\n",
       "  <th>ar.L3</th>     <td>    0.8029</td> <td>    0.054</td> <td>   14.905</td> <td> 0.000</td> <td>    0.697</td> <td>    0.908</td>\n",
       "</tr>\n",
       "<tr>\n",
       "  <th>ar.L4</th>     <td>    0.2207</td> <td>    0.056</td> <td>    3.916</td> <td> 0.000</td> <td>    0.110</td> <td>    0.331</td>\n",
       "</tr>\n",
       "<tr>\n",
       "  <th>ma.L1</th>     <td>    1.5348</td> <td>    0.050</td> <td>   30.403</td> <td> 0.000</td> <td>    1.436</td> <td>    1.634</td>\n",
       "</tr>\n",
       "<tr>\n",
       "  <th>ma.L2</th>     <td>    1.4686</td> <td>    0.074</td> <td>   19.758</td> <td> 0.000</td> <td>    1.323</td> <td>    1.614</td>\n",
       "</tr>\n",
       "<tr>\n",
       "  <th>ma.L3</th>     <td>    0.6082</td> <td>    0.052</td> <td>   11.642</td> <td> 0.000</td> <td>    0.506</td> <td>    0.711</td>\n",
       "</tr>\n",
       "<tr>\n",
       "  <th>sigma2</th>    <td>    0.0565</td> <td>    0.001</td> <td>   38.032</td> <td> 0.000</td> <td>    0.054</td> <td>    0.059</td>\n",
       "</tr>\n",
       "</table>\n",
       "<table class=\"simpletable\">\n",
       "<tr>\n",
       "  <th>Ljung-Box (Q):</th>          <td>66.91</td> <th>  Jarque-Bera (JB):  </th> <td>3276.55</td>\n",
       "</tr>\n",
       "<tr>\n",
       "  <th>Prob(Q):</th>                <td>0.00</td>  <th>  Prob(JB):          </th>  <td>0.00</td>  \n",
       "</tr>\n",
       "<tr>\n",
       "  <th>Heteroskedasticity (H):</th> <td>0.72</td>  <th>  Skew:              </th>  <td>0.64</td>  \n",
       "</tr>\n",
       "<tr>\n",
       "  <th>Prob(H) (two-sided):</th>    <td>0.01</td>  <th>  Kurtosis:          </th>  <td>12.84</td> \n",
       "</tr>\n",
       "</table><br/><br/>Warnings:<br/>[1] Covariance matrix calculated using the outer product of gradients (complex-step)."
      ],
      "text/plain": [
       "<class 'statsmodels.iolib.summary.Summary'>\n",
       "\"\"\"\n",
       "                           Statespace Model Results                           \n",
       "==============================================================================\n",
       "Dep. Variable:                   TERM   No. Observations:                  798\n",
       "Model:               SARIMAX(4, 0, 3)   Log Likelihood                  16.529\n",
       "Date:                Fri, 25 Oct 2019   AIC                            -15.058\n",
       "Time:                        16:33:29   BIC                             27.081\n",
       "Sample:                    04-01-1953   HQIC                             1.132\n",
       "                         - 09-01-2019                                         \n",
       "Covariance Type:                  opg                                         \n",
       "==============================================================================\n",
       "                 coef    std err          z      P>|z|      [0.025      0.975]\n",
       "------------------------------------------------------------------------------\n",
       "intercept      0.1336      0.040      3.307      0.001       0.054       0.213\n",
       "ar.L1         -0.1934      0.052     -3.704      0.000      -0.296      -0.091\n",
       "ar.L2          0.0145      0.055      0.261      0.794      -0.094       0.123\n",
       "ar.L3          0.8029      0.054     14.905      0.000       0.697       0.908\n",
       "ar.L4          0.2207      0.056      3.916      0.000       0.110       0.331\n",
       "ma.L1          1.5348      0.050     30.403      0.000       1.436       1.634\n",
       "ma.L2          1.4686      0.074     19.758      0.000       1.323       1.614\n",
       "ma.L3          0.6082      0.052     11.642      0.000       0.506       0.711\n",
       "sigma2         0.0565      0.001     38.032      0.000       0.054       0.059\n",
       "===================================================================================\n",
       "Ljung-Box (Q):                       66.91   Jarque-Bera (JB):              3276.55\n",
       "Prob(Q):                              0.00   Prob(JB):                         0.00\n",
       "Heteroskedasticity (H):               0.72   Skew:                             0.64\n",
       "Prob(H) (two-sided):                  0.01   Kurtosis:                        12.84\n",
       "===================================================================================\n",
       "\n",
       "Warnings:\n",
       "[1] Covariance matrix calculated using the outer product of gradients (complex-step).\n",
       "\"\"\""
      ]
     },
     "execution_count": 5,
     "metadata": {},
     "output_type": "execute_result"
    }
   ],
   "source": [
    "gts_res = tsa.SARIMAX(term, order=(4, 0, 3), trend=\"c\").fit()\n",
    "gts_res.summary()"
   ]
  },
  {
   "cell_type": "code",
   "execution_count": 6,
   "metadata": {
    "pycharm": {
     "is_executing": false,
     "name": "#%%\n"
    }
   },
   "outputs": [
    {
     "data": {
      "text/plain": [
       "intercept      2.812309\n",
       "ar.L1        152.029969\n",
       "sigma2        57.117075\n",
       "dtype: float64"
      ]
     },
     "execution_count": 6,
     "metadata": {},
     "output_type": "execute_result"
    }
   ],
   "source": [
    "res = tsa.SARIMAX(term, order=(1, 0, 0), trend=\"c\").fit()\n",
    "res.tvalues"
   ]
  },
  {
   "cell_type": "code",
   "execution_count": 7,
   "metadata": {
    "pycharm": {
     "is_executing": false,
     "name": "#%%\n"
    }
   },
   "outputs": [
    {
     "data": {
      "text/plain": [
       "intercept    23.898218\n",
       "ma.L1        73.808712\n",
       "sigma2       21.454255\n",
       "dtype: float64"
      ]
     },
     "execution_count": 7,
     "metadata": {},
     "output_type": "execute_result"
    }
   ],
   "source": [
    "res = tsa.SARIMAX(term, order=(0, 0, 1), trend=\"c\").fit()\n",
    "res.tvalues"
   ]
  },
  {
   "cell_type": "code",
   "execution_count": 8,
   "metadata": {
    "pycharm": {
     "is_executing": false,
     "name": "#%%\n"
    }
   },
   "outputs": [
    {
     "data": {
      "text/plain": [
       "intercept     4.003844\n",
       "ar.L1        92.419570\n",
       "ar.L2       -22.096011\n",
       "sigma2       49.437148\n",
       "dtype: float64"
      ]
     },
     "execution_count": 8,
     "metadata": {},
     "output_type": "execute_result"
    }
   ],
   "source": [
    "res = tsa.SARIMAX(term, order=(2, 0, 0), trend=\"c\").fit()\n",
    "res.tvalues"
   ]
  },
  {
   "cell_type": "code",
   "execution_count": 9,
   "metadata": {
    "pycharm": {
     "is_executing": false,
     "name": "#%%\n"
    }
   },
   "outputs": [
    {
     "data": {
      "text/plain": [
       "intercept      3.815046\n",
       "ar.L1        115.261685\n",
       "ma.L1         33.671934\n",
       "sigma2        42.348194\n",
       "dtype: float64"
      ]
     },
     "execution_count": 9,
     "metadata": {},
     "output_type": "execute_result"
    }
   ],
   "source": [
    "res = tsa.SARIMAX(term, order=(1, 0, 1), trend=\"c\").fit()\n",
    "res.tvalues\n"
   ]
  },
  {
   "cell_type": "code",
   "execution_count": 10,
   "metadata": {
    "pycharm": {
     "is_executing": false,
     "name": "#%%\n"
    }
   },
   "outputs": [
    {
     "data": {
      "text/plain": [
       "intercept     3.504623\n",
       "ar.L1        18.431356\n",
       "ar.L2         5.979371\n",
       "ma.L1        16.751872\n",
       "sigma2       37.997459\n",
       "dtype: float64"
      ]
     },
     "execution_count": 10,
     "metadata": {},
     "output_type": "execute_result"
    }
   ],
   "source": [
    "res = tsa.SARIMAX(term, order=(2, 0, 1), trend=\"c\").fit()\n",
    "res.tvalues"
   ]
  },
  {
   "cell_type": "code",
   "execution_count": 11,
   "metadata": {
    "pycharm": {
     "is_executing": false,
     "name": "#%%\n"
    }
   },
   "outputs": [
    {
     "data": {
      "text/plain": [
       "intercept      3.479535\n",
       "ar.L1        115.330749\n",
       "ma.L1         25.889922\n",
       "ma.L2         -3.615222\n",
       "sigma2        37.222985\n",
       "dtype: float64"
      ]
     },
     "execution_count": 11,
     "metadata": {},
     "output_type": "execute_result"
    }
   ],
   "source": [
    "res = tsa.SARIMAX(term, order=(1, 0, 2), trend=\"c\").fit()\n",
    "res.tvalues\n"
   ]
  },
  {
   "cell_type": "code",
   "execution_count": 12,
   "metadata": {
    "pycharm": {
     "is_executing": false,
     "name": "#%%\n"
    }
   },
   "outputs": [
    {
     "data": {
      "text/plain": [
       "intercept     3.565521\n",
       "ar.L1        11.858124\n",
       "ar.L2         4.739579\n",
       "ar.L3        -1.867073\n",
       "ma.L1        12.691501\n",
       "sigma2       37.314317\n",
       "dtype: float64"
      ]
     },
     "execution_count": 12,
     "metadata": {},
     "output_type": "execute_result"
    }
   ],
   "source": [
    "res = tsa.SARIMAX(term, order=(3, 0, 1), trend=\"c\").fit()\n",
    "res.tvalues"
   ]
  },
  {
   "cell_type": "code",
   "execution_count": 13,
   "metadata": {
    "pycharm": {
     "is_executing": false,
     "name": "#%%\n"
    }
   },
   "outputs": [
    {
     "data": {
      "text/plain": [
       "intercept     3.080499\n",
       "ar.L1         2.101463\n",
       "ar.L2         3.020971\n",
       "ma.L1         4.905714\n",
       "ma.L2         1.644658\n",
       "sigma2       37.494983\n",
       "dtype: float64"
      ]
     },
     "execution_count": 13,
     "metadata": {},
     "output_type": "execute_result"
    }
   ],
   "source": [
    "res = tsa.SARIMAX(term, order=(2, 0, 2), trend=\"c\").fit()\n",
    "res.tvalues"
   ]
  },
  {
   "cell_type": "code",
   "execution_count": 14,
   "metadata": {
    "pycharm": {
     "is_executing": false,
     "name": "#%%\n"
    }
   },
   "outputs": [
    {
     "data": {
      "text/html": [
       "<table class=\"simpletable\">\n",
       "<caption>Statespace Model Results</caption>\n",
       "<tr>\n",
       "  <th>Dep. Variable:</th>         <td>TERM</td>       <th>  No. Observations:  </th>   <td>798</td>  \n",
       "</tr>\n",
       "<tr>\n",
       "  <th>Model:</th>           <td>SARIMAX(2, 0, 1)</td> <th>  Log Likelihood     </th> <td>10.653</td> \n",
       "</tr>\n",
       "<tr>\n",
       "  <th>Date:</th>            <td>Fri, 25 Oct 2019</td> <th>  AIC                </th> <td>-11.305</td>\n",
       "</tr>\n",
       "<tr>\n",
       "  <th>Time:</th>                <td>16:33:33</td>     <th>  BIC                </th> <td>12.105</td> \n",
       "</tr>\n",
       "<tr>\n",
       "  <th>Sample:</th>             <td>04-01-1953</td>    <th>  HQIC               </th> <td>-2.311</td> \n",
       "</tr>\n",
       "<tr>\n",
       "  <th></th>                   <td>- 09-01-2019</td>   <th>                     </th>    <td> </td>   \n",
       "</tr>\n",
       "<tr>\n",
       "  <th>Covariance Type:</th>        <td>opg</td>       <th>                     </th>    <td> </td>   \n",
       "</tr>\n",
       "</table>\n",
       "<table class=\"simpletable\">\n",
       "<tr>\n",
       "      <td></td>         <th>coef</th>     <th>std err</th>      <th>z</th>      <th>P>|z|</th>  <th>[0.025</th>    <th>0.975]</th>  \n",
       "</tr>\n",
       "<tr>\n",
       "  <th>intercept</th> <td>    0.0489</td> <td>    0.014</td> <td>    3.505</td> <td> 0.000</td> <td>    0.022</td> <td>    0.076</td>\n",
       "</tr>\n",
       "<tr>\n",
       "  <th>ar.L1</th>     <td>    0.7164</td> <td>    0.039</td> <td>   18.431</td> <td> 0.000</td> <td>    0.640</td> <td>    0.793</td>\n",
       "</tr>\n",
       "<tr>\n",
       "  <th>ar.L2</th>     <td>    0.2310</td> <td>    0.039</td> <td>    5.979</td> <td> 0.000</td> <td>    0.155</td> <td>    0.307</td>\n",
       "</tr>\n",
       "<tr>\n",
       "  <th>ma.L1</th>     <td>    0.6232</td> <td>    0.037</td> <td>   16.752</td> <td> 0.000</td> <td>    0.550</td> <td>    0.696</td>\n",
       "</tr>\n",
       "<tr>\n",
       "  <th>sigma2</th>    <td>    0.0568</td> <td>    0.001</td> <td>   37.997</td> <td> 0.000</td> <td>    0.054</td> <td>    0.060</td>\n",
       "</tr>\n",
       "</table>\n",
       "<table class=\"simpletable\">\n",
       "<tr>\n",
       "  <th>Ljung-Box (Q):</th>          <td>81.34</td> <th>  Jarque-Bera (JB):  </th> <td>3040.48</td>\n",
       "</tr>\n",
       "<tr>\n",
       "  <th>Prob(Q):</th>                <td>0.00</td>  <th>  Prob(JB):          </th>  <td>0.00</td>  \n",
       "</tr>\n",
       "<tr>\n",
       "  <th>Heteroskedasticity (H):</th> <td>0.73</td>  <th>  Skew:              </th>  <td>0.59</td>  \n",
       "</tr>\n",
       "<tr>\n",
       "  <th>Prob(H) (two-sided):</th>    <td>0.01</td>  <th>  Kurtosis:          </th>  <td>12.49</td> \n",
       "</tr>\n",
       "</table><br/><br/>Warnings:<br/>[1] Covariance matrix calculated using the outer product of gradients (complex-step)."
      ],
      "text/plain": [
       "<class 'statsmodels.iolib.summary.Summary'>\n",
       "\"\"\"\n",
       "                           Statespace Model Results                           \n",
       "==============================================================================\n",
       "Dep. Variable:                   TERM   No. Observations:                  798\n",
       "Model:               SARIMAX(2, 0, 1)   Log Likelihood                  10.653\n",
       "Date:                Fri, 25 Oct 2019   AIC                            -11.305\n",
       "Time:                        16:33:33   BIC                             12.105\n",
       "Sample:                    04-01-1953   HQIC                            -2.311\n",
       "                         - 09-01-2019                                         \n",
       "Covariance Type:                  opg                                         \n",
       "==============================================================================\n",
       "                 coef    std err          z      P>|z|      [0.025      0.975]\n",
       "------------------------------------------------------------------------------\n",
       "intercept      0.0489      0.014      3.505      0.000       0.022       0.076\n",
       "ar.L1          0.7164      0.039     18.431      0.000       0.640       0.793\n",
       "ar.L2          0.2310      0.039      5.979      0.000       0.155       0.307\n",
       "ma.L1          0.6232      0.037     16.752      0.000       0.550       0.696\n",
       "sigma2         0.0568      0.001     37.997      0.000       0.054       0.060\n",
       "===================================================================================\n",
       "Ljung-Box (Q):                       81.34   Jarque-Bera (JB):              3040.48\n",
       "Prob(Q):                              0.00   Prob(JB):                         0.00\n",
       "Heteroskedasticity (H):               0.73   Skew:                             0.59\n",
       "Prob(H) (two-sided):                  0.01   Kurtosis:                        12.49\n",
       "===================================================================================\n",
       "\n",
       "Warnings:\n",
       "[1] Covariance matrix calculated using the outer product of gradients (complex-step).\n",
       "\"\"\""
      ]
     },
     "execution_count": 14,
     "metadata": {},
     "output_type": "execute_result"
    }
   ],
   "source": [
    "stg_res = tsa.SARIMAX(term, order=(2, 0, 1), trend=\"c\").fit()\n",
    "stg_res.summary()"
   ]
  }
 ],
 "metadata": {
  "kernelspec": {
   "display_name": "Python 3",
   "language": "python",
   "name": "python3"
  },
  "language_info": {
   "codemirror_mode": {
    "name": "ipython",
    "version": 3
   },
   "file_extension": ".py",
   "mimetype": "text/x-python",
   "name": "python",
   "nbconvert_exporter": "python",
   "pygments_lexer": "ipython3",
   "version": "3.7.4"
  },
  "pycharm": {
   "stem_cell": {
    "cell_type": "raw",
    "metadata": {
     "collapsed": false
    },
    "source": []
   }
  }
 },
 "nbformat": 4,
 "nbformat_minor": 1
}
