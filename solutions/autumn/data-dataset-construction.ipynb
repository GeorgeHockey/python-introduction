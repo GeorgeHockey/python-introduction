{
 "cells": [
  {
   "cell_type": "markdown",
   "metadata": {
    "collapsed": true,
    "pycharm": {
     "name": "#%% md\n"
    }
   },
   "source": [
    "## Data Set Construction\n",
    "\n",
    "**Functions**\n",
    "\n",
    "`pd.read_csv`, `pd.read_excel`, `np.diff` or `DataFrame.diff`, `DataFrame.resample`\n",
    "\n",
    "### Exercise 1\n",
    "\n",
    "1. Download all available daily data for the S&P 500 and the Hang Seng Index from Yahoo! Finance. \n",
    "2. Import both data sets into Python. The final dataset should have a `DateTimeIndex`, and the date\n",
    "   column should not be part of the `DataFrame`.\n",
    "3. Construct weekly price series from each, using Tuesday prices (less likely to be a holiday).\n",
    "4. Construct monthly price series from each using last day in the month.\n",
    "5. Save the data to the HDF file \"equity-indices.h5\".\n"
   ]
  },
  {
   "cell_type": "code",
   "execution_count": 1,
   "metadata": {
    "collapsed": false,
    "pycharm": {
     "is_executing": false,
     "name": "#%%\n"
    }
   },
   "outputs": [],
   "source": [
    "import pandas as pd\n",
    "\n",
    "sp500 = pd.read_csv(\"data/GSPC.csv\",parse_dates=True,index_col=\"Date\")\n",
    "hsi = pd.read_csv(\"data/HSI.csv\",parse_dates=True,index_col=\"Date\")\n",
    "\n",
    "weekly_sp500 = sp500.resample(\"W-TUE\").last()\n",
    "weekly_hsi = hsi.resample(\"W-TUE\").last()\n",
    "\n",
    "monthly_sp500 = sp500.resample(\"M\").last()\n",
    "monthly_hsi = hsi.resample(\"M\").last()\n",
    "\n",
    "h5file = pd.HDFStore(\"data/equity-indices.h5\", mode=\"w\")\n",
    "h5file.append(\"sp500\", sp500)\n",
    "h5file.append(\"weekly_sp500\", weekly_sp500)\n",
    "h5file.append(\"monthly_sp500\", monthly_sp500)\n",
    "h5file.append(\"hsi\", sp500)\n",
    "h5file.append(\"weekly_hsi\", weekly_hsi)\n",
    "h5file.append(\"monthly_hsi\", monthly_hsi)\n",
    "h5file.close()\n"
   ]
  },
  {
   "cell_type": "markdown",
   "metadata": {
    "collapsed": false
   },
   "source": [
    "### Exercise 2\n",
    "\n",
    "Write a function that will correctly aggregate to weekly or monthly respecting the\n",
    "aggregation rules\n",
    "\n",
    "* High: `max`\n",
    "* Low: `min`\n",
    "* Volume: `sum`\n",
    "\n",
    "The signature should be:\n",
    "\n",
    "```python\n",
    "def yahoo_agg(data, freq):\n",
    "    <code here>\n",
    "    return resampled_data\n",
    "```\n"
   ]
  },
  {
   "cell_type": "code",
   "execution_count": 2,
   "metadata": {
    "collapsed": false,
    "pycharm": {
     "is_executing": false,
     "name": "#%%\n"
    }
   },
   "outputs": [
    {
     "name": "stdout",
     "output_type": "stream",
     "text": [
      "                   High          Low      Volume\n",
      "Date                                            \n",
      "2019-05-31  2768.979980  2750.520020  3981020000\n",
      "2019-06-30  2943.979980  2929.050049  5420700000\n",
      "2019-07-31  3017.399902  2958.080078  4623430000\n",
      "2019-08-31  2940.429932  2913.320068  3008450000\n",
      "2019-09-30  2999.149902  2982.229980  3186590000\n",
      "                   High          Low       Volume\n",
      "Date                                             \n",
      "2019-05-31  2954.129883  2750.520020  76860120000\n",
      "2019-06-30  2964.149902  2728.810059  70881390000\n",
      "2019-07-31  3027.979980  2952.219971  70349470000\n",
      "2019-08-31  3013.590088  2822.120117  79599440000\n",
      "2019-09-30  3021.989990  2891.850098  57236800000\n"
     ]
    }
   ],
   "source": [
    "def yahoo_agg(data, freq):\n",
    "    resampler = data.resample(freq)\n",
    "\n",
    "    high = resampler.High.max()\n",
    "    low = resampler.Low.min()\n",
    "    vol = resampler.Volume.sum()\n",
    "    # Start with last for all columns\n",
    "    resampled_data = resampler.last()\n",
    "    # Insert columns that use a different rule\n",
    "    resampled_data[\"High\"] = high\n",
    "    resampled_data[\"Low\"] = low\n",
    "    resampled_data[\"Volume\"] = vol\n",
    "\n",
    "    return resampled_data\n",
    "\n",
    "\n",
    "better_monthly_sp500 = yahoo_agg(sp500, \"M\")\n",
    "\n",
    "print(monthly_sp500[[\"High\", \"Low\", \"Volume\"]].tail())\n",
    "print(better_monthly_sp500[[\"High\", \"Low\", \"Volume\"]].tail())\n"
   ]
  },
  {
   "cell_type": "markdown",
   "metadata": {
    "collapsed": false
   },
   "source": [
    "### Exercise 3\n",
    "\n",
    "1. Import the Fama-French benchmark portfolios as well as the 25 sorted portfolios at both the\n",
    "   monthly and daily horizon from [Ken French\"s Data Library](http://mba.tuck.dartmouth.edu/pages/faculty/ken.french/data_library.html).\n",
    "   **Note** It is much easier to clean to data file before importing than to find the precise\n",
    "   command that will load the unmodified data.\n",
    "2. Import daily FX rate data for USD against AUD, Euro, JPY and GBP from the [Federal Reserve Economic Database (FRED)](http://research.stlouisfed.org/fred2/categories/94). Use Excel rather than csv files.\n",
    "3. Save the data to the HDF files \"fama-french.h5\" and \"fx.h5\""
   ]
  },
  {
   "cell_type": "code",
   "execution_count": 3,
   "metadata": {
    "collapsed": false,
    "pycharm": {
     "is_executing": false,
     "name": "#%%\n"
    }
   },
   "outputs": [
    {
     "name": "stdout",
     "output_type": "stream",
     "text": [
      "                  DEXJPUS  DEXUSAL  DEXUSEU  DEXUSUK\n",
      "observation_date                                    \n",
      "2019-09-16         107.94   0.6865   1.1006   1.2423\n",
      "2019-09-17         108.12   0.6858   1.1063   1.2493\n",
      "2019-09-18         108.17   0.6844   1.1061   1.2478\n",
      "2019-09-19         108.00   0.6795   1.1046   1.2481\n",
      "2019-09-20         107.95   0.6770   1.1004   1.2489\n"
     ]
    }
   ],
   "source": [
    "yen_dollar = pd.read_excel(\"data/DEXJPUS.xls\", index_col=\"observation_date\", skiprows=10)\n",
    "dollar_aud = pd.read_excel(\"data/DEXUSAL.xls\",index_col=\"observation_date\", skiprows=10)\n",
    "dollar_euro = pd.read_excel(\"data/DEXUSEU.xls\",index_col=\"observation_date\", skiprows=10)\n",
    "dollar_pound = pd.read_excel(\"data/DEXUSUK.xls\",index_col=\"observation_date\", skiprows=10)\n",
    "\n",
    "fx = pd.concat([yen_dollar, dollar_aud, dollar_euro, dollar_pound], axis=1)\n",
    "print(fx.tail())\n",
    "fx.to_hdf(\"data/fx.h5\", \"fx\")"
   ]
  },
  {
   "cell_type": "code",
   "execution_count": 4,
   "metadata": {
    "collapsed": false,
    "pycharm": {
     "is_executing": false,
     "name": "#%%\n"
    }
   },
   "outputs": [
    {
     "name": "stdout",
     "output_type": "stream",
     "text": [
      "            Mkt-RF   SMB   HML    RF  SMALL LoBM  ME1 BM2  ME1 BM3  ME1 BM4  \\\n",
      "2019-03-01    1.10 -3.13 -4.07  0.19      0.8891  -0.4743  -2.5100  -4.9485   \n",
      "2019-04-01    3.96 -1.68  1.93  0.21      0.6068   1.6518   2.1840   3.4912   \n",
      "2019-05-01   -6.94 -1.20 -2.39  0.21     -5.5586  -5.3126  -7.7829  -8.8025   \n",
      "2019-06-01    6.93  0.33 -1.08  0.18      7.6353   6.2398   4.7677   6.7187   \n",
      "2019-07-01    1.19 -2.06  0.12  0.19     -3.8504  -1.1600  -0.8926  -1.6496   \n",
      "\n",
      "            SMALL HiBM  ME2 BM1  ...  ME4 BM1  ME4 BM2  ME4 BM3  ME4 BM4  \\\n",
      "2019-03-01     -3.4235  -0.2319  ...   1.8237   1.0998  -0.9002  -0.5395   \n",
      "2019-04-01      2.0865   2.8361  ...   3.1410   4.2046   4.3501   5.0762   \n",
      "2019-05-01     -7.9767  -8.9190  ...  -5.7334  -7.1667  -7.7153  -9.1637   \n",
      "2019-06-01      4.7008   8.9242  ...   7.2875   9.4043   9.5103   7.5115   \n",
      "2019-07-01     -2.5149  -3.1247  ...   1.6768   1.0410   1.9332  -0.6625   \n",
      "\n",
      "            ME4 BM5  BIG LoBM  ME5 BM2  ME5 BM3  ME5 BM4  BIG HiBM  \n",
      "2019-03-01  -2.8702    3.3344   1.9283  -0.1602  -0.5929   -3.0620  \n",
      "2019-04-01   4.3419    4.6039   2.9807   3.6429   5.1341    9.3863  \n",
      "2019-05-01  -7.9580   -6.9663  -5.7641  -5.0654  -8.1314   -8.7586  \n",
      "2019-06-01   6.9246    7.7424   5.8872   5.9640   6.6670    7.9347  \n",
      "2019-07-01   0.9940    1.6565   1.9146   1.5096   0.9860    2.1159  \n",
      "\n",
      "[5 rows x 29 columns]\n",
      "            Mkt-RF   SMB   HML    RF  SMALL LoBM  ME1 BM2  ME1 BM3  ME1 BM4  \\\n",
      "2019-03-31    1.10 -3.13 -4.07  0.19      0.8891  -0.4743  -2.5100  -4.9485   \n",
      "2019-04-30    3.96 -1.68  1.93  0.21      0.6068   1.6518   2.1840   3.4912   \n",
      "2019-05-31   -6.94 -1.20 -2.39  0.21     -5.5586  -5.3126  -7.7829  -8.8025   \n",
      "2019-06-30    6.93  0.33 -1.08  0.18      7.6353   6.2398   4.7677   6.7187   \n",
      "2019-07-31    1.19 -2.06  0.12  0.19     -3.8504  -1.1600  -0.8926  -1.6496   \n",
      "\n",
      "            SMALL HiBM  ME2 BM1  ...  ME4 BM1  ME4 BM2  ME4 BM3  ME4 BM4  \\\n",
      "2019-03-31     -3.4235  -0.2319  ...   1.8237   1.0998  -0.9002  -0.5395   \n",
      "2019-04-30      2.0865   2.8361  ...   3.1410   4.2046   4.3501   5.0762   \n",
      "2019-05-31     -7.9767  -8.9190  ...  -5.7334  -7.1667  -7.7153  -9.1637   \n",
      "2019-06-30      4.7008   8.9242  ...   7.2875   9.4043   9.5103   7.5115   \n",
      "2019-07-31     -2.5149  -3.1247  ...   1.6768   1.0410   1.9332  -0.6625   \n",
      "\n",
      "            ME4 BM5  BIG LoBM  ME5 BM2  ME5 BM3  ME5 BM4  BIG HiBM  \n",
      "2019-03-31  -2.8702    3.3344   1.9283  -0.1602  -0.5929   -3.0620  \n",
      "2019-04-30   4.3419    4.6039   2.9807   3.6429   5.1341    9.3863  \n",
      "2019-05-31  -7.9580   -6.9663  -5.7641  -5.0654  -8.1314   -8.7586  \n",
      "2019-06-30   6.9246    7.7424   5.8872   5.9640   6.6670    7.9347  \n",
      "2019-07-31   0.9940    1.6565   1.9146   1.5096   0.9860    2.1159  \n",
      "\n",
      "[5 rows x 29 columns]\n"
     ]
    }
   ],
   "source": [
    "# These files have all been cleaned to have only the data and headers\n",
    "ff_5x5 = pd.read_csv(\"data/25_Portfolios_5x5.CSV\", index_col=0)\n",
    "ff_factors = pd.read_csv(\"data/F-F_Research_Data_Factors.CSV\", index_col=0)\n",
    "ff = pd.concat([ff_factors, ff_5x5], 1)\n",
    "\n",
    "\n",
    "dates = []\n",
    "for value in ff.index:\n",
    "    # Values are YYYYMM\n",
    "    dates.append(pd.Timestamp(year=value//100, month=value%100, day=1))\n",
    "ff.index = dates\n",
    "print(ff.tail())\n",
    "\n",
    "# This is a \"trick\" to get the index to have the last day in the month.\n",
    "ff = ff.resample(\"M\").last()\n",
    "print(ff.tail())\n",
    "\n",
    "ff.to_hdf(\"data/ff.h5\", \"ff\")"
   ]
  },
  {
   "cell_type": "code",
   "execution_count": 5,
   "metadata": {
    "collapsed": false,
    "pycharm": {
     "is_executing": false,
     "name": "#%%\n"
    }
   },
   "outputs": [
    {
     "name": "stdout",
     "output_type": "stream",
     "text": [
      "            Mkt-RF   SMB   HML     RF  SMALL LoBM  ME1 BM2  ME1 BM3  ME1 BM4  \\\n",
      "2019-07-25   -0.63 -0.69 -0.21  0.009       -1.89    -1.59    -1.02    -1.11   \n",
      "2019-07-26    0.82  0.39 -0.21  0.009        1.53     1.48     1.29     1.18   \n",
      "2019-07-29   -0.32 -0.32 -0.47  0.009       -0.34     0.16    -0.89    -0.62   \n",
      "2019-07-30   -0.17  1.31  0.86  0.009        1.04     1.49     0.84     1.21   \n",
      "2019-07-31   -1.09  0.13  0.56  0.009       -0.90    -1.76    -0.43    -0.73   \n",
      "\n",
      "            SMALL HiBM  ME2 BM1  ...  ME4 BM1  ME4 BM2  ME4 BM3  ME4 BM4  \\\n",
      "2019-07-25       -1.59    -1.90  ...    -0.95    -0.72    -0.74    -0.34   \n",
      "2019-07-26        0.68     1.37  ...     0.84     0.65     0.96     0.17   \n",
      "2019-07-29       -0.99    -0.82  ...    -0.93    -0.36    -0.24    -0.86   \n",
      "2019-07-30        2.13     0.86  ...    -0.22    -0.18     0.41     0.95   \n",
      "2019-07-31       -0.43    -1.44  ...    -0.98    -1.30    -0.68    -0.65   \n",
      "\n",
      "            ME4 BM5  BIG LoBM  ME5 BM2  ME5 BM3  ME5 BM4  BIG HiBM  \n",
      "2019-07-25    -1.23     -0.62    -0.27    -0.83    -0.48     -1.68  \n",
      "2019-07-26     0.27      0.53     1.54     0.61     0.62      1.37  \n",
      "2019-07-29    -0.85     -0.05    -0.34    -0.32    -0.33     -0.91  \n",
      "2019-07-30     1.25     -0.27    -0.70    -0.10     0.16     -0.48  \n",
      "2019-07-31    -1.32     -1.24    -1.23    -1.24    -0.65     -0.64  \n",
      "\n",
      "[5 rows x 29 columns]\n"
     ]
    }
   ],
   "source": [
    "# These files have all been cleaned to have only the data and headers\n",
    "ff_5x5_daily = pd.read_csv(\"data/25_Portfolios_5x5_daily.CSV\", index_col=0)\n",
    "ff_factors_daily = pd.read_csv(\"data/F-F_Research_Data_Factors_daily.CSV\", index_col=0)\n",
    "ff_daily = pd.concat([ff_factors_daily, ff_5x5_daily], 1)\n",
    "\n",
    "\n",
    "dates = []\n",
    "for value in ff_daily.index:\n",
    "    # Values are YYYYMMDD\n",
    "    dates.append(pd.Timestamp(year=value//10000, month=(value//100)%100, day=value%100))\n",
    "ff_daily.index = dates\n",
    "print(ff_daily.tail())\n",
    "ff_daily.to_hdf(\"data/ff_daily.h5\", \"ff_daily\")\n"
   ]
  },
  {
   "cell_type": "markdown",
   "metadata": {
    "collapsed": false
   },
   "source": [
    "### Exercise 3 (Alternative method)\n",
    "\n",
    "1. Install and use `pandas-datareader` to repeat the previous exercise.\n",
    "\n",
    "#### Preliminary Step\n",
    "\n",
    "You must first install the module using \n",
    "\n",
    "```\n",
    "pip install pandas-datareader\n",
    "``` \n",
    "\n",
    "from the command line. Then you can run this code. **Note**: Running this code requires access\n",
    "to the internet."
   ]
  },
  {
   "cell_type": "code",
   "execution_count": 6,
   "metadata": {
    "collapsed": false,
    "pycharm": {
     "is_executing": false,
     "name": "#%%\n"
    }
   },
   "outputs": [
    {
     "name": "stdout",
     "output_type": "stream",
     "text": [
      "            DEXJPUS  DEXUSAL  DEXUSEU  DEXUSUK\n",
      "DATE                                          \n",
      "2019-10-14      NaN      NaN      NaN      NaN\n",
      "2019-10-15   108.83   0.6757   1.1036   1.2737\n",
      "2019-10-16   108.71   0.6755   1.1075   1.2854\n",
      "2019-10-17   108.51   0.6826   1.1129   1.2853\n",
      "2019-10-18   108.44   0.6846   1.1155   1.2904\n"
     ]
    }
   ],
   "source": [
    "import pandas_datareader as pdr\n",
    "\n",
    "# Conservative start date to get all data\n",
    "yen_dollar = pdr.get_data_fred(\"DEXJPUS\", start=\"1950\")\n",
    "dollar_aud = pdr.get_data_fred(\"DEXUSAL\", start=\"1950\")\n",
    "dollar_euro = pdr.get_data_fred(\"DEXUSEU\", start=\"1950\")\n",
    "dollar_pound = pdr.get_data_fred(\"DEXUSUK\", start=\"1950\")\n",
    "fx = pd.concat([yen_dollar, dollar_aud, dollar_euro, dollar_pound], axis=1)\n",
    "print(fx.tail())\n",
    "fx.to_hdf(\"data/fx-pdf.h5\", \"fx\")"
   ]
  },
  {
   "cell_type": "code",
   "execution_count": 7,
   "metadata": {
    "collapsed": false,
    "pycharm": {
     "is_executing": false,
     "name": "#%%\n"
    }
   },
   "outputs": [
    {
     "name": "stdout",
     "output_type": "stream",
     "text": [
      "         Mkt-RF   SMB   HML    RF  SMALL LoBM  ME1 BM2  ME1 BM3  ME1 BM4  \\\n",
      "Date                                                                       \n",
      "2019-04    3.96 -1.68  1.93  0.21      0.6068   1.6518   2.1840   3.4912   \n",
      "2019-05   -6.94 -1.20 -2.39  0.21     -5.5586  -5.3126  -7.7829  -8.8025   \n",
      "2019-06    6.93  0.33 -1.08  0.18      7.6353   6.2398   4.7677   6.7187   \n",
      "2019-07    1.19 -2.07  0.14  0.19     -3.8479  -0.8973  -0.8637  -1.6684   \n",
      "2019-08   -2.58 -2.42 -4.99  0.16     -4.6162  -5.7252  -6.9406  -6.1979   \n",
      "\n",
      "         SMALL HiBM  ME2 BM1  ...  ME4 BM1  ME4 BM2  ME4 BM3  ME4 BM4  \\\n",
      "Date                          ...                                       \n",
      "2019-04      2.0865   2.8361  ...   3.1410   4.2046   4.3501   5.0762   \n",
      "2019-05     -7.9767  -8.9190  ...  -5.7334  -7.1667  -7.7153  -9.1637   \n",
      "2019-06      4.7008   8.9242  ...   7.2875   9.4043   9.5103   7.5115   \n",
      "2019-07     -2.6388  -3.1275  ...   1.6579   1.0343   1.9377  -0.6648   \n",
      "2019-08     -9.2717  -0.5800  ...  -2.3820  -4.7282  -5.2615  -6.6145   \n",
      "\n",
      "         ME4 BM5  BIG LoBM  ME5 BM2  ME5 BM3  ME5 BM4  BIG HiBM  \n",
      "Date                                                             \n",
      "2019-04   4.3419    4.6039   2.9807   3.6429   5.1341    9.3863  \n",
      "2019-05  -7.9580   -6.9663  -5.7641  -5.0654  -8.1314   -8.7586  \n",
      "2019-06   6.9246    7.7424   5.8872   5.9640   6.6670    7.9347  \n",
      "2019-07   0.9996    1.6563   1.9055   1.5096   0.9857    2.1164  \n",
      "2019-08  -6.8692   -0.2777  -2.0504  -3.1178  -3.8142   -7.8637  \n",
      "\n",
      "[5 rows x 29 columns]\n"
     ]
    }
   ],
   "source": [
    "ff_factors = pdr.get_data_famafrench(\"F-F_Research_Data_Factors\", start=\"1920\")\n",
    "ff_5x5 = pdr.get_data_famafrench(\"25_Portfolios_5x5\", start=\"1920\")\n",
    "# The function returns all of the tables in each file.  We want the first, [0]\n",
    "ff_factors = ff_factors[0]\n",
    "ff_5x5 = ff_5x5[0]\n",
    "ff = pd.concat([ff_factors, ff_5x5], 1)\n",
    "ff.to_hdf(\"data/ff-pdr.h5\", \"ff\")\n",
    "print(ff.tail())"
   ]
  }
 ],
 "metadata": {
  "kernelspec": {
   "display_name": "Python 3",
   "language": "python",
   "name": "python3"
  },
  "language_info": {
   "codemirror_mode": {
    "name": "ipython",
    "version": 3
   },
   "file_extension": ".py",
   "mimetype": "text/x-python",
   "name": "python",
   "nbconvert_exporter": "python",
   "pygments_lexer": "ipython3",
   "version": "3.7.4"
  },
  "pycharm": {
   "stem_cell": {
    "cell_type": "raw",
    "metadata": {
     "collapsed": false
    },
    "source": []
   }
  }
 },
 "nbformat": 4,
 "nbformat_minor": 0
}
