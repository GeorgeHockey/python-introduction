{
 "cells": [
  {
   "cell_type": "markdown",
   "metadata": {
    "collapsed": false,
    "pycharm": {
     "name": "#%% md\n"
    }
   },
   "source": [
    "## Unit Root Testing\n",
    "\n",
    "**Functions**\n",
    "\n",
    "`sm.tsa.stattools.adfuller`, `arch.unitroot.ADF` \n",
    "\n",
    "### Exercise 62\n",
    "Download data on the AAA and BAA yeilds (Moodys) from FRED and construct the default premium.\n",
    "\n",
    "1. Test the default premium for a unit root. \n",
    "2. If you find a unit root, test the change."
   ]
  },
  {
   "cell_type": "code",
   "execution_count": null,
   "metadata": {
    "collapsed": false,
    "pycharm": {
     "name": "#%%\n"
    }
   },
   "outputs": [],
   "source": []
  },
  {
   "cell_type": "markdown",
   "metadata": {
    "collapsed": false
   },
   "source": [
    "### Exercise 63\n",
    "\n",
    "Download data on consumer prices in the UK from the ONS.\n",
    "\n",
    "1. Test the log of CPI for a unit root. \n",
    "2. If you find a unit root, test inflation for one."
   ]
  }
 ],
 "metadata": {
  "kernelspec": {
   "display_name": "Python 3",
   "language": "python",
   "name": "python3"
  },
  "language_info": {
   "codemirror_mode": {
    "name": "ipython",
    "version": 3
   },
   "file_extension": ".py",
   "mimetype": "text/x-python",
   "name": "python",
   "nbconvert_exporter": "python",
   "pygments_lexer": "ipython3",
   "version": "3.7.4"
  },
  "pycharm": {
   "stem_cell": {
    "cell_type": "raw",
    "metadata": {
     "collapsed": false
    },
    "source": []
   }
  }
 },
 "nbformat": 4,
 "nbformat_minor": 0
}
