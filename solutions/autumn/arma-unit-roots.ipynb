{
 "cells": [
  {
   "cell_type": "markdown",
   "source": [
    "## Unit Root Testing\n",
    "\n",
    "**Functions**\n",
    "\n",
    "`sm.tsa.stattools.adfuller`, `arch.unitroot.ADF` \n",
    "\n",
    "### Exercise 62\n",
    "Download data on the AAA and BAA yeilds (Moodys) from FRED and construct the default premium.\n",
    "\n",
    "1. Test the default premium for a unit root. \n",
    "2. If you find a unit root, test the change."
   ],
   "metadata": {
    "collapsed": false,
    "pycharm": {
     "name": "#%% md\n"
    }
   }
  },
  {
   "cell_type": "code",
   "execution_count": null,
   "outputs": [],
   "source": [],
   "metadata": {
    "collapsed": false,
    "pycharm": {
     "name": "#%%\n"
    }
   }
  },
  {
   "cell_type": "markdown",
   "source": [
    "### Exercise 63\n",
    "\n",
    "Download data on consumer prices in the UK from the ONS.\n",
    "\n",
    "1. Test the log of CPI for a unit root. \n",
    "2. If you find a unit root, test inflation for one."
   ],
   "metadata": {
    "collapsed": false
   }
  }
 ],
 "metadata": {
  "kernelspec": {
   "display_name": "Python 3",
   "language": "python",
   "name": "python3"
  },
  "language_info": {
   "codemirror_mode": {
    "name": "ipython",
    "version": 2
   },
   "file_extension": ".py",
   "mimetype": "text/x-python",
   "name": "python",
   "nbconvert_exporter": "python",
   "pygments_lexer": "ipython2",
   "version": "2.7.6"
  },
  "pycharm": {
   "stem_cell": {
    "cell_type": "raw",
    "source": [],
    "metadata": {
     "collapsed": false
    }
   }
  }
 },
 "nbformat": 4,
 "nbformat_minor": 0
}