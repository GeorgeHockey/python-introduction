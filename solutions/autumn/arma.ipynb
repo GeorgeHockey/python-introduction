{
 "cells": [
  {
   "cell_type": "markdown",
   "metadata": {
    "collapsed": true,
    "pycharm": {
     "name": "#%% md\n"
    }
   },
   "source": [
    "## ARMA Estimation\n",
    "\n",
    "**Functions**\n",
    "\n",
    "`sm.tsa.SARIMAX`, `pd.read_csv`\n",
    "\n",
    "### Exercise 54\n",
    "Download data on 1 year and 10 year US government bond rates from FRED, and construct the\n",
    "term premium as the different in yields on 10 year and 1 year bonds.\n",
    "\n",
    "\n",
    "### Exercise 55\n",
    "Estimate an AR(1) on the term premium, and compute standard errors for the parameters.\n",
    "\n",
    "### Exercise 56\n",
    "Estimate an MA(5) on the term premium, and compute standard errors for the parameters.\n",
    "\n",
    "### Exercise 57\n",
    "Estimate an ARMA(1,1) on the term premium, and compute standard errors for the parameters.\n",
    "\n",
    "\n",
    "## ARMA Model Selection\n",
    "\n",
    "**Functions**\n",
    "\n",
    "`sm.tsa.SARIMAX`\n",
    "\n",
    "### Exercise 58\n",
    "Perform a model selection exercise on the term premium using\n",
    "\n",
    "1. General-to-Specific\n",
    "2. Specific-to-General\n",
    "3. Minimizing an Information Criteria\n",
    "\n",
    "## ARMA Residual Disgnostics\n",
    "\n",
    "**Functions**\n",
    "\n",
    "`sm.tsa.SARIMAX`, `sm.stats.diagnostic.acorr_ljungbox`, `SARIMAXResults.test_serial_correlation`\n",
    "\n",
    "### Exercise 59\n",
    "Compute the residuals from your preferred model from the previous exercise, as well as a random-walk model.\n",
    "\n",
    "1. Plot the residuals\n",
    "2. Is there evidence of autocorrelation in the residuals?\n",
    "3. Compute the Q statistic from both sets of residuals. Is there evidence of serial correlation?\n",
    "4. Compute the LM test for serial correlation. Is there evidence of serial correlation?\n",
    "\n",
    "## ARMA Forecasting\n",
    "\n",
    "**Functions**\n",
    "\n",
    "arma_forecaster, cov_nw, ols\n",
    "\n",
    "### Exercise 60\n",
    "Produce 1-step forecasts from your preferred model in the previous exercise, as well as a random-walk model. \n",
    "\n",
    "1. Are the forecasts objectively accurate?\n",
    "2. Compare these forecasts to the random walk models using MSE and MAE.\n",
    "\n",
    "\n",
    "### Exercise 61\n",
    "\n",
    "Produce 3-step forecasts from the models selected in the previous exercises as well as a random walk model.\n",
    "\n",
    "1. Compare these forecasts to the random walk models using MSE and MAE.\n",
    "\n",
    "Note: Use 50% of the sample to estimate the model and 50% to evaluate it.\n",
    "\n",
    "## Unit Root Testing\n",
    "\n",
    "**Functions**\n",
    "\n",
    "`sm.tsa.stattools.adfuller`, `arch.unitroot.ADF` \n",
    "\n",
    "### Exercise 62\n",
    "Download data on the AAA and BAA yeilds (Moodys) from FRED and construct the default premium.\n",
    "\n",
    "1. Test the default premium for a unit root. \n",
    "2. If you find a unit root, test the change.\n",
    "\n",
    "### ### Exercise 63\n",
    "\n",
    "Download data on consumer prices in the UK from the ONS.\n",
    "\n",
    "1. Test the log of CPI for a unit root. \n",
    "2. If you find a unit root, test inflation for one."
   ]
  }
 ],
 "metadata": {
  "kernelspec": {
   "display_name": "Python 3",
   "language": "python",
   "name": "python3"
  },
  "language_info": {
   "codemirror_mode": {
    "name": "ipython",
    "version": 2
   },
   "file_extension": ".py",
   "mimetype": "text/x-python",
   "name": "python",
   "nbconvert_exporter": "python",
   "pygments_lexer": "ipython2",
   "version": "2.7.6"
  },
  "pycharm": {
   "stem_cell": {
    "cell_type": "raw",
    "source": [],
    "metadata": {
     "collapsed": false
    }
   }
  }
 },
 "nbformat": 4,
 "nbformat_minor": 0
}