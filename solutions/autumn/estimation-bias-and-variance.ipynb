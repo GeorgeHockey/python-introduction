{
 "cells": [
  {
   "cell_type": "markdown",
   "metadata": {
    "collapsed": true,
    "pycharm": {
     "name": "#%% md\n"
    }
   },
   "source": [
    "## Bias and Verification of Standard Errors\n",
    "\n",
    "Methods/Functions\n",
    "\n",
    "`mean`, `var`, `RandomState`, `RandomState.chisquare`, `array`, `DataFrame.plot.kde`, `stats.norm.ppf`"
   ]
  },
  {
   "cell_type": "markdown",
   "metadata": {
    "collapsed": false
   },
   "source": [
    "### Exercise 24.\n",
    "Simulate a set of i.i.d. $\\chi_{5}^{2}$ random variables and use the method of moments\n",
    "to estimate the mean and variance."
   ]
  },
  {
   "cell_type": "code",
   "execution_count": 1,
   "metadata": {
    "collapsed": false,
    "pycharm": {
     "is_executing": false,
     "name": "#%%\n"
    }
   },
   "outputs": [
    {
     "name": "stdout",
     "output_type": "stream",
     "text": [
      "The mean is 5.018686987866649 and the variance is 7.076920224073575\n"
     ]
    }
   ],
   "source": [
    "import numpy as np\n",
    "rs = np.random.RandomState(19991231)\n",
    "\n",
    "rvs = rs.chisquare(5, size=10)\n",
    "\n",
    "mu = rvs.mean()\n",
    "print(f\"The mean is {mu} and the variance is {rvs.var()}\")\n"
   ]
  },
  {
   "cell_type": "markdown",
   "metadata": {
    "collapsed": false,
    "pycharm": {
     "name": "#%% md\n"
    }
   },
   "source": [
    "### Exercise 25.\n",
    "Compute the asymptotic variance of the method of moment estimator."
   ]
  },
  {
   "cell_type": "code",
   "execution_count": 2,
   "metadata": {
    "collapsed": false,
    "pycharm": {
     "is_executing": false,
     "name": "#%%\n"
    }
   },
   "outputs": [
    {
     "name": "stdout",
     "output_type": "stream",
     "text": [
      "The asymptotic covariance is:\n",
      "[[ 7.07692022 -0.14669921]\n",
      " [-0.14669921 37.06172824]]\n"
     ]
    }
   ],
   "source": [
    "err = rvs - mu\n",
    "mom_errs = np.array([err, err**2 - rvs.var()]).T\n",
    "nobs = mom_errs.shape[0]\n",
    "\n",
    "acov = mom_errs.T @ mom_errs / nobs\n",
    "\n",
    "print(\"The asymptotic covariance is:\")\n",
    "print(acov)"
   ]
  },
  {
   "cell_type": "markdown",
   "metadata": {
    "collapsed": false,
    "pycharm": {
     "name": "#%% md\n"
    }
   },
   "source": [
    "### Exercise 26.\n",
    "Repeat Exercises 24 and 25 a total of 1000 times.\n",
    "Examine the finite sample bias of these estimators relative to the true values."
   ]
  },
  {
   "cell_type": "code",
   "execution_count": 3,
   "metadata": {
    "collapsed": false,
    "pycharm": {
     "is_executing": false,
     "name": "#%%\n"
    }
   },
   "outputs": [
    {
     "name": "stdout",
     "output_type": "stream",
     "text": [
      "The biases are 0.030637114579928237 (mean) and -0.6459309147194912 variance\n"
     ]
    }
   ],
   "source": [
    "estimates = np.zeros((1000, 2))\n",
    "acovs = np.zeros((1000,2,2))\n",
    "for i in range(1000):\n",
    "    rvs = rs.chisquare(5, size=10)\n",
    "    \n",
    "    mu = rvs.mean()\n",
    "    var =  rvs.var()\n",
    "    estimates[i] = [mu, var]\n",
    "\n",
    "    err = rvs - mu\n",
    "    mom_errs = np.array([err, err**2 - rvs.var()]).T\n",
    "    nobs = mom_errs.shape[0]\n",
    "    \n",
    "    acovs[i] = mom_errs.T @ mom_errs / nobs\n",
    "\n",
    "bias = estimates.mean(axis=0) - np.array([5, 10])\n",
    "print(f\"The biases are {bias[0]} (mean) and {bias[1]} variance\")\n",
    "\n",
    "    "
   ]
  },
  {
   "cell_type": "markdown",
   "metadata": {
    "collapsed": false,
    "pycharm": {
     "name": "#%% md\n"
    }
   },
   "source": [
    "### Exercise 27.\n",
    "Repeat Exercises 24 and 25 a total of 1000 times.\n",
    "Compare the covariance of the estimated means and variance (1000 of each) to the asymptotic covariance of the parameters (use the average of the 1000 estimated variance-covariances). Are these close? How does the sample size affect this?"
   ]
  },
  {
   "cell_type": "code",
   "execution_count": 4,
   "metadata": {
    "collapsed": false,
    "pycharm": {
     "is_executing": false,
     "name": "#%%\n"
    }
   },
   "outputs": [
    {
     "name": "stdout",
     "output_type": "stream",
     "text": [
      "The finite sample covariance is:\n",
      "[[ 1.11324227  4.20444024]\n",
      " [ 4.20444024 39.84465645]]\n",
      "The average acov is:\n",
      "[[ 0.93540691  3.04327717]\n",
      " [ 3.04327717 29.41246286]]\n"
     ]
    }
   ],
   "source": [
    "est_errs = estimates - estimates.mean(axis=0)\n",
    "\n",
    "finite_sample_cov = est_errs.T @ est_errs / 1000\n",
    "avg_acov = acovs.mean(0)\n",
    "\n",
    "print(\"The finite sample covariance is:\")\n",
    "print(finite_sample_cov)\n",
    "\n",
    "print(\"The average acov is:\")\n",
    "print(avg_acov / 10)"
   ]
  },
  {
   "cell_type": "markdown",
   "metadata": {
    "collapsed": false,
    "pycharm": {
     "name": "#%% md\n"
    }
   },
   "source": [
    "### Exercise 28.\n",
    "In the previous problem, for each parameter, form a standardized parameter estimate as\n",
    "\n",
    "$$z_{i}=\\frac{\\sqrt{n}\\left(\\hat{\\theta}_{i}-\\theta_{i,0}\\right)}{\\sqrt{\\hat{\\Sigma}_{ii}}}$$ \n",
    "\n",
    "where\n",
    "\n",
    "$$\\sqrt{n}\\left(\\hat{\\theta}-\\theta_{0}\\right)\\stackrel{d}{\\rightarrow} N\\left(0,\\Sigma\\right)$$\n",
    "\n",
    "so that $\\hat{\\Sigma}$ is the estimated asymptotic covariance. What percent of these $z_{i}$\n",
    "are larger in absolute value than 10%, 5% and 1% 2-sided critical values from a normal?"
   ]
  },
  {
   "cell_type": "code",
   "execution_count": 5,
   "metadata": {
    "collapsed": false,
    "pycharm": {
     "is_executing": false,
     "name": "#%%\n"
    }
   },
   "outputs": [
    {
     "data": {
      "text/html": [
       "<div>\n",
       "<style scoped>\n",
       "    .dataframe tbody tr th:only-of-type {\n",
       "        vertical-align: middle;\n",
       "    }\n",
       "\n",
       "    .dataframe tbody tr th {\n",
       "        vertical-align: top;\n",
       "    }\n",
       "\n",
       "    .dataframe thead th {\n",
       "        text-align: right;\n",
       "    }\n",
       "</style>\n",
       "<table border=\"1\" class=\"dataframe\">\n",
       "  <thead>\n",
       "    <tr style=\"text-align: right;\">\n",
       "      <th></th>\n",
       "      <th>0.01</th>\n",
       "      <th>0.05</th>\n",
       "      <th>0.10</th>\n",
       "    </tr>\n",
       "  </thead>\n",
       "  <tbody>\n",
       "    <tr>\n",
       "      <td>mean</td>\n",
       "      <td>0.062</td>\n",
       "      <td>0.119</td>\n",
       "      <td>0.174</td>\n",
       "    </tr>\n",
       "    <tr>\n",
       "      <td>var</td>\n",
       "      <td>0.259</td>\n",
       "      <td>0.323</td>\n",
       "      <td>0.373</td>\n",
       "    </tr>\n",
       "  </tbody>\n",
       "</table>\n",
       "</div>"
      ],
      "text/plain": [
       "       0.01   0.05   0.10\n",
       "mean  0.062  0.119  0.174\n",
       "var   0.259  0.323  0.373"
      ]
     },
     "execution_count": 5,
     "metadata": {},
     "output_type": "execute_result"
    }
   ],
   "source": [
    "from scipy import stats\n",
    "import pandas as pd\n",
    "\n",
    "z = np.zeros((1000, 2))\n",
    "for i in range(1000):\n",
    "    err = estimates[i] - np.array([5, 10])\n",
    "    acov = acovs[i]\n",
    "    avars = np.diag(acov)\n",
    "    z[i] = (np.sqrt(10) * err) / np.sqrt(avars) \n",
    "\n",
    "results = {}\n",
    "abs_z = np.abs(z)\n",
    "for quantile in [.01, .05, .1]:\n",
    "    cutoff = stats.norm.ppf(1 - quantile/2)\n",
    "    above = abs_z > cutoff\n",
    "    results[quantile] = above.mean(0)\n",
    "results\n",
    "pd.DataFrame(results, index=[\"mean\", \"var\"])"
   ]
  },
  {
   "cell_type": "markdown",
   "metadata": {
    "collapsed": false,
    "pycharm": {
     "name": "#%% md\n"
    }
   },
   "source": [
    "### Exercise 29.\n",
    "Produce a density plot of the $z_{i}$ standardized parameters and compare to a standard normal."
   ]
  },
  {
   "cell_type": "code",
   "execution_count": 6,
   "metadata": {
    "collapsed": false,
    "pycharm": {
     "is_executing": false,
     "name": "#%%\n"
    }
   },
   "outputs": [
    {
     "data": {
      "text/plain": [
       "(0, 0.45)"
      ]
     },
     "execution_count": 6,
     "metadata": {},
     "output_type": "execute_result"
    },
    {
     "data": {
      "image/png": "[encoded data removed]",
      "text/plain": [
       "<Figure size 864x576 with 2 Axes>"
      ]
     },
     "metadata": {},
     "output_type": "display_data"
    }
   ],
   "source": [
    "%matplotlib inline\n",
    "import matplotlib.pyplot as plt\n",
    "import seaborn as sns\n",
    "plt.rc(\"figure\", figsize=(12,8))\n",
    "sns.set_style(\"darkgrid\")\n",
    "z = pd.DataFrame(z, columns=['mean', 'var'])\n",
    "\n",
    "x = np.linspace(-4,4,201)\n",
    "pdf = stats.norm.pdf(x)\n",
    "\n",
    "ax = z.plot.kde(subplots=True)\n",
    "ax[0].set_xlim(-4,4)\n",
    "ax[0].plot(x, pdf, color=\"black\", linestyle=\":\")\n",
    "ax[0].set_ylim(0,0.45)\n",
    "\n",
    "ax[1].set_xlim(-4,4)\n",
    "ax[1].plot(x, pdf, color=\"black\", linestyle=\":\")\n",
    "ax[1].set_ylim(0,0.45)"
   ]
  },
  {
   "cell_type": "markdown",
   "metadata": {
    "collapsed": false,
    "pycharm": {
     "name": "#%% md\n"
    }
   },
   "source": [
    "### Exercise 30.\n",
    "Repeat the same exercise for the Bernoulli problem from the previous question."
   ]
  },
  {
   "cell_type": "code",
   "execution_count": 7,
   "metadata": {
    "collapsed": false,
    "pycharm": {
     "is_executing": false,
     "name": "#%%\n"
    }
   },
   "outputs": [
    {
     "name": "stdout",
     "output_type": "stream",
     "text": [
      "The biases are [-0.00356  -0.008892]\n"
     ]
    }
   ],
   "source": [
    "rs = np.random.RandomState(19991231)\n",
    "sample_size = 25\n",
    "p = 0.25\n",
    "\n",
    "population_values = np.array([p, p*(1-p)])\n",
    "estimates = np.zeros((1000, 2))\n",
    "acovs = np.zeros((1000,2,2))\n",
    "for i in range(1000):\n",
    "    rvs = 1.0 * (rs.random_sample(size=sample_size) <= p) \n",
    "    \n",
    "    mu = rvs.mean()\n",
    "    var =  rvs.var()\n",
    "    estimates[i] = [mu, var]\n",
    "\n",
    "    err = rvs - mu\n",
    "    mom_errs = np.array([err, err**2 - rvs.var()]).T\n",
    "    nobs = mom_errs.shape[0]\n",
    "    \n",
    "    acovs[i] = mom_errs.T @ mom_errs / nobs\n",
    "\n",
    "bias = estimates.mean(axis=0) - population_values\n",
    "print(f\"The biases are {bias}\")\n"
   ]
  },
  {
   "cell_type": "code",
   "execution_count": 8,
   "metadata": {
    "collapsed": false,
    "pycharm": {
     "is_executing": false,
     "name": "#%%\n"
    }
   },
   "outputs": [
    {
     "name": "stderr",
     "output_type": "stream",
     "text": [
      "C:\\Anaconda\\lib\\site-packages\\ipykernel_launcher.py:6: RuntimeWarning: divide by zero encountered in true_divide\n",
      "  \n",
      "C:\\Anaconda\\lib\\site-packages\\ipykernel_launcher.py:14: RuntimeWarning: invalid value encountered in greater\n",
      "  \n"
     ]
    },
    {
     "data": {
      "text/html": [
       "<div>\n",
       "<style scoped>\n",
       "    .dataframe tbody tr th:only-of-type {\n",
       "        vertical-align: middle;\n",
       "    }\n",
       "\n",
       "    .dataframe tbody tr th {\n",
       "        vertical-align: top;\n",
       "    }\n",
       "\n",
       "    .dataframe thead th {\n",
       "        text-align: right;\n",
       "    }\n",
       "</style>\n",
       "<table border=\"1\" class=\"dataframe\">\n",
       "  <thead>\n",
       "    <tr style=\"text-align: right;\">\n",
       "      <th></th>\n",
       "      <th>0.01</th>\n",
       "      <th>0.05</th>\n",
       "      <th>0.10</th>\n",
       "    </tr>\n",
       "  </thead>\n",
       "  <tbody>\n",
       "    <tr>\n",
       "      <td>mean</td>\n",
       "      <td>0.038</td>\n",
       "      <td>0.095</td>\n",
       "      <td>0.117</td>\n",
       "    </tr>\n",
       "    <tr>\n",
       "      <td>var</td>\n",
       "      <td>0.067</td>\n",
       "      <td>0.099</td>\n",
       "      <td>0.154</td>\n",
       "    </tr>\n",
       "  </tbody>\n",
       "</table>\n",
       "</div>"
      ],
      "text/plain": [
       "       0.01   0.05   0.10\n",
       "mean  0.038  0.095  0.117\n",
       "var   0.067  0.099  0.154"
      ]
     },
     "execution_count": 8,
     "metadata": {},
     "output_type": "execute_result"
    }
   ],
   "source": [
    "z = np.zeros((1000, 2))\n",
    "for i in range(1000):\n",
    "    err = estimates[i] - population_values\n",
    "    acov = acovs[i]\n",
    "    avars = np.diag(acov)\n",
    "    z[i] = (np.sqrt(sample_size) * err) / np.sqrt(avars) \n",
    "\n",
    "z.flat[~np.isfinite(z.flat)] = np.nan\n",
    "\n",
    "results = {}\n",
    "abs_z = np.abs(z)\n",
    "for quantile in [.01, .05, .1]:\n",
    "    cutoff = stats.norm.ppf(1 - quantile/2)\n",
    "    above = abs_z > cutoff\n",
    "    results[quantile] = above.mean(0)\n",
    "pd.DataFrame(results, index=[\"mean\", \"var\"])\n",
    "\n"
   ]
  },
  {
   "cell_type": "code",
   "execution_count": 9,
   "metadata": {
    "collapsed": false,
    "pycharm": {
     "is_executing": false,
     "name": "#%%\n"
    }
   },
   "outputs": [
    {
     "data": {
      "text/plain": [
       "(0, 0.45)"
      ]
     },
     "execution_count": 9,
     "metadata": {},
     "output_type": "execute_result"
    },
    {
     "data": {
      "image/png": "[encoded data removed]",
      "text/plain": [
       "<Figure size 432x288 with 2 Axes>"
      ]
     },
     "metadata": {
      "needs_background": "light"
     },
     "output_type": "display_data"
    }
   ],
   "source": [
    "z = pd.DataFrame(z, columns=['mean', 'var'])\n",
    "\n",
    "ax = z.plot.kde(subplots=True)\n",
    "ax[0].set_xlim(-4,4)\n",
    "ax[0].plot(x, pdf, color=\"black\", linestyle=\":\")\n",
    "ax[0].set_ylim(0,0.45)\n",
    "\n",
    "ax[1].set_xlim(-4,4)\n",
    "ax[1].plot(x, pdf, color=\"black\", linestyle=\":\")\n",
    "ax[1].set_ylim(0,0.45)\n"
   ]
  }
 ],
 "metadata": {
  "kernelspec": {
   "display_name": "Python 3",
   "language": "python",
   "name": "python3"
  },
  "language_info": {
   "codemirror_mode": {
    "name": "ipython",
    "version": 3
   },
   "file_extension": ".py",
   "mimetype": "text/x-python",
   "name": "python",
   "nbconvert_exporter": "python",
   "pygments_lexer": "ipython3",
   "version": "3.7.4"
  },
  "pycharm": {
   "stem_cell": {
    "cell_type": "raw",
    "metadata": {
     "collapsed": false
    },
    "source": []
   }
  }
 },
 "nbformat": 4,
 "nbformat_minor": 0
}
