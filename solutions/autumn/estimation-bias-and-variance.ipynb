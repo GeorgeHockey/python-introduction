{
 "cells": [
  {
   "cell_type": "markdown",
   "metadata": {
    "collapsed": true,
    "pycharm": {
     "name": "#%% md\n"
    }
   },
   "source": [
    "## Bias and Verification of Standard Errors\n",
    "\n",
    "Functions\n",
    "\n",
    "sum, mean, cov, bsxfun, fminunc, normcdf, normpdf, norminv, pltdens, chi2rnd, rand, plot, title, axis, legend"
   ]
  },
  {
   "cell_type": "markdown",
   "source": [
    "### Exercise 24.\n",
    "Simulate a set of i.i.d. $\\chi_{5}^{2}$ random variables and use the method of moments\n",
    "to estimate the mean and variance."
   ],
   "metadata": {
    "collapsed": false
   }
  },
  {
   "cell_type": "code",
   "execution_count": null,
   "outputs": [],
   "source": [],
   "metadata": {
    "collapsed": false,
    "pycharm": {
     "name": "#%%\n"
    }
   }
  },
  {
   "cell_type": "markdown",
   "source": [
    "### Exercise 25.\n",
    "Compute the asymptotic variance of the method of moment estimator."
   ],
   "metadata": {
    "collapsed": false,
    "pycharm": {
     "name": "#%% md\n"
    }
   }
  },
  {
   "cell_type": "code",
   "execution_count": null,
   "outputs": [],
   "source": [],
   "metadata": {
    "collapsed": false,
    "pycharm": {
     "name": "#%%\n"
    }
   }
  },
  {
   "cell_type": "markdown",
   "source": [
    "### Exercise 26.\n",
    "Repeat Exercises 24 and 25 a total of 1000 times.\n",
    "Examine the finite sample bias of these estimators relative to the true values."
   ],
   "metadata": {
    "collapsed": false,
    "pycharm": {
     "name": "#%% md\n"
    }
   }
  },
  {
   "cell_type": "code",
   "execution_count": null,
   "outputs": [],
   "source": [],
   "metadata": {
    "collapsed": false,
    "pycharm": {
     "name": "#%%\n"
    }
   }
  },
  {
   "cell_type": "markdown",
   "source": [
    "### Exercise 27.\n",
    "Repeat Exercises 24 and 25 a total of 1000 times.\n",
    "Compare the covariance of the estimated means and variance (1000 of each) to the asymptotic covariance of the parameters (use the average of the 1000 estimated variance-covariances). Are these close? How does the sample size affect this?"
   ],
   "metadata": {
    "collapsed": false,
    "pycharm": {
     "name": "#%% md\n"
    }
   }
  },
  {
   "cell_type": "code",
   "execution_count": null,
   "outputs": [],
   "source": [],
   "metadata": {
    "collapsed": false,
    "pycharm": {
     "name": "#%%\n"
    }
   }
  },
  {
   "cell_type": "markdown",
   "source": [
    "### Exercise 28.\n",
    "In the previous problem, for each parameter, form a standardized parameter estimate as\n",
    "\n",
    "$$z_{i}=\\frac{\\sqrt{n}\\left(\\hat{\\theta}_{i}-\\theta_{i,0}\\right)}{\\sqrt{\\hat{\\Sigma}_{ii}}}$$ \n",
    "\n",
    "where\n",
    "\n",
    "$$\\sqrt{n}\\left(\\hat{\\theta}-\\theta_{0}\\right)\\stackrel{d}{\\rightarrow} N\\left(0,\\Sigma\\right)$$\n",
    "\n",
    "so that $\\hat{\\Sigma}$ is the estimated asymptotic covariance. What percent of these $z_{i}$\n",
    "are larger in absolute value than 10%, 5% and 1% 2-sided critical values from a normal?"
   ],
   "metadata": {
    "collapsed": false,
    "pycharm": {
     "name": "#%% md\n"
    }
   }
  },
  {
   "cell_type": "code",
   "execution_count": null,
   "outputs": [],
   "source": [],
   "metadata": {
    "collapsed": false,
    "pycharm": {
     "name": "#%%\n"
    }
   }
  },
  {
   "cell_type": "markdown",
   "source": [
    "### Exercise 29.\n",
    "Produce a density plot of the $z_{i}$ standardized parameters and compare to a standard normal."
   ],
   "metadata": {
    "collapsed": false,
    "pycharm": {
     "name": "#%% md\n"
    }
   }
  },
  {
   "cell_type": "code",
   "execution_count": null,
   "outputs": [],
   "source": [],
   "metadata": {
    "collapsed": false,
    "pycharm": {
     "name": "#%%\n"
    }
   }
  },
  {
   "cell_type": "markdown",
   "source": [
    "### Exercise 30.\n",
    "Repeat the same exercise for the Bernoulli problem from the previous question."
   ],
   "metadata": {
    "collapsed": false,
    "pycharm": {
     "name": "#%% md\n"
    }
   }
  },
  {
   "cell_type": "code",
   "execution_count": null,
   "outputs": [],
   "source": [],
   "metadata": {
    "collapsed": false,
    "pycharm": {
     "name": "#%%\n"
    }
   }
  }
 ],
 "metadata": {
  "kernelspec": {
   "display_name": "Python 3",
   "language": "python",
   "name": "python3"
  },
  "language_info": {
   "codemirror_mode": {
    "name": "ipython",
    "version": 2
   },
   "file_extension": ".py",
   "mimetype": "text/x-python",
   "name": "python",
   "nbconvert_exporter": "python",
   "pygments_lexer": "ipython2",
   "version": "2.7.6"
  },
  "pycharm": {
   "stem_cell": {
    "cell_type": "raw",
    "source": [],
    "metadata": {
     "collapsed": false
    }
   }
  }
 },
 "nbformat": 4,
 "nbformat_minor": 0
}