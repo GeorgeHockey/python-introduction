{
 "cells": [
  {
   "cell_type": "markdown",
   "metadata": {
    "collapsed": false
   },
   "source": [
    "# Custom Functions\n",
    "\n",
    "This lesson covers:\n",
    "\n",
    "* Writing a custom function "
   ]
  },
  {
   "cell_type": "markdown",
   "metadata": {
    "collapsed": false
   },
   "source": [
    "## Problem: Writing a Custom Function\n",
    "Custom functions will play an important role later in the course when estimating parameters.\n",
    "Construct a custom function that takes two arguments, mu and sigma2 and computes the\n",
    "likelihood function of a normal random variable \n",
    "\n",
    "$$f(x;\\mu,\\sigma^{2})=\\frac{1}{\\sqrt{2\\pi\\sigma^{2}}}\\exp\\left(-\\frac{(x-\\mu)^{2}}{2\\sigma^{2}}\\right)$$\n",
    "\n",
    "Use `def` to start the function and compute the likelihood of: $$x=0,\\mu=0,\\sigma^{2}=1.$$\n",
    "\n",
    "The text in the triple quotes is the docstring which is optional."
   ]
  },
  {
   "cell_type": "code",
   "execution_count": 1,
   "metadata": {
    "collapsed": false,
    "pycharm": {
     "name": "#%%\n"
    }
   },
   "outputs": [
    {
     "name": "stdout",
     "output_type": "stream",
     "text": [
      "0.3989422804014327\n",
      "0.3989422804014327\n"
     ]
    }
   ],
   "source": [
    "import numpy as np\n",
    "import scipy.stats as stats\n",
    "\n",
    "def normal_likelihood(x, mu, sigma2):\n",
    "    \"\"\"\n",
    "    Compute the normal likelihood for a scalar value\n",
    "    \n",
    "    Parameters\n",
    "    ----------\n",
    "    x : float\n",
    "       The point ot evaluate\n",
    "    mu : float\n",
    "       The mean\n",
    "    sigma2 : float\n",
    "        The variance\n",
    "    \n",
    "    Returns\n",
    "    -------\n",
    "    float\n",
    "        The likelihood value.\n",
    "    \"\"\"\n",
    "    a = 1 / np.sqrt((2 * np.pi * sigma2))\n",
    "    b = (x-mu) ** 2\n",
    "    c = 2 * sigma2\n",
    "    ll = a * np.exp(-b / c)\n",
    "    # Must call return to send a value back\n",
    "    return ll\n",
    "\n",
    "print(normal_likelihood(0, 0, 1))\n",
    "\n",
    "# Built into SciPy stats, should match\n",
    "print(stats.norm.pdf(0, 0, 1))"
   ]
  },
  {
   "cell_type": "markdown",
   "metadata": {
    "collapsed": false
   },
   "source": [
    "## Exercises\n",
    "\n",
    "### Exercise: Custom Function\n",
    "\n",
    "Write a function named summary_stats that will take a single input, x, a DataFrame and return a \n",
    "DataFrame with 4 columns and as many rows as there were columns in the original data where the\n",
    "columns contain the mean, standard deviation, skewness and kurtosis of x. \n"
   ]
  },
  {
   "cell_type": "markdown",
   "metadata": {
    "collapsed": false
   },
   "source": [
    "### Exercise: Custom Function\n",
    "\n",
    "Change your previous function to return 4 outputs, each a pandas Series for the mean,\n",
    "standard deviation, skewness, and the kurtosis.\n",
    "\n",
    "Returning multiple outputs uses the syntax\n",
    "```python\n",
    "return w, x, y, z\n",
    "```"
   ]
  }
 ],
 "metadata": {
  "kernelspec": {
   "display_name": "Python 3",
   "language": "python",
   "name": "python3"
  },
  "language_info": {
   "codemirror_mode": {
    "name": "ipython",
    "version": 3
   },
   "file_extension": ".py",
   "mimetype": "text/x-python",
   "name": "python",
   "nbconvert_exporter": "python",
   "pygments_lexer": "ipython3",
   "version": "3.7.4"
  },
  "pycharm": {
   "stem_cell": {
    "cell_type": "raw",
    "metadata": {
     "collapsed": false
    },
    "source": []
   }
  }
 },
 "nbformat": 4,
 "nbformat_minor": 0
}
