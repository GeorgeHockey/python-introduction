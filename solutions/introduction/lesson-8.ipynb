{
 "cells": [
  {
   "cell_type": "markdown",
   "metadata": {},
   "outputs": [],
   "source": [
    "# Using DataFrames\n",
    "\n",
    "This lesson introduces:\n",
    "\n",
    "* Computing returns (percentage change)\n",
    "* Basic mathematical operations on DataFrames\n",
    "* Common DataFrame methods (functions)\n",
    "\n",
    "This first cell load data for use in this lesson."
   ]
  },
  {
   "cell_type": "code",
   "execution_count": 1,
   "metadata": {
    "pycharm": {
     "is_executing": false
    }
   },
   "outputs": [],
   "source": [
    "# Setup: Load prices\n",
    "import pandas as pd\n",
    "prices = pd.read_hdf(\"data/dataframes.h5\", \"prices\")\n",
    "sep_04 = pd.read_hdf(\"data/dataframes.h5\", \"sep_04\")\n",
    "goog = pd.read_hdf(\"data/dataframes.h5\", \"goog\")"
   ]
  },
  {
   "cell_type": "markdown",
   "metadata": {
    "pycharm": {
     "name": "#%% md\n"
    }
   },
   "outputs": [],
   "source": [
    "## Problem: Compute Returns\n",
    "\n",
    "Compute returns using \n",
    "\n",
    "```python\n",
    "returns = prices.pct_change()\n",
    "```\n",
    "\n",
    "which computes the percentage change.\n",
    "\n",
    "Additionally, extract returns for each name using \n",
    "\n",
    "```python\n",
    "spy_returns = returns[\"SPY\"]\n",
    "```"
   ]
  },
  {
   "cell_type": "code",
   "execution_count": 2,
   "metadata": {
    "pycharm": {
     "is_executing": false
    }
   },
   "outputs": [
    {
     "data": {
      "text/plain": "                 SPY      GOOG      AAPL\n2018-04-09       NaN       NaN       NaN\n2018-05-09 -0.002691 -0.006525 -0.008789\n2018-06-09 -0.003010 -0.016617 -0.012676\n2018-07-09 -0.001943 -0.008068 -0.005643\n2018-10-09  0.001739 -0.013421 -0.000163",
      "text/html": "<div>\n<style scoped>\n    .dataframe tbody tr th:only-of-type {\n        vertical-align: middle;\n    }\n\n    .dataframe tbody tr th {\n        vertical-align: top;\n    }\n\n    .dataframe thead th {\n        text-align: right;\n    }\n</style>\n<table border=\"1\" class=\"dataframe\">\n  <thead>\n    <tr style=\"text-align: right;\">\n      <th></th>\n      <th>SPY</th>\n      <th>GOOG</th>\n      <th>AAPL</th>\n    </tr>\n  </thead>\n  <tbody>\n    <tr>\n      <td>2018-04-09</td>\n      <td>NaN</td>\n      <td>NaN</td>\n      <td>NaN</td>\n    </tr>\n    <tr>\n      <td>2018-05-09</td>\n      <td>-0.002691</td>\n      <td>-0.006525</td>\n      <td>-0.008789</td>\n    </tr>\n    <tr>\n      <td>2018-06-09</td>\n      <td>-0.003010</td>\n      <td>-0.016617</td>\n      <td>-0.012676</td>\n    </tr>\n    <tr>\n      <td>2018-07-09</td>\n      <td>-0.001943</td>\n      <td>-0.008068</td>\n      <td>-0.005643</td>\n    </tr>\n    <tr>\n      <td>2018-10-09</td>\n      <td>0.001739</td>\n      <td>-0.013421</td>\n      <td>-0.000163</td>\n    </tr>\n  </tbody>\n</table>\n</div>"
     },
     "metadata": {},
     "output_type": "execute_result",
     "execution_count": 2
    }
   ],
   "source": [
    "returns = prices.pct_change()\n",
    "returns.head()"
   ]
  },
  {
   "cell_type": "code",
   "execution_count": 3,
   "metadata": {
    "pycharm": {
     "is_executing": false
    }
   },
   "outputs": [
    {
     "data": {
      "text/plain": "                 SPY      GOOG      AAPL\n2018-05-09 -0.002691 -0.006525 -0.008789\n2018-06-09 -0.003010 -0.016617 -0.012676\n2018-07-09 -0.001943 -0.008068 -0.005643\n2018-10-09  0.001739 -0.013421 -0.000163\n2018-11-09  0.003297  0.025283  0.010922\n2018-12-09  0.000242 -0.012419 -0.012350\n2018-09-13  0.005914  0.024155  0.010758\n2018-09-14  0.000172 -0.011351 -0.002382\n2018-09-17 -0.005294 -0.026626 -0.014055\n2018-09-18  0.005426  0.001652  0.004472\n2018-09-19  0.001822 -0.007331 -0.002101",
      "text/html": "<div>\n<style scoped>\n    .dataframe tbody tr th:only-of-type {\n        vertical-align: middle;\n    }\n\n    .dataframe tbody tr th {\n        vertical-align: top;\n    }\n\n    .dataframe thead th {\n        text-align: right;\n    }\n</style>\n<table border=\"1\" class=\"dataframe\">\n  <thead>\n    <tr style=\"text-align: right;\">\n      <th></th>\n      <th>SPY</th>\n      <th>GOOG</th>\n      <th>AAPL</th>\n    </tr>\n  </thead>\n  <tbody>\n    <tr>\n      <td>2018-05-09</td>\n      <td>-0.002691</td>\n      <td>-0.006525</td>\n      <td>-0.008789</td>\n    </tr>\n    <tr>\n      <td>2018-06-09</td>\n      <td>-0.003010</td>\n      <td>-0.016617</td>\n      <td>-0.012676</td>\n    </tr>\n    <tr>\n      <td>2018-07-09</td>\n      <td>-0.001943</td>\n      <td>-0.008068</td>\n      <td>-0.005643</td>\n    </tr>\n    <tr>\n      <td>2018-10-09</td>\n      <td>0.001739</td>\n      <td>-0.013421</td>\n      <td>-0.000163</td>\n    </tr>\n    <tr>\n      <td>2018-11-09</td>\n      <td>0.003297</td>\n      <td>0.025283</td>\n      <td>0.010922</td>\n    </tr>\n    <tr>\n      <td>2018-12-09</td>\n      <td>0.000242</td>\n      <td>-0.012419</td>\n      <td>-0.012350</td>\n    </tr>\n    <tr>\n      <td>2018-09-13</td>\n      <td>0.005914</td>\n      <td>0.024155</td>\n      <td>0.010758</td>\n    </tr>\n    <tr>\n      <td>2018-09-14</td>\n      <td>0.000172</td>\n      <td>-0.011351</td>\n      <td>-0.002382</td>\n    </tr>\n    <tr>\n      <td>2018-09-17</td>\n      <td>-0.005294</td>\n      <td>-0.026626</td>\n      <td>-0.014055</td>\n    </tr>\n    <tr>\n      <td>2018-09-18</td>\n      <td>0.005426</td>\n      <td>0.001652</td>\n      <td>0.004472</td>\n    </tr>\n    <tr>\n      <td>2018-09-19</td>\n      <td>0.001822</td>\n      <td>-0.007331</td>\n      <td>-0.002101</td>\n    </tr>\n  </tbody>\n</table>\n</div>"
     },
     "metadata": {},
     "output_type": "execute_result",
     "execution_count": 3
    }
   ],
   "source": [
    "# First row is missing since no data on Sep 3, can use .dropna() to remove rows with missing values\n",
    "returns = returns.dropna()\n",
    "returns"
   ]
  },
  {
   "cell_type": "code",
   "execution_count": 4,
   "metadata": {
    "pycharm": {
     "is_executing": false
    }
   },
   "outputs": [],
   "source": [
    "spy_returns = returns[\"SPY\"]\n",
    "goog_returns = returns.GOOG\n",
    "aapl_returns = returns[\"AAPL\"]"
   ]
  },
  {
   "cell_type": "markdown",
   "metadata": {},
   "outputs": [],
   "source": [
    "## Problem: Compute Log Returns\n",
    "\n",
    "```python\n",
    "import numpy as np\n",
    "\n",
    "log_returns = np.log(prices).diff()\n",
    "```\n",
    "\n",
    "first difference of the natural log of the prices. Mathematically this is \n",
    "$r_{t}=\\ln\\left(P_{t}\\right)-\\ln\\left(P_{t-1}\\right)=\\ln\\left(\\frac{P_{t}}{P_{t-1}}\\right)\\approx\\frac{P_{t}}{P_{t-1}}-1$."
   ]
  },
  {
   "cell_type": "code",
   "execution_count": 5,
   "metadata": {
    "pycharm": {
     "is_executing": false
    }
   },
   "outputs": [
    {
     "data": {
      "text/plain": "                 SPY      GOOG      AAPL\n2018-04-09       NaN       NaN       NaN\n2018-05-09 -0.002695 -0.006546 -0.008827\n2018-06-09 -0.003015 -0.016757 -0.012757\n2018-07-09 -0.001945 -0.008101 -0.005659\n2018-10-09  0.001737 -0.013512 -0.000163\n2018-11-09  0.003292  0.024969  0.010863\n2018-12-09  0.000242 -0.012497 -0.012427\n2018-09-13  0.005897  0.023868  0.010701\n2018-09-14  0.000172 -0.011416 -0.002385\n2018-09-17 -0.005308 -0.026987 -0.014155\n2018-09-18  0.005411  0.001651  0.004462\n2018-09-19  0.001820 -0.007358 -0.002103",
      "text/html": "<div>\n<style scoped>\n    .dataframe tbody tr th:only-of-type {\n        vertical-align: middle;\n    }\n\n    .dataframe tbody tr th {\n        vertical-align: top;\n    }\n\n    .dataframe thead th {\n        text-align: right;\n    }\n</style>\n<table border=\"1\" class=\"dataframe\">\n  <thead>\n    <tr style=\"text-align: right;\">\n      <th></th>\n      <th>SPY</th>\n      <th>GOOG</th>\n      <th>AAPL</th>\n    </tr>\n  </thead>\n  <tbody>\n    <tr>\n      <td>2018-04-09</td>\n      <td>NaN</td>\n      <td>NaN</td>\n      <td>NaN</td>\n    </tr>\n    <tr>\n      <td>2018-05-09</td>\n      <td>-0.002695</td>\n      <td>-0.006546</td>\n      <td>-0.008827</td>\n    </tr>\n    <tr>\n      <td>2018-06-09</td>\n      <td>-0.003015</td>\n      <td>-0.016757</td>\n      <td>-0.012757</td>\n    </tr>\n    <tr>\n      <td>2018-07-09</td>\n      <td>-0.001945</td>\n      <td>-0.008101</td>\n      <td>-0.005659</td>\n    </tr>\n    <tr>\n      <td>2018-10-09</td>\n      <td>0.001737</td>\n      <td>-0.013512</td>\n      <td>-0.000163</td>\n    </tr>\n    <tr>\n      <td>2018-11-09</td>\n      <td>0.003292</td>\n      <td>0.024969</td>\n      <td>0.010863</td>\n    </tr>\n    <tr>\n      <td>2018-12-09</td>\n      <td>0.000242</td>\n      <td>-0.012497</td>\n      <td>-0.012427</td>\n    </tr>\n    <tr>\n      <td>2018-09-13</td>\n      <td>0.005897</td>\n      <td>0.023868</td>\n      <td>0.010701</td>\n    </tr>\n    <tr>\n      <td>2018-09-14</td>\n      <td>0.000172</td>\n      <td>-0.011416</td>\n      <td>-0.002385</td>\n    </tr>\n    <tr>\n      <td>2018-09-17</td>\n      <td>-0.005308</td>\n      <td>-0.026987</td>\n      <td>-0.014155</td>\n    </tr>\n    <tr>\n      <td>2018-09-18</td>\n      <td>0.005411</td>\n      <td>0.001651</td>\n      <td>0.004462</td>\n    </tr>\n    <tr>\n      <td>2018-09-19</td>\n      <td>0.001820</td>\n      <td>-0.007358</td>\n      <td>-0.002103</td>\n    </tr>\n  </tbody>\n</table>\n</div>"
     },
     "metadata": {},
     "output_type": "execute_result",
     "execution_count": 5
    }
   ],
   "source": [
    "import numpy as np\n",
    "\n",
    "log_returns = np.log(prices).diff()\n",
    "log_returns"
   ]
  },
  {
   "cell_type": "markdown",
   "metadata": {
    "pycharm": {
     "name": "#%% md\n"
    }
   },
   "outputs": [],
   "source": [
    "## Problem: Basic Mathematical Operations\n",
    "\n",
    "|  Operation            | Symbol | Precedence |\n",
    "|:----------------------|:------:|:----------:|\n",
    "| Parentheses           | ()     | 4          |\n",
    "| Exponentiation        | **     | 3          |\n",
    "| Multiplication        | *      | 2          | \n",
    "| Division              | /      | 2          |\n",
    "| Floor division        | //     | 2          |\n",
    "| Modulus               | %      | 2          | \n",
    "| Matrix multiplication | @      | 2          |\n",
    "| Addition              | +      | 1          |\n",
    "| Subtraction           | -      | 1          |\n",
    "\n",
    "**Note**: Higher precedence operators are evaluated first, and ties are\n",
    "evaluated left to right. \n",
    "\n",
    "1. Add 1 to all returns\n",
    "2. Square the returns\n",
    "3. Multiply the price of Google by 2. \n",
    "4. Extract the fractional return using floor division and modulus\n",
    "5. Add the returns on SPY to those of AAPL "
   ]
  },
  {
   "cell_type": "code",
   "execution_count": 6,
   "metadata": {
    "pycharm": {
     "is_executing": false
    }
   },
   "outputs": [
    {
     "data": {
      "text/plain": "                 SPY      GOOG      AAPL\n2018-05-09  0.997309  0.993475  0.991211\n2018-06-09  0.996990  0.983383  0.987324\n2018-07-09  0.998057  0.991932  0.994357\n2018-10-09  1.001739  0.986579  0.999837\n2018-11-09  1.003297  1.025283  1.010922\n2018-12-09  1.000242  0.987581  0.987650\n2018-09-13  1.005914  1.024155  1.010758\n2018-09-14  1.000172  0.988649  0.997618\n2018-09-17  0.994706  0.973374  0.985945\n2018-09-18  1.005426  1.001652  1.004472\n2018-09-19  1.001822  0.992669  0.997899",
      "text/html": "<div>\n<style scoped>\n    .dataframe tbody tr th:only-of-type {\n        vertical-align: middle;\n    }\n\n    .dataframe tbody tr th {\n        vertical-align: top;\n    }\n\n    .dataframe thead th {\n        text-align: right;\n    }\n</style>\n<table border=\"1\" class=\"dataframe\">\n  <thead>\n    <tr style=\"text-align: right;\">\n      <th></th>\n      <th>SPY</th>\n      <th>GOOG</th>\n      <th>AAPL</th>\n    </tr>\n  </thead>\n  <tbody>\n    <tr>\n      <td>2018-05-09</td>\n      <td>0.997309</td>\n      <td>0.993475</td>\n      <td>0.991211</td>\n    </tr>\n    <tr>\n      <td>2018-06-09</td>\n      <td>0.996990</td>\n      <td>0.983383</td>\n      <td>0.987324</td>\n    </tr>\n    <tr>\n      <td>2018-07-09</td>\n      <td>0.998057</td>\n      <td>0.991932</td>\n      <td>0.994357</td>\n    </tr>\n    <tr>\n      <td>2018-10-09</td>\n      <td>1.001739</td>\n      <td>0.986579</td>\n      <td>0.999837</td>\n    </tr>\n    <tr>\n      <td>2018-11-09</td>\n      <td>1.003297</td>\n      <td>1.025283</td>\n      <td>1.010922</td>\n    </tr>\n    <tr>\n      <td>2018-12-09</td>\n      <td>1.000242</td>\n      <td>0.987581</td>\n      <td>0.987650</td>\n    </tr>\n    <tr>\n      <td>2018-09-13</td>\n      <td>1.005914</td>\n      <td>1.024155</td>\n      <td>1.010758</td>\n    </tr>\n    <tr>\n      <td>2018-09-14</td>\n      <td>1.000172</td>\n      <td>0.988649</td>\n      <td>0.997618</td>\n    </tr>\n    <tr>\n      <td>2018-09-17</td>\n      <td>0.994706</td>\n      <td>0.973374</td>\n      <td>0.985945</td>\n    </tr>\n    <tr>\n      <td>2018-09-18</td>\n      <td>1.005426</td>\n      <td>1.001652</td>\n      <td>1.004472</td>\n    </tr>\n    <tr>\n      <td>2018-09-19</td>\n      <td>1.001822</td>\n      <td>0.992669</td>\n      <td>0.997899</td>\n    </tr>\n  </tbody>\n</table>\n</div>"
     },
     "metadata": {},
     "output_type": "execute_result",
     "execution_count": 6
    }
   ],
   "source": [
    "1 + returns"
   ]
  },
  {
   "cell_type": "code",
   "execution_count": 7,
   "metadata": {
    "pycharm": {
     "is_executing": false
    }
   },
   "outputs": [
    {
     "data": {
      "text/plain": "                     SPY      GOOG          AAPL\n2018-05-09  7.243734e-06  0.000043  7.724016e-05\n2018-06-09  9.060510e-06  0.000276  1.606848e-04\n2018-07-09  3.776667e-06  0.000065  3.183925e-05\n2018-10-09  3.022472e-06  0.000180  2.660615e-08\n2018-11-09  1.087328e-05  0.000639  1.192864e-04\n2018-12-09  5.864758e-08  0.000154  1.525142e-04\n2018-09-13  3.498130e-05  0.000583  1.157416e-04\n2018-09-14  2.955709e-08  0.000129  5.675399e-06\n2018-09-17  2.802939e-05  0.000709  1.975452e-04\n2018-09-18  2.944302e-05  0.000003  1.999990e-05\n2018-09-19  3.319208e-06  0.000054  4.415203e-06",
      "text/html": "<div>\n<style scoped>\n    .dataframe tbody tr th:only-of-type {\n        vertical-align: middle;\n    }\n\n    .dataframe tbody tr th {\n        vertical-align: top;\n    }\n\n    .dataframe thead th {\n        text-align: right;\n    }\n</style>\n<table border=\"1\" class=\"dataframe\">\n  <thead>\n    <tr style=\"text-align: right;\">\n      <th></th>\n      <th>SPY</th>\n      <th>GOOG</th>\n      <th>AAPL</th>\n    </tr>\n  </thead>\n  <tbody>\n    <tr>\n      <td>2018-05-09</td>\n      <td>7.243734e-06</td>\n      <td>0.000043</td>\n      <td>7.724016e-05</td>\n    </tr>\n    <tr>\n      <td>2018-06-09</td>\n      <td>9.060510e-06</td>\n      <td>0.000276</td>\n      <td>1.606848e-04</td>\n    </tr>\n    <tr>\n      <td>2018-07-09</td>\n      <td>3.776667e-06</td>\n      <td>0.000065</td>\n      <td>3.183925e-05</td>\n    </tr>\n    <tr>\n      <td>2018-10-09</td>\n      <td>3.022472e-06</td>\n      <td>0.000180</td>\n      <td>2.660615e-08</td>\n    </tr>\n    <tr>\n      <td>2018-11-09</td>\n      <td>1.087328e-05</td>\n      <td>0.000639</td>\n      <td>1.192864e-04</td>\n    </tr>\n    <tr>\n      <td>2018-12-09</td>\n      <td>5.864758e-08</td>\n      <td>0.000154</td>\n      <td>1.525142e-04</td>\n    </tr>\n    <tr>\n      <td>2018-09-13</td>\n      <td>3.498130e-05</td>\n      <td>0.000583</td>\n      <td>1.157416e-04</td>\n    </tr>\n    <tr>\n      <td>2018-09-14</td>\n      <td>2.955709e-08</td>\n      <td>0.000129</td>\n      <td>5.675399e-06</td>\n    </tr>\n    <tr>\n      <td>2018-09-17</td>\n      <td>2.802939e-05</td>\n      <td>0.000709</td>\n      <td>1.975452e-04</td>\n    </tr>\n    <tr>\n      <td>2018-09-18</td>\n      <td>2.944302e-05</td>\n      <td>0.000003</td>\n      <td>1.999990e-05</td>\n    </tr>\n    <tr>\n      <td>2018-09-19</td>\n      <td>3.319208e-06</td>\n      <td>0.000054</td>\n      <td>4.415203e-06</td>\n    </tr>\n  </tbody>\n</table>\n</div>"
     },
     "metadata": {},
     "output_type": "execute_result",
     "execution_count": 7
    }
   ],
   "source": [
    "returns ** 2"
   ]
  },
  {
   "cell_type": "code",
   "execution_count": 8,
   "metadata": {
    "pycharm": {
     "is_executing": false
    }
   },
   "outputs": [
    {
     "data": {
      "text/plain": "2018-04-09    2394.00\n2018-05-09    2372.96\n2018-06-09    2342.88\n2018-07-09    2329.66\n2018-10-09    2329.28\n2018-11-09    2354.72\n2018-12-09    2325.64\n2018-09-13    2350.66\n2018-09-14    2345.06\n2018-09-17    2312.10\n2018-09-18    2322.44\n2018-09-19    2317.56\nName: GOOG, dtype: float64"
     },
     "metadata": {},
     "output_type": "execute_result",
     "execution_count": 8
    }
   ],
   "source": [
    "2 * goog"
   ]
  },
  {
   "cell_type": "code",
   "execution_count": 9,
   "metadata": {
    "pycharm": {
     "is_executing": false
    }
   },
   "outputs": [
    {
     "data": {
      "text/plain": "                 SPY      GOOG      AAPL\n2018-05-09  0.997309  0.993475  0.991211\n2018-06-09  0.996990  0.983383  0.987324\n2018-07-09  0.998057  0.991932  0.994357\n2018-10-09  0.001739  0.986579  0.999837\n2018-11-09  0.003297  0.025283  0.010922\n2018-12-09  0.000242  0.987581  0.987650\n2018-09-13  0.005914  0.024155  0.010758\n2018-09-14  0.000172  0.988649  0.997618\n2018-09-17  0.994706  0.973374  0.985945\n2018-09-18  0.005426  0.001652  0.004472\n2018-09-19  0.001822  0.992669  0.997899",
      "text/html": "<div>\n<style scoped>\n    .dataframe tbody tr th:only-of-type {\n        vertical-align: middle;\n    }\n\n    .dataframe tbody tr th {\n        vertical-align: top;\n    }\n\n    .dataframe thead th {\n        text-align: right;\n    }\n</style>\n<table border=\"1\" class=\"dataframe\">\n  <thead>\n    <tr style=\"text-align: right;\">\n      <th></th>\n      <th>SPY</th>\n      <th>GOOG</th>\n      <th>AAPL</th>\n    </tr>\n  </thead>\n  <tbody>\n    <tr>\n      <td>2018-05-09</td>\n      <td>0.997309</td>\n      <td>0.993475</td>\n      <td>0.991211</td>\n    </tr>\n    <tr>\n      <td>2018-06-09</td>\n      <td>0.996990</td>\n      <td>0.983383</td>\n      <td>0.987324</td>\n    </tr>\n    <tr>\n      <td>2018-07-09</td>\n      <td>0.998057</td>\n      <td>0.991932</td>\n      <td>0.994357</td>\n    </tr>\n    <tr>\n      <td>2018-10-09</td>\n      <td>0.001739</td>\n      <td>0.986579</td>\n      <td>0.999837</td>\n    </tr>\n    <tr>\n      <td>2018-11-09</td>\n      <td>0.003297</td>\n      <td>0.025283</td>\n      <td>0.010922</td>\n    </tr>\n    <tr>\n      <td>2018-12-09</td>\n      <td>0.000242</td>\n      <td>0.987581</td>\n      <td>0.987650</td>\n    </tr>\n    <tr>\n      <td>2018-09-13</td>\n      <td>0.005914</td>\n      <td>0.024155</td>\n      <td>0.010758</td>\n    </tr>\n    <tr>\n      <td>2018-09-14</td>\n      <td>0.000172</td>\n      <td>0.988649</td>\n      <td>0.997618</td>\n    </tr>\n    <tr>\n      <td>2018-09-17</td>\n      <td>0.994706</td>\n      <td>0.973374</td>\n      <td>0.985945</td>\n    </tr>\n    <tr>\n      <td>2018-09-18</td>\n      <td>0.005426</td>\n      <td>0.001652</td>\n      <td>0.004472</td>\n    </tr>\n    <tr>\n      <td>2018-09-19</td>\n      <td>0.001822</td>\n      <td>0.992669</td>\n      <td>0.997899</td>\n    </tr>\n  </tbody>\n</table>\n</div>"
     },
     "metadata": {},
     "output_type": "execute_result",
     "execution_count": 9
    }
   ],
   "source": [
    "returns % 1"
   ]
  },
  {
   "cell_type": "code",
   "execution_count": 10,
   "metadata": {
    "pycharm": {
     "is_executing": false
    }
   },
   "outputs": [
    {
     "data": {
      "text/plain": "                 SPY      GOOG      AAPL\n2018-05-09  0.997309  0.993475  0.991211\n2018-06-09  0.996990  0.983383  0.987324\n2018-07-09  0.998057  0.991932  0.994357\n2018-10-09  0.001739  0.986579  0.999837\n2018-11-09  0.003297  0.025283  0.010922\n2018-12-09  0.000242  0.987581  0.987650\n2018-09-13  0.005914  0.024155  0.010758\n2018-09-14  0.000172  0.988649  0.997618\n2018-09-17  0.994706  0.973374  0.985945\n2018-09-18  0.005426  0.001652  0.004472\n2018-09-19  0.001822  0.992669  0.997899",
      "text/html": "<div>\n<style scoped>\n    .dataframe tbody tr th:only-of-type {\n        vertical-align: middle;\n    }\n\n    .dataframe tbody tr th {\n        vertical-align: top;\n    }\n\n    .dataframe thead th {\n        text-align: right;\n    }\n</style>\n<table border=\"1\" class=\"dataframe\">\n  <thead>\n    <tr style=\"text-align: right;\">\n      <th></th>\n      <th>SPY</th>\n      <th>GOOG</th>\n      <th>AAPL</th>\n    </tr>\n  </thead>\n  <tbody>\n    <tr>\n      <td>2018-05-09</td>\n      <td>0.997309</td>\n      <td>0.993475</td>\n      <td>0.991211</td>\n    </tr>\n    <tr>\n      <td>2018-06-09</td>\n      <td>0.996990</td>\n      <td>0.983383</td>\n      <td>0.987324</td>\n    </tr>\n    <tr>\n      <td>2018-07-09</td>\n      <td>0.998057</td>\n      <td>0.991932</td>\n      <td>0.994357</td>\n    </tr>\n    <tr>\n      <td>2018-10-09</td>\n      <td>0.001739</td>\n      <td>0.986579</td>\n      <td>0.999837</td>\n    </tr>\n    <tr>\n      <td>2018-11-09</td>\n      <td>0.003297</td>\n      <td>0.025283</td>\n      <td>0.010922</td>\n    </tr>\n    <tr>\n      <td>2018-12-09</td>\n      <td>0.000242</td>\n      <td>0.987581</td>\n      <td>0.987650</td>\n    </tr>\n    <tr>\n      <td>2018-09-13</td>\n      <td>0.005914</td>\n      <td>0.024155</td>\n      <td>0.010758</td>\n    </tr>\n    <tr>\n      <td>2018-09-14</td>\n      <td>0.000172</td>\n      <td>0.988649</td>\n      <td>0.997618</td>\n    </tr>\n    <tr>\n      <td>2018-09-17</td>\n      <td>0.994706</td>\n      <td>0.973374</td>\n      <td>0.985945</td>\n    </tr>\n    <tr>\n      <td>2018-09-18</td>\n      <td>0.005426</td>\n      <td>0.001652</td>\n      <td>0.004472</td>\n    </tr>\n    <tr>\n      <td>2018-09-19</td>\n      <td>0.001822</td>\n      <td>0.992669</td>\n      <td>0.997899</td>\n    </tr>\n  </tbody>\n</table>\n</div>"
     },
     "metadata": {},
     "output_type": "execute_result",
     "execution_count": 10
    }
   ],
   "source": [
    "returns - returns // 1"
   ]
  },
  {
   "cell_type": "code",
   "execution_count": 11,
   "metadata": {
    "pycharm": {
     "is_executing": false
    }
   },
   "outputs": [
    {
     "data": {
      "text/plain": "2018-05-09   -0.011480\n2018-06-09   -0.015686\n2018-07-09   -0.007586\n2018-10-09    0.001575\n2018-11-09    0.014219\n2018-12-09   -0.012107\n2018-09-13    0.016673\n2018-09-14   -0.002210\n2018-09-17   -0.019349\n2018-09-18    0.009898\n2018-09-19   -0.000279\ndtype: float64"
     },
     "metadata": {},
     "output_type": "execute_result",
     "execution_count": 11
    }
   ],
   "source": [
    "spy_returns + aapl_returns"
   ]
  },
  {
   "cell_type": "markdown",
   "metadata": {},
   "outputs": [],
   "source": [
    "## Problem: Non-conformable math\n",
    "\n",
    "Add the prices in `sep_04` to the prices of `goog`. What happens? "
   ]
  },
  {
   "cell_type": "code",
   "execution_count": 12,
   "metadata": {
    "pycharm": {
     "is_executing": false
    }
   },
   "outputs": [
    {
     "data": {
      "text/plain": "2018-04-09 00:00:00   NaN\n2018-05-09 00:00:00   NaN\n2018-06-09 00:00:00   NaN\n2018-07-09 00:00:00   NaN\n2018-09-13 00:00:00   NaN\n2018-09-14 00:00:00   NaN\n2018-09-17 00:00:00   NaN\n2018-09-18 00:00:00   NaN\n2018-09-19 00:00:00   NaN\n2018-10-09 00:00:00   NaN\n2018-11-09 00:00:00   NaN\n2018-12-09 00:00:00   NaN\nAAPL                  NaN\nGOOG                  NaN\nSPY                   NaN\ndtype: float64"
     },
     "metadata": {},
     "output_type": "execute_result",
     "execution_count": 12
    }
   ],
   "source": [
    "sep_04 + goog\n"
   ]
  },
  {
   "cell_type": "markdown",
   "metadata": {},
   "outputs": [],
   "source": [
    "## Problem: Constructing portfolio returns\n",
    "Set up a 3-element array of portfolio weights \n",
    "\n",
    "$$w=\\left(\\frac{1}{3},\\,\\frac{1}{3}\\,,\\frac{1}{3}\\right)$$\n",
    "\n",
    "and compute the return of a portfolio with weight $\\frac{1}{3}$ in each security.\n"
   ]
  },
  {
   "cell_type": "code",
   "execution_count": 13,
   "metadata": {
    "pycharm": {
     "is_executing": false
    }
   },
   "outputs": [
    {
     "data": {
      "text/plain": "2018-05-09   -0.006002\n2018-06-09   -0.010768\n2018-07-09   -0.005218\n2018-10-09   -0.003948\n2018-11-09    0.013167\n2018-12-09   -0.008176\n2018-09-13    0.013609\n2018-09-14   -0.004520\n2018-09-17   -0.015325\n2018-09-18    0.003850\n2018-09-19   -0.002537\ndtype: float64"
     },
     "metadata": {},
     "output_type": "execute_result",
     "execution_count": 13
    }
   ],
   "source": [
    "import numpy as np\n",
    "\n",
    "w = np.array([1/3, 1/3, 1/3])\n",
    "\n",
    "port_ret = returns @ w\n",
    "port_ret"
   ]
  },
  {
   "cell_type": "markdown",
   "metadata": {
    "pycharm": {
     "name": "#%% md\n"
    }
   },
   "outputs": [],
   "source": [
    "Repeat the previous calcuation using multiplication (`*`) and `.sum()`.\n",
    "**Note**: You need to use the `axis` keyword for the sum."
   ]
  },
  {
   "cell_type": "code",
   "execution_count": 14,
   "metadata": {
    "pycharm": {
     "is_executing": false
    }
   },
   "outputs": [
    {
     "data": {
      "text/plain": "2018-05-09   -0.006002\n2018-06-09   -0.010768\n2018-07-09   -0.005218\n2018-10-09   -0.003948\n2018-11-09    0.013167\n2018-12-09   -0.008176\n2018-09-13    0.013609\n2018-09-14   -0.004520\n2018-09-17   -0.015325\n2018-09-18    0.003850\n2018-09-19   -0.002537\ndtype: float64"
     },
     "metadata": {},
     "output_type": "execute_result",
     "execution_count": 14
    }
   ],
   "source": [
    "weighted_rets = returns * w\n",
    "port_ret = weighted_rets.sum(axis=1)\n",
    "port_ret"
   ]
  },
  {
   "cell_type": "markdown",
   "metadata": {},
   "outputs": [],
   "source": [
    "## Problem: Mean, Standard Deviation and Correlation\n",
    "\n",
    "Using the function mean, compute the mean of the three returns series one at a time. For example  \n",
    "```python\n",
    "goog_mean = goog_returns.mean()\n",
    "```\n",
    "Next, compute the mean of the matrix of returns using  \n",
    "\n",
    "```python\n",
    "retmean = returns.mean()\n",
    "```\n",
    "\n",
    "What is the relationship between these two? Repeat this exercise for the standard deviation (`std()`).\n",
    "Finally, compute the correlation of the matrix of returns (`corr()`). "
   ]
  },
  {
   "cell_type": "code",
   "execution_count": 15,
   "metadata": {
    "pycharm": {
     "is_executing": false
    }
   },
   "outputs": [
    {
     "name": "stdout",
     "text": [
      "0.0005157696449953846 -0.0029096851629990942 -0.0046607598305810375\n"
     ],
     "output_type": "stream"
    }
   ],
   "source": [
    "goog_mean = goog_returns.mean()\n",
    "spy_mean = spy_returns.mean()\n",
    "aapl_mean = aapl_returns.mean()\n",
    "print(spy_mean, aapl_mean, goog_mean)"
   ]
  },
  {
   "cell_type": "code",
   "execution_count": 16,
   "metadata": {
    "pycharm": {
     "is_executing": false
    }
   },
   "outputs": [
    {
     "data": {
      "text/plain": "SPY     0.000516\nGOOG   -0.004661\nAAPL   -0.002910\ndtype: float64"
     },
     "metadata": {},
     "output_type": "execute_result",
     "execution_count": 16
    }
   ],
   "source": [
    "returns.mean()"
   ]
  },
  {
   "cell_type": "code",
   "execution_count": 17,
   "metadata": {
    "pycharm": {
     "is_executing": false
    }
   },
   "outputs": [
    {
     "data": {
      "text/plain": "SPY     0.003562\nGOOG    0.016113\nAAPL    0.008899\ndtype: float64"
     },
     "metadata": {},
     "output_type": "execute_result",
     "execution_count": 17
    }
   ],
   "source": [
    "returns.std()"
   ]
  },
  {
   "cell_type": "code",
   "execution_count": 18,
   "metadata": {
    "pycharm": {
     "is_executing": false
    }
   },
   "outputs": [
    {
     "data": {
      "text/plain": "           SPY      GOOG      AAPL\nSPY   1.000000  0.773894  0.883557\nGOOG  0.773894  1.000000  0.892719\nAAPL  0.883557  0.892719  1.000000",
      "text/html": "<div>\n<style scoped>\n    .dataframe tbody tr th:only-of-type {\n        vertical-align: middle;\n    }\n\n    .dataframe tbody tr th {\n        vertical-align: top;\n    }\n\n    .dataframe thead th {\n        text-align: right;\n    }\n</style>\n<table border=\"1\" class=\"dataframe\">\n  <thead>\n    <tr style=\"text-align: right;\">\n      <th></th>\n      <th>SPY</th>\n      <th>GOOG</th>\n      <th>AAPL</th>\n    </tr>\n  </thead>\n  <tbody>\n    <tr>\n      <td>SPY</td>\n      <td>1.000000</td>\n      <td>0.773894</td>\n      <td>0.883557</td>\n    </tr>\n    <tr>\n      <td>GOOG</td>\n      <td>0.773894</td>\n      <td>1.000000</td>\n      <td>0.892719</td>\n    </tr>\n    <tr>\n      <td>AAPL</td>\n      <td>0.883557</td>\n      <td>0.892719</td>\n      <td>1.000000</td>\n    </tr>\n  </tbody>\n</table>\n</div>"
     },
     "metadata": {},
     "output_type": "execute_result",
     "execution_count": 18
    }
   ],
   "source": [
    "returns.corr()"
   ]
  },
  {
   "cell_type": "markdown",
   "metadata": {},
   "outputs": [],
   "source": [
    "## Problem: Summing all elements\n",
    "\n",
    "Compute the sum of the columns of returns using `.sum()`. How is this related to the mean computed \n",
    "in the previous step? "
   ]
  },
  {
   "cell_type": "code",
   "execution_count": 19,
   "metadata": {
    "pycharm": {
     "is_executing": false
    }
   },
   "outputs": [
    {
     "data": {
      "text/plain": "SPY     0.000516\nGOOG   -0.004661\nAAPL   -0.002910\ndtype: float64"
     },
     "metadata": {},
     "output_type": "execute_result",
     "execution_count": 19
    }
   ],
   "source": [
    "returns.mean()\n",
    "\n"
   ]
  },
  {
   "cell_type": "code",
   "execution_count": 20,
   "metadata": {
    "pycharm": {
     "is_executing": false
    }
   },
   "outputs": [
    {
     "data": {
      "text/plain": "SPY     0.000516\nGOOG   -0.004661\nAAPL   -0.002910\ndtype: float64"
     },
     "metadata": {},
     "output_type": "execute_result",
     "execution_count": 20
    }
   ],
   "source": [
    "returns.sum() / 11"
   ]
  },
  {
   "cell_type": "markdown",
   "metadata": {},
   "outputs": [],
   "source": [
    "## Problem: Maximum and Minimum Values\n",
    "Compute the minimum and maximum values of the columns of returns using the `min()` and `max()` commands. "
   ]
  },
  {
   "cell_type": "code",
   "execution_count": 21,
   "metadata": {
    "pycharm": {
     "is_executing": false
    }
   },
   "outputs": [
    {
     "data": {
      "text/plain": "SPY    -0.005294\nGOOG   -0.026626\nAAPL   -0.014055\ndtype: float64"
     },
     "metadata": {},
     "output_type": "execute_result",
     "execution_count": 21
    }
   ],
   "source": [
    "returns.min()"
   ]
  },
  {
   "cell_type": "code",
   "execution_count": 22,
   "metadata": {
    "pycharm": {
     "is_executing": false
    }
   },
   "outputs": [
    {
     "data": {
      "text/plain": "SPY     0.005914\nGOOG    0.025283\nAAPL    0.010922\ndtype: float64"
     },
     "metadata": {},
     "output_type": "execute_result",
     "execution_count": 22
    }
   ],
   "source": [
    "returns.max()"
   ]
  },
  {
   "cell_type": "markdown",
   "metadata": {},
   "outputs": [],
   "source": [
    "## Problem: Rounding Up, Down and to the Closest Integer\n",
    "\n",
    "Rounding up is handled by ceil, rounding down is handled by floor and rounding to the closest \n",
    "integer is handled by round. Try all of these commands on 100 times returns. For example,  \n",
    "```python\n",
    "rounded = (100*returns).round()\n",
    "``` \n",
    "\n",
    "Use `ceil` and `floor` to round up and down, respectively."
   ]
  },
  {
   "cell_type": "code",
   "execution_count": 23,
   "metadata": {
    "pycharm": {
     "is_executing": false
    }
   },
   "outputs": [
    {
     "data": {
      "text/plain": "            SPY  GOOG  AAPL\n2018-05-09 -0.0  -1.0  -1.0\n2018-06-09 -0.0  -2.0  -1.0\n2018-07-09 -0.0  -1.0  -1.0\n2018-10-09  0.0  -1.0  -0.0\n2018-11-09  0.0   3.0   1.0\n2018-12-09  0.0  -1.0  -1.0\n2018-09-13  1.0   2.0   1.0\n2018-09-14  0.0  -1.0  -0.0\n2018-09-17 -1.0  -3.0  -1.0\n2018-09-18  1.0   0.0   0.0\n2018-09-19  0.0  -1.0  -0.0",
      "text/html": "<div>\n<style scoped>\n    .dataframe tbody tr th:only-of-type {\n        vertical-align: middle;\n    }\n\n    .dataframe tbody tr th {\n        vertical-align: top;\n    }\n\n    .dataframe thead th {\n        text-align: right;\n    }\n</style>\n<table border=\"1\" class=\"dataframe\">\n  <thead>\n    <tr style=\"text-align: right;\">\n      <th></th>\n      <th>SPY</th>\n      <th>GOOG</th>\n      <th>AAPL</th>\n    </tr>\n  </thead>\n  <tbody>\n    <tr>\n      <td>2018-05-09</td>\n      <td>-0.0</td>\n      <td>-1.0</td>\n      <td>-1.0</td>\n    </tr>\n    <tr>\n      <td>2018-06-09</td>\n      <td>-0.0</td>\n      <td>-2.0</td>\n      <td>-1.0</td>\n    </tr>\n    <tr>\n      <td>2018-07-09</td>\n      <td>-0.0</td>\n      <td>-1.0</td>\n      <td>-1.0</td>\n    </tr>\n    <tr>\n      <td>2018-10-09</td>\n      <td>0.0</td>\n      <td>-1.0</td>\n      <td>-0.0</td>\n    </tr>\n    <tr>\n      <td>2018-11-09</td>\n      <td>0.0</td>\n      <td>3.0</td>\n      <td>1.0</td>\n    </tr>\n    <tr>\n      <td>2018-12-09</td>\n      <td>0.0</td>\n      <td>-1.0</td>\n      <td>-1.0</td>\n    </tr>\n    <tr>\n      <td>2018-09-13</td>\n      <td>1.0</td>\n      <td>2.0</td>\n      <td>1.0</td>\n    </tr>\n    <tr>\n      <td>2018-09-14</td>\n      <td>0.0</td>\n      <td>-1.0</td>\n      <td>-0.0</td>\n    </tr>\n    <tr>\n      <td>2018-09-17</td>\n      <td>-1.0</td>\n      <td>-3.0</td>\n      <td>-1.0</td>\n    </tr>\n    <tr>\n      <td>2018-09-18</td>\n      <td>1.0</td>\n      <td>0.0</td>\n      <td>0.0</td>\n    </tr>\n    <tr>\n      <td>2018-09-19</td>\n      <td>0.0</td>\n      <td>-1.0</td>\n      <td>-0.0</td>\n    </tr>\n  </tbody>\n</table>\n</div>"
     },
     "metadata": {},
     "output_type": "execute_result",
     "execution_count": 23
    }
   ],
   "source": [
    "rounded = (100*returns).round()\n",
    "rounded"
   ]
  },
  {
   "cell_type": "code",
   "execution_count": 24,
   "metadata": {
    "pycharm": {
     "is_executing": false
    }
   },
   "outputs": [
    {
     "data": {
      "text/plain": "            SPY  GOOG  AAPL\n2018-05-09 -0.0  -0.0  -0.0\n2018-06-09 -0.0  -1.0  -1.0\n2018-07-09 -0.0  -0.0  -0.0\n2018-10-09  1.0  -1.0  -0.0\n2018-11-09  1.0   3.0   2.0\n2018-12-09  1.0  -1.0  -1.0\n2018-09-13  1.0   3.0   2.0\n2018-09-14  1.0  -1.0  -0.0\n2018-09-17 -0.0  -2.0  -1.0\n2018-09-18  1.0   1.0   1.0\n2018-09-19  1.0  -0.0  -0.0",
      "text/html": "<div>\n<style scoped>\n    .dataframe tbody tr th:only-of-type {\n        vertical-align: middle;\n    }\n\n    .dataframe tbody tr th {\n        vertical-align: top;\n    }\n\n    .dataframe thead th {\n        text-align: right;\n    }\n</style>\n<table border=\"1\" class=\"dataframe\">\n  <thead>\n    <tr style=\"text-align: right;\">\n      <th></th>\n      <th>SPY</th>\n      <th>GOOG</th>\n      <th>AAPL</th>\n    </tr>\n  </thead>\n  <tbody>\n    <tr>\n      <td>2018-05-09</td>\n      <td>-0.0</td>\n      <td>-0.0</td>\n      <td>-0.0</td>\n    </tr>\n    <tr>\n      <td>2018-06-09</td>\n      <td>-0.0</td>\n      <td>-1.0</td>\n      <td>-1.0</td>\n    </tr>\n    <tr>\n      <td>2018-07-09</td>\n      <td>-0.0</td>\n      <td>-0.0</td>\n      <td>-0.0</td>\n    </tr>\n    <tr>\n      <td>2018-10-09</td>\n      <td>1.0</td>\n      <td>-1.0</td>\n      <td>-0.0</td>\n    </tr>\n    <tr>\n      <td>2018-11-09</td>\n      <td>1.0</td>\n      <td>3.0</td>\n      <td>2.0</td>\n    </tr>\n    <tr>\n      <td>2018-12-09</td>\n      <td>1.0</td>\n      <td>-1.0</td>\n      <td>-1.0</td>\n    </tr>\n    <tr>\n      <td>2018-09-13</td>\n      <td>1.0</td>\n      <td>3.0</td>\n      <td>2.0</td>\n    </tr>\n    <tr>\n      <td>2018-09-14</td>\n      <td>1.0</td>\n      <td>-1.0</td>\n      <td>-0.0</td>\n    </tr>\n    <tr>\n      <td>2018-09-17</td>\n      <td>-0.0</td>\n      <td>-2.0</td>\n      <td>-1.0</td>\n    </tr>\n    <tr>\n      <td>2018-09-18</td>\n      <td>1.0</td>\n      <td>1.0</td>\n      <td>1.0</td>\n    </tr>\n    <tr>\n      <td>2018-09-19</td>\n      <td>1.0</td>\n      <td>-0.0</td>\n      <td>-0.0</td>\n    </tr>\n  </tbody>\n</table>\n</div>"
     },
     "metadata": {},
     "output_type": "execute_result",
     "execution_count": 24
    }
   ],
   "source": [
    "ceiled = np.ceil(100*returns)\n",
    "ceiled"
   ]
  },
  {
   "cell_type": "code",
   "execution_count": 25,
   "metadata": {
    "pycharm": {
     "is_executing": false,
     "name": "#%%\n"
    }
   },
   "outputs": [
    {
     "data": {
      "text/plain": "            SPY  GOOG  AAPL\n2018-05-09 -1.0  -1.0  -1.0\n2018-06-09 -1.0  -2.0  -2.0\n2018-07-09 -1.0  -1.0  -1.0\n2018-10-09  0.0  -2.0  -1.0\n2018-11-09  0.0   2.0   1.0\n2018-12-09  0.0  -2.0  -2.0\n2018-09-13  0.0   2.0   1.0\n2018-09-14  0.0  -2.0  -1.0\n2018-09-17 -1.0  -3.0  -2.0\n2018-09-18  0.0   0.0   0.0\n2018-09-19  0.0  -1.0  -1.0",
      "text/html": "<div>\n<style scoped>\n    .dataframe tbody tr th:only-of-type {\n        vertical-align: middle;\n    }\n\n    .dataframe tbody tr th {\n        vertical-align: top;\n    }\n\n    .dataframe thead th {\n        text-align: right;\n    }\n</style>\n<table border=\"1\" class=\"dataframe\">\n  <thead>\n    <tr style=\"text-align: right;\">\n      <th></th>\n      <th>SPY</th>\n      <th>GOOG</th>\n      <th>AAPL</th>\n    </tr>\n  </thead>\n  <tbody>\n    <tr>\n      <td>2018-05-09</td>\n      <td>-1.0</td>\n      <td>-1.0</td>\n      <td>-1.0</td>\n    </tr>\n    <tr>\n      <td>2018-06-09</td>\n      <td>-1.0</td>\n      <td>-2.0</td>\n      <td>-2.0</td>\n    </tr>\n    <tr>\n      <td>2018-07-09</td>\n      <td>-1.0</td>\n      <td>-1.0</td>\n      <td>-1.0</td>\n    </tr>\n    <tr>\n      <td>2018-10-09</td>\n      <td>0.0</td>\n      <td>-2.0</td>\n      <td>-1.0</td>\n    </tr>\n    <tr>\n      <td>2018-11-09</td>\n      <td>0.0</td>\n      <td>2.0</td>\n      <td>1.0</td>\n    </tr>\n    <tr>\n      <td>2018-12-09</td>\n      <td>0.0</td>\n      <td>-2.0</td>\n      <td>-2.0</td>\n    </tr>\n    <tr>\n      <td>2018-09-13</td>\n      <td>0.0</td>\n      <td>2.0</td>\n      <td>1.0</td>\n    </tr>\n    <tr>\n      <td>2018-09-14</td>\n      <td>0.0</td>\n      <td>-2.0</td>\n      <td>-1.0</td>\n    </tr>\n    <tr>\n      <td>2018-09-17</td>\n      <td>-1.0</td>\n      <td>-3.0</td>\n      <td>-2.0</td>\n    </tr>\n    <tr>\n      <td>2018-09-18</td>\n      <td>0.0</td>\n      <td>0.0</td>\n      <td>0.0</td>\n    </tr>\n    <tr>\n      <td>2018-09-19</td>\n      <td>0.0</td>\n      <td>-1.0</td>\n      <td>-1.0</td>\n    </tr>\n  </tbody>\n</table>\n</div>"
     },
     "metadata": {},
     "output_type": "execute_result",
     "execution_count": 25
    }
   ],
   "source": [
    "floored = np.floor(100*returns)\n",
    "floored"
   ]
  }
 ],
 "metadata": {
  "file_extension": ".py",
  "language_info": {
   "codemirror_mode": {
    "name": "ipython",
    "version": 3
   },
   "file_extension": ".py",
   "mimetype": "text/x-python",
   "name": "python",
   "nbconvert_exporter": "python",
   "pygments_lexer": "ipython3",
   "version": "3.7.4"
  },
  "mimetype": "text/x-python",
  "name": "python",
  "npconvert_exporter": "python",
  "pygments_lexer": "ipython3",
  "version": 3,
  "pycharm": {
   "stem_cell": {
    "cell_type": "raw",
    "source": [],
    "metadata": {
     "collapsed": false
    }
   }
  },
  "kernelspec": {
   "name": "python3",
   "language": "python",
   "display_name": "Python 3"
  }
 },
 "nbformat": 4,
 "nbformat_minor": 2
}