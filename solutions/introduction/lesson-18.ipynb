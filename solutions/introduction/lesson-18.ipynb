{
 "cells": [
  {
   "cell_type": "markdown",
   "source": [
    "# Boolean Selection \n",
    "\n",
    "This lesson covers:\n",
    "\n",
    "* Boolean selection\n",
    "* `where`\n",
    "\n",
    "Begin by loading the data in momentum.csv.\n"
   ],
   "metadata": {
    "collapsed": false
   }
  },
  {
   "cell_type": "code",
   "execution_count": 1,
   "outputs": [
    {
     "name": "stdout",
     "text": [
      "            mom_01  mom_02  mom_03  mom_04  mom_05  mom_06  mom_07  mom_08  \\\ndate                                                                         \n2016-01-04    0.67   -0.03   -0.93   -1.11   -1.47   -1.66   -1.40   -2.08   \n2016-01-05   -0.36    0.20   -0.37    0.28    0.16    0.18   -0.22    0.25   \n2016-01-06   -4.97   -2.33   -2.60   -1.16   -1.70   -1.45   -1.15   -1.46   \n2016-01-07   -4.91   -1.91   -3.03   -1.87   -2.31   -2.30   -2.70   -2.31   \n2016-01-08   -0.40   -1.26   -0.98   -1.26   -1.13   -1.02   -0.96   -1.42   \n\n            mom_09  mom_10  \ndate                        \n2016-01-04   -1.71   -2.67  \n2016-01-05    0.29    0.13  \n2016-01-06   -1.14   -0.45  \n2016-01-07   -2.36   -2.66  \n2016-01-08   -0.94   -1.32  \n"
     ],
     "output_type": "stream"
    }
   ],
   "source": [
    "# Setup: Load the momentum data\n",
    "\n",
    "import numpy as np\n",
    "import pandas as pd\n",
    "\n",
    "momentum = pd.read_csv(\"data/momentum.csv\", index_col=\"date\", parse_dates=True)\n",
    "\n",
    "print(momentum.head())\n"
   ],
   "metadata": {
    "collapsed": false,
    "pycharm": {
     "name": "#%%\n",
     "is_executing": false
    }
   }
  },
  {
   "cell_type": "markdown",
   "source": [
    "## Problem: Selecting rows with boolean conditions\n",
    "\n",
    "Select the rows in `momentum` where all returns on a day are negative."
   ],
   "metadata": {
    "collapsed": false
   }
  },
  {
   "cell_type": "code",
   "execution_count": 2,
   "outputs": [
    {
     "data": {
      "text/plain": "            mom_01  mom_02  mom_03  mom_04  mom_05  mom_06  mom_07  mom_08  \\\ndate                                                                         \n2016-01-06   -4.97   -2.33   -2.60   -1.16   -1.70   -1.45   -1.15   -1.46   \n2016-01-07   -4.91   -1.91   -3.03   -1.87   -2.31   -2.30   -2.70   -2.31   \n2016-01-08   -0.40   -1.26   -0.98   -1.26   -1.13   -1.02   -0.96   -1.42   \n2016-01-13   -4.88   -3.06   -2.70   -2.00   -2.34   -2.18   -2.44   -2.77   \n2016-01-15   -3.85   -2.87   -1.92   -2.09   -1.38   -2.46   -1.88   -2.23   \n...            ...     ...     ...     ...     ...     ...     ...     ...   \n2017-10-25   -0.77   -0.72   -0.33   -0.83   -0.28   -0.52   -0.23   -0.48   \n2017-10-30   -0.01   -0.72   -0.50   -0.91   -0.73   -0.27   -0.42   -0.04   \n2017-11-15   -0.20   -0.64   -0.65   -0.13   -0.37   -0.41   -0.75   -0.37   \n2017-12-14   -1.20   -0.99   -0.78   -0.26   -0.38   -0.41   -0.76   -0.32   \n2017-12-29   -0.42   -0.61   -0.48   -0.57   -0.45   -0.41   -0.52   -0.45   \n\n            mom_09  mom_10  \ndate                        \n2016-01-06   -1.14   -0.45  \n2016-01-07   -2.36   -2.66  \n2016-01-08   -0.94   -1.32  \n2016-01-13   -2.65   -3.71  \n2016-01-15   -2.28   -2.40  \n...            ...     ...  \n2017-10-25   -0.35   -1.52  \n2017-10-30   -0.41   -0.40  \n2017-11-15   -0.77   -0.59  \n2017-12-14   -0.60   -0.17  \n2017-12-29   -0.70   -0.94  \n\n[74 rows x 10 columns]",
      "text/html": "<div>\n<style scoped>\n    .dataframe tbody tr th:only-of-type {\n        vertical-align: middle;\n    }\n\n    .dataframe tbody tr th {\n        vertical-align: top;\n    }\n\n    .dataframe thead th {\n        text-align: right;\n    }\n</style>\n<table border=\"1\" class=\"dataframe\">\n  <thead>\n    <tr style=\"text-align: right;\">\n      <th></th>\n      <th>mom_01</th>\n      <th>mom_02</th>\n      <th>mom_03</th>\n      <th>mom_04</th>\n      <th>mom_05</th>\n      <th>mom_06</th>\n      <th>mom_07</th>\n      <th>mom_08</th>\n      <th>mom_09</th>\n      <th>mom_10</th>\n    </tr>\n    <tr>\n      <th>date</th>\n      <th></th>\n      <th></th>\n      <th></th>\n      <th></th>\n      <th></th>\n      <th></th>\n      <th></th>\n      <th></th>\n      <th></th>\n      <th></th>\n    </tr>\n  </thead>\n  <tbody>\n    <tr>\n      <td>2016-01-06</td>\n      <td>-4.97</td>\n      <td>-2.33</td>\n      <td>-2.60</td>\n      <td>-1.16</td>\n      <td>-1.70</td>\n      <td>-1.45</td>\n      <td>-1.15</td>\n      <td>-1.46</td>\n      <td>-1.14</td>\n      <td>-0.45</td>\n    </tr>\n    <tr>\n      <td>2016-01-07</td>\n      <td>-4.91</td>\n      <td>-1.91</td>\n      <td>-3.03</td>\n      <td>-1.87</td>\n      <td>-2.31</td>\n      <td>-2.30</td>\n      <td>-2.70</td>\n      <td>-2.31</td>\n      <td>-2.36</td>\n      <td>-2.66</td>\n    </tr>\n    <tr>\n      <td>2016-01-08</td>\n      <td>-0.40</td>\n      <td>-1.26</td>\n      <td>-0.98</td>\n      <td>-1.26</td>\n      <td>-1.13</td>\n      <td>-1.02</td>\n      <td>-0.96</td>\n      <td>-1.42</td>\n      <td>-0.94</td>\n      <td>-1.32</td>\n    </tr>\n    <tr>\n      <td>2016-01-13</td>\n      <td>-4.88</td>\n      <td>-3.06</td>\n      <td>-2.70</td>\n      <td>-2.00</td>\n      <td>-2.34</td>\n      <td>-2.18</td>\n      <td>-2.44</td>\n      <td>-2.77</td>\n      <td>-2.65</td>\n      <td>-3.71</td>\n    </tr>\n    <tr>\n      <td>2016-01-15</td>\n      <td>-3.85</td>\n      <td>-2.87</td>\n      <td>-1.92</td>\n      <td>-2.09</td>\n      <td>-1.38</td>\n      <td>-2.46</td>\n      <td>-1.88</td>\n      <td>-2.23</td>\n      <td>-2.28</td>\n      <td>-2.40</td>\n    </tr>\n    <tr>\n      <td>...</td>\n      <td>...</td>\n      <td>...</td>\n      <td>...</td>\n      <td>...</td>\n      <td>...</td>\n      <td>...</td>\n      <td>...</td>\n      <td>...</td>\n      <td>...</td>\n      <td>...</td>\n    </tr>\n    <tr>\n      <td>2017-10-25</td>\n      <td>-0.77</td>\n      <td>-0.72</td>\n      <td>-0.33</td>\n      <td>-0.83</td>\n      <td>-0.28</td>\n      <td>-0.52</td>\n      <td>-0.23</td>\n      <td>-0.48</td>\n      <td>-0.35</td>\n      <td>-1.52</td>\n    </tr>\n    <tr>\n      <td>2017-10-30</td>\n      <td>-0.01</td>\n      <td>-0.72</td>\n      <td>-0.50</td>\n      <td>-0.91</td>\n      <td>-0.73</td>\n      <td>-0.27</td>\n      <td>-0.42</td>\n      <td>-0.04</td>\n      <td>-0.41</td>\n      <td>-0.40</td>\n    </tr>\n    <tr>\n      <td>2017-11-15</td>\n      <td>-0.20</td>\n      <td>-0.64</td>\n      <td>-0.65</td>\n      <td>-0.13</td>\n      <td>-0.37</td>\n      <td>-0.41</td>\n      <td>-0.75</td>\n      <td>-0.37</td>\n      <td>-0.77</td>\n      <td>-0.59</td>\n    </tr>\n    <tr>\n      <td>2017-12-14</td>\n      <td>-1.20</td>\n      <td>-0.99</td>\n      <td>-0.78</td>\n      <td>-0.26</td>\n      <td>-0.38</td>\n      <td>-0.41</td>\n      <td>-0.76</td>\n      <td>-0.32</td>\n      <td>-0.60</td>\n      <td>-0.17</td>\n    </tr>\n    <tr>\n      <td>2017-12-29</td>\n      <td>-0.42</td>\n      <td>-0.61</td>\n      <td>-0.48</td>\n      <td>-0.57</td>\n      <td>-0.45</td>\n      <td>-0.41</td>\n      <td>-0.52</td>\n      <td>-0.45</td>\n      <td>-0.70</td>\n      <td>-0.94</td>\n    </tr>\n  </tbody>\n</table>\n<p>74 rows × 10 columns</p>\n</div>"
     },
     "metadata": {},
     "output_type": "execute_result",
     "execution_count": 2
    }
   ],
   "source": [
    "momentum.loc[(momentum < 0).all(axis=1)]\n"
   ],
   "metadata": {
    "collapsed": false,
    "pycharm": {
     "name": "#%%\n",
     "is_executing": false
    }
   }
  },
  {
   "cell_type": "markdown",
   "source": [
    "## Problem: Selecting rows\n",
    "\n",
    "Select the rows in `momentum` where 50% or more of the returns on a day are negative."
   ],
   "metadata": {
    "collapsed": false
   }
  },
  {
   "cell_type": "code",
   "execution_count": 3,
   "outputs": [
    {
     "data": {
      "text/plain": "            mom_01  mom_02  mom_03  mom_04  mom_05  mom_06  mom_07  mom_08  \\\ndate                                                                         \n2016-01-04    0.67   -0.03   -0.93   -1.11   -1.47   -1.66   -1.40   -2.08   \n2016-01-06   -4.97   -2.33   -2.60   -1.16   -1.70   -1.45   -1.15   -1.46   \n2016-01-07   -4.91   -1.91   -3.03   -1.87   -2.31   -2.30   -2.70   -2.31   \n2016-01-08   -0.40   -1.26   -0.98   -1.26   -1.13   -1.02   -0.96   -1.42   \n2016-01-11   -5.14   -0.81   -1.33   -0.72   -0.43    0.14    0.23    0.28   \n...            ...     ...     ...     ...     ...     ...     ...     ...   \n2017-12-19   -0.61    0.19   -0.41   -0.30   -0.17   -0.31   -0.41   -0.18   \n2017-12-22    0.24    0.13   -0.07   -0.01   -0.08   -0.10   -0.14   -0.16   \n2017-12-26    0.89    0.70    0.23   -0.03    0.10   -0.06   -0.14   -0.07   \n2017-12-27   -0.58   -0.55   -0.27   -0.19   -0.14    0.18    0.18    0.10   \n2017-12-29   -0.42   -0.61   -0.48   -0.57   -0.45   -0.41   -0.52   -0.45   \n\n            mom_09  mom_10  \ndate                        \n2016-01-04   -1.71   -2.67  \n2016-01-06   -1.14   -0.45  \n2016-01-07   -2.36   -2.66  \n2016-01-08   -0.94   -1.32  \n2016-01-11    0.29    0.33  \n...            ...     ...  \n2017-12-19   -0.15   -0.56  \n2017-12-22   -0.05   -0.01  \n2017-12-26    0.14   -0.65  \n2017-12-27    0.22    0.36  \n2017-12-29   -0.70   -0.94  \n\n[243 rows x 10 columns]",
      "text/html": "<div>\n<style scoped>\n    .dataframe tbody tr th:only-of-type {\n        vertical-align: middle;\n    }\n\n    .dataframe tbody tr th {\n        vertical-align: top;\n    }\n\n    .dataframe thead th {\n        text-align: right;\n    }\n</style>\n<table border=\"1\" class=\"dataframe\">\n  <thead>\n    <tr style=\"text-align: right;\">\n      <th></th>\n      <th>mom_01</th>\n      <th>mom_02</th>\n      <th>mom_03</th>\n      <th>mom_04</th>\n      <th>mom_05</th>\n      <th>mom_06</th>\n      <th>mom_07</th>\n      <th>mom_08</th>\n      <th>mom_09</th>\n      <th>mom_10</th>\n    </tr>\n    <tr>\n      <th>date</th>\n      <th></th>\n      <th></th>\n      <th></th>\n      <th></th>\n      <th></th>\n      <th></th>\n      <th></th>\n      <th></th>\n      <th></th>\n      <th></th>\n    </tr>\n  </thead>\n  <tbody>\n    <tr>\n      <td>2016-01-04</td>\n      <td>0.67</td>\n      <td>-0.03</td>\n      <td>-0.93</td>\n      <td>-1.11</td>\n      <td>-1.47</td>\n      <td>-1.66</td>\n      <td>-1.40</td>\n      <td>-2.08</td>\n      <td>-1.71</td>\n      <td>-2.67</td>\n    </tr>\n    <tr>\n      <td>2016-01-06</td>\n      <td>-4.97</td>\n      <td>-2.33</td>\n      <td>-2.60</td>\n      <td>-1.16</td>\n      <td>-1.70</td>\n      <td>-1.45</td>\n      <td>-1.15</td>\n      <td>-1.46</td>\n      <td>-1.14</td>\n      <td>-0.45</td>\n    </tr>\n    <tr>\n      <td>2016-01-07</td>\n      <td>-4.91</td>\n      <td>-1.91</td>\n      <td>-3.03</td>\n      <td>-1.87</td>\n      <td>-2.31</td>\n      <td>-2.30</td>\n      <td>-2.70</td>\n      <td>-2.31</td>\n      <td>-2.36</td>\n      <td>-2.66</td>\n    </tr>\n    <tr>\n      <td>2016-01-08</td>\n      <td>-0.40</td>\n      <td>-1.26</td>\n      <td>-0.98</td>\n      <td>-1.26</td>\n      <td>-1.13</td>\n      <td>-1.02</td>\n      <td>-0.96</td>\n      <td>-1.42</td>\n      <td>-0.94</td>\n      <td>-1.32</td>\n    </tr>\n    <tr>\n      <td>2016-01-11</td>\n      <td>-5.14</td>\n      <td>-0.81</td>\n      <td>-1.33</td>\n      <td>-0.72</td>\n      <td>-0.43</td>\n      <td>0.14</td>\n      <td>0.23</td>\n      <td>0.28</td>\n      <td>0.29</td>\n      <td>0.33</td>\n    </tr>\n    <tr>\n      <td>...</td>\n      <td>...</td>\n      <td>...</td>\n      <td>...</td>\n      <td>...</td>\n      <td>...</td>\n      <td>...</td>\n      <td>...</td>\n      <td>...</td>\n      <td>...</td>\n      <td>...</td>\n    </tr>\n    <tr>\n      <td>2017-12-19</td>\n      <td>-0.61</td>\n      <td>0.19</td>\n      <td>-0.41</td>\n      <td>-0.30</td>\n      <td>-0.17</td>\n      <td>-0.31</td>\n      <td>-0.41</td>\n      <td>-0.18</td>\n      <td>-0.15</td>\n      <td>-0.56</td>\n    </tr>\n    <tr>\n      <td>2017-12-22</td>\n      <td>0.24</td>\n      <td>0.13</td>\n      <td>-0.07</td>\n      <td>-0.01</td>\n      <td>-0.08</td>\n      <td>-0.10</td>\n      <td>-0.14</td>\n      <td>-0.16</td>\n      <td>-0.05</td>\n      <td>-0.01</td>\n    </tr>\n    <tr>\n      <td>2017-12-26</td>\n      <td>0.89</td>\n      <td>0.70</td>\n      <td>0.23</td>\n      <td>-0.03</td>\n      <td>0.10</td>\n      <td>-0.06</td>\n      <td>-0.14</td>\n      <td>-0.07</td>\n      <td>0.14</td>\n      <td>-0.65</td>\n    </tr>\n    <tr>\n      <td>2017-12-27</td>\n      <td>-0.58</td>\n      <td>-0.55</td>\n      <td>-0.27</td>\n      <td>-0.19</td>\n      <td>-0.14</td>\n      <td>0.18</td>\n      <td>0.18</td>\n      <td>0.10</td>\n      <td>0.22</td>\n      <td>0.36</td>\n    </tr>\n    <tr>\n      <td>2017-12-29</td>\n      <td>-0.42</td>\n      <td>-0.61</td>\n      <td>-0.48</td>\n      <td>-0.57</td>\n      <td>-0.45</td>\n      <td>-0.41</td>\n      <td>-0.52</td>\n      <td>-0.45</td>\n      <td>-0.70</td>\n      <td>-0.94</td>\n    </tr>\n  </tbody>\n</table>\n<p>243 rows × 10 columns</p>\n</div>"
     },
     "metadata": {},
     "output_type": "execute_result",
     "execution_count": 3
    }
   ],
   "source": [
    "momentum.loc[(momentum < 0).mean(axis=1) >= 0.5]\n"
   ],
   "metadata": {
    "collapsed": false,
    "pycharm": {
     "name": "#%%\n",
     "is_executing": false
    }
   }
  },
  {
   "cell_type": "markdown",
   "source": [
    "## Problem: Selecting columns\n",
    "\n",
    "Select the columns in `momentum` what have the smallest and second smallest average returns."
   ],
   "metadata": {
    "collapsed": false
   }
  },
  {
   "cell_type": "code",
   "execution_count": 4,
   "outputs": [
    {
     "data": {
      "text/plain": "mom_09    0.042167\nmom_07    0.051789\nmom_10    0.060954\nmom_08    0.062604\nmom_05    0.069920\nmom_04    0.079145\nmom_06    0.080775\nmom_03    0.089801\nmom_02    0.094811\nmom_01    0.101909\ndtype: float64"
     },
     "metadata": {},
     "output_type": "execute_result",
     "execution_count": 4
    }
   ],
   "source": [
    "mean = momentum.mean()\n",
    "mean = mean.sort_values()\n",
    "mean"
   ],
   "metadata": {
    "collapsed": false,
    "pycharm": {
     "name": "#%%\n",
     "is_executing": false
    }
   }
  },
  {
   "cell_type": "code",
   "execution_count": 6,
   "outputs": [
    {
     "data": {
      "text/plain": "            mom_07  mom_09\ndate                      \n2016-01-04   -1.40   -1.71\n2016-01-05   -0.22    0.29\n2016-01-06   -1.15   -1.14\n2016-01-07   -2.70   -2.36\n2016-01-08   -0.96   -0.94\n...            ...     ...\n2017-12-22   -0.14   -0.05\n2017-12-26   -0.14    0.14\n2017-12-27    0.18    0.22\n2017-12-28    0.30    0.28\n2017-12-29   -0.52   -0.70\n\n[503 rows x 2 columns]",
      "text/html": "<div>\n<style scoped>\n    .dataframe tbody tr th:only-of-type {\n        vertical-align: middle;\n    }\n\n    .dataframe tbody tr th {\n        vertical-align: top;\n    }\n\n    .dataframe thead th {\n        text-align: right;\n    }\n</style>\n<table border=\"1\" class=\"dataframe\">\n  <thead>\n    <tr style=\"text-align: right;\">\n      <th></th>\n      <th>mom_07</th>\n      <th>mom_09</th>\n    </tr>\n    <tr>\n      <th>date</th>\n      <th></th>\n      <th></th>\n    </tr>\n  </thead>\n  <tbody>\n    <tr>\n      <td>2016-01-04</td>\n      <td>-1.40</td>\n      <td>-1.71</td>\n    </tr>\n    <tr>\n      <td>2016-01-05</td>\n      <td>-0.22</td>\n      <td>0.29</td>\n    </tr>\n    <tr>\n      <td>2016-01-06</td>\n      <td>-1.15</td>\n      <td>-1.14</td>\n    </tr>\n    <tr>\n      <td>2016-01-07</td>\n      <td>-2.70</td>\n      <td>-2.36</td>\n    </tr>\n    <tr>\n      <td>2016-01-08</td>\n      <td>-0.96</td>\n      <td>-0.94</td>\n    </tr>\n    <tr>\n      <td>...</td>\n      <td>...</td>\n      <td>...</td>\n    </tr>\n    <tr>\n      <td>2017-12-22</td>\n      <td>-0.14</td>\n      <td>-0.05</td>\n    </tr>\n    <tr>\n      <td>2017-12-26</td>\n      <td>-0.14</td>\n      <td>0.14</td>\n    </tr>\n    <tr>\n      <td>2017-12-27</td>\n      <td>0.18</td>\n      <td>0.22</td>\n    </tr>\n    <tr>\n      <td>2017-12-28</td>\n      <td>0.30</td>\n      <td>0.28</td>\n    </tr>\n    <tr>\n      <td>2017-12-29</td>\n      <td>-0.52</td>\n      <td>-0.70</td>\n    </tr>\n  </tbody>\n</table>\n<p>503 rows × 2 columns</p>\n</div>"
     },
     "metadata": {},
     "output_type": "execute_result",
     "execution_count": 6
    }
   ],
   "source": [
    "momentum.loc[:, momentum.mean() < mean.iloc[2]]\n"
   ],
   "metadata": {
    "collapsed": false,
    "pycharm": {
     "name": "#%%\n",
     "is_executing": false
    }
   }
  },
  {
   "cell_type": "code",
   "execution_count": null,
   "outputs": [],
   "source": [
    "momentum[mean.index[:2]]\n"
   ],
   "metadata": {
    "collapsed": false,
    "pycharm": {
     "name": "#%%\n"
    }
   }
  },
  {
   "cell_type": "markdown",
   "source": [
    "## Problem: Selecting rows and columns\n",
    "\n",
    "Select the returns for the column with the single most negative return\n",
    "on days where all of the returns are negative. "
   ],
   "metadata": {
    "collapsed": false
   }
  },
  {
   "cell_type": "code",
   "execution_count": 8,
   "outputs": [
    {
     "data": {
      "text/plain": "mom_01     True\nmom_02    False\nmom_03    False\nmom_04    False\nmom_05    False\nmom_06    False\nmom_07    False\nmom_08    False\nmom_09    False\nmom_10    False\ndtype: bool"
     },
     "metadata": {},
     "output_type": "execute_result",
     "execution_count": 8
    }
   ],
   "source": [
    "lowest = (momentum == momentum.min().min()).any()\n",
    "lowest"
   ],
   "metadata": {
    "collapsed": false,
    "pycharm": {
     "name": "#%%\n",
     "is_executing": false
    }
   }
  },
  {
   "cell_type": "code",
   "execution_count": 9,
   "outputs": [
    {
     "data": {
      "text/plain": "            mom_01\ndate              \n2016-01-06   -4.97\n2016-01-07   -4.91\n2016-01-08   -0.40\n2016-01-13   -4.88\n2016-01-15   -3.85\n...            ...\n2017-10-25   -0.77\n2017-10-30   -0.01\n2017-11-15   -0.20\n2017-12-14   -1.20\n2017-12-29   -0.42\n\n[74 rows x 1 columns]",
      "text/html": "<div>\n<style scoped>\n    .dataframe tbody tr th:only-of-type {\n        vertical-align: middle;\n    }\n\n    .dataframe tbody tr th {\n        vertical-align: top;\n    }\n\n    .dataframe thead th {\n        text-align: right;\n    }\n</style>\n<table border=\"1\" class=\"dataframe\">\n  <thead>\n    <tr style=\"text-align: right;\">\n      <th></th>\n      <th>mom_01</th>\n    </tr>\n    <tr>\n      <th>date</th>\n      <th></th>\n    </tr>\n  </thead>\n  <tbody>\n    <tr>\n      <td>2016-01-06</td>\n      <td>-4.97</td>\n    </tr>\n    <tr>\n      <td>2016-01-07</td>\n      <td>-4.91</td>\n    </tr>\n    <tr>\n      <td>2016-01-08</td>\n      <td>-0.40</td>\n    </tr>\n    <tr>\n      <td>2016-01-13</td>\n      <td>-4.88</td>\n    </tr>\n    <tr>\n      <td>2016-01-15</td>\n      <td>-3.85</td>\n    </tr>\n    <tr>\n      <td>...</td>\n      <td>...</td>\n    </tr>\n    <tr>\n      <td>2017-10-25</td>\n      <td>-0.77</td>\n    </tr>\n    <tr>\n      <td>2017-10-30</td>\n      <td>-0.01</td>\n    </tr>\n    <tr>\n      <td>2017-11-15</td>\n      <td>-0.20</td>\n    </tr>\n    <tr>\n      <td>2017-12-14</td>\n      <td>-1.20</td>\n    </tr>\n    <tr>\n      <td>2017-12-29</td>\n      <td>-0.42</td>\n    </tr>\n  </tbody>\n</table>\n<p>74 rows × 1 columns</p>\n</div>"
     },
     "metadata": {},
     "output_type": "execute_result",
     "execution_count": 9
    }
   ],
   "source": [
    "momentum.loc[(momentum < 0).all(axis=1), lowest]\n",
    "\n",
    " "
   ],
   "metadata": {
    "collapsed": false,
    "pycharm": {
     "name": "#%%\n",
     "is_executing": false
    }
   }
  },
  {
   "cell_type": "markdown",
   "source": [
    "## Problem: Selecting Elements using Logical Statements\n",
    "For portfolio 1 and portfolio 10 compute the correlation when both \n",
    "returns are negative and when both are positive.\n"
   ],
   "metadata": {
    "collapsed": false
   }
  },
  {
   "cell_type": "code",
   "execution_count": 13,
   "outputs": [
    {
     "data": {
      "text/plain": "          mom_01    mom_10\nmom_01  1.000000  0.368096\nmom_10  0.368096  1.000000",
      "text/html": "<div>\n<style scoped>\n    .dataframe tbody tr th:only-of-type {\n        vertical-align: middle;\n    }\n\n    .dataframe tbody tr th {\n        vertical-align: top;\n    }\n\n    .dataframe thead th {\n        text-align: right;\n    }\n</style>\n<table border=\"1\" class=\"dataframe\">\n  <thead>\n    <tr style=\"text-align: right;\">\n      <th></th>\n      <th>mom_01</th>\n      <th>mom_10</th>\n    </tr>\n  </thead>\n  <tbody>\n    <tr>\n      <td>mom_01</td>\n      <td>1.000000</td>\n      <td>0.368096</td>\n    </tr>\n    <tr>\n      <td>mom_10</td>\n      <td>0.368096</td>\n      <td>1.000000</td>\n    </tr>\n  </tbody>\n</table>\n</div>"
     },
     "metadata": {},
     "output_type": "execute_result",
     "execution_count": 13
    }
   ],
   "source": [
    "mom_01 = momentum.mom_01\n",
    "mom_10 = momentum.mom_10\n",
    "\n",
    "mom_01_neg = mom_01 < 0\n",
    "mom_10_neg = mom_10 < 0\n",
    "both_neg = mom_01_neg & mom_10_neg\n",
    "\n",
    "momentum.loc[both_neg, [\"mom_01\", \"mom_10\"]].corr()"
   ],
   "metadata": {
    "collapsed": false,
    "pycharm": {
     "name": "#%%\n",
     "is_executing": false
    }
   }
  },
  {
   "cell_type": "code",
   "execution_count": 16,
   "outputs": [
    {
     "data": {
      "text/plain": "          mom_01    mom_10\nmom_01  1.000000  0.165254\nmom_10  0.165254  1.000000",
      "text/html": "<div>\n<style scoped>\n    .dataframe tbody tr th:only-of-type {\n        vertical-align: middle;\n    }\n\n    .dataframe tbody tr th {\n        vertical-align: top;\n    }\n\n    .dataframe thead th {\n        text-align: right;\n    }\n</style>\n<table border=\"1\" class=\"dataframe\">\n  <thead>\n    <tr style=\"text-align: right;\">\n      <th></th>\n      <th>mom_01</th>\n      <th>mom_10</th>\n    </tr>\n  </thead>\n  <tbody>\n    <tr>\n      <td>mom_01</td>\n      <td>1.000000</td>\n      <td>0.165254</td>\n    </tr>\n    <tr>\n      <td>mom_10</td>\n      <td>0.165254</td>\n      <td>1.000000</td>\n    </tr>\n  </tbody>\n</table>\n</div>"
     },
     "metadata": {},
     "output_type": "execute_result",
     "execution_count": 16
    }
   ],
   "source": [
    "sub = momentum[[\"mom_01\", \"mom_10\"]]\n",
    "sub.loc[(sub > 0).all(axis=1)].corr()"
   ],
   "metadata": {
    "collapsed": false,
    "pycharm": {
     "name": "#%%\n",
     "is_executing": false
    }
   }
  },
  {
   "cell_type": "code",
   "execution_count": 22,
   "outputs": [
    {
     "data": {
      "text/plain": "array([[ 5,  8, 10],\n       [10,  5,  9],\n       [ 6,  9, 10],\n       [ 8,  5,  9],\n       [ 2,  2,  4],\n       [ 5,  6,  7],\n       [10,  7,  2],\n       [ 4,  3,  5],\n       [ 6,  3,  9],\n       [10,  1,  9]])"
     },
     "metadata": {},
     "output_type": "execute_result",
     "execution_count": 22
    }
   ],
   "source": [
    "# Setup: Reproducible random numbers\n",
    "\n",
    "rs = np.random.RandomState(19991231)\n",
    "x = rs.randint(1, 11, size=(10,3))\n",
    "x"
   ],
   "metadata": {
    "collapsed": false,
    "pycharm": {
     "name": "#%%\n",
     "is_executing": false
    }
   }
  },
  {
   "cell_type": "markdown",
   "source": [
    "## Problem: Select the columns of x that means >= $E[x]$"
   ],
   "metadata": {
    "collapsed": false,
    "pycharm": {
     "name": "#%% md\n"
    }
   }
  },
  {
   "cell_type": "code",
   "execution_count": 25,
   "outputs": [
    {
     "data": {
      "text/plain": "array([[ 5, 10],\n       [10,  9],\n       [ 6, 10],\n       [ 8,  9],\n       [ 2,  4],\n       [ 5,  7],\n       [10,  2],\n       [ 4,  5],\n       [ 6,  9],\n       [10,  9]])"
     },
     "metadata": {},
     "output_type": "execute_result",
     "execution_count": 25
    }
   ],
   "source": [
    "x[:, x.mean(axis=0) >= 5.5]"
   ],
   "metadata": {
    "collapsed": false,
    "pycharm": {
     "name": "#%%\n",
     "is_executing": false
    }
   }
  },
  {
   "cell_type": "markdown",
   "source": [
    "## Problem: Select the rows of x that means >= $E[x]$"
   ],
   "metadata": {
    "collapsed": false
   }
  },
  {
   "cell_type": "code",
   "execution_count": 26,
   "outputs": [
    {
     "data": {
      "text/plain": "array([[ 5,  8, 10],\n       [10,  5,  9],\n       [ 6,  9, 10],\n       [ 8,  5,  9],\n       [ 5,  6,  7],\n       [10,  7,  2],\n       [ 6,  3,  9],\n       [10,  1,  9]])"
     },
     "metadata": {},
     "output_type": "execute_result",
     "execution_count": 26
    }
   ],
   "source": [
    "x[x.mean(axis=1) >= 5.5]"
   ],
   "metadata": {
    "collapsed": false,
    "pycharm": {
     "name": "#%%\n",
     "is_executing": false
    }
   }
  },
  {
   "cell_type": "markdown",
   "source": [
    "## Problem: Select the rows and column of x where both have means < $E[x]$"
   ],
   "metadata": {
    "collapsed": false
   }
  },
  {
   "cell_type": "code",
   "execution_count": 27,
   "outputs": [
    {
     "data": {
      "text/plain": "array([[ 5, 10],\n       [10,  9],\n       [ 6, 10],\n       [ 8,  9],\n       [ 5,  7],\n       [10,  2],\n       [ 6,  9],\n       [10,  9]])"
     },
     "metadata": {},
     "output_type": "execute_result",
     "execution_count": 27
    }
   ],
   "source": [
    "rows = x.mean(axis=1) >= 5.5\n",
    "cols = x.mean(axis=0) >= 5.5\n",
    "\n",
    "x[np.ix_(rows, cols)]\n"
   ],
   "metadata": {
    "collapsed": false,
    "pycharm": {
     "name": "#%%\n",
     "is_executing": false
    }
   }
  },
  {
   "cell_type": "markdown",
   "source": [
    "## Problem: Using `where`\n",
    "Use `where` to select the index of the elements in portfolio 5 that are\n",
    "negative. Next, use the `where` command in its two output form to determine\n",
    "which elements of the portfolio return matrix are less than -2%."
   ],
   "metadata": {
    "collapsed": false
   }
  },
  {
   "cell_type": "code",
   "execution_count": null,
   "outputs": [],
   "source": [
    "mom_05 = momentum.mom_05\n",
    "np.where(mom_05 < 0)"
   ],
   "metadata": {
    "collapsed": false,
    "pycharm": {
     "name": "#%%\n"
    }
   }
  },
  {
   "cell_type": "code",
   "execution_count": null,
   "outputs": [],
   "source": [
    "loc = np.where(mom_05 < 0)\n",
    "mom_05.iloc[loc]"
   ],
   "metadata": {
    "collapsed": false,
    "pycharm": {
     "name": "#%%\n"
    }
   }
  },
  {
   "cell_type": "code",
   "execution_count": null,
   "outputs": [],
   "source": [
    "loc = np.where(momentum < 0)\n",
    "# Two awways, rows and columns where momentum < 0\n",
    "print(loc)"
   ],
   "metadata": {
    "collapsed": false,
    "pycharm": {
     "name": "#%%\n"
    }
   }
  }
 ],
 "metadata": {
  "kernelspec": {
   "display_name": "Python 3",
   "language": "python",
   "name": "python3"
  },
  "language_info": {
   "codemirror_mode": {
    "name": "ipython",
    "version": 2
   },
   "file_extension": ".py",
   "mimetype": "text/x-python",
   "name": "python",
   "nbconvert_exporter": "python",
   "pygments_lexer": "ipython2",
   "version": "2.7.6"
  },
  "pycharm": {
   "stem_cell": {
    "cell_type": "raw",
    "source": [],
    "metadata": {
     "collapsed": false
    }
   }
  }
 },
 "nbformat": 4,
 "nbformat_minor": 0
}