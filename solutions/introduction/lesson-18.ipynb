{
 "cells": [
  {
   "cell_type": "markdown",
   "metadata": {},
   "source": [
    "# Logic and Loops\n",
    "\n",
    "This lesson covers:\n",
    "\n",
    "* Mixing logic and loops "
   ]
  },
  {
   "cell_type": "code",
   "execution_count": 1,
   "metadata": {
    "collapsed": false,
    "pycharm": {
     "is_executing": false,
     "name": "#%%\n"
    }
   },
   "outputs": [
    {
     "name": "stdout",
     "output_type": "stream",
     "text": [
      "            mom_01  mom_02  mom_03  mom_04  mom_05  mom_06  mom_07  mom_08  \\\n",
      "date                                                                         \n",
      "2016-01-04    0.67   -0.03   -0.93   -1.11   -1.47   -1.66   -1.40   -2.08   \n",
      "2016-01-05   -0.36    0.20   -0.37    0.28    0.16    0.18   -0.22    0.25   \n",
      "2016-01-06   -4.97   -2.33   -2.60   -1.16   -1.70   -1.45   -1.15   -1.46   \n",
      "2016-01-07   -4.91   -1.91   -3.03   -1.87   -2.31   -2.30   -2.70   -2.31   \n",
      "2016-01-08   -0.40   -1.26   -0.98   -1.26   -1.13   -1.02   -0.96   -1.42   \n",
      "\n",
      "            mom_09  mom_10  \n",
      "date                        \n",
      "2016-01-04   -1.71   -2.67  \n",
      "2016-01-05    0.29    0.13  \n",
      "2016-01-06   -1.14   -0.45  \n",
      "2016-01-07   -2.36   -2.66  \n",
      "2016-01-08   -0.94   -1.32  \n"
     ]
    }
   ],
   "source": [
    "# Setup: Load the momentum data\n",
    "\n",
    "import numpy as np\n",
    "import pandas as pd\n",
    "\n",
    "momentum = pd.read_csv(\"data/momentum.csv\", index_col=\"date\", parse_dates=True)\n",
    "\n",
    "mom_01 = momentum.mom_01\n",
    "print(momentum.head())\n"
   ]
  },
  {
   "cell_type": "markdown",
   "metadata": {},
   "source": [
    "## Problem: Logical Statements and for Loops\n",
    "Use a for loop along with an `if` statement to simulate an asymmetric random\n",
    "walk of the form \n",
    "\n",
    "$$y_{i}=y_{i-1}+e_{i}+I_{[e_{i}<0]}e_{i}$$\n",
    "\n",
    "where $I_{[e_{i}<0]}$ is known as an indicator variable that takes the value\n",
    "1 if the statement in brackets is true. Plot y. $e$ is a standard normal\n",
    "shock. Use `cumsum` to simulate a symmetric one (`z`), and plot the two using\n",
    "the code in the cell below.\n",
    " "
   ]
  },
  {
   "cell_type": "code",
   "execution_count": 2,
   "metadata": {
    "collapsed": false,
    "pycharm": {
     "is_executing": false,
     "name": "#%%\n"
    }
   },
   "outputs": [],
   "source": [
    "import numpy as np\n",
    "\n",
    "e = np.random.standard_normal(100)\n",
    "y = np.zeros(100)\n",
    "y[0] = e[0]\n",
    "for i in range(1, 100):\n",
    "    y[i] = y[i-1]\n",
    "    if e[i] < 0:\n",
    "        y[i] += 2 * e[i]\n",
    "    else:\n",
    "        y[i] += e[i]\n",
    "\n",
    "z = np.cumsum(e)"
   ]
  },
  {
   "cell_type": "markdown",
   "metadata": {
    "collapsed": false,
    "pycharm": {
     "name": "#%% md\n"
    }
   },
   "source": [
    "Plot the two random walks using the code.  We will cover data visualization\n",
    "in a later lesson. \n",
    "\n",
    "```python\n",
    "%matplotlib inline\n",
    "import matplotlib.pyplot as plt\n",
    "plt.plot(y)\n",
    "plt.plot(z)\n",
    "plt.legend([\"y\", \"z\"])\n",
    "```"
   ]
  },
  {
   "cell_type": "code",
   "execution_count": 3,
   "metadata": {
    "collapsed": false,
    "pycharm": {
     "is_executing": false,
     "name": "#%%\n"
    }
   },
   "outputs": [
    {
     "data": {
      "text/plain": [
       "<matplotlib.legend.Legend at 0x1879eacfd08>"
      ]
     },
     "execution_count": 3,
     "metadata": {},
     "output_type": "execute_result"
    },
    {
     "data": {
      "image/png": "[encoded data removed]",
      "text/plain": [
       "<Figure size 432x288 with 1 Axes>"
      ]
     },
     "metadata": {
      "needs_background": "light"
     },
     "output_type": "display_data"
    }
   ],
   "source": [
    "%matplotlib inline\n",
    "import matplotlib.pyplot as plt\n",
    "plt.plot(y)\n",
    "plt.plot(z)\n",
    "plt.legend([\"y\", \"z\"])\n"
   ]
  },
  {
   "cell_type": "markdown",
   "metadata": {
    "collapsed": false,
    "pycharm": {
     "name": "#%% md\n"
    }
   },
   "source": [
    "## Problem: Simulate the asymmetricc random walk without an `if`-`then`\n",
    "\n",
    "Use boolean multiplication to simulate the same random walk without using\n",
    "an `if`-`then` statement. "
   ]
  },
  {
   "cell_type": "code",
   "execution_count": 4,
   "metadata": {
    "pycharm": {
     "is_executing": false,
     "name": "#%%\n"
    }
   },
   "outputs": [],
   "source": [
    "y = np.zeros(100)\n",
    "y[0] = e[0]\n",
    "for i in range(1, 100):\n",
    "    y[i] = y[i-1] + e[i] + e[i] * (e[i] < 0)\n",
    "\n",
    "z = np.cumsum(e)"
   ]
  },
  {
   "cell_type": "code",
   "execution_count": 5,
   "metadata": {
    "collapsed": false,
    "pycharm": {
     "is_executing": false,
     "name": "#%%\n"
    }
   },
   "outputs": [],
   "source": [
    "# Setup: Plot the data\n",
    "%matplotlib inline"
   ]
  },
  {
   "cell_type": "code",
   "execution_count": 6,
   "metadata": {
    "collapsed": false,
    "pycharm": {
     "is_executing": false,
     "name": "#%%\n"
    }
   },
   "outputs": [
    {
     "data": {
      "text/plain": [
       "<matplotlib.legend.Legend at 0x1879eba4948>"
      ]
     },
     "execution_count": 6,
     "metadata": {},
     "output_type": "execute_result"
    },
    {
     "data": {
      "image/png": "[encoded data removed]",
      "text/plain": [
       "<Figure size 432x288 with 1 Axes>"
      ]
     },
     "metadata": {
      "needs_background": "light"
     },
     "output_type": "display_data"
    }
   ],
   "source": [
    "import matplotlib.pyplot as plt\n",
    "plt.plot(y)\n",
    "plt.plot(z)\n",
    "plt.legend([\"y\", \"z\"])"
   ]
  },
  {
   "cell_type": "markdown",
   "metadata": {
    "collapsed": false
   },
   "source": [
    "## Problem: Combining flow control\n",
    "For momentum portfolios 1 and 10, compute the length of the runs in the\n",
    "series. In pseudo code,\n",
    "\n",
    "* Start at i=1 and define run(1) = 1\n",
    "* For i in 2,...,T, define run(i) = run(i-1) + 1 if \n",
    "  $\\textrm{sgn}\\left(r_{i}\\right)=\\textrm{sgn}\\left(r_{i-1}\\right)$ else 1.\n",
    "\n",
    "You will need to use `len` and `zeros`. \n",
    "\n",
    "1. Compute the length longest run in the series and the index of the\n",
    "   location of the longest run. Was it positive or negative?\n",
    "2. How many distinct runs lasted 5 or more days?"
   ]
  },
  {
   "cell_type": "code",
   "execution_count": 7,
   "metadata": {
    "collapsed": false,
    "pycharm": {
     "is_executing": false,
     "name": "#%%\n"
    }
   },
   "outputs": [
    {
     "name": "stdout",
     "output_type": "stream",
     "text": [
      "9.0\n"
     ]
    },
    {
     "data": {
      "text/plain": [
       "(array([ 43, 212], dtype=int64),)"
      ]
     },
     "execution_count": 7,
     "metadata": {},
     "output_type": "execute_result"
    }
   ],
   "source": [
    "n = len(mom_01)\n",
    "run = np.zeros(n)\n",
    "# or np.zeros_like(mom_01)\n",
    "# or np.zeros(mom_01.shape)\n",
    "run[0] = 1\n",
    "for i in range(n):\n",
    "    if np.sign(mom_01[i]) == np.sign(mom_01[i-1]):\n",
    "        run[i] = run[i-1] + 1\n",
    "    else:\n",
    "        run[i] = 1\n",
    "\n",
    "max_run = run.max()\n",
    "print(max_run)\n",
    "# Happened twice\n",
    "np.where(run==max_run)"
   ]
  },
  {
   "cell_type": "markdown",
   "metadata": {
    "collapsed": false
   },
   "source": [
    "Plot the runs using \n",
    "\n",
    "```python\n",
    "%matplotlib inline\n",
    "\n",
    "import matplotlib.pyplot as plt\n",
    "plt.plot(run)\n",
    "```"
   ]
  },
  {
   "cell_type": "code",
   "execution_count": 8,
   "metadata": {
    "collapsed": false,
    "pycharm": {
     "is_executing": false,
     "name": "#%%\n"
    }
   },
   "outputs": [
    {
     "data": {
      "text/plain": [
       "[<matplotlib.lines.Line2D at 0x1879ebf8788>]"
      ]
     },
     "execution_count": 8,
     "metadata": {},
     "output_type": "execute_result"
    },
    {
     "data": {
      "image/png": "[encoded data removed]",
      "text/plain": [
       "<Figure size 432x288 with 1 Axes>"
      ]
     },
     "metadata": {
      "needs_background": "light"
     },
     "output_type": "display_data"
    }
   ],
   "source": [
    "%matplotlib inline\n",
    "\n",
    "import matplotlib.pyplot as plt\n",
    "plt.plot(run)"
   ]
  }
 ],
 "metadata": {
  "kernelspec": {
   "display_name": "Python 3",
   "language": "python",
   "name": "python3"
  },
  "language_info": {
   "codemirror_mode": {
    "name": "ipython",
    "version": 3
   },
   "file_extension": ".py",
   "mimetype": "text/x-python",
   "name": "python",
   "nbconvert_exporter": "python",
   "pygments_lexer": "ipython3",
   "version": "3.7.4"
  },
  "pycharm": {
   "stem_cell": {
    "cell_type": "raw",
    "metadata": {
     "collapsed": false
    },
    "source": []
   }
  }
 },
 "nbformat": 4,
 "nbformat_minor": 1
}
