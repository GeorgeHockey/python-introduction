{
 "cells": [
  {
   "cell_type": "markdown",
   "metadata": {
    "collapsed": true,
    "pycharm": {
     "name": "#%% md\n"
    }
   },
   "source": [
    "# Conditional Statements\n",
    "\n",
    "* `if`-`elif`-`else` blocks"
   ]
  },
  {
   "cell_type": "markdown",
   "metadata": {
    "collapsed": false,
    "pycharm": {
     "name": "#%% md\n"
    }
   },
   "source": [
    "## Problem: Print value if negative\n",
    "\n",
    "Draw a standard normal value using `np.random.standard_normal` and print the\n",
    "value if it is negative.\n",
    "\n",
    "**Note**: Rerun the cell a few time to see different output."
   ]
  },
  {
   "cell_type": "code",
   "execution_count": 1,
   "metadata": {
    "collapsed": false,
    "pycharm": {
     "is_executing": false,
     "name": "#%%\n"
    }
   },
   "outputs": [
    {
     "name": "stdout",
     "output_type": "stream",
     "text": [
      "Value: -1.74062723318263\n"
     ]
    }
   ],
   "source": [
    "import numpy as np\n",
    "\n",
    "value = np.random.standard_normal()\n",
    "if value < 0:\n",
    "    print(f\"Value: {value}\")"
   ]
  },
  {
   "cell_type": "markdown",
   "metadata": {
    "collapsed": false,
    "pycharm": {
     "name": "#%% md\n"
    }
   },
   "source": [
    "## Problem: Print different messages based on value\n",
    "\n",
    "Draw a standard normal value and print \"Positive\" if it is positive\n",
    "and \"Negative\" if not."
   ]
  },
  {
   "cell_type": "code",
   "execution_count": 2,
   "metadata": {
    "collapsed": false,
    "pycharm": {
     "is_executing": false,
     "name": "#%%\n"
    }
   },
   "outputs": [
    {
     "name": "stdout",
     "output_type": "stream",
     "text": [
      "Negative\n"
     ]
    }
   ],
   "source": [
    "value = np.random.standard_normal()\n",
    "if value > 0:\n",
    "    print(\"Positive\")\n",
    "else:\n",
    "    print(\"Negative\")"
   ]
  },
  {
   "cell_type": "markdown",
   "metadata": {
    "collapsed": false,
    "pycharm": {
     "name": "#%% md\n"
    }
   },
   "source": [
    "## Problem: \n",
    "\n",
    "Draw a standard t random variable with 2 degrees of freedom using\n",
    "`np.random.standard_t(2)` and print \"Negative Outlier\" if less than -2,\n",
    "\"Positive Outlier\" if larger than 2, and \"Inlier\" if between -2 and 2."
   ]
  },
  {
   "cell_type": "code",
   "execution_count": 3,
   "metadata": {
    "collapsed": false,
    "pycharm": {
     "is_executing": false,
     "name": "#%%\n"
    }
   },
   "outputs": [
    {
     "name": "stdout",
     "output_type": "stream",
     "text": [
      "0.848854514730271\n",
      "Inlier\n"
     ]
    }
   ],
   "source": [
    "value = np.random.standard_t(2)\n",
    "print(value)\n",
    "if value > 2:\n",
    "    print(\"Positive Outlier\")\n",
    "elif value < -2:\n",
    "    print(\"Negative Outlier\")\n",
    "else:\n",
    "    print(\"Inlier\")"
   ]
  }
 ],
 "metadata": {
  "kernelspec": {
   "display_name": "Python 3",
   "language": "python",
   "name": "python3"
  },
  "language_info": {
   "codemirror_mode": {
    "name": "ipython",
    "version": 3
   },
   "file_extension": ".py",
   "mimetype": "text/x-python",
   "name": "python",
   "nbconvert_exporter": "python",
   "pygments_lexer": "ipython3",
   "version": "3.7.4"
  },
  "pycharm": {
   "stem_cell": {
    "cell_type": "raw",
    "metadata": {
     "collapsed": false
    },
    "source": []
   }
  }
 },
 "nbformat": 4,
 "nbformat_minor": 0
}
