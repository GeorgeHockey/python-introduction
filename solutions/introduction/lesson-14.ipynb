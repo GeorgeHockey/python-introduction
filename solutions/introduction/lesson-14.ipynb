{
 "cells": [
  {
   "cell_type": "markdown",
   "metadata": {
    "collapsed": false
   },
   "source": [
    "# Comparison and Logical Operators\n",
    "\n",
    "This lesson covers:\n",
    "\n",
    "* Basic logical operators \n",
    "* Compound operators \n",
    "\n",
    "Begin by loading the data in momentum.csv."
   ]
  },
  {
   "cell_type": "code",
   "execution_count": 1,
   "metadata": {
    "collapsed": false,
    "pycharm": {
     "is_executing": false,
     "name": "#%%\n"
    }
   },
   "outputs": [
    {
     "name": "stdout",
     "output_type": "stream",
     "text": [
      "            mom_01  mom_02  mom_03  mom_04  mom_05  mom_06  mom_07  mom_08  \\\n",
      "date                                                                         \n",
      "2016-01-04    0.67   -0.03   -0.93   -1.11   -1.47   -1.66   -1.40   -2.08   \n",
      "2016-01-05   -0.36    0.20   -0.37    0.28    0.16    0.18   -0.22    0.25   \n",
      "2016-01-06   -4.97   -2.33   -2.60   -1.16   -1.70   -1.45   -1.15   -1.46   \n",
      "2016-01-07   -4.91   -1.91   -3.03   -1.87   -2.31   -2.30   -2.70   -2.31   \n",
      "2016-01-08   -0.40   -1.26   -0.98   -1.26   -1.13   -1.02   -0.96   -1.42   \n",
      "\n",
      "            mom_09  mom_10  \n",
      "date                        \n",
      "2016-01-04   -1.71   -2.67  \n",
      "2016-01-05    0.29    0.13  \n",
      "2016-01-06   -1.14   -0.45  \n",
      "2016-01-07   -2.36   -2.66  \n",
      "2016-01-08   -0.94   -1.32  \n"
     ]
    }
   ],
   "source": [
    "# Setup: Load the momentum data\n",
    "\n",
    "import pandas as pd\n",
    "\n",
    "momentum = pd.read_csv(\"data/momentum.csv\", index_col=\"date\", parse_dates=True)\n",
    "\n",
    "print(momentum.head())\n",
    "\n",
    "mom_01 = momentum[\"mom_01\"]\n",
    "mom_10 = momentum[\"mom_10\"]\n",
    "mom_05 = momentum[\"mom_05\"]\n"
   ]
  },
  {
   "cell_type": "markdown",
   "metadata": {
    "collapsed": false
   },
   "source": [
    "## Problem: Basic Logical Statements\n",
    "\n",
    "For portfolio 1 and portfolio 10, count the number of elements that are\n",
    "$<0$, $\\geq0$, and exactly equal to 0. Next count the number of times that\n",
    "the returns in portfolio 5 are greater, in absolute value, that 2 times\n",
    "the standard deviation of the returns in that portfolio. \n"
   ]
  },
  {
   "cell_type": "code",
   "execution_count": 2,
   "metadata": {
    "collapsed": false,
    "pycharm": {
     "is_executing": false,
     "name": "#%%\n"
    }
   },
   "outputs": [
    {
     "name": "stdout",
     "output_type": "stream",
     "text": [
      "245 258 0\n",
      "215 288 3\n"
     ]
    }
   ],
   "source": [
    "import numpy as np\n",
    "print(np.sum(mom_01 < 0), np.sum(mom_01 >= 0), np.sum(mom_01 == 0))\n",
    "print(np.sum(mom_10 < 0), np.sum(mom_10 >= 0), np.sum(mom_10 == 0))"
   ]
  },
  {
   "cell_type": "code",
   "execution_count": 3,
   "metadata": {
    "collapsed": false,
    "pycharm": {
     "is_executing": false,
     "name": "#%%\n"
    }
   },
   "outputs": [
    {
     "name": "stdout",
     "output_type": "stream",
     "text": [
      "35\n"
     ]
    }
   ],
   "source": [
    "# Use parentheses to make the intent clear. They are not necessary here since\n",
    "# > has lower precedence than * (like how + is lower than * in standard math).\n",
    "print(np.sum(np.abs(mom_05) > (2 * np.std(mom_05))))"
   ]
  },
  {
   "cell_type": "markdown",
   "metadata": {
    "collapsed": false,
    "pycharm": {
     "name": "#%% md\n"
    }
   },
   "source": [
    "## Combining Scalar Boolean Values\n",
    "\n",
    "Use `and`, `or` and `not` to determine if the return on mom_01 on\n",
    "February 14, 2016 is inside or outside an interval of 1 standard deviation\n",
    "of the mean of all of the return of mom_01."
   ]
  },
  {
   "cell_type": "code",
   "execution_count": 6,
   "metadata": {
    "collapsed": false,
    "pycharm": {
     "is_executing": false,
     "name": "#%%\n"
    }
   },
   "outputs": [
    {
     "name": "stdout",
     "output_type": "stream",
     "text": [
      "Mean: 0.102, Std: 1.720, Lower: -1.618, Upper: 1.822\n",
      "Inside: True, Outside: False\n"
     ]
    }
   ],
   "source": [
    "ret = mom_01[\"2017-02-14\"]\n",
    "mean = mom_01.mean()\n",
    "std = mom_01.std()\n",
    "lower = mean - std\n",
    "upper = mean + std\n",
    "\n",
    "inside = (ret >= lower) and (ret <= upper)\n",
    "outside = not inside\n",
    "\n",
    "print(f\"Mean: {mean:0.3f}, Std: {std:0.3f}, Lower: {lower:0.3f}, Upper: {upper:0.3f}\")\n",
    "print(f\"Inside: {inside}, Outside: {outside}\")"
   ]
  },
  {
   "cell_type": "code",
   "execution_count": 7,
   "metadata": {
    "collapsed": false,
    "pycharm": {
     "is_executing": false,
     "name": "#%%\n"
    }
   },
   "outputs": [
    {
     "name": "stdout",
     "output_type": "stream",
     "text": [
      "Inside: True, Outside: False\n"
     ]
    }
   ],
   "source": [
    "outside = (ret<= lower) or (ret >= upper)\n",
    "inside = not outside\n",
    "\n",
    "print(f\"Inside: {inside}, Outside: {outside}\")"
   ]
  }
 ],
 "metadata": {
  "kernelspec": {
   "display_name": "Python 3",
   "language": "python",
   "name": "python3"
  },
  "language_info": {
   "codemirror_mode": {
    "name": "ipython",
    "version": 3
   },
   "file_extension": ".py",
   "mimetype": "text/x-python",
   "name": "python",
   "nbconvert_exporter": "python",
   "pygments_lexer": "ipython3",
   "version": "3.7.4"
  },
  "pycharm": {
   "stem_cell": {
    "cell_type": "raw",
    "source": [],
    "metadata": {
     "collapsed": false
    }
   }
  }
 },
 "nbformat": 4,
 "nbformat_minor": 1
}