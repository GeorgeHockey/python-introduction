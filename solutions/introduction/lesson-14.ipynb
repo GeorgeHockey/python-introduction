{
 "cells": [
  {
   "cell_type": "markdown",
   "metadata": {
    "collapsed": false
   },
   "source": [
    "# Logical Operators\n",
    "\n",
    "This lesson covers:\n",
    "\n",
    "* Basic logical operators \n",
    "* Compound operators \n"
   ]
  },
  {
   "cell_type": "code",
   "execution_count": 1,
   "metadata": {
    "collapsed": false,
    "pycharm": {
     "is_executing": false,
     "name": "#%%\n"
    }
   },
   "outputs": [],
   "source": [
    "# Setup: Reproducible random numbers\n",
    "\n",
    "import numpy as np\n",
    "rs = np.random.RandomState(20000101)\n"
   ]
  },
  {
   "cell_type": "markdown",
   "metadata": {
    "collapsed": false
   },
   "source": [
    "## Problem: Basic Logical Statements\n",
    "\n",
    "Create the variables (in order)\n",
    "\n",
    "* `x` as `rs.sample()`, a uniform on $[0, 1)$\n",
    "* `y` as `rs.standard_normal()`, a standard normal ($N(0,1)$)\n",
    "* `z` as `rs.randint(1, 11)`, a uniform random integer on $[1, 2,\\ldots, 10]$\n",
    "\n",
    "Check whether each of these are above their expected value."
   ]
  },
  {
   "cell_type": "code",
   "execution_count": 2,
   "metadata": {
    "collapsed": false,
    "pycharm": {
     "is_executing": false,
     "name": "#%%\n"
    }
   },
   "outputs": [],
   "source": [
    "x = rs.random_sample()\n",
    "y = rs.standard_normal()\n",
    "z = rs.randint(1, 11)"
   ]
  },
  {
   "cell_type": "code",
   "execution_count": 3,
   "metadata": {
    "collapsed": false,
    "pycharm": {
     "is_executing": false,
     "name": "#%%\n"
    }
   },
   "outputs": [
    {
     "name": "stdout",
     "output_type": "stream",
     "text": [
      "x is above E[X]: False \n",
      "y is above E[Y]: True \n",
      "z is above E[Z]: True \n"
     ]
    }
   ],
   "source": [
    "print(f\"x is above E[X]: {x > 0.5} \")\n",
    "print(f\"y is above E[Y]: {y > 0.0} \")\n",
    "print(f\"z is above E[Z]: {z > 5.5} \")"
   ]
  },
  {
   "cell_type": "markdown",
   "metadata": {
    "collapsed": false,
    "pycharm": {
     "name": "#%% md\n"
    }
   },
   "source": [
    "## Problem: Using comparison operators\n",
    "\n",
    "1. Check if `z` if 7\n",
    "2. Check is `z` is not 5\n",
    "3. Check if `z` is greater than or equal to 9"
   ]
  },
  {
   "cell_type": "code",
   "execution_count": 4,
   "metadata": {
    "collapsed": false,
    "pycharm": {
     "is_executing": false,
     "name": "#%%\n"
    }
   },
   "outputs": [
    {
     "name": "stdout",
     "output_type": "stream",
     "text": [
      "z is 7: False\n",
      "z is not 5: True\n",
      "z is >= 9: False\n"
     ]
    }
   ],
   "source": [
    "print(f\"z is 7: {z == 7}\")\n",
    "print(f\"z is not 5: {z != 5}\")\n",
    "print(f\"z is >= 9: {z >= 9}\")\n"
   ]
  },
  {
   "cell_type": "markdown",
   "metadata": {
    "collapsed": false,
    "pycharm": {
     "is_executing": false,
     "name": "#%% md\n"
    }
   },
   "source": [
    "## Problem: Combining booleans \n",
    "\n",
    "1. Determine if $2\\leq z < 8$\n",
    "2. Determine if $z < 2 \\cup z \\geq 8$ using `or`\n",
    "3. Rewrite 2 using `not` and your result from 1."
   ]
  },
  {
   "cell_type": "code",
   "execution_count": 5,
   "metadata": {
    "collapsed": false,
    "pycharm": {
     "is_executing": false,
     "name": "#%%\n"
    }
   },
   "outputs": [
    {
     "name": "stdout",
     "output_type": "stream",
     "text": [
      "2<=z<8: False\n",
      "z<2 or z>= 8: True\n",
      "z<2 or z>= 8: True\n"
     ]
    }
   ],
   "source": [
    "print(f\"2<=z<8: {((z>= 2) and (z<8))}\")\n",
    "print(f\"z<2 or z>= 8: {((z< 2) or (z>=8))}\")\n",
    "print(f\"z<2 or z>= 8: {not ((z>= 2) and (z<8))}\")\n"
   ]
  },
  {
   "cell_type": "markdown",
   "metadata": {
    "collapsed": false,
    "pycharm": {
     "name": "#%% md\n"
    }
   },
   "source": [
    "## Exercises\n",
    "\n",
    "### Exercise: Classify two points\n",
    "\n",
    "Generate two standard normal values `x` and `y` using\n",
    "two calls to `rs.standard_normal()`. Use an `if`-`elif`-`else` \n",
    "clause to print the quadrant they are in.  The four quadrants are\n",
    "upper right, upper left, lower left and lower right.\n"
   ]
  },
  {
   "cell_type": "code",
   "execution_count": 6,
   "metadata": {
    "collapsed": false,
    "pycharm": {
     "is_executing": false,
     "name": "#%%\n"
    }
   },
   "outputs": [
    {
     "name": "stdout",
     "output_type": "stream",
     "text": [
      "Upper left\n"
     ]
    }
   ],
   "source": [
    "x = rs.standard_normal()\n",
    "y = rs.standard_normal()\n",
    "\n",
    "if x > 0 and y > 0:\n",
    "    print(\"Upper right\")\n",
    "elif x > 0 and y < 0:\n",
    "    print(\"Lower right\")\n",
    "elif x < 0 and y > 0:\n",
    "    print(\"Upper left\")\n",
    "else:\n",
    "    print(\"Lower left\")\n",
    "    "
   ]
  },
  {
   "cell_type": "code",
   "execution_count": 7,
   "metadata": {
    "collapsed": false,
    "pycharm": {
     "is_executing": false,
     "name": "#%%\n"
    }
   },
   "outputs": [
    {
     "name": "stdout",
     "output_type": "stream",
     "text": [
      "Upper left\n"
     ]
    }
   ],
   "source": [
    "if x > 0:\n",
    "    if y > 0:\n",
    "        print(\"Upper right\")\n",
    "    else:\n",
    "        print(\"Lower right\")\n",
    "else:\n",
    "    if y > 0:\n",
    "        print(\"Upper left\")\n",
    "    else:\n",
    "        print(\"Lower left\")"
   ]
  },
  {
   "cell_type": "code",
   "execution_count": 8,
   "metadata": {
    "collapsed": false,
    "pycharm": {
     "is_executing": false,
     "name": "#%%\n"
    }
   },
   "outputs": [
    {
     "name": "stdout",
     "output_type": "stream",
     "text": [
      "Upper left\n"
     ]
    }
   ],
   "source": [
    "# Often many way to complete any task\n",
    "if x > 0:\n",
    "    x_pos = \"right\"\n",
    "else:\n",
    "    x_pos = \"left\"\n",
    "if y > 0:\n",
    "    y_pos = \"Upper\"\n",
    "else:\n",
    "    y_pos = \"Lower\"\n",
    "print(y_pos + \" \" + x_pos)"
   ]
  },
  {
   "cell_type": "markdown",
   "metadata": {
    "collapsed": false,
    "pycharm": {
     "name": "#%% md\n"
    }
   },
   "source": [
    "### Exercise: Generate a contaminated normal\n",
    "\n",
    "Generate a uniform using `u = rs.sample()`. Using this value and an \n",
    "`if`-`else` clause, generate a contaminated normal which is a draw from a\n",
    "$N(0,1)$ ($N(\\mu,sigma^2)$) if $u<0.95$ or a draw from a $N(0,10)$ otherwise.\n",
    "Use `rs.normal` to generate the normal variable."
   ]
  },
  {
   "cell_type": "code",
   "execution_count": 9,
   "metadata": {
    "collapsed": false,
    "pycharm": {
     "is_executing": false,
     "name": "#%%\n"
    }
   },
   "outputs": [
    {
     "name": "stdout",
     "output_type": "stream",
     "text": [
      "0.30806200510700177 -0.041771312955675925\n"
     ]
    }
   ],
   "source": [
    "u = rs.random_sample()\n",
    "if u < 0.95:\n",
    "    x = rs.normal()\n",
    "else:\n",
    "    x = rs.normal(0, np.sqrt(10))\n",
    "\n",
    "print(u, x)"
   ]
  }
 ],
 "metadata": {
  "kernelspec": {
   "display_name": "Python 3",
   "language": "python",
   "name": "python3"
  },
  "language_info": {
   "codemirror_mode": {
    "name": "ipython",
    "version": 3
   },
   "file_extension": ".py",
   "mimetype": "text/x-python",
   "name": "python",
   "nbconvert_exporter": "python",
   "pygments_lexer": "ipython3",
   "version": "3.7.4"
  },
  "pycharm": {
   "stem_cell": {
    "cell_type": "raw",
    "metadata": {
     "collapsed": false
    },
    "source": []
   }
  }
 },
 "nbformat": 4,
 "nbformat_minor": 1
}
