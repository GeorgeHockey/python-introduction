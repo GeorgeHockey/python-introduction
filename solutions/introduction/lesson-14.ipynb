{
 "cells": [
  {
   "cell_type": "markdown",
   "metadata": {
    "collapsed": false
   },
   "source": [
    "# Logical Operators\n",
    "\n",
    "This lesson covers:\n",
    "\n",
    "* Basic logical operators \n",
    "* Compound operators \n"
   ]
  },
  {
   "cell_type": "code",
   "execution_count": 1,
   "metadata": {
    "collapsed": false,
    "pycharm": {
     "is_executing": false,
     "name": "#%%\n"
    }
   },
   "outputs": [],
   "source": [
    "# Setup: Reproducible random numbers\n",
    "\n",
    "import numpy as np\n",
    "rs = np.random.RandomState(20000101)\n"
   ]
  },
  {
   "cell_type": "markdown",
   "metadata": {
    "collapsed": false
   },
   "source": [
    "## Problem: Basic Logical Statements\n",
    "\n",
    "Create the variables (in order)\n",
    "\n",
    "* `x` as `rs.sample()`, a uniform on $[0, 1)$\n",
    "* `y` as `rs.standard_normal()`, a standard normal ($N(0,1)$)\n",
    "* `z` as `rs.randint(1, 11)`, a uniform ranomd integer on $[1, 2,\\ldots, 10]$\n",
    "\n",
    "Check whether each of these are above their expected value."
   ]
  },
  {
   "cell_type": "code",
   "execution_count": 2,
   "metadata": {
    "collapsed": false,
    "pycharm": {
     "is_executing": false,
     "name": "#%%\n"
    }
   },
   "outputs": [],
   "source": [
    "x = rs.random_sample()\n",
    "y = rs.standard_normal()\n",
    "z = rs.randint(1, 11)"
   ]
  },
  {
   "cell_type": "code",
   "execution_count": 3,
   "metadata": {
    "collapsed": false,
    "pycharm": {
     "is_executing": false,
     "name": "#%%\n"
    }
   },
   "outputs": [
    {
     "name": "stdout",
     "output_type": "stream",
     "text": [
      "x is above E[X]: False \n",
      "y is above E[Y]: True \n",
      "z is above E[Z]: True \n"
     ]
    }
   ],
   "source": [
    "print(f\"x is above E[X]: {x > 0.5} \")\n",
    "print(f\"y is above E[Y]: {y > 0.0} \")\n",
    "print(f\"z is above E[Z]: {z > 5.5} \")"
   ]
  },
  {
   "cell_type": "markdown",
   "metadata": {
    "collapsed": false,
    "pycharm": {
     "name": "#%% md\n"
    }
   },
   "source": [
    "## Problem: Using comparison operators\n",
    "\n",
    "1. Check if `z` if 7\n",
    "2. Check is `z` is not 5\n",
    "3. Check if `z` is greater than or equal to 9"
   ]
  },
  {
   "cell_type": "code",
   "execution_count": 4,
   "metadata": {
    "collapsed": false,
    "pycharm": {
     "is_executing": false,
     "name": "#%%\n"
    }
   },
   "outputs": [
    {
     "name": "stdout",
     "output_type": "stream",
     "text": [
      "z is 7: False\n",
      "z is not 5: True\n",
      "z is >= 9: False\n"
     ]
    }
   ],
   "source": [
    "print(f\"z is 7: {z == 7}\")\n",
    "print(f\"z is not 5: {z != 5}\")\n",
    "print(f\"z is >= 9: {z >= 9}\")\n"
   ]
  },
  {
   "cell_type": "markdown",
   "metadata": {
    "collapsed": false,
    "pycharm": {
     "is_executing": false,
     "name": "#%% md\n"
    }
   },
   "source": [
    "## Problem: Combining booleans \n",
    "\n",
    "1. Determine if $2\\leq z < 8$\n",
    "2. Determine if $z < 2 \\cup z \\geq 8$ using `or`\n",
    "3. Rewrite 2 using `not` and your result from 1."
   ]
  },
  {
   "cell_type": "code",
   "execution_count": 5,
   "metadata": {
    "collapsed": false,
    "pycharm": {
     "name": "#%%\n"
    }
   },
   "outputs": [
    {
     "name": "stdout",
     "output_type": "stream",
     "text": [
      "2<=z<8: False\n",
      "z<2 or z>= 8: True\n",
      "z<2 or z>= 8: True\n"
     ]
    }
   ],
   "source": [
    "print(f\"2<=z<8: {((z>= 2) and (z<8))}\")\n",
    "print(f\"z<2 or z>= 8: {((z< 2) or (z>=8))}\")\n",
    "print(f\"z<2 or z>= 8: {not ((z>= 2) and (z<8))}\")"
   ]
  }
 ],
 "metadata": {
  "kernelspec": {
   "display_name": "Python 3",
   "language": "python",
   "name": "python3"
  },
  "language_info": {
   "codemirror_mode": {
    "name": "ipython",
    "version": 3
   },
   "file_extension": ".py",
   "mimetype": "text/x-python",
   "name": "python",
   "nbconvert_exporter": "python",
   "pygments_lexer": "ipython3",
   "version": "3.7.4"
  },
  "pycharm": {
   "stem_cell": {
    "cell_type": "raw",
    "metadata": {
     "collapsed": false
    },
    "source": []
   }
  }
 },
 "nbformat": 4,
 "nbformat_minor": 1
}
