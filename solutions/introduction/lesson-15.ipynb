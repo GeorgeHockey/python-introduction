{
 "cells": [
  {
   "cell_type": "markdown",
   "metadata": {},
   "source": [
    "# Logic and Loops\n",
    "\n",
    "This lesson covers:\n",
    "\n",
    "* Mixing logic and loops \n",
    "\n",
    "Begin by loading the data in momentum.csv.\n"
   ]
  },
  {
   "cell_type": "code",
   "execution_count": 1,
   "metadata": {
    "pycharm": {
     "is_executing": false,
     "name": "#%%\n"
    }
   },
   "outputs": [
    {
     "name": "stdout",
     "output_type": "stream",
     "text": [
      "            mom_01  mom_02  mom_03  mom_04  mom_05  mom_06  mom_07  mom_08  \\\n",
      "date                                                                         \n",
      "2016-01-04    0.67   -0.03   -0.93   -1.11   -1.47   -1.66   -1.40   -2.08   \n",
      "2016-01-05   -0.36    0.20   -0.37    0.28    0.16    0.18   -0.22    0.25   \n",
      "2016-01-06   -4.97   -2.33   -2.60   -1.16   -1.70   -1.45   -1.15   -1.46   \n",
      "2016-01-07   -4.91   -1.91   -3.03   -1.87   -2.31   -2.30   -2.70   -2.31   \n",
      "2016-01-08   -0.40   -1.26   -0.98   -1.26   -1.13   -1.02   -0.96   -1.42   \n",
      "\n",
      "            mom_09  mom_10  \n",
      "date                        \n",
      "2016-01-04   -1.71   -2.67  \n",
      "2016-01-05    0.29    0.13  \n",
      "2016-01-06   -1.14   -0.45  \n",
      "2016-01-07   -2.36   -2.66  \n",
      "2016-01-08   -0.94   -1.32  \n"
     ]
    }
   ],
   "source": [
    "# Setup: Load the momentum data\n",
    "\n",
    "import numpy as np\n",
    "import pandas as pd\n",
    "\n",
    "momentum = pd.read_csv(\"data/momentum.csv\", index_col=\"date\", parse_dates=True)\n",
    "\n",
    "print(momentum.head())\n",
    "\n",
    "mom_01 = momentum[\"mom_01\"]\n",
    "mom_10 = momentum[\"mom_10\"]\n",
    "mom_05 = momentum[\"mom_05\"]"
   ]
  },
  {
   "cell_type": "markdown",
   "metadata": {},
   "source": [
    "## Problem: Logical Statements and for Loops\n",
    "Use a for loop along with an `if` statement to simulate an asymmetric random\n",
    "walk of the form \n",
    "\n",
    "$$y_{i}=y_{i-1}+e_{i}+I_{[e_{i}<0]}e_{i}$$\n",
    "\n",
    "where $I_{[e_{i}<0]}$ is known as an indicator variable that takes the value\n",
    "1 if the statement in brackets is true. Plot y. $e$ is a standard normal\n",
    "shock. Use `cumsum` to simulate a symmetric one (`z`), and plot the two using\n",
    "the code in the cell below.\n",
    " "
   ]
  },
  {
   "cell_type": "code",
   "execution_count": 2,
   "metadata": {
    "collapsed": false,
    "pycharm": {
     "is_executing": false,
     "name": "#%%\n"
    }
   },
   "outputs": [],
   "source": [
    "e = np.random.standard_normal(100)\n",
    "y = np.zeros(100)\n",
    "y[0] = e[0]\n",
    "for i in range(1, 100):\n",
    "    y[i] = y[i-1]\n",
    "    if e[i] < 0:\n",
    "        y[i] += 2 * e[i]\n",
    "    else:\n",
    "        y[i] += e[i]\n",
    "\n",
    "z = np.cumsum(e)"
   ]
  },
  {
   "cell_type": "markdown",
   "metadata": {
    "collapsed": false,
    "pycharm": {
     "name": "#%% md\n"
    }
   },
   "source": [
    "Plot the two random walks using the code.  We will cover data visualization\n",
    "in a later lesson. \n",
    "\n",
    "```python\n",
    "%matplotlib inline\n",
    "import matplotlib.pyplot as plt\n",
    "plt.plot(y)\n",
    "plt.plot(z)\n",
    "plt.legend([\"y\", \"z\"])\n",
    "```"
   ]
  },
  {
   "cell_type": "code",
   "execution_count": 3,
   "metadata": {
    "collapsed": false,
    "pycharm": {
     "is_executing": false,
     "name": "#%%\n"
    }
   },
   "outputs": [
    {
     "data": {
      "text/plain": [
       "<matplotlib.legend.Legend at 0x1934e989348>"
      ]
     },
     "execution_count": 3,
     "metadata": {},
     "output_type": "execute_result"
    },
    {
     "data": {
      "image/png": "[encoded data removed]",
      "text/plain": [
       "<Figure size 432x288 with 1 Axes>"
      ]
     },
     "metadata": {
      "needs_background": "light"
     },
     "output_type": "display_data"
    }
   ],
   "source": [
    "%matplotlib inline\n",
    "import matplotlib.pyplot as plt\n",
    "plt.plot(y)\n",
    "plt.plot(z)\n",
    "plt.legend([\"y\", \"z\"])\n"
   ]
  },
  {
   "cell_type": "markdown",
   "metadata": {
    "collapsed": false,
    "pycharm": {
     "name": "#%% md\n"
    }
   },
   "source": [
    "## Problem: Simulate the asymmetricc random walk without an `if`-`then`\n",
    "\n",
    "Use boolean multiplication to simulate the same random walk without using\n",
    "an `if`-`then` statement. "
   ]
  },
  {
   "cell_type": "code",
   "execution_count": 4,
   "metadata": {
    "pycharm": {
     "is_executing": false,
     "name": "#%%\n"
    }
   },
   "outputs": [],
   "source": [
    "y = np.zeros(100)\n",
    "y[0] = e[0]\n",
    "for i in range(1, 100):\n",
    "    y[i] = y[i-1] + e[i] + e[i] * (e[i] < 0)\n",
    "\n",
    "z = np.cumsum(e)"
   ]
  },
  {
   "cell_type": "code",
   "execution_count": 5,
   "metadata": {
    "collapsed": false,
    "pycharm": {
     "is_executing": false,
     "name": "#%%\n"
    }
   },
   "outputs": [],
   "source": [
    "# Setup: Plot the data\n",
    "%matplotlib inline"
   ]
  },
  {
   "cell_type": "code",
   "execution_count": 6,
   "metadata": {
    "collapsed": false,
    "pycharm": {
     "is_executing": false,
     "name": "#%%\n"
    }
   },
   "outputs": [
    {
     "data": {
      "text/plain": [
       "<matplotlib.legend.Legend at 0x1934eeccac8>"
      ]
     },
     "execution_count": 6,
     "metadata": {},
     "output_type": "execute_result"
    },
    {
     "data": {
      "image/png": "[encoded data removed]",
      "text/plain": [
       "<Figure size 432x288 with 1 Axes>"
      ]
     },
     "metadata": {
      "needs_background": "light"
     },
     "output_type": "display_data"
    }
   ],
   "source": [
    "import matplotlib.pyplot as plt\n",
    "plt.plot(y)\n",
    "plt.plot(z)\n",
    "plt.legend([\"y\", \"z\"])\n"
   ]
  },
  {
   "cell_type": "markdown",
   "metadata": {},
   "source": [
    "## Problem: Selecting Elements using Logical Statements\n",
    "For portfolio 1 and portfolio 10, select the elements that are $<0$,\n",
    "$\\geq 0$ and exactly equal to $0$. Next select the elements where both\n",
    "portfolios are less than $0$. \n"
   ]
  },
  {
   "cell_type": "code",
   "execution_count": 7,
   "metadata": {
    "pycharm": {
     "is_executing": false,
     "name": "#%%\n"
    }
   },
   "outputs": [
    {
     "name": "stdout",
     "output_type": "stream",
     "text": [
      "date\n",
      "2016-01-05   -0.36\n",
      "2016-01-06   -4.97\n",
      "2016-01-07   -4.91\n",
      "2016-01-08   -0.40\n",
      "2016-01-11   -5.14\n",
      "2016-01-12   -1.84\n",
      "2016-01-13   -4.88\n",
      "2016-01-15   -3.85\n",
      "2016-01-19   -4.74\n",
      "2016-01-20   -1.27\n",
      "Name: mom_01, dtype: float64\n",
      "date\n",
      "2016-01-04   -2.67\n",
      "2016-01-06   -0.45\n",
      "2016-01-07   -2.66\n",
      "2016-01-08   -1.32\n",
      "2016-01-13   -3.71\n",
      "2016-01-15   -2.40\n",
      "2016-01-20   -0.42\n",
      "2016-01-25   -1.12\n",
      "2016-01-27   -2.02\n",
      "2016-02-02   -1.70\n",
      "Name: mom_10, dtype: float64\n"
     ]
    }
   ],
   "source": [
    "mom_01_neg = mom_01[mom_01 < 0]\n",
    "mom_10_neg = mom_10[mom_10 < 0]\n",
    "print(mom_01_neg[:10])\n",
    "print(mom_10_neg[:10])"
   ]
  },
  {
   "cell_type": "code",
   "execution_count": 8,
   "metadata": {
    "collapsed": false,
    "pycharm": {
     "is_executing": false,
     "name": "#%%\n"
    }
   },
   "outputs": [
    {
     "name": "stdout",
     "output_type": "stream",
     "text": [
      "Series([], Name: mom_01, dtype: float64)\n",
      "date\n",
      "2016-05-31    0.0\n",
      "2017-02-10    0.0\n",
      "2017-11-08    0.0\n",
      "Name: mom_10, dtype: float64\n"
     ]
    }
   ],
   "source": [
    "mom_01_eq0 = mom_01[mom_01 == 0]\n",
    "# There are none, so this series is empty\n",
    "print(mom_01_eq0)\n",
    "\n",
    "mom_10_eq0 = mom_10[mom_10 == 0]\n",
    "print(mom_10_eq0)"
   ]
  },
  {
   "cell_type": "code",
   "execution_count": 9,
   "metadata": {
    "collapsed": false,
    "pycharm": {
     "is_executing": false,
     "name": "#%%\n"
    }
   },
   "outputs": [
    {
     "name": "stdout",
     "output_type": "stream",
     "text": [
      "date\n",
      "2016-01-04    0.67\n",
      "2016-01-14    3.85\n",
      "2016-01-21    7.67\n",
      "2016-01-22    4.24\n",
      "2016-01-26    4.75\n",
      "2016-01-28    1.04\n",
      "2016-01-29    6.12\n",
      "2016-02-03    4.92\n",
      "2016-02-04    3.26\n",
      "2016-02-12    5.19\n",
      "Name: mom_01, dtype: float64\n"
     ]
    }
   ],
   "source": [
    "mom_01_neg = mom_01[mom_01 >= 0]\n",
    "print(mom_01_neg[:10])"
   ]
  }
 ],
 "metadata": {
  "kernelspec": {
   "display_name": "Python 3",
   "language": "python",
   "name": "python3"
  },
  "language_info": {
   "codemirror_mode": {
    "name": "ipython",
    "version": 3
   },
   "file_extension": ".py",
   "mimetype": "text/x-python",
   "name": "python",
   "nbconvert_exporter": "python",
   "pygments_lexer": "ipython3",
   "version": "3.7.4"
  },
  "pycharm": {
   "stem_cell": {
    "cell_type": "raw",
    "metadata": {
     "collapsed": false
    },
    "source": []
   }
  }
 },
 "nbformat": 4,
 "nbformat_minor": 1
}
