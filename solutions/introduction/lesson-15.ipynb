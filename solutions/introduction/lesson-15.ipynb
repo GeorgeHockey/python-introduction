{
 "cells": [
  {
   "cell_type": "markdown",
   "metadata": {
    "collapsed": false
   },
   "source": [
    "# Boolean Arrays \n",
    "\n",
    "This lesson covers:\n",
    "\n",
    "* Creating Boolean arrays\n",
    "* Combining Boolean arrays\n",
    "* `all` and `any`\n",
    "\n",
    "Begin by loading the data in momentum.csv.\n"
   ]
  },
  {
   "cell_type": "code",
   "execution_count": 1,
   "metadata": {
    "collapsed": false,
    "pycharm": {
     "name": "#%%\n"
    }
   },
   "outputs": [
    {
     "name": "stdout",
     "output_type": "stream",
     "text": [
      "            mom_01  mom_02  mom_03  mom_04  mom_05  mom_06  mom_07  mom_08  \\\n",
      "date                                                                         \n",
      "2016-01-04    0.67   -0.03   -0.93   -1.11   -1.47   -1.66   -1.40   -2.08   \n",
      "2016-01-05   -0.36    0.20   -0.37    0.28    0.16    0.18   -0.22    0.25   \n",
      "2016-01-06   -4.97   -2.33   -2.60   -1.16   -1.70   -1.45   -1.15   -1.46   \n",
      "2016-01-07   -4.91   -1.91   -3.03   -1.87   -2.31   -2.30   -2.70   -2.31   \n",
      "2016-01-08   -0.40   -1.26   -0.98   -1.26   -1.13   -1.02   -0.96   -1.42   \n",
      "\n",
      "            mom_09  mom_10  \n",
      "date                        \n",
      "2016-01-04   -1.71   -2.67  \n",
      "2016-01-05    0.29    0.13  \n",
      "2016-01-06   -1.14   -0.45  \n",
      "2016-01-07   -2.36   -2.66  \n",
      "2016-01-08   -0.94   -1.32  \n"
     ]
    }
   ],
   "source": [
    "# Setup: Load the momentum data\n",
    "\n",
    "import numpy as np\n",
    "import pandas as pd\n",
    "\n",
    "momentum = pd.read_csv(\"data/momentum.csv\", index_col=\"date\", parse_dates=True)\n",
    "\n",
    "print(momentum.head())\n",
    "\n",
    "mom_01 = momentum[\"mom_01\"]\n",
    "mom_10 = momentum[\"mom_10\"]\n",
    "mom_05 = momentum[\"mom_05\"]\n"
   ]
  },
  {
   "cell_type": "markdown",
   "metadata": {
    "collapsed": false
   },
   "source": [
    "## Problem: Boolean arrays\n",
    "For portfolios 1 and 10, determine whether each return is $<0$ (separately)."
   ]
  },
  {
   "cell_type": "code",
   "execution_count": 2,
   "metadata": {
    "collapsed": false,
    "pycharm": {
     "name": "#%%\n"
    }
   },
   "outputs": [],
   "source": [
    "mom_01_neg = mom_01 < 0\n",
    "mom_10_neg = mom_10 < 0"
   ]
  },
  {
   "cell_type": "markdown",
   "metadata": {
    "collapsed": false
   },
   "source": [
    "## Problem: Combining boolean arrays\n",
    "Count the number of times that the returns in both portfolio 1 and portfolio\n",
    "10 are negative. Next count the number of times that the returns in portfolios\n",
    "1 and 10 are both greater, in absolute value, that 2 times their respective\n",
    "standard deviations. "
   ]
  },
  {
   "cell_type": "code",
   "execution_count": 3,
   "metadata": {
    "collapsed": false,
    "pycharm": {
     "name": "#%%\n"
    }
   },
   "outputs": [
    {
     "name": "stdout",
     "output_type": "stream",
     "text": [
      "136\n"
     ]
    }
   ],
   "source": [
    "# Using shortcut operator &. Care is needed since & has higher precedence than \n",
    "# logical comparison operators like < or >=.\n",
    "both = mom_01_neg & mom_10_neg\n",
    "print(both.sum())"
   ]
  },
  {
   "cell_type": "code",
   "execution_count": 4,
   "metadata": {
    "collapsed": false,
    "pycharm": {
     "name": "#%%\n"
    }
   },
   "outputs": [
    {
     "name": "stdout",
     "output_type": "stream",
     "text": [
      "136\n"
     ]
    }
   ],
   "source": [
    "# Equivalent using a function `logical_and`\n",
    "both = np.logical_and(mom_01_neg, mom_10_neg)\n",
    "print(both.sum())\n"
   ]
  },
  {
   "cell_type": "markdown",
   "metadata": {
    "collapsed": false
   },
   "source": [
    "## Problem: Combining boolean arrays\n",
    "For portfolios 1 and 10, count the number of times either of the returns is $<0$.\n"
   ]
  },
  {
   "cell_type": "code",
   "execution_count": 5,
   "metadata": {
    "collapsed": false,
    "pycharm": {
     "name": "#%%\n"
    }
   },
   "outputs": [
    {
     "name": "stdout",
     "output_type": "stream",
     "text": [
      "324\n"
     ]
    }
   ],
   "source": [
    "either_neg = (mom_01_neg | mom_10_neg)\n",
    "print(either_neg.sum())\n"
   ]
  },
  {
   "cell_type": "markdown",
   "metadata": {
    "collapsed": false
   },
   "source": [
    "## Problem: Count the frequency of negative returns\n",
    "\n",
    "What percent of returns are negative for each of the 10 momentum portfolios?"
   ]
  },
  {
   "cell_type": "code",
   "execution_count": 6,
   "metadata": {
    "collapsed": false,
    "pycharm": {
     "name": "#%%\n"
    }
   },
   "outputs": [
    {
     "data": {
      "text/plain": [
       "mom_01    48.707753\n",
       "mom_02    45.725646\n",
       "mom_03    44.532803\n",
       "mom_04    44.532803\n",
       "mom_05    43.538767\n",
       "mom_06    44.731610\n",
       "mom_07    43.936382\n",
       "mom_08    43.936382\n",
       "mom_09    44.333996\n",
       "mom_10    42.743539\n",
       "dtype: float64"
      ]
     },
     "execution_count": 6,
     "metadata": {},
     "output_type": "execute_result"
    }
   ],
   "source": [
    "100 * (momentum < 0).mean()"
   ]
  },
  {
   "cell_type": "markdown",
   "metadata": {
    "collapsed": false
   },
   "source": [
    "## Problem: Use `any` to find large losses\n",
    "\n",
    "Use any to determine if any of the 10 portfolios experienced a loss\n",
    "greater than -5%."
   ]
  },
  {
   "cell_type": "code",
   "execution_count": 7,
   "metadata": {
    "collapsed": false,
    "pycharm": {
     "name": "#%%\n"
    }
   },
   "outputs": [
    {
     "data": {
      "text/plain": [
       "True"
      ]
     },
     "execution_count": 7,
     "metadata": {},
     "output_type": "execute_result"
    }
   ],
   "source": [
    "np.any(momentum < -.05)"
   ]
  },
  {
   "cell_type": "code",
   "execution_count": 8,
   "metadata": {
    "collapsed": false,
    "pycharm": {
     "name": "#%%\n"
    }
   },
   "outputs": [
    {
     "data": {
      "text/plain": [
       "mom_01    True\n",
       "mom_02    True\n",
       "mom_03    True\n",
       "mom_04    True\n",
       "mom_05    True\n",
       "mom_06    True\n",
       "mom_07    True\n",
       "mom_08    True\n",
       "mom_09    True\n",
       "mom_10    True\n",
       "dtype: bool"
      ]
     },
     "execution_count": 8,
     "metadata": {},
     "output_type": "execute_result"
    }
   ],
   "source": [
    "# Must use axis to perform column-by-column\n",
    "np.any(momentum < -.05, axis=0)"
   ]
  },
  {
   "cell_type": "code",
   "execution_count": 9,
   "metadata": {
    "collapsed": false,
    "pycharm": {
     "name": "#%%\n"
    }
   },
   "outputs": [
    {
     "data": {
      "text/plain": [
       "mom_01     True\n",
       "mom_02     True\n",
       "mom_03     True\n",
       "mom_04    False\n",
       "mom_05    False\n",
       "mom_06    False\n",
       "mom_07    False\n",
       "mom_08    False\n",
       "mom_09    False\n",
       "mom_10    False\n",
       "dtype: bool"
      ]
     },
     "execution_count": 9,
     "metadata": {},
     "output_type": "execute_result"
    }
   ],
   "source": [
    "# Built-in pandas operations work column-by-column\n",
    "(momentum < -5).any()"
   ]
  },
  {
   "cell_type": "markdown",
   "metadata": {
    "collapsed": false
   },
   "source": [
    "Use `all` and negation to do the same check as `any`."
   ]
  },
  {
   "cell_type": "code",
   "execution_count": 10,
   "metadata": {
    "collapsed": false,
    "pycharm": {
     "name": "#%%\n"
    }
   },
   "outputs": [
    {
     "data": {
      "text/plain": [
       "mom_01     True\n",
       "mom_02     True\n",
       "mom_03     True\n",
       "mom_04    False\n",
       "mom_05    False\n",
       "mom_06    False\n",
       "mom_07    False\n",
       "mom_08    False\n",
       "mom_09    False\n",
       "mom_10    False\n",
       "dtype: bool"
      ]
     },
     "execution_count": 10,
     "metadata": {},
     "output_type": "execute_result"
    }
   ],
   "source": [
    "~((momentum >= -5).all())"
   ]
  },
  {
   "cell_type": "markdown",
   "metadata": {
    "collapsed": false
   },
   "source": [
    "## Exercises\n",
    "\n",
    "### Exercise: all and any\n",
    "Use all to determine the number of days where all of the portfolio returns\n",
    "were negative. Use any to compute the number of days with at least 1 negative\n",
    "return and with no negative returns (Hint: use negation (~ or `logical_not`)). "
   ]
  }
 ],
 "metadata": {
  "kernelspec": {
   "display_name": "Python 3",
   "language": "python",
   "name": "python3"
  },
  "language_info": {
   "codemirror_mode": {
    "name": "ipython",
    "version": 3
   },
   "file_extension": ".py",
   "mimetype": "text/x-python",
   "name": "python",
   "nbconvert_exporter": "python",
   "pygments_lexer": "ipython3",
   "version": "3.7.4"
  },
  "pycharm": {
   "stem_cell": {
    "cell_type": "raw",
    "metadata": {
     "collapsed": false
    },
    "source": []
   }
  }
 },
 "nbformat": 4,
 "nbformat_minor": 0
}
