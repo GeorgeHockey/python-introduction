{
 "cells": [
  {
   "cell_type": "markdown",
   "metadata": {
    "collapsed": false,
    "pycharm": {
     "name": "#%% md\n"
    }
   },
   "source": [
    "# Constructing DataFrames from Series\n",
    "\n",
    "This lesson introduced method to construct a DataFrame from multiple\n",
    "Series.\n",
    "\n",
    "This first block loads the variables created in an earlier lesson.  A\n",
    "later lesson will cover loading and saving data."
   ]
  },
  {
   "cell_type": "code",
   "execution_count": 1,
   "metadata": {
    "collapsed": false,
    "pycharm": {
     "is_executing": false,
     "name": "#%%\n"
    }
   },
   "outputs": [],
   "source": [
    "# Setup: Load data created in an earlier lesson\n",
    "\n",
    "import pandas as pd\n",
    "\n",
    "hdf_file = \"data/dataframes.h5\"\n",
    "\n",
    "sep_04 = pd.read_hdf(hdf_file, \"sep_04\")\n",
    "sep_05 = pd.read_hdf(hdf_file, \"sep_05\")\n",
    "sep_06 = pd.read_hdf(hdf_file, \"sep_06\")\n",
    "sep_07 = pd.read_hdf(hdf_file, \"sep_07\")\n",
    "sep_10 = pd.read_hdf(hdf_file, \"sep_10\")\n",
    "sep_11 = pd.read_hdf(hdf_file, \"sep_11\")\n",
    "sep_12 = pd.read_hdf(hdf_file, \"sep_12\")\n",
    "sep_13 = pd.read_hdf(hdf_file, \"sep_13\")\n",
    "sep_14 = pd.read_hdf(hdf_file, \"sep_14\")\n",
    "sep_17 = pd.read_hdf(hdf_file, \"sep_17\")\n",
    "sep_18 = pd.read_hdf(hdf_file, \"sep_18\")\n",
    "sep_19 = pd.read_hdf(hdf_file, \"sep_19\")\n",
    "\n",
    "spy = pd.read_hdf(hdf_file, \"spy\")\n",
    "aapl = pd.read_hdf(hdf_file, \"aapl\")\n",
    "goog = pd.read_hdf(hdf_file, \"goog\")\n",
    "\n",
    "dates = pd.to_datetime(pd.read_hdf(hdf_file, \"dates\"))\n",
    "\n",
    "prices = pd.read_hdf(hdf_file, \"prices\")"
   ]
  },
  {
   "cell_type": "markdown",
   "metadata": {
    "collapsed": false
   },
   "source": [
    "## Problem: Construct a DataFrame from rows\n",
    "\n",
    "Create a DataFrame named `prices_row` from the row vectors previously\n",
    "entered such that the results are identical to prices. For example, the first\n",
    "two days worth of data are:\n",
    "\n",
    "```python\n",
    "pricess_row = pd.DataFrame([sep_04, sep_05])\n",
    "# Set the index after using concat to join\n",
    "pricess_row.index = dates_2\n",
    "```\n",
    "\n",
    "Verify that the DataFrame identical by printing the difference with\n",
    "`prices` \n",
    "\n",
    "```python\n",
    "print(prices_row - prices)\n",
    "```"
   ]
  },
  {
   "cell_type": "code",
   "execution_count": 2,
   "metadata": {
    "collapsed": false,
    "pycharm": {
     "is_executing": false,
     "name": "#%%\n"
    }
   },
   "outputs": [
    {
     "name": "stdout",
     "output_type": "stream",
     "text": [
      "               SPY    AAPL     GOOG\n",
      "2018-04-09  289.81  228.36  1197.00\n",
      "2018-05-09  289.03  226.87  1186.48\n",
      "2018-06-09  288.16  223.10  1171.44\n",
      "2018-07-09  287.60  221.30  1164.83\n",
      "2018-10-09  288.10  218.33  1164.64\n",
      "2018-11-09  289.05  223.85  1177.36\n",
      "2018-12-09  289.12  221.07  1162.82\n",
      "2018-09-13  290.83  226.41  1175.33\n",
      "2018-09-14  290.88  223.84  1172.53\n",
      "2018-09-17  289.34  217.88  1156.05\n",
      "2018-09-18  290.91  218.24  1161.22\n",
      "2018-09-19  291.44  216.64  1158.78\n",
      "            SPY  AAPL  GOOG\n",
      "2018-04-09  0.0   0.0   0.0\n",
      "2018-05-09  0.0   0.0   0.0\n",
      "2018-06-09  0.0   0.0   0.0\n",
      "2018-07-09  0.0   0.0   0.0\n",
      "2018-10-09  0.0   0.0   0.0\n",
      "2018-11-09  0.0   0.0   0.0\n",
      "2018-12-09  0.0   0.0   0.0\n",
      "2018-09-13  0.0   0.0   0.0\n",
      "2018-09-14  0.0   0.0   0.0\n",
      "2018-09-17  0.0   0.0   0.0\n",
      "2018-09-18  0.0   0.0   0.0\n",
      "2018-09-19  0.0   0.0   0.0\n"
     ]
    }
   ],
   "source": [
    "prices_row = pd.DataFrame([sep_04, sep_05, sep_06, sep_07, sep_10, sep_11,\n",
    "                           sep_12, sep_13, sep_14, sep_17, sep_18, sep_19])\n",
    "prices_row.columns = [\"SPY\", \"AAPL\", \"GOOG\"]\n",
    "prices_row.index = dates\n",
    "print(prices_row)\n",
    "print(prices - prices_row)\n"
   ]
  },
  {
   "cell_type": "markdown",
   "metadata": {
    "collapsed": false,
    "pycharm": {
     "name": "#%% md\n"
    }
   },
   "source": [
    "## Problem: Construct a DataFrame from columns\n",
    "\n",
    "Create a DataFrame named `prices_col` from the 3 column vectors entered\n",
    "such that the results are identical to prices.\n",
    "\n",
    "*Note*: `.T` transposes a 2-d array since `DataFrame` builds the\n",
    "array by rows.\n",
    "\n",
    "Verify that the DataFrame identical by printing the difference with\n",
    "`prices` "
   ]
  },
  {
   "cell_type": "code",
   "execution_count": 3,
   "metadata": {
    "collapsed": false,
    "pycharm": {
     "is_executing": false,
     "name": "#%%\n"
    }
   },
   "outputs": [
    {
     "name": "stdout",
     "output_type": "stream",
     "text": [
      "               SPY    AAPL     GOOG\n",
      "2018-04-09  289.81  228.36  1197.00\n",
      "2018-05-09  289.03  226.87  1186.48\n",
      "2018-06-09  288.16  223.10  1171.44\n",
      "2018-07-09  287.60  221.30  1164.83\n",
      "2018-10-09  288.10  218.33  1164.64\n",
      "2018-11-09  289.05  223.85  1177.36\n",
      "2018-12-09  289.12  221.07  1162.82\n",
      "2018-09-13  290.83  226.41  1175.33\n",
      "2018-09-14  290.88  223.84  1172.53\n",
      "2018-09-17  289.34  217.88  1156.05\n",
      "2018-09-18  290.91  218.24  1161.22\n",
      "2018-09-19  291.44  216.64  1158.78\n",
      "            SPY  AAPL  GOOG\n",
      "2018-04-09  0.0   0.0   0.0\n",
      "2018-05-09  0.0   0.0   0.0\n",
      "2018-06-09  0.0   0.0   0.0\n",
      "2018-07-09  0.0   0.0   0.0\n",
      "2018-10-09  0.0   0.0   0.0\n",
      "2018-11-09  0.0   0.0   0.0\n",
      "2018-12-09  0.0   0.0   0.0\n",
      "2018-09-13  0.0   0.0   0.0\n",
      "2018-09-14  0.0   0.0   0.0\n",
      "2018-09-17  0.0   0.0   0.0\n",
      "2018-09-18  0.0   0.0   0.0\n",
      "2018-09-19  0.0   0.0   0.0\n"
     ]
    }
   ],
   "source": [
    "# No need to set the index or the column names since index\n",
    "# and name set in Series\n",
    "prices_col = pd.DataFrame([spy, aapl, goog]).T\n",
    "print(prices_col)\n",
    "print(prices - prices_col)\n",
    "\n"
   ]
  },
  {
   "cell_type": "markdown",
   "metadata": {
    "collapsed": false,
    "pycharm": {
     "name": "#%% md\n"
    }
   },
   "source": [
    "## Problem: Construct a DataFrame from a dictionary\n",
    "\n",
    "Create a DataFrame named `prices_dict` from the 3 column vectors entered\n",
    "such that the results are identical to prices\n",
    "\n",
    "Verify that the DataFrame identical by printing the difference with\n",
    "`prices` "
   ]
  },
  {
   "cell_type": "code",
   "execution_count": 4,
   "metadata": {
    "collapsed": false,
    "pycharm": {
     "is_executing": false,
     "name": "#%%\n"
    }
   },
   "outputs": [
    {
     "name": "stdout",
     "output_type": "stream",
     "text": [
      "               SPY    AAPL     GOOG\n",
      "2018-04-09  289.81  228.36  1197.00\n",
      "2018-05-09  289.03  226.87  1186.48\n",
      "2018-06-09  288.16  223.10  1171.44\n",
      "2018-07-09  287.60  221.30  1164.83\n",
      "2018-10-09  288.10  218.33  1164.64\n",
      "2018-11-09  289.05  223.85  1177.36\n",
      "2018-12-09  289.12  221.07  1162.82\n",
      "2018-09-13  290.83  226.41  1175.33\n",
      "2018-09-14  290.88  223.84  1172.53\n",
      "2018-09-17  289.34  217.88  1156.05\n",
      "2018-09-18  290.91  218.24  1161.22\n",
      "2018-09-19  291.44  216.64  1158.78\n",
      "            SPY  AAPL  GOOG\n",
      "2018-04-09  0.0   0.0   0.0\n",
      "2018-05-09  0.0   0.0   0.0\n",
      "2018-06-09  0.0   0.0   0.0\n",
      "2018-07-09  0.0   0.0   0.0\n",
      "2018-10-09  0.0   0.0   0.0\n",
      "2018-11-09  0.0   0.0   0.0\n",
      "2018-12-09  0.0   0.0   0.0\n",
      "2018-09-13  0.0   0.0   0.0\n",
      "2018-09-14  0.0   0.0   0.0\n",
      "2018-09-17  0.0   0.0   0.0\n",
      "2018-09-18  0.0   0.0   0.0\n",
      "2018-09-19  0.0   0.0   0.0\n"
     ]
    }
   ],
   "source": [
    "prices_dict = pd.DataFrame({\"SPY\":spy, \"AAPL\": aapl, \"GOOG\": goog},\n",
    "                           index=dates)\n",
    "print(prices_dict)\n",
    "print(prices - prices_dict)"
   ]
  }
 ],
 "metadata": {
  "kernelspec": {
   "display_name": "Python 3",
   "language": "python",
   "name": "python3"
  },
  "language_info": {
   "codemirror_mode": {
    "name": "ipython",
    "version": 3
   },
   "file_extension": ".py",
   "mimetype": "text/x-python",
   "name": "python",
   "nbconvert_exporter": "python",
   "pygments_lexer": "ipython3",
   "version": "3.7.4"
  },
  "pycharm": {
   "stem_cell": {
    "cell_type": "raw",
    "source": [],
    "metadata": {
     "collapsed": false
    }
   }
  }
 },
 "nbformat": 4,
 "nbformat_minor": 0
}