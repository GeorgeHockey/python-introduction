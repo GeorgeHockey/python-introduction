{
 "cells": [
  {
   "cell_type": "markdown",
   "metadata": {
    "collapsed": false
   },
   "source": [
    "# Logical Operators\n",
    "\n",
    "This lesson covers:\n",
    "\n",
    "* Basic logical operators \n",
    "* Compound operators \n",
    "\n",
    "Begin by loading the data in momentum.csv."
   ]
  },
  {
   "cell_type": "code",
   "execution_count": 1,
   "metadata": {
    "collapsed": false,
    "pycharm": {
     "name": "#%%\n",
     "is_executing": false
    }
   },
   "outputs": [
    {
     "name": "stdout",
     "text": [
      "            mom_01  mom_02  mom_03  mom_04  mom_05  mom_06  mom_07  mom_08  \\\ndate                                                                         \n2016-01-04    0.67   -0.03   -0.93   -1.11   -1.47   -1.66   -1.40   -2.08   \n2016-01-05   -0.36    0.20   -0.37    0.28    0.16    0.18   -0.22    0.25   \n2016-01-06   -4.97   -2.33   -2.60   -1.16   -1.70   -1.45   -1.15   -1.46   \n2016-01-07   -4.91   -1.91   -3.03   -1.87   -2.31   -2.30   -2.70   -2.31   \n2016-01-08   -0.40   -1.26   -0.98   -1.26   -1.13   -1.02   -0.96   -1.42   \n\n            mom_09  mom_10  \ndate                        \n2016-01-04   -1.71   -2.67  \n2016-01-05    0.29    0.13  \n2016-01-06   -1.14   -0.45  \n2016-01-07   -2.36   -2.66  \n2016-01-08   -0.94   -1.32  \n"
     ],
     "output_type": "stream"
    }
   ],
   "source": [
    "# Setup: Load the momentum data\n",
    "\n",
    "import pandas as pd\n",
    "\n",
    "momentum = pd.read_csv('data/momentum.csv', index_col='date', parse_dates=True)\n",
    "\n",
    "print(momentum.head())\n",
    "\n",
    "mom_01 = momentum['mom_01']\n",
    "mom_10 = momentum['mom_10']\n",
    "mom_05 = momentum['mom_05']\n"
   ]
  },
  {
   "cell_type": "markdown",
   "metadata": {
    "collapsed": false
   },
   "source": [
    "## Problem: Basic Logical Statements\n",
    "\n",
    "For portfolio 1 and portfolio 10, count the number of elements that are\n",
    "$<0$, $\\geq0$, and exactly equal to 0. Next count the number of times that\n",
    "the returns in portfolio 5 are greater, in absolute value, that 2 times\n",
    "the standard deviation of the returns in that portfolio. \n"
   ]
  },
  {
   "cell_type": "code",
   "execution_count": 2,
   "metadata": {
    "collapsed": false,
    "pycharm": {
     "name": "#%%\n",
     "is_executing": false
    }
   },
   "outputs": [
    {
     "name": "stdout",
     "text": [
      "245 258 0\n215 288 3\n"
     ],
     "output_type": "stream"
    }
   ],
   "source": [
    "import numpy as np\n",
    "print(np.sum(mom_01 < 0), np.sum(mom_01 >= 0), np.sum(mom_01 == 0))\n",
    "print(np.sum(mom_10 < 0), np.sum(mom_10 >= 0), np.sum(mom_10 == 0))"
   ]
  },
  {
   "cell_type": "code",
   "execution_count": 3,
   "metadata": {
    "collapsed": false,
    "pycharm": {
     "name": "#%%\n",
     "is_executing": false
    }
   },
   "outputs": [
    {
     "name": "stdout",
     "text": [
      "35\n"
     ],
     "output_type": "stream"
    }
   ],
   "source": [
    "# Use parentheses to make the intent clear. They are not necessary here since\n",
    "# > has lower precedence than * (like how + is lower than * in standard math).\n",
    "print(np.sum(np.abs(mom_05) > (2 * np.std(mom_05))))"
   ]
  },
  {
   "cell_type": "markdown",
   "metadata": {
    "collapsed": false
   },
   "source": [
    "## Problem: Compound Statements\n",
    "Count the number of times that the returns in both portfolio 1 and portfolio\n",
    "10 are negative. Next count the number of times that the returns in portfolios\n",
    "1 and 10 are both greater, in absolute value, that 2 times their respective\n",
    "standard deviations. "
   ]
  },
  {
   "cell_type": "code",
   "execution_count": 4,
   "metadata": {
    "collapsed": false,
    "pycharm": {
     "name": "#%%\n",
     "is_executing": false
    }
   },
   "outputs": [
    {
     "name": "stdout",
     "text": [
      "136\n"
     ],
     "output_type": "stream"
    }
   ],
   "source": [
    "mom_01_neg = mom_01 < 0\n",
    "mom_10_neg = mom_10 < 0\n",
    "\n",
    "# Using shortcut operator &. Care is needed since & has higher precedence than \n",
    "# logical comparison operators like < or >=.\n",
    "both = mom_01_neg & mom_10_neg\n",
    "print(both.sum())"
   ]
  },
  {
   "cell_type": "code",
   "execution_count": 5,
   "metadata": {
    "collapsed": false,
    "pycharm": {
     "name": "#%%\n",
     "is_executing": false
    }
   },
   "outputs": [
    {
     "name": "stdout",
     "text": [
      "136\n"
     ],
     "output_type": "stream"
    }
   ],
   "source": [
    "# Equivalent using a function `logical_and`\n",
    "both = np.logical_and(mom_01_neg, mom_10_neg)\n",
    "print(both.sum())"
   ]
  },
  {
   "cell_type": "markdown",
   "source": [
    "## Combining Scalar Boolean Values\n",
    "\n",
    "Use `and`, `or` and `not` to determine if the return on mom_01 on\n",
    "February 14, 2016 is inside or outside an interval of 1 standard deviation\n",
    "of the mean of all of the return of mom_01."
   ],
   "metadata": {
    "collapsed": false,
    "pycharm": {
     "name": "#%% md\n"
    }
   }
  },
  {
   "cell_type": "code",
   "execution_count": 13,
   "outputs": [
    {
     "name": "stdout",
     "text": [
      "Mean: 0.102, Std: 1.720, Lower: -1.618, Upper: 1.822\nInside: True, Outside: False\n"
     ],
     "output_type": "stream"
    }
   ],
   "source": [
    "ret = mom_01['2017-02-14']\n",
    "mean = mom_01.mean()\n",
    "std = mom_01.std()\n",
    "lower = mean - std\n",
    "upper = mean + std\n",
    "\n",
    "inside = (ret >= lower) and (ret <= upper)\n",
    "outside = not inside\n",
    "\n",
    "print(f\"Mean: {mean:0.3f}, Std: {std:0.3f}, Lower: {lower:0.3f}, Upper: {upper:0.3f}\")\n",
    "print(f\"Inside: {inside}, Outside: {outside}\")"
   ],
   "metadata": {
    "collapsed": false,
    "pycharm": {
     "name": "#%%\n",
     "is_executing": false
    }
   }
  },
  {
   "cell_type": "code",
   "execution_count": 14,
   "outputs": [
    {
     "name": "stdout",
     "text": [
      "Inside: True, Outside: False\n"
     ],
     "output_type": "stream"
    }
   ],
   "source": [
    "outside = (ret<= lower) or (ret >= upper)\n",
    "inside = not outside\n",
    "\n",
    "print(f\"Inside: {inside}, Outside: {outside}\")"
   ],
   "metadata": {
    "collapsed": false,
    "pycharm": {
     "name": "#%%\n",
     "is_executing": false
    }
   }
  }
 ],
 "metadata": {
  "kernelspec": {
   "display_name": "Python 3",
   "language": "python",
   "name": "python3"
  },
  "language_info": {
   "codemirror_mode": {
    "name": "ipython",
    "version": 3
   },
   "file_extension": ".py",
   "mimetype": "text/x-python",
   "name": "python",
   "nbconvert_exporter": "python",
   "pygments_lexer": "ipython3",
   "version": "3.7.4"
  },
  "pycharm": {
   "stem_cell": {
    "cell_type": "raw",
    "source": [],
    "metadata": {
     "collapsed": false
    }
   }
  }
 },
 "nbformat": 4,
 "nbformat_minor": 1
}