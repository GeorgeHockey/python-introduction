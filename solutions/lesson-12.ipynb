{
 "cells": [
  {
   "cell_type": "markdown",
   "metadata": {
    "pycharm": {
     "name": "#%% md\n"
    }
   },
   "source": [
    "# Importing Data\n",
    "\n",
    "This lesson covers:\n",
    "\n",
    "* Importing data \n",
    "* Converting dates "
   ]
  },
  {
   "cell_type": "markdown",
   "metadata": {},
   "source": [
    "## Problem: Reading in data with Dates\n",
    "\n",
    "Read in the files `GS10.csv` and `GS10.xlsx` which have both been downloaded from\n",
    "[FRED](https://fred.stlouisfed.org/)."
   ]
  },
  {
   "cell_type": "code",
   "execution_count": 1,
   "metadata": {
    "pycharm": {
     "is_executing": false,
     "name": "#%%\n"
    }
   },
   "outputs": [
    {
     "name": "stdout",
     "output_type": "stream",
     "text": [
      "            GS10\n",
      "DATE            \n",
      "1953-04-01  2.83\n",
      "1953-05-01  3.05\n",
      "1953-06-01  3.11\n",
      "1953-07-01  2.93\n",
      "1953-08-01  2.95\n",
      "                  GS10\n",
      "observation_date      \n",
      "1953-04-01        2.83\n",
      "1953-05-01        3.05\n",
      "1953-06-01        3.11\n",
      "1953-07-01        2.93\n",
      "1953-08-01        2.95\n"
     ]
    }
   ],
   "source": [
    "import pandas as pd\n",
    "\n",
    "gs10_csv = pd.read_csv('data/GS10.csv', index_col='DATE', parse_dates=True)\n",
    "print(gs10_csv.head())\n",
    "\n",
    "gs10_excel = pd.read_excel('data/GS10.xls', skiprows=10, index_col='observation_date')\n",
    "print(gs10_excel.head())"
   ]
  },
  {
   "cell_type": "markdown",
   "metadata": {},
   "source": [
    "## Problem: Converting Dates\n",
    "\n",
    "1. Load the CSV file without converting the dates in `read_csv`.\n",
    "2. Convert the date column, remove it from the DataFrame, and set it as the index. "
   ]
  },
  {
   "cell_type": "code",
   "execution_count": 2,
   "metadata": {
    "pycharm": {
     "is_executing": false,
     "name": "#%%\n"
    }
   },
   "outputs": [
    {
     "name": "stdout",
     "output_type": "stream",
     "text": [
      "            GS10\n",
      "DATE            \n",
      "1953-04-01  2.83\n",
      "1953-05-01  3.05\n",
      "1953-06-01  3.11\n",
      "1953-07-01  2.93\n",
      "1953-08-01  2.95\n",
      "            GS10\n",
      "DATE            \n",
      "1953-04-01  2.83\n",
      "1953-05-01  3.05\n",
      "1953-06-01  3.11\n",
      "1953-07-01  2.93\n",
      "1953-08-01  2.95\n"
     ]
    }
   ],
   "source": [
    "gs10_csv = pd.read_csv('data/GS10.csv')\n",
    "index = pd.to_datetime(gs10_csv['DATE'])\n",
    "gs10_csv.index = index\n",
    "del gs10_csv['DATE']\n",
    "print(gs10_csv.head())\n",
    "\n",
    "gs10_csv = pd.read_csv('data/GS10.csv')\n",
    "# Pop gets a column AND removes it from the frame\n",
    "index = pd.to_datetime(gs10_csv.pop('DATE'))\n",
    "gs10_csv.index = index\n",
    "print(gs10_csv.head())"
   ]
  }
 ],
 "metadata": {
  "kernelspec": {
   "display_name": "Python 3",
   "language": "python",
   "name": "python3"
  },
  "language_info": {
   "codemirror_mode": {
    "name": "ipython",
    "version": 3
   },
   "file_extension": ".py",
   "mimetype": "text/x-python",
   "name": "python",
   "nbconvert_exporter": "python",
   "pygments_lexer": "ipython3",
   "version": "3.7.4"
  },
  "pycharm": {
   "stem_cell": {
    "cell_type": "raw",
    "metadata": {
     "collapsed": false
    },
    "source": []
   }
  }
 },
 "nbformat": 4,
 "nbformat_minor": 1
}
