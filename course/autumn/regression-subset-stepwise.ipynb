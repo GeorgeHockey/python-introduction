{
 "cells": [
  {
   "cell_type": "markdown",
   "metadata": {},
   "source": [
    "## Linear Regression: Best Subset and Stepwise Regression\n",
    "\n",
    "**Functions**\n",
    "\n",
    "`np.linalg.lstsq`, `sklearn.model_selection.cross_val_score`, `sklearn.linear_model.LinearRegression`, `sklearn.model_selection.KFold`"
   ]
  },
  {
   "cell_type": "code",
   "execution_count": 1,
   "metadata": {
    "execution": {
     "iopub.execute_input": "2020-12-15T17:36:55.078557Z",
     "iopub.status.busy": "2020-12-15T17:36:55.077557Z",
     "iopub.status.idle": "2020-12-15T17:36:55.374592Z",
     "shell.execute_reply": "2020-12-15T17:36:55.374592Z"
    }
   },
   "outputs": [],
   "source": [
    "import numpy as np\n",
    "import pandas as pd"
   ]
  },
  {
   "cell_type": "markdown",
   "metadata": {},
   "source": [
    "### Exercise 41\n",
    "Download data from [Ken French's website](https://mba.tuck.dartmouth.edu/pages/faculty/ken.french/) on the VWM and the 12 industry portfolios. Reformat both data sets so that they has a `DatetimeIndex`.\n"
   ]
  },
  {
   "cell_type": "code",
   "execution_count": 2,
   "metadata": {
    "execution": {
     "iopub.execute_input": "2020-12-15T17:36:55.378593Z",
     "iopub.status.busy": "2020-12-15T17:36:55.378593Z",
     "iopub.status.idle": "2020-12-15T17:36:55.423593Z",
     "shell.execute_reply": "2020-12-15T17:36:55.422594Z"
    }
   },
   "outputs": [
    {
     "output_type": "execute_result",
     "data": {
      "text/plain": [
       "            NoDur  Durbl  Manuf  Enrgy  Chems  BusEq  Telcm  Utils  Shops  \\\n",
       "Date                                                                        \n",
       "1926-07-31   1.45  15.55   3.67  -1.18   8.01   3.16   0.83   7.04   0.11   \n",
       "1926-08-31   3.97   3.68   2.42   3.47   5.14   1.97   2.17  -1.69  -0.71   \n",
       "1926-09-30   1.14   4.80  -0.07  -3.39   5.30  -0.34   2.41   2.04   0.21   \n",
       "1926-10-31  -1.24  -8.23  -3.16  -0.78  -4.55  -5.38  -0.11  -2.63  -2.29   \n",
       "1926-11-30   5.20  -0.19   3.82   0.01   5.11   4.79   1.63   3.71   6.43   \n",
       "...           ...    ...    ...    ...    ...    ...    ...    ...    ...   \n",
       "2020-06-30  -0.03  14.20   3.31  -0.36   1.23   6.06  -2.44  -5.04   4.21   \n",
       "2020-07-31   5.85  18.73   2.90  -4.77   7.48   6.87   5.09   6.37   9.53   \n",
       "2020-08-31   4.43  40.86   6.98  -1.14   4.96  10.67   5.45  -2.25   8.13   \n",
       "2020-09-30  -2.06  -9.02  -0.05 -14.94   0.08  -5.23  -2.20  -0.27  -3.83   \n",
       "2020-10-31  -2.61  -3.17  -0.80  -4.53  -0.72  -1.90  -3.90   4.49  -2.53   \n",
       "\n",
       "            Hlth   Money  Other  \n",
       "Date                             \n",
       "1926-07-31   1.77   0.37   2.24  \n",
       "1926-08-31   4.25   4.46   4.37  \n",
       "1926-09-30   0.69  -1.23   0.35  \n",
       "1926-10-31  -0.57  -5.16  -2.76  \n",
       "1926-11-30   5.42   2.24   2.10  \n",
       "...           ...    ...    ...  \n",
       "2020-06-30  -1.76  -0.35   0.45  \n",
       "2020-07-31   4.44   1.96   6.22  \n",
       "2020-08-31   2.77   4.97  10.16  \n",
       "2020-09-30  -1.51  -4.08  -1.25  \n",
       "2020-10-31  -4.32  -1.08  -3.16  \n",
       "\n",
       "[1132 rows x 12 columns]"
      ],
      "text/html": "<div>\n<style scoped>\n    .dataframe tbody tr th:only-of-type {\n        vertical-align: middle;\n    }\n\n    .dataframe tbody tr th {\n        vertical-align: top;\n    }\n\n    .dataframe thead th {\n        text-align: right;\n    }\n</style>\n<table border=\"1\" class=\"dataframe\">\n  <thead>\n    <tr style=\"text-align: right;\">\n      <th></th>\n      <th>NoDur</th>\n      <th>Durbl</th>\n      <th>Manuf</th>\n      <th>Enrgy</th>\n      <th>Chems</th>\n      <th>BusEq</th>\n      <th>Telcm</th>\n      <th>Utils</th>\n      <th>Shops</th>\n      <th>Hlth</th>\n      <th>Money</th>\n      <th>Other</th>\n    </tr>\n    <tr>\n      <th>Date</th>\n      <th></th>\n      <th></th>\n      <th></th>\n      <th></th>\n      <th></th>\n      <th></th>\n      <th></th>\n      <th></th>\n      <th></th>\n      <th></th>\n      <th></th>\n      <th></th>\n    </tr>\n  </thead>\n  <tbody>\n    <tr>\n      <th>1926-07-31</th>\n      <td>1.45</td>\n      <td>15.55</td>\n      <td>3.67</td>\n      <td>-1.18</td>\n      <td>8.01</td>\n      <td>3.16</td>\n      <td>0.83</td>\n      <td>7.04</td>\n      <td>0.11</td>\n      <td>1.77</td>\n      <td>0.37</td>\n      <td>2.24</td>\n    </tr>\n    <tr>\n      <th>1926-08-31</th>\n      <td>3.97</td>\n      <td>3.68</td>\n      <td>2.42</td>\n      <td>3.47</td>\n      <td>5.14</td>\n      <td>1.97</td>\n      <td>2.17</td>\n      <td>-1.69</td>\n      <td>-0.71</td>\n      <td>4.25</td>\n      <td>4.46</td>\n      <td>4.37</td>\n    </tr>\n    <tr>\n      <th>1926-09-30</th>\n      <td>1.14</td>\n      <td>4.80</td>\n      <td>-0.07</td>\n      <td>-3.39</td>\n      <td>5.30</td>\n      <td>-0.34</td>\n      <td>2.41</td>\n      <td>2.04</td>\n      <td>0.21</td>\n      <td>0.69</td>\n      <td>-1.23</td>\n      <td>0.35</td>\n    </tr>\n    <tr>\n      <th>1926-10-31</th>\n      <td>-1.24</td>\n      <td>-8.23</td>\n      <td>-3.16</td>\n      <td>-0.78</td>\n      <td>-4.55</td>\n      <td>-5.38</td>\n      <td>-0.11</td>\n      <td>-2.63</td>\n      <td>-2.29</td>\n      <td>-0.57</td>\n      <td>-5.16</td>\n      <td>-2.76</td>\n    </tr>\n    <tr>\n      <th>1926-11-30</th>\n      <td>5.20</td>\n      <td>-0.19</td>\n      <td>3.82</td>\n      <td>0.01</td>\n      <td>5.11</td>\n      <td>4.79</td>\n      <td>1.63</td>\n      <td>3.71</td>\n      <td>6.43</td>\n      <td>5.42</td>\n      <td>2.24</td>\n      <td>2.10</td>\n    </tr>\n    <tr>\n      <th>...</th>\n      <td>...</td>\n      <td>...</td>\n      <td>...</td>\n      <td>...</td>\n      <td>...</td>\n      <td>...</td>\n      <td>...</td>\n      <td>...</td>\n      <td>...</td>\n      <td>...</td>\n      <td>...</td>\n      <td>...</td>\n    </tr>\n    <tr>\n      <th>2020-06-30</th>\n      <td>-0.03</td>\n      <td>14.20</td>\n      <td>3.31</td>\n      <td>-0.36</td>\n      <td>1.23</td>\n      <td>6.06</td>\n      <td>-2.44</td>\n      <td>-5.04</td>\n      <td>4.21</td>\n      <td>-1.76</td>\n      <td>-0.35</td>\n      <td>0.45</td>\n    </tr>\n    <tr>\n      <th>2020-07-31</th>\n      <td>5.85</td>\n      <td>18.73</td>\n      <td>2.90</td>\n      <td>-4.77</td>\n      <td>7.48</td>\n      <td>6.87</td>\n      <td>5.09</td>\n      <td>6.37</td>\n      <td>9.53</td>\n      <td>4.44</td>\n      <td>1.96</td>\n      <td>6.22</td>\n    </tr>\n    <tr>\n      <th>2020-08-31</th>\n      <td>4.43</td>\n      <td>40.86</td>\n      <td>6.98</td>\n      <td>-1.14</td>\n      <td>4.96</td>\n      <td>10.67</td>\n      <td>5.45</td>\n      <td>-2.25</td>\n      <td>8.13</td>\n      <td>2.77</td>\n      <td>4.97</td>\n      <td>10.16</td>\n    </tr>\n    <tr>\n      <th>2020-09-30</th>\n      <td>-2.06</td>\n      <td>-9.02</td>\n      <td>-0.05</td>\n      <td>-14.94</td>\n      <td>0.08</td>\n      <td>-5.23</td>\n      <td>-2.20</td>\n      <td>-0.27</td>\n      <td>-3.83</td>\n      <td>-1.51</td>\n      <td>-4.08</td>\n      <td>-1.25</td>\n    </tr>\n    <tr>\n      <th>2020-10-31</th>\n      <td>-2.61</td>\n      <td>-3.17</td>\n      <td>-0.80</td>\n      <td>-4.53</td>\n      <td>-0.72</td>\n      <td>-1.90</td>\n      <td>-3.90</td>\n      <td>4.49</td>\n      <td>-2.53</td>\n      <td>-4.32</td>\n      <td>-1.08</td>\n      <td>-3.16</td>\n    </tr>\n  </tbody>\n</table>\n<p>1132 rows × 12 columns</p>\n</div>"
     },
     "metadata": {},
     "execution_count": 2
    }
   ],
   "source": [
    "vwm = pd.read_csv(\"data/VWM.csv\",index_col=\"Date\")\n",
    "vwm.index = pd.to_datetime(vwm.index, format=\"%Y%m\")\n",
    "vwm = vwm.resample(\"M\").last()\n",
    "\n",
    "industries = pd.read_csv(\"data/12_Industry_portfolios.csv\",index_col=\"Date\")\n",
    "industries.index = pd.to_datetime(industries.index,format=\"%Y%m\")\n",
    "industries = industries.resample(\"M\").last()\n",
    "industries"
   ]
  },
  {
   "cell_type": "markdown",
   "metadata": {},
   "source": [
    "### Exercise 42\n",
    "\n",
    "Use Best Subset Regression with cross-validation to select the weights of a tracking portfolio where the industry portfolios are used to track the value-weighted-market. Use data until the end of 2014. A tracking portfolio is a portfolio that replicates a portfolio using other assets. The weights can be estimated using a regression model excludes a constant.\n",
    "\n",
    "$$ R_{i,p} = \\beta_1 R_{i,1} + \\beta_2 R_{i,2} + \\ldots + \\beta_k R_{i,k} + \\epsilon_{i} $$\n",
    "\n",
    "where $R_{i,j}$ are returns on the assets used to construct the tracking portfolio. The constant is excluded since the portfolio should track both the shock and match the mean return. OLS minimizes the variance of the tracking error (in-sample)."
   ]
  },
  {
   "cell_type": "code",
   "execution_count": 3,
   "metadata": {
    "execution": {
     "iopub.execute_input": "2020-12-15T17:36:55.430593Z",
     "iopub.status.busy": "2020-12-15T17:36:55.429593Z",
     "iopub.status.idle": "2020-12-15T17:36:55.437593Z",
     "shell.execute_reply": "2020-12-15T17:36:55.437593Z"
    }
   },
   "outputs": [],
   "source": [
    "x = industries[\"1980\":\"2014\"]\n",
    "y = vwm[\"VWM\"][\"1980\":\"2014\"]\n",
    "t, p = x.shape"
   ]
  },
  {
   "cell_type": "code",
   "execution_count": 4,
   "metadata": {},
   "outputs": [
    {
     "output_type": "stream",
     "name": "stdout",
     "text": [
      "('NoDur',)\n('Durbl',)\n('NoDur', 'Durbl')\n('NoDur', 'Manuf')\n('NoDur', 'Durbl', 'Manuf')\n('NoDur', 'Durbl', 'Enrgy')\n('NoDur', 'Durbl', 'Manuf', 'Enrgy')\n('NoDur', 'Durbl', 'Manuf', 'Chems')\n('NoDur', 'Durbl', 'Manuf', 'Enrgy', 'Chems')\n('NoDur', 'Durbl', 'Manuf', 'Enrgy', 'BusEq')\n('NoDur', 'Durbl', 'Manuf', 'Enrgy', 'Chems', 'BusEq')\n('NoDur', 'Durbl', 'Manuf', 'Enrgy', 'Chems', 'Telcm')\n('NoDur', 'Durbl', 'Manuf', 'Enrgy', 'Chems', 'BusEq', 'Telcm')\n('NoDur', 'Durbl', 'Manuf', 'Enrgy', 'Chems', 'BusEq', 'Utils')\n('NoDur', 'Durbl', 'Manuf', 'Enrgy', 'Chems', 'BusEq', 'Telcm', 'Utils')\n('NoDur', 'Durbl', 'Manuf', 'Enrgy', 'Chems', 'BusEq', 'Telcm', 'Shops')\n('NoDur', 'Durbl', 'Manuf', 'Enrgy', 'Chems', 'BusEq', 'Telcm', 'Utils', 'Shops')\n('NoDur', 'Durbl', 'Manuf', 'Enrgy', 'Chems', 'BusEq', 'Telcm', 'Utils', 'Hlth ')\n('NoDur', 'Durbl', 'Manuf', 'Enrgy', 'Chems', 'BusEq', 'Telcm', 'Utils', 'Shops', 'Hlth ')\n('NoDur', 'Durbl', 'Manuf', 'Enrgy', 'Chems', 'BusEq', 'Telcm', 'Utils', 'Shops', 'Money')\n('NoDur', 'Durbl', 'Manuf', 'Enrgy', 'Chems', 'BusEq', 'Telcm', 'Utils', 'Shops', 'Hlth ', 'Money')\n('NoDur', 'Durbl', 'Manuf', 'Enrgy', 'Chems', 'BusEq', 'Telcm', 'Utils', 'Shops', 'Hlth ', 'Other')\n('NoDur', 'Durbl', 'Manuf', 'Enrgy', 'Chems', 'BusEq', 'Telcm', 'Utils', 'Shops', 'Hlth ', 'Money', 'Other')\n"
     ]
    }
   ],
   "source": [
    "from itertools import combinations\n",
    "\n",
    "for i in range(1, p+1):\n",
    "    count = 0\n",
    "    for comb in combinations(x.columns, i):\n",
    "        print(comb)\n",
    "        count += 1\n",
    "        if count > 1:\n",
    "            break"
   ]
  },
  {
   "cell_type": "code",
   "execution_count": 5,
   "metadata": {},
   "outputs": [
    {
     "output_type": "execute_result",
     "data": {
      "text/plain": [
       "1                                               [Other]\n",
       "2                                        [BusEq, Money]\n",
       "3                                 [NoDur, BusEq, Other]\n",
       "4                          [NoDur, Enrgy, BusEq, Money]\n",
       "5                   [NoDur, Enrgy, BusEq, Money, Other]\n",
       "6            [NoDur, Enrgy, BusEq, Telcm, Money, Other]\n",
       "7     [NoDur, Enrgy, BusEq, Telcm, Hlth , Money, Other]\n",
       "8     [NoDur, Manuf, Enrgy, BusEq, Telcm, Hlth , Mon...\n",
       "9     [NoDur, Manuf, Enrgy, BusEq, Telcm, Shops, Hlt...\n",
       "10    [NoDur, Manuf, Enrgy, BusEq, Telcm, Utils, Sho...\n",
       "11    [NoDur, Manuf, Enrgy, Chems, BusEq, Telcm, Uti...\n",
       "12    [NoDur, Durbl, Manuf, Enrgy, Chems, BusEq, Tel...\n",
       "dtype: object"
      ]
     },
     "metadata": {},
     "execution_count": 5
    }
   ],
   "source": [
    "from numpy.linalg import lstsq\n",
    "\n",
    "best_models = {}\n",
    "for i in range( 1, p+1):\n",
    "    best_sse = np.inf\n",
    "    for comb in combinations(x.columns, i):\n",
    "        reg = x[list(comb)]\n",
    "        beta = lstsq(reg, y , rcond=None)[0]\n",
    "        resid = y - reg @ beta\n",
    "        sse = resid @ resid\n",
    "        if sse < best_sse:\n",
    "            best_sse = sse\n",
    "            best_models[i] = list(comb)\n",
    "pd.Series(best_models)\n"
   ]
  },
  {
   "cell_type": "code",
   "execution_count": 90,
   "metadata": {},
   "outputs": [
    {
     "output_type": "execute_result",
     "data": {
      "text/plain": [
       "784.7667486851252"
      ]
     },
     "metadata": {},
     "execution_count": 90
    }
   ],
   "source": [
    "def xval_5fold(y, x , random=False, seed = 20201231,fold=5):\n",
    "    # Use numpy arrays for simplicity\n",
    "    y = np.asarray(y)\n",
    "    x = np.asarray(x)\n",
    "    n = y.shape[0]\n",
    "    if random:\n",
    "        # If randomisation is needed, use either the default or provided seed\n",
    "        rg = np.random.default_rng(seed)\n",
    "        # Generate a set of index values to use to randomly reorder the data\n",
    "        # After randomisation, we can use the data as if it is is inorder!\n",
    "        ind = rg.permutation(np.arange(n))\n",
    "        y = y[ind]\n",
    "        x = x[ind]\n",
    "    # Compute the block size\n",
    "    block = n / fold\n",
    "    sse = 0.0\n",
    "    for i in range(int(fold)):\n",
    "        # Start and end of each block need to be integers or we lose an observation\n",
    "        # Rounding ensures that we get all observations since int rounds down\n",
    "        st = int(np.round(i * block))\n",
    "        en = int(np.round((i + 1) * block))\n",
    "        # Construct the indicies of the observations that we leave out\n",
    "        leave_out = np.r_[st:en]\n",
    "        # The included are the one that we don't leave out\n",
    "        include = np.setdiff1d(np.arange(n), leave_out)\n",
    "        # Compute the regression coefficients\n",
    "        beta = lstsq(x[include], y[include], rcond=None)[0]\n",
    "        # Compute the residuals and add to the sse\n",
    "        resid = y[st:en]- x[st:en] @ beta\n",
    "        sse += resid @ resid\n",
    "    return sse\n",
    "\n",
    "xval_5fold(y,x[best_models[2]],fold=10)\n",
    "\n",
    "# Randomisation is better when we suspect the model may not be totally stable\n"
   ]
  },
  {
   "cell_type": "code",
   "execution_count": 92,
   "metadata": {},
   "outputs": [
    {
     "output_type": "stream",
     "name": "stdout",
     "text": [
      "['NoDur', 'Manuf', 'Enrgy', 'BusEq', 'Telcm', 'Shops', 'Hlth ', 'Money', 'Other']\n"
     ]
    },
    {
     "output_type": "execute_result",
     "data": {
      "text/plain": [
       "1     1148.876144\n",
       "2      771.982254\n",
       "3      494.175842\n",
       "4      368.090926\n",
       "5      283.350797\n",
       "6      235.289796\n",
       "7      210.449663\n",
       "8      208.251414\n",
       "9      204.369481\n",
       "10     208.891542\n",
       "11     209.923549\n",
       "12     209.984916\n",
       "dtype: float64"
      ]
     },
     "metadata": {},
     "execution_count": 92
    }
   ],
   "source": [
    "bsr_sse_xv = {}\n",
    "for n_var in best_models:\n",
    "    bsr_sse_xv[n_var] = xval_5fold(y, x[best_models[n_var]], random=False,fold=5)\n",
    "bsr_sse_xv = pd.Series(bsr_sse_xv)\n",
    "bsr_model = best_models[bsr_sse_xv.idxmin()]\n",
    "print(bsr_model)\n",
    "bsr_sse_xv"
   ]
  },
  {
   "cell_type": "code",
   "execution_count": null,
   "metadata": {},
   "outputs": [],
   "source": []
  },
  {
   "cell_type": "markdown",
   "metadata": {},
   "source": [
    "### Exercise 43\n",
    "\n",
    "Select the best tracking portfolio using Forward Stepwise Regression."
   ]
  },
  {
   "cell_type": "code",
   "execution_count": 53,
   "metadata": {
    "execution": {
     "iopub.execute_input": "2020-12-15T17:36:58.965159Z",
     "iopub.status.busy": "2020-12-15T17:36:58.953161Z",
     "iopub.status.idle": "2020-12-15T17:36:58.976161Z",
     "shell.execute_reply": "2020-12-15T17:36:58.976161Z"
    }
   },
   "outputs": [
    {
     "output_type": "stream",
     "name": "stdout",
     "text": [
      "['Other', 'BusEq', 'NoDur', 'Money', 'Enrgy', 'Telcm', 'Hlth ', 'Manuf', 'Shops', 'Utils', 'Chems', 'Durbl']\n"
     ]
    }
   ],
   "source": [
    "included = []\n",
    "\n",
    "for i in range(p):\n",
    "    # Excluded are the columns not already included in the model\n",
    "    excluded = [col for col in x if col not in included]\n",
    "    # Initialise best sse to inf so it will be beaten by some model\n",
    "    best_sse = np.inf\n",
    "    # Loop across excluded\n",
    "    for col in excluded:\n",
    "        # Add the new col to the included list and select the x data\n",
    "        try_x = x[included + [col]]\n",
    "        # Compute the regression and the SSE\n",
    "        beta = lstsq(try_x, y, rcond=None)[0]\n",
    "        resid = y - try_x @ beta\n",
    "        sse = resid @ resid\n",
    "        # If this SSE is better than our current best SSE, retain it and the new variable added\n",
    "        if sse < best_sse:\n",
    "            best_sse = sse\n",
    "            next_var = col\n",
    "    # Add the variable that reduced the SSE the most\n",
    "    included.append(next_var)\n",
    "\n",
    "# Builds up the list of what should be included in order\n",
    "print(included)"
   ]
  },
  {
   "cell_type": "code",
   "execution_count": 55,
   "metadata": {},
   "outputs": [
    {
     "output_type": "stream",
     "name": "stdout",
     "text": [
      "['Other', 'BusEq', 'NoDur', 'Money', 'Enrgy', 'Telcm', 'Hlth ', 'Manuf', 'Shops']\n"
     ]
    },
    {
     "output_type": "execute_result",
     "data": {
      "text/plain": [
       "1     1148.876144\n",
       "2      785.510416\n",
       "3      494.175842\n",
       "4      373.038967\n",
       "5      283.350797\n",
       "6      235.289796\n",
       "7      210.449663\n",
       "8      208.251414\n",
       "9      204.369481\n",
       "10     208.891542\n",
       "11     209.923549\n",
       "12     209.984916\n",
       "dtype: float64"
      ]
     },
     "metadata": {},
     "execution_count": 55
    }
   ],
   "source": [
    "# Now cross validate models selected by forward stepwise and select best one\n",
    "fsr_sse_sv = {}\n",
    "for i in range(1,p+1):\n",
    "    fsr_sse_sv[i] = xval_5fold(y,x[included[:i]])\n",
    "fsr_sse_sv = pd.Series(fsr_sse_sv)\n",
    "forstep_model = included[:fsr_sse_sv.idxmin()]\n",
    "print(forstep_model)\n",
    "fsr_sse_sv"
   ]
  },
  {
   "cell_type": "code",
   "execution_count": 121,
   "metadata": {},
   "outputs": [
    {
     "output_type": "stream",
     "name": "stdout",
     "text": [
      "['Other', 'BusEq', 'NoDur', 'Money', 'Enrgy', 'Telcm', 'Hlth ', 'Manuf', 'Shops']\n\n1     1148.876144\n2      785.510416\n3      494.175842\n4      373.038967\n5      283.350797\n6      235.289796\n7      210.449663\n8      208.251414\n9      204.369481\n10     208.891542\n11     209.923549\n12     209.984916\ndtype: float64\n"
     ]
    }
   ],
   "source": [
    "# forward stepwise function: \n",
    "# requires x: x dataframe , y series, p = number of columns, requires xval function too\n",
    "# input x, y, p\n",
    "\n",
    "def forward_stepwise(x, y, p):\n",
    "    included = []\n",
    "\n",
    "    for i in range(p):\n",
    "        excluded = [col for col in x if col not in included]\n",
    "        best_sse = np.inf\n",
    "        for col in excluded:\n",
    "            try_x = x[included + [col]]\n",
    "            beta = lstsq(try_x, y, rcond=None)[0]\n",
    "            resid = y - try_x @ beta\n",
    "            sse = resid @ resid\n",
    "            if sse < best_sse:\n",
    "                best_sse = sse\n",
    "                next_var = col\n",
    "        included.append(next_var)\n",
    "    \n",
    "    fsr_sse_sv = {}\n",
    "    for i in range(1,p+1):\n",
    "        fsr_sse_sv[i] = xval_5fold(y,x[included[:i]])\n",
    "    fsr_sse_sv = pd.Series(fsr_sse_sv)\n",
    "    forward_step_model = included[:fsr_sse_sv.idxmin()]\n",
    "    return forward_step_model, fsr_sse_sv, [fsr_sse_sv.min(), fsr_sse_sv.idxmin()]\n",
    "\n",
    "print(forward_stepwise(x, y , p)[0])\n",
    "print()\n",
    "print(forward_stepwise(x, y, p)[1])"
   ]
  },
  {
   "cell_type": "markdown",
   "metadata": {},
   "source": [
    "### Exercise 44\n",
    "\n",
    "Use Backward Stepwise Regression to select the tracking portfolio."
   ]
  },
  {
   "cell_type": "code",
   "execution_count": 60,
   "metadata": {
    "execution": {
     "iopub.execute_input": "2020-12-15T17:36:59.016160Z",
     "iopub.status.busy": "2020-12-15T17:36:59.013160Z",
     "iopub.status.idle": "2020-12-15T17:36:59.085160Z",
     "shell.execute_reply": "2020-12-15T17:36:59.085160Z"
    }
   },
   "outputs": [
    {
     "output_type": "stream",
     "name": "stdout",
     "text": [
      "['Durbl', 'Chems', 'Utils', 'Shops', 'Manuf', 'Hlth ', 'Telcm', 'Other', 'Enrgy', 'NoDur', 'BusEq', 'Money']\n"
     ]
    }
   ],
   "source": [
    "included = list(x.columns)\n",
    "removed = []\n",
    "\n",
    "for i in range(p):\n",
    "    best_sse = np.inf\n",
    "    for col in included:\n",
    "        try_col = included[:]\n",
    "        try_col.remove(col)\n",
    "        try_x = x[try_col]\n",
    "        beta = lstsq(try_x,y,rcond=None)[0]\n",
    "        resid = y - try_x @ beta\n",
    "        sse = resid @ resid\n",
    "        if sse < best_sse:\n",
    "           best_sse = sse\n",
    "           next_drop = col\n",
    "    removed.append(next_drop)\n",
    "    included.remove(next_drop)\n",
    "\n",
    "print(removed)"
   ]
  },
  {
   "cell_type": "code",
   "execution_count": 67,
   "metadata": {},
   "outputs": [
    {
     "output_type": "stream",
     "name": "stdout",
     "text": [
      "['Money', 'BusEq', 'NoDur', 'Enrgy', 'Other', 'Telcm', 'Hlth ', 'Manuf', 'Shops']\n"
     ]
    },
    {
     "output_type": "execute_result",
     "data": {
      "text/plain": [
       "1     2348.988056\n",
       "2      771.982254\n",
       "3      528.393322\n",
       "4      368.090926\n",
       "5      283.350797\n",
       "6      235.289796\n",
       "7      210.449663\n",
       "8      208.251414\n",
       "9      204.369481\n",
       "10     208.891542\n",
       "11     209.923549\n",
       "12     209.984916\n",
       "dtype: float64"
      ]
     },
     "metadata": {},
     "execution_count": 67
    }
   ],
   "source": [
    "included = removed[::-1]\n",
    "\n",
    "bsr_sse_sv = {}\n",
    "for i in range(1,p+1):\n",
    "    bsr_sse_sv[i] = xval_5fold(y,x[included[:i]])\n",
    "bsr_sse_sv = pd.Series(bsr_sse_sv)\n",
    "backstep_model = included[:bsr_sse_sv.idxmin()]\n",
    "print(backstep_model)\n",
    "bsr_sse_sv"
   ]
  },
  {
   "cell_type": "markdown",
   "metadata": {},
   "source": [
    "### Exercise 45\n",
    "\n",
    "Using scikit-learn to cross-validate the Backward Stepwise selected models.\n"
   ]
  },
  {
   "cell_type": "code",
   "execution_count": 74,
   "metadata": {
    "execution": {
     "iopub.execute_input": "2020-12-15T17:36:59.120162Z",
     "iopub.status.busy": "2020-12-15T17:36:59.120162Z",
     "iopub.status.idle": "2020-12-15T17:36:59.842184Z",
     "shell.execute_reply": "2020-12-15T17:36:59.843183Z"
    }
   },
   "outputs": [
    {
     "output_type": "stream",
     "name": "stdout",
     "text": [
      "['Money', 'BusEq', 'NoDur', 'Enrgy', 'Other', 'Telcm', 'Hlth ', 'Manuf', 'Shops']\n"
     ]
    },
    {
     "output_type": "execute_result",
     "data": {
      "text/plain": [
       "1    -2.735419\n",
       "2    -1.838053\n",
       "3    -1.176609\n",
       "4    -0.876407\n",
       "5    -0.674645\n",
       "6    -0.560214\n",
       "7    -0.501071\n",
       "8    -0.495837\n",
       "9    -0.486594\n",
       "10   -0.497361\n",
       "11   -0.499818\n",
       "12   -0.499964\n",
       "dtype: float64"
      ]
     },
     "metadata": {},
     "execution_count": 74
    }
   ],
   "source": [
    "from sklearn.model_selection import cross_val_score\n",
    "from sklearn.linear_model import LinearRegression\n",
    "from sklearn.model_selection import KFold\n",
    "\n",
    "# initilize a LR that will not include an intercept (we almost never do in financial data)\n",
    "lr = LinearRegression(fit_intercept=False)\n",
    "\n",
    "# a dictionary to hold the mse\n",
    "bsr_mse_cv = {}\n",
    "for i in range(1, p+1):\n",
    "    # get the x data to use\n",
    "    included_x = x[best_models[i]]\n",
    "    bsr_mse_cv[i] = cross_val_score(\n",
    "        lr, included_x, y, scoring = \"neg_mean_squared_error\"\n",
    "    ).mean()\n",
    "\n",
    "bsr_mse_cv = pd.Series(bsr_mse_cv)\n",
    "print(included[:bsr_mse_cv.idxmax()])\n",
    "bsr_mse_cv"
   ]
  },
  {
   "cell_type": "markdown",
   "metadata": {},
   "source": [
    "### Exercise 46\n",
    "\n",
    "Repeat the cross-validation using scikit-learn using randomly selected values in each block."
   ]
  },
  {
   "cell_type": "code",
   "execution_count": 78,
   "metadata": {
    "execution": {
     "iopub.execute_input": "2020-12-15T17:36:59.909253Z",
     "iopub.status.busy": "2020-12-15T17:36:59.888250Z",
     "iopub.status.idle": "2020-12-15T17:37:00.063253Z",
     "shell.execute_reply": "2020-12-15T17:37:00.063253Z"
    }
   },
   "outputs": [
    {
     "output_type": "stream",
     "name": "stdout",
     "text": [
      "['Money', 'BusEq', 'NoDur', 'Enrgy', 'Other', 'Telcm', 'Hlth ', 'Manuf', 'Shops', 'Utils', 'Chems']\n"
     ]
    },
    {
     "output_type": "execute_result",
     "data": {
      "text/plain": [
       "1    -5.436108\n",
       "2    -1.799260\n",
       "3    -1.193152\n",
       "4    -0.759860\n",
       "5    -0.574028\n",
       "6    -0.461058\n",
       "7    -0.406622\n",
       "8    -0.379140\n",
       "9    -0.369990\n",
       "10   -0.371283\n",
       "11   -0.369444\n",
       "12   -0.380203\n",
       "dtype: float64"
      ]
     },
     "metadata": {},
     "execution_count": 78
    }
   ],
   "source": [
    "from sklearn.model_selection import KFold\n",
    "\n",
    "lr = LinearRegression(fit_intercept=False)\n",
    "\n",
    "bsr_mse_cv = {}\n",
    "cv= KFold(5, shuffle=True, random_state=20201231)\n",
    "\n",
    "for i in range(1, p+1):\n",
    "    bsr_mse_cv[i] = cross_val_score(\n",
    "        lr, x[included[:i]], y, scoring=\"neg_mean_squared_error\", cv=cv\n",
    "    ).mean()\n",
    "\n",
    "bsr_mse_cv = pd.Series(bsr_mse_cv)\n",
    "print(included[:bsr_mse_cv.idxmax()])\n",
    "bsr_mse_cv"
   ]
  },
  {
   "cell_type": "markdown",
   "metadata": {},
   "source": [
    "### Exercise 47\n",
    "\n",
    "Evaluate the models selected using the sample that was _not_ used in fitting to assess the out-of-sample performance based on SSE."
   ]
  },
  {
   "cell_type": "code",
   "execution_count": 96,
   "metadata": {
    "execution": {
     "iopub.execute_input": "2020-12-15T17:37:00.070253Z",
     "iopub.status.busy": "2020-12-15T17:37:00.070253Z",
     "iopub.status.idle": "2020-12-15T17:37:00.079252Z",
     "shell.execute_reply": "2020-12-15T17:37:00.080252Z"
    }
   },
   "outputs": [
    {
     "output_type": "stream",
     "name": "stdout",
     "text": [
      "22.398513710136537\n"
     ]
    }
   ],
   "source": [
    "y_oos = vwm.loc[\"2015\":,\"VWM\"]\n",
    "x_oos = industries[\"2015\":]\n",
    "beta = lstsq(x[bsr_model], y, rcond=None)[0]\n",
    "pred = x_oos[bsr_model] @ beta\n",
    "resid_oos = y_oos - x_oos[bsr_model] @ beta\n",
    "oos_sse = resid_oos @ resid_oos\n",
    "print(oos_sse)"
   ]
  },
  {
   "cell_type": "code",
   "execution_count": 89,
   "metadata": {},
   "outputs": [
    {
     "output_type": "execute_result",
     "data": {
      "text/plain": [
       "22.398513710136463"
      ]
     },
     "metadata": {},
     "execution_count": 89
    }
   ],
   "source": [
    "beta = lstsq(x[forstep_model], y, rcond=None)[0]\n",
    "pred = x_oos[forstep_model] @ beta\n",
    "resid_oos = y_oos - x_oos[forstep_model] @ beta\n",
    "oos_sse = resid_oos @ resid_oos\n",
    "oos_sse"
   ]
  },
  {
   "cell_type": "code",
   "execution_count": 100,
   "metadata": {},
   "outputs": [
    {
     "output_type": "stream",
     "name": "stdout",
     "text": [
      "22.398513710136463\n"
     ]
    }
   ],
   "source": [
    "def oos_sse_fun(model):\n",
    "    beta = lstsq(x[forstep_model], y, rcond=None)[0]\n",
    "    pred = x_oos[forstep_model] @ beta\n",
    "    resid_oos = y_oos - x_oos[forstep_model] @ beta\n",
    "    oos_sse = resid_oos @ resid_oos\n",
    "    return oos_sse\n",
    "\n",
    "print(oos_sse_fun(backstep_model))"
   ]
  },
  {
   "cell_type": "markdown",
   "metadata": {},
   "source": [
    "### Exercise 47\n",
    "\n",
    "Compute the in-sample and out-of-sample $R^2$ for the selected models.\n",
    "\n",
    "The out-of-sample $R^2$ defined as\n",
    "\n",
    "$$ 1 - \\frac{SSE_{OOS}}{TSS_{OOS}} $$\n",
    "\n",
    "where the $SSE_{OOS}$ is the SSE using the predicted values and the $TSS_{OOS}$ is the TSS computed using the in-sample value (without demeaning since the models we are fitting do not include a constant). **Note**: If a model does not contain a constant, the $TSS_{OOS}$ is _not_ demeaned."
   ]
  },
  {
   "cell_type": "code",
   "execution_count": 123,
   "metadata": {
    "execution": {
     "iopub.execute_input": "2020-12-15T17:37:00.116252Z",
     "iopub.status.busy": "2020-12-15T17:37:00.115254Z",
     "iopub.status.idle": "2020-12-15T17:37:00.126254Z",
     "shell.execute_reply": "2020-12-15T17:37:00.127253Z"
    }
   },
   "outputs": [
    {
     "output_type": "stream",
     "name": "stdout",
     "text": [
      "The out of sample R2 for the out of sample period is 98.4%.\n"
     ]
    }
   ],
   "source": [
    "oos_tss = (y_oos **2).sum()\n",
    "oos_r2 = 1- oos_sse/ oos_tss\n",
    "print(f\"The out of sample R2 for the out of sample period is {100*oos_r2:0.1f}%.\")"
   ]
  },
  {
   "cell_type": "code",
   "execution_count": 126,
   "metadata": {},
   "outputs": [
    {
     "output_type": "stream",
     "name": "stdout",
     "text": [
      "The in sample R2 for the out of sample period is 99.9%.\n"
     ]
    }
   ],
   "source": [
    "from statsmodels.api import OLS\n",
    "\n",
    "r2 = OLS(y_oos, x_oos).fit().rsquared\n",
    "print(f\"The in sample R2 for the out of sample period is {100*r2:0.1f}%.\")"
   ]
  },
  {
   "cell_type": "markdown",
   "metadata": {},
   "source": [
    "### Exercise 48\n",
    "\n",
    "Use scikit-learn to produce out-of-sample fits and compute the out-of-sample SSE.  Verify this value is the same as you found previously."
   ]
  },
  {
   "cell_type": "code",
   "execution_count": null,
   "metadata": {
    "execution": {
     "iopub.execute_input": "2020-12-15T17:37:00.760843Z",
     "iopub.status.busy": "2020-12-15T17:37:00.760843Z",
     "iopub.status.idle": "2020-12-15T17:37:00.772842Z",
     "shell.execute_reply": "2020-12-15T17:37:00.772842Z"
    }
   },
   "outputs": [],
   "source": []
  }
 ],
 "metadata": {
  "kernelspec": {
   "display_name": "Python 3",
   "language": "python",
   "name": "python3"
  },
  "language_info": {
   "codemirror_mode": {
    "name": "ipython",
    "version": 3
   },
   "file_extension": ".py",
   "mimetype": "text/x-python",
   "name": "python",
   "nbconvert_exporter": "python",
   "pygments_lexer": "ipython3",
   "version": "3.8.3-final"
  }
 },
 "nbformat": 4,
 "nbformat_minor": 4
}