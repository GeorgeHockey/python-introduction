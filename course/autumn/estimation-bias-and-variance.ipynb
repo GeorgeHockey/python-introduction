{
 "cells": [
  {
   "cell_type": "markdown",
   "metadata": {
    "collapsed": true
   },
   "source": [
    "## Estimation: Bias and Verification of Standard Errors\n",
    "\n",
    "Methods/Functions\n",
    "\n",
    "`mean`, `var`, `RandomState`, `RandomState.chisquare`, `array`, `DataFrame.plot.kde`, `stats.norm.ppf`"
   ]
  },
  {
   "cell_type": "markdown",
   "metadata": {},
   "source": [
    "### Exercise 25\n",
    "Simulate a set of i.i.d. $\\chi_{5}^{2}$ random variables and use the method of moments\n",
    "to estimate the mean and variance."
   ]
  },
  {
   "cell_type": "code",
   "execution_count": 127,
   "metadata": {},
   "outputs": [
    {
     "output_type": "stream",
     "name": "stdout",
     "text": [
      "The mean is 5.018686987866649 and the variance is 7.076920224073575\n"
     ]
    }
   ],
   "source": [
    "import numpy as np\n",
    "\n",
    "rs = np.random.RandomState(19991231)\n",
    "\n",
    "rvs = rs.chisquare(5, size = 10)\n",
    "\n",
    "mu_rvs = rvs.mean()\n",
    "var_rvs = rvs.var()\n",
    "\n",
    "print(f\"The mean is {mu_rvs} and the variance is {var_rvs}\")"
   ]
  },
  {
   "cell_type": "markdown",
   "metadata": {},
   "source": [
    "### Exercise 26\n",
    "Compute the asymptotic variance of the method of moment estimator."
   ]
  },
  {
   "cell_type": "code",
   "execution_count": 128,
   "metadata": {},
   "outputs": [
    {
     "output_type": "stream",
     "name": "stdout",
     "text": [
      "The asymptomatic covariance is [[ 7.07692022 -0.14669921]\n [-0.14669921 37.06172824]]\n"
     ]
    }
   ],
   "source": [
    "err = rvs - mu_rvs\n",
    "mom_err = np.array([err, err**2 - var_rvs]).T\n",
    "nobs = mom_err.shape[0]\n",
    "\n",
    "acov = mom_err.T @ mom_err / nobs\n",
    "print(f\"The asymptomatic covariance is {acov}\")\n"
   ]
  },
  {
   "cell_type": "markdown",
   "metadata": {},
   "source": [
    "### Exercise 27\n",
    "Repeat Exercises 24 and 25 a total of 1000 times.\n",
    "Examine the finite sample bias of these estimators relative to the true values."
   ]
  },
  {
   "cell_type": "code",
   "execution_count": 129,
   "metadata": {},
   "outputs": [
    {
     "output_type": "stream",
     "name": "stdout",
     "text": [
      "The bias of the mean is 0.030637114579928237 and the bias of the variance is -0.6459309147194912\n"
     ]
    }
   ],
   "source": [
    "estimates = np.zeros((1000,2))\n",
    "acov = np.zeros((1000,2,2))\n",
    "for i in range(1000):\n",
    "    rvs = rs.chisquare(5,size=10)\n",
    "    rvs_mu = rvs.mean()\n",
    "    rvs_var = rvs.var()\n",
    "    estimates[i] = [rvs_mu, rvs_var]\n",
    "\n",
    "\n",
    "    errs = rvs - rvs_mu\n",
    "    mom_errs = np.array([errs,errs**2 - rvs_var]).T\n",
    "    nobs = mom_errs.shape[0]\n",
    "\n",
    "    acov[i] = mom_errs.T @ mom_errs / nobs\n",
    "\n",
    "bias = estimates.mean(axis=0) - np.array([5,10])\n",
    "print(f\"The bias of the mean is {bias[0]} and the bias of the variance is {bias[1]}\")"
   ]
  },
  {
   "cell_type": "markdown",
   "metadata": {},
   "source": [
    "### Exercise 28\n",
    "Repeat Exercises 24 and 25 a total of 1000 times.\n",
    "Compare the covariance of the estimated means and variance (1000 of each) to the asymptotic covariance of the parameters (use the average of the 1000 estimated variance-covariances). Are these close? How does the sample size affect this?"
   ]
  },
  {
   "cell_type": "code",
   "execution_count": 130,
   "metadata": {},
   "outputs": [
    {
     "output_type": "stream",
     "name": "stdout",
     "text": [
      "The finite sample covariance is:\n[[ 1.11324227  4.20444024]\n [ 4.20444024 39.84465645]]\nThe average asymptotic covariance of the parameters is:\n[[ 0.93540691  3.04327717]\n [ 3.04327717 29.41246286]]\n"
     ]
    }
   ],
   "source": [
    "est_errs = estimates - estimates.mean(axis=0)\n",
    "finite_sample_cov = est_errs.T @ est_errs / 1000\n",
    "avg_acov = acov.mean(0)\n",
    "\n",
    "print(\"The finite sample covariance is:\")\n",
    "print(finite_sample_cov)\n",
    "\n",
    "print(\"The average asymptotic covariance of the parameters is:\")\n",
    "print(avg_acov/10)"
   ]
  },
  {
   "cell_type": "markdown",
   "metadata": {},
   "source": [
    "### Exercise 29\n",
    "In the previous problem, for each parameter, form a standardized parameter estimate as\n",
    "\n",
    "$$z_{i}=\\frac{\\sqrt{n}\\left(\\hat{\\theta}_{i}-\\theta_{i,0}\\right)}{\\sqrt{\\hat{\\Sigma}_{ii}}}$$ \n",
    "\n",
    "where\n",
    "\n",
    "$$\\sqrt{n}\\left(\\hat{\\theta}-\\theta_{0}\\right)\\stackrel{d}{\\rightarrow} N\\left(0,\\Sigma\\right)$$\n",
    "\n",
    "so that $\\hat{\\Sigma}$ is the estimated asymptotic covariance. What percent of these $z_{i}$\n",
    "are larger in absolute value than 10%, 5% and 1% 2-sided critical values from a normal?"
   ]
  },
  {
   "cell_type": "code",
   "execution_count": null,
   "metadata": {},
   "outputs": [],
   "source": [
    "from scipy import stats\n",
    "import pandas as pd\n",
    "\n",
    "\n",
    "\n"
   ]
  },
  {
   "cell_type": "markdown",
   "metadata": {},
   "source": [
    "### Exercise 30\n",
    "Produce a density plot of the $z_{i}$ standardized parameters and compare to a standard normal."
   ]
  },
  {
   "cell_type": "code",
   "execution_count": null,
   "metadata": {},
   "outputs": [],
   "source": []
  },
  {
   "cell_type": "markdown",
   "metadata": {},
   "source": [
    "### Exercise 31\n",
    "Repeat the same exercise for the Bernoulli problem from the previous question."
   ]
  },
  {
   "cell_type": "code",
   "execution_count": null,
   "metadata": {},
   "outputs": [],
   "source": []
  }
 ],
 "metadata": {
  "kernelspec": {
   "display_name": "Python 3",
   "language": "python",
   "name": "python3"
  },
  "language_info": {
   "codemirror_mode": {
    "name": "ipython",
    "version": 3
   },
   "file_extension": ".py",
   "mimetype": "text/x-python",
   "name": "python",
   "nbconvert_exporter": "python",
   "pygments_lexer": "ipython3",
   "version": "3.8.3-final"
  },
  "pycharm": {
   "stem_cell": {
    "cell_type": "raw",
    "metadata": {
     "collapsed": false
    },
    "source": []
   }
  }
 },
 "nbformat": 4,
 "nbformat_minor": 1
}