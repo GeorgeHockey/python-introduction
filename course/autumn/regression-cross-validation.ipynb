{
 "cells": [
  {
   "cell_type": "markdown",
   "metadata": {},
   "source": [
    "## Linear Regression: Model Selection and Cross-Validation\n",
    "\n",
    "Functions\n",
    "\n",
    "`RandomState.permute`, `sm.OLS`, `set`, `scipy.random.norm.ppf`, `np.linspace`, `np.mean`\n",
    "\n",
    "### Exercise 39\n",
    "Four portfolios we have been looking at, and considering all 8 sets of\n",
    "regressors which range from no factor to all 3 factors, which model is preferred\n",
    "by AIC, BIC, GtS and StG?"
   ]
  },
  {
   "cell_type": "code",
   "execution_count": 7,
   "metadata": {},
   "outputs": [],
   "source": [
    "import pandas as pd\n",
    "import statsmodels.api as sm\n",
    "import numpy as np\n",
    "from itertools import product\n",
    "\n",
    "ff = pd.read_hdf(\"data/ff.h5\",\"ff\")\n",
    "factors = sm.add_constant(ff.iloc[:,:3])\n",
    "portfolios = ff.iloc[:,4:]\n",
    "portfolios = portfolios[[\"SMALL LoBM\",\"SMALL HiBM\",\"BIG LoBM\", \"BIG HiBM\"]]"
   ]
  },
  {
   "cell_type": "code",
   "execution_count": 9,
   "metadata": {},
   "outputs": [
    {
     "output_type": "execute_result",
     "data": {
      "text/plain": [
       "[(True, True, True),\n",
       " (True, True, False),\n",
       " (True, False, True),\n",
       " (True, False, False),\n",
       " (False, True, True),\n",
       " (False, True, False),\n",
       " (False, False, True),\n",
       " (False, False, False)]"
      ]
     },
     "metadata": {},
     "execution_count": 9
    }
   ],
   "source": [
    "true_false = [True, False]\n",
    "params = [true_false] * 3\n",
    "choices = list(product(*params))\n",
    "choices"
   ]
  },
  {
   "cell_type": "code",
   "execution_count": 11,
   "metadata": {},
   "outputs": [
    {
     "output_type": "stream",
     "name": "stdout",
     "text": [
      "For SMALL LoBM, AIC selects ('const', 'Mkt-RF', 'SMB', 'HML')\nFor SMALL LoBM, BIC selects ('const', 'Mkt-RF', 'SMB', 'HML')\nFor SMALL HiBM, AIC selects ('const', 'Mkt-RF', 'SMB', 'HML')\nFor SMALL HiBM, BIC selects ('const', 'Mkt-RF', 'SMB', 'HML')\nFor BIG LoBM, AIC selects ('const', 'Mkt-RF', 'SMB', 'HML')\nFor BIG LoBM, BIC selects ('const', 'Mkt-RF', 'SMB', 'HML')\nFor BIG HiBM, AIC selects ('const', 'Mkt-RF', 'SMB', 'HML')\nFor BIG HiBM, BIC selects ('const', 'Mkt-RF', 'SMB', 'HML')\n"
     ]
    }
   ],
   "source": [
    "# AIC and BIC selection\n",
    "\n",
    "for column in portfolios:\n",
    "    results = {}\n",
    "    for i in range(8):\n",
    "        sel = [True] + list(choices[i])\n",
    "        x = factors.loc[:,sel]\n",
    "        regressor_names = []\n",
    "        for j in range(4):\n",
    "            if sel[j]:\n",
    "                regressor_names.append(factors.columns[j])\n",
    "        names = tuple(regressor_names)\n",
    "        res = sm.OLS(portfolios[column],x).fit()\n",
    "        results[names] = [res.aic, res.bic] \n",
    "    ic = pd.DataFrame(results, index = [\"AIC\", \"BIC\"]).T\n",
    "\n",
    "    aic_model = ic.sort_values(\"AIC\").index[0]\n",
    "    bic_model = ic.sort_values(\"BIC\").index[0]\n",
    "    print(f\"For {column}, AIC selects {aic_model}\")\n",
    "    print(f\"For {column}, BIC selects {bic_model}\")\n"
   ]
  },
  {
   "cell_type": "code",
   "execution_count": 13,
   "metadata": {},
   "outputs": [
    {
     "output_type": "stream",
     "name": "stdout",
     "text": [
      "For SMALL LoBM, GtS selects ['Mkt-RF', 'SMB']\nFor SMALL HiBM, GtS selects ['const', 'Mkt-RF', 'SMB', 'HML']\nFor BIG LoBM, GtS selects ['const', 'Mkt-RF', 'SMB', 'HML']\nFor BIG HiBM, GtS selects ['Mkt-RF', 'HML']\n"
     ]
    }
   ],
   "source": [
    "# General to Specific selection\n",
    "from scipy import stats\n",
    "cv = stats.norm.ppf(.995)\n",
    "\n",
    "for column in portfolios:\n",
    "    included  = list(factors.columns)\n",
    "    y = portfolios[column]\n",
    "    for i in range(3):\n",
    "        x = factors.loc[:,included]\n",
    "        res = sm.OLS(y,x).fit(cov_type=\"HC0\")\n",
    "        tstats = res.tvalues\n",
    "        if tstats.abs().min() < cv:\n",
    "            sorted_tstats = tstats.abs().sort_values()\n",
    "            remove = sorted_tstats.index[0]\n",
    "            included.remove(remove)\n",
    "        else:\n",
    "            break\n",
    "    print(f\"For {column}, GtS selects {included}\")\n"
   ]
  },
  {
   "cell_type": "code",
   "execution_count": 15,
   "metadata": {},
   "outputs": [
    {
     "output_type": "stream",
     "name": "stdout",
     "text": [
      "For SMALL LoBM, StG selects ['SMB', 'Mkt-RF'], leaving out {'const', 'HML'}\nFor SMALL HiBM, StG selects ['Mkt-RF', 'SMB', 'HML'], leaving out {'const'}\nFor BIG LoBM, StG selects ['Mkt-RF', 'HML', 'const'], leaving out {'SMB'}\nFor BIG HiBM, StG selects ['Mkt-RF', 'HML'], leaving out {'const', 'SMB'}\n"
     ]
    }
   ],
   "source": [
    "# Specific to general approach\n",
    "\n",
    "for column in portfolios:\n",
    "    included = []\n",
    "    excluded = factors.columns\n",
    "    y = portfolios[column]\n",
    "    for i in range(3):\n",
    "        tstats = {}\n",
    "        for next_var in excluded:\n",
    "            col_names = included + [next_var]\n",
    "            x = factors.loc[:,col_names]\n",
    "            res = sm.OLS(y,x).fit(cov_type=\"HC0\")\n",
    "            tstats[next_var] = res.tvalues.iloc[-1]\n",
    "        tstats = pd.Series(tstats)\n",
    "        if tstats.abs().max() > cv:\n",
    "            sorted_tstats = tstats.abs().sort_values()\n",
    "            included = included + [sorted_tstats.index[-1]]\n",
    "        else:\n",
    "            break\n",
    "        excluded = set(factors.columns).difference(included)\n",
    "    print(f\"For {column}, StG selects {included}, leaving out {excluded}\")"
   ]
  },
  {
   "cell_type": "markdown",
   "metadata": {},
   "source": [
    "### Exercise 40\n",
    "Cross-validation is a method of analyzing the in-sample forecasting ability of a\n",
    "cross-sectional model by using $\\alpha\\%$ of the data to estimate the model and\n",
    "then measuring the fit using the remaining $100-\\alpha\\%$. The most common forms\n",
    "are 5- and 10-fold cross-validation which use $\\alpha=20\\%$ and $10\\%$, respectively.\n",
    "k-fold cross validation is implemented by randomly grouping the data into\n",
    "k-equally-sized groups, using k-1 of the groups to estimate parameters, and\n",
    "then evaluating using the bin that was held out. This is then repeated so that\n",
    "each bin is held out.\n",
    "\n",
    "1. Implement cross-validation using the 5- and 10-fold methods for all 8 models.\n",
    "2. For each model, compute the full-sample sum of squared errors as well as the\n",
    "   sum-of-squared errors using the held-out sample. Note that all data points\n",
    "   will appear exactly once in both of these sum or squared errors. What happens\n",
    "   to the cross-validated $R^{2}$ when computed on the held out sample when compared\n",
    "   to the full-sample $R^{2}$? (k-fold cross validated SSE by the TSS)."
   ]
  },
  {
   "cell_type": "code",
   "execution_count": 60,
   "metadata": {},
   "outputs": [
    {
     "output_type": "stream",
     "name": "stdout",
     "text": [
      "\n",
      "For SMALL LoBM, CV selects ('const', 'Mkt-RF', 'SMB', 'HML')\n",
      "The MSEs are 41.73800385617749 (CV) and 39.84597408114153 (full sample)\n",
      "The R2s are 0.7045162799136672 (CV) and 0.7179108830280897 (full sample)\n",
      "\n",
      "For SMALL HiBM, CV selects ('const', 'Mkt-RF', 'SMB', 'HML')\n",
      "The MSEs are 5.462914480426759 (CV) and 5.223322832919042 (full sample)\n",
      "The R2s are 0.9356165672517653 (CV) and 0.9384402857594633 (full sample)\n",
      "\n",
      "For BIG LoBM, CV selects ('const', 'Mkt-RF', 'SMB', 'HML')\n",
      "The MSEs are 1.3875348945923307 (CV) and 1.3694629243223586 (full sample)\n",
      "The R2s are 0.9509545133244749 (CV) and 0.9515933070445686 (full sample)\n",
      "\n",
      "For BIG HiBM, CV selects ('const', 'Mkt-RF', 'SMB', 'HML')\n",
      "The MSEs are 12.049970805233622 (CV) and 11.686213642228015 (full sample)\n",
      "The R2s are 0.8329301822673112 (CV) and 0.8379735839406091 (full sample)\n"
     ]
    }
   ],
   "source": [
    "rs = np.random.RandomState(1)\n",
    "folds = 10\n",
    "nobs = portfolios.shape[0]\n",
    "order = list(rs.permutation(nobs))\n",
    "block = nobs / folds\n",
    "\n",
    "for column in portfolios:\n",
    "    portfolio = portfolios[column]\n",
    "    model_errors = {}\n",
    "    for j in range(8):\n",
    "        sel = [True] + list(choices[j])\n",
    "        model_factors = factors.loc[: , sel]\n",
    "        errors = portfolio.copy()\n",
    "        for i in range(folds):\n",
    "            include = order[:int(i*block)] + order[int((i+1)*block):]\n",
    "            hold_out = order[int(i*block):int((i+1)*block)]\n",
    "            y = portfolio.iloc[include]\n",
    "            x = model_factors.iloc[include]\n",
    "            mod = sm.OLS(y,x)\n",
    "            res = mod.fit(cov_type=\"HC0\")\n",
    "            y_hat = res.predict(model_factors.iloc[hold_out])\n",
    "            err = portfolio.iloc[hold_out] - y_hat\n",
    "            errors.loc[err.index] = err\n",
    "        model_name = tuple(factors.columns[sel])\n",
    "        model_errors[model_name] = errors\n",
    "    model_errors = pd.DataFrame(model_errors)\n",
    "    mse = (model_errors ** 2).mean()\n",
    "    mse = mse.sort_values()\n",
    "\n",
    "    # get rid of missing values\n",
    "    selected_factors = pd.Series(mse.index[0]).dropna()\n",
    "    x = factors[selected_factors]\n",
    "    res = sm.OLS(portfolios[column], x).fit(cov_type=\"HC0\")\n",
    "    print()\n",
    "    print(f\"For {column}, CV selects {tuple(selected_factors)}\")\n",
    "    print(f\"The MSEs are {mse.iloc[0]} (CV) and {res.mse_resid} (full sample)\")\n",
    "    print(f\"The R2s are {1 - mse.iloc[0] / res.mse_total} (CV) and {1 - res.mse_resid / res.mse_total} (full sample)\")\n"
   ]
  }
 ],
 "metadata": {
  "kernelspec": {
   "display_name": "Python 3",
   "language": "python",
   "name": "python3"
  },
  "language_info": {
   "codemirror_mode": {
    "name": "ipython",
    "version": 3
   },
   "file_extension": ".py",
   "mimetype": "text/x-python",
   "name": "python",
   "nbconvert_exporter": "python",
   "pygments_lexer": "ipython3",
   "version": "3.8.3-final"
  },
  "pycharm": {
   "stem_cell": {
    "cell_type": "raw",
    "metadata": {
     "collapsed": false
    },
    "source": []
   }
  }
 },
 "nbformat": 4,
 "nbformat_minor": 1
}