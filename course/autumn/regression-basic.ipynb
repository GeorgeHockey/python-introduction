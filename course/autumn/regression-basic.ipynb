{
 "cells": [
  {
   "cell_type": "markdown",
   "metadata": {},
   "source": [
    "## Linear Regression: Model Estimation\n",
    "\n",
    "**Functions**\n",
    "\n",
    "`sm.OLS`\n",
    "\n",
    "### Exercise 32\n",
    "Use the OLS function to estimate the coefficients of the Fama-French portfolios (monthly data) on the\n",
    "market, size and value factors. Include a constant in the regressions. Use only the four\n",
    "extremum portfolios – that is the 1-1, 1-5, 5-1 and 5-5 portfolios. Estimate the model with\n",
    "homoskedastic errors and with White's covariance estimator."
   ]
  },
  {
   "cell_type": "code",
   "execution_count": 22,
   "metadata": {},
   "outputs": [],
   "source": [
    "import pandas as pd\n",
    "ff = pd.read_hdf(\"data/ff.h5\",\"ff\")\n",
    "\n",
    "factors = ff.iloc[:,:3]\n",
    "portfolios = ff.iloc[:,4:]\n",
    "portfolios = portfolios[[\"SMALL LoBM\", \"SMALL HiBM\",\"BIG LoBM\", \"BIG HiBM\"]]"
   ]
  },
  {
   "cell_type": "code",
   "execution_count": 23,
   "metadata": {},
   "outputs": [
    {
     "output_type": "execute_result",
     "data": {
      "text/plain": [
       "            const  Mkt-RF   SMB   HML\n",
       "1926-07-31    1.0    2.96 -2.30 -2.87\n",
       "1926-08-31    1.0    2.64 -1.40  4.19\n",
       "1926-09-30    1.0    0.36 -1.32  0.01\n",
       "1926-10-31    1.0   -3.24  0.04  0.51\n",
       "1926-11-30    1.0    2.53 -0.20 -0.35\n",
       "...           ...     ...   ...   ...\n",
       "2019-03-31    1.0    1.10 -3.13 -4.07\n",
       "2019-04-30    1.0    3.96 -1.68  1.93\n",
       "2019-05-31    1.0   -6.94 -1.20 -2.39\n",
       "2019-06-30    1.0    6.93  0.33 -1.08\n",
       "2019-07-31    1.0    1.19 -2.06  0.12\n",
       "\n",
       "[1117 rows x 4 columns]"
      ],
      "text/html": "<div>\n<style scoped>\n    .dataframe tbody tr th:only-of-type {\n        vertical-align: middle;\n    }\n\n    .dataframe tbody tr th {\n        vertical-align: top;\n    }\n\n    .dataframe thead th {\n        text-align: right;\n    }\n</style>\n<table border=\"1\" class=\"dataframe\">\n  <thead>\n    <tr style=\"text-align: right;\">\n      <th></th>\n      <th>const</th>\n      <th>Mkt-RF</th>\n      <th>SMB</th>\n      <th>HML</th>\n    </tr>\n  </thead>\n  <tbody>\n    <tr>\n      <th>1926-07-31</th>\n      <td>1.0</td>\n      <td>2.96</td>\n      <td>-2.30</td>\n      <td>-2.87</td>\n    </tr>\n    <tr>\n      <th>1926-08-31</th>\n      <td>1.0</td>\n      <td>2.64</td>\n      <td>-1.40</td>\n      <td>4.19</td>\n    </tr>\n    <tr>\n      <th>1926-09-30</th>\n      <td>1.0</td>\n      <td>0.36</td>\n      <td>-1.32</td>\n      <td>0.01</td>\n    </tr>\n    <tr>\n      <th>1926-10-31</th>\n      <td>1.0</td>\n      <td>-3.24</td>\n      <td>0.04</td>\n      <td>0.51</td>\n    </tr>\n    <tr>\n      <th>1926-11-30</th>\n      <td>1.0</td>\n      <td>2.53</td>\n      <td>-0.20</td>\n      <td>-0.35</td>\n    </tr>\n    <tr>\n      <th>...</th>\n      <td>...</td>\n      <td>...</td>\n      <td>...</td>\n      <td>...</td>\n    </tr>\n    <tr>\n      <th>2019-03-31</th>\n      <td>1.0</td>\n      <td>1.10</td>\n      <td>-3.13</td>\n      <td>-4.07</td>\n    </tr>\n    <tr>\n      <th>2019-04-30</th>\n      <td>1.0</td>\n      <td>3.96</td>\n      <td>-1.68</td>\n      <td>1.93</td>\n    </tr>\n    <tr>\n      <th>2019-05-31</th>\n      <td>1.0</td>\n      <td>-6.94</td>\n      <td>-1.20</td>\n      <td>-2.39</td>\n    </tr>\n    <tr>\n      <th>2019-06-30</th>\n      <td>1.0</td>\n      <td>6.93</td>\n      <td>0.33</td>\n      <td>-1.08</td>\n    </tr>\n    <tr>\n      <th>2019-07-31</th>\n      <td>1.0</td>\n      <td>1.19</td>\n      <td>-2.06</td>\n      <td>0.12</td>\n    </tr>\n  </tbody>\n</table>\n<p>1117 rows × 4 columns</p>\n</div>"
     },
     "metadata": {},
     "execution_count": 23
    }
   ],
   "source": [
    "import statsmodels.api as sm\n",
    "factors = sm.add_constant(factors)\n",
    "all_results = {}\n",
    "homosked_results = {}\n",
    "factors"
   ]
  },
  {
   "cell_type": "code",
   "execution_count": 24,
   "metadata": {},
   "outputs": [
    {
     "output_type": "execute_result",
     "data": {
      "text/plain": [
       "<class 'statsmodels.iolib.summary.Summary'>\n",
       "\"\"\"\n",
       "                            OLS Regression Results                            \n",
       "==============================================================================\n",
       "Dep. Variable:             SMALL LoBM   R-squared:                       0.655\n",
       "Model:                            OLS   Adj. R-squared:                  0.654\n",
       "Method:                 Least Squares   F-statistic:                     180.8\n",
       "Date:                Mon, 21 Dec 2020   Prob (F-statistic):           1.77e-95\n",
       "Time:                        14:35:18   Log-Likelihood:                -3776.8\n",
       "No. Observations:                1117   AIC:                             7562.\n",
       "Df Residuals:                    1113   BIC:                             7582.\n",
       "Df Model:                           3                                         \n",
       "Covariance Type:                  HC0                                         \n",
       "==============================================================================\n",
       "                 coef    std err          z      P>|z|      [0.025      0.975]\n",
       "------------------------------------------------------------------------------\n",
       "const         -0.4355      0.172     -2.526      0.012      -0.773      -0.098\n",
       "Mkt-RF         1.2832      0.119     10.766      0.000       1.050       1.517\n",
       "SMB            1.4336      0.177      8.120      0.000       1.088       1.780\n",
       "HML            0.4214      0.274      1.536      0.125      -0.116       0.959\n",
       "==============================================================================\n",
       "Omnibus:                      896.514   Durbin-Watson:                   2.065\n",
       "Prob(Omnibus):                  0.000   Jarque-Bera (JB):           102194.780\n",
       "Skew:                           2.973   Prob(JB):                         0.00\n",
       "Kurtosis:                      49.480   Cond. No.                         5.68\n",
       "==============================================================================\n",
       "\n",
       "Notes:\n",
       "[1] Standard Errors are heteroscedasticity robust (HC0)\n",
       "\"\"\""
      ],
      "text/html": "<table class=\"simpletable\">\n<caption>OLS Regression Results</caption>\n<tr>\n  <th>Dep. Variable:</th>       <td>SMALL LoBM</td>    <th>  R-squared:         </th> <td>   0.655</td>\n</tr>\n<tr>\n  <th>Model:</th>                   <td>OLS</td>       <th>  Adj. R-squared:    </th> <td>   0.654</td>\n</tr>\n<tr>\n  <th>Method:</th>             <td>Least Squares</td>  <th>  F-statistic:       </th> <td>   180.8</td>\n</tr>\n<tr>\n  <th>Date:</th>             <td>Mon, 21 Dec 2020</td> <th>  Prob (F-statistic):</th> <td>1.77e-95</td>\n</tr>\n<tr>\n  <th>Time:</th>                 <td>14:35:18</td>     <th>  Log-Likelihood:    </th> <td> -3776.8</td>\n</tr>\n<tr>\n  <th>No. Observations:</th>      <td>  1117</td>      <th>  AIC:               </th> <td>   7562.</td>\n</tr>\n<tr>\n  <th>Df Residuals:</th>          <td>  1113</td>      <th>  BIC:               </th> <td>   7582.</td>\n</tr>\n<tr>\n  <th>Df Model:</th>              <td>     3</td>      <th>                     </th>     <td> </td>   \n</tr>\n<tr>\n  <th>Covariance Type:</th>         <td>HC0</td>       <th>                     </th>     <td> </td>   \n</tr>\n</table>\n<table class=\"simpletable\">\n<tr>\n     <td></td>       <th>coef</th>     <th>std err</th>      <th>z</th>      <th>P>|z|</th>  <th>[0.025</th>    <th>0.975]</th>  \n</tr>\n<tr>\n  <th>const</th>  <td>   -0.4355</td> <td>    0.172</td> <td>   -2.526</td> <td> 0.012</td> <td>   -0.773</td> <td>   -0.098</td>\n</tr>\n<tr>\n  <th>Mkt-RF</th> <td>    1.2832</td> <td>    0.119</td> <td>   10.766</td> <td> 0.000</td> <td>    1.050</td> <td>    1.517</td>\n</tr>\n<tr>\n  <th>SMB</th>    <td>    1.4336</td> <td>    0.177</td> <td>    8.120</td> <td> 0.000</td> <td>    1.088</td> <td>    1.780</td>\n</tr>\n<tr>\n  <th>HML</th>    <td>    0.4214</td> <td>    0.274</td> <td>    1.536</td> <td> 0.125</td> <td>   -0.116</td> <td>    0.959</td>\n</tr>\n</table>\n<table class=\"simpletable\">\n<tr>\n  <th>Omnibus:</th>       <td>896.514</td> <th>  Durbin-Watson:     </th>  <td>   2.065</td> \n</tr>\n<tr>\n  <th>Prob(Omnibus):</th> <td> 0.000</td>  <th>  Jarque-Bera (JB):  </th> <td>102194.780</td>\n</tr>\n<tr>\n  <th>Skew:</th>          <td> 2.973</td>  <th>  Prob(JB):          </th>  <td>    0.00</td> \n</tr>\n<tr>\n  <th>Kurtosis:</th>      <td>49.480</td>  <th>  Cond. No.          </th>  <td>    5.68</td> \n</tr>\n</table><br/><br/>Notes:<br/>[1] Standard Errors are heteroscedasticity robust (HC0)"
     },
     "metadata": {},
     "execution_count": 24
    }
   ],
   "source": [
    "mod = sm.OLS(portfolios[\"SMALL LoBM\"], factors)\n",
    "res = mod.fit(cov_type=\"HC0\")\n",
    "all_results[\"SMALL LoBM\"] = res\n",
    "homosked_results[\"SMALL LoBM\"] = sm.OLS(portfolios[\"SMALL LoBM\"], factors).fit()\n",
    "res.summary()"
   ]
  },
  {
   "cell_type": "code",
   "execution_count": 25,
   "metadata": {},
   "outputs": [
    {
     "output_type": "execute_result",
     "data": {
      "text/plain": [
       "<class 'statsmodels.iolib.summary.Summary'>\n",
       "\"\"\"\n",
       "                            OLS Regression Results                            \n",
       "==============================================================================\n",
       "Dep. Variable:             SMALL HiBM   R-squared:                       0.939\n",
       "Model:                            OLS   Adj. R-squared:                  0.938\n",
       "Method:                 Least Squares   F-statistic:                     941.0\n",
       "Date:                Mon, 21 Dec 2020   Prob (F-statistic):          1.19e-304\n",
       "Time:                        14:35:18   Log-Likelihood:                -2506.2\n",
       "No. Observations:                1117   AIC:                             5020.\n",
       "Df Residuals:                    1113   BIC:                             5041.\n",
       "Df Model:                           3                                         \n",
       "Covariance Type:                  HC0                                         \n",
       "==============================================================================\n",
       "                 coef    std err          z      P>|z|      [0.025      0.975]\n",
       "------------------------------------------------------------------------------\n",
       "const          0.3696      0.062      6.008      0.000       0.249       0.490\n",
       "Mkt-RF         0.9830      0.024     40.929      0.000       0.936       1.030\n",
       "SMB            1.3001      0.065     20.068      0.000       1.173       1.427\n",
       "HML            0.9124      0.058     15.624      0.000       0.798       1.027\n",
       "==============================================================================\n",
       "Omnibus:                      589.467   Durbin-Watson:                   2.272\n",
       "Prob(Omnibus):                  0.000   Jarque-Bera (JB):            15321.552\n",
       "Skew:                           1.888   Prob(JB):                         0.00\n",
       "Kurtosis:                      20.747   Cond. No.                         5.68\n",
       "==============================================================================\n",
       "\n",
       "Notes:\n",
       "[1] Standard Errors are heteroscedasticity robust (HC0)\n",
       "\"\"\""
      ],
      "text/html": "<table class=\"simpletable\">\n<caption>OLS Regression Results</caption>\n<tr>\n  <th>Dep. Variable:</th>       <td>SMALL HiBM</td>    <th>  R-squared:         </th> <td>   0.939</td> \n</tr>\n<tr>\n  <th>Model:</th>                   <td>OLS</td>       <th>  Adj. R-squared:    </th> <td>   0.938</td> \n</tr>\n<tr>\n  <th>Method:</th>             <td>Least Squares</td>  <th>  F-statistic:       </th> <td>   941.0</td> \n</tr>\n<tr>\n  <th>Date:</th>             <td>Mon, 21 Dec 2020</td> <th>  Prob (F-statistic):</th> <td>1.19e-304</td>\n</tr>\n<tr>\n  <th>Time:</th>                 <td>14:35:18</td>     <th>  Log-Likelihood:    </th> <td> -2506.2</td> \n</tr>\n<tr>\n  <th>No. Observations:</th>      <td>  1117</td>      <th>  AIC:               </th> <td>   5020.</td> \n</tr>\n<tr>\n  <th>Df Residuals:</th>          <td>  1113</td>      <th>  BIC:               </th> <td>   5041.</td> \n</tr>\n<tr>\n  <th>Df Model:</th>              <td>     3</td>      <th>                     </th>     <td> </td>    \n</tr>\n<tr>\n  <th>Covariance Type:</th>         <td>HC0</td>       <th>                     </th>     <td> </td>    \n</tr>\n</table>\n<table class=\"simpletable\">\n<tr>\n     <td></td>       <th>coef</th>     <th>std err</th>      <th>z</th>      <th>P>|z|</th>  <th>[0.025</th>    <th>0.975]</th>  \n</tr>\n<tr>\n  <th>const</th>  <td>    0.3696</td> <td>    0.062</td> <td>    6.008</td> <td> 0.000</td> <td>    0.249</td> <td>    0.490</td>\n</tr>\n<tr>\n  <th>Mkt-RF</th> <td>    0.9830</td> <td>    0.024</td> <td>   40.929</td> <td> 0.000</td> <td>    0.936</td> <td>    1.030</td>\n</tr>\n<tr>\n  <th>SMB</th>    <td>    1.3001</td> <td>    0.065</td> <td>   20.068</td> <td> 0.000</td> <td>    1.173</td> <td>    1.427</td>\n</tr>\n<tr>\n  <th>HML</th>    <td>    0.9124</td> <td>    0.058</td> <td>   15.624</td> <td> 0.000</td> <td>    0.798</td> <td>    1.027</td>\n</tr>\n</table>\n<table class=\"simpletable\">\n<tr>\n  <th>Omnibus:</th>       <td>589.467</td> <th>  Durbin-Watson:     </th> <td>   2.272</td> \n</tr>\n<tr>\n  <th>Prob(Omnibus):</th> <td> 0.000</td>  <th>  Jarque-Bera (JB):  </th> <td>15321.552</td>\n</tr>\n<tr>\n  <th>Skew:</th>          <td> 1.888</td>  <th>  Prob(JB):          </th> <td>    0.00</td> \n</tr>\n<tr>\n  <th>Kurtosis:</th>      <td>20.747</td>  <th>  Cond. No.          </th> <td>    5.68</td> \n</tr>\n</table><br/><br/>Notes:<br/>[1] Standard Errors are heteroscedasticity robust (HC0)"
     },
     "metadata": {},
     "execution_count": 25
    }
   ],
   "source": [
    "mod = sm.OLS(portfolios[\"SMALL HiBM\"], factors)\n",
    "res = mod.fit(cov_type=\"HC0\")\n",
    "all_results[\"SMALL HiBM\"] = res\n",
    "homosked_results[\"SMALL HiBM\"] = sm.OLS(portfolios[\"SMALL HiBM\"], factors).fit()\n",
    "res.summary()"
   ]
  },
  {
   "cell_type": "code",
   "execution_count": 26,
   "metadata": {},
   "outputs": [
    {
     "output_type": "execute_result",
     "data": {
      "text/plain": [
       "<class 'statsmodels.iolib.summary.Summary'>\n",
       "\"\"\"\n",
       "                            OLS Regression Results                            \n",
       "==============================================================================\n",
       "Dep. Variable:               BIG LoBM   R-squared:                       0.952\n",
       "Model:                            OLS   Adj. R-squared:                  0.952\n",
       "Method:                 Least Squares   F-statistic:                     4050.\n",
       "Date:                Mon, 21 Dec 2020   Prob (F-statistic):               0.00\n",
       "Time:                        14:35:19   Log-Likelihood:                -1758.6\n",
       "No. Observations:                1117   AIC:                             3525.\n",
       "Df Residuals:                    1113   BIC:                             3545.\n",
       "Df Model:                           3                                         \n",
       "Covariance Type:                  HC0                                         \n",
       "==============================================================================\n",
       "                 coef    std err          z      P>|z|      [0.025      0.975]\n",
       "------------------------------------------------------------------------------\n",
       "const          0.3594      0.035     10.270      0.000       0.291       0.428\n",
       "Mkt-RF         1.0229      0.009    109.366      0.000       1.005       1.041\n",
       "SMB           -0.1485      0.023     -6.524      0.000      -0.193      -0.104\n",
       "HML           -0.2629      0.016    -16.645      0.000      -0.294      -0.232\n",
       "==============================================================================\n",
       "Omnibus:                      109.852   Durbin-Watson:                   1.791\n",
       "Prob(Omnibus):                  0.000   Jarque-Bera (JB):              248.017\n",
       "Skew:                           0.578   Prob(JB):                     1.39e-54\n",
       "Kurtosis:                       4.998   Cond. No.                         5.68\n",
       "==============================================================================\n",
       "\n",
       "Notes:\n",
       "[1] Standard Errors are heteroscedasticity robust (HC0)\n",
       "\"\"\""
      ],
      "text/html": "<table class=\"simpletable\">\n<caption>OLS Regression Results</caption>\n<tr>\n  <th>Dep. Variable:</th>        <td>BIG LoBM</td>     <th>  R-squared:         </th> <td>   0.952</td>\n</tr>\n<tr>\n  <th>Model:</th>                   <td>OLS</td>       <th>  Adj. R-squared:    </th> <td>   0.952</td>\n</tr>\n<tr>\n  <th>Method:</th>             <td>Least Squares</td>  <th>  F-statistic:       </th> <td>   4050.</td>\n</tr>\n<tr>\n  <th>Date:</th>             <td>Mon, 21 Dec 2020</td> <th>  Prob (F-statistic):</th>  <td>  0.00</td> \n</tr>\n<tr>\n  <th>Time:</th>                 <td>14:35:19</td>     <th>  Log-Likelihood:    </th> <td> -1758.6</td>\n</tr>\n<tr>\n  <th>No. Observations:</th>      <td>  1117</td>      <th>  AIC:               </th> <td>   3525.</td>\n</tr>\n<tr>\n  <th>Df Residuals:</th>          <td>  1113</td>      <th>  BIC:               </th> <td>   3545.</td>\n</tr>\n<tr>\n  <th>Df Model:</th>              <td>     3</td>      <th>                     </th>     <td> </td>   \n</tr>\n<tr>\n  <th>Covariance Type:</th>         <td>HC0</td>       <th>                     </th>     <td> </td>   \n</tr>\n</table>\n<table class=\"simpletable\">\n<tr>\n     <td></td>       <th>coef</th>     <th>std err</th>      <th>z</th>      <th>P>|z|</th>  <th>[0.025</th>    <th>0.975]</th>  \n</tr>\n<tr>\n  <th>const</th>  <td>    0.3594</td> <td>    0.035</td> <td>   10.270</td> <td> 0.000</td> <td>    0.291</td> <td>    0.428</td>\n</tr>\n<tr>\n  <th>Mkt-RF</th> <td>    1.0229</td> <td>    0.009</td> <td>  109.366</td> <td> 0.000</td> <td>    1.005</td> <td>    1.041</td>\n</tr>\n<tr>\n  <th>SMB</th>    <td>   -0.1485</td> <td>    0.023</td> <td>   -6.524</td> <td> 0.000</td> <td>   -0.193</td> <td>   -0.104</td>\n</tr>\n<tr>\n  <th>HML</th>    <td>   -0.2629</td> <td>    0.016</td> <td>  -16.645</td> <td> 0.000</td> <td>   -0.294</td> <td>   -0.232</td>\n</tr>\n</table>\n<table class=\"simpletable\">\n<tr>\n  <th>Omnibus:</th>       <td>109.852</td> <th>  Durbin-Watson:     </th> <td>   1.791</td>\n</tr>\n<tr>\n  <th>Prob(Omnibus):</th> <td> 0.000</td>  <th>  Jarque-Bera (JB):  </th> <td> 248.017</td>\n</tr>\n<tr>\n  <th>Skew:</th>          <td> 0.578</td>  <th>  Prob(JB):          </th> <td>1.39e-54</td>\n</tr>\n<tr>\n  <th>Kurtosis:</th>      <td> 4.998</td>  <th>  Cond. No.          </th> <td>    5.68</td>\n</tr>\n</table><br/><br/>Notes:<br/>[1] Standard Errors are heteroscedasticity robust (HC0)"
     },
     "metadata": {},
     "execution_count": 26
    }
   ],
   "source": [
    "mod = sm.OLS(portfolios[\"BIG LoBM\"], factors)\n",
    "res = mod.fit(cov_type=\"HC0\")\n",
    "all_results[\"BIG LoBM\"] = res\n",
    "homosked_results[\"BIG LoBM\"] = mod.fit()\n",
    "res.summary()"
   ]
  },
  {
   "cell_type": "code",
   "execution_count": 27,
   "metadata": {},
   "outputs": [
    {
     "output_type": "stream",
     "name": "stdout",
     "text": [
      "                            OLS Regression Results                            \n==============================================================================\nDep. Variable:               BIG HiBM   R-squared:                       0.838\nModel:                            OLS   Adj. R-squared:                  0.838\nMethod:                 Least Squares   F-statistic:                     376.3\nDate:                Mon, 21 Dec 2020   Prob (F-statistic):          1.04e-168\nTime:                        14:35:19   Log-Likelihood:                -2956.0\nNo. Observations:                1117   AIC:                             5920.\nDf Residuals:                    1113   BIC:                             5940.\nDf Model:                           3                                         \nCovariance Type:                  HC0                                         \n==============================================================================\n                 coef    std err          z      P>|z|      [0.025      0.975]\n------------------------------------------------------------------------------\nconst          0.1042      0.103      1.016      0.309      -0.097       0.305\nMkt-RF         1.1823      0.038     31.058      0.000       1.108       1.257\nSMB           -0.1573      0.069     -2.268      0.023      -0.293      -0.021\nHML            1.0162      0.073     13.961      0.000       0.874       1.159\n==============================================================================\nOmnibus:                      436.752   Durbin-Watson:                   1.808\nProb(Omnibus):                  0.000   Jarque-Bera (JB):             9887.813\nSkew:                           1.257   Prob(JB):                         0.00\nKurtosis:                      17.357   Cond. No.                         5.68\n==============================================================================\n\nNotes:\n[1] Standard Errors are heteroscedasticity robust (HC0)\n"
     ]
    }
   ],
   "source": [
    "mod = sm.OLS(portfolios[\"BIG HiBM\"], factors)\n",
    "res = mod.fit(cov_type=\"HC0\")\n",
    "all_results[\"BIG HiBM\"] = res\n",
    "homosked_results[\"BIG HiBM\"] = mod.fit()\n",
    "print(res.summary())"
   ]
  },
  {
   "cell_type": "code",
   "execution_count": 28,
   "metadata": {},
   "outputs": [],
   "source": [
    "het_res = {}\n",
    "hom_res = {}\n",
    "\n",
    "for model in portfolios.columns:\n",
    "    hom_res[model] = sm.OLS(portfolios[model],factors).fit()\n",
    "    het_res[model] = sm.OLS(portfolios[model],factors).fit(cov_type=\"HC0\")\n",
    "# faster way of obtaining identical results\n",
    "\n",
    "####################\n",
    "\n",
    "### USE\n",
    "### THIS\n",
    "### CELL !!!!"
   ]
  },
  {
   "cell_type": "code",
   "execution_count": 29,
   "metadata": {},
   "outputs": [
    {
     "output_type": "execute_result",
     "data": {
      "text/plain": [
       "<class 'statsmodels.iolib.summary.Summary'>\n",
       "\"\"\"\n",
       "                            OLS Regression Results                            \n",
       "==============================================================================\n",
       "Dep. Variable:             SMALL HiBM   R-squared:                       0.939\n",
       "Model:                            OLS   Adj. R-squared:                  0.938\n",
       "Method:                 Least Squares   F-statistic:                     941.0\n",
       "Date:                Mon, 21 Dec 2020   Prob (F-statistic):          1.19e-304\n",
       "Time:                        14:35:19   Log-Likelihood:                -2506.2\n",
       "No. Observations:                1117   AIC:                             5020.\n",
       "Df Residuals:                    1113   BIC:                             5041.\n",
       "Df Model:                           3                                         \n",
       "Covariance Type:                  HC0                                         \n",
       "==============================================================================\n",
       "                 coef    std err          z      P>|z|      [0.025      0.975]\n",
       "------------------------------------------------------------------------------\n",
       "const          0.3696      0.062      6.008      0.000       0.249       0.490\n",
       "Mkt-RF         0.9830      0.024     40.929      0.000       0.936       1.030\n",
       "SMB            1.3001      0.065     20.068      0.000       1.173       1.427\n",
       "HML            0.9124      0.058     15.624      0.000       0.798       1.027\n",
       "==============================================================================\n",
       "Omnibus:                      589.467   Durbin-Watson:                   2.272\n",
       "Prob(Omnibus):                  0.000   Jarque-Bera (JB):            15321.552\n",
       "Skew:                           1.888   Prob(JB):                         0.00\n",
       "Kurtosis:                      20.747   Cond. No.                         5.68\n",
       "==============================================================================\n",
       "\n",
       "Notes:\n",
       "[1] Standard Errors are heteroscedasticity robust (HC0)\n",
       "\"\"\""
      ],
      "text/html": "<table class=\"simpletable\">\n<caption>OLS Regression Results</caption>\n<tr>\n  <th>Dep. Variable:</th>       <td>SMALL HiBM</td>    <th>  R-squared:         </th> <td>   0.939</td> \n</tr>\n<tr>\n  <th>Model:</th>                   <td>OLS</td>       <th>  Adj. R-squared:    </th> <td>   0.938</td> \n</tr>\n<tr>\n  <th>Method:</th>             <td>Least Squares</td>  <th>  F-statistic:       </th> <td>   941.0</td> \n</tr>\n<tr>\n  <th>Date:</th>             <td>Mon, 21 Dec 2020</td> <th>  Prob (F-statistic):</th> <td>1.19e-304</td>\n</tr>\n<tr>\n  <th>Time:</th>                 <td>14:35:19</td>     <th>  Log-Likelihood:    </th> <td> -2506.2</td> \n</tr>\n<tr>\n  <th>No. Observations:</th>      <td>  1117</td>      <th>  AIC:               </th> <td>   5020.</td> \n</tr>\n<tr>\n  <th>Df Residuals:</th>          <td>  1113</td>      <th>  BIC:               </th> <td>   5041.</td> \n</tr>\n<tr>\n  <th>Df Model:</th>              <td>     3</td>      <th>                     </th>     <td> </td>    \n</tr>\n<tr>\n  <th>Covariance Type:</th>         <td>HC0</td>       <th>                     </th>     <td> </td>    \n</tr>\n</table>\n<table class=\"simpletable\">\n<tr>\n     <td></td>       <th>coef</th>     <th>std err</th>      <th>z</th>      <th>P>|z|</th>  <th>[0.025</th>    <th>0.975]</th>  \n</tr>\n<tr>\n  <th>const</th>  <td>    0.3696</td> <td>    0.062</td> <td>    6.008</td> <td> 0.000</td> <td>    0.249</td> <td>    0.490</td>\n</tr>\n<tr>\n  <th>Mkt-RF</th> <td>    0.9830</td> <td>    0.024</td> <td>   40.929</td> <td> 0.000</td> <td>    0.936</td> <td>    1.030</td>\n</tr>\n<tr>\n  <th>SMB</th>    <td>    1.3001</td> <td>    0.065</td> <td>   20.068</td> <td> 0.000</td> <td>    1.173</td> <td>    1.427</td>\n</tr>\n<tr>\n  <th>HML</th>    <td>    0.9124</td> <td>    0.058</td> <td>   15.624</td> <td> 0.000</td> <td>    0.798</td> <td>    1.027</td>\n</tr>\n</table>\n<table class=\"simpletable\">\n<tr>\n  <th>Omnibus:</th>       <td>589.467</td> <th>  Durbin-Watson:     </th> <td>   2.272</td> \n</tr>\n<tr>\n  <th>Prob(Omnibus):</th> <td> 0.000</td>  <th>  Jarque-Bera (JB):  </th> <td>15321.552</td>\n</tr>\n<tr>\n  <th>Skew:</th>          <td> 1.888</td>  <th>  Prob(JB):          </th> <td>    0.00</td> \n</tr>\n<tr>\n  <th>Kurtosis:</th>      <td>20.747</td>  <th>  Cond. No.          </th> <td>    5.68</td> \n</tr>\n</table><br/><br/>Notes:<br/>[1] Standard Errors are heteroscedasticity robust (HC0)"
     },
     "metadata": {},
     "execution_count": 29
    }
   ],
   "source": [
    "het_res[\"SMALL HiBM\"].summary()"
   ]
  },
  {
   "cell_type": "code",
   "execution_count": null,
   "metadata": {},
   "outputs": [],
   "source": []
  },
  {
   "cell_type": "markdown",
   "metadata": {},
   "source": [
    "### Exercise 33\n",
    "Are the parameter standard errors similar using the two covariance estimators?\n",
    "If not, what does this mean? "
   ]
  },
  {
   "cell_type": "code",
   "execution_count": 37,
   "metadata": {},
   "outputs": [
    {
     "output_type": "display_data",
     "data": {
      "text/plain": "<IPython.core.display.HTML object>",
      "text/html": "SMALL LoBM"
     },
     "metadata": {}
    },
    {
     "output_type": "display_data",
     "data": {
      "text/plain": "           White      Homo\nconst   0.172414  0.215569\nMkt-RF  0.119187  0.043167\nSMB     0.176554  0.070797\nHML     0.274367  0.063235",
      "text/html": "<div>\n<style scoped>\n    .dataframe tbody tr th:only-of-type {\n        vertical-align: middle;\n    }\n\n    .dataframe tbody tr th {\n        vertical-align: top;\n    }\n\n    .dataframe thead th {\n        text-align: right;\n    }\n</style>\n<table border=\"1\" class=\"dataframe\">\n  <thead>\n    <tr style=\"text-align: right;\">\n      <th></th>\n      <th>White</th>\n      <th>Homo</th>\n    </tr>\n  </thead>\n  <tbody>\n    <tr>\n      <th>const</th>\n      <td>0.172414</td>\n      <td>0.215569</td>\n    </tr>\n    <tr>\n      <th>Mkt-RF</th>\n      <td>0.119187</td>\n      <td>0.043167</td>\n    </tr>\n    <tr>\n      <th>SMB</th>\n      <td>0.176554</td>\n      <td>0.070797</td>\n    </tr>\n    <tr>\n      <th>HML</th>\n      <td>0.274367</td>\n      <td>0.063235</td>\n    </tr>\n  </tbody>\n</table>\n</div>"
     },
     "metadata": {}
    },
    {
     "output_type": "display_data",
     "data": {
      "text/plain": "<IPython.core.display.HTML object>",
      "text/html": "SMALL HiBM"
     },
     "metadata": {}
    },
    {
     "output_type": "display_data",
     "data": {
      "text/plain": "           White      Homo\nconst   0.061514  0.069118\nMkt-RF  0.024017  0.013841\nSMB     0.064785  0.022699\nHML     0.058401  0.020275",
      "text/html": "<div>\n<style scoped>\n    .dataframe tbody tr th:only-of-type {\n        vertical-align: middle;\n    }\n\n    .dataframe tbody tr th {\n        vertical-align: top;\n    }\n\n    .dataframe thead th {\n        text-align: right;\n    }\n</style>\n<table border=\"1\" class=\"dataframe\">\n  <thead>\n    <tr style=\"text-align: right;\">\n      <th></th>\n      <th>White</th>\n      <th>Homo</th>\n    </tr>\n  </thead>\n  <tbody>\n    <tr>\n      <th>const</th>\n      <td>0.061514</td>\n      <td>0.069118</td>\n    </tr>\n    <tr>\n      <th>Mkt-RF</th>\n      <td>0.024017</td>\n      <td>0.013841</td>\n    </tr>\n    <tr>\n      <th>SMB</th>\n      <td>0.064785</td>\n      <td>0.022699</td>\n    </tr>\n    <tr>\n      <th>HML</th>\n      <td>0.058401</td>\n      <td>0.020275</td>\n    </tr>\n  </tbody>\n</table>\n</div>"
     },
     "metadata": {}
    },
    {
     "output_type": "display_data",
     "data": {
      "text/plain": "<IPython.core.display.HTML object>",
      "text/html": "BIG LoBM"
     },
     "metadata": {}
    },
    {
     "output_type": "display_data",
     "data": {
      "text/plain": "           White      Homo\nconst   0.034997  0.035391\nMkt-RF  0.009353  0.007087\nSMB     0.022765  0.011623\nHML     0.015797  0.010382",
      "text/html": "<div>\n<style scoped>\n    .dataframe tbody tr th:only-of-type {\n        vertical-align: middle;\n    }\n\n    .dataframe tbody tr th {\n        vertical-align: top;\n    }\n\n    .dataframe thead th {\n        text-align: right;\n    }\n</style>\n<table border=\"1\" class=\"dataframe\">\n  <thead>\n    <tr style=\"text-align: right;\">\n      <th></th>\n      <th>White</th>\n      <th>Homo</th>\n    </tr>\n  </thead>\n  <tbody>\n    <tr>\n      <th>const</th>\n      <td>0.034997</td>\n      <td>0.035391</td>\n    </tr>\n    <tr>\n      <th>Mkt-RF</th>\n      <td>0.009353</td>\n      <td>0.007087</td>\n    </tr>\n    <tr>\n      <th>SMB</th>\n      <td>0.022765</td>\n      <td>0.011623</td>\n    </tr>\n    <tr>\n      <th>HML</th>\n      <td>0.015797</td>\n      <td>0.010382</td>\n    </tr>\n  </tbody>\n</table>\n</div>"
     },
     "metadata": {}
    },
    {
     "output_type": "display_data",
     "data": {
      "text/plain": "<IPython.core.display.HTML object>",
      "text/html": "BIG HiBM"
     },
     "metadata": {}
    },
    {
     "output_type": "display_data",
     "data": {
      "text/plain": "           White      Homo\nconst   0.102525  0.103384\nMkt-RF  0.038067  0.020702\nSMB     0.069341  0.033953\nHML     0.072789  0.030327",
      "text/html": "<div>\n<style scoped>\n    .dataframe tbody tr th:only-of-type {\n        vertical-align: middle;\n    }\n\n    .dataframe tbody tr th {\n        vertical-align: top;\n    }\n\n    .dataframe thead th {\n        text-align: right;\n    }\n</style>\n<table border=\"1\" class=\"dataframe\">\n  <thead>\n    <tr style=\"text-align: right;\">\n      <th></th>\n      <th>White</th>\n      <th>Homo</th>\n    </tr>\n  </thead>\n  <tbody>\n    <tr>\n      <th>const</th>\n      <td>0.102525</td>\n      <td>0.103384</td>\n    </tr>\n    <tr>\n      <th>Mkt-RF</th>\n      <td>0.038067</td>\n      <td>0.020702</td>\n    </tr>\n    <tr>\n      <th>SMB</th>\n      <td>0.069341</td>\n      <td>0.033953</td>\n    </tr>\n    <tr>\n      <th>HML</th>\n      <td>0.072789</td>\n      <td>0.030327</td>\n    </tr>\n  </tbody>\n</table>\n</div>"
     },
     "metadata": {}
    }
   ],
   "source": [
    "from IPython.display import display, HTML\n",
    "for key in all_results:\n",
    "    white_res = all_results[key]\n",
    "    homosk_res = homosked_results[key]\n",
    "    std_err = pd.DataFrame({\"White\":white_res.bse,\"Homo\":homosk_res.bse})\n",
    "    display(HTML(key))\n",
    "    display(std_err)"
   ]
  },
  {
   "cell_type": "markdown",
   "metadata": {},
   "source": [
    "### Exercise 34\n",
    "How much of the variation is explained by these three regressors?"
   ]
  },
  {
   "cell_type": "code",
   "execution_count": 31,
   "metadata": {},
   "outputs": [
    {
     "output_type": "execute_result",
     "data": {
      "text/plain": [
       "                  R2\n",
       "SMALL LoBM  0.654851\n",
       "SMALL HiBM  0.938606\n",
       "BIG LoBM    0.951723\n",
       "BIG HiBM    0.838409"
      ],
      "text/html": "<div>\n<style scoped>\n    .dataframe tbody tr th:only-of-type {\n        vertical-align: middle;\n    }\n\n    .dataframe tbody tr th {\n        vertical-align: top;\n    }\n\n    .dataframe thead th {\n        text-align: right;\n    }\n</style>\n<table border=\"1\" class=\"dataframe\">\n  <thead>\n    <tr style=\"text-align: right;\">\n      <th></th>\n      <th>R2</th>\n    </tr>\n  </thead>\n  <tbody>\n    <tr>\n      <th>SMALL LoBM</th>\n      <td>0.654851</td>\n    </tr>\n    <tr>\n      <th>SMALL HiBM</th>\n      <td>0.938606</td>\n    </tr>\n    <tr>\n      <th>BIG LoBM</th>\n      <td>0.951723</td>\n    </tr>\n    <tr>\n      <th>BIG HiBM</th>\n      <td>0.838409</td>\n    </tr>\n  </tbody>\n</table>\n</div>"
     },
     "metadata": {},
     "execution_count": 31
    }
   ],
   "source": [
    "r_square = {}\n",
    "for key in portfolios:\n",
    "    r_square[key] = all_results[key].rsquared\n",
    "pd.Series(r_square,name=\"R2\").to_frame()"
   ]
  },
  {
   "cell_type": "code",
   "execution_count": 32,
   "metadata": {},
   "outputs": [
    {
     "output_type": "execute_result",
     "data": {
      "text/plain": [
       "                  R2\n",
       "SMALL LoBM  0.508956\n",
       "SMALL HiBM  0.629589\n",
       "BIG LoBM    0.915187\n",
       "BIG HiBM    0.674243"
      ],
      "text/html": "<div>\n<style scoped>\n    .dataframe tbody tr th:only-of-type {\n        vertical-align: middle;\n    }\n\n    .dataframe tbody tr th {\n        vertical-align: top;\n    }\n\n    .dataframe thead th {\n        text-align: right;\n    }\n</style>\n<table border=\"1\" class=\"dataframe\">\n  <thead>\n    <tr style=\"text-align: right;\">\n      <th></th>\n      <th>R2</th>\n    </tr>\n  </thead>\n  <tbody>\n    <tr>\n      <th>SMALL LoBM</th>\n      <td>0.508956</td>\n    </tr>\n    <tr>\n      <th>SMALL HiBM</th>\n      <td>0.629589</td>\n    </tr>\n    <tr>\n      <th>BIG LoBM</th>\n      <td>0.915187</td>\n    </tr>\n    <tr>\n      <th>BIG HiBM</th>\n      <td>0.674243</td>\n    </tr>\n  </tbody>\n</table>\n</div>"
     },
     "metadata": {},
     "execution_count": 32
    }
   ],
   "source": [
    "capm_factor = factors.iloc[:,:2]\n",
    "for key in portfolios:\n",
    "    res = sm.OLS(portfolios[key],capm_factor).fit()\n",
    "    r_square[key] = res.rsquared\n",
    "pd.Series(r_square,name=\"R2\").to_frame()"
   ]
  }
 ],
 "metadata": {
  "kernelspec": {
   "display_name": "Python 3",
   "language": "python",
   "name": "python3"
  },
  "language_info": {
   "codemirror_mode": {
    "name": "ipython",
    "version": 3
   },
   "file_extension": ".py",
   "mimetype": "text/x-python",
   "name": "python",
   "nbconvert_exporter": "python",
   "pygments_lexer": "ipython3",
   "version": "3.8.3-final"
  },
  "pycharm": {
   "stem_cell": {
    "cell_type": "raw",
    "metadata": {
     "collapsed": false
    },
    "source": []
   }
  }
 },
 "nbformat": 4,
 "nbformat_minor": 1
}