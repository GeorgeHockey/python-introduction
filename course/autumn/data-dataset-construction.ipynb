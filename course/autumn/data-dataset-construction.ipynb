{
 "cells": [
  {
   "cell_type": "markdown",
   "metadata": {
    "collapsed": true
   },
   "source": [
    "## Data Set Construction\n",
    "\n",
    "**Functions**\n",
    "\n",
    "`pd.read_csv`, `pd.read_excel`, `np.diff` or `DataFrame.diff`, `DataFrame.resample`\n",
    "\n",
    "### Exercise 1\n",
    "\n",
    "1. Download all available daily data for the S&P 500 and the Hang Seng Index from Yahoo! Finance. \n",
    "2. Import both data sets into Python. The final dataset should have a `DateTimeIndex`, and the date\n",
    "   column should not be part of the `DataFrame`.\n",
    "3. Construct weekly price series from each, using Tuesday prices (less likely to be a holiday).\n",
    "4. Construct monthly price series from each using last day in the month.\n",
    "5. Save the data to the HDF file \"equity-indices.h5\".\n"
   ]
  },
  {
   "source": [
    "Let's go!"
   ],
   "cell_type": "markdown",
   "metadata": {}
  },
  {
   "cell_type": "code",
   "execution_count": 16,
   "metadata": {},
   "outputs": [],
   "source": [
    "import pandas as pd\n",
    "import numpy as np\n",
    "import scipy as scipy"
   ]
  },
  {
   "cell_type": "code",
   "execution_count": 17,
   "metadata": {},
   "outputs": [],
   "source": [
    "sp500 = pd.read_csv(\"data/GSPC.csv\",parse_dates=True,index_col=\"Date\")\n",
    "hsi = pd.read_csv(\"data/GSPC.csv\", parse_dates=True, index_col=\"Date\")"
   ]
  },
  {
   "source": [
    "weekly_sp500 = sp500.resample(\"W-TUE\").last()\n",
    "weekly_hsi = hsi.resample(\"W-TUE\").last()"
   ],
   "cell_type": "code",
   "metadata": {},
   "execution_count": 18,
   "outputs": []
  },
  {
   "cell_type": "code",
   "execution_count": 19,
   "metadata": {},
   "outputs": [],
   "source": [
    "monthly_sp500 = sp500.resample(\"M\").last()\n",
    "monthly_hsi = hsi.resample(\"M\").last()"
   ]
  },
  {
   "cell_type": "code",
   "execution_count": 20,
   "metadata": {},
   "outputs": [],
   "source": [
    "h5file = pd.HDFStore(\"data/equity-indices.h5\", mode=\"w\")"
   ]
  },
  {
   "cell_type": "code",
   "execution_count": 21,
   "metadata": {},
   "outputs": [],
   "source": [
    "h5file.append(\"sp500\", sp500)\n",
    "h5file.append(\"hsi\",hsi)\n",
    "h5file.append(\"weekly_sp500\", weekly_sp500)\n",
    "h5file.append(\"weekly_hsi\", weekly_hsi)\n",
    "h5file.append(\"monthly_sp500\", monthly_sp500)\n",
    "h5file.append(\"monthly_hsi\", monthly_hsi)\n",
    "h5file.close()"
   ]
  },
  {
   "cell_type": "code",
   "execution_count": 22,
   "metadata": {},
   "outputs": [
    {
     "output_type": "execute_result",
     "data": {
      "text/plain": [
       "             Open   High    Low  Close  Adj Close   Volume\n",
       "Date                                                      \n",
       "1950-01-03  16.66  16.66  16.66  16.66      16.66  1260000\n",
       "1950-01-04  16.85  16.85  16.85  16.85      16.85  1890000\n",
       "1950-01-05  16.93  16.93  16.93  16.93      16.93  2550000\n",
       "1950-01-06  16.98  16.98  16.98  16.98      16.98  2010000\n",
       "1950-01-09  17.08  17.08  17.08  17.08      17.08  2520000"
      ],
      "text/html": "<div>\n<style scoped>\n    .dataframe tbody tr th:only-of-type {\n        vertical-align: middle;\n    }\n\n    .dataframe tbody tr th {\n        vertical-align: top;\n    }\n\n    .dataframe thead th {\n        text-align: right;\n    }\n</style>\n<table border=\"1\" class=\"dataframe\">\n  <thead>\n    <tr style=\"text-align: right;\">\n      <th></th>\n      <th>Open</th>\n      <th>High</th>\n      <th>Low</th>\n      <th>Close</th>\n      <th>Adj Close</th>\n      <th>Volume</th>\n    </tr>\n    <tr>\n      <th>Date</th>\n      <th></th>\n      <th></th>\n      <th></th>\n      <th></th>\n      <th></th>\n      <th></th>\n    </tr>\n  </thead>\n  <tbody>\n    <tr>\n      <th>1950-01-03</th>\n      <td>16.66</td>\n      <td>16.66</td>\n      <td>16.66</td>\n      <td>16.66</td>\n      <td>16.66</td>\n      <td>1260000</td>\n    </tr>\n    <tr>\n      <th>1950-01-04</th>\n      <td>16.85</td>\n      <td>16.85</td>\n      <td>16.85</td>\n      <td>16.85</td>\n      <td>16.85</td>\n      <td>1890000</td>\n    </tr>\n    <tr>\n      <th>1950-01-05</th>\n      <td>16.93</td>\n      <td>16.93</td>\n      <td>16.93</td>\n      <td>16.93</td>\n      <td>16.93</td>\n      <td>2550000</td>\n    </tr>\n    <tr>\n      <th>1950-01-06</th>\n      <td>16.98</td>\n      <td>16.98</td>\n      <td>16.98</td>\n      <td>16.98</td>\n      <td>16.98</td>\n      <td>2010000</td>\n    </tr>\n    <tr>\n      <th>1950-01-09</th>\n      <td>17.08</td>\n      <td>17.08</td>\n      <td>17.08</td>\n      <td>17.08</td>\n      <td>17.08</td>\n      <td>2520000</td>\n    </tr>\n  </tbody>\n</table>\n</div>"
     },
     "metadata": {},
     "execution_count": 22
    }
   ],
   "source": [
    "sp500.head()"
   ]
  },
  {
   "cell_type": "code",
   "execution_count": 7,
   "metadata": {},
   "outputs": [
    {
     "output_type": "execute_result",
     "data": {
      "text/plain": [
       "                   Open         High          Low        Close    Adj Close  \\\n",
       "Date                                                                          \n",
       "2019-08-27  2893.139893  2898.790039  2860.590088  2869.159912  2869.159912   \n",
       "2019-09-03  2909.010010  2914.389893  2891.850098  2906.270020  2906.270020   \n",
       "2019-09-10  2971.010010  2979.389893  2957.010010  2979.389893  2979.389893   \n",
       "2019-09-17  2995.669922  3006.209961  2993.729980  3005.699951  3005.699951   \n",
       "2019-09-24  2983.500000  2999.149902  2982.229980  2991.780029  2991.780029   \n",
       "\n",
       "                Volume  \n",
       "Date                    \n",
       "2019-08-27  3533630000  \n",
       "2019-09-03  3426790000  \n",
       "2019-09-10  4390770000  \n",
       "2019-09-17  3671840000  \n",
       "2019-09-24  3186590000  "
      ],
      "text/html": "<div>\n<style scoped>\n    .dataframe tbody tr th:only-of-type {\n        vertical-align: middle;\n    }\n\n    .dataframe tbody tr th {\n        vertical-align: top;\n    }\n\n    .dataframe thead th {\n        text-align: right;\n    }\n</style>\n<table border=\"1\" class=\"dataframe\">\n  <thead>\n    <tr style=\"text-align: right;\">\n      <th></th>\n      <th>Open</th>\n      <th>High</th>\n      <th>Low</th>\n      <th>Close</th>\n      <th>Adj Close</th>\n      <th>Volume</th>\n    </tr>\n    <tr>\n      <th>Date</th>\n      <th></th>\n      <th></th>\n      <th></th>\n      <th></th>\n      <th></th>\n      <th></th>\n    </tr>\n  </thead>\n  <tbody>\n    <tr>\n      <th>2019-08-27</th>\n      <td>2893.139893</td>\n      <td>2898.790039</td>\n      <td>2860.590088</td>\n      <td>2869.159912</td>\n      <td>2869.159912</td>\n      <td>3533630000</td>\n    </tr>\n    <tr>\n      <th>2019-09-03</th>\n      <td>2909.010010</td>\n      <td>2914.389893</td>\n      <td>2891.850098</td>\n      <td>2906.270020</td>\n      <td>2906.270020</td>\n      <td>3426790000</td>\n    </tr>\n    <tr>\n      <th>2019-09-10</th>\n      <td>2971.010010</td>\n      <td>2979.389893</td>\n      <td>2957.010010</td>\n      <td>2979.389893</td>\n      <td>2979.389893</td>\n      <td>4390770000</td>\n    </tr>\n    <tr>\n      <th>2019-09-17</th>\n      <td>2995.669922</td>\n      <td>3006.209961</td>\n      <td>2993.729980</td>\n      <td>3005.699951</td>\n      <td>3005.699951</td>\n      <td>3671840000</td>\n    </tr>\n    <tr>\n      <th>2019-09-24</th>\n      <td>2983.500000</td>\n      <td>2999.149902</td>\n      <td>2982.229980</td>\n      <td>2991.780029</td>\n      <td>2991.780029</td>\n      <td>3186590000</td>\n    </tr>\n  </tbody>\n</table>\n</div>"
     },
     "metadata": {},
     "execution_count": 7
    }
   ],
   "source": [
    "weekly_sp500.tail()"
   ]
  },
  {
   "cell_type": "code",
   "execution_count": 8,
   "metadata": {},
   "outputs": [
    {
     "output_type": "execute_result",
     "data": {
      "text/plain": [
       "                   Open         High          Low        Close    Adj Close  \\\n",
       "Date                                                                          \n",
       "2019-05-31  2766.149902  2768.979980  2750.520020  2752.060059  2752.060059   \n",
       "2019-06-30  2932.939941  2943.979980  2929.050049  2941.760010  2941.760010   \n",
       "2019-07-31  3016.219971  3017.399902  2958.080078  2980.379883  2980.379883   \n",
       "2019-08-31  2937.090088  2940.429932  2913.320068  2926.459961  2926.459961   \n",
       "2019-09-30  2983.500000  2999.149902  2982.229980  2991.780029  2991.780029   \n",
       "\n",
       "                Volume  \n",
       "Date                    \n",
       "2019-05-31  3981020000  \n",
       "2019-06-30  5420700000  \n",
       "2019-07-31  4623430000  \n",
       "2019-08-31  3008450000  \n",
       "2019-09-30  3186590000  "
      ],
      "text/html": "<div>\n<style scoped>\n    .dataframe tbody tr th:only-of-type {\n        vertical-align: middle;\n    }\n\n    .dataframe tbody tr th {\n        vertical-align: top;\n    }\n\n    .dataframe thead th {\n        text-align: right;\n    }\n</style>\n<table border=\"1\" class=\"dataframe\">\n  <thead>\n    <tr style=\"text-align: right;\">\n      <th></th>\n      <th>Open</th>\n      <th>High</th>\n      <th>Low</th>\n      <th>Close</th>\n      <th>Adj Close</th>\n      <th>Volume</th>\n    </tr>\n    <tr>\n      <th>Date</th>\n      <th></th>\n      <th></th>\n      <th></th>\n      <th></th>\n      <th></th>\n      <th></th>\n    </tr>\n  </thead>\n  <tbody>\n    <tr>\n      <th>2019-05-31</th>\n      <td>2766.149902</td>\n      <td>2768.979980</td>\n      <td>2750.520020</td>\n      <td>2752.060059</td>\n      <td>2752.060059</td>\n      <td>3981020000</td>\n    </tr>\n    <tr>\n      <th>2019-06-30</th>\n      <td>2932.939941</td>\n      <td>2943.979980</td>\n      <td>2929.050049</td>\n      <td>2941.760010</td>\n      <td>2941.760010</td>\n      <td>5420700000</td>\n    </tr>\n    <tr>\n      <th>2019-07-31</th>\n      <td>3016.219971</td>\n      <td>3017.399902</td>\n      <td>2958.080078</td>\n      <td>2980.379883</td>\n      <td>2980.379883</td>\n      <td>4623430000</td>\n    </tr>\n    <tr>\n      <th>2019-08-31</th>\n      <td>2937.090088</td>\n      <td>2940.429932</td>\n      <td>2913.320068</td>\n      <td>2926.459961</td>\n      <td>2926.459961</td>\n      <td>3008450000</td>\n    </tr>\n    <tr>\n      <th>2019-09-30</th>\n      <td>2983.500000</td>\n      <td>2999.149902</td>\n      <td>2982.229980</td>\n      <td>2991.780029</td>\n      <td>2991.780029</td>\n      <td>3186590000</td>\n    </tr>\n  </tbody>\n</table>\n</div>"
     },
     "metadata": {},
     "execution_count": 8
    }
   ],
   "source": [
    "monthly_sp500.tail()"
   ]
  },
  {
   "cell_type": "markdown",
   "metadata": {},
   "source": [
    "### Exercise 2\n",
    "\n",
    "Write a function that will correctly aggregate to weekly or monthly respecting the\n",
    "aggregation rules\n",
    "\n",
    "* High: `max`\n",
    "* Low: `min`\n",
    "* Volume: `sum`\n",
    "\n",
    "The signature should be:\n",
    "\n",
    "```python\n",
    "def yahoo_agg(data, freq):\n",
    "    <code here>\n",
    "    return resampled_data\n",
    "```\n"
   ]
  },
  {
   "cell_type": "code",
   "execution_count": 26,
   "metadata": {},
   "outputs": [],
   "source": [
    "def yahoo_agg(data, freq):\n",
    "    resampler = data.resample(freq)\n",
    "\n",
    "    high = resampler.High.max()\n",
    "    low = resampler.Low.min()\n",
    "    vol = resampler.Volume.sum()\n",
    "    #start with last for all columns\n",
    "    resampled_data = resampler.last()\n",
    "    resampled_data[\"High\"] = high\n",
    "    resampled_data[\"Low\"] = low\n",
    "    resampled_data[\"Volume\"] = vol\n",
    "\n",
    "    return resampled_data"
   ]
  },
  {
   "cell_type": "code",
   "execution_count": 31,
   "metadata": {},
   "outputs": [
    {
     "output_type": "execute_result",
     "data": {
      "text/plain": [
       "                   Open         High          Low        Close    Adj Close  \\\n",
       "Date                                                                          \n",
       "2019-05-31  2766.149902  2954.129883  2750.520020  2752.060059  2752.060059   \n",
       "2019-06-30  2932.939941  2964.149902  2728.810059  2941.760010  2941.760010   \n",
       "2019-07-31  3016.219971  3027.979980  2952.219971  2980.379883  2980.379883   \n",
       "2019-08-31  2937.090088  3013.590088  2822.120117  2926.459961  2926.459961   \n",
       "2019-09-30  2983.500000  3021.989990  2891.850098  2991.780029  2991.780029   \n",
       "\n",
       "                 Volume  \n",
       "Date                     \n",
       "2019-05-31  76860120000  \n",
       "2019-06-30  70881390000  \n",
       "2019-07-31  70349470000  \n",
       "2019-08-31  79599440000  \n",
       "2019-09-30  57236800000  "
      ],
      "text/html": "<div>\n<style scoped>\n    .dataframe tbody tr th:only-of-type {\n        vertical-align: middle;\n    }\n\n    .dataframe tbody tr th {\n        vertical-align: top;\n    }\n\n    .dataframe thead th {\n        text-align: right;\n    }\n</style>\n<table border=\"1\" class=\"dataframe\">\n  <thead>\n    <tr style=\"text-align: right;\">\n      <th></th>\n      <th>Open</th>\n      <th>High</th>\n      <th>Low</th>\n      <th>Close</th>\n      <th>Adj Close</th>\n      <th>Volume</th>\n    </tr>\n    <tr>\n      <th>Date</th>\n      <th></th>\n      <th></th>\n      <th></th>\n      <th></th>\n      <th></th>\n      <th></th>\n    </tr>\n  </thead>\n  <tbody>\n    <tr>\n      <th>2019-05-31</th>\n      <td>2766.149902</td>\n      <td>2954.129883</td>\n      <td>2750.520020</td>\n      <td>2752.060059</td>\n      <td>2752.060059</td>\n      <td>76860120000</td>\n    </tr>\n    <tr>\n      <th>2019-06-30</th>\n      <td>2932.939941</td>\n      <td>2964.149902</td>\n      <td>2728.810059</td>\n      <td>2941.760010</td>\n      <td>2941.760010</td>\n      <td>70881390000</td>\n    </tr>\n    <tr>\n      <th>2019-07-31</th>\n      <td>3016.219971</td>\n      <td>3027.979980</td>\n      <td>2952.219971</td>\n      <td>2980.379883</td>\n      <td>2980.379883</td>\n      <td>70349470000</td>\n    </tr>\n    <tr>\n      <th>2019-08-31</th>\n      <td>2937.090088</td>\n      <td>3013.590088</td>\n      <td>2822.120117</td>\n      <td>2926.459961</td>\n      <td>2926.459961</td>\n      <td>79599440000</td>\n    </tr>\n    <tr>\n      <th>2019-09-30</th>\n      <td>2983.500000</td>\n      <td>3021.989990</td>\n      <td>2891.850098</td>\n      <td>2991.780029</td>\n      <td>2991.780029</td>\n      <td>57236800000</td>\n    </tr>\n  </tbody>\n</table>\n</div>"
     },
     "metadata": {},
     "execution_count": 31
    }
   ],
   "source": [
    "better_monthly_sp500 = yahoo_agg(sp500,\"M\")\n",
    "better_monthly_sp500.tail()"
   ]
  },
  {
   "cell_type": "code",
   "execution_count": 32,
   "metadata": {},
   "outputs": [
    {
     "output_type": "execute_result",
     "data": {
      "text/plain": [
       "                   Open         High          Low        Close    Adj Close  \\\n",
       "Date                                                                          \n",
       "2019-05-31  2766.149902  2768.979980  2750.520020  2752.060059  2752.060059   \n",
       "2019-06-30  2932.939941  2943.979980  2929.050049  2941.760010  2941.760010   \n",
       "2019-07-31  3016.219971  3017.399902  2958.080078  2980.379883  2980.379883   \n",
       "2019-08-31  2937.090088  2940.429932  2913.320068  2926.459961  2926.459961   \n",
       "2019-09-30  2983.500000  2999.149902  2982.229980  2991.780029  2991.780029   \n",
       "\n",
       "                Volume  \n",
       "Date                    \n",
       "2019-05-31  3981020000  \n",
       "2019-06-30  5420700000  \n",
       "2019-07-31  4623430000  \n",
       "2019-08-31  3008450000  \n",
       "2019-09-30  3186590000  "
      ],
      "text/html": "<div>\n<style scoped>\n    .dataframe tbody tr th:only-of-type {\n        vertical-align: middle;\n    }\n\n    .dataframe tbody tr th {\n        vertical-align: top;\n    }\n\n    .dataframe thead th {\n        text-align: right;\n    }\n</style>\n<table border=\"1\" class=\"dataframe\">\n  <thead>\n    <tr style=\"text-align: right;\">\n      <th></th>\n      <th>Open</th>\n      <th>High</th>\n      <th>Low</th>\n      <th>Close</th>\n      <th>Adj Close</th>\n      <th>Volume</th>\n    </tr>\n    <tr>\n      <th>Date</th>\n      <th></th>\n      <th></th>\n      <th></th>\n      <th></th>\n      <th></th>\n      <th></th>\n    </tr>\n  </thead>\n  <tbody>\n    <tr>\n      <th>2019-05-31</th>\n      <td>2766.149902</td>\n      <td>2768.979980</td>\n      <td>2750.520020</td>\n      <td>2752.060059</td>\n      <td>2752.060059</td>\n      <td>3981020000</td>\n    </tr>\n    <tr>\n      <th>2019-06-30</th>\n      <td>2932.939941</td>\n      <td>2943.979980</td>\n      <td>2929.050049</td>\n      <td>2941.760010</td>\n      <td>2941.760010</td>\n      <td>5420700000</td>\n    </tr>\n    <tr>\n      <th>2019-07-31</th>\n      <td>3016.219971</td>\n      <td>3017.399902</td>\n      <td>2958.080078</td>\n      <td>2980.379883</td>\n      <td>2980.379883</td>\n      <td>4623430000</td>\n    </tr>\n    <tr>\n      <th>2019-08-31</th>\n      <td>2937.090088</td>\n      <td>2940.429932</td>\n      <td>2913.320068</td>\n      <td>2926.459961</td>\n      <td>2926.459961</td>\n      <td>3008450000</td>\n    </tr>\n    <tr>\n      <th>2019-09-30</th>\n      <td>2983.500000</td>\n      <td>2999.149902</td>\n      <td>2982.229980</td>\n      <td>2991.780029</td>\n      <td>2991.780029</td>\n      <td>3186590000</td>\n    </tr>\n  </tbody>\n</table>\n</div>"
     },
     "metadata": {},
     "execution_count": 32
    }
   ],
   "source": [
    "monthly_sp500.tail()"
   ]
  },
  {
   "cell_type": "markdown",
   "metadata": {},
   "source": [
    "### Exercise 3\n",
    "\n",
    "1. Import the Fama-French benchmark portfolios as well as the 25 sorted portfolios at both the\n",
    "   monthly and daily horizon from [Ken French\"s Data Library](http://mba.tuck.dartmouth.edu/pages/faculty/ken.french/data_library.html).\n",
    "   **Note** It is much easier to clean to data file before importing than to find the precise\n",
    "   command that will load the unmodified data.\n",
    "2. Import daily FX rate data for USD against AUD, Euro, JPY and GBP from the [Federal Reserve Economic Database (FRED)](http://research.stlouisfed.org/fred2/categories/94). Use Excel rather than csv files.\n",
    "3. Save the data to the HDF files \"fama-french.h5\" and \"fx.h5\""
   ]
  },
  {
   "cell_type": "code",
   "execution_count": 34,
   "metadata": {},
   "outputs": [],
   "source": [
    "yen_dollar = pd.read_excel(\"data/DEXJPUS.xls\", index_col = \"observation_date\", skiprows=10)\n",
    "dollar_aud = pd.read_excel(\"data/DEXUSAL.xls\", index_col = \"observation_date\", skiprows=10)\n",
    "dollar_euro = pd.read_excel(\"data/DEXUSEU.xls\", index_col = \"observation_date\", skiprows=10)\n",
    "dollar_pound = pd.read_excel(\"data/DEXUSUK.xls\", index_col = \"observation_date\", skiprows=10)"
   ]
  },
  {
   "cell_type": "code",
   "execution_count": 35,
   "metadata": {},
   "outputs": [
    {
     "output_type": "stream",
     "name": "stdout",
     "text": [
      "                  DEXJPUS  DEXUSAL  DEXUSEU  DEXUSUK\nobservation_date                                    \n2019-09-16         107.94   0.6865   1.1006   1.2423\n2019-09-17         108.12   0.6858   1.1063   1.2493\n2019-09-18         108.17   0.6844   1.1061   1.2478\n2019-09-19         108.00   0.6795   1.1046   1.2481\n2019-09-20         107.95   0.6770   1.1004   1.2489\n"
     ]
    }
   ],
   "source": [
    "fx = pd.concat([yen_dollar, dollar_aud, dollar_euro, dollar_pound], axis=1)\n",
    "print(fx.tail())"
   ]
  },
  {
   "cell_type": "code",
   "execution_count": 37,
   "metadata": {},
   "outputs": [],
   "source": [
    "fx.to_hdf(\"data/fx.h5\", \"fx\")"
   ]
  },
  {
   "cell_type": "code",
   "execution_count": 59,
   "metadata": {},
   "outputs": [],
   "source": [
    "ff_5x5 = pd.read_csv(\"data/25_Portfolios_5x5.CSV\",index_col=0)\n",
    "ff_factors = pd.read_csv(\"data/F-F_Research_Data_Factors.CSV\", index_col=0)\n",
    "ff = pd.concat([ff_factors, ff_5x5],axis =1)\n"
   ]
  },
  {
   "cell_type": "code",
   "execution_count": 60,
   "metadata": {},
   "outputs": [
    {
     "output_type": "execute_result",
     "data": {
      "text/plain": [
       "        Mkt-RF   SMB   HML    RF  SMALL LoBM  ME1 BM2  ME1 BM3  ME1 BM4  \\\n",
       "192607    2.96 -2.30 -2.87  0.22      3.7782  -0.4119  -1.9434   0.3530   \n",
       "192608    2.64 -1.40  4.19  0.25     -2.2074  -8.7275   2.4404   0.6086   \n",
       "192609    0.36 -1.32  0.01  0.23     -6.2113  -0.2989  -6.1982  -1.6368   \n",
       "192610   -3.24  0.04  0.51  0.32     -8.6241  -3.7532  -5.6719   5.7170   \n",
       "192611    2.53 -0.20 -0.35  0.31      3.4744   6.6476   2.2634  -4.7020   \n",
       "...        ...   ...   ...   ...         ...      ...      ...      ...   \n",
       "201903    1.10 -3.13 -4.07  0.19      0.8891  -0.4743  -2.5100  -4.9485   \n",
       "201904    3.96 -1.68  1.93  0.21      0.6068   1.6518   2.1840   3.4912   \n",
       "201905   -6.94 -1.20 -2.39  0.21     -5.5586  -5.3126  -7.7829  -8.8025   \n",
       "201906    6.93  0.33 -1.08  0.18      7.6353   6.2398   4.7677   6.7187   \n",
       "201907    1.19 -2.06  0.12  0.19     -3.8504  -1.1600  -0.8926  -1.6496   \n",
       "\n",
       "        SMALL HiBM  ME2 BM1  ...  ME4 BM1  ME4 BM2  ME4 BM3  ME4 BM4  ME4 BM5  \\\n",
       "192607      2.0534   2.1904  ...   1.5893   1.5278   1.1869   0.2727   2.4678   \n",
       "192608      8.3968   2.1709  ...   1.3336   3.8730   2.0059   2.1706   5.3422   \n",
       "192609      0.8649  -1.8550  ...   1.0923  -0.5250  -1.7314   1.4646   0.8730   \n",
       "192610     -2.5476  -1.7995  ...  -3.3361  -2.6559  -2.0316  -3.1051  -5.3525   \n",
       "192611      0.5362   2.9051  ...   3.4448   2.3887   3.7403   4.9320   1.8213   \n",
       "...            ...      ...  ...      ...      ...      ...      ...      ...   \n",
       "201903     -3.4235  -0.2319  ...   1.8237   1.0998  -0.9002  -0.5395  -2.8702   \n",
       "201904      2.0865   2.8361  ...   3.1410   4.2046   4.3501   5.0762   4.3419   \n",
       "201905     -7.9767  -8.9190  ...  -5.7334  -7.1667  -7.7153  -9.1637  -7.9580   \n",
       "201906      4.7008   8.9242  ...   7.2875   9.4043   9.5103   7.5115   6.9246   \n",
       "201907     -2.5149  -3.1247  ...   1.6768   1.0410   1.9332  -0.6625   0.9940   \n",
       "\n",
       "        BIG LoBM  ME5 BM2  ME5 BM3  ME5 BM4  BIG HiBM  \n",
       "192607    3.4539   6.0902   2.0266   3.1111    0.5623  \n",
       "192608    1.0124   4.1903   2.0131   5.4849    7.7576  \n",
       "192609   -1.2906   3.6538   0.0950  -0.7487   -2.4284  \n",
       "192610   -2.7413  -3.0071  -2.2437  -4.6719   -5.8129  \n",
       "192611    4.2946   2.5326   1.5204   3.6619    2.5636  \n",
       "...          ...      ...      ...      ...       ...  \n",
       "201903    3.3344   1.9283  -0.1602  -0.5929   -3.0620  \n",
       "201904    4.6039   2.9807   3.6429   5.1341    9.3863  \n",
       "201905   -6.9663  -5.7641  -5.0654  -8.1314   -8.7586  \n",
       "201906    7.7424   5.8872   5.9640   6.6670    7.9347  \n",
       "201907    1.6565   1.9146   1.5096   0.9860    2.1159  \n",
       "\n",
       "[1117 rows x 29 columns]"
      ],
      "text/html": "<div>\n<style scoped>\n    .dataframe tbody tr th:only-of-type {\n        vertical-align: middle;\n    }\n\n    .dataframe tbody tr th {\n        vertical-align: top;\n    }\n\n    .dataframe thead th {\n        text-align: right;\n    }\n</style>\n<table border=\"1\" class=\"dataframe\">\n  <thead>\n    <tr style=\"text-align: right;\">\n      <th></th>\n      <th>Mkt-RF</th>\n      <th>SMB</th>\n      <th>HML</th>\n      <th>RF</th>\n      <th>SMALL LoBM</th>\n      <th>ME1 BM2</th>\n      <th>ME1 BM3</th>\n      <th>ME1 BM4</th>\n      <th>SMALL HiBM</th>\n      <th>ME2 BM1</th>\n      <th>...</th>\n      <th>ME4 BM1</th>\n      <th>ME4 BM2</th>\n      <th>ME4 BM3</th>\n      <th>ME4 BM4</th>\n      <th>ME4 BM5</th>\n      <th>BIG LoBM</th>\n      <th>ME5 BM2</th>\n      <th>ME5 BM3</th>\n      <th>ME5 BM4</th>\n      <th>BIG HiBM</th>\n    </tr>\n  </thead>\n  <tbody>\n    <tr>\n      <th>192607</th>\n      <td>2.96</td>\n      <td>-2.30</td>\n      <td>-2.87</td>\n      <td>0.22</td>\n      <td>3.7782</td>\n      <td>-0.4119</td>\n      <td>-1.9434</td>\n      <td>0.3530</td>\n      <td>2.0534</td>\n      <td>2.1904</td>\n      <td>...</td>\n      <td>1.5893</td>\n      <td>1.5278</td>\n      <td>1.1869</td>\n      <td>0.2727</td>\n      <td>2.4678</td>\n      <td>3.4539</td>\n      <td>6.0902</td>\n      <td>2.0266</td>\n      <td>3.1111</td>\n      <td>0.5623</td>\n    </tr>\n    <tr>\n      <th>192608</th>\n      <td>2.64</td>\n      <td>-1.40</td>\n      <td>4.19</td>\n      <td>0.25</td>\n      <td>-2.2074</td>\n      <td>-8.7275</td>\n      <td>2.4404</td>\n      <td>0.6086</td>\n      <td>8.3968</td>\n      <td>2.1709</td>\n      <td>...</td>\n      <td>1.3336</td>\n      <td>3.8730</td>\n      <td>2.0059</td>\n      <td>2.1706</td>\n      <td>5.3422</td>\n      <td>1.0124</td>\n      <td>4.1903</td>\n      <td>2.0131</td>\n      <td>5.4849</td>\n      <td>7.7576</td>\n    </tr>\n    <tr>\n      <th>192609</th>\n      <td>0.36</td>\n      <td>-1.32</td>\n      <td>0.01</td>\n      <td>0.23</td>\n      <td>-6.2113</td>\n      <td>-0.2989</td>\n      <td>-6.1982</td>\n      <td>-1.6368</td>\n      <td>0.8649</td>\n      <td>-1.8550</td>\n      <td>...</td>\n      <td>1.0923</td>\n      <td>-0.5250</td>\n      <td>-1.7314</td>\n      <td>1.4646</td>\n      <td>0.8730</td>\n      <td>-1.2906</td>\n      <td>3.6538</td>\n      <td>0.0950</td>\n      <td>-0.7487</td>\n      <td>-2.4284</td>\n    </tr>\n    <tr>\n      <th>192610</th>\n      <td>-3.24</td>\n      <td>0.04</td>\n      <td>0.51</td>\n      <td>0.32</td>\n      <td>-8.6241</td>\n      <td>-3.7532</td>\n      <td>-5.6719</td>\n      <td>5.7170</td>\n      <td>-2.5476</td>\n      <td>-1.7995</td>\n      <td>...</td>\n      <td>-3.3361</td>\n      <td>-2.6559</td>\n      <td>-2.0316</td>\n      <td>-3.1051</td>\n      <td>-5.3525</td>\n      <td>-2.7413</td>\n      <td>-3.0071</td>\n      <td>-2.2437</td>\n      <td>-4.6719</td>\n      <td>-5.8129</td>\n    </tr>\n    <tr>\n      <th>192611</th>\n      <td>2.53</td>\n      <td>-0.20</td>\n      <td>-0.35</td>\n      <td>0.31</td>\n      <td>3.4744</td>\n      <td>6.6476</td>\n      <td>2.2634</td>\n      <td>-4.7020</td>\n      <td>0.5362</td>\n      <td>2.9051</td>\n      <td>...</td>\n      <td>3.4448</td>\n      <td>2.3887</td>\n      <td>3.7403</td>\n      <td>4.9320</td>\n      <td>1.8213</td>\n      <td>4.2946</td>\n      <td>2.5326</td>\n      <td>1.5204</td>\n      <td>3.6619</td>\n      <td>2.5636</td>\n    </tr>\n    <tr>\n      <th>...</th>\n      <td>...</td>\n      <td>...</td>\n      <td>...</td>\n      <td>...</td>\n      <td>...</td>\n      <td>...</td>\n      <td>...</td>\n      <td>...</td>\n      <td>...</td>\n      <td>...</td>\n      <td>...</td>\n      <td>...</td>\n      <td>...</td>\n      <td>...</td>\n      <td>...</td>\n      <td>...</td>\n      <td>...</td>\n      <td>...</td>\n      <td>...</td>\n      <td>...</td>\n      <td>...</td>\n    </tr>\n    <tr>\n      <th>201903</th>\n      <td>1.10</td>\n      <td>-3.13</td>\n      <td>-4.07</td>\n      <td>0.19</td>\n      <td>0.8891</td>\n      <td>-0.4743</td>\n      <td>-2.5100</td>\n      <td>-4.9485</td>\n      <td>-3.4235</td>\n      <td>-0.2319</td>\n      <td>...</td>\n      <td>1.8237</td>\n      <td>1.0998</td>\n      <td>-0.9002</td>\n      <td>-0.5395</td>\n      <td>-2.8702</td>\n      <td>3.3344</td>\n      <td>1.9283</td>\n      <td>-0.1602</td>\n      <td>-0.5929</td>\n      <td>-3.0620</td>\n    </tr>\n    <tr>\n      <th>201904</th>\n      <td>3.96</td>\n      <td>-1.68</td>\n      <td>1.93</td>\n      <td>0.21</td>\n      <td>0.6068</td>\n      <td>1.6518</td>\n      <td>2.1840</td>\n      <td>3.4912</td>\n      <td>2.0865</td>\n      <td>2.8361</td>\n      <td>...</td>\n      <td>3.1410</td>\n      <td>4.2046</td>\n      <td>4.3501</td>\n      <td>5.0762</td>\n      <td>4.3419</td>\n      <td>4.6039</td>\n      <td>2.9807</td>\n      <td>3.6429</td>\n      <td>5.1341</td>\n      <td>9.3863</td>\n    </tr>\n    <tr>\n      <th>201905</th>\n      <td>-6.94</td>\n      <td>-1.20</td>\n      <td>-2.39</td>\n      <td>0.21</td>\n      <td>-5.5586</td>\n      <td>-5.3126</td>\n      <td>-7.7829</td>\n      <td>-8.8025</td>\n      <td>-7.9767</td>\n      <td>-8.9190</td>\n      <td>...</td>\n      <td>-5.7334</td>\n      <td>-7.1667</td>\n      <td>-7.7153</td>\n      <td>-9.1637</td>\n      <td>-7.9580</td>\n      <td>-6.9663</td>\n      <td>-5.7641</td>\n      <td>-5.0654</td>\n      <td>-8.1314</td>\n      <td>-8.7586</td>\n    </tr>\n    <tr>\n      <th>201906</th>\n      <td>6.93</td>\n      <td>0.33</td>\n      <td>-1.08</td>\n      <td>0.18</td>\n      <td>7.6353</td>\n      <td>6.2398</td>\n      <td>4.7677</td>\n      <td>6.7187</td>\n      <td>4.7008</td>\n      <td>8.9242</td>\n      <td>...</td>\n      <td>7.2875</td>\n      <td>9.4043</td>\n      <td>9.5103</td>\n      <td>7.5115</td>\n      <td>6.9246</td>\n      <td>7.7424</td>\n      <td>5.8872</td>\n      <td>5.9640</td>\n      <td>6.6670</td>\n      <td>7.9347</td>\n    </tr>\n    <tr>\n      <th>201907</th>\n      <td>1.19</td>\n      <td>-2.06</td>\n      <td>0.12</td>\n      <td>0.19</td>\n      <td>-3.8504</td>\n      <td>-1.1600</td>\n      <td>-0.8926</td>\n      <td>-1.6496</td>\n      <td>-2.5149</td>\n      <td>-3.1247</td>\n      <td>...</td>\n      <td>1.6768</td>\n      <td>1.0410</td>\n      <td>1.9332</td>\n      <td>-0.6625</td>\n      <td>0.9940</td>\n      <td>1.6565</td>\n      <td>1.9146</td>\n      <td>1.5096</td>\n      <td>0.9860</td>\n      <td>2.1159</td>\n    </tr>\n  </tbody>\n</table>\n<p>1117 rows × 29 columns</p>\n</div>"
     },
     "metadata": {},
     "execution_count": 60
    }
   ],
   "source": [
    "ff"
   ]
  },
  {
   "cell_type": "code",
   "execution_count": 63,
   "metadata": {},
   "outputs": [
    {
     "output_type": "execute_result",
     "data": {
      "text/plain": [
       "            Mkt-RF   SMB   HML    RF  SMALL LoBM  ME1 BM2  ME1 BM3  ME1 BM4  \\\n",
       "2019-03-01    1.10 -3.13 -4.07  0.19      0.8891  -0.4743  -2.5100  -4.9485   \n",
       "2019-04-01    3.96 -1.68  1.93  0.21      0.6068   1.6518   2.1840   3.4912   \n",
       "2019-05-01   -6.94 -1.20 -2.39  0.21     -5.5586  -5.3126  -7.7829  -8.8025   \n",
       "2019-06-01    6.93  0.33 -1.08  0.18      7.6353   6.2398   4.7677   6.7187   \n",
       "2019-07-01    1.19 -2.06  0.12  0.19     -3.8504  -1.1600  -0.8926  -1.6496   \n",
       "\n",
       "            SMALL HiBM  ME2 BM1  ...  ME4 BM1  ME4 BM2  ME4 BM3  ME4 BM4  \\\n",
       "2019-03-01     -3.4235  -0.2319  ...   1.8237   1.0998  -0.9002  -0.5395   \n",
       "2019-04-01      2.0865   2.8361  ...   3.1410   4.2046   4.3501   5.0762   \n",
       "2019-05-01     -7.9767  -8.9190  ...  -5.7334  -7.1667  -7.7153  -9.1637   \n",
       "2019-06-01      4.7008   8.9242  ...   7.2875   9.4043   9.5103   7.5115   \n",
       "2019-07-01     -2.5149  -3.1247  ...   1.6768   1.0410   1.9332  -0.6625   \n",
       "\n",
       "            ME4 BM5  BIG LoBM  ME5 BM2  ME5 BM3  ME5 BM4  BIG HiBM  \n",
       "2019-03-01  -2.8702    3.3344   1.9283  -0.1602  -0.5929   -3.0620  \n",
       "2019-04-01   4.3419    4.6039   2.9807   3.6429   5.1341    9.3863  \n",
       "2019-05-01  -7.9580   -6.9663  -5.7641  -5.0654  -8.1314   -8.7586  \n",
       "2019-06-01   6.9246    7.7424   5.8872   5.9640   6.6670    7.9347  \n",
       "2019-07-01   0.9940    1.6565   1.9146   1.5096   0.9860    2.1159  \n",
       "\n",
       "[5 rows x 29 columns]"
      ],
      "text/html": "<div>\n<style scoped>\n    .dataframe tbody tr th:only-of-type {\n        vertical-align: middle;\n    }\n\n    .dataframe tbody tr th {\n        vertical-align: top;\n    }\n\n    .dataframe thead th {\n        text-align: right;\n    }\n</style>\n<table border=\"1\" class=\"dataframe\">\n  <thead>\n    <tr style=\"text-align: right;\">\n      <th></th>\n      <th>Mkt-RF</th>\n      <th>SMB</th>\n      <th>HML</th>\n      <th>RF</th>\n      <th>SMALL LoBM</th>\n      <th>ME1 BM2</th>\n      <th>ME1 BM3</th>\n      <th>ME1 BM4</th>\n      <th>SMALL HiBM</th>\n      <th>ME2 BM1</th>\n      <th>...</th>\n      <th>ME4 BM1</th>\n      <th>ME4 BM2</th>\n      <th>ME4 BM3</th>\n      <th>ME4 BM4</th>\n      <th>ME4 BM5</th>\n      <th>BIG LoBM</th>\n      <th>ME5 BM2</th>\n      <th>ME5 BM3</th>\n      <th>ME5 BM4</th>\n      <th>BIG HiBM</th>\n    </tr>\n  </thead>\n  <tbody>\n    <tr>\n      <th>2019-03-01</th>\n      <td>1.10</td>\n      <td>-3.13</td>\n      <td>-4.07</td>\n      <td>0.19</td>\n      <td>0.8891</td>\n      <td>-0.4743</td>\n      <td>-2.5100</td>\n      <td>-4.9485</td>\n      <td>-3.4235</td>\n      <td>-0.2319</td>\n      <td>...</td>\n      <td>1.8237</td>\n      <td>1.0998</td>\n      <td>-0.9002</td>\n      <td>-0.5395</td>\n      <td>-2.8702</td>\n      <td>3.3344</td>\n      <td>1.9283</td>\n      <td>-0.1602</td>\n      <td>-0.5929</td>\n      <td>-3.0620</td>\n    </tr>\n    <tr>\n      <th>2019-04-01</th>\n      <td>3.96</td>\n      <td>-1.68</td>\n      <td>1.93</td>\n      <td>0.21</td>\n      <td>0.6068</td>\n      <td>1.6518</td>\n      <td>2.1840</td>\n      <td>3.4912</td>\n      <td>2.0865</td>\n      <td>2.8361</td>\n      <td>...</td>\n      <td>3.1410</td>\n      <td>4.2046</td>\n      <td>4.3501</td>\n      <td>5.0762</td>\n      <td>4.3419</td>\n      <td>4.6039</td>\n      <td>2.9807</td>\n      <td>3.6429</td>\n      <td>5.1341</td>\n      <td>9.3863</td>\n    </tr>\n    <tr>\n      <th>2019-05-01</th>\n      <td>-6.94</td>\n      <td>-1.20</td>\n      <td>-2.39</td>\n      <td>0.21</td>\n      <td>-5.5586</td>\n      <td>-5.3126</td>\n      <td>-7.7829</td>\n      <td>-8.8025</td>\n      <td>-7.9767</td>\n      <td>-8.9190</td>\n      <td>...</td>\n      <td>-5.7334</td>\n      <td>-7.1667</td>\n      <td>-7.7153</td>\n      <td>-9.1637</td>\n      <td>-7.9580</td>\n      <td>-6.9663</td>\n      <td>-5.7641</td>\n      <td>-5.0654</td>\n      <td>-8.1314</td>\n      <td>-8.7586</td>\n    </tr>\n    <tr>\n      <th>2019-06-01</th>\n      <td>6.93</td>\n      <td>0.33</td>\n      <td>-1.08</td>\n      <td>0.18</td>\n      <td>7.6353</td>\n      <td>6.2398</td>\n      <td>4.7677</td>\n      <td>6.7187</td>\n      <td>4.7008</td>\n      <td>8.9242</td>\n      <td>...</td>\n      <td>7.2875</td>\n      <td>9.4043</td>\n      <td>9.5103</td>\n      <td>7.5115</td>\n      <td>6.9246</td>\n      <td>7.7424</td>\n      <td>5.8872</td>\n      <td>5.9640</td>\n      <td>6.6670</td>\n      <td>7.9347</td>\n    </tr>\n    <tr>\n      <th>2019-07-01</th>\n      <td>1.19</td>\n      <td>-2.06</td>\n      <td>0.12</td>\n      <td>0.19</td>\n      <td>-3.8504</td>\n      <td>-1.1600</td>\n      <td>-0.8926</td>\n      <td>-1.6496</td>\n      <td>-2.5149</td>\n      <td>-3.1247</td>\n      <td>...</td>\n      <td>1.6768</td>\n      <td>1.0410</td>\n      <td>1.9332</td>\n      <td>-0.6625</td>\n      <td>0.9940</td>\n      <td>1.6565</td>\n      <td>1.9146</td>\n      <td>1.5096</td>\n      <td>0.9860</td>\n      <td>2.1159</td>\n    </tr>\n  </tbody>\n</table>\n<p>5 rows × 29 columns</p>\n</div>"
     },
     "metadata": {},
     "execution_count": 63
    }
   ],
   "source": [
    "dates = []\n",
    "for value in ff.index:\n",
    "    year = value // 100\n",
    "    month = value % 100\n",
    "    dates.append(pd.Timestamp(year=year, month=month, day=1))\n",
    "ff.index = dates\n",
    "ff.tail()    "
   ]
  },
  {
   "cell_type": "code",
   "execution_count": 64,
   "metadata": {},
   "outputs": [
    {
     "output_type": "execute_result",
     "data": {
      "text/plain": [
       "            Mkt-RF   SMB   HML    RF  SMALL LoBM  ME1 BM2  ME1 BM3  ME1 BM4  \\\n",
       "2019-03-31    1.10 -3.13 -4.07  0.19      0.8891  -0.4743  -2.5100  -4.9485   \n",
       "2019-04-30    3.96 -1.68  1.93  0.21      0.6068   1.6518   2.1840   3.4912   \n",
       "2019-05-31   -6.94 -1.20 -2.39  0.21     -5.5586  -5.3126  -7.7829  -8.8025   \n",
       "2019-06-30    6.93  0.33 -1.08  0.18      7.6353   6.2398   4.7677   6.7187   \n",
       "2019-07-31    1.19 -2.06  0.12  0.19     -3.8504  -1.1600  -0.8926  -1.6496   \n",
       "\n",
       "            SMALL HiBM  ME2 BM1  ...  ME4 BM1  ME4 BM2  ME4 BM3  ME4 BM4  \\\n",
       "2019-03-31     -3.4235  -0.2319  ...   1.8237   1.0998  -0.9002  -0.5395   \n",
       "2019-04-30      2.0865   2.8361  ...   3.1410   4.2046   4.3501   5.0762   \n",
       "2019-05-31     -7.9767  -8.9190  ...  -5.7334  -7.1667  -7.7153  -9.1637   \n",
       "2019-06-30      4.7008   8.9242  ...   7.2875   9.4043   9.5103   7.5115   \n",
       "2019-07-31     -2.5149  -3.1247  ...   1.6768   1.0410   1.9332  -0.6625   \n",
       "\n",
       "            ME4 BM5  BIG LoBM  ME5 BM2  ME5 BM3  ME5 BM4  BIG HiBM  \n",
       "2019-03-31  -2.8702    3.3344   1.9283  -0.1602  -0.5929   -3.0620  \n",
       "2019-04-30   4.3419    4.6039   2.9807   3.6429   5.1341    9.3863  \n",
       "2019-05-31  -7.9580   -6.9663  -5.7641  -5.0654  -8.1314   -8.7586  \n",
       "2019-06-30   6.9246    7.7424   5.8872   5.9640   6.6670    7.9347  \n",
       "2019-07-31   0.9940    1.6565   1.9146   1.5096   0.9860    2.1159  \n",
       "\n",
       "[5 rows x 29 columns]"
      ],
      "text/html": "<div>\n<style scoped>\n    .dataframe tbody tr th:only-of-type {\n        vertical-align: middle;\n    }\n\n    .dataframe tbody tr th {\n        vertical-align: top;\n    }\n\n    .dataframe thead th {\n        text-align: right;\n    }\n</style>\n<table border=\"1\" class=\"dataframe\">\n  <thead>\n    <tr style=\"text-align: right;\">\n      <th></th>\n      <th>Mkt-RF</th>\n      <th>SMB</th>\n      <th>HML</th>\n      <th>RF</th>\n      <th>SMALL LoBM</th>\n      <th>ME1 BM2</th>\n      <th>ME1 BM3</th>\n      <th>ME1 BM4</th>\n      <th>SMALL HiBM</th>\n      <th>ME2 BM1</th>\n      <th>...</th>\n      <th>ME4 BM1</th>\n      <th>ME4 BM2</th>\n      <th>ME4 BM3</th>\n      <th>ME4 BM4</th>\n      <th>ME4 BM5</th>\n      <th>BIG LoBM</th>\n      <th>ME5 BM2</th>\n      <th>ME5 BM3</th>\n      <th>ME5 BM4</th>\n      <th>BIG HiBM</th>\n    </tr>\n  </thead>\n  <tbody>\n    <tr>\n      <th>2019-03-31</th>\n      <td>1.10</td>\n      <td>-3.13</td>\n      <td>-4.07</td>\n      <td>0.19</td>\n      <td>0.8891</td>\n      <td>-0.4743</td>\n      <td>-2.5100</td>\n      <td>-4.9485</td>\n      <td>-3.4235</td>\n      <td>-0.2319</td>\n      <td>...</td>\n      <td>1.8237</td>\n      <td>1.0998</td>\n      <td>-0.9002</td>\n      <td>-0.5395</td>\n      <td>-2.8702</td>\n      <td>3.3344</td>\n      <td>1.9283</td>\n      <td>-0.1602</td>\n      <td>-0.5929</td>\n      <td>-3.0620</td>\n    </tr>\n    <tr>\n      <th>2019-04-30</th>\n      <td>3.96</td>\n      <td>-1.68</td>\n      <td>1.93</td>\n      <td>0.21</td>\n      <td>0.6068</td>\n      <td>1.6518</td>\n      <td>2.1840</td>\n      <td>3.4912</td>\n      <td>2.0865</td>\n      <td>2.8361</td>\n      <td>...</td>\n      <td>3.1410</td>\n      <td>4.2046</td>\n      <td>4.3501</td>\n      <td>5.0762</td>\n      <td>4.3419</td>\n      <td>4.6039</td>\n      <td>2.9807</td>\n      <td>3.6429</td>\n      <td>5.1341</td>\n      <td>9.3863</td>\n    </tr>\n    <tr>\n      <th>2019-05-31</th>\n      <td>-6.94</td>\n      <td>-1.20</td>\n      <td>-2.39</td>\n      <td>0.21</td>\n      <td>-5.5586</td>\n      <td>-5.3126</td>\n      <td>-7.7829</td>\n      <td>-8.8025</td>\n      <td>-7.9767</td>\n      <td>-8.9190</td>\n      <td>...</td>\n      <td>-5.7334</td>\n      <td>-7.1667</td>\n      <td>-7.7153</td>\n      <td>-9.1637</td>\n      <td>-7.9580</td>\n      <td>-6.9663</td>\n      <td>-5.7641</td>\n      <td>-5.0654</td>\n      <td>-8.1314</td>\n      <td>-8.7586</td>\n    </tr>\n    <tr>\n      <th>2019-06-30</th>\n      <td>6.93</td>\n      <td>0.33</td>\n      <td>-1.08</td>\n      <td>0.18</td>\n      <td>7.6353</td>\n      <td>6.2398</td>\n      <td>4.7677</td>\n      <td>6.7187</td>\n      <td>4.7008</td>\n      <td>8.9242</td>\n      <td>...</td>\n      <td>7.2875</td>\n      <td>9.4043</td>\n      <td>9.5103</td>\n      <td>7.5115</td>\n      <td>6.9246</td>\n      <td>7.7424</td>\n      <td>5.8872</td>\n      <td>5.9640</td>\n      <td>6.6670</td>\n      <td>7.9347</td>\n    </tr>\n    <tr>\n      <th>2019-07-31</th>\n      <td>1.19</td>\n      <td>-2.06</td>\n      <td>0.12</td>\n      <td>0.19</td>\n      <td>-3.8504</td>\n      <td>-1.1600</td>\n      <td>-0.8926</td>\n      <td>-1.6496</td>\n      <td>-2.5149</td>\n      <td>-3.1247</td>\n      <td>...</td>\n      <td>1.6768</td>\n      <td>1.0410</td>\n      <td>1.9332</td>\n      <td>-0.6625</td>\n      <td>0.9940</td>\n      <td>1.6565</td>\n      <td>1.9146</td>\n      <td>1.5096</td>\n      <td>0.9860</td>\n      <td>2.1159</td>\n    </tr>\n  </tbody>\n</table>\n<p>5 rows × 29 columns</p>\n</div>"
     },
     "metadata": {},
     "execution_count": 64
    }
   ],
   "source": [
    "ff = ff.resample(\"M\").last()\n",
    "ff.tail()\n",
    "#trick to get the last day of the month - as we have only monthly data this doesn't change"
   ]
  },
  {
   "cell_type": "code",
   "execution_count": 65,
   "metadata": {},
   "outputs": [],
   "source": [
    "ff.to_hdf(\"data/ff.h5\",\"ff\")"
   ]
  },
  {
   "cell_type": "code",
   "execution_count": 66,
   "metadata": {},
   "outputs": [
    {
     "output_type": "execute_result",
     "data": {
      "text/plain": [
       "pandas.core.indexes.datetimes.DatetimeIndex"
      ]
     },
     "metadata": {},
     "execution_count": 66
    }
   ],
   "source": [
    "#exactly the same mothods to do the daily time series of ff data\n",
    "type(ff.index)\n",
    "#shows us what type of data we are dealing with"
   ]
  },
  {
   "cell_type": "code",
   "execution_count": null,
   "metadata": {},
   "outputs": [],
   "source": []
  },
  {
   "cell_type": "markdown",
   "metadata": {},
   "source": [
    "### Exercise 3 (Alternative method)\n",
    "\n",
    "1. Install and use `pandas-datareader` to repeat the previous exercise.\n",
    "\n",
    "#### Preliminary Step\n",
    "\n",
    "You must first install the module using \n",
    "\n",
    "```\n",
    "pip install pandas-datareader\n",
    "``` \n",
    "\n",
    "from the command line. Then you can run this code. **Note**: Running this code requires access\n",
    "to the internet."
   ]
  },
  {
   "cell_type": "code",
   "execution_count": 67,
   "metadata": {},
   "outputs": [
    {
     "output_type": "stream",
     "name": "stdout",
     "text": [
      "Collecting pandas-datareader\n",
      "  Downloading pandas_datareader-0.9.0-py3-none-any.whl (107 kB)\n",
      "\u001b[K     |████████████████████████████████| 107 kB 1.7 MB/s \n",
      "\u001b[?25hRequirement already satisfied: requests>=2.19.0 in /Applications/anaconda3/lib/python3.8/site-packages (from pandas-datareader) (2.24.0)\n",
      "Requirement already satisfied: pandas>=0.23 in /Applications/anaconda3/lib/python3.8/site-packages (from pandas-datareader) (1.1.3)\n",
      "Requirement already satisfied: lxml in /Applications/anaconda3/lib/python3.8/site-packages (from pandas-datareader) (4.6.1)\n",
      "Requirement already satisfied: urllib3!=1.25.0,!=1.25.1,<1.26,>=1.21.1 in /Applications/anaconda3/lib/python3.8/site-packages (from requests>=2.19.0->pandas-datareader) (1.25.11)\n",
      "Requirement already satisfied: chardet<4,>=3.0.2 in /Applications/anaconda3/lib/python3.8/site-packages (from requests>=2.19.0->pandas-datareader) (3.0.4)\n",
      "Requirement already satisfied: idna<3,>=2.5 in /Applications/anaconda3/lib/python3.8/site-packages (from requests>=2.19.0->pandas-datareader) (2.10)\n",
      "Requirement already satisfied: certifi>=2017.4.17 in /Applications/anaconda3/lib/python3.8/site-packages (from requests>=2.19.0->pandas-datareader) (2020.6.20)\n",
      "Requirement already satisfied: pytz>=2017.2 in /Applications/anaconda3/lib/python3.8/site-packages (from pandas>=0.23->pandas-datareader) (2020.1)\n",
      "Requirement already satisfied: numpy>=1.15.4 in /Applications/anaconda3/lib/python3.8/site-packages (from pandas>=0.23->pandas-datareader) (1.19.2)\n",
      "Requirement already satisfied: python-dateutil>=2.7.3 in /Applications/anaconda3/lib/python3.8/site-packages (from pandas>=0.23->pandas-datareader) (2.8.1)\n",
      "Requirement already satisfied: six>=1.5 in /Applications/anaconda3/lib/python3.8/site-packages (from python-dateutil>=2.7.3->pandas>=0.23->pandas-datareader) (1.15.0)\n",
      "Installing collected packages: pandas-datareader\n",
      "Successfully installed pandas-datareader-0.9.0\n",
      "Note: you may need to restart the kernel to use updated packages.\n"
     ]
    }
   ],
   "source": [
    "%pip install pandas-datareader"
   ]
  },
  {
   "cell_type": "code",
   "execution_count": 69,
   "metadata": {},
   "outputs": [],
   "source": [
    "import pandas_datareader as pdr"
   ]
  },
  {
   "cell_type": "code",
   "execution_count": 75,
   "metadata": {},
   "outputs": [
    {
     "output_type": "execute_result",
     "data": {
      "text/plain": [
       "            DEXJPUS\n",
       "DATE               \n",
       "1971-01-04   357.73\n",
       "1971-01-05   357.81\n",
       "1971-01-06   357.86\n",
       "1971-01-07   357.87\n",
       "1971-01-08   357.82\n",
       "...             ...\n",
       "2020-11-09   105.58\n",
       "2020-11-10   105.36\n",
       "2020-11-11      NaN\n",
       "2020-11-12   105.16\n",
       "2020-11-13   104.61\n",
       "\n",
       "[13010 rows x 1 columns]"
      ],
      "text/html": "<div>\n<style scoped>\n    .dataframe tbody tr th:only-of-type {\n        vertical-align: middle;\n    }\n\n    .dataframe tbody tr th {\n        vertical-align: top;\n    }\n\n    .dataframe thead th {\n        text-align: right;\n    }\n</style>\n<table border=\"1\" class=\"dataframe\">\n  <thead>\n    <tr style=\"text-align: right;\">\n      <th></th>\n      <th>DEXJPUS</th>\n    </tr>\n    <tr>\n      <th>DATE</th>\n      <th></th>\n    </tr>\n  </thead>\n  <tbody>\n    <tr>\n      <th>1971-01-04</th>\n      <td>357.73</td>\n    </tr>\n    <tr>\n      <th>1971-01-05</th>\n      <td>357.81</td>\n    </tr>\n    <tr>\n      <th>1971-01-06</th>\n      <td>357.86</td>\n    </tr>\n    <tr>\n      <th>1971-01-07</th>\n      <td>357.87</td>\n    </tr>\n    <tr>\n      <th>1971-01-08</th>\n      <td>357.82</td>\n    </tr>\n    <tr>\n      <th>...</th>\n      <td>...</td>\n    </tr>\n    <tr>\n      <th>2020-11-09</th>\n      <td>105.58</td>\n    </tr>\n    <tr>\n      <th>2020-11-10</th>\n      <td>105.36</td>\n    </tr>\n    <tr>\n      <th>2020-11-11</th>\n      <td>NaN</td>\n    </tr>\n    <tr>\n      <th>2020-11-12</th>\n      <td>105.16</td>\n    </tr>\n    <tr>\n      <th>2020-11-13</th>\n      <td>104.61</td>\n    </tr>\n  </tbody>\n</table>\n<p>13010 rows × 1 columns</p>\n</div>"
     },
     "metadata": {},
     "execution_count": 75
    }
   ],
   "source": [
    "yen_dollar2 = pdr.get_data_fred(\"DEXJPUS\", start = \"1950\")\n",
    "yen_dollar2"
   ]
  },
  {
   "cell_type": "code",
   "execution_count": 80,
   "metadata": {},
   "outputs": [
    {
     "output_type": "execute_result",
     "data": {
      "text/plain": [
       "            DEXJPUS\n",
       "DATE               \n",
       "1971-01-04   357.73\n",
       "1971-01-05   357.81\n",
       "1971-01-06   357.86\n",
       "1971-01-07   357.87\n",
       "1971-01-08   357.82\n",
       "...             ...\n",
       "1999-12-27   102.10\n",
       "1999-12-28   102.19\n",
       "1999-12-29   102.05\n",
       "1999-12-30   102.33\n",
       "1999-12-31   102.16\n",
       "\n",
       "[7565 rows x 1 columns]"
      ],
      "text/html": "<div>\n<style scoped>\n    .dataframe tbody tr th:only-of-type {\n        vertical-align: middle;\n    }\n\n    .dataframe tbody tr th {\n        vertical-align: top;\n    }\n\n    .dataframe thead th {\n        text-align: right;\n    }\n</style>\n<table border=\"1\" class=\"dataframe\">\n  <thead>\n    <tr style=\"text-align: right;\">\n      <th></th>\n      <th>DEXJPUS</th>\n    </tr>\n    <tr>\n      <th>DATE</th>\n      <th></th>\n    </tr>\n  </thead>\n  <tbody>\n    <tr>\n      <th>1971-01-04</th>\n      <td>357.73</td>\n    </tr>\n    <tr>\n      <th>1971-01-05</th>\n      <td>357.81</td>\n    </tr>\n    <tr>\n      <th>1971-01-06</th>\n      <td>357.86</td>\n    </tr>\n    <tr>\n      <th>1971-01-07</th>\n      <td>357.87</td>\n    </tr>\n    <tr>\n      <th>1971-01-08</th>\n      <td>357.82</td>\n    </tr>\n    <tr>\n      <th>...</th>\n      <td>...</td>\n    </tr>\n    <tr>\n      <th>1999-12-27</th>\n      <td>102.10</td>\n    </tr>\n    <tr>\n      <th>1999-12-28</th>\n      <td>102.19</td>\n    </tr>\n    <tr>\n      <th>1999-12-29</th>\n      <td>102.05</td>\n    </tr>\n    <tr>\n      <th>1999-12-30</th>\n      <td>102.33</td>\n    </tr>\n    <tr>\n      <th>1999-12-31</th>\n      <td>102.16</td>\n    </tr>\n  </tbody>\n</table>\n<p>7565 rows × 1 columns</p>\n</div>"
     },
     "metadata": {},
     "execution_count": 80
    }
   ],
   "source": [
    "yen_dollar_until_2000 = pdr.get_data_fred(\"DEXJPUS\",start=\"1950\", end=\"2000\")\n",
    "yen_dollar_until_2000"
   ]
  },
  {
   "cell_type": "code",
   "execution_count": 82,
   "metadata": {},
   "outputs": [
    {
     "output_type": "execute_result",
     "data": {
      "text/plain": [
       "pandas.core.indexes.datetimes.DatetimeIndex"
      ]
     },
     "metadata": {},
     "execution_count": 82
    }
   ],
   "source": [
    "type(yen_dollar2.index)"
   ]
  },
  {
   "cell_type": "markdown",
   "metadata": {},
   "source": [
    "### Exercise 4\n",
    "Download data on 1 year and 10 year US government bond rates from FRED, and \n",
    "construct the term premium as the different in yields on 10 year and 1 year\n",
    "bonds. Combine the two yield series and the term premium into a `DataFrame`\n",
    "and save it as HDF."
   ]
  },
  {
   "cell_type": "code",
   "execution_count": 84,
   "metadata": {},
   "outputs": [
    {
     "output_type": "execute_result",
     "data": {
      "text/plain": [
       "            GS10\n",
       "DATE            \n",
       "1953-04-01  2.83\n",
       "1953-05-01  3.05\n",
       "1953-06-01  3.11\n",
       "1953-07-01  2.93\n",
       "1953-08-01  2.95\n",
       "...          ...\n",
       "2020-06-01  0.73\n",
       "2020-07-01  0.62\n",
       "2020-08-01  0.65\n",
       "2020-09-01  0.68\n",
       "2020-10-01  0.79\n",
       "\n",
       "[811 rows x 1 columns]"
      ],
      "text/html": "<div>\n<style scoped>\n    .dataframe tbody tr th:only-of-type {\n        vertical-align: middle;\n    }\n\n    .dataframe tbody tr th {\n        vertical-align: top;\n    }\n\n    .dataframe thead th {\n        text-align: right;\n    }\n</style>\n<table border=\"1\" class=\"dataframe\">\n  <thead>\n    <tr style=\"text-align: right;\">\n      <th></th>\n      <th>GS10</th>\n    </tr>\n    <tr>\n      <th>DATE</th>\n      <th></th>\n    </tr>\n  </thead>\n  <tbody>\n    <tr>\n      <th>1953-04-01</th>\n      <td>2.83</td>\n    </tr>\n    <tr>\n      <th>1953-05-01</th>\n      <td>3.05</td>\n    </tr>\n    <tr>\n      <th>1953-06-01</th>\n      <td>3.11</td>\n    </tr>\n    <tr>\n      <th>1953-07-01</th>\n      <td>2.93</td>\n    </tr>\n    <tr>\n      <th>1953-08-01</th>\n      <td>2.95</td>\n    </tr>\n    <tr>\n      <th>...</th>\n      <td>...</td>\n    </tr>\n    <tr>\n      <th>2020-06-01</th>\n      <td>0.73</td>\n    </tr>\n    <tr>\n      <th>2020-07-01</th>\n      <td>0.62</td>\n    </tr>\n    <tr>\n      <th>2020-08-01</th>\n      <td>0.65</td>\n    </tr>\n    <tr>\n      <th>2020-09-01</th>\n      <td>0.68</td>\n    </tr>\n    <tr>\n      <th>2020-10-01</th>\n      <td>0.79</td>\n    </tr>\n  </tbody>\n</table>\n<p>811 rows × 1 columns</p>\n</div>"
     },
     "metadata": {},
     "execution_count": 84
    }
   ],
   "source": [
    "gs10 = pdr.get_data_fred(\"GS10\",start=\"1950\")\n",
    "gs1 = pdr.get_data_fred(\"GS1\",start=\"1950\")\n",
    "gs10"
   ]
  },
  {
   "cell_type": "code",
   "execution_count": 85,
   "metadata": {},
   "outputs": [
    {
     "output_type": "execute_result",
     "data": {
      "text/plain": [
       "             GS1\n",
       "DATE            \n",
       "1953-04-01  2.36\n",
       "1953-05-01  2.48\n",
       "1953-06-01  2.45\n",
       "1953-07-01  2.38\n",
       "1953-08-01  2.28\n",
       "...          ...\n",
       "2020-06-01  0.18\n",
       "2020-07-01  0.15\n",
       "2020-08-01  0.13\n",
       "2020-09-01  0.13\n",
       "2020-10-01  0.13\n",
       "\n",
       "[811 rows x 1 columns]"
      ],
      "text/html": "<div>\n<style scoped>\n    .dataframe tbody tr th:only-of-type {\n        vertical-align: middle;\n    }\n\n    .dataframe tbody tr th {\n        vertical-align: top;\n    }\n\n    .dataframe thead th {\n        text-align: right;\n    }\n</style>\n<table border=\"1\" class=\"dataframe\">\n  <thead>\n    <tr style=\"text-align: right;\">\n      <th></th>\n      <th>GS1</th>\n    </tr>\n    <tr>\n      <th>DATE</th>\n      <th></th>\n    </tr>\n  </thead>\n  <tbody>\n    <tr>\n      <th>1953-04-01</th>\n      <td>2.36</td>\n    </tr>\n    <tr>\n      <th>1953-05-01</th>\n      <td>2.48</td>\n    </tr>\n    <tr>\n      <th>1953-06-01</th>\n      <td>2.45</td>\n    </tr>\n    <tr>\n      <th>1953-07-01</th>\n      <td>2.38</td>\n    </tr>\n    <tr>\n      <th>1953-08-01</th>\n      <td>2.28</td>\n    </tr>\n    <tr>\n      <th>...</th>\n      <td>...</td>\n    </tr>\n    <tr>\n      <th>2020-06-01</th>\n      <td>0.18</td>\n    </tr>\n    <tr>\n      <th>2020-07-01</th>\n      <td>0.15</td>\n    </tr>\n    <tr>\n      <th>2020-08-01</th>\n      <td>0.13</td>\n    </tr>\n    <tr>\n      <th>2020-09-01</th>\n      <td>0.13</td>\n    </tr>\n    <tr>\n      <th>2020-10-01</th>\n      <td>0.13</td>\n    </tr>\n  </tbody>\n</table>\n<p>811 rows × 1 columns</p>\n</div>"
     },
     "metadata": {},
     "execution_count": 85
    }
   ],
   "source": [
    "gs1"
   ]
  },
  {
   "cell_type": "code",
   "execution_count": 86,
   "metadata": {},
   "outputs": [
    {
     "output_type": "execute_result",
     "data": {
      "text/plain": [
       "(811, 1)"
      ]
     },
     "metadata": {},
     "execution_count": 86
    }
   ],
   "source": [
    "gs1.shape\n",
    "#returns a tuple with the row and column dimensions of the dataframe"
   ]
  },
  {
   "cell_type": "code",
   "execution_count": 88,
   "metadata": {},
   "outputs": [
    {
     "output_type": "execute_result",
     "data": {
      "text/plain": [
       "DATE\n",
       "1953-04-01    0.47\n",
       "1953-05-01    0.57\n",
       "1953-06-01    0.66\n",
       "1953-07-01    0.55\n",
       "1953-08-01    0.67\n",
       "              ... \n",
       "2020-06-01    0.55\n",
       "2020-07-01    0.47\n",
       "2020-08-01    0.52\n",
       "2020-09-01    0.55\n",
       "2020-10-01    0.66\n",
       "Name: TERM, Length: 811, dtype: float64"
      ]
     },
     "metadata": {},
     "execution_count": 88
    }
   ],
   "source": [
    "term = gs10[\"GS10\"] - gs1[\"GS1\"]\n",
    "term.name = \"TERM\"\n",
    "term"
   ]
  },
  {
   "cell_type": "code",
   "execution_count": 91,
   "metadata": {},
   "outputs": [
    {
     "output_type": "execute_result",
     "data": {
      "text/plain": [
       "            TERM  GS10   GS1\n",
       "DATE                        \n",
       "2020-06-01  0.55  0.73  0.18\n",
       "2020-07-01  0.47  0.62  0.15\n",
       "2020-08-01  0.52  0.65  0.13\n",
       "2020-09-01  0.55  0.68  0.13\n",
       "2020-10-01  0.66  0.79  0.13"
      ],
      "text/html": "<div>\n<style scoped>\n    .dataframe tbody tr th:only-of-type {\n        vertical-align: middle;\n    }\n\n    .dataframe tbody tr th {\n        vertical-align: top;\n    }\n\n    .dataframe thead th {\n        text-align: right;\n    }\n</style>\n<table border=\"1\" class=\"dataframe\">\n  <thead>\n    <tr style=\"text-align: right;\">\n      <th></th>\n      <th>TERM</th>\n      <th>GS10</th>\n      <th>GS1</th>\n    </tr>\n    <tr>\n      <th>DATE</th>\n      <th></th>\n      <th></th>\n      <th></th>\n    </tr>\n  </thead>\n  <tbody>\n    <tr>\n      <th>2020-06-01</th>\n      <td>0.55</td>\n      <td>0.73</td>\n      <td>0.18</td>\n    </tr>\n    <tr>\n      <th>2020-07-01</th>\n      <td>0.47</td>\n      <td>0.62</td>\n      <td>0.15</td>\n    </tr>\n    <tr>\n      <th>2020-08-01</th>\n      <td>0.52</td>\n      <td>0.65</td>\n      <td>0.13</td>\n    </tr>\n    <tr>\n      <th>2020-09-01</th>\n      <td>0.55</td>\n      <td>0.68</td>\n      <td>0.13</td>\n    </tr>\n    <tr>\n      <th>2020-10-01</th>\n      <td>0.66</td>\n      <td>0.79</td>\n      <td>0.13</td>\n    </tr>\n  </tbody>\n</table>\n</div>"
     },
     "metadata": {},
     "execution_count": 91
    }
   ],
   "source": [
    "combined = pd.DataFrame([term, gs10[\"GS10\"], gs1[\"GS1\"]]).T\n",
    "combined.tail()"
   ]
  },
  {
   "cell_type": "code",
   "execution_count": 92,
   "metadata": {},
   "outputs": [],
   "source": [
    "combined.to_hdf(\"data/term-premium.h5\",\"term_premium\")"
   ]
  },
  {
   "cell_type": "code",
   "execution_count": null,
   "metadata": {},
   "outputs": [],
   "source": []
  },
  {
   "cell_type": "code",
   "execution_count": null,
   "metadata": {},
   "outputs": [],
   "source": []
  }
 ],
 "metadata": {
  "kernelspec": {
   "display_name": "Python 3",
   "language": "python",
   "name": "python3"
  },
  "language_info": {
   "codemirror_mode": {
    "name": "ipython",
    "version": 3
   },
   "file_extension": ".py",
   "mimetype": "text/x-python",
   "name": "python",
   "nbconvert_exporter": "python",
   "pygments_lexer": "ipython3",
   "version": "3.8.3-final"
  },
  "pycharm": {
   "stem_cell": {
    "cell_type": "raw",
    "metadata": {
     "collapsed": false
    },
    "source": []
   }
  }
 },
 "nbformat": 4,
 "nbformat_minor": 1
}