{
 "cells": [
  {
   "cell_type": "markdown",
   "metadata": {
    "collapsed": true
   },
   "source": [
    "## Value-at-Risk: Using Historical Simulation\n",
    "\n",
    "**Functions**\n",
    "\n",
    "`Series.quantile`, `Series.rolling`"
   ]
  },
  {
   "cell_type": "markdown",
   "metadata": {
    "collapsed": false
   },
   "source": [
    "### Exercise 58\n",
    "Compute the 1-, 5- and 10-day historical simulation VaR for the S&P 500 and\n",
    "the EUR/USD rate.\n",
    "\n",
    "**Note**: Start the historical simulation at 25% of the data, and then build the\n",
    "additional forecasts using a recursive scheme."
   ]
  },
  {
   "cell_type": "code",
   "execution_count": null,
   "metadata": {},
   "outputs": [],
   "source": []
  },
  {
   "cell_type": "markdown",
   "metadata": {
    "collapsed": false
   },
   "source": [
    "### Explanation\n",
    "\n",
    "We start by loading the indices and transforming each into percentage returns."
   ]
  },
  {
   "cell_type": "code",
   "execution_count": null,
   "metadata": {},
   "outputs": [],
   "source": []
  },
  {
   "cell_type": "markdown",
   "metadata": {
    "collapsed": false
   },
   "source": [
    "### Explanation\n",
    "\n",
    "pandas exposes an interface for `expanding` window statistics which is virtually\n",
    "identical to the `rolling` window interface. The key parameter is `min_periods`\n",
    "which sets the smallest sample that will be used.  A key feature of `expanding`\n",
    "is that the statistic computed using observations $0$, $1$, $\\ldots$, $m$ are\n",
    "placed in position $m$. In code notation, `stat[m] = func(data[:(m+1)])`.  This\n",
    "is important when forecasting since the value in position $m$ is the forecast\n",
    "for `m+1`. We could use `shift` to move it forward 1 observation, which aligns the\n",
    "forecast with its realization."
   ]
  },
  {
   "cell_type": "code",
   "execution_count": null,
   "metadata": {},
   "outputs": [],
   "source": []
  },
  {
   "cell_type": "markdown",
   "metadata": {
    "collapsed": false
   },
   "source": [
    "### Explanation\n",
    "\n",
    "To implement HS over longer horizons, we first need to compute the $h$-day return.\n",
    "We construct the returns using `rolling(h).sum()`. Finally, we can use `expanding`\n",
    "on the 5-day returns to compute the expanding set of quantiles. Again, these are\n",
    "aligned at the point where the forecast is made, not where it is forecasting."
   ]
  },
  {
   "cell_type": "code",
   "execution_count": null,
   "metadata": {},
   "outputs": [],
   "source": []
  },
  {
   "cell_type": "markdown",
   "metadata": {
    "collapsed": false
   },
   "source": [
    "### Explanation\n",
    "\n",
    "The 10-day VaR is virtually identical, using `rolling` and then `expanding`."
   ]
  },
  {
   "cell_type": "code",
   "execution_count": null,
   "metadata": {},
   "outputs": [],
   "source": []
  },
  {
   "cell_type": "markdown",
   "metadata": {
    "collapsed": false
   },
   "source": [
    "### Explanation\n",
    "\n",
    "We can join the three VaRs into a single DataFrame and then plot them."
   ]
  },
  {
   "cell_type": "code",
   "execution_count": null,
   "metadata": {},
   "outputs": [],
   "source": []
  },
  {
   "cell_type": "markdown",
   "metadata": {
    "collapsed": false
   },
   "source": [
    "### Explanation\n",
    "\n",
    "We can use the same process to automate the process for the EUR/USD rate.\n",
    "While it is wasteful to use `rolling(1)` for the 1-step VaR, uniformly\n",
    "applying this method simplified the code. Finally, we can plot the series.\n",
    "\n",
    "The function `ax.set_yticklabels` allows us to set the string labels\n",
    "of the y-ticks, which we get with `ax.get_yticks`."
   ]
  },
  {
   "cell_type": "code",
   "execution_count": null,
   "metadata": {},
   "outputs": [],
   "source": []
  }
 ],
 "metadata": {
  "kernelspec": {
   "display_name": "Python 3",
   "language": "python",
   "name": "python3"
  },
  "language_info": {
   "codemirror_mode": {
    "name": "ipython",
    "version": 3
   },
   "file_extension": ".py",
   "mimetype": "text/x-python",
   "name": "python",
   "nbconvert_exporter": "python",
   "pygments_lexer": "ipython3",
   "version": "3.7.6"
  },
  "pycharm": {
   "stem_cell": {
    "cell_type": "raw",
    "metadata": {
     "collapsed": false
    },
    "source": []
   }
  }
 },
 "nbformat": 4,
 "nbformat_minor": 0
}
