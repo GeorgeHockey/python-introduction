{
 "cells": [
  {
   "cell_type": "markdown",
   "metadata": {
    "collapsed": true
   },
   "source": [
    "## Value-at-Risk: Using Filtered Historical Simulation\n",
    "\n",
    "**Functions**\n",
    "\n",
    "`arch_model`, `ARCHModelResult.std_resid`, `np.percentile`\n",
    "\n",
    "### Exercise 59\n",
    "Use a GARCH(1,1) model to construct filtered historical VaR for the S&P 500 and\n",
    "the EUR/USD exchange rate, using 10 years of data.\n",
    "\n",
    "**Note**: For simplicity, estimate the model on the full sample, but start the\n",
    "historical simulation at 25% of the data, and then build the additional forecasts\n",
    "using a recursive scheme."
   ]
  },
  {
   "cell_type": "code",
   "execution_count": null,
   "metadata": {},
   "outputs": [],
   "source": []
  },
  {
   "cell_type": "markdown",
   "metadata": {
    "collapsed": false
   },
   "source": [
    "### Explanation\n",
    "\n",
    "We start out by loading the index data, computing percentage returns\n",
    "and then estimating a GARCH(1,1) on the S&P 500 returns."
   ]
  },
  {
   "cell_type": "code",
   "execution_count": null,
   "metadata": {},
   "outputs": [],
   "source": []
  },
  {
   "cell_type": "markdown",
   "metadata": {
    "collapsed": false
   },
   "source": [
    "### Explanation\n",
    "\n",
    "The 1-step FHS 95% VaR requires three inputs: the conditional mean and\n",
    "variance and the quantile of the standardized residuals.  The mean is\n",
    "constant and so can be determined from the model parameters. The 1-step\n",
    "ahead variance can be computed using the `forecast` method. The forecast\n",
    "variance is returns in a DataFrame in the column `h.1`. This value is\n",
    "origin-aligned so that the value in position $m$ is the forecast for\n",
    "period $m+1$.  Finally, we need to quantile of the standardized residuals.\n",
    "This is computed on an expanding basis using the same method that was used\n",
    "to construct HS VaR in the previous lesson. \n",
    "\n",
    "Finally, these are combined to produce the VaR.  Note that we use\n",
    "$-\\mu - \\sigma q_{0.05}$ since we want the VaR to be positive in most\n",
    "situations and $q_{0.05}$ is usually negative."
   ]
  },
  {
   "cell_type": "code",
   "execution_count": null,
   "metadata": {},
   "outputs": [],
   "source": []
  },
  {
   "cell_type": "markdown",
   "metadata": {
    "collapsed": false
   },
   "source": [
    "### Explanation\n",
    "Here we plot the one-step ahead VaR.\n"
   ]
  },
  {
   "cell_type": "code",
   "execution_count": null,
   "metadata": {},
   "outputs": [],
   "source": []
  },
  {
   "cell_type": "markdown",
   "metadata": {
    "collapsed": false
   },
   "source": [
    "### Explanation\n",
    "\n",
    "Multi-step VaR is harder.  We need to simulate returns for $h$ days and then take\n",
    "the quantile of the simulated returns. While `arch` can do this for us, it is\n",
    "instructive to manually implement the steps. We start with a single day,\n",
    "and then wrap that in a loop to compute the 5-day VaR for the entire sample."
   ]
  },
  {
   "cell_type": "code",
   "execution_count": null,
   "metadata": {},
   "outputs": [],
   "source": []
  },
  {
   "cell_type": "markdown",
   "metadata": {
    "collapsed": false
   },
   "source": [
    "### Explanation\n",
    "We can construct the 5-step ahead forecasts by simulating the model forward.\n",
    "Note that the first out-of-sample variance is known at time $t$, and so we\n",
    "only simulat for `i > 0`. Once we have the simulated $\\epsilon$, we then then\n",
    "simulate the 5 returns and the total return over 5 days using `sum`. Finally,\n",
    "we use `percentile` to find the 5% quantile. "
   ]
  },
  {
   "cell_type": "code",
   "execution_count": null,
   "metadata": {},
   "outputs": [],
   "source": []
  },
  {
   "cell_type": "markdown",
   "metadata": {
    "collapsed": false
   },
   "source": [
    "### Explanation\n",
    "\n",
    "Finally, we shift it by 5 places so that the forecast lines up with the point\n",
    "where we will evaluate it."
   ]
  },
  {
   "cell_type": "code",
   "execution_count": null,
   "metadata": {},
   "outputs": [],
   "source": []
  },
  {
   "cell_type": "markdown",
   "metadata": {
    "collapsed": false
   },
   "source": [
    "### Explanation\n",
    "\n",
    "We can plot the 1- and 5-day Value-at-Risks."
   ]
  },
  {
   "cell_type": "code",
   "execution_count": null,
   "metadata": {},
   "outputs": [],
   "source": []
  },
  {
   "cell_type": "markdown",
   "metadata": {
    "collapsed": false
   },
   "source": [
    "### Explanation\n",
    "\n",
    "Finally, we generalize the code above to allow simulation over any `horizon`.\n",
    "Thie code is virtually identical to the 5-step forecasts except that it has\n",
    "been wrapped in a function."
   ]
  },
  {
   "cell_type": "code",
   "execution_count": null,
   "metadata": {},
   "outputs": [],
   "source": []
  },
  {
   "cell_type": "markdown",
   "metadata": {
    "collapsed": false
   },
   "source": [
    "### Explanation\n",
    "\n",
    "We can use the function to produce the forecasts with a basic loop."
   ]
  },
  {
   "cell_type": "code",
   "execution_count": null,
   "metadata": {},
   "outputs": [],
   "source": []
  },
  {
   "cell_type": "markdown",
   "metadata": {
    "collapsed": false
   },
   "source": [
    "### Explanation\n",
    "\n",
    "We shift to the evaluation point. "
   ]
  },
  {
   "cell_type": "code",
   "execution_count": null,
   "metadata": {},
   "outputs": [],
   "source": []
  },
  {
   "cell_type": "markdown",
   "metadata": {
    "collapsed": false
   },
   "source": [
    "### Explanation\n",
    "\n",
    "Finally we can plot all three Value-at-Risks."
   ]
  },
  {
   "cell_type": "markdown",
   "metadata": {
    "collapsed": false
   },
   "source": [
    "#### EUR/USD Value-at-Risk\n",
    "\n",
    "We can repeat the VaR calculation for the EUR/USR return using the function."
   ]
  },
  {
   "cell_type": "code",
   "execution_count": null,
   "metadata": {},
   "outputs": [],
   "source": []
  },
  {
   "cell_type": "markdown",
   "metadata": {
    "collapsed": false
   },
   "source": [
    "### Explanation\n",
    "\n",
    "We start by using the function to compute the FHS VaR for the EUR-USD rate for\n",
    "all 3 horizons. We plot both VaRs. Finally, we save the VaRs to use in a later\n",
    "lesson.\n"
   ]
  },
  {
   "cell_type": "code",
   "execution_count": null,
   "metadata": {},
   "outputs": [],
   "source": []
  }
 ],
 "metadata": {
  "kernelspec": {
   "display_name": "Python 3",
   "language": "python",
   "name": "python3"
  },
  "language_info": {
   "codemirror_mode": {
    "name": "ipython",
    "version": 3
   },
   "file_extension": ".py",
   "mimetype": "text/x-python",
   "name": "python",
   "nbconvert_exporter": "python",
   "pygments_lexer": "ipython3",
   "version": "3.7.6"
  },
  "pycharm": {
   "stem_cell": {
    "cell_type": "raw",
    "metadata": {
     "collapsed": false
    },
    "source": []
   }
  }
 },
 "nbformat": 4,
 "nbformat_minor": 0
}
