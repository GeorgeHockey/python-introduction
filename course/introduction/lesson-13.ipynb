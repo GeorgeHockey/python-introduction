{
 "cells": [
  {
   "cell_type": "markdown",
   "metadata": {
    "collapsed": false
   },
   "source": [
    "# Logical Operators\n",
    "\n",
    "This lesson covers:\n",
    "\n",
    "* Basic logical operators \n",
    "* Compound operators \n",
    "\n",
    "Begin by loading the data in momentum.csv."
   ]
  },
  {
   "cell_type": "code",
   "execution_count": null,
   "metadata": {
    "pycharm": {
     "is_executing": false,
     "name": "#%%\n"
    }
   },
   "outputs": [],
   "source": [
    "# Setup: Load the momentum data\n",
    "\n",
    "import pandas as pd\n",
    "\n",
    "momentum = pd.read_csv(\"data/momentum.csv\", index_col=\"date\", parse_dates=True)\n",
    "\n",
    "print(momentum.head())\n",
    "\n",
    "mom_01 = momentum[\"mom_01\"]\n",
    "mom_10 = momentum[\"mom_10\"]\n",
    "mom_05 = momentum[\"mom_05\"]\n"
   ]
  },
  {
   "cell_type": "markdown",
   "metadata": {
    "collapsed": false
   },
   "source": [
    "## Problem: Basic Logical Statements\n",
    "\n",
    "For portfolio 1 and portfolio 10, count the number of elements that are\n",
    "$<0$, $\\geq0$, and exactly equal to 0. Next count the number of times that\n",
    "the returns in portfolio 5 are greater, in absolute value, that 2 times\n",
    "the standard deviation of the returns in that portfolio. \n"
   ]
  },
  {
   "cell_type": "code",
   "execution_count": null,
   "metadata": {},
   "outputs": [],
   "source": []
  },
  {
   "cell_type": "code",
   "execution_count": null,
   "metadata": {},
   "outputs": [],
   "source": []
  },
  {
   "cell_type": "markdown",
   "metadata": {
    "collapsed": false
   },
   "source": [
    "## Problem: Compound Statements\n",
    "Count the number of times that the returns in both portfolio 1 and portfolio\n",
    "10 are negative. Next count the number of times that the returns in portfolios\n",
    "1 and 10 are both greater, in absolute value, that 2 times their respective\n",
    "standard deviations. "
   ]
  },
  {
   "cell_type": "code",
   "execution_count": null,
   "metadata": {},
   "outputs": [],
   "source": []
  },
  {
   "cell_type": "code",
   "execution_count": null,
   "metadata": {},
   "outputs": [],
   "source": []
  },
  {
   "cell_type": "markdown",
   "metadata": {
    "collapsed": false,
    "pycharm": {
     "name": "#%% md\n"
    }
   },
   "source": [
    "## Combining Scalar Boolean Values\n",
    "\n",
    "Use `and`, `or` and `not` to determine if the return on mom_01 on\n",
    "February 14, 2016 is inside or outside an interval of 1 standard deviation\n",
    "of the mean of all of the return of mom_01."
   ]
  },
  {
   "cell_type": "code",
   "execution_count": null,
   "metadata": {},
   "outputs": [],
   "source": []
  },
  {
   "cell_type": "code",
   "execution_count": null,
   "metadata": {},
   "outputs": [],
   "source": []
  }
 ],
 "metadata": {
  "kernelspec": {
   "display_name": "Python 3",
   "language": "python",
   "name": "python3"
  },
  "language_info": {
   "codemirror_mode": {
    "name": "ipython",
    "version": 3
   },
   "file_extension": ".py",
   "mimetype": "text/x-python",
   "name": "python",
   "nbconvert_exporter": "python",
   "pygments_lexer": "ipython3",
   "version": "3.7.4"
  },
  "pycharm": {
   "stem_cell": {
    "cell_type": "raw",
    "metadata": {
     "collapsed": false
    },
    "source": []
   }
  }
 },
 "nbformat": 4,
 "nbformat_minor": 1
}
