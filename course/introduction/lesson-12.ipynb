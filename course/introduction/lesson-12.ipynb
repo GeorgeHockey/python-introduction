{
 "cells": [
  {
   "cell_type": "markdown",
   "metadata": {
    "collapsed": true,
    "pycharm": {
     "name": "#%% md\n"
    }
   },
   "source": [
    "# Numeric Indexing of DataFrames\n",
    "\n",
    "This lesson covers:\n",
    "\n",
    "* Accessing specific elements in DataFrames using numeric indices\n",
    "\n",
    "Accessing elements in a DataFrame is a common task. To begin this lesson,\n",
    "clear the workspace set up some vectors and a $5\\times5$ array. These vectors\n",
    "and matrix will make it easy to determine which elements are selected by a\n",
    "command.\n",
    "\n",
    "Begin by creating:\n",
    "\n",
    "* A 5-by-5 DataFrame `x_df` containing `np.arange(25).reshape((5,5))`.\n",
    "* A 5-element Series `y_s` containing `np.arange(5)`.\n",
    "* A 5-by-5 DataFrame `x_named` that is `x_df` with columns \"c0\", \"c1\", ...,\n",
    "  \"c4\" and rows \"r0\", \"r1\", ..., \"r4\".\n",
    "* A 5-element Series `y_named` with index \"r0\", \"r1\", ..., \"r4\". "
   ]
  },
  {
   "cell_type": "code",
   "execution_count": 2,
   "metadata": {},
   "outputs": [],
   "source": [
    "import numpy as np\n",
    "import pandas as pd\n",
    "\n",
    "x_df = np.arange(25).reshape((5,5))\n",
    "y_s = np.arange(5)\n",
    "x_named = pd.DataFrame(x_df, columns=[\"c0\",\"c1\",\"c2\",\"c3\",\"c4\"], index=[\"r0\",\"r1\",\"r2\",\"r3\",\"r4\"])\n",
    "y_named = pd.Series(y_s, index=[\"r0\",\"r1\",\"r2\",\"r3\",\"r4\"])"
   ]
  },
  {
   "cell_type": "markdown",
   "metadata": {
    "pycharm": {
     "name": "#%% md\n"
    }
   },
   "source": [
    "## Problem: Picking an Element out of a DataFrame\n",
    "\n",
    "Using double index notation, select the (0,2) and the (2,0) element of\n",
    "`x_named`."
   ]
  },
  {
   "cell_type": "code",
   "execution_count": 3,
   "metadata": {},
   "outputs": [
    {
     "output_type": "execute_result",
     "data": {
      "text/plain": [
       "2"
      ]
     },
     "metadata": {},
     "execution_count": 3
    }
   ],
   "source": [
    "x_named.iloc[0,2]"
   ]
  },
  {
   "cell_type": "code",
   "execution_count": 6,
   "metadata": {},
   "outputs": [
    {
     "output_type": "execute_result",
     "data": {
      "text/plain": [
       "10"
      ]
     },
     "metadata": {},
     "execution_count": 6
    }
   ],
   "source": [
    "x_named.iloc[2,0]"
   ]
  },
  {
   "cell_type": "code",
   "execution_count": 7,
   "metadata": {},
   "outputs": [
    {
     "output_type": "execute_result",
     "data": {
      "text/plain": [
       "    c0  c1  c2  c3  c4\n",
       "r0   0   1   2   3   4\n",
       "r1   5   6   7   8   9\n",
       "r2  10  11  12  13  14\n",
       "r3  15  16  17  18  19\n",
       "r4  20  21  22  23  24"
      ],
      "text/html": "<div>\n<style scoped>\n    .dataframe tbody tr th:only-of-type {\n        vertical-align: middle;\n    }\n\n    .dataframe tbody tr th {\n        vertical-align: top;\n    }\n\n    .dataframe thead th {\n        text-align: right;\n    }\n</style>\n<table border=\"1\" class=\"dataframe\">\n  <thead>\n    <tr style=\"text-align: right;\">\n      <th></th>\n      <th>c0</th>\n      <th>c1</th>\n      <th>c2</th>\n      <th>c3</th>\n      <th>c4</th>\n    </tr>\n  </thead>\n  <tbody>\n    <tr>\n      <th>r0</th>\n      <td>0</td>\n      <td>1</td>\n      <td>2</td>\n      <td>3</td>\n      <td>4</td>\n    </tr>\n    <tr>\n      <th>r1</th>\n      <td>5</td>\n      <td>6</td>\n      <td>7</td>\n      <td>8</td>\n      <td>9</td>\n    </tr>\n    <tr>\n      <th>r2</th>\n      <td>10</td>\n      <td>11</td>\n      <td>12</td>\n      <td>13</td>\n      <td>14</td>\n    </tr>\n    <tr>\n      <th>r3</th>\n      <td>15</td>\n      <td>16</td>\n      <td>17</td>\n      <td>18</td>\n      <td>19</td>\n    </tr>\n    <tr>\n      <th>r4</th>\n      <td>20</td>\n      <td>21</td>\n      <td>22</td>\n      <td>23</td>\n      <td>24</td>\n    </tr>\n  </tbody>\n</table>\n</div>"
     },
     "metadata": {},
     "execution_count": 7
    }
   ],
   "source": [
    "x_named"
   ]
  },
  {
   "source": [
    "## Problem: Select Elements from Series\n",
    "\n",
    "Select the 2nd element of `y_named`."
   ],
   "cell_type": "markdown",
   "metadata": {
    "pycharm": {
     "name": "#%% md\n"
    }
   }
  },
  {
   "cell_type": "code",
   "execution_count": 8,
   "metadata": {},
   "outputs": [
    {
     "output_type": "execute_result",
     "data": {
      "text/plain": [
       "1"
      ]
     },
     "metadata": {},
     "execution_count": 8
    }
   ],
   "source": [
    "y_named.iloc[1]"
   ]
  },
  {
   "cell_type": "markdown",
   "metadata": {},
   "source": [
    "## Problem: Selecting Rows as Series\n",
    "\n",
    "Select the 2nd row of `x_named` using the colon (:) operator.\n"
   ]
  },
  {
   "cell_type": "code",
   "execution_count": 11,
   "metadata": {},
   "outputs": [
    {
     "output_type": "execute_result",
     "data": {
      "text/plain": [
       "c0    5\n",
       "c1    6\n",
       "c2    7\n",
       "c3    8\n",
       "c4    9\n",
       "Name: r1, dtype: int64"
      ]
     },
     "metadata": {},
     "execution_count": 11
    }
   ],
   "source": [
    "x_named.iloc[1]"
   ]
  },
  {
   "cell_type": "markdown",
   "metadata": {
    "pycharm": {
     "name": "#%% md\n"
    }
   },
   "source": [
    "## Problem: Selecting Rows as DataFrames\n",
    "\n",
    "1. Select the 2nd row of `x_named` using a slice so that the selection\n",
    "   remains a DataFrame.\n",
    "2. Repeat using a list of indices to retain the DataFrame. \n"
   ]
  },
  {
   "cell_type": "code",
   "execution_count": 12,
   "metadata": {},
   "outputs": [
    {
     "output_type": "execute_result",
     "data": {
      "text/plain": [
       "    c0  c1  c2  c3  c4\n",
       "r1   5   6   7   8   9"
      ],
      "text/html": "<div>\n<style scoped>\n    .dataframe tbody tr th:only-of-type {\n        vertical-align: middle;\n    }\n\n    .dataframe tbody tr th {\n        vertical-align: top;\n    }\n\n    .dataframe thead th {\n        text-align: right;\n    }\n</style>\n<table border=\"1\" class=\"dataframe\">\n  <thead>\n    <tr style=\"text-align: right;\">\n      <th></th>\n      <th>c0</th>\n      <th>c1</th>\n      <th>c2</th>\n      <th>c3</th>\n      <th>c4</th>\n    </tr>\n  </thead>\n  <tbody>\n    <tr>\n      <th>r1</th>\n      <td>5</td>\n      <td>6</td>\n      <td>7</td>\n      <td>8</td>\n      <td>9</td>\n    </tr>\n  </tbody>\n</table>\n</div>"
     },
     "metadata": {},
     "execution_count": 12
    }
   ],
   "source": [
    "x_named.iloc[1:2] # uses a slice to keep the output as a dataframe"
   ]
  },
  {
   "cell_type": "code",
   "execution_count": 13,
   "metadata": {},
   "outputs": [
    {
     "output_type": "execute_result",
     "data": {
      "text/plain": [
       "    c0  c1  c2  c3  c4\n",
       "r1   5   6   7   8   9"
      ],
      "text/html": "<div>\n<style scoped>\n    .dataframe tbody tr th:only-of-type {\n        vertical-align: middle;\n    }\n\n    .dataframe tbody tr th {\n        vertical-align: top;\n    }\n\n    .dataframe thead th {\n        text-align: right;\n    }\n</style>\n<table border=\"1\" class=\"dataframe\">\n  <thead>\n    <tr style=\"text-align: right;\">\n      <th></th>\n      <th>c0</th>\n      <th>c1</th>\n      <th>c2</th>\n      <th>c3</th>\n      <th>c4</th>\n    </tr>\n  </thead>\n  <tbody>\n    <tr>\n      <th>r1</th>\n      <td>5</td>\n      <td>6</td>\n      <td>7</td>\n      <td>8</td>\n      <td>9</td>\n    </tr>\n  </tbody>\n</table>\n</div>"
     },
     "metadata": {},
     "execution_count": 13
    }
   ],
   "source": [
    "x_named.iloc[[1]] # does the same thing, but uses a list of indices"
   ]
  },
  {
   "cell_type": "markdown",
   "metadata": {},
   "source": [
    "## Problem: Selecting Entire Columns as Series\n",
    "Select the 2nd column of `x_named` using the colon (:) operator. "
   ]
  },
  {
   "cell_type": "code",
   "execution_count": 14,
   "metadata": {},
   "outputs": [
    {
     "output_type": "execute_result",
     "data": {
      "text/plain": [
       "r0     1\n",
       "r1     6\n",
       "r2    11\n",
       "r3    16\n",
       "r4    21\n",
       "Name: c1, dtype: int64"
      ]
     },
     "metadata": {},
     "execution_count": 14
    }
   ],
   "source": [
    "x_named.iloc[:,1]"
   ]
  },
  {
   "cell_type": "markdown",
   "metadata": {
    "pycharm": {
     "name": "#%% md\n"
    }
   },
   "source": [
    "## Problem: Selecting Single Columns as DataFrames\n",
    "Select the 2nd column of `x_named`  so that the selection remains a DataFrame. \n"
   ]
  },
  {
   "cell_type": "code",
   "execution_count": 17,
   "metadata": {},
   "outputs": [
    {
     "output_type": "execute_result",
     "data": {
      "text/plain": [
       "    c1\n",
       "r0   1\n",
       "r1   6\n",
       "r2  11\n",
       "r3  16\n",
       "r4  21"
      ],
      "text/html": "<div>\n<style scoped>\n    .dataframe tbody tr th:only-of-type {\n        vertical-align: middle;\n    }\n\n    .dataframe tbody tr th {\n        vertical-align: top;\n    }\n\n    .dataframe thead th {\n        text-align: right;\n    }\n</style>\n<table border=\"1\" class=\"dataframe\">\n  <thead>\n    <tr style=\"text-align: right;\">\n      <th></th>\n      <th>c1</th>\n    </tr>\n  </thead>\n  <tbody>\n    <tr>\n      <th>r0</th>\n      <td>1</td>\n    </tr>\n    <tr>\n      <th>r1</th>\n      <td>6</td>\n    </tr>\n    <tr>\n      <th>r2</th>\n      <td>11</td>\n    </tr>\n    <tr>\n      <th>r3</th>\n      <td>16</td>\n    </tr>\n    <tr>\n      <th>r4</th>\n      <td>21</td>\n    </tr>\n  </tbody>\n</table>\n</div>"
     },
     "metadata": {},
     "execution_count": 17
    }
   ],
   "source": [
    "x_named.iloc[:,1:2]"
   ]
  },
  {
   "cell_type": "code",
   "execution_count": 16,
   "metadata": {},
   "outputs": [
    {
     "output_type": "execute_result",
     "data": {
      "text/plain": [
       "    c1\n",
       "r0   1\n",
       "r1   6\n",
       "r2  11\n",
       "r3  16\n",
       "r4  21"
      ],
      "text/html": "<div>\n<style scoped>\n    .dataframe tbody tr th:only-of-type {\n        vertical-align: middle;\n    }\n\n    .dataframe tbody tr th {\n        vertical-align: top;\n    }\n\n    .dataframe thead th {\n        text-align: right;\n    }\n</style>\n<table border=\"1\" class=\"dataframe\">\n  <thead>\n    <tr style=\"text-align: right;\">\n      <th></th>\n      <th>c1</th>\n    </tr>\n  </thead>\n  <tbody>\n    <tr>\n      <th>r0</th>\n      <td>1</td>\n    </tr>\n    <tr>\n      <th>r1</th>\n      <td>6</td>\n    </tr>\n    <tr>\n      <th>r2</th>\n      <td>11</td>\n    </tr>\n    <tr>\n      <th>r3</th>\n      <td>16</td>\n    </tr>\n    <tr>\n      <th>r4</th>\n      <td>21</td>\n    </tr>\n  </tbody>\n</table>\n</div>"
     },
     "metadata": {},
     "execution_count": 16
    }
   ],
   "source": [
    "x_named.iloc[:,[1]]"
   ]
  },
  {
   "cell_type": "markdown",
   "metadata": {},
   "source": [
    "## Problem: Selecting Specific Columns\n",
    "Select the 2nd and 3rd columns of `x_named` using a slice."
   ]
  },
  {
   "cell_type": "code",
   "execution_count": 18,
   "metadata": {},
   "outputs": [
    {
     "output_type": "execute_result",
     "data": {
      "text/plain": [
       "    c1  c2\n",
       "r0   1   2\n",
       "r1   6   7\n",
       "r2  11  12\n",
       "r3  16  17\n",
       "r4  21  22"
      ],
      "text/html": "<div>\n<style scoped>\n    .dataframe tbody tr th:only-of-type {\n        vertical-align: middle;\n    }\n\n    .dataframe tbody tr th {\n        vertical-align: top;\n    }\n\n    .dataframe thead th {\n        text-align: right;\n    }\n</style>\n<table border=\"1\" class=\"dataframe\">\n  <thead>\n    <tr style=\"text-align: right;\">\n      <th></th>\n      <th>c1</th>\n      <th>c2</th>\n    </tr>\n  </thead>\n  <tbody>\n    <tr>\n      <th>r0</th>\n      <td>1</td>\n      <td>2</td>\n    </tr>\n    <tr>\n      <th>r1</th>\n      <td>6</td>\n      <td>7</td>\n    </tr>\n    <tr>\n      <th>r2</th>\n      <td>11</td>\n      <td>12</td>\n    </tr>\n    <tr>\n      <th>r3</th>\n      <td>16</td>\n      <td>17</td>\n    </tr>\n    <tr>\n      <th>r4</th>\n      <td>21</td>\n      <td>22</td>\n    </tr>\n  </tbody>\n</table>\n</div>"
     },
     "metadata": {},
     "execution_count": 18
    }
   ],
   "source": [
    "x_named.iloc[:,1:3]"
   ]
  },
  {
   "cell_type": "markdown",
   "metadata": {
    "pycharm": {
     "name": "#%% md\n"
    }
   },
   "source": [
    "## Problem: Select Specific Rows\n",
    "\n",
    "Select the 2nd and 4th rows of `x_named` using a slice.  Repeat the \n",
    "selection using a list of integers."
   ]
  },
  {
   "cell_type": "code",
   "execution_count": 19,
   "metadata": {},
   "outputs": [
    {
     "output_type": "execute_result",
     "data": {
      "text/plain": [
       "    c0  c1  c2  c3  c4\n",
       "r1   5   6   7   8   9\n",
       "r3  15  16  17  18  19"
      ],
      "text/html": "<div>\n<style scoped>\n    .dataframe tbody tr th:only-of-type {\n        vertical-align: middle;\n    }\n\n    .dataframe tbody tr th {\n        vertical-align: top;\n    }\n\n    .dataframe thead th {\n        text-align: right;\n    }\n</style>\n<table border=\"1\" class=\"dataframe\">\n  <thead>\n    <tr style=\"text-align: right;\">\n      <th></th>\n      <th>c0</th>\n      <th>c1</th>\n      <th>c2</th>\n      <th>c3</th>\n      <th>c4</th>\n    </tr>\n  </thead>\n  <tbody>\n    <tr>\n      <th>r1</th>\n      <td>5</td>\n      <td>6</td>\n      <td>7</td>\n      <td>8</td>\n      <td>9</td>\n    </tr>\n    <tr>\n      <th>r3</th>\n      <td>15</td>\n      <td>16</td>\n      <td>17</td>\n      <td>18</td>\n      <td>19</td>\n    </tr>\n  </tbody>\n</table>\n</div>"
     },
     "metadata": {},
     "execution_count": 19
    }
   ],
   "source": [
    "x_named.iloc[1:4:2]"
   ]
  },
  {
   "cell_type": "code",
   "execution_count": 20,
   "metadata": {},
   "outputs": [
    {
     "output_type": "execute_result",
     "data": {
      "text/plain": [
       "    c0  c1  c2  c3  c4\n",
       "r1   5   6   7   8   9\n",
       "r3  15  16  17  18  19"
      ],
      "text/html": "<div>\n<style scoped>\n    .dataframe tbody tr th:only-of-type {\n        vertical-align: middle;\n    }\n\n    .dataframe tbody tr th {\n        vertical-align: top;\n    }\n\n    .dataframe thead th {\n        text-align: right;\n    }\n</style>\n<table border=\"1\" class=\"dataframe\">\n  <thead>\n    <tr style=\"text-align: right;\">\n      <th></th>\n      <th>c0</th>\n      <th>c1</th>\n      <th>c2</th>\n      <th>c3</th>\n      <th>c4</th>\n    </tr>\n  </thead>\n  <tbody>\n    <tr>\n      <th>r1</th>\n      <td>5</td>\n      <td>6</td>\n      <td>7</td>\n      <td>8</td>\n      <td>9</td>\n    </tr>\n    <tr>\n      <th>r3</th>\n      <td>15</td>\n      <td>16</td>\n      <td>17</td>\n      <td>18</td>\n      <td>19</td>\n    </tr>\n  </tbody>\n</table>\n</div>"
     },
     "metadata": {},
     "execution_count": 20
    }
   ],
   "source": [
    "x_named.iloc[[1,3]]"
   ]
  },
  {
   "cell_type": "markdown",
   "metadata": {},
   "source": [
    "## Problem: Select arbitrary rows and columns\n",
    "\n",
    "Combine the previous selections to the 2nd and 3rd columns and the 2nd and 4th rows\n",
    "of `x_named`. \n",
    "\n",
    "**Note**: This is the only important difference with NumPy.  Arbitrary\n",
    "row/column selection using `DataFrame.iloc` is simpler but less flexible."
   ]
  },
  {
   "cell_type": "code",
   "execution_count": 21,
   "metadata": {},
   "outputs": [
    {
     "output_type": "execute_result",
     "data": {
      "text/plain": [
       "    c1  c2\n",
       "r1   6   7\n",
       "r3  16  17"
      ],
      "text/html": "<div>\n<style scoped>\n    .dataframe tbody tr th:only-of-type {\n        vertical-align: middle;\n    }\n\n    .dataframe tbody tr th {\n        vertical-align: top;\n    }\n\n    .dataframe thead th {\n        text-align: right;\n    }\n</style>\n<table border=\"1\" class=\"dataframe\">\n  <thead>\n    <tr style=\"text-align: right;\">\n      <th></th>\n      <th>c1</th>\n      <th>c2</th>\n    </tr>\n  </thead>\n  <tbody>\n    <tr>\n      <th>r1</th>\n      <td>6</td>\n      <td>7</td>\n    </tr>\n    <tr>\n      <th>r3</th>\n      <td>16</td>\n      <td>17</td>\n    </tr>\n  </tbody>\n</table>\n</div>"
     },
     "metadata": {},
     "execution_count": 21
    }
   ],
   "source": [
    "x_named.iloc[[1,3],[1,2]]"
   ]
  },
  {
   "cell_type": "code",
   "execution_count": 22,
   "metadata": {},
   "outputs": [
    {
     "output_type": "execute_result",
     "data": {
      "text/plain": [
       "    c1  c2\n",
       "r1   6   7\n",
       "r3  16  17"
      ],
      "text/html": "<div>\n<style scoped>\n    .dataframe tbody tr th:only-of-type {\n        vertical-align: middle;\n    }\n\n    .dataframe tbody tr th {\n        vertical-align: top;\n    }\n\n    .dataframe thead th {\n        text-align: right;\n    }\n</style>\n<table border=\"1\" class=\"dataframe\">\n  <thead>\n    <tr style=\"text-align: right;\">\n      <th></th>\n      <th>c1</th>\n      <th>c2</th>\n    </tr>\n  </thead>\n  <tbody>\n    <tr>\n      <th>r1</th>\n      <td>6</td>\n      <td>7</td>\n    </tr>\n    <tr>\n      <th>r3</th>\n      <td>16</td>\n      <td>17</td>\n    </tr>\n  </tbody>\n</table>\n</div>"
     },
     "metadata": {},
     "execution_count": 22
    }
   ],
   "source": [
    "x_named.iloc[1:4:2,1:3]"
   ]
  },
  {
   "cell_type": "code",
   "execution_count": null,
   "metadata": {},
   "outputs": [],
   "source": []
  },
  {
   "cell_type": "markdown",
   "metadata": {
    "pycharm": {
     "name": "#%% md\n"
    }
   },
   "source": [
    "## Problem: Mixed selection\n",
    "\n",
    "Select the columns c1 and c2 and the 1st, 3rd and 5th row."
   ]
  },
  {
   "source": [],
   "cell_type": "markdown",
   "metadata": {}
  },
  {
   "cell_type": "code",
   "execution_count": 26,
   "metadata": {},
   "outputs": [
    {
     "output_type": "execute_result",
     "data": {
      "text/plain": [
       "    c1  c2\n",
       "r0   1   2\n",
       "r2  11  12\n",
       "r4  21  22"
      ],
      "text/html": "<div>\n<style scoped>\n    .dataframe tbody tr th:only-of-type {\n        vertical-align: middle;\n    }\n\n    .dataframe tbody tr th {\n        vertical-align: top;\n    }\n\n    .dataframe thead th {\n        text-align: right;\n    }\n</style>\n<table border=\"1\" class=\"dataframe\">\n  <thead>\n    <tr style=\"text-align: right;\">\n      <th></th>\n      <th>c1</th>\n      <th>c2</th>\n    </tr>\n  </thead>\n  <tbody>\n    <tr>\n      <th>r0</th>\n      <td>1</td>\n      <td>2</td>\n    </tr>\n    <tr>\n      <th>r2</th>\n      <td>11</td>\n      <td>12</td>\n    </tr>\n    <tr>\n      <th>r4</th>\n      <td>21</td>\n      <td>22</td>\n    </tr>\n  </tbody>\n</table>\n</div>"
     },
     "metadata": {},
     "execution_count": 26
    }
   ],
   "source": [
    "x_named.loc[:,[\"c1\",\"c2\"]].iloc[[0,2,4]]"
   ]
  },
  {
   "cell_type": "markdown",
   "metadata": {},
   "source": [
    "## Problem: Mixed selection 2\n",
    "\n",
    "Select the rows r1 and r2 and the 1st, 3rd and final column."
   ]
  },
  {
   "cell_type": "code",
   "execution_count": 33,
   "metadata": {},
   "outputs": [
    {
     "output_type": "execute_result",
     "data": {
      "text/plain": [
       "    c0  c2  c4\n",
       "r1   5   7   9\n",
       "r2  10  12  14"
      ],
      "text/html": "<div>\n<style scoped>\n    .dataframe tbody tr th:only-of-type {\n        vertical-align: middle;\n    }\n\n    .dataframe tbody tr th {\n        vertical-align: top;\n    }\n\n    .dataframe thead th {\n        text-align: right;\n    }\n</style>\n<table border=\"1\" class=\"dataframe\">\n  <thead>\n    <tr style=\"text-align: right;\">\n      <th></th>\n      <th>c0</th>\n      <th>c2</th>\n      <th>c4</th>\n    </tr>\n  </thead>\n  <tbody>\n    <tr>\n      <th>r1</th>\n      <td>5</td>\n      <td>7</td>\n      <td>9</td>\n    </tr>\n    <tr>\n      <th>r2</th>\n      <td>10</td>\n      <td>12</td>\n      <td>14</td>\n    </tr>\n  </tbody>\n</table>\n</div>"
     },
     "metadata": {},
     "execution_count": 33
    }
   ],
   "source": [
    "x_named.iloc[:,[0,2,4]].loc[[\"r1\",\"r2\"]]"
   ]
  },
  {
   "cell_type": "markdown",
   "metadata": {
    "collapsed": false,
    "pycharm": {
     "name": "#%% md\n"
    }
   },
   "source": [
    "## Exercises\n",
    "\n",
    "### Exercise: Select fixed length block\n",
    "\n",
    "Compute the mean return of the momentum data in the first 66\n",
    "observations and the last 66 observations."
   ]
  },
  {
   "cell_type": "code",
   "execution_count": 34,
   "metadata": {
    "pycharm": {
     "is_executing": false,
     "name": "#%%\n"
    }
   },
   "outputs": [
    {
     "output_type": "execute_result",
     "data": {
      "text/plain": [
       "            mom_01  mom_02  mom_03  mom_04  ...  mom_07  mom_08  mom_09  mom_10\n",
       "date                                        ...                                \n",
       "2016-01-04    0.67   -0.03   -0.93   -1.11  ...   -1.40   -2.08   -1.71   -2.67\n",
       "2016-01-05   -0.36    0.20   -0.37    0.28  ...   -0.22    0.25    0.29    0.13\n",
       "2016-01-06   -4.97   -2.33   -2.60   -1.16  ...   -1.15   -1.46   -1.14   -0.45\n",
       "2016-01-07   -4.91   -1.91   -3.03   -1.87  ...   -2.70   -2.31   -2.36   -2.66\n",
       "2016-01-08   -0.40   -1.26   -0.98   -1.26  ...   -0.96   -1.42   -0.94   -1.32\n",
       "\n",
       "[5 rows x 10 columns]"
      ],
      "text/html": "<div>\n<style scoped>\n    .dataframe tbody tr th:only-of-type {\n        vertical-align: middle;\n    }\n\n    .dataframe tbody tr th {\n        vertical-align: top;\n    }\n\n    .dataframe thead th {\n        text-align: right;\n    }\n</style>\n<table border=\"1\" class=\"dataframe\">\n  <thead>\n    <tr style=\"text-align: right;\">\n      <th></th>\n      <th>mom_01</th>\n      <th>mom_02</th>\n      <th>mom_03</th>\n      <th>mom_04</th>\n      <th>mom_05</th>\n      <th>mom_06</th>\n      <th>mom_07</th>\n      <th>mom_08</th>\n      <th>mom_09</th>\n      <th>mom_10</th>\n    </tr>\n    <tr>\n      <th>date</th>\n      <th></th>\n      <th></th>\n      <th></th>\n      <th></th>\n      <th></th>\n      <th></th>\n      <th></th>\n      <th></th>\n      <th></th>\n      <th></th>\n    </tr>\n  </thead>\n  <tbody>\n    <tr>\n      <th>2016-01-04</th>\n      <td>0.67</td>\n      <td>-0.03</td>\n      <td>-0.93</td>\n      <td>-1.11</td>\n      <td>-1.47</td>\n      <td>-1.66</td>\n      <td>-1.40</td>\n      <td>-2.08</td>\n      <td>-1.71</td>\n      <td>-2.67</td>\n    </tr>\n    <tr>\n      <th>2016-01-05</th>\n      <td>-0.36</td>\n      <td>0.20</td>\n      <td>-0.37</td>\n      <td>0.28</td>\n      <td>0.16</td>\n      <td>0.18</td>\n      <td>-0.22</td>\n      <td>0.25</td>\n      <td>0.29</td>\n      <td>0.13</td>\n    </tr>\n    <tr>\n      <th>2016-01-06</th>\n      <td>-4.97</td>\n      <td>-2.33</td>\n      <td>-2.60</td>\n      <td>-1.16</td>\n      <td>-1.70</td>\n      <td>-1.45</td>\n      <td>-1.15</td>\n      <td>-1.46</td>\n      <td>-1.14</td>\n      <td>-0.45</td>\n    </tr>\n    <tr>\n      <th>2016-01-07</th>\n      <td>-4.91</td>\n      <td>-1.91</td>\n      <td>-3.03</td>\n      <td>-1.87</td>\n      <td>-2.31</td>\n      <td>-2.30</td>\n      <td>-2.70</td>\n      <td>-2.31</td>\n      <td>-2.36</td>\n      <td>-2.66</td>\n    </tr>\n    <tr>\n      <th>2016-01-08</th>\n      <td>-0.40</td>\n      <td>-1.26</td>\n      <td>-0.98</td>\n      <td>-1.26</td>\n      <td>-1.13</td>\n      <td>-1.02</td>\n      <td>-0.96</td>\n      <td>-1.42</td>\n      <td>-0.94</td>\n      <td>-1.32</td>\n    </tr>\n  </tbody>\n</table>\n</div>"
     },
     "metadata": {},
     "execution_count": 34
    }
   ],
   "source": [
    "# Setup: Load the momentum data\n",
    "\n",
    "import pandas as pd\n",
    "\n",
    "momentum = pd.read_csv(\"data/momentum.csv\", index_col=\"date\", parse_dates=True)\n",
    "momentum.head()\n"
   ]
  },
  {
   "cell_type": "code",
   "execution_count": 36,
   "metadata": {},
   "outputs": [
    {
     "output_type": "execute_result",
     "data": {
      "text/plain": [
       "mom_01    0.124545\n",
       "mom_02    0.100455\n",
       "mom_03    0.062879\n",
       "mom_04    0.035758\n",
       "mom_05    0.067424\n",
       "mom_06    0.055455\n",
       "mom_07   -0.030455\n",
       "mom_08   -0.051061\n",
       "mom_09   -0.020606\n",
       "mom_10   -0.045909\n",
       "dtype: float64"
      ]
     },
     "metadata": {},
     "execution_count": 36
    }
   ],
   "source": [
    "momentum.iloc[:66].mean()"
   ]
  },
  {
   "cell_type": "code",
   "execution_count": 38,
   "metadata": {},
   "outputs": [
    {
     "output_type": "execute_result",
     "data": {
      "text/plain": [
       "mom_01    0.089545\n",
       "mom_02    0.045606\n",
       "mom_03    0.110303\n",
       "mom_04    0.087576\n",
       "mom_05    0.095303\n",
       "mom_06    0.163485\n",
       "mom_07    0.121818\n",
       "mom_08    0.168485\n",
       "mom_09    0.131818\n",
       "mom_10    0.096364\n",
       "dtype: float64"
      ]
     },
     "metadata": {},
     "execution_count": 38
    }
   ],
   "source": [
    "momentum.iloc[-66:].mean()"
   ]
  },
  {
   "cell_type": "code",
   "execution_count": 39,
   "metadata": {},
   "outputs": [
    {
     "output_type": "execute_result",
     "data": {
      "text/plain": [
       "            mom_01  mom_02  mom_03  mom_04  ...  mom_07  mom_08  mom_09  mom_10\n",
       "date                                        ...                                \n",
       "2017-12-22    0.24    0.13   -0.07   -0.01  ...   -0.14   -0.16   -0.05   -0.01\n",
       "2017-12-26    0.89    0.70    0.23   -0.03  ...   -0.14   -0.07    0.14   -0.65\n",
       "2017-12-27   -0.58   -0.55   -0.27   -0.19  ...    0.18    0.10    0.22    0.36\n",
       "2017-12-28    0.14    0.23    0.32    0.02  ...    0.30    0.15    0.28    0.29\n",
       "2017-12-29   -0.42   -0.61   -0.48   -0.57  ...   -0.52   -0.45   -0.70   -0.94\n",
       "\n",
       "[5 rows x 10 columns]"
      ],
      "text/html": "<div>\n<style scoped>\n    .dataframe tbody tr th:only-of-type {\n        vertical-align: middle;\n    }\n\n    .dataframe tbody tr th {\n        vertical-align: top;\n    }\n\n    .dataframe thead th {\n        text-align: right;\n    }\n</style>\n<table border=\"1\" class=\"dataframe\">\n  <thead>\n    <tr style=\"text-align: right;\">\n      <th></th>\n      <th>mom_01</th>\n      <th>mom_02</th>\n      <th>mom_03</th>\n      <th>mom_04</th>\n      <th>mom_05</th>\n      <th>mom_06</th>\n      <th>mom_07</th>\n      <th>mom_08</th>\n      <th>mom_09</th>\n      <th>mom_10</th>\n    </tr>\n    <tr>\n      <th>date</th>\n      <th></th>\n      <th></th>\n      <th></th>\n      <th></th>\n      <th></th>\n      <th></th>\n      <th></th>\n      <th></th>\n      <th></th>\n      <th></th>\n    </tr>\n  </thead>\n  <tbody>\n    <tr>\n      <th>2017-12-22</th>\n      <td>0.24</td>\n      <td>0.13</td>\n      <td>-0.07</td>\n      <td>-0.01</td>\n      <td>-0.08</td>\n      <td>-0.10</td>\n      <td>-0.14</td>\n      <td>-0.16</td>\n      <td>-0.05</td>\n      <td>-0.01</td>\n    </tr>\n    <tr>\n      <th>2017-12-26</th>\n      <td>0.89</td>\n      <td>0.70</td>\n      <td>0.23</td>\n      <td>-0.03</td>\n      <td>0.10</td>\n      <td>-0.06</td>\n      <td>-0.14</td>\n      <td>-0.07</td>\n      <td>0.14</td>\n      <td>-0.65</td>\n    </tr>\n    <tr>\n      <th>2017-12-27</th>\n      <td>-0.58</td>\n      <td>-0.55</td>\n      <td>-0.27</td>\n      <td>-0.19</td>\n      <td>-0.14</td>\n      <td>0.18</td>\n      <td>0.18</td>\n      <td>0.10</td>\n      <td>0.22</td>\n      <td>0.36</td>\n    </tr>\n    <tr>\n      <th>2017-12-28</th>\n      <td>0.14</td>\n      <td>0.23</td>\n      <td>0.32</td>\n      <td>0.02</td>\n      <td>0.29</td>\n      <td>0.16</td>\n      <td>0.30</td>\n      <td>0.15</td>\n      <td>0.28</td>\n      <td>0.29</td>\n    </tr>\n    <tr>\n      <th>2017-12-29</th>\n      <td>-0.42</td>\n      <td>-0.61</td>\n      <td>-0.48</td>\n      <td>-0.57</td>\n      <td>-0.45</td>\n      <td>-0.41</td>\n      <td>-0.52</td>\n      <td>-0.45</td>\n      <td>-0.70</td>\n      <td>-0.94</td>\n    </tr>\n  </tbody>\n</table>\n</div>"
     },
     "metadata": {},
     "execution_count": 39
    }
   ],
   "source": [
    "momentum.iloc[-66:].tail()"
   ]
  },
  {
   "cell_type": "code",
   "execution_count": 40,
   "metadata": {},
   "outputs": [
    {
     "output_type": "execute_result",
     "data": {
      "text/plain": [
       "            mom_01  mom_02  mom_03  mom_04  ...  mom_07  mom_08  mom_09  mom_10\n",
       "date                                        ...                                \n",
       "2017-12-22    0.24    0.13   -0.07   -0.01  ...   -0.14   -0.16   -0.05   -0.01\n",
       "2017-12-26    0.89    0.70    0.23   -0.03  ...   -0.14   -0.07    0.14   -0.65\n",
       "2017-12-27   -0.58   -0.55   -0.27   -0.19  ...    0.18    0.10    0.22    0.36\n",
       "2017-12-28    0.14    0.23    0.32    0.02  ...    0.30    0.15    0.28    0.29\n",
       "2017-12-29   -0.42   -0.61   -0.48   -0.57  ...   -0.52   -0.45   -0.70   -0.94\n",
       "\n",
       "[5 rows x 10 columns]"
      ],
      "text/html": "<div>\n<style scoped>\n    .dataframe tbody tr th:only-of-type {\n        vertical-align: middle;\n    }\n\n    .dataframe tbody tr th {\n        vertical-align: top;\n    }\n\n    .dataframe thead th {\n        text-align: right;\n    }\n</style>\n<table border=\"1\" class=\"dataframe\">\n  <thead>\n    <tr style=\"text-align: right;\">\n      <th></th>\n      <th>mom_01</th>\n      <th>mom_02</th>\n      <th>mom_03</th>\n      <th>mom_04</th>\n      <th>mom_05</th>\n      <th>mom_06</th>\n      <th>mom_07</th>\n      <th>mom_08</th>\n      <th>mom_09</th>\n      <th>mom_10</th>\n    </tr>\n    <tr>\n      <th>date</th>\n      <th></th>\n      <th></th>\n      <th></th>\n      <th></th>\n      <th></th>\n      <th></th>\n      <th></th>\n      <th></th>\n      <th></th>\n      <th></th>\n    </tr>\n  </thead>\n  <tbody>\n    <tr>\n      <th>2017-12-22</th>\n      <td>0.24</td>\n      <td>0.13</td>\n      <td>-0.07</td>\n      <td>-0.01</td>\n      <td>-0.08</td>\n      <td>-0.10</td>\n      <td>-0.14</td>\n      <td>-0.16</td>\n      <td>-0.05</td>\n      <td>-0.01</td>\n    </tr>\n    <tr>\n      <th>2017-12-26</th>\n      <td>0.89</td>\n      <td>0.70</td>\n      <td>0.23</td>\n      <td>-0.03</td>\n      <td>0.10</td>\n      <td>-0.06</td>\n      <td>-0.14</td>\n      <td>-0.07</td>\n      <td>0.14</td>\n      <td>-0.65</td>\n    </tr>\n    <tr>\n      <th>2017-12-27</th>\n      <td>-0.58</td>\n      <td>-0.55</td>\n      <td>-0.27</td>\n      <td>-0.19</td>\n      <td>-0.14</td>\n      <td>0.18</td>\n      <td>0.18</td>\n      <td>0.10</td>\n      <td>0.22</td>\n      <td>0.36</td>\n    </tr>\n    <tr>\n      <th>2017-12-28</th>\n      <td>0.14</td>\n      <td>0.23</td>\n      <td>0.32</td>\n      <td>0.02</td>\n      <td>0.29</td>\n      <td>0.16</td>\n      <td>0.30</td>\n      <td>0.15</td>\n      <td>0.28</td>\n      <td>0.29</td>\n    </tr>\n    <tr>\n      <th>2017-12-29</th>\n      <td>-0.42</td>\n      <td>-0.61</td>\n      <td>-0.48</td>\n      <td>-0.57</td>\n      <td>-0.45</td>\n      <td>-0.41</td>\n      <td>-0.52</td>\n      <td>-0.45</td>\n      <td>-0.70</td>\n      <td>-0.94</td>\n    </tr>\n  </tbody>\n</table>\n</div>"
     },
     "metadata": {},
     "execution_count": 40
    }
   ],
   "source": [
    "momentum.tail()"
   ]
  },
  {
   "cell_type": "markdown",
   "metadata": {
    "collapsed": false,
    "pycharm": {
     "name": "#%% md\n"
    }
   },
   "source": [
    "### Exercise: Compute values using fraction of sample\n",
    "\n",
    "Compute the correlation of momentum portfolio 1, 5, and 10 in the first half of\n",
    "the sample and in the second half. "
   ]
  },
  {
   "cell_type": "code",
   "execution_count": 48,
   "metadata": {},
   "outputs": [],
   "source": [
    "nobs = momentum.shape[0]\n",
    "first_half = momentum.iloc[:nobs//2]\n",
    "second_half = momentum.iloc[nobs//2:]"
   ]
  },
  {
   "cell_type": "code",
   "execution_count": 52,
   "metadata": {},
   "outputs": [
    {
     "output_type": "execute_result",
     "data": {
      "text/plain": [
       "          mom_01    mom_05    mom_10\n",
       "mom_01  1.000000  0.757825  0.445025\n",
       "mom_05  0.757825  1.000000  0.686656\n",
       "mom_10  0.445025  0.686656  1.000000"
      ],
      "text/html": "<div>\n<style scoped>\n    .dataframe tbody tr th:only-of-type {\n        vertical-align: middle;\n    }\n\n    .dataframe tbody tr th {\n        vertical-align: top;\n    }\n\n    .dataframe thead th {\n        text-align: right;\n    }\n</style>\n<table border=\"1\" class=\"dataframe\">\n  <thead>\n    <tr style=\"text-align: right;\">\n      <th></th>\n      <th>mom_01</th>\n      <th>mom_05</th>\n      <th>mom_10</th>\n    </tr>\n  </thead>\n  <tbody>\n    <tr>\n      <th>mom_01</th>\n      <td>1.000000</td>\n      <td>0.757825</td>\n      <td>0.445025</td>\n    </tr>\n    <tr>\n      <th>mom_05</th>\n      <td>0.757825</td>\n      <td>1.000000</td>\n      <td>0.686656</td>\n    </tr>\n    <tr>\n      <th>mom_10</th>\n      <td>0.445025</td>\n      <td>0.686656</td>\n      <td>1.000000</td>\n    </tr>\n  </tbody>\n</table>\n</div>"
     },
     "metadata": {},
     "execution_count": 52
    }
   ],
   "source": [
    "sub1 = first_half[[\"mom_01\",\"mom_05\",\"mom_10\"]]\n",
    "sub2 = second_half[[\"mom_01\",\"mom_05\",\"mom_10\"]]\n",
    "\n",
    "sub1.corr()"
   ]
  },
  {
   "cell_type": "code",
   "execution_count": 53,
   "metadata": {},
   "outputs": [
    {
     "output_type": "execute_result",
     "data": {
      "text/plain": [
       "          mom_01    mom_05    mom_10\n",
       "mom_01  1.000000  0.563911  0.341120\n",
       "mom_05  0.563911  1.000000  0.561871\n",
       "mom_10  0.341120  0.561871  1.000000"
      ],
      "text/html": "<div>\n<style scoped>\n    .dataframe tbody tr th:only-of-type {\n        vertical-align: middle;\n    }\n\n    .dataframe tbody tr th {\n        vertical-align: top;\n    }\n\n    .dataframe thead th {\n        text-align: right;\n    }\n</style>\n<table border=\"1\" class=\"dataframe\">\n  <thead>\n    <tr style=\"text-align: right;\">\n      <th></th>\n      <th>mom_01</th>\n      <th>mom_05</th>\n      <th>mom_10</th>\n    </tr>\n  </thead>\n  <tbody>\n    <tr>\n      <th>mom_01</th>\n      <td>1.000000</td>\n      <td>0.563911</td>\n      <td>0.341120</td>\n    </tr>\n    <tr>\n      <th>mom_05</th>\n      <td>0.563911</td>\n      <td>1.000000</td>\n      <td>0.561871</td>\n    </tr>\n    <tr>\n      <th>mom_10</th>\n      <td>0.341120</td>\n      <td>0.561871</td>\n      <td>1.000000</td>\n    </tr>\n  </tbody>\n</table>\n</div>"
     },
     "metadata": {},
     "execution_count": 53
    }
   ],
   "source": [
    "sub2.corr()"
   ]
  }
 ],
 "metadata": {
  "kernelspec": {
   "display_name": "Python 3",
   "language": "python",
   "name": "python3"
  },
  "language_info": {
   "codemirror_mode": {
    "name": "ipython",
    "version": 3
   },
   "file_extension": ".py",
   "mimetype": "text/x-python",
   "name": "python",
   "nbconvert_exporter": "python",
   "pygments_lexer": "ipython3",
   "version": "3.8.3-final"
  },
  "pycharm": {
   "stem_cell": {
    "cell_type": "raw",
    "metadata": {
     "collapsed": false
    },
    "source": []
   }
  }
 },
 "nbformat": 4,
 "nbformat_minor": 1
}