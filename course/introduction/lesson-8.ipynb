{
 "cells": [
  {
   "cell_type": "markdown",
   "metadata": {},
   "source": [
    "# Using DataFrames\n",
    "\n",
    "This lesson introduces:\n",
    "\n",
    "* Computing returns (percentage change)\n",
    "* Basic mathematical operations on DataFrames\n",
    "\n",
    "This first cell load data for use in this lesson."
   ]
  },
  {
   "cell_type": "code",
   "execution_count": 59,
   "metadata": {},
   "outputs": [],
   "source": [
    "# Setup: Load prices\n",
    "import pandas as pd\n",
    "prices = pd.read_hdf(\"data/dataframes.h5\", \"prices\")\n",
    "sep_04 = pd.read_hdf(\"data/dataframes.h5\", \"sep_04\")\n",
    "goog = pd.read_hdf(\"data/dataframes.h5\", \"goog\")"
   ]
  },
  {
   "cell_type": "markdown",
   "metadata": {
    "pycharm": {
     "name": "#%% md\n"
    }
   },
   "source": [
    "## Problem: Compute Returns\n",
    "\n",
    "Compute returns using \n",
    "\n",
    "```python\n",
    "returns = prices.pct_change()\n",
    "```\n",
    "\n",
    "which computes the percentage change.\n",
    "\n",
    "Additionally, extract returns for each name using \n",
    "\n",
    "```python\n",
    "spy_returns = returns[\"SPY\"]\n",
    "```"
   ]
  },
  {
   "cell_type": "code",
   "execution_count": 9,
   "metadata": {},
   "outputs": [
    {
     "data": {
      "text/plain": "                 SPY      AAPL      GOOG\n2018-09-04       NaN       NaN       NaN\n2018-09-05 -0.002691 -0.006525 -0.008789\n2018-09-06 -0.003010 -0.016617 -0.012676\n2018-09-07 -0.001943 -0.008068 -0.005643\n2018-09-10  0.001739 -0.013421 -0.000163",
      "text/html": "<div>\n<style scoped>\n    .dataframe tbody tr th:only-of-type {\n        vertical-align: middle;\n    }\n\n    .dataframe tbody tr th {\n        vertical-align: top;\n    }\n\n    .dataframe thead tr th {\n        text-align: left;\n    }\n</style>\n<table border=\"1\" class=\"dataframe\">\n  <thead>\n    <tr>\n      <th></th>\n      <th>SPY</th>\n      <th>AAPL</th>\n      <th>GOOG</th>\n    </tr>\n  </thead>\n  <tbody>\n    <tr>\n      <th>2018-09-04</th>\n      <td>NaN</td>\n      <td>NaN</td>\n      <td>NaN</td>\n    </tr>\n    <tr>\n      <th>2018-09-05</th>\n      <td>-0.002691</td>\n      <td>-0.006525</td>\n      <td>-0.008789</td>\n    </tr>\n    <tr>\n      <th>2018-09-06</th>\n      <td>-0.003010</td>\n      <td>-0.016617</td>\n      <td>-0.012676</td>\n    </tr>\n    <tr>\n      <th>2018-09-07</th>\n      <td>-0.001943</td>\n      <td>-0.008068</td>\n      <td>-0.005643</td>\n    </tr>\n    <tr>\n      <th>2018-09-10</th>\n      <td>0.001739</td>\n      <td>-0.013421</td>\n      <td>-0.000163</td>\n    </tr>\n  </tbody>\n</table>\n</div>"
     },
     "execution_count": 9,
     "metadata": {},
     "output_type": "execute_result"
    }
   ],
   "source": [
    "returns = prices.pct_change()\n",
    "returns.head()\n",
    "\n",
    "\n"
   ]
  },
  {
   "cell_type": "code",
   "execution_count": 12,
   "metadata": {},
   "outputs": [
    {
     "data": {
      "text/plain": "                 SPY      AAPL      GOOG\n2018-09-05 -0.002691 -0.006525 -0.008789\n2018-09-06 -0.003010 -0.016617 -0.012676\n2018-09-07 -0.001943 -0.008068 -0.005643\n2018-09-10  0.001739 -0.013421 -0.000163\n2018-09-11  0.003297  0.025283  0.010922",
      "text/html": "<div>\n<style scoped>\n    .dataframe tbody tr th:only-of-type {\n        vertical-align: middle;\n    }\n\n    .dataframe tbody tr th {\n        vertical-align: top;\n    }\n\n    .dataframe thead tr th {\n        text-align: left;\n    }\n</style>\n<table border=\"1\" class=\"dataframe\">\n  <thead>\n    <tr>\n      <th></th>\n      <th>SPY</th>\n      <th>AAPL</th>\n      <th>GOOG</th>\n    </tr>\n  </thead>\n  <tbody>\n    <tr>\n      <th>2018-09-05</th>\n      <td>-0.002691</td>\n      <td>-0.006525</td>\n      <td>-0.008789</td>\n    </tr>\n    <tr>\n      <th>2018-09-06</th>\n      <td>-0.003010</td>\n      <td>-0.016617</td>\n      <td>-0.012676</td>\n    </tr>\n    <tr>\n      <th>2018-09-07</th>\n      <td>-0.001943</td>\n      <td>-0.008068</td>\n      <td>-0.005643</td>\n    </tr>\n    <tr>\n      <th>2018-09-10</th>\n      <td>0.001739</td>\n      <td>-0.013421</td>\n      <td>-0.000163</td>\n    </tr>\n    <tr>\n      <th>2018-09-11</th>\n      <td>0.003297</td>\n      <td>0.025283</td>\n      <td>0.010922</td>\n    </tr>\n  </tbody>\n</table>\n</div>"
     },
     "execution_count": 12,
     "metadata": {},
     "output_type": "execute_result"
    }
   ],
   "source": [
    "returns = returns.dropna()\n",
    "returns.head()"
   ]
  },
  {
   "cell_type": "code",
   "execution_count": 64,
   "outputs": [
    {
     "ename": "TypeError",
     "evalue": "only integer scalar arrays can be converted to a scalar index",
     "output_type": "error",
     "traceback": [
      "\u001B[0;31m---------------------------------------------------------------------------\u001B[0m",
      "\u001B[0;31mTypeError\u001B[0m                                 Traceback (most recent call last)",
      "\u001B[0;32m<ipython-input-64-192e36384a11>\u001B[0m in \u001B[0;36m<module>\u001B[0;34m\u001B[0m\n\u001B[0;32m----> 1\u001B[0;31m \u001B[0mspy_returns\u001B[0m \u001B[0;34m=\u001B[0m \u001B[0mreturns\u001B[0m\u001B[0;34m[\u001B[0m\u001B[0;34m\"SPY\"\u001B[0m\u001B[0;34m]\u001B[0m\u001B[0;34m\u001B[0m\u001B[0;34m\u001B[0m\u001B[0m\n\u001B[0m\u001B[1;32m      2\u001B[0m \u001B[0;34m\u001B[0m\u001B[0m\n",
      "\u001B[0;32m~/.conda/envs/introduction/lib/python3.8/site-packages/pandas/core/frame.py\u001B[0m in \u001B[0;36m__getitem__\u001B[0;34m(self, key)\u001B[0m\n\u001B[1;32m   2876\u001B[0m                 \u001B[0;32mif\u001B[0m \u001B[0mself\u001B[0m\u001B[0;34m.\u001B[0m\u001B[0mcolumns\u001B[0m\u001B[0;34m.\u001B[0m\u001B[0mnlevels\u001B[0m \u001B[0;34m>\u001B[0m \u001B[0;36m1\u001B[0m\u001B[0;34m:\u001B[0m\u001B[0;34m\u001B[0m\u001B[0;34m\u001B[0m\u001B[0m\n\u001B[1;32m   2877\u001B[0m                     \u001B[0;32mreturn\u001B[0m \u001B[0mself\u001B[0m\u001B[0;34m.\u001B[0m\u001B[0m_getitem_multilevel\u001B[0m\u001B[0;34m(\u001B[0m\u001B[0mkey\u001B[0m\u001B[0;34m)\u001B[0m\u001B[0;34m\u001B[0m\u001B[0;34m\u001B[0m\u001B[0m\n\u001B[0;32m-> 2878\u001B[0;31m                 \u001B[0;32mreturn\u001B[0m \u001B[0mself\u001B[0m\u001B[0;34m.\u001B[0m\u001B[0m_get_item_cache\u001B[0m\u001B[0;34m(\u001B[0m\u001B[0mkey\u001B[0m\u001B[0;34m)\u001B[0m\u001B[0;34m\u001B[0m\u001B[0;34m\u001B[0m\u001B[0m\n\u001B[0m\u001B[1;32m   2879\u001B[0m \u001B[0;34m\u001B[0m\u001B[0m\n\u001B[1;32m   2880\u001B[0m         \u001B[0;31m# Do we have a slicer (on rows)?\u001B[0m\u001B[0;34m\u001B[0m\u001B[0;34m\u001B[0m\u001B[0;34m\u001B[0m\u001B[0m\n",
      "\u001B[0;32m~/.conda/envs/introduction/lib/python3.8/site-packages/pandas/core/generic.py\u001B[0m in \u001B[0;36m_get_item_cache\u001B[0;34m(self, item)\u001B[0m\n\u001B[1;32m   3539\u001B[0m \u001B[0;34m\u001B[0m\u001B[0m\n\u001B[1;32m   3540\u001B[0m             \u001B[0mloc\u001B[0m \u001B[0;34m=\u001B[0m \u001B[0mself\u001B[0m\u001B[0;34m.\u001B[0m\u001B[0mcolumns\u001B[0m\u001B[0;34m.\u001B[0m\u001B[0mget_loc\u001B[0m\u001B[0;34m(\u001B[0m\u001B[0mitem\u001B[0m\u001B[0;34m)\u001B[0m\u001B[0;34m\u001B[0m\u001B[0;34m\u001B[0m\u001B[0m\n\u001B[0;32m-> 3541\u001B[0;31m             \u001B[0mvalues\u001B[0m \u001B[0;34m=\u001B[0m \u001B[0mself\u001B[0m\u001B[0;34m.\u001B[0m\u001B[0m_mgr\u001B[0m\u001B[0;34m.\u001B[0m\u001B[0miget\u001B[0m\u001B[0;34m(\u001B[0m\u001B[0mloc\u001B[0m\u001B[0;34m)\u001B[0m\u001B[0;34m\u001B[0m\u001B[0;34m\u001B[0m\u001B[0m\n\u001B[0m\u001B[1;32m   3542\u001B[0m             \u001B[0mres\u001B[0m \u001B[0;34m=\u001B[0m \u001B[0mself\u001B[0m\u001B[0;34m.\u001B[0m\u001B[0m_box_col_values\u001B[0m\u001B[0;34m(\u001B[0m\u001B[0mvalues\u001B[0m\u001B[0;34m,\u001B[0m \u001B[0mloc\u001B[0m\u001B[0;34m)\u001B[0m\u001B[0;34m\u001B[0m\u001B[0;34m\u001B[0m\u001B[0m\n\u001B[1;32m   3543\u001B[0m \u001B[0;34m\u001B[0m\u001B[0m\n",
      "\u001B[0;32m~/.conda/envs/introduction/lib/python3.8/site-packages/pandas/core/internals/managers.py\u001B[0m in \u001B[0;36miget\u001B[0;34m(self, i)\u001B[0m\n\u001B[1;32m    986\u001B[0m         \u001B[0mReturn\u001B[0m \u001B[0mthe\u001B[0m \u001B[0mdata\u001B[0m \u001B[0;32mas\u001B[0m \u001B[0ma\u001B[0m \u001B[0mSingleBlockManager\u001B[0m\u001B[0;34m.\u001B[0m\u001B[0;34m\u001B[0m\u001B[0;34m\u001B[0m\u001B[0m\n\u001B[1;32m    987\u001B[0m         \"\"\"\n\u001B[0;32m--> 988\u001B[0;31m         \u001B[0mblock\u001B[0m \u001B[0;34m=\u001B[0m \u001B[0mself\u001B[0m\u001B[0;34m.\u001B[0m\u001B[0mblocks\u001B[0m\u001B[0;34m[\u001B[0m\u001B[0mself\u001B[0m\u001B[0;34m.\u001B[0m\u001B[0mblknos\u001B[0m\u001B[0;34m[\u001B[0m\u001B[0mi\u001B[0m\u001B[0;34m]\u001B[0m\u001B[0;34m]\u001B[0m\u001B[0;34m\u001B[0m\u001B[0;34m\u001B[0m\u001B[0m\n\u001B[0m\u001B[1;32m    989\u001B[0m         \u001B[0mvalues\u001B[0m \u001B[0;34m=\u001B[0m \u001B[0mblock\u001B[0m\u001B[0;34m.\u001B[0m\u001B[0miget\u001B[0m\u001B[0;34m(\u001B[0m\u001B[0mself\u001B[0m\u001B[0;34m.\u001B[0m\u001B[0mblklocs\u001B[0m\u001B[0;34m[\u001B[0m\u001B[0mi\u001B[0m\u001B[0;34m]\u001B[0m\u001B[0;34m)\u001B[0m\u001B[0;34m\u001B[0m\u001B[0;34m\u001B[0m\u001B[0m\n\u001B[1;32m    990\u001B[0m \u001B[0;34m\u001B[0m\u001B[0m\n",
      "\u001B[0;31mTypeError\u001B[0m: only integer scalar arrays can be converted to a scalar index"
     ]
    }
   ],
   "source": [
    "spy_returns = returns[\"SPY\"]"
   ],
   "metadata": {
    "collapsed": false,
    "pycharm": {
     "name": "#%%\n"
    }
   }
  },
  {
   "cell_type": "markdown",
   "metadata": {
    "pycharm": {
     "name": "#%% md\n",
     "is_executing": true
    }
   },
   "source": [
    "this is not working: check later\n",
    "\n",
    "```python\n",
    "spy_returns = returns[\"SPY\"]\n",
    "aapl_returns = returns[\"AAPL\"]\n",
    "goog_returns = returns.goog\n",
    "```"
   ],
   "outputs": [
    {
     "ename": "NameError",
     "evalue": "name 'this' is not defined",
     "output_type": "error",
     "traceback": [
      "\u001B[0;31m---------------------------------------------------------------------------\u001B[0m",
      "\u001B[0;31mNameError\u001B[0m                                 Traceback (most recent call last)",
      "\u001B[0;32m<ipython-input-42-b6a2711c87d5>\u001B[0m in \u001B[0;36m<module>\u001B[0;34m\u001B[0m\n\u001B[0;32m----> 1\u001B[0;31m \u001B[0mthis\u001B[0m \u001B[0;32mis\u001B[0m \u001B[0;32mnot\u001B[0m \u001B[0mworking\u001B[0m\u001B[0;34m\u001B[0m\u001B[0;34m\u001B[0m\u001B[0m\n\u001B[0m\u001B[1;32m      2\u001B[0m \u001B[0;31m#spy_returns = returns[\"SPY\"]\u001B[0m\u001B[0;34m\u001B[0m\u001B[0;34m\u001B[0m\u001B[0;34m\u001B[0m\u001B[0m\n\u001B[1;32m      3\u001B[0m \u001B[0;31m#aapl_returns = returns[\"AAPL\"]\u001B[0m\u001B[0;34m\u001B[0m\u001B[0;34m\u001B[0m\u001B[0;34m\u001B[0m\u001B[0m\n\u001B[1;32m      4\u001B[0m \u001B[0;31m#goog_returns = returns.goog\u001B[0m\u001B[0;34m\u001B[0m\u001B[0;34m\u001B[0m\u001B[0;34m\u001B[0m\u001B[0m\n\u001B[1;32m      5\u001B[0m \u001B[0;34m\u001B[0m\u001B[0m\n",
      "\u001B[0;31mNameError\u001B[0m: name 'this' is not defined"
     ]
    }
   ]
  },
  {
   "cell_type": "markdown",
   "source": [
    "Tried this as well, didn't help\n",
    "```python\n",
    "returns = pd.DataFrame(returns)\n",
    "spy_returns = returns[\"SPY\"]\n",
    "```"
   ],
   "metadata": {
    "collapsed": false,
    "pycharm": {
     "name": "#%% md\n"
    }
   }
  },
  {
   "cell_type": "markdown",
   "metadata": {},
   "source": [
    "## Problem: Compute Log Returns\n",
    "\n",
    "```python\n",
    "import numpy as np\n",
    "\n",
    "log_returns = np.log(prices).diff()\n",
    "```\n",
    "\n",
    "first difference of the natural log of the prices. Mathematically this is \n",
    "$r_{t}=\\ln\\left(P_{t}\\right)-\\ln\\left(P_{t-1}\\right)=\\ln\\left(\\frac{P_{t}}{P_{t-1}}\\right)\\approx\\frac{P_{t}}{P_{t-1}}-1$."
   ]
  },
  {
   "cell_type": "code",
   "execution_count": 32,
   "metadata": {},
   "outputs": [
    {
     "data": {
      "text/plain": "                 SPY      AAPL      GOOG\n2018-09-05 -0.002695 -0.006546 -0.008827\n2018-09-06 -0.003015 -0.016757 -0.012757\n2018-09-07 -0.001945 -0.008101 -0.005659\n2018-09-10  0.001737 -0.013512 -0.000163\n2018-09-11  0.003292  0.024969  0.010863\n2018-09-12  0.000242 -0.012497 -0.012427\n2018-09-13  0.005897  0.023868  0.010701\n2018-09-14  0.000172 -0.011416 -0.002385\n2018-09-17 -0.005308 -0.026987 -0.014155\n2018-09-18  0.005411  0.001651  0.004462\n2018-09-19  0.001820 -0.007358 -0.002103",
      "text/html": "<div>\n<style scoped>\n    .dataframe tbody tr th:only-of-type {\n        vertical-align: middle;\n    }\n\n    .dataframe tbody tr th {\n        vertical-align: top;\n    }\n\n    .dataframe thead tr th {\n        text-align: left;\n    }\n</style>\n<table border=\"1\" class=\"dataframe\">\n  <thead>\n    <tr>\n      <th></th>\n      <th>SPY</th>\n      <th>AAPL</th>\n      <th>GOOG</th>\n    </tr>\n  </thead>\n  <tbody>\n    <tr>\n      <th>2018-09-05</th>\n      <td>-0.002695</td>\n      <td>-0.006546</td>\n      <td>-0.008827</td>\n    </tr>\n    <tr>\n      <th>2018-09-06</th>\n      <td>-0.003015</td>\n      <td>-0.016757</td>\n      <td>-0.012757</td>\n    </tr>\n    <tr>\n      <th>2018-09-07</th>\n      <td>-0.001945</td>\n      <td>-0.008101</td>\n      <td>-0.005659</td>\n    </tr>\n    <tr>\n      <th>2018-09-10</th>\n      <td>0.001737</td>\n      <td>-0.013512</td>\n      <td>-0.000163</td>\n    </tr>\n    <tr>\n      <th>2018-09-11</th>\n      <td>0.003292</td>\n      <td>0.024969</td>\n      <td>0.010863</td>\n    </tr>\n    <tr>\n      <th>2018-09-12</th>\n      <td>0.000242</td>\n      <td>-0.012497</td>\n      <td>-0.012427</td>\n    </tr>\n    <tr>\n      <th>2018-09-13</th>\n      <td>0.005897</td>\n      <td>0.023868</td>\n      <td>0.010701</td>\n    </tr>\n    <tr>\n      <th>2018-09-14</th>\n      <td>0.000172</td>\n      <td>-0.011416</td>\n      <td>-0.002385</td>\n    </tr>\n    <tr>\n      <th>2018-09-17</th>\n      <td>-0.005308</td>\n      <td>-0.026987</td>\n      <td>-0.014155</td>\n    </tr>\n    <tr>\n      <th>2018-09-18</th>\n      <td>0.005411</td>\n      <td>0.001651</td>\n      <td>0.004462</td>\n    </tr>\n    <tr>\n      <th>2018-09-19</th>\n      <td>0.001820</td>\n      <td>-0.007358</td>\n      <td>-0.002103</td>\n    </tr>\n  </tbody>\n</table>\n</div>"
     },
     "execution_count": 32,
     "metadata": {},
     "output_type": "execute_result"
    }
   ],
   "source": [
    "import numpy as np\n",
    "log_prices = np.log(prices)\n",
    "log_prices.head()\n",
    "\n",
    "log_returns = log_prices.diff().dropna()\n",
    "log_returns\n",
    "\n",
    "# takes the log of prices then applies the difference, and drops missing values\n",
    "# can also be done as a single operator\n",
    "# log_returns = np.log(prices).diff().dropna()"
   ]
  },
  {
   "cell_type": "markdown",
   "metadata": {
    "pycharm": {
     "name": "#%% md\n"
    }
   },
   "source": [
    "## Basic Mathematical Operations\n",
    "\n",
    "|  Operation            | Symbol | Precedence |\n",
    "|:----------------------|:------:|:----------:|\n",
    "| Parentheses           | ()     | 4          |\n",
    "| Exponentiation        | **     | 3          |\n",
    "| Multiplication        | *      | 2          | \n",
    "| Division              | /      | 2          |\n",
    "| Floor division        | //     | 2          |\n",
    "| Modulus               | %      | 2          | \n",
    "| Matrix multiplication | @      | 2          |\n",
    "| Addition              | +      | 1          |\n",
    "| Subtraction           | -      | 1          |\n",
    "\n",
    "**Note**: Higher precedence operators are evaluated first, and ties are\n",
    "evaluated left to right. \n",
    "\n",
    "\n",
    "## Problem: Scalar Operations\n",
    "1. Add 1 to all returns\n",
    "2. Square the returns\n",
    "3. Multiply the price of Google by 2. \n",
    "4. Extract the fractional return using floor division and modulus"
   ]
  },
  {
   "cell_type": "code",
   "execution_count": 54,
   "metadata": {},
   "outputs": [],
   "source": [
    "returns_1 = returns + 1\n",
    "\n",
    "\n",
    "returns_2 = returns ** 2\n",
    "\n",
    "## prices[\"GOOG\"] = 2 * prices[\"GOOG\"] - not working"
   ]
  },
  {
   "cell_type": "code",
   "execution_count": 52,
   "metadata": {},
   "outputs": [
    {
     "data": {
      "text/plain": "            SPY AAPL GOOG\n2018-09-05 -1.0 -1.0 -1.0\n2018-09-06 -1.0 -1.0 -1.0\n2018-09-07 -1.0 -1.0 -1.0\n2018-09-10  0.0 -1.0 -1.0\n2018-09-11  0.0  0.0  0.0\n2018-09-12  0.0 -1.0 -1.0\n2018-09-13  0.0  0.0  0.0\n2018-09-14  0.0 -1.0 -1.0\n2018-09-17 -1.0 -1.0 -1.0\n2018-09-18  0.0  0.0  0.0\n2018-09-19  0.0 -1.0 -1.0",
      "text/html": "<div>\n<style scoped>\n    .dataframe tbody tr th:only-of-type {\n        vertical-align: middle;\n    }\n\n    .dataframe tbody tr th {\n        vertical-align: top;\n    }\n\n    .dataframe thead tr th {\n        text-align: left;\n    }\n</style>\n<table border=\"1\" class=\"dataframe\">\n  <thead>\n    <tr>\n      <th></th>\n      <th>SPY</th>\n      <th>AAPL</th>\n      <th>GOOG</th>\n    </tr>\n  </thead>\n  <tbody>\n    <tr>\n      <th>2018-09-05</th>\n      <td>-1.0</td>\n      <td>-1.0</td>\n      <td>-1.0</td>\n    </tr>\n    <tr>\n      <th>2018-09-06</th>\n      <td>-1.0</td>\n      <td>-1.0</td>\n      <td>-1.0</td>\n    </tr>\n    <tr>\n      <th>2018-09-07</th>\n      <td>-1.0</td>\n      <td>-1.0</td>\n      <td>-1.0</td>\n    </tr>\n    <tr>\n      <th>2018-09-10</th>\n      <td>0.0</td>\n      <td>-1.0</td>\n      <td>-1.0</td>\n    </tr>\n    <tr>\n      <th>2018-09-11</th>\n      <td>0.0</td>\n      <td>0.0</td>\n      <td>0.0</td>\n    </tr>\n    <tr>\n      <th>2018-09-12</th>\n      <td>0.0</td>\n      <td>-1.0</td>\n      <td>-1.0</td>\n    </tr>\n    <tr>\n      <th>2018-09-13</th>\n      <td>0.0</td>\n      <td>0.0</td>\n      <td>0.0</td>\n    </tr>\n    <tr>\n      <th>2018-09-14</th>\n      <td>0.0</td>\n      <td>-1.0</td>\n      <td>-1.0</td>\n    </tr>\n    <tr>\n      <th>2018-09-17</th>\n      <td>-1.0</td>\n      <td>-1.0</td>\n      <td>-1.0</td>\n    </tr>\n    <tr>\n      <th>2018-09-18</th>\n      <td>0.0</td>\n      <td>0.0</td>\n      <td>0.0</td>\n    </tr>\n    <tr>\n      <th>2018-09-19</th>\n      <td>0.0</td>\n      <td>-1.0</td>\n      <td>-1.0</td>\n    </tr>\n  </tbody>\n</table>\n</div>"
     },
     "execution_count": 52,
     "metadata": {},
     "output_type": "execute_result"
    }
   ],
   "source": [
    "returns // 1\n",
    "# integer division"
   ]
  },
  {
   "cell_type": "code",
   "execution_count": 48,
   "metadata": {},
   "outputs": [
    {
     "data": {
      "text/plain": "                 SPY      AAPL      GOOG\n2018-09-05  0.997309  0.993475  0.991211\n2018-09-06  0.996990  0.983383  0.987324\n2018-09-07  0.998057  0.991932  0.994357\n2018-09-10  0.001739  0.986579  0.999837\n2018-09-11  0.003297  0.025283  0.010922\n2018-09-12  0.000242  0.987581  0.987650\n2018-09-13  0.005914  0.024155  0.010758\n2018-09-14  0.000172  0.988649  0.997618\n2018-09-17  0.994706  0.973374  0.985945\n2018-09-18  0.005426  0.001652  0.004472\n2018-09-19  0.001822  0.992669  0.997899",
      "text/html": "<div>\n<style scoped>\n    .dataframe tbody tr th:only-of-type {\n        vertical-align: middle;\n    }\n\n    .dataframe tbody tr th {\n        vertical-align: top;\n    }\n\n    .dataframe thead tr th {\n        text-align: left;\n    }\n</style>\n<table border=\"1\" class=\"dataframe\">\n  <thead>\n    <tr>\n      <th></th>\n      <th>SPY</th>\n      <th>AAPL</th>\n      <th>GOOG</th>\n    </tr>\n  </thead>\n  <tbody>\n    <tr>\n      <th>2018-09-05</th>\n      <td>0.997309</td>\n      <td>0.993475</td>\n      <td>0.991211</td>\n    </tr>\n    <tr>\n      <th>2018-09-06</th>\n      <td>0.996990</td>\n      <td>0.983383</td>\n      <td>0.987324</td>\n    </tr>\n    <tr>\n      <th>2018-09-07</th>\n      <td>0.998057</td>\n      <td>0.991932</td>\n      <td>0.994357</td>\n    </tr>\n    <tr>\n      <th>2018-09-10</th>\n      <td>0.001739</td>\n      <td>0.986579</td>\n      <td>0.999837</td>\n    </tr>\n    <tr>\n      <th>2018-09-11</th>\n      <td>0.003297</td>\n      <td>0.025283</td>\n      <td>0.010922</td>\n    </tr>\n    <tr>\n      <th>2018-09-12</th>\n      <td>0.000242</td>\n      <td>0.987581</td>\n      <td>0.987650</td>\n    </tr>\n    <tr>\n      <th>2018-09-13</th>\n      <td>0.005914</td>\n      <td>0.024155</td>\n      <td>0.010758</td>\n    </tr>\n    <tr>\n      <th>2018-09-14</th>\n      <td>0.000172</td>\n      <td>0.988649</td>\n      <td>0.997618</td>\n    </tr>\n    <tr>\n      <th>2018-09-17</th>\n      <td>0.994706</td>\n      <td>0.973374</td>\n      <td>0.985945</td>\n    </tr>\n    <tr>\n      <th>2018-09-18</th>\n      <td>0.005426</td>\n      <td>0.001652</td>\n      <td>0.004472</td>\n    </tr>\n    <tr>\n      <th>2018-09-19</th>\n      <td>0.001822</td>\n      <td>0.992669</td>\n      <td>0.997899</td>\n    </tr>\n  </tbody>\n</table>\n</div>"
     },
     "execution_count": 48,
     "metadata": {},
     "output_type": "execute_result"
    }
   ],
   "source": [
    "returns % 1\n",
    "# % modulus operator - remainder after division by 1"
   ]
  },
  {
   "cell_type": "code",
   "execution_count": 53,
   "metadata": {},
   "outputs": [
    {
     "data": {
      "text/plain": "                 SPY      AAPL      GOOG\n2018-09-05  0.997309  0.993475  0.991211\n2018-09-06  0.996990  0.983383  0.987324\n2018-09-07  0.998057  0.991932  0.994357\n2018-09-10  0.001739  0.986579  0.999837\n2018-09-11  0.003297  0.025283  0.010922\n2018-09-12  0.000242  0.987581  0.987650\n2018-09-13  0.005914  0.024155  0.010758\n2018-09-14  0.000172  0.988649  0.997618\n2018-09-17  0.994706  0.973374  0.985945\n2018-09-18  0.005426  0.001652  0.004472\n2018-09-19  0.001822  0.992669  0.997899",
      "text/html": "<div>\n<style scoped>\n    .dataframe tbody tr th:only-of-type {\n        vertical-align: middle;\n    }\n\n    .dataframe tbody tr th {\n        vertical-align: top;\n    }\n\n    .dataframe thead tr th {\n        text-align: left;\n    }\n</style>\n<table border=\"1\" class=\"dataframe\">\n  <thead>\n    <tr>\n      <th></th>\n      <th>SPY</th>\n      <th>AAPL</th>\n      <th>GOOG</th>\n    </tr>\n  </thead>\n  <tbody>\n    <tr>\n      <th>2018-09-05</th>\n      <td>0.997309</td>\n      <td>0.993475</td>\n      <td>0.991211</td>\n    </tr>\n    <tr>\n      <th>2018-09-06</th>\n      <td>0.996990</td>\n      <td>0.983383</td>\n      <td>0.987324</td>\n    </tr>\n    <tr>\n      <th>2018-09-07</th>\n      <td>0.998057</td>\n      <td>0.991932</td>\n      <td>0.994357</td>\n    </tr>\n    <tr>\n      <th>2018-09-10</th>\n      <td>0.001739</td>\n      <td>0.986579</td>\n      <td>0.999837</td>\n    </tr>\n    <tr>\n      <th>2018-09-11</th>\n      <td>0.003297</td>\n      <td>0.025283</td>\n      <td>0.010922</td>\n    </tr>\n    <tr>\n      <th>2018-09-12</th>\n      <td>0.000242</td>\n      <td>0.987581</td>\n      <td>0.987650</td>\n    </tr>\n    <tr>\n      <th>2018-09-13</th>\n      <td>0.005914</td>\n      <td>0.024155</td>\n      <td>0.010758</td>\n    </tr>\n    <tr>\n      <th>2018-09-14</th>\n      <td>0.000172</td>\n      <td>0.988649</td>\n      <td>0.997618</td>\n    </tr>\n    <tr>\n      <th>2018-09-17</th>\n      <td>0.994706</td>\n      <td>0.973374</td>\n      <td>0.985945</td>\n    </tr>\n    <tr>\n      <th>2018-09-18</th>\n      <td>0.005426</td>\n      <td>0.001652</td>\n      <td>0.004472</td>\n    </tr>\n    <tr>\n      <th>2018-09-19</th>\n      <td>0.001822</td>\n      <td>0.992669</td>\n      <td>0.997899</td>\n    </tr>\n  </tbody>\n</table>\n</div>"
     },
     "execution_count": 53,
     "metadata": {},
     "output_type": "execute_result"
    }
   ],
   "source": [
    "returns - returns // 1\n"
   ]
  },
  {
   "cell_type": "code",
   "execution_count": 4,
   "metadata": {},
   "outputs": [],
   "source": []
  },
  {
   "cell_type": "markdown",
   "metadata": {},
   "source": [
    "## Problem: Addition of Series\n",
    "Add the returns on SPY to those of AAPL \n"
   ]
  },
  {
   "cell_type": "markdown",
   "metadata": {
    "pycharm": {
     "name": "#%% md\n"
    }
   },
   "source": [
    "```python\n",
    "returns.SPY + returns.AAPL\n",
    "```\n",
    "creates a new series with the same index (here, of dates)\n",
    "should work once I fix prior issue"
   ]
  },
  {
   "cell_type": "markdown",
   "metadata": {},
   "source": [
    "## Problem: Combining methods and mathematical operations\n",
    "Using only basic mathematical operations compute the \n",
    "correlation between the returns on AAPL and SPY. "
   ]
  },
  {
   "cell_type": "code",
   "execution_count": 4,
   "metadata": {},
   "outputs": [],
   "source": []
  },
  {
   "cell_type": "markdown",
   "metadata": {},
   "source": [
    "## Problem: Addition of DataFrames\n",
    "Construct a `DataFrame` that only contains the SPY column from returns\n",
    "and add it to the return `DataFrame`  "
   ]
  },
  {
   "cell_type": "code",
   "execution_count": 4,
   "metadata": {},
   "outputs": [],
   "source": []
  },
  {
   "cell_type": "markdown",
   "metadata": {},
   "source": [
    "## Problem: Non-conformable math\n",
    "\n",
    "Add the prices in `sep_04` to the prices of `goog`. What happens? "
   ]
  },
  {
   "cell_type": "code",
   "execution_count": 4,
   "metadata": {},
   "outputs": [],
   "source": []
  },
  {
   "cell_type": "markdown",
   "metadata": {},
   "source": [
    "## Problem: Constructing portfolio returns\n",
    "Set up a 3-element array of portfolio weights \n",
    "\n",
    "$$w=\\left(\\frac{1}{3},\\,\\frac{1}{3}\\,,\\frac{1}{3}\\right)$$\n",
    "\n",
    "and compute the return of a portfolio with weight $\\frac{1}{3}$ in each security.\n"
   ]
  },
  {
   "cell_type": "code",
   "execution_count": 4,
   "metadata": {},
   "outputs": [],
   "source": []
  },
  {
   "cell_type": "markdown",
   "metadata": {
    "pycharm": {
     "name": "#%% md\n"
    }
   },
   "source": [
    "## Exercises\n",
    "\n",
    "### Exercise: Combine math with function\n",
    "\n",
    "Add 1 to the output of `np.arange` to produce the sequence 1, 2, ..., 10."
   ]
  },
  {
   "cell_type": "code",
   "execution_count": 4,
   "metadata": {},
   "outputs": [],
   "source": []
  },
  {
   "cell_type": "markdown",
   "metadata": {
    "pycharm": {
     "name": "#%% md\n"
    }
   },
   "source": [
    "### Exercise: Understand pandas math\n",
    "\n",
    "Use the `Series` and `DataFrame` below to compute the sums \n",
    "\n",
    "* `a+b`\n",
    "* `a+c`\n",
    "* `b+c`\n",
    "* `a+b+c`\n",
    "\n",
    "to understand how missing values are treated by pandas"
   ]
  },
  {
   "cell_type": "code",
   "execution_count": 5,
   "metadata": {
    "pycharm": {
     "name": "#%%\n"
    }
   },
   "outputs": [],
   "source": [
    "# Setup: Data for exercise\n",
    "import pandas as pd\n",
    "import numpy as np\n",
    "\n",
    "rs = np.random.RandomState(19991231)\n",
    "\n",
    "idx = [\"A\",\"a\",\"B\",3]\n",
    "columns = [\"A\",1,\"B\",3]\n",
    "a = pd.Series([1,2,3,4], index=idx)\n",
    "b = pd.Series([10,9,8,7], index=columns)\n",
    "values = rs.randint(1, 11, size=(4,4))\n",
    "c = pd.DataFrame(values, columns=columns, index=idx)"
   ]
  },
  {
   "cell_type": "code",
   "execution_count": 5,
   "metadata": {},
   "outputs": [],
   "source": []
  },
  {
   "cell_type": "code",
   "execution_count": 5,
   "metadata": {},
   "outputs": [],
   "source": []
  },
  {
   "cell_type": "code",
   "execution_count": 5,
   "metadata": {},
   "outputs": [],
   "source": []
  },
  {
   "cell_type": "code",
   "execution_count": 5,
   "metadata": {},
   "outputs": [],
   "source": []
  },
  {
   "cell_type": "markdown",
   "metadata": {},
   "source": [
    "### Exercise: Math with duplicates\n",
    "\n",
    "Add the Series `d` to `a` to see what happens with delays."
   ]
  },
  {
   "cell_type": "code",
   "execution_count": 6,
   "metadata": {
    "pycharm": {
     "name": "#%%\n"
    }
   },
   "outputs": [],
   "source": [
    "# Setup: Data for exercise\n",
    "\n",
    "d = pd.Series([10, 101], index=[\"A\",\"A\"])"
   ]
  },
  {
   "cell_type": "code",
   "execution_count": 6,
   "metadata": {},
   "outputs": [],
   "source": []
  }
 ],
 "metadata": {
  "file_extension": ".py",
  "kernelspec": {
   "display_name": "Python 3",
   "language": "python",
   "name": "python3"
  },
  "language_info": {
   "codemirror_mode": {
    "name": "ipython",
    "version": 3
   },
   "file_extension": ".py",
   "mimetype": "text/x-python",
   "name": "python",
   "nbconvert_exporter": "python",
   "pygments_lexer": "ipython3",
   "version": "3.7.4"
  },
  "mimetype": "text/x-python",
  "name": "python",
  "npconvert_exporter": "python",
  "pygments_lexer": "ipython3",
  "version": 3
 },
 "nbformat": 4,
 "nbformat_minor": 2
}