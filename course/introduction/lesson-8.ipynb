{
 "cells": [
  {
   "cell_type": "markdown",
   "metadata": {},
   "source": [
    "# Using DataFrames\n",
    "\n",
    "This lesson introduces:\n",
    "\n",
    "* Computing returns (percentage change)\n",
    "* Basic mathematical operations on DataFrames\n",
    "\n",
    "This first cell load data for use in this lesson."
   ]
  },
  {
   "cell_type": "code",
   "execution_count": 41,
   "metadata": {},
   "outputs": [],
   "source": [
    "# Setup: Load prices\n",
    "import pandas as pd\n",
    "prices = pd.read_hdf(\"data/dataframes.h5\", \"prices\")\n",
    "sep_04 = pd.read_hdf(\"data/dataframes.h5\", \"sep_04\")\n",
    "goog = pd.read_hdf(\"data/dataframes.h5\", \"goog\")"
   ]
  },
  {
   "cell_type": "code",
   "execution_count": 42,
   "outputs": [
    {
     "output_type": "execute_result",
     "data": {
      "text/plain": [
       "               SPY    AAPL     GOOG\n",
       "2018-04-09  289.81  228.36  1197.00\n",
       "2018-05-09  289.03  226.87  1186.48\n",
       "2018-06-09  288.16  223.10  1171.44\n",
       "2018-07-09  287.60  221.30  1164.83\n",
       "2018-10-09  288.10  218.33  1164.64\n",
       "2018-11-09  289.05  223.85  1177.36\n",
       "2018-12-09  289.12  221.07  1162.82\n",
       "2018-09-13  290.83  226.41  1175.33\n",
       "2018-09-14  290.88  223.84  1172.53\n",
       "2018-09-17  289.34  217.88  1156.05\n",
       "2018-09-18  290.91  218.24  1161.22\n",
       "2018-09-19  291.44  216.64  1158.78"
      ],
      "text/html": "<div>\n<style scoped>\n    .dataframe tbody tr th:only-of-type {\n        vertical-align: middle;\n    }\n\n    .dataframe tbody tr th {\n        vertical-align: top;\n    }\n\n    .dataframe thead th {\n        text-align: right;\n    }\n</style>\n<table border=\"1\" class=\"dataframe\">\n  <thead>\n    <tr style=\"text-align: right;\">\n      <th></th>\n      <th>SPY</th>\n      <th>AAPL</th>\n      <th>GOOG</th>\n    </tr>\n  </thead>\n  <tbody>\n    <tr>\n      <th>2018-04-09</th>\n      <td>289.81</td>\n      <td>228.36</td>\n      <td>1197.00</td>\n    </tr>\n    <tr>\n      <th>2018-05-09</th>\n      <td>289.03</td>\n      <td>226.87</td>\n      <td>1186.48</td>\n    </tr>\n    <tr>\n      <th>2018-06-09</th>\n      <td>288.16</td>\n      <td>223.10</td>\n      <td>1171.44</td>\n    </tr>\n    <tr>\n      <th>2018-07-09</th>\n      <td>287.60</td>\n      <td>221.30</td>\n      <td>1164.83</td>\n    </tr>\n    <tr>\n      <th>2018-10-09</th>\n      <td>288.10</td>\n      <td>218.33</td>\n      <td>1164.64</td>\n    </tr>\n    <tr>\n      <th>2018-11-09</th>\n      <td>289.05</td>\n      <td>223.85</td>\n      <td>1177.36</td>\n    </tr>\n    <tr>\n      <th>2018-12-09</th>\n      <td>289.12</td>\n      <td>221.07</td>\n      <td>1162.82</td>\n    </tr>\n    <tr>\n      <th>2018-09-13</th>\n      <td>290.83</td>\n      <td>226.41</td>\n      <td>1175.33</td>\n    </tr>\n    <tr>\n      <th>2018-09-14</th>\n      <td>290.88</td>\n      <td>223.84</td>\n      <td>1172.53</td>\n    </tr>\n    <tr>\n      <th>2018-09-17</th>\n      <td>289.34</td>\n      <td>217.88</td>\n      <td>1156.05</td>\n    </tr>\n    <tr>\n      <th>2018-09-18</th>\n      <td>290.91</td>\n      <td>218.24</td>\n      <td>1161.22</td>\n    </tr>\n    <tr>\n      <th>2018-09-19</th>\n      <td>291.44</td>\n      <td>216.64</td>\n      <td>1158.78</td>\n    </tr>\n  </tbody>\n</table>\n</div>"
     },
     "metadata": {},
     "execution_count": 42
    }
   ],
   "source": [
    "prices.columns:[\"SPY\", \"AAPL\", \"GOOG\"]\n",
    "prices"
   ],
   "metadata": {
    "collapsed": false,
    "pycharm": {
     "name": "#%%\n"
    }
   }
  },
  {
   "cell_type": "markdown",
   "metadata": {
    "pycharm": {
     "name": "#%% md\n"
    }
   },
   "source": [
    "## Problem: Compute Returns\n",
    "\n",
    "Compute returns using \n",
    "\n",
    "```python\n",
    "returns = prices.pct_change()\n",
    "```\n",
    "\n",
    "which computes the percentage change.\n",
    "\n",
    "Additionally, extract returns for each name using \n",
    "\n",
    "```python\n",
    "spy_returns = returns[\"SPY\"]\n",
    "```"
   ]
  },
  {
   "cell_type": "code",
   "execution_count": 43,
   "metadata": {},
   "outputs": [
    {
     "output_type": "execute_result",
     "data": {
      "text/plain": [
       "                 SPY      AAPL      GOOG\n",
       "2018-04-09       NaN       NaN       NaN\n",
       "2018-05-09 -0.002691 -0.006525 -0.008789\n",
       "2018-06-09 -0.003010 -0.016617 -0.012676\n",
       "2018-07-09 -0.001943 -0.008068 -0.005643\n",
       "2018-10-09  0.001739 -0.013421 -0.000163"
      ],
      "text/html": "<div>\n<style scoped>\n    .dataframe tbody tr th:only-of-type {\n        vertical-align: middle;\n    }\n\n    .dataframe tbody tr th {\n        vertical-align: top;\n    }\n\n    .dataframe thead th {\n        text-align: right;\n    }\n</style>\n<table border=\"1\" class=\"dataframe\">\n  <thead>\n    <tr style=\"text-align: right;\">\n      <th></th>\n      <th>SPY</th>\n      <th>AAPL</th>\n      <th>GOOG</th>\n    </tr>\n  </thead>\n  <tbody>\n    <tr>\n      <th>2018-04-09</th>\n      <td>NaN</td>\n      <td>NaN</td>\n      <td>NaN</td>\n    </tr>\n    <tr>\n      <th>2018-05-09</th>\n      <td>-0.002691</td>\n      <td>-0.006525</td>\n      <td>-0.008789</td>\n    </tr>\n    <tr>\n      <th>2018-06-09</th>\n      <td>-0.003010</td>\n      <td>-0.016617</td>\n      <td>-0.012676</td>\n    </tr>\n    <tr>\n      <th>2018-07-09</th>\n      <td>-0.001943</td>\n      <td>-0.008068</td>\n      <td>-0.005643</td>\n    </tr>\n    <tr>\n      <th>2018-10-09</th>\n      <td>0.001739</td>\n      <td>-0.013421</td>\n      <td>-0.000163</td>\n    </tr>\n  </tbody>\n</table>\n</div>"
     },
     "metadata": {},
     "execution_count": 43
    }
   ],
   "source": [
    "returns = prices.pct_change()\n",
    "returns.head()\n",
    "\n",
    "\n"
   ]
  },
  {
   "cell_type": "code",
   "execution_count": 44,
   "metadata": {},
   "outputs": [
    {
     "output_type": "execute_result",
     "data": {
      "text/plain": [
       "                 SPY      AAPL      GOOG\n",
       "2018-05-09 -0.002691 -0.006525 -0.008789\n",
       "2018-06-09 -0.003010 -0.016617 -0.012676\n",
       "2018-07-09 -0.001943 -0.008068 -0.005643\n",
       "2018-10-09  0.001739 -0.013421 -0.000163\n",
       "2018-11-09  0.003297  0.025283  0.010922"
      ],
      "text/html": "<div>\n<style scoped>\n    .dataframe tbody tr th:only-of-type {\n        vertical-align: middle;\n    }\n\n    .dataframe tbody tr th {\n        vertical-align: top;\n    }\n\n    .dataframe thead th {\n        text-align: right;\n    }\n</style>\n<table border=\"1\" class=\"dataframe\">\n  <thead>\n    <tr style=\"text-align: right;\">\n      <th></th>\n      <th>SPY</th>\n      <th>AAPL</th>\n      <th>GOOG</th>\n    </tr>\n  </thead>\n  <tbody>\n    <tr>\n      <th>2018-05-09</th>\n      <td>-0.002691</td>\n      <td>-0.006525</td>\n      <td>-0.008789</td>\n    </tr>\n    <tr>\n      <th>2018-06-09</th>\n      <td>-0.003010</td>\n      <td>-0.016617</td>\n      <td>-0.012676</td>\n    </tr>\n    <tr>\n      <th>2018-07-09</th>\n      <td>-0.001943</td>\n      <td>-0.008068</td>\n      <td>-0.005643</td>\n    </tr>\n    <tr>\n      <th>2018-10-09</th>\n      <td>0.001739</td>\n      <td>-0.013421</td>\n      <td>-0.000163</td>\n    </tr>\n    <tr>\n      <th>2018-11-09</th>\n      <td>0.003297</td>\n      <td>0.025283</td>\n      <td>0.010922</td>\n    </tr>\n  </tbody>\n</table>\n</div>"
     },
     "metadata": {},
     "execution_count": 44
    }
   ],
   "source": [
    "returns = returns.dropna()\n",
    "returns.head()"
   ]
  },
  {
   "cell_type": "code",
   "source": [
    "spy_returns = returns[\"SPY\"]\n"
   ],
   "metadata": {
    "collapsed": false,
    "pycharm": {
     "name": "#%%\n"
    }
   },
   "execution_count": 45,
   "outputs": []
  },
  {
   "cell_type": "code",
   "metadata": {
    "pycharm": {
     "name": "#%%\n"
    }
   },
   "source": [
    "#this is not working: check later\n",
    "\n",
    "#```python\n",
    "spy_returns = returns[\"SPY\"]\n",
    "aapl_returns = returns[\"AAPL\"]\n",
    "goog_returns = returns.GOOG\n",
    "#```\n"
   ],
   "execution_count": 46,
   "outputs": []
  },
  {
   "cell_type": "markdown",
   "metadata": {},
   "source": [
    "## Problem: Compute Log Returns\n",
    "\n",
    "```python\n",
    "import numpy as np\n",
    "\n",
    "log_returns = np.log(prices).diff()\n",
    "```\n",
    "\n",
    "first difference of the natural log of the prices. Mathematically this is \n",
    "$r_{t}=\\ln\\left(P_{t}\\right)-\\ln\\left(P_{t-1}\\right)=\\ln\\left(\\frac{P_{t}}{P_{t-1}}\\right)\\approx\\frac{P_{t}}{P_{t-1}}-1$."
   ]
  },
  {
   "cell_type": "code",
   "execution_count": 47,
   "metadata": {},
   "outputs": [
    {
     "output_type": "execute_result",
     "data": {
      "text/plain": [
       "                 SPY      AAPL      GOOG\n",
       "2018-05-09 -0.002695 -0.006546 -0.008827\n",
       "2018-06-09 -0.003015 -0.016757 -0.012757\n",
       "2018-07-09 -0.001945 -0.008101 -0.005659\n",
       "2018-10-09  0.001737 -0.013512 -0.000163\n",
       "2018-11-09  0.003292  0.024969  0.010863\n",
       "2018-12-09  0.000242 -0.012497 -0.012427\n",
       "2018-09-13  0.005897  0.023868  0.010701\n",
       "2018-09-14  0.000172 -0.011416 -0.002385\n",
       "2018-09-17 -0.005308 -0.026987 -0.014155\n",
       "2018-09-18  0.005411  0.001651  0.004462\n",
       "2018-09-19  0.001820 -0.007358 -0.002103"
      ],
      "text/html": "<div>\n<style scoped>\n    .dataframe tbody tr th:only-of-type {\n        vertical-align: middle;\n    }\n\n    .dataframe tbody tr th {\n        vertical-align: top;\n    }\n\n    .dataframe thead th {\n        text-align: right;\n    }\n</style>\n<table border=\"1\" class=\"dataframe\">\n  <thead>\n    <tr style=\"text-align: right;\">\n      <th></th>\n      <th>SPY</th>\n      <th>AAPL</th>\n      <th>GOOG</th>\n    </tr>\n  </thead>\n  <tbody>\n    <tr>\n      <th>2018-05-09</th>\n      <td>-0.002695</td>\n      <td>-0.006546</td>\n      <td>-0.008827</td>\n    </tr>\n    <tr>\n      <th>2018-06-09</th>\n      <td>-0.003015</td>\n      <td>-0.016757</td>\n      <td>-0.012757</td>\n    </tr>\n    <tr>\n      <th>2018-07-09</th>\n      <td>-0.001945</td>\n      <td>-0.008101</td>\n      <td>-0.005659</td>\n    </tr>\n    <tr>\n      <th>2018-10-09</th>\n      <td>0.001737</td>\n      <td>-0.013512</td>\n      <td>-0.000163</td>\n    </tr>\n    <tr>\n      <th>2018-11-09</th>\n      <td>0.003292</td>\n      <td>0.024969</td>\n      <td>0.010863</td>\n    </tr>\n    <tr>\n      <th>2018-12-09</th>\n      <td>0.000242</td>\n      <td>-0.012497</td>\n      <td>-0.012427</td>\n    </tr>\n    <tr>\n      <th>2018-09-13</th>\n      <td>0.005897</td>\n      <td>0.023868</td>\n      <td>0.010701</td>\n    </tr>\n    <tr>\n      <th>2018-09-14</th>\n      <td>0.000172</td>\n      <td>-0.011416</td>\n      <td>-0.002385</td>\n    </tr>\n    <tr>\n      <th>2018-09-17</th>\n      <td>-0.005308</td>\n      <td>-0.026987</td>\n      <td>-0.014155</td>\n    </tr>\n    <tr>\n      <th>2018-09-18</th>\n      <td>0.005411</td>\n      <td>0.001651</td>\n      <td>0.004462</td>\n    </tr>\n    <tr>\n      <th>2018-09-19</th>\n      <td>0.001820</td>\n      <td>-0.007358</td>\n      <td>-0.002103</td>\n    </tr>\n  </tbody>\n</table>\n</div>"
     },
     "metadata": {},
     "execution_count": 47
    }
   ],
   "source": [
    "import numpy as np\n",
    "log_prices = np.log(prices)\n",
    "log_prices.head()\n",
    "\n",
    "log_returns = log_prices.diff().dropna()\n",
    "log_returns\n",
    "\n",
    "# takes the log of prices then applies the difference, and drops missing values\n",
    "# can also be done as a single operator\n",
    "# log_returns = np.log(prices).diff().dropna()"
   ]
  },
  {
   "cell_type": "markdown",
   "metadata": {
    "pycharm": {
     "name": "#%% md\n"
    }
   },
   "source": [
    "## Basic Mathematical Operations\n",
    "\n",
    "|  Operation            | Symbol | Precedence |\n",
    "|:----------------------|:------:|:----------:|\n",
    "| Parentheses           | ()     | 4          |\n",
    "| Exponentiation        | **     | 3          |\n",
    "| Multiplication        | *      | 2          | \n",
    "| Division              | /      | 2          |\n",
    "| Floor division        | //     | 2          |\n",
    "| Modulus               | %      | 2          | \n",
    "| Matrix multiplication | @      | 2          |\n",
    "| Addition              | +      | 1          |\n",
    "| Subtraction           | -      | 1          |\n",
    "\n",
    "**Note**: Higher precedence operators are evaluated first, and ties are\n",
    "evaluated left to right. \n",
    "\n",
    "\n",
    "## Problem: Scalar Operations\n",
    "1. Add 1 to all returns\n",
    "2. Square the returns\n",
    "3. Multiply the price of Google by 2. \n",
    "4. Extract the fractional return using floor division and modulus"
   ]
  },
  {
   "cell_type": "code",
   "execution_count": 48,
   "metadata": {},
   "outputs": [],
   "source": [
    "returns_1 = returns + 1\n",
    "\n",
    "\n",
    "returns_2 = returns ** 2\n",
    "\n",
    "prices[\"GOOG\"] = 2 * prices[\"GOOG\"]"
   ]
  },
  {
   "cell_type": "code",
   "execution_count": 49,
   "metadata": {},
   "outputs": [
    {
     "output_type": "execute_result",
     "data": {
      "text/plain": [
       "            SPY  AAPL  GOOG\n",
       "2018-05-09 -1.0  -1.0  -1.0\n",
       "2018-06-09 -1.0  -1.0  -1.0\n",
       "2018-07-09 -1.0  -1.0  -1.0\n",
       "2018-10-09  0.0  -1.0  -1.0\n",
       "2018-11-09  0.0   0.0   0.0\n",
       "2018-12-09  0.0  -1.0  -1.0\n",
       "2018-09-13  0.0   0.0   0.0\n",
       "2018-09-14  0.0  -1.0  -1.0\n",
       "2018-09-17 -1.0  -1.0  -1.0\n",
       "2018-09-18  0.0   0.0   0.0\n",
       "2018-09-19  0.0  -1.0  -1.0"
      ],
      "text/html": "<div>\n<style scoped>\n    .dataframe tbody tr th:only-of-type {\n        vertical-align: middle;\n    }\n\n    .dataframe tbody tr th {\n        vertical-align: top;\n    }\n\n    .dataframe thead th {\n        text-align: right;\n    }\n</style>\n<table border=\"1\" class=\"dataframe\">\n  <thead>\n    <tr style=\"text-align: right;\">\n      <th></th>\n      <th>SPY</th>\n      <th>AAPL</th>\n      <th>GOOG</th>\n    </tr>\n  </thead>\n  <tbody>\n    <tr>\n      <th>2018-05-09</th>\n      <td>-1.0</td>\n      <td>-1.0</td>\n      <td>-1.0</td>\n    </tr>\n    <tr>\n      <th>2018-06-09</th>\n      <td>-1.0</td>\n      <td>-1.0</td>\n      <td>-1.0</td>\n    </tr>\n    <tr>\n      <th>2018-07-09</th>\n      <td>-1.0</td>\n      <td>-1.0</td>\n      <td>-1.0</td>\n    </tr>\n    <tr>\n      <th>2018-10-09</th>\n      <td>0.0</td>\n      <td>-1.0</td>\n      <td>-1.0</td>\n    </tr>\n    <tr>\n      <th>2018-11-09</th>\n      <td>0.0</td>\n      <td>0.0</td>\n      <td>0.0</td>\n    </tr>\n    <tr>\n      <th>2018-12-09</th>\n      <td>0.0</td>\n      <td>-1.0</td>\n      <td>-1.0</td>\n    </tr>\n    <tr>\n      <th>2018-09-13</th>\n      <td>0.0</td>\n      <td>0.0</td>\n      <td>0.0</td>\n    </tr>\n    <tr>\n      <th>2018-09-14</th>\n      <td>0.0</td>\n      <td>-1.0</td>\n      <td>-1.0</td>\n    </tr>\n    <tr>\n      <th>2018-09-17</th>\n      <td>-1.0</td>\n      <td>-1.0</td>\n      <td>-1.0</td>\n    </tr>\n    <tr>\n      <th>2018-09-18</th>\n      <td>0.0</td>\n      <td>0.0</td>\n      <td>0.0</td>\n    </tr>\n    <tr>\n      <th>2018-09-19</th>\n      <td>0.0</td>\n      <td>-1.0</td>\n      <td>-1.0</td>\n    </tr>\n  </tbody>\n</table>\n</div>"
     },
     "metadata": {},
     "execution_count": 49
    }
   ],
   "source": [
    "returns // 1\n",
    "# integer division"
   ]
  },
  {
   "cell_type": "code",
   "execution_count": 50,
   "metadata": {},
   "outputs": [
    {
     "output_type": "execute_result",
     "data": {
      "text/plain": [
       "                 SPY      AAPL      GOOG\n",
       "2018-05-09  0.997309  0.993475  0.991211\n",
       "2018-06-09  0.996990  0.983383  0.987324\n",
       "2018-07-09  0.998057  0.991932  0.994357\n",
       "2018-10-09  0.001739  0.986579  0.999837\n",
       "2018-11-09  0.003297  0.025283  0.010922\n",
       "2018-12-09  0.000242  0.987581  0.987650\n",
       "2018-09-13  0.005914  0.024155  0.010758\n",
       "2018-09-14  0.000172  0.988649  0.997618\n",
       "2018-09-17  0.994706  0.973374  0.985945\n",
       "2018-09-18  0.005426  0.001652  0.004472\n",
       "2018-09-19  0.001822  0.992669  0.997899"
      ],
      "text/html": "<div>\n<style scoped>\n    .dataframe tbody tr th:only-of-type {\n        vertical-align: middle;\n    }\n\n    .dataframe tbody tr th {\n        vertical-align: top;\n    }\n\n    .dataframe thead th {\n        text-align: right;\n    }\n</style>\n<table border=\"1\" class=\"dataframe\">\n  <thead>\n    <tr style=\"text-align: right;\">\n      <th></th>\n      <th>SPY</th>\n      <th>AAPL</th>\n      <th>GOOG</th>\n    </tr>\n  </thead>\n  <tbody>\n    <tr>\n      <th>2018-05-09</th>\n      <td>0.997309</td>\n      <td>0.993475</td>\n      <td>0.991211</td>\n    </tr>\n    <tr>\n      <th>2018-06-09</th>\n      <td>0.996990</td>\n      <td>0.983383</td>\n      <td>0.987324</td>\n    </tr>\n    <tr>\n      <th>2018-07-09</th>\n      <td>0.998057</td>\n      <td>0.991932</td>\n      <td>0.994357</td>\n    </tr>\n    <tr>\n      <th>2018-10-09</th>\n      <td>0.001739</td>\n      <td>0.986579</td>\n      <td>0.999837</td>\n    </tr>\n    <tr>\n      <th>2018-11-09</th>\n      <td>0.003297</td>\n      <td>0.025283</td>\n      <td>0.010922</td>\n    </tr>\n    <tr>\n      <th>2018-12-09</th>\n      <td>0.000242</td>\n      <td>0.987581</td>\n      <td>0.987650</td>\n    </tr>\n    <tr>\n      <th>2018-09-13</th>\n      <td>0.005914</td>\n      <td>0.024155</td>\n      <td>0.010758</td>\n    </tr>\n    <tr>\n      <th>2018-09-14</th>\n      <td>0.000172</td>\n      <td>0.988649</td>\n      <td>0.997618</td>\n    </tr>\n    <tr>\n      <th>2018-09-17</th>\n      <td>0.994706</td>\n      <td>0.973374</td>\n      <td>0.985945</td>\n    </tr>\n    <tr>\n      <th>2018-09-18</th>\n      <td>0.005426</td>\n      <td>0.001652</td>\n      <td>0.004472</td>\n    </tr>\n    <tr>\n      <th>2018-09-19</th>\n      <td>0.001822</td>\n      <td>0.992669</td>\n      <td>0.997899</td>\n    </tr>\n  </tbody>\n</table>\n</div>"
     },
     "metadata": {},
     "execution_count": 50
    }
   ],
   "source": [
    "returns % 1\n",
    "# % modulus operator - remainder after division by 1"
   ]
  },
  {
   "cell_type": "code",
   "execution_count": 51,
   "metadata": {},
   "outputs": [
    {
     "output_type": "execute_result",
     "data": {
      "text/plain": [
       "                 SPY      AAPL      GOOG\n",
       "2018-05-09  0.997309  0.993475  0.991211\n",
       "2018-06-09  0.996990  0.983383  0.987324\n",
       "2018-07-09  0.998057  0.991932  0.994357\n",
       "2018-10-09  0.001739  0.986579  0.999837\n",
       "2018-11-09  0.003297  0.025283  0.010922\n",
       "2018-12-09  0.000242  0.987581  0.987650\n",
       "2018-09-13  0.005914  0.024155  0.010758\n",
       "2018-09-14  0.000172  0.988649  0.997618\n",
       "2018-09-17  0.994706  0.973374  0.985945\n",
       "2018-09-18  0.005426  0.001652  0.004472\n",
       "2018-09-19  0.001822  0.992669  0.997899"
      ],
      "text/html": "<div>\n<style scoped>\n    .dataframe tbody tr th:only-of-type {\n        vertical-align: middle;\n    }\n\n    .dataframe tbody tr th {\n        vertical-align: top;\n    }\n\n    .dataframe thead th {\n        text-align: right;\n    }\n</style>\n<table border=\"1\" class=\"dataframe\">\n  <thead>\n    <tr style=\"text-align: right;\">\n      <th></th>\n      <th>SPY</th>\n      <th>AAPL</th>\n      <th>GOOG</th>\n    </tr>\n  </thead>\n  <tbody>\n    <tr>\n      <th>2018-05-09</th>\n      <td>0.997309</td>\n      <td>0.993475</td>\n      <td>0.991211</td>\n    </tr>\n    <tr>\n      <th>2018-06-09</th>\n      <td>0.996990</td>\n      <td>0.983383</td>\n      <td>0.987324</td>\n    </tr>\n    <tr>\n      <th>2018-07-09</th>\n      <td>0.998057</td>\n      <td>0.991932</td>\n      <td>0.994357</td>\n    </tr>\n    <tr>\n      <th>2018-10-09</th>\n      <td>0.001739</td>\n      <td>0.986579</td>\n      <td>0.999837</td>\n    </tr>\n    <tr>\n      <th>2018-11-09</th>\n      <td>0.003297</td>\n      <td>0.025283</td>\n      <td>0.010922</td>\n    </tr>\n    <tr>\n      <th>2018-12-09</th>\n      <td>0.000242</td>\n      <td>0.987581</td>\n      <td>0.987650</td>\n    </tr>\n    <tr>\n      <th>2018-09-13</th>\n      <td>0.005914</td>\n      <td>0.024155</td>\n      <td>0.010758</td>\n    </tr>\n    <tr>\n      <th>2018-09-14</th>\n      <td>0.000172</td>\n      <td>0.988649</td>\n      <td>0.997618</td>\n    </tr>\n    <tr>\n      <th>2018-09-17</th>\n      <td>0.994706</td>\n      <td>0.973374</td>\n      <td>0.985945</td>\n    </tr>\n    <tr>\n      <th>2018-09-18</th>\n      <td>0.005426</td>\n      <td>0.001652</td>\n      <td>0.004472</td>\n    </tr>\n    <tr>\n      <th>2018-09-19</th>\n      <td>0.001822</td>\n      <td>0.992669</td>\n      <td>0.997899</td>\n    </tr>\n  </tbody>\n</table>\n</div>"
     },
     "metadata": {},
     "execution_count": 51
    }
   ],
   "source": [
    "returns - returns // 1\n"
   ]
  },
  {
   "cell_type": "code",
   "execution_count": 81,
   "metadata": {},
   "outputs": [],
   "source": []
  },
  {
   "cell_type": "markdown",
   "metadata": {},
   "source": [
    "## Problem: Addition of Series\n",
    "Add the returns on SPY to those of AAPL \n"
   ]
  },
  {
   "cell_type": "code",
   "metadata": {
    "pycharm": {
     "name": "#%%\n"
    }
   },
   "source": [
    "\n",
    "spy_aapl = returns[\"SPY\"] + returns[\"AAPL\"]\n",
    "spy_aapl\n",
    "# creates a new series with the same index (here, of dates)\n"
   ],
   "execution_count": 52,
   "outputs": [
    {
     "output_type": "execute_result",
     "data": {
      "text/plain": [
       "2018-05-09   -0.009216\n",
       "2018-06-09   -0.019628\n",
       "2018-07-09   -0.010011\n",
       "2018-10-09   -0.011682\n",
       "2018-11-09    0.028580\n",
       "2018-12-09   -0.012177\n",
       "2018-09-13    0.030070\n",
       "2018-09-14   -0.011179\n",
       "2018-09-17   -0.031920\n",
       "2018-09-18    0.007078\n",
       "2018-09-19   -0.005510\n",
       "dtype: float64"
      ]
     },
     "metadata": {},
     "execution_count": 52
    }
   ]
  },
  {
   "cell_type": "markdown",
   "metadata": {},
   "source": [
    "## Problem: Combining methods and mathematical operations\n",
    "Using only basic mathematical operations compute the \n",
    "correlation between the returns on AAPL and SPY. "
   ]
  },
  {
   "cell_type": "code",
   "execution_count": 53,
   "metadata": {},
   "outputs": [],
   "source": [
    "nobs = aapl_returns.shape[0]\n",
    "a = aapl_returns - aapl_returns.mean()\n",
    "s = spy_returns - spy_returns.mean()\n",
    "aapl_var = a.dot(a) / (nobs-1)\n",
    "spy_var = s.dot(s) / (nobs - 1)\n",
    "aapl_spy_cov = a.dot(s) / (nobs - 1)\n",
    "c = aapl_spy_cov / (np.sqrt(aapl_var * spy_var))"
   ]
  },
  {
   "cell_type": "markdown",
   "metadata": {},
   "source": [
    "## Problem: Addition of DataFrames\n",
    "Construct a `DataFrame` that only contains the SPY column from returns\n",
    "and add it to the return `DataFrame`  "
   ]
  },
  {
   "cell_type": "code",
   "execution_count": 54,
   "metadata": {},
   "outputs": [
    {
     "output_type": "execute_result",
     "data": {
      "text/plain": [
       "                 SPY\n",
       "2018-05-09 -0.002691\n",
       "2018-06-09 -0.003010\n",
       "2018-07-09 -0.001943\n",
       "2018-10-09  0.001739\n",
       "2018-11-09  0.003297\n",
       "2018-12-09  0.000242\n",
       "2018-09-13  0.005914\n",
       "2018-09-14  0.000172\n",
       "2018-09-17 -0.005294\n",
       "2018-09-18  0.005426\n",
       "2018-09-19  0.001822"
      ],
      "text/html": "<div>\n<style scoped>\n    .dataframe tbody tr th:only-of-type {\n        vertical-align: middle;\n    }\n\n    .dataframe tbody tr th {\n        vertical-align: top;\n    }\n\n    .dataframe thead th {\n        text-align: right;\n    }\n</style>\n<table border=\"1\" class=\"dataframe\">\n  <thead>\n    <tr style=\"text-align: right;\">\n      <th></th>\n      <th>SPY</th>\n    </tr>\n  </thead>\n  <tbody>\n    <tr>\n      <th>2018-05-09</th>\n      <td>-0.002691</td>\n    </tr>\n    <tr>\n      <th>2018-06-09</th>\n      <td>-0.003010</td>\n    </tr>\n    <tr>\n      <th>2018-07-09</th>\n      <td>-0.001943</td>\n    </tr>\n    <tr>\n      <th>2018-10-09</th>\n      <td>0.001739</td>\n    </tr>\n    <tr>\n      <th>2018-11-09</th>\n      <td>0.003297</td>\n    </tr>\n    <tr>\n      <th>2018-12-09</th>\n      <td>0.000242</td>\n    </tr>\n    <tr>\n      <th>2018-09-13</th>\n      <td>0.005914</td>\n    </tr>\n    <tr>\n      <th>2018-09-14</th>\n      <td>0.000172</td>\n    </tr>\n    <tr>\n      <th>2018-09-17</th>\n      <td>-0.005294</td>\n    </tr>\n    <tr>\n      <th>2018-09-18</th>\n      <td>0.005426</td>\n    </tr>\n    <tr>\n      <th>2018-09-19</th>\n      <td>0.001822</td>\n    </tr>\n  </tbody>\n</table>\n</div>"
     },
     "metadata": {},
     "execution_count": 54
    }
   ],
   "source": [
    "spy_returns_df = pd.DataFrame({\"SPY\": spy_returns})\n",
    "spy_returns_df"
   ]
  },
  {
   "cell_type": "code",
   "execution_count": 59,
   "outputs": [
    {
     "output_type": "execute_result",
     "data": {
      "text/plain": [
       "            AAPL  GOOG       SPY\n",
       "2018-05-09   NaN   NaN -0.005383\n",
       "2018-06-09   NaN   NaN -0.006020\n",
       "2018-07-09   NaN   NaN -0.003887\n",
       "2018-10-09   NaN   NaN  0.003477\n",
       "2018-11-09   NaN   NaN  0.006595\n",
       "2018-12-09   NaN   NaN  0.000484\n",
       "2018-09-13   NaN   NaN  0.011829\n",
       "2018-09-14   NaN   NaN  0.000344\n",
       "2018-09-17   NaN   NaN -0.010589\n",
       "2018-09-18   NaN   NaN  0.010852\n",
       "2018-09-19   NaN   NaN  0.003644"
      ],
      "text/html": "<div>\n<style scoped>\n    .dataframe tbody tr th:only-of-type {\n        vertical-align: middle;\n    }\n\n    .dataframe tbody tr th {\n        vertical-align: top;\n    }\n\n    .dataframe thead th {\n        text-align: right;\n    }\n</style>\n<table border=\"1\" class=\"dataframe\">\n  <thead>\n    <tr style=\"text-align: right;\">\n      <th></th>\n      <th>AAPL</th>\n      <th>GOOG</th>\n      <th>SPY</th>\n    </tr>\n  </thead>\n  <tbody>\n    <tr>\n      <th>2018-05-09</th>\n      <td>NaN</td>\n      <td>NaN</td>\n      <td>-0.005383</td>\n    </tr>\n    <tr>\n      <th>2018-06-09</th>\n      <td>NaN</td>\n      <td>NaN</td>\n      <td>-0.006020</td>\n    </tr>\n    <tr>\n      <th>2018-07-09</th>\n      <td>NaN</td>\n      <td>NaN</td>\n      <td>-0.003887</td>\n    </tr>\n    <tr>\n      <th>2018-10-09</th>\n      <td>NaN</td>\n      <td>NaN</td>\n      <td>0.003477</td>\n    </tr>\n    <tr>\n      <th>2018-11-09</th>\n      <td>NaN</td>\n      <td>NaN</td>\n      <td>0.006595</td>\n    </tr>\n    <tr>\n      <th>2018-12-09</th>\n      <td>NaN</td>\n      <td>NaN</td>\n      <td>0.000484</td>\n    </tr>\n    <tr>\n      <th>2018-09-13</th>\n      <td>NaN</td>\n      <td>NaN</td>\n      <td>0.011829</td>\n    </tr>\n    <tr>\n      <th>2018-09-14</th>\n      <td>NaN</td>\n      <td>NaN</td>\n      <td>0.000344</td>\n    </tr>\n    <tr>\n      <th>2018-09-17</th>\n      <td>NaN</td>\n      <td>NaN</td>\n      <td>-0.010589</td>\n    </tr>\n    <tr>\n      <th>2018-09-18</th>\n      <td>NaN</td>\n      <td>NaN</td>\n      <td>0.010852</td>\n    </tr>\n    <tr>\n      <th>2018-09-19</th>\n      <td>NaN</td>\n      <td>NaN</td>\n      <td>0.003644</td>\n    </tr>\n  </tbody>\n</table>\n</div>"
     },
     "metadata": {},
     "execution_count": 59
    }
   ],
   "source": [
    "returns + spy_returns_df"
   ],
   "metadata": {
    "collapsed": false,
    "pycharm": {
     "name": "#%%\n"
    }
   }
  },
  {
   "cell_type": "markdown",
   "metadata": {},
   "source": [
    "## Problem: Non-conformable math\n",
    "\n",
    "Add the prices in `sep_04` to the prices of `goog`. What happens? "
   ]
  },
  {
   "cell_type": "code",
   "execution_count": 60,
   "metadata": {},
   "outputs": [
    {
     "output_type": "execute_result",
     "data": {
      "text/plain": [
       "2018-04-09 00:00:00   NaN\n",
       "2018-05-09 00:00:00   NaN\n",
       "2018-06-09 00:00:00   NaN\n",
       "2018-07-09 00:00:00   NaN\n",
       "2018-09-13 00:00:00   NaN\n",
       "2018-09-14 00:00:00   NaN\n",
       "2018-09-17 00:00:00   NaN\n",
       "2018-09-18 00:00:00   NaN\n",
       "2018-09-19 00:00:00   NaN\n",
       "2018-10-09 00:00:00   NaN\n",
       "2018-11-09 00:00:00   NaN\n",
       "2018-12-09 00:00:00   NaN\n",
       "AAPL                  NaN\n",
       "GOOG                  NaN\n",
       "SPY                   NaN\n",
       "dtype: float64"
      ]
     },
     "metadata": {},
     "execution_count": 60
    }
   ],
   "source": [
    "sep_04 + goog"
   ]
  },
  {
   "cell_type": "markdown",
   "metadata": {},
   "source": [
    "## Problem: Constructing portfolio returns\n",
    "Set up a 3-element array of portfolio weights \n",
    "\n",
    "$$w=\\left(\\frac{1}{3},\\,\\frac{1}{3}\\,,\\frac{1}{3}\\right)$$\n",
    "\n",
    "and compute the return of a portfolio with weight $\\frac{1}{3}$ in each security.\n"
   ]
  },
  {
   "cell_type": "code",
   "execution_count": 67,
   "metadata": {},
   "outputs": [
    {
     "output_type": "execute_result",
     "data": {
      "text/plain": [
       "                   0\n",
       "2018-05-09 -0.006002\n",
       "2018-06-09 -0.010768\n",
       "2018-07-09 -0.005218\n",
       "2018-10-09 -0.003948\n",
       "2018-11-09  0.013167\n",
       "2018-12-09 -0.008176\n",
       "2018-09-13  0.013609\n",
       "2018-09-14 -0.004520\n",
       "2018-09-17 -0.015325\n",
       "2018-09-18  0.003850\n",
       "2018-09-19 -0.002537"
      ],
      "text/html": "<div>\n<style scoped>\n    .dataframe tbody tr th:only-of-type {\n        vertical-align: middle;\n    }\n\n    .dataframe tbody tr th {\n        vertical-align: top;\n    }\n\n    .dataframe thead th {\n        text-align: right;\n    }\n</style>\n<table border=\"1\" class=\"dataframe\">\n  <thead>\n    <tr style=\"text-align: right;\">\n      <th></th>\n      <th>0</th>\n    </tr>\n  </thead>\n  <tbody>\n    <tr>\n      <th>2018-05-09</th>\n      <td>-0.006002</td>\n    </tr>\n    <tr>\n      <th>2018-06-09</th>\n      <td>-0.010768</td>\n    </tr>\n    <tr>\n      <th>2018-07-09</th>\n      <td>-0.005218</td>\n    </tr>\n    <tr>\n      <th>2018-10-09</th>\n      <td>-0.003948</td>\n    </tr>\n    <tr>\n      <th>2018-11-09</th>\n      <td>0.013167</td>\n    </tr>\n    <tr>\n      <th>2018-12-09</th>\n      <td>-0.008176</td>\n    </tr>\n    <tr>\n      <th>2018-09-13</th>\n      <td>0.013609</td>\n    </tr>\n    <tr>\n      <th>2018-09-14</th>\n      <td>-0.004520</td>\n    </tr>\n    <tr>\n      <th>2018-09-17</th>\n      <td>-0.015325</td>\n    </tr>\n    <tr>\n      <th>2018-09-18</th>\n      <td>0.003850</td>\n    </tr>\n    <tr>\n      <th>2018-09-19</th>\n      <td>-0.002537</td>\n    </tr>\n  </tbody>\n</table>\n</div>"
     },
     "metadata": {},
     "execution_count": 67
    }
   ],
   "source": [
    "portfolio_weights = np.array([1/3,1/3,1/3]).T\n",
    "\n",
    "portfolio_returns = pd.DataFrame(returns @ portfolio_weights)\n",
    "portfolio_returns\n"
   ]
  },
  {
   "cell_type": "markdown",
   "metadata": {
    "pycharm": {
     "name": "#%% md\n"
    }
   },
   "source": [
    "## Exercises\n",
    "\n",
    "### Exercise: Combine math with function\n",
    "\n",
    "Add 1 to the output of `np.arange` to produce the sequence 1, 2, ..., 10."
   ]
  },
  {
   "cell_type": "code",
   "execution_count": 82,
   "metadata": {},
   "outputs": [
    {
     "output_type": "execute_result",
     "data": {
      "text/plain": [
       "array([ 1,  2,  3,  4,  5,  6,  7,  8,  9, 10])"
      ]
     },
     "metadata": {},
     "execution_count": 82
    }
   ],
   "source": [
    "np.arange(0,10,1) +1"
   ]
  },
  {
   "cell_type": "markdown",
   "metadata": {
    "pycharm": {
     "name": "#%% md\n"
    }
   },
   "source": [
    "### Exercise: Understand pandas math\n",
    "\n",
    "Use the `Series` and `DataFrame` below to compute the sums \n",
    "\n",
    "* `a+b`\n",
    "* `a+c`\n",
    "* `b+c`\n",
    "* `a+b+c`\n",
    "\n",
    "to understand how missing values are treated by pandas"
   ]
  },
  {
   "cell_type": "code",
   "execution_count": 83,
   "metadata": {
    "pycharm": {
     "name": "#%%\n"
    }
   },
   "outputs": [],
   "source": [
    "# Setup: Data for exercise\n",
    "import pandas as pd\n",
    "import numpy as np\n",
    "\n",
    "rs = np.random.RandomState(19991231)\n",
    "\n",
    "idx = [\"A\",\"a\",\"B\",3]\n",
    "columns = [\"A\",1,\"B\",3]\n",
    "a = pd.Series([1,2,3,4], index=idx)\n",
    "b = pd.Series([10,9,8,7], index=columns)\n",
    "values = rs.randint(1, 11, size=(4,4))\n",
    "c = pd.DataFrame(values, columns=columns, index=idx)"
   ]
  },
  {
   "cell_type": "code",
   "execution_count": 90,
   "metadata": {},
   "outputs": [
    {
     "output_type": "execute_result",
     "data": {
      "text/plain": [
       "1     NaN\n",
       "3    11.0\n",
       "A    11.0\n",
       "B    11.0\n",
       "a     NaN\n",
       "dtype: float64"
      ]
     },
     "metadata": {},
     "execution_count": 90
    }
   ],
   "source": [
    "a + b"
   ]
  },
  {
   "cell_type": "code",
   "execution_count": 91,
   "metadata": {},
   "outputs": [
    {
     "output_type": "execute_result",
     "data": {
      "text/plain": [
       "    1     3     A     B   a\n",
       "A NaN  14.0   6.0  13.0 NaN\n",
       "a NaN  13.0   6.0   9.0 NaN\n",
       "B NaN  13.0  11.0   8.0 NaN\n",
       "3 NaN   9.0   3.0   7.0 NaN"
      ],
      "text/html": "<div>\n<style scoped>\n    .dataframe tbody tr th:only-of-type {\n        vertical-align: middle;\n    }\n\n    .dataframe tbody tr th {\n        vertical-align: top;\n    }\n\n    .dataframe thead th {\n        text-align: right;\n    }\n</style>\n<table border=\"1\" class=\"dataframe\">\n  <thead>\n    <tr style=\"text-align: right;\">\n      <th></th>\n      <th>1</th>\n      <th>3</th>\n      <th>A</th>\n      <th>B</th>\n      <th>a</th>\n    </tr>\n  </thead>\n  <tbody>\n    <tr>\n      <th>A</th>\n      <td>NaN</td>\n      <td>14.0</td>\n      <td>6.0</td>\n      <td>13.0</td>\n      <td>NaN</td>\n    </tr>\n    <tr>\n      <th>a</th>\n      <td>NaN</td>\n      <td>13.0</td>\n      <td>6.0</td>\n      <td>9.0</td>\n      <td>NaN</td>\n    </tr>\n    <tr>\n      <th>B</th>\n      <td>NaN</td>\n      <td>13.0</td>\n      <td>11.0</td>\n      <td>8.0</td>\n      <td>NaN</td>\n    </tr>\n    <tr>\n      <th>3</th>\n      <td>NaN</td>\n      <td>9.0</td>\n      <td>3.0</td>\n      <td>7.0</td>\n      <td>NaN</td>\n    </tr>\n  </tbody>\n</table>\n</div>"
     },
     "metadata": {},
     "execution_count": 91
    }
   ],
   "source": [
    "a + c "
   ]
  },
  {
   "cell_type": "code",
   "execution_count": 92,
   "metadata": {},
   "outputs": [
    {
     "output_type": "execute_result",
     "data": {
      "text/plain": [
       "    A   1   B   3\n",
       "A  15  17  18  17\n",
       "a  15  18  14  16\n",
       "B  20  17  13  16\n",
       "3  12  11  12  12"
      ],
      "text/html": "<div>\n<style scoped>\n    .dataframe tbody tr th:only-of-type {\n        vertical-align: middle;\n    }\n\n    .dataframe tbody tr th {\n        vertical-align: top;\n    }\n\n    .dataframe thead th {\n        text-align: right;\n    }\n</style>\n<table border=\"1\" class=\"dataframe\">\n  <thead>\n    <tr style=\"text-align: right;\">\n      <th></th>\n      <th>A</th>\n      <th>1</th>\n      <th>B</th>\n      <th>3</th>\n    </tr>\n  </thead>\n  <tbody>\n    <tr>\n      <th>A</th>\n      <td>15</td>\n      <td>17</td>\n      <td>18</td>\n      <td>17</td>\n    </tr>\n    <tr>\n      <th>a</th>\n      <td>15</td>\n      <td>18</td>\n      <td>14</td>\n      <td>16</td>\n    </tr>\n    <tr>\n      <th>B</th>\n      <td>20</td>\n      <td>17</td>\n      <td>13</td>\n      <td>16</td>\n    </tr>\n    <tr>\n      <th>3</th>\n      <td>12</td>\n      <td>11</td>\n      <td>12</td>\n      <td>12</td>\n    </tr>\n  </tbody>\n</table>\n</div>"
     },
     "metadata": {},
     "execution_count": 92
    }
   ],
   "source": [
    "b + c"
   ]
  },
  {
   "cell_type": "code",
   "execution_count": 93,
   "metadata": {},
   "outputs": [
    {
     "output_type": "execute_result",
     "data": {
      "text/plain": [
       "    1     3     A     B   a\n",
       "A NaN  21.0  16.0  21.0 NaN\n",
       "a NaN  20.0  16.0  17.0 NaN\n",
       "B NaN  20.0  21.0  16.0 NaN\n",
       "3 NaN  16.0  13.0  15.0 NaN"
      ],
      "text/html": "<div>\n<style scoped>\n    .dataframe tbody tr th:only-of-type {\n        vertical-align: middle;\n    }\n\n    .dataframe tbody tr th {\n        vertical-align: top;\n    }\n\n    .dataframe thead th {\n        text-align: right;\n    }\n</style>\n<table border=\"1\" class=\"dataframe\">\n  <thead>\n    <tr style=\"text-align: right;\">\n      <th></th>\n      <th>1</th>\n      <th>3</th>\n      <th>A</th>\n      <th>B</th>\n      <th>a</th>\n    </tr>\n  </thead>\n  <tbody>\n    <tr>\n      <th>A</th>\n      <td>NaN</td>\n      <td>21.0</td>\n      <td>16.0</td>\n      <td>21.0</td>\n      <td>NaN</td>\n    </tr>\n    <tr>\n      <th>a</th>\n      <td>NaN</td>\n      <td>20.0</td>\n      <td>16.0</td>\n      <td>17.0</td>\n      <td>NaN</td>\n    </tr>\n    <tr>\n      <th>B</th>\n      <td>NaN</td>\n      <td>20.0</td>\n      <td>21.0</td>\n      <td>16.0</td>\n      <td>NaN</td>\n    </tr>\n    <tr>\n      <th>3</th>\n      <td>NaN</td>\n      <td>16.0</td>\n      <td>13.0</td>\n      <td>15.0</td>\n      <td>NaN</td>\n    </tr>\n  </tbody>\n</table>\n</div>"
     },
     "metadata": {},
     "execution_count": 93
    }
   ],
   "source": [
    "a + b + c \n"
   ]
  },
  {
   "cell_type": "markdown",
   "metadata": {},
   "source": [
    "### Exercise: Math with duplicates\n",
    "\n",
    "Add the Series `d` to `a` to see what happens with delays."
   ]
  },
  {
   "cell_type": "code",
   "execution_count": 58,
   "metadata": {
    "pycharm": {
     "name": "#%%\n"
    }
   },
   "outputs": [],
   "source": [
    "# Setup: Data for exercise\n",
    "\n",
    "d = pd.Series([10, 101], index=[\"A\",\"A\"])"
   ]
  },
  {
   "cell_type": "code",
   "execution_count": 96,
   "metadata": {},
   "outputs": [
    {
     "output_type": "execute_result",
     "data": {
      "text/plain": [
       "A    1\n",
       "a    2\n",
       "B    3\n",
       "3    4\n",
       "dtype: int64"
      ]
     },
     "metadata": {},
     "execution_count": 96
    }
   ],
   "source": [
    "a"
   ]
  },
  {
   "cell_type": "code",
   "execution_count": 97,
   "metadata": {},
   "outputs": [
    {
     "output_type": "execute_result",
     "data": {
      "text/plain": [
       "A     10\n",
       "A    101\n",
       "dtype: int64"
      ]
     },
     "metadata": {},
     "execution_count": 97
    }
   ],
   "source": [
    "d"
   ]
  },
  {
   "cell_type": "code",
   "execution_count": 99,
   "metadata": {},
   "outputs": [
    {
     "output_type": "execute_result",
     "data": {
      "text/plain": [
       "A     11.0\n",
       "A    102.0\n",
       "dtype: float64"
      ]
     },
     "metadata": {},
     "execution_count": 99
    }
   ],
   "source": [
    "(a + d).dropna() "
   ]
  }
 ],
 "metadata": {
  "file_extension": ".py",
  "kernelspec": {
   "display_name": "Python 3",
   "language": "python",
   "name": "python3"
  },
  "language_info": {
   "codemirror_mode": {
    "name": "ipython",
    "version": 3
   },
   "file_extension": ".py",
   "mimetype": "text/x-python",
   "name": "python",
   "nbconvert_exporter": "python",
   "pygments_lexer": "ipython3",
   "version": "3.8.3-final"
  },
  "mimetype": "text/x-python",
  "name": "python",
  "npconvert_exporter": "python",
  "pygments_lexer": "ipython3",
  "version": 3
 },
 "nbformat": 4,
 "nbformat_minor": 2
}