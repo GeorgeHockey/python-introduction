{
 "cells": [
  {
   "cell_type": "markdown",
   "metadata": {},
   "source": [
    "# Custom Functions\n",
    "\n",
    "This lesson covers:\n",
    "\n",
    "* Writing a custom function "
   ]
  },
  {
   "cell_type": "markdown",
   "metadata": {},
   "source": [
    "## Problem: Writing a Custom Function\n",
    "Custom functions will play an important role later in the course when\n",
    "estimating parameters. Construct a custom function that takes two arguments,\n",
    "mu and sigma2 and computes the likelihood function of a normal random variable. \n",
    "\n",
    "$$f(x;\\mu,\\sigma^{2})=\\frac{1}{\\sqrt{2\\pi\\sigma^{2}}}\\exp\\left(-\\frac{(x-\\mu)^{2}}{2\\sigma^{2}}\\right)$$\n",
    "\n",
    "Use `def` to start the function and compute the likelihood of:\n",
    "\n",
    "$$x=0,\\mu=0,\\sigma^{2}=1.$$\n",
    "\n",
    "The text in the triple quotes is the docstring which is optional."
   ]
  },
  {
   "cell_type": "code",
   "execution_count": 6,
   "metadata": {},
   "outputs": [
    {
     "data": {
      "text/plain": "0.19947114020071635"
     },
     "execution_count": 6,
     "metadata": {},
     "output_type": "execute_result"
    }
   ],
   "source": [
    "import numpy as np\n",
    "import math\n",
    "def normal_likelihood( x, mu, s2):\n",
    "    a = np.sqrt(2*np.pi*s2)\n",
    "    b = (x - mu)**2\n",
    "    c = 2 * s2\n",
    "    lik = 1/a * np.exp(-b/c)\n",
    "    return lik\n",
    "\n",
    "normal_likelihood(0,0,4)\n",
    "\n",
    "\n"
   ]
  },
  {
   "cell_type": "code",
   "execution_count": 5,
   "metadata": {},
   "outputs": [
    {
     "data": {
      "text/plain": "0.19947114020071635"
     },
     "execution_count": 5,
     "metadata": {},
     "output_type": "execute_result"
    }
   ],
   "source": [
    "from scipy import stats\n",
    "stats.norm.pdf(0,0,2)\n"
   ]
  },
  {
   "cell_type": "code",
   "execution_count": null,
   "metadata": {},
   "outputs": [],
   "source": []
  },
  {
   "cell_type": "markdown",
   "metadata": {},
   "source": [
    "## Exercises\n",
    "\n",
    "### Exercise: Custom Function\n",
    "\n",
    "Write a function named summary_stats that will take a single input, x,\n",
    "a DataFrame and return a DataFrame with 4 columns and as many rows as\n",
    "there were columns in the original data where the columns contain the mean,\n",
    "standard deviation, skewness and kurtosis of x.\n",
    "\n",
    "Check your function by running\n",
    "```python\n",
    "summary_stats(momentum)\n",
    "```"
   ]
  },
  {
   "cell_type": "code",
   "execution_count": 13,
   "metadata": {},
   "outputs": [],
   "source": [
    "# Setup: Load the momentum data\n",
    "import pandas as pd\n",
    "momentum = pd.read_csv(\"data/momentum.csv\",index_col=\"date\", parse_dates=True)"
   ]
  },
  {
   "cell_type": "code",
   "execution_count": 48,
   "metadata": {},
   "outputs": [
    {
     "data": {
      "text/plain": "            Mean  Standard Deviation      Skew  Kurtosis\nmom_01  0.101909            1.720167 -0.107190  3.685894\nmom_02  0.094811            1.137837 -0.548304  3.683135\nmom_03  0.089801            0.921353 -0.320504  4.695792\nmom_04  0.079145            0.817660 -0.320856  4.023648\nmom_05  0.069920            0.755789 -0.549611  5.372107\nmom_06  0.080775            0.738880 -0.537214  5.983734\nmom_07  0.051789            0.708907 -0.534654  3.441098\nmom_08  0.062604            0.720382 -0.452758  2.284631\nmom_09  0.042167            0.773608 -0.390149  2.329995\nmom_10  0.060954            0.951415 -0.769979  2.647327",
      "text/html": "<div>\n<style scoped>\n    .dataframe tbody tr th:only-of-type {\n        vertical-align: middle;\n    }\n\n    .dataframe tbody tr th {\n        vertical-align: top;\n    }\n\n    .dataframe thead th {\n        text-align: right;\n    }\n</style>\n<table border=\"1\" class=\"dataframe\">\n  <thead>\n    <tr style=\"text-align: right;\">\n      <th></th>\n      <th>Mean</th>\n      <th>Standard Deviation</th>\n      <th>Skew</th>\n      <th>Kurtosis</th>\n    </tr>\n  </thead>\n  <tbody>\n    <tr>\n      <th>mom_01</th>\n      <td>0.101909</td>\n      <td>1.720167</td>\n      <td>-0.107190</td>\n      <td>3.685894</td>\n    </tr>\n    <tr>\n      <th>mom_02</th>\n      <td>0.094811</td>\n      <td>1.137837</td>\n      <td>-0.548304</td>\n      <td>3.683135</td>\n    </tr>\n    <tr>\n      <th>mom_03</th>\n      <td>0.089801</td>\n      <td>0.921353</td>\n      <td>-0.320504</td>\n      <td>4.695792</td>\n    </tr>\n    <tr>\n      <th>mom_04</th>\n      <td>0.079145</td>\n      <td>0.817660</td>\n      <td>-0.320856</td>\n      <td>4.023648</td>\n    </tr>\n    <tr>\n      <th>mom_05</th>\n      <td>0.069920</td>\n      <td>0.755789</td>\n      <td>-0.549611</td>\n      <td>5.372107</td>\n    </tr>\n    <tr>\n      <th>mom_06</th>\n      <td>0.080775</td>\n      <td>0.738880</td>\n      <td>-0.537214</td>\n      <td>5.983734</td>\n    </tr>\n    <tr>\n      <th>mom_07</th>\n      <td>0.051789</td>\n      <td>0.708907</td>\n      <td>-0.534654</td>\n      <td>3.441098</td>\n    </tr>\n    <tr>\n      <th>mom_08</th>\n      <td>0.062604</td>\n      <td>0.720382</td>\n      <td>-0.452758</td>\n      <td>2.284631</td>\n    </tr>\n    <tr>\n      <th>mom_09</th>\n      <td>0.042167</td>\n      <td>0.773608</td>\n      <td>-0.390149</td>\n      <td>2.329995</td>\n    </tr>\n    <tr>\n      <th>mom_10</th>\n      <td>0.060954</td>\n      <td>0.951415</td>\n      <td>-0.769979</td>\n      <td>2.647327</td>\n    </tr>\n  </tbody>\n</table>\n</div>"
     },
     "execution_count": 48,
     "metadata": {},
     "output_type": "execute_result"
    }
   ],
   "source": [
    "def summary_stats(df):\n",
    "    m = df.mean()\n",
    "    st = momentum.std()\n",
    "    sk = momentum.skew()\n",
    "    k = momentum.kurt()\n",
    "    s = pd.DataFrame({\"Mean\": m , \"Standard Deviation\": st, \"Skew\":sk,\"Kurtosis\":k })\n",
    "    return s\n",
    "\n",
    "summary_stats(momentum)"
   ]
  },
  {
   "cell_type": "markdown",
   "metadata": {},
   "source": [
    "Test your function using the momentum data in the next cell."
   ]
  },
  {
   "cell_type": "code",
   "execution_count": 54,
   "metadata": {},
   "outputs": [],
   "source": [
    "momentum_stats = summary_stats(momentum)\n",
    "momentum_stats_trans = momentum_stats.T"
   ]
  },
  {
   "cell_type": "markdown",
   "metadata": {},
   "source": [
    "### Exercise: Custom Function\n",
    "\n",
    "Change your previous function to return 4 outputs, each a pandas Series for the mean,\n",
    "standard deviation, skewness, and the kurtosis.\n",
    "\n",
    "Returning multiple outputs uses the syntax\n",
    "\n",
    "```\n",
    "\n",
    "Test your function using the momentum data."
   ]
  },
  {
   "cell_type": "code",
   "execution_count": 75,
   "metadata": {},
   "outputs": [],
   "source": [
    "def s_stats(df):\n",
    "    m = df.mean()\n",
    "    st = df.std()\n",
    "    sk = df.skew()\n",
    "    k = df.kurt()\n",
    "    return m, st, sk, k\n",
    "\n",
    "\n",
    "momentum_mean, momentum_std, momentum_skew, momentum_kurt = s_stats(momentum)"
   ]
  },
  {
   "cell_type": "markdown",
   "metadata": {},
   "source": [
    "Test your function using the momentum data in the next cell."
   ]
  },
  {
   "cell_type": "code",
   "execution_count": 74,
   "metadata": {},
   "outputs": [],
   "source": []
  }
 ],
 "metadata": {
  "file_extension": ".py",
  "kernelspec": {
   "display_name": "Python 3",
   "language": "python",
   "name": "python3"
  },
  "language_info": {
   "codemirror_mode": {
    "name": "ipython",
    "version": 3
   },
   "file_extension": ".py",
   "mimetype": "text/x-python",
   "name": "python",
   "nbconvert_exporter": "python",
   "pygments_lexer": "ipython3",
   "version": "3.7.4"
  },
  "mimetype": "text/x-python",
  "name": "python",
  "npconvert_exporter": "python",
  "pygments_lexer": "ipython3",
  "version": 3
 },
 "nbformat": 4,
 "nbformat_minor": 2
}