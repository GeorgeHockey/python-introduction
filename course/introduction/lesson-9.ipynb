{
 "cells": [
  {
   "cell_type": "markdown",
   "metadata": {},
   "source": [
    "# Common DataFrame methods\n",
    "\n",
    "This lesson introduces the common `DataFrame` methods that\n",
    "we will repeatedly use in the course. \n",
    "\n",
    "This first cell load data for use in this lesson."
   ]
  },
  {
   "cell_type": "code",
   "execution_count": 1,
   "metadata": {
    "pycharm": {
     "is_executing": false,
     "name": "#%%\n"
    }
   },
   "outputs": [],
   "source": [
    "# Setup: Load prices\n",
    "import pandas as pd\n",
    "prices = pd.read_hdf(\"data/dataframes.h5\", \"prices\")\n",
    "sep_04 = pd.read_hdf(\"data/dataframes.h5\", \"sep_04\")\n",
    "goog = pd.read_hdf(\"data/dataframes.h5\", \"goog\")\n",
    "returns = prices.pct_change().dropna()\n",
    "spy_returns = returns.SPY\n",
    "aapl_returns = returns.AAPL\n",
    "goog_returns = returns.GOOG"
   ]
  },
  {
   "cell_type": "markdown",
   "metadata": {},
   "source": [
    "## Problem: Constructing portfolio returns\n",
    "\n",
    "Compute the return of a portfolio with weight $\\frac{1}{3}$ in each security using\n",
    "multiplication (`*`) and `.sum()`.\n",
    "\n",
    "**Note**: You need to use the `axis` keyword for the sum."
   ]
  },
  {
   "cell_type": "code",
   "execution_count": 8,
   "metadata": {},
   "outputs": [
    {
     "output_type": "execute_result",
     "data": {
      "text/plain": [
       "2018-05-09   -0.006002\n",
       "2018-06-09   -0.010768\n",
       "2018-07-09   -0.005218\n",
       "2018-10-09   -0.003948\n",
       "2018-11-09    0.013167\n",
       "2018-12-09   -0.008176\n",
       "2018-09-13    0.013609\n",
       "2018-09-14   -0.004520\n",
       "2018-09-17   -0.015325\n",
       "2018-09-18    0.003850\n",
       "2018-09-19   -0.002537\n",
       "dtype: float64"
      ]
     },
     "metadata": {},
     "execution_count": 8
    }
   ],
   "source": [
    "import numpy as np\n",
    "import pandas as pd\n",
    "\n",
    "weight = np.ones(3)/3\n",
    "weighted_returns = weight * returns\n",
    "weighted_returns.sum(axis=1)"
   ]
  },
  {
   "cell_type": "markdown",
   "metadata": {},
   "source": [
    "## Problem: Compute the Mean and Standard Deviation\n",
    "\n",
    "Using the function mean, compute the mean of the three returns series one at a time. For example  \n",
    "```python\n",
    "goog_mean = goog_returns.mean()\n",
    "```\n",
    "Next, compute the mean of the matrix of returns using  \n",
    "\n",
    "```python\n",
    "retmean = returns.mean()\n",
    "```\n",
    "\n",
    "What is the relationship between these two? Repeat this exercise for the standard deviation (`std()`).\n"
   ]
  },
  {
   "cell_type": "code",
   "execution_count": 13,
   "metadata": {},
   "outputs": [
    {
     "output_type": "execute_result",
     "data": {
      "text/plain": [
       "-0.0029096851629990942"
      ]
     },
     "metadata": {},
     "execution_count": 13
    }
   ],
   "source": [
    "goog_mean = goog_returns.mean()\n",
    "goog_mean"
   ]
  },
  {
   "cell_type": "code",
   "execution_count": 12,
   "metadata": {},
   "outputs": [
    {
     "output_type": "execute_result",
     "data": {
      "text/plain": [
       "SPY     0.000516\n",
       "AAPL   -0.004661\n",
       "GOOG   -0.002910\n",
       "dtype: float64"
      ]
     },
     "metadata": {},
     "execution_count": 12
    }
   ],
   "source": [
    "retmean = returns.mean()\n",
    "retmean"
   ]
  },
  {
   "cell_type": "code",
   "execution_count": 16,
   "metadata": {},
   "outputs": [
    {
     "output_type": "execute_result",
     "data": {
      "text/plain": [
       "SPY     0.003562\n",
       "AAPL    0.016113\n",
       "GOOG    0.008899\n",
       "dtype: float64"
      ]
     },
     "metadata": {},
     "execution_count": 16
    }
   ],
   "source": [
    "ret_std = returns.std()\n",
    "ret_std"
   ]
  },
  {
   "cell_type": "markdown",
   "metadata": {
    "pycharm": {
     "name": "#%% md\n"
    }
   },
   "source": [
    "## Problem: Compute Correlation\n",
    "Compute the correlation of the matrix of returns (`corr()`). "
   ]
  },
  {
   "cell_type": "code",
   "execution_count": 19,
   "metadata": {},
   "outputs": [
    {
     "output_type": "execute_result",
     "data": {
      "text/plain": [
       "           SPY      AAPL      GOOG\n",
       "SPY   1.000000  0.773894  0.883557\n",
       "AAPL  0.773894  1.000000  0.892719\n",
       "GOOG  0.883557  0.892719  1.000000"
      ],
      "text/html": "<div>\n<style scoped>\n    .dataframe tbody tr th:only-of-type {\n        vertical-align: middle;\n    }\n\n    .dataframe tbody tr th {\n        vertical-align: top;\n    }\n\n    .dataframe thead th {\n        text-align: right;\n    }\n</style>\n<table border=\"1\" class=\"dataframe\">\n  <thead>\n    <tr style=\"text-align: right;\">\n      <th></th>\n      <th>SPY</th>\n      <th>AAPL</th>\n      <th>GOOG</th>\n    </tr>\n  </thead>\n  <tbody>\n    <tr>\n      <th>SPY</th>\n      <td>1.000000</td>\n      <td>0.773894</td>\n      <td>0.883557</td>\n    </tr>\n    <tr>\n      <th>AAPL</th>\n      <td>0.773894</td>\n      <td>1.000000</td>\n      <td>0.892719</td>\n    </tr>\n    <tr>\n      <th>GOOG</th>\n      <td>0.883557</td>\n      <td>0.892719</td>\n      <td>1.000000</td>\n    </tr>\n  </tbody>\n</table>\n</div>"
     },
     "metadata": {},
     "execution_count": 19
    }
   ],
   "source": [
    "returns.corr()"
   ]
  },
  {
   "cell_type": "markdown",
   "metadata": {},
   "source": [
    "## Problem: Summing all elements\n",
    "\n",
    "Compute the sum of the columns of returns using `.sum()`. How is this related to the mean computed \n",
    "in the previous step? "
   ]
  },
  {
   "cell_type": "code",
   "execution_count": 20,
   "metadata": {},
   "outputs": [
    {
     "output_type": "execute_result",
     "data": {
      "text/plain": [
       "SPY     0.005673\n",
       "AAPL   -0.051268\n",
       "GOOG   -0.032007\n",
       "dtype: float64"
      ]
     },
     "metadata": {},
     "execution_count": 20
    }
   ],
   "source": [
    "returns.sum()"
   ]
  },
  {
   "cell_type": "code",
   "execution_count": 21,
   "metadata": {},
   "outputs": [
    {
     "output_type": "execute_result",
     "data": {
      "text/plain": [
       "SPY     0.005673\n",
       "AAPL   -0.051268\n",
       "GOOG   -0.032007\n",
       "dtype: float64"
      ]
     },
     "metadata": {},
     "execution_count": 21
    }
   ],
   "source": [
    "nobs = returns.shape[0]\n",
    "retmean * nobs"
   ]
  },
  {
   "cell_type": "markdown",
   "metadata": {},
   "source": [
    "## Problem: Maximum and Minimum Values\n",
    "Compute the minimum and maximum values of the columns of returns using the `min()` and `max()` commands. "
   ]
  },
  {
   "cell_type": "code",
   "execution_count": 22,
   "metadata": {},
   "outputs": [
    {
     "output_type": "execute_result",
     "data": {
      "text/plain": [
       "SPY    -0.005294\n",
       "AAPL   -0.026626\n",
       "GOOG   -0.014055\n",
       "dtype: float64"
      ]
     },
     "metadata": {},
     "execution_count": 22
    }
   ],
   "source": [
    "returns.min()"
   ]
  },
  {
   "cell_type": "code",
   "execution_count": 23,
   "metadata": {},
   "outputs": [
    {
     "output_type": "execute_result",
     "data": {
      "text/plain": [
       "SPY     0.005914\n",
       "AAPL    0.025283\n",
       "GOOG    0.010922\n",
       "dtype: float64"
      ]
     },
     "metadata": {},
     "execution_count": 23
    }
   ],
   "source": [
    "returns.max()"
   ]
  },
  {
   "cell_type": "markdown",
   "metadata": {},
   "source": [
    "## Problem: Rounding Up, Down and to the Closest Integer\n",
    "\n",
    "Rounding up is handled by ceil, rounding down is handled by floor and rounding to the closest \n",
    "integer is handled by round. Try all of these commands on 100 times returns. For example,  \n",
    "```python\n",
    "rounded = (100*returns).round()\n",
    "``` \n",
    "\n",
    "Use `ceil` and `floor` to round up and down, respectively."
   ]
  },
  {
   "cell_type": "code",
   "execution_count": 33,
   "metadata": {},
   "outputs": [
    {
     "output_type": "execute_result",
     "data": {
      "text/plain": [
       "              SPY   AAPL   GOOG\n",
       "2018-05-09 -0.269 -0.652 -0.879\n",
       "2018-06-09 -0.301 -1.662 -1.268\n",
       "2018-07-09 -0.194 -0.807 -0.564\n",
       "2018-10-09  0.174 -1.342 -0.016\n",
       "2018-11-09  0.330  2.528  1.092\n",
       "2018-12-09  0.024 -1.242 -1.235\n",
       "2018-09-13  0.591  2.416  1.076\n",
       "2018-09-14  0.017 -1.135 -0.238\n",
       "2018-09-17 -0.529 -2.663 -1.406\n",
       "2018-09-18  0.543  0.165  0.447\n",
       "2018-09-19  0.182 -0.733 -0.210"
      ],
      "text/html": "<div>\n<style scoped>\n    .dataframe tbody tr th:only-of-type {\n        vertical-align: middle;\n    }\n\n    .dataframe tbody tr th {\n        vertical-align: top;\n    }\n\n    .dataframe thead th {\n        text-align: right;\n    }\n</style>\n<table border=\"1\" class=\"dataframe\">\n  <thead>\n    <tr style=\"text-align: right;\">\n      <th></th>\n      <th>SPY</th>\n      <th>AAPL</th>\n      <th>GOOG</th>\n    </tr>\n  </thead>\n  <tbody>\n    <tr>\n      <th>2018-05-09</th>\n      <td>-0.269</td>\n      <td>-0.652</td>\n      <td>-0.879</td>\n    </tr>\n    <tr>\n      <th>2018-06-09</th>\n      <td>-0.301</td>\n      <td>-1.662</td>\n      <td>-1.268</td>\n    </tr>\n    <tr>\n      <th>2018-07-09</th>\n      <td>-0.194</td>\n      <td>-0.807</td>\n      <td>-0.564</td>\n    </tr>\n    <tr>\n      <th>2018-10-09</th>\n      <td>0.174</td>\n      <td>-1.342</td>\n      <td>-0.016</td>\n    </tr>\n    <tr>\n      <th>2018-11-09</th>\n      <td>0.330</td>\n      <td>2.528</td>\n      <td>1.092</td>\n    </tr>\n    <tr>\n      <th>2018-12-09</th>\n      <td>0.024</td>\n      <td>-1.242</td>\n      <td>-1.235</td>\n    </tr>\n    <tr>\n      <th>2018-09-13</th>\n      <td>0.591</td>\n      <td>2.416</td>\n      <td>1.076</td>\n    </tr>\n    <tr>\n      <th>2018-09-14</th>\n      <td>0.017</td>\n      <td>-1.135</td>\n      <td>-0.238</td>\n    </tr>\n    <tr>\n      <th>2018-09-17</th>\n      <td>-0.529</td>\n      <td>-2.663</td>\n      <td>-1.406</td>\n    </tr>\n    <tr>\n      <th>2018-09-18</th>\n      <td>0.543</td>\n      <td>0.165</td>\n      <td>0.447</td>\n    </tr>\n    <tr>\n      <th>2018-09-19</th>\n      <td>0.182</td>\n      <td>-0.733</td>\n      <td>-0.210</td>\n    </tr>\n  </tbody>\n</table>\n</div>"
     },
     "metadata": {},
     "execution_count": 33
    }
   ],
   "source": [
    "100*returns.round(5)"
   ]
  },
  {
   "cell_type": "code",
   "execution_count": 36,
   "metadata": {},
   "outputs": [
    {
     "output_type": "execute_result",
     "data": {
      "text/plain": [
       "             SPY   AAPL   GOOG\n",
       "2018-05-09 -26.0  -65.0  -87.0\n",
       "2018-06-09 -30.0 -166.0 -126.0\n",
       "2018-07-09 -19.0  -80.0  -56.0\n",
       "2018-10-09  18.0 -134.0   -1.0\n",
       "2018-11-09  33.0  253.0  110.0\n",
       "2018-12-09   3.0 -124.0 -123.0\n",
       "2018-09-13  60.0  242.0  108.0\n",
       "2018-09-14   2.0 -113.0  -23.0\n",
       "2018-09-17 -52.0 -266.0 -140.0\n",
       "2018-09-18  55.0   17.0   45.0\n",
       "2018-09-19  19.0  -73.0  -21.0"
      ],
      "text/html": "<div>\n<style scoped>\n    .dataframe tbody tr th:only-of-type {\n        vertical-align: middle;\n    }\n\n    .dataframe tbody tr th {\n        vertical-align: top;\n    }\n\n    .dataframe thead th {\n        text-align: right;\n    }\n</style>\n<table border=\"1\" class=\"dataframe\">\n  <thead>\n    <tr style=\"text-align: right;\">\n      <th></th>\n      <th>SPY</th>\n      <th>AAPL</th>\n      <th>GOOG</th>\n    </tr>\n  </thead>\n  <tbody>\n    <tr>\n      <th>2018-05-09</th>\n      <td>-26.0</td>\n      <td>-65.0</td>\n      <td>-87.0</td>\n    </tr>\n    <tr>\n      <th>2018-06-09</th>\n      <td>-30.0</td>\n      <td>-166.0</td>\n      <td>-126.0</td>\n    </tr>\n    <tr>\n      <th>2018-07-09</th>\n      <td>-19.0</td>\n      <td>-80.0</td>\n      <td>-56.0</td>\n    </tr>\n    <tr>\n      <th>2018-10-09</th>\n      <td>18.0</td>\n      <td>-134.0</td>\n      <td>-1.0</td>\n    </tr>\n    <tr>\n      <th>2018-11-09</th>\n      <td>33.0</td>\n      <td>253.0</td>\n      <td>110.0</td>\n    </tr>\n    <tr>\n      <th>2018-12-09</th>\n      <td>3.0</td>\n      <td>-124.0</td>\n      <td>-123.0</td>\n    </tr>\n    <tr>\n      <th>2018-09-13</th>\n      <td>60.0</td>\n      <td>242.0</td>\n      <td>108.0</td>\n    </tr>\n    <tr>\n      <th>2018-09-14</th>\n      <td>2.0</td>\n      <td>-113.0</td>\n      <td>-23.0</td>\n    </tr>\n    <tr>\n      <th>2018-09-17</th>\n      <td>-52.0</td>\n      <td>-266.0</td>\n      <td>-140.0</td>\n    </tr>\n    <tr>\n      <th>2018-09-18</th>\n      <td>55.0</td>\n      <td>17.0</td>\n      <td>45.0</td>\n    </tr>\n    <tr>\n      <th>2018-09-19</th>\n      <td>19.0</td>\n      <td>-73.0</td>\n      <td>-21.0</td>\n    </tr>\n  </tbody>\n</table>\n</div>"
     },
     "metadata": {},
     "execution_count": 36
    }
   ],
   "source": [
    "np.ceil(10000*returns)"
   ]
  },
  {
   "cell_type": "code",
   "execution_count": 37,
   "metadata": {},
   "outputs": [
    {
     "output_type": "execute_result",
     "data": {
      "text/plain": [
       "             SPY   AAPL   GOOG\n",
       "2018-05-09 -27.0  -66.0  -88.0\n",
       "2018-06-09 -31.0 -167.0 -127.0\n",
       "2018-07-09 -20.0  -81.0  -57.0\n",
       "2018-10-09  17.0 -135.0   -2.0\n",
       "2018-11-09  32.0  252.0  109.0\n",
       "2018-12-09   2.0 -125.0 -124.0\n",
       "2018-09-13  59.0  241.0  107.0\n",
       "2018-09-14   1.0 -114.0  -24.0\n",
       "2018-09-17 -53.0 -267.0 -141.0\n",
       "2018-09-18  54.0   16.0   44.0\n",
       "2018-09-19  18.0  -74.0  -22.0"
      ],
      "text/html": "<div>\n<style scoped>\n    .dataframe tbody tr th:only-of-type {\n        vertical-align: middle;\n    }\n\n    .dataframe tbody tr th {\n        vertical-align: top;\n    }\n\n    .dataframe thead th {\n        text-align: right;\n    }\n</style>\n<table border=\"1\" class=\"dataframe\">\n  <thead>\n    <tr style=\"text-align: right;\">\n      <th></th>\n      <th>SPY</th>\n      <th>AAPL</th>\n      <th>GOOG</th>\n    </tr>\n  </thead>\n  <tbody>\n    <tr>\n      <th>2018-05-09</th>\n      <td>-27.0</td>\n      <td>-66.0</td>\n      <td>-88.0</td>\n    </tr>\n    <tr>\n      <th>2018-06-09</th>\n      <td>-31.0</td>\n      <td>-167.0</td>\n      <td>-127.0</td>\n    </tr>\n    <tr>\n      <th>2018-07-09</th>\n      <td>-20.0</td>\n      <td>-81.0</td>\n      <td>-57.0</td>\n    </tr>\n    <tr>\n      <th>2018-10-09</th>\n      <td>17.0</td>\n      <td>-135.0</td>\n      <td>-2.0</td>\n    </tr>\n    <tr>\n      <th>2018-11-09</th>\n      <td>32.0</td>\n      <td>252.0</td>\n      <td>109.0</td>\n    </tr>\n    <tr>\n      <th>2018-12-09</th>\n      <td>2.0</td>\n      <td>-125.0</td>\n      <td>-124.0</td>\n    </tr>\n    <tr>\n      <th>2018-09-13</th>\n      <td>59.0</td>\n      <td>241.0</td>\n      <td>107.0</td>\n    </tr>\n    <tr>\n      <th>2018-09-14</th>\n      <td>1.0</td>\n      <td>-114.0</td>\n      <td>-24.0</td>\n    </tr>\n    <tr>\n      <th>2018-09-17</th>\n      <td>-53.0</td>\n      <td>-267.0</td>\n      <td>-141.0</td>\n    </tr>\n    <tr>\n      <th>2018-09-18</th>\n      <td>54.0</td>\n      <td>16.0</td>\n      <td>44.0</td>\n    </tr>\n    <tr>\n      <th>2018-09-19</th>\n      <td>18.0</td>\n      <td>-74.0</td>\n      <td>-22.0</td>\n    </tr>\n  </tbody>\n</table>\n</div>"
     },
     "metadata": {},
     "execution_count": 37
    }
   ],
   "source": [
    "np.floor(10000*returns)"
   ]
  },
  {
   "cell_type": "markdown",
   "metadata": {
    "pycharm": {
     "name": "#%% md\n"
    }
   },
   "source": [
    "## Exercises\n",
    "\n",
    "### Exercise: Compute Quantiles\n",
    "\n",
    "Compute the 5%, 25%, 50%, 75% and 95% quantiles of momentum using the `quantile`\n",
    "method.\n"
   ]
  },
  {
   "cell_type": "code",
   "execution_count": 41,
   "metadata": {
    "pycharm": {
     "name": "#%%\n"
    }
   },
   "outputs": [],
   "source": [
    "# Setup: Load data\n",
    "import pandas as pd\n",
    "momentum = pd.read_csv(\"data/momentum.csv\", index_col=\"date\", parse_dates=True)\n",
    "mom_10 = momentum.mom_10"
   ]
  },
  {
   "cell_type": "code",
   "execution_count": 52,
   "metadata": {},
   "outputs": [
    {
     "output_type": "execute_result",
     "data": {
      "text/plain": [
       "      mom_01  mom_02  mom_03  mom_04  mom_05  mom_06  mom_07  mom_08  mom_09  \\\n",
       "0.05  -2.487  -1.556  -1.326  -1.187  -1.128  -1.015  -1.116  -1.148  -1.198   \n",
       "0.25  -0.615  -0.385  -0.305  -0.260  -0.210  -0.250  -0.280  -0.290  -0.330   \n",
       "0.50   0.080   0.050   0.070   0.050   0.060   0.070   0.070   0.080   0.070   \n",
       "0.75   0.890   0.645   0.480   0.465   0.405   0.440   0.420   0.465   0.430   \n",
       "0.95   2.798   2.094   1.618   1.320   1.339   1.158   1.164   1.230   1.319   \n",
       "\n",
       "      mom_10  \n",
       "0.05  -1.597  \n",
       "0.25  -0.395  \n",
       "0.50   0.120  \n",
       "0.75   0.615  \n",
       "0.95   1.440  "
      ],
      "text/html": "<div>\n<style scoped>\n    .dataframe tbody tr th:only-of-type {\n        vertical-align: middle;\n    }\n\n    .dataframe tbody tr th {\n        vertical-align: top;\n    }\n\n    .dataframe thead th {\n        text-align: right;\n    }\n</style>\n<table border=\"1\" class=\"dataframe\">\n  <thead>\n    <tr style=\"text-align: right;\">\n      <th></th>\n      <th>mom_01</th>\n      <th>mom_02</th>\n      <th>mom_03</th>\n      <th>mom_04</th>\n      <th>mom_05</th>\n      <th>mom_06</th>\n      <th>mom_07</th>\n      <th>mom_08</th>\n      <th>mom_09</th>\n      <th>mom_10</th>\n    </tr>\n  </thead>\n  <tbody>\n    <tr>\n      <th>0.05</th>\n      <td>-2.487</td>\n      <td>-1.556</td>\n      <td>-1.326</td>\n      <td>-1.187</td>\n      <td>-1.128</td>\n      <td>-1.015</td>\n      <td>-1.116</td>\n      <td>-1.148</td>\n      <td>-1.198</td>\n      <td>-1.597</td>\n    </tr>\n    <tr>\n      <th>0.25</th>\n      <td>-0.615</td>\n      <td>-0.385</td>\n      <td>-0.305</td>\n      <td>-0.260</td>\n      <td>-0.210</td>\n      <td>-0.250</td>\n      <td>-0.280</td>\n      <td>-0.290</td>\n      <td>-0.330</td>\n      <td>-0.395</td>\n    </tr>\n    <tr>\n      <th>0.50</th>\n      <td>0.080</td>\n      <td>0.050</td>\n      <td>0.070</td>\n      <td>0.050</td>\n      <td>0.060</td>\n      <td>0.070</td>\n      <td>0.070</td>\n      <td>0.080</td>\n      <td>0.070</td>\n      <td>0.120</td>\n    </tr>\n    <tr>\n      <th>0.75</th>\n      <td>0.890</td>\n      <td>0.645</td>\n      <td>0.480</td>\n      <td>0.465</td>\n      <td>0.405</td>\n      <td>0.440</td>\n      <td>0.420</td>\n      <td>0.465</td>\n      <td>0.430</td>\n      <td>0.615</td>\n    </tr>\n    <tr>\n      <th>0.95</th>\n      <td>2.798</td>\n      <td>2.094</td>\n      <td>1.618</td>\n      <td>1.320</td>\n      <td>1.339</td>\n      <td>1.158</td>\n      <td>1.164</td>\n      <td>1.230</td>\n      <td>1.319</td>\n      <td>1.440</td>\n    </tr>\n  </tbody>\n</table>\n</div>"
     },
     "metadata": {},
     "execution_count": 52
    }
   ],
   "source": [
    "momentum.quantile([.05,.25,.5,.75,.95])"
   ]
  },
  {
   "cell_type": "markdown",
   "metadata": {
    "pycharm": {
     "name": "#%% md\n"
    }
   },
   "source": [
    "### Exercise: Sorting\n",
    "\n",
    "Use `sort_values` to sort momentum by the column `mom_10`. Verify that the\n",
    "sort was successful by looking at the minimum of a diff."
   ]
  },
  {
   "cell_type": "code",
   "execution_count": 54,
   "metadata": {},
   "outputs": [],
   "source": [
    "mom_sorted = momentum.sort_values(\"mom_10\")"
   ]
  },
  {
   "cell_type": "code",
   "execution_count": 56,
   "metadata": {},
   "outputs": [
    {
     "output_type": "execute_result",
     "data": {
      "text/plain": [
       "mom_01   -8.09\n",
       "mom_02   -6.92\n",
       "mom_03   -6.04\n",
       "mom_04   -5.04\n",
       "mom_05   -5.41\n",
       "mom_06   -5.33\n",
       "mom_07   -3.43\n",
       "mom_08   -2.54\n",
       "mom_09   -2.78\n",
       "mom_10    0.00\n",
       "dtype: float64"
      ]
     },
     "metadata": {},
     "execution_count": 56
    }
   ],
   "source": [
    "mom_sorted.diff().min()"
   ]
  },
  {
   "cell_type": "markdown",
   "metadata": {},
   "source": [
    "### Exercise: Sort Descending\n",
    "\n",
    "Use `sort_values` to sort momentum by by the column `mom_10` using a descending\n",
    "sort (see the help for `sort_values`). Verify the sort worked by looking at the maximum of\n",
    "a diff."
   ]
  },
  {
   "cell_type": "code",
   "execution_count": 58,
   "metadata": {},
   "outputs": [
    {
     "output_type": "execute_result",
     "data": {
      "text/plain": [
       "            mom_01  mom_02  mom_03  mom_04  mom_05  mom_06  mom_07  mom_08  \\\n",
       "date                                                                         \n",
       "2016-01-28    1.04    0.60    0.10   -0.35    0.80   -0.53   -0.04   -0.12   \n",
       "2016-11-07    2.52    2.29    2.58    2.22    2.31    2.28    1.90    1.99   \n",
       "2017-03-01    0.65    0.75    0.93    1.30    1.61    1.38    1.97    2.12   \n",
       "2016-03-01    1.47    2.37    2.38    2.98    2.61    2.68    2.31    2.12   \n",
       "2017-01-24    0.20    0.72    0.38    0.02    1.05    1.16    1.65    1.47   \n",
       "...            ...     ...     ...     ...     ...     ...     ...     ...   \n",
       "2016-09-09   -3.09   -2.88   -1.88   -2.28   -2.05   -2.39   -2.47   -2.54   \n",
       "2016-01-13   -4.88   -3.06   -2.70   -2.00   -2.34   -2.18   -2.44   -2.77   \n",
       "2016-02-05   -2.49   -2.40   -1.52   -1.77   -1.77   -0.93   -1.47   -1.62   \n",
       "2017-03-21   -1.68   -0.69   -0.58   -0.89   -1.32   -1.14   -1.66   -2.21   \n",
       "2017-05-17   -1.83   -1.02   -1.12   -1.42   -1.21   -1.74   -2.49   -2.55   \n",
       "\n",
       "            mom_09  mom_10  \n",
       "date                        \n",
       "2016-01-28   -0.41    2.87  \n",
       "2016-11-07    2.37    2.64  \n",
       "2017-03-01    2.44    2.62  \n",
       "2016-03-01    1.42    2.54  \n",
       "2017-01-24    1.87    2.27  \n",
       "...            ...     ...  \n",
       "2016-09-09   -2.71   -3.06  \n",
       "2016-01-13   -2.65   -3.71  \n",
       "2016-02-05   -2.04   -3.91  \n",
       "2017-03-21   -2.91   -4.03  \n",
       "2017-05-17   -3.08   -4.30  \n",
       "\n",
       "[503 rows x 10 columns]"
      ],
      "text/html": "<div>\n<style scoped>\n    .dataframe tbody tr th:only-of-type {\n        vertical-align: middle;\n    }\n\n    .dataframe tbody tr th {\n        vertical-align: top;\n    }\n\n    .dataframe thead th {\n        text-align: right;\n    }\n</style>\n<table border=\"1\" class=\"dataframe\">\n  <thead>\n    <tr style=\"text-align: right;\">\n      <th></th>\n      <th>mom_01</th>\n      <th>mom_02</th>\n      <th>mom_03</th>\n      <th>mom_04</th>\n      <th>mom_05</th>\n      <th>mom_06</th>\n      <th>mom_07</th>\n      <th>mom_08</th>\n      <th>mom_09</th>\n      <th>mom_10</th>\n    </tr>\n    <tr>\n      <th>date</th>\n      <th></th>\n      <th></th>\n      <th></th>\n      <th></th>\n      <th></th>\n      <th></th>\n      <th></th>\n      <th></th>\n      <th></th>\n      <th></th>\n    </tr>\n  </thead>\n  <tbody>\n    <tr>\n      <th>2016-01-28</th>\n      <td>1.04</td>\n      <td>0.60</td>\n      <td>0.10</td>\n      <td>-0.35</td>\n      <td>0.80</td>\n      <td>-0.53</td>\n      <td>-0.04</td>\n      <td>-0.12</td>\n      <td>-0.41</td>\n      <td>2.87</td>\n    </tr>\n    <tr>\n      <th>2016-11-07</th>\n      <td>2.52</td>\n      <td>2.29</td>\n      <td>2.58</td>\n      <td>2.22</td>\n      <td>2.31</td>\n      <td>2.28</td>\n      <td>1.90</td>\n      <td>1.99</td>\n      <td>2.37</td>\n      <td>2.64</td>\n    </tr>\n    <tr>\n      <th>2017-03-01</th>\n      <td>0.65</td>\n      <td>0.75</td>\n      <td>0.93</td>\n      <td>1.30</td>\n      <td>1.61</td>\n      <td>1.38</td>\n      <td>1.97</td>\n      <td>2.12</td>\n      <td>2.44</td>\n      <td>2.62</td>\n    </tr>\n    <tr>\n      <th>2016-03-01</th>\n      <td>1.47</td>\n      <td>2.37</td>\n      <td>2.38</td>\n      <td>2.98</td>\n      <td>2.61</td>\n      <td>2.68</td>\n      <td>2.31</td>\n      <td>2.12</td>\n      <td>1.42</td>\n      <td>2.54</td>\n    </tr>\n    <tr>\n      <th>2017-01-24</th>\n      <td>0.20</td>\n      <td>0.72</td>\n      <td>0.38</td>\n      <td>0.02</td>\n      <td>1.05</td>\n      <td>1.16</td>\n      <td>1.65</td>\n      <td>1.47</td>\n      <td>1.87</td>\n      <td>2.27</td>\n    </tr>\n    <tr>\n      <th>...</th>\n      <td>...</td>\n      <td>...</td>\n      <td>...</td>\n      <td>...</td>\n      <td>...</td>\n      <td>...</td>\n      <td>...</td>\n      <td>...</td>\n      <td>...</td>\n      <td>...</td>\n    </tr>\n    <tr>\n      <th>2016-09-09</th>\n      <td>-3.09</td>\n      <td>-2.88</td>\n      <td>-1.88</td>\n      <td>-2.28</td>\n      <td>-2.05</td>\n      <td>-2.39</td>\n      <td>-2.47</td>\n      <td>-2.54</td>\n      <td>-2.71</td>\n      <td>-3.06</td>\n    </tr>\n    <tr>\n      <th>2016-01-13</th>\n      <td>-4.88</td>\n      <td>-3.06</td>\n      <td>-2.70</td>\n      <td>-2.00</td>\n      <td>-2.34</td>\n      <td>-2.18</td>\n      <td>-2.44</td>\n      <td>-2.77</td>\n      <td>-2.65</td>\n      <td>-3.71</td>\n    </tr>\n    <tr>\n      <th>2016-02-05</th>\n      <td>-2.49</td>\n      <td>-2.40</td>\n      <td>-1.52</td>\n      <td>-1.77</td>\n      <td>-1.77</td>\n      <td>-0.93</td>\n      <td>-1.47</td>\n      <td>-1.62</td>\n      <td>-2.04</td>\n      <td>-3.91</td>\n    </tr>\n    <tr>\n      <th>2017-03-21</th>\n      <td>-1.68</td>\n      <td>-0.69</td>\n      <td>-0.58</td>\n      <td>-0.89</td>\n      <td>-1.32</td>\n      <td>-1.14</td>\n      <td>-1.66</td>\n      <td>-2.21</td>\n      <td>-2.91</td>\n      <td>-4.03</td>\n    </tr>\n    <tr>\n      <th>2017-05-17</th>\n      <td>-1.83</td>\n      <td>-1.02</td>\n      <td>-1.12</td>\n      <td>-1.42</td>\n      <td>-1.21</td>\n      <td>-1.74</td>\n      <td>-2.49</td>\n      <td>-2.55</td>\n      <td>-3.08</td>\n      <td>-4.30</td>\n    </tr>\n  </tbody>\n</table>\n<p>503 rows × 10 columns</p>\n</div>"
     },
     "metadata": {},
     "execution_count": 58
    }
   ],
   "source": [
    "mom_sort = momentum.sort_values(\"mom_10\", ascending=False)\n",
    "mom_sort"
   ]
  },
  {
   "cell_type": "code",
   "execution_count": 59,
   "metadata": {},
   "outputs": [
    {
     "output_type": "execute_result",
     "data": {
      "text/plain": [
       "mom_01    8.08\n",
       "mom_02    6.92\n",
       "mom_03    6.04\n",
       "mom_04    5.04\n",
       "mom_05    5.41\n",
       "mom_06    5.33\n",
       "mom_07    3.43\n",
       "mom_08    2.54\n",
       "mom_09    2.78\n",
       "mom_10    0.00\n",
       "dtype: float64"
      ]
     },
     "metadata": {},
     "execution_count": 59
    }
   ],
   "source": [
    "mom_sort.diff().max()"
   ]
  },
  {
   "cell_type": "code",
   "execution_count": null,
   "metadata": {},
   "outputs": [],
   "source": []
  },
  {
   "cell_type": "code",
   "execution_count": null,
   "metadata": {},
   "outputs": [],
   "source": []
  },
  {
   "cell_type": "markdown",
   "metadata": {
    "pycharm": {
     "name": "#%% md\n"
    }
   },
   "source": [
    "### Exercise: Get Number of Elements\n",
    "\n",
    "Use the `shape` property to get the number of observations in momentum. Use it\n",
    "again to get the number of columns."
   ]
  },
  {
   "cell_type": "code",
   "execution_count": 60,
   "metadata": {},
   "outputs": [
    {
     "output_type": "execute_result",
     "data": {
      "text/plain": [
       "503"
      ]
     },
     "metadata": {},
     "execution_count": 60
    }
   ],
   "source": [
    "nobs = momentum.shape[0]\n",
    "nobs"
   ]
  },
  {
   "cell_type": "code",
   "execution_count": 61,
   "metadata": {},
   "outputs": [
    {
     "output_type": "execute_result",
     "data": {
      "text/plain": [
       "10"
      ]
     },
     "metadata": {},
     "execution_count": 61
    }
   ],
   "source": [
    "ncols = momentum.shape[1]\n",
    "ncols"
   ]
  },
  {
   "cell_type": "markdown",
   "metadata": {},
   "source": [
    "### Exercise: Use `shift` to Compute Returns\n",
    "\n",
    "Compute the percentage change using only `shift`, division (`/`) and\n",
    "subtraction (`-`) on the `Series` `mom_10`. Verify that your result matches what `pct_change` produces."
   ]
  },
  {
   "cell_type": "code",
   "execution_count": 66,
   "metadata": {},
   "outputs": [
    {
     "output_type": "execute_result",
     "data": {
      "text/plain": [
       "               mom_01     mom_02    mom_03     mom_04     mom_05    mom_06  \\\n",
       "date                                                                         \n",
       "2016-01-05  -1.537313  -7.666667 -0.602151  -1.252252  -1.108844 -1.108434   \n",
       "2016-01-06  12.805556 -12.650000  6.027027  -5.142857 -11.625000 -9.055556   \n",
       "2016-01-07  -0.012072  -0.180258  0.165385   0.612069   0.358824  0.586207   \n",
       "2016-01-08  -0.918534  -0.340314 -0.676568  -0.326203  -0.510823 -0.556522   \n",
       "2016-01-11  11.850000  -0.357143  0.357143  -0.428571  -0.619469 -1.137255   \n",
       "...               ...        ...       ...        ...        ...       ...   \n",
       "2017-12-22  -0.809524  -0.900000 -1.104478  -1.010204  -1.137931 -1.270270   \n",
       "2017-12-26   2.708333   4.384615 -4.285714   2.000000  -2.250000 -0.400000   \n",
       "2017-12-27  -1.651685  -1.785714 -2.173913   5.333333  -2.400000 -4.000000   \n",
       "2017-12-28  -1.241379  -1.418182 -2.185185  -1.105263  -3.071429 -0.111111   \n",
       "2017-12-29  -4.000000  -3.652174 -2.500000 -29.500000  -2.551724 -3.562500   \n",
       "\n",
       "              mom_07    mom_08    mom_09     mom_10  \n",
       "date                                                 \n",
       "2016-01-05 -0.842857 -1.120192 -1.169591  -1.048689  \n",
       "2016-01-06  4.227273 -6.840000 -4.931034  -4.461538  \n",
       "2016-01-07  1.347826  0.582192  1.070175   4.911111  \n",
       "2016-01-08 -0.644444 -0.385281 -0.601695  -0.503759  \n",
       "2016-01-11 -1.239583 -1.197183 -1.308511  -1.250000  \n",
       "...              ...       ...       ...        ...  \n",
       "2017-12-22 -2.076923 -0.384615 -0.375000  -0.962963  \n",
       "2017-12-26  0.000000 -0.562500 -3.800000  64.000000  \n",
       "2017-12-27 -2.285714 -2.428571  0.571429  -1.553846  \n",
       "2017-12-28  0.666667  0.500000  0.272727  -0.194444  \n",
       "2017-12-29 -2.733333 -4.000000 -3.500000  -4.241379  \n",
       "\n",
       "[502 rows x 10 columns]"
      ],
      "text/html": "<div>\n<style scoped>\n    .dataframe tbody tr th:only-of-type {\n        vertical-align: middle;\n    }\n\n    .dataframe tbody tr th {\n        vertical-align: top;\n    }\n\n    .dataframe thead th {\n        text-align: right;\n    }\n</style>\n<table border=\"1\" class=\"dataframe\">\n  <thead>\n    <tr style=\"text-align: right;\">\n      <th></th>\n      <th>mom_01</th>\n      <th>mom_02</th>\n      <th>mom_03</th>\n      <th>mom_04</th>\n      <th>mom_05</th>\n      <th>mom_06</th>\n      <th>mom_07</th>\n      <th>mom_08</th>\n      <th>mom_09</th>\n      <th>mom_10</th>\n    </tr>\n    <tr>\n      <th>date</th>\n      <th></th>\n      <th></th>\n      <th></th>\n      <th></th>\n      <th></th>\n      <th></th>\n      <th></th>\n      <th></th>\n      <th></th>\n      <th></th>\n    </tr>\n  </thead>\n  <tbody>\n    <tr>\n      <th>2016-01-05</th>\n      <td>-1.537313</td>\n      <td>-7.666667</td>\n      <td>-0.602151</td>\n      <td>-1.252252</td>\n      <td>-1.108844</td>\n      <td>-1.108434</td>\n      <td>-0.842857</td>\n      <td>-1.120192</td>\n      <td>-1.169591</td>\n      <td>-1.048689</td>\n    </tr>\n    <tr>\n      <th>2016-01-06</th>\n      <td>12.805556</td>\n      <td>-12.650000</td>\n      <td>6.027027</td>\n      <td>-5.142857</td>\n      <td>-11.625000</td>\n      <td>-9.055556</td>\n      <td>4.227273</td>\n      <td>-6.840000</td>\n      <td>-4.931034</td>\n      <td>-4.461538</td>\n    </tr>\n    <tr>\n      <th>2016-01-07</th>\n      <td>-0.012072</td>\n      <td>-0.180258</td>\n      <td>0.165385</td>\n      <td>0.612069</td>\n      <td>0.358824</td>\n      <td>0.586207</td>\n      <td>1.347826</td>\n      <td>0.582192</td>\n      <td>1.070175</td>\n      <td>4.911111</td>\n    </tr>\n    <tr>\n      <th>2016-01-08</th>\n      <td>-0.918534</td>\n      <td>-0.340314</td>\n      <td>-0.676568</td>\n      <td>-0.326203</td>\n      <td>-0.510823</td>\n      <td>-0.556522</td>\n      <td>-0.644444</td>\n      <td>-0.385281</td>\n      <td>-0.601695</td>\n      <td>-0.503759</td>\n    </tr>\n    <tr>\n      <th>2016-01-11</th>\n      <td>11.850000</td>\n      <td>-0.357143</td>\n      <td>0.357143</td>\n      <td>-0.428571</td>\n      <td>-0.619469</td>\n      <td>-1.137255</td>\n      <td>-1.239583</td>\n      <td>-1.197183</td>\n      <td>-1.308511</td>\n      <td>-1.250000</td>\n    </tr>\n    <tr>\n      <th>...</th>\n      <td>...</td>\n      <td>...</td>\n      <td>...</td>\n      <td>...</td>\n      <td>...</td>\n      <td>...</td>\n      <td>...</td>\n      <td>...</td>\n      <td>...</td>\n      <td>...</td>\n    </tr>\n    <tr>\n      <th>2017-12-22</th>\n      <td>-0.809524</td>\n      <td>-0.900000</td>\n      <td>-1.104478</td>\n      <td>-1.010204</td>\n      <td>-1.137931</td>\n      <td>-1.270270</td>\n      <td>-2.076923</td>\n      <td>-0.384615</td>\n      <td>-0.375000</td>\n      <td>-0.962963</td>\n    </tr>\n    <tr>\n      <th>2017-12-26</th>\n      <td>2.708333</td>\n      <td>4.384615</td>\n      <td>-4.285714</td>\n      <td>2.000000</td>\n      <td>-2.250000</td>\n      <td>-0.400000</td>\n      <td>0.000000</td>\n      <td>-0.562500</td>\n      <td>-3.800000</td>\n      <td>64.000000</td>\n    </tr>\n    <tr>\n      <th>2017-12-27</th>\n      <td>-1.651685</td>\n      <td>-1.785714</td>\n      <td>-2.173913</td>\n      <td>5.333333</td>\n      <td>-2.400000</td>\n      <td>-4.000000</td>\n      <td>-2.285714</td>\n      <td>-2.428571</td>\n      <td>0.571429</td>\n      <td>-1.553846</td>\n    </tr>\n    <tr>\n      <th>2017-12-28</th>\n      <td>-1.241379</td>\n      <td>-1.418182</td>\n      <td>-2.185185</td>\n      <td>-1.105263</td>\n      <td>-3.071429</td>\n      <td>-0.111111</td>\n      <td>0.666667</td>\n      <td>0.500000</td>\n      <td>0.272727</td>\n      <td>-0.194444</td>\n    </tr>\n    <tr>\n      <th>2017-12-29</th>\n      <td>-4.000000</td>\n      <td>-3.652174</td>\n      <td>-2.500000</td>\n      <td>-29.500000</td>\n      <td>-2.551724</td>\n      <td>-3.562500</td>\n      <td>-2.733333</td>\n      <td>-4.000000</td>\n      <td>-3.500000</td>\n      <td>-4.241379</td>\n    </tr>\n  </tbody>\n</table>\n<p>502 rows × 10 columns</p>\n</div>"
     },
     "metadata": {},
     "execution_count": 66
    }
   ],
   "source": [
    "momentum.pct_change().dropna()"
   ]
  },
  {
   "cell_type": "code",
   "execution_count": 72,
   "metadata": {},
   "outputs": [
    {
     "output_type": "execute_result",
     "data": {
      "text/plain": [
       "               mom_01     mom_02    mom_03     mom_04     mom_05    mom_06  \\\n",
       "date                                                                         \n",
       "2016-01-05  -1.537313  -7.666667 -0.602151  -1.252252  -1.108844 -1.108434   \n",
       "2016-01-06  12.805556 -12.650000  6.027027  -5.142857 -11.625000 -9.055556   \n",
       "2016-01-07  -0.012072  -0.180258  0.165385   0.612069   0.358824  0.586207   \n",
       "2016-01-08  -0.918534  -0.340314 -0.676568  -0.326203  -0.510823 -0.556522   \n",
       "2016-01-11  11.850000  -0.357143  0.357143  -0.428571  -0.619469 -1.137255   \n",
       "...               ...        ...       ...        ...        ...       ...   \n",
       "2017-12-22  -0.809524  -0.900000 -1.104478  -1.010204  -1.137931 -1.270270   \n",
       "2017-12-26   2.708333   4.384615 -4.285714   2.000000  -2.250000 -0.400000   \n",
       "2017-12-27  -1.651685  -1.785714 -2.173913   5.333333  -2.400000 -4.000000   \n",
       "2017-12-28  -1.241379  -1.418182 -2.185185  -1.105263  -3.071429 -0.111111   \n",
       "2017-12-29  -4.000000  -3.652174 -2.500000 -29.500000  -2.551724 -3.562500   \n",
       "\n",
       "              mom_07    mom_08    mom_09     mom_10  \n",
       "date                                                 \n",
       "2016-01-05 -0.842857 -1.120192 -1.169591  -1.048689  \n",
       "2016-01-06  4.227273 -6.840000 -4.931034  -4.461538  \n",
       "2016-01-07  1.347826  0.582192  1.070175   4.911111  \n",
       "2016-01-08 -0.644444 -0.385281 -0.601695  -0.503759  \n",
       "2016-01-11 -1.239583 -1.197183 -1.308511  -1.250000  \n",
       "...              ...       ...       ...        ...  \n",
       "2017-12-22 -2.076923 -0.384615 -0.375000  -0.962963  \n",
       "2017-12-26 -0.000000 -0.562500 -3.800000  64.000000  \n",
       "2017-12-27 -2.285714 -2.428571  0.571429  -1.553846  \n",
       "2017-12-28  0.666667  0.500000  0.272727  -0.194444  \n",
       "2017-12-29 -2.733333 -4.000000 -3.500000  -4.241379  \n",
       "\n",
       "[502 rows x 10 columns]"
      ],
      "text/html": "<div>\n<style scoped>\n    .dataframe tbody tr th:only-of-type {\n        vertical-align: middle;\n    }\n\n    .dataframe tbody tr th {\n        vertical-align: top;\n    }\n\n    .dataframe thead th {\n        text-align: right;\n    }\n</style>\n<table border=\"1\" class=\"dataframe\">\n  <thead>\n    <tr style=\"text-align: right;\">\n      <th></th>\n      <th>mom_01</th>\n      <th>mom_02</th>\n      <th>mom_03</th>\n      <th>mom_04</th>\n      <th>mom_05</th>\n      <th>mom_06</th>\n      <th>mom_07</th>\n      <th>mom_08</th>\n      <th>mom_09</th>\n      <th>mom_10</th>\n    </tr>\n    <tr>\n      <th>date</th>\n      <th></th>\n      <th></th>\n      <th></th>\n      <th></th>\n      <th></th>\n      <th></th>\n      <th></th>\n      <th></th>\n      <th></th>\n      <th></th>\n    </tr>\n  </thead>\n  <tbody>\n    <tr>\n      <th>2016-01-05</th>\n      <td>-1.537313</td>\n      <td>-7.666667</td>\n      <td>-0.602151</td>\n      <td>-1.252252</td>\n      <td>-1.108844</td>\n      <td>-1.108434</td>\n      <td>-0.842857</td>\n      <td>-1.120192</td>\n      <td>-1.169591</td>\n      <td>-1.048689</td>\n    </tr>\n    <tr>\n      <th>2016-01-06</th>\n      <td>12.805556</td>\n      <td>-12.650000</td>\n      <td>6.027027</td>\n      <td>-5.142857</td>\n      <td>-11.625000</td>\n      <td>-9.055556</td>\n      <td>4.227273</td>\n      <td>-6.840000</td>\n      <td>-4.931034</td>\n      <td>-4.461538</td>\n    </tr>\n    <tr>\n      <th>2016-01-07</th>\n      <td>-0.012072</td>\n      <td>-0.180258</td>\n      <td>0.165385</td>\n      <td>0.612069</td>\n      <td>0.358824</td>\n      <td>0.586207</td>\n      <td>1.347826</td>\n      <td>0.582192</td>\n      <td>1.070175</td>\n      <td>4.911111</td>\n    </tr>\n    <tr>\n      <th>2016-01-08</th>\n      <td>-0.918534</td>\n      <td>-0.340314</td>\n      <td>-0.676568</td>\n      <td>-0.326203</td>\n      <td>-0.510823</td>\n      <td>-0.556522</td>\n      <td>-0.644444</td>\n      <td>-0.385281</td>\n      <td>-0.601695</td>\n      <td>-0.503759</td>\n    </tr>\n    <tr>\n      <th>2016-01-11</th>\n      <td>11.850000</td>\n      <td>-0.357143</td>\n      <td>0.357143</td>\n      <td>-0.428571</td>\n      <td>-0.619469</td>\n      <td>-1.137255</td>\n      <td>-1.239583</td>\n      <td>-1.197183</td>\n      <td>-1.308511</td>\n      <td>-1.250000</td>\n    </tr>\n    <tr>\n      <th>...</th>\n      <td>...</td>\n      <td>...</td>\n      <td>...</td>\n      <td>...</td>\n      <td>...</td>\n      <td>...</td>\n      <td>...</td>\n      <td>...</td>\n      <td>...</td>\n      <td>...</td>\n    </tr>\n    <tr>\n      <th>2017-12-22</th>\n      <td>-0.809524</td>\n      <td>-0.900000</td>\n      <td>-1.104478</td>\n      <td>-1.010204</td>\n      <td>-1.137931</td>\n      <td>-1.270270</td>\n      <td>-2.076923</td>\n      <td>-0.384615</td>\n      <td>-0.375000</td>\n      <td>-0.962963</td>\n    </tr>\n    <tr>\n      <th>2017-12-26</th>\n      <td>2.708333</td>\n      <td>4.384615</td>\n      <td>-4.285714</td>\n      <td>2.000000</td>\n      <td>-2.250000</td>\n      <td>-0.400000</td>\n      <td>-0.000000</td>\n      <td>-0.562500</td>\n      <td>-3.800000</td>\n      <td>64.000000</td>\n    </tr>\n    <tr>\n      <th>2017-12-27</th>\n      <td>-1.651685</td>\n      <td>-1.785714</td>\n      <td>-2.173913</td>\n      <td>5.333333</td>\n      <td>-2.400000</td>\n      <td>-4.000000</td>\n      <td>-2.285714</td>\n      <td>-2.428571</td>\n      <td>0.571429</td>\n      <td>-1.553846</td>\n    </tr>\n    <tr>\n      <th>2017-12-28</th>\n      <td>-1.241379</td>\n      <td>-1.418182</td>\n      <td>-2.185185</td>\n      <td>-1.105263</td>\n      <td>-3.071429</td>\n      <td>-0.111111</td>\n      <td>0.666667</td>\n      <td>0.500000</td>\n      <td>0.272727</td>\n      <td>-0.194444</td>\n    </tr>\n    <tr>\n      <th>2017-12-29</th>\n      <td>-4.000000</td>\n      <td>-3.652174</td>\n      <td>-2.500000</td>\n      <td>-29.500000</td>\n      <td>-2.551724</td>\n      <td>-3.562500</td>\n      <td>-2.733333</td>\n      <td>-4.000000</td>\n      <td>-3.500000</td>\n      <td>-4.241379</td>\n    </tr>\n  </tbody>\n</table>\n<p>502 rows × 10 columns</p>\n</div>"
     },
     "metadata": {},
     "execution_count": 72
    }
   ],
   "source": [
    "((momentum - momentum.shift(1) ) / momentum.shift(1)).dropna()"
   ]
  }
 ],
 "metadata": {
  "kernelspec": {
   "display_name": "Python 3",
   "language": "python",
   "name": "python3"
  },
  "language_info": {
   "codemirror_mode": {
    "name": "ipython",
    "version": 3
   },
   "file_extension": ".py",
   "mimetype": "text/x-python",
   "name": "python",
   "nbconvert_exporter": "python",
   "pygments_lexer": "ipython3",
   "version": "3.8.3-final"
  },
  "pycharm": {
   "stem_cell": {
    "cell_type": "raw",
    "metadata": {
     "collapsed": false
    },
    "source": []
   }
  }
 },
 "nbformat": 4,
 "nbformat_minor": 1
}