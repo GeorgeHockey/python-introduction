{
 "cells": [
  {
   "cell_type": "markdown",
   "metadata": {
    "pycharm": {
     "name": "#%% md\n"
    }
   },
   "source": [
    "# Importing Data\n",
    "\n",
    "This lesson covers:\n",
    "\n",
    "* Importing data \n",
    "* Converting dates "
   ]
  },
  {
   "cell_type": "markdown",
   "metadata": {},
   "source": [
    "## Problem: Reading in data with Dates\n",
    "\n",
    "Read in the files `GS10.csv` and `GS10.xls` which have both been downloaded\n",
    "from [FRED](https://fred.stlouisfed.org/)."
   ]
  },
  {
   "cell_type": "code",
   "execution_count": 14,
   "metadata": {},
   "outputs": [
    {
     "output_type": "execute_result",
     "data": {
      "text/plain": [
       "            GS10\n",
       "DATE            \n",
       "1953-04-01  2.83\n",
       "1953-05-01  3.05\n",
       "1953-06-01  3.11\n",
       "1953-07-01  2.93\n",
       "1953-08-01  2.95\n",
       "...          ...\n",
       "2019-04-01  2.53\n",
       "2019-05-01  2.40\n",
       "2019-06-01  2.07\n",
       "2019-07-01  2.06\n",
       "2019-08-01  1.63\n",
       "\n",
       "[797 rows x 1 columns]"
      ],
      "text/html": "<div>\n<style scoped>\n    .dataframe tbody tr th:only-of-type {\n        vertical-align: middle;\n    }\n\n    .dataframe tbody tr th {\n        vertical-align: top;\n    }\n\n    .dataframe thead th {\n        text-align: right;\n    }\n</style>\n<table border=\"1\" class=\"dataframe\">\n  <thead>\n    <tr style=\"text-align: right;\">\n      <th></th>\n      <th>GS10</th>\n    </tr>\n    <tr>\n      <th>DATE</th>\n      <th></th>\n    </tr>\n  </thead>\n  <tbody>\n    <tr>\n      <th>1953-04-01</th>\n      <td>2.83</td>\n    </tr>\n    <tr>\n      <th>1953-05-01</th>\n      <td>3.05</td>\n    </tr>\n    <tr>\n      <th>1953-06-01</th>\n      <td>3.11</td>\n    </tr>\n    <tr>\n      <th>1953-07-01</th>\n      <td>2.93</td>\n    </tr>\n    <tr>\n      <th>1953-08-01</th>\n      <td>2.95</td>\n    </tr>\n    <tr>\n      <th>...</th>\n      <td>...</td>\n    </tr>\n    <tr>\n      <th>2019-04-01</th>\n      <td>2.53</td>\n    </tr>\n    <tr>\n      <th>2019-05-01</th>\n      <td>2.40</td>\n    </tr>\n    <tr>\n      <th>2019-06-01</th>\n      <td>2.07</td>\n    </tr>\n    <tr>\n      <th>2019-07-01</th>\n      <td>2.06</td>\n    </tr>\n    <tr>\n      <th>2019-08-01</th>\n      <td>1.63</td>\n    </tr>\n  </tbody>\n</table>\n<p>797 rows × 1 columns</p>\n</div>"
     },
     "metadata": {},
     "execution_count": 14
    }
   ],
   "source": [
    "import pandas as pd\n",
    "pd.read_csv(\"data/GS10.csv\",index_col = \"DATE\", parse_dates=True)"
   ]
  },
  {
   "cell_type": "code",
   "execution_count": 12,
   "metadata": {},
   "outputs": [
    {
     "output_type": "execute_result",
     "data": {
      "text/plain": [
       "    observation_date  GS10\n",
       "0         1953-04-01  2.83\n",
       "1         1953-05-01  3.05\n",
       "2         1953-06-01  3.11\n",
       "3         1953-07-01  2.93\n",
       "4         1953-08-01  2.95\n",
       "..               ...   ...\n",
       "792       2019-04-01  2.53\n",
       "793       2019-05-01  2.40\n",
       "794       2019-06-01  2.07\n",
       "795       2019-07-01  2.06\n",
       "796       2019-08-01  1.63\n",
       "\n",
       "[797 rows x 2 columns]"
      ],
      "text/html": "<div>\n<style scoped>\n    .dataframe tbody tr th:only-of-type {\n        vertical-align: middle;\n    }\n\n    .dataframe tbody tr th {\n        vertical-align: top;\n    }\n\n    .dataframe thead th {\n        text-align: right;\n    }\n</style>\n<table border=\"1\" class=\"dataframe\">\n  <thead>\n    <tr style=\"text-align: right;\">\n      <th></th>\n      <th>observation_date</th>\n      <th>GS10</th>\n    </tr>\n  </thead>\n  <tbody>\n    <tr>\n      <th>0</th>\n      <td>1953-04-01</td>\n      <td>2.83</td>\n    </tr>\n    <tr>\n      <th>1</th>\n      <td>1953-05-01</td>\n      <td>3.05</td>\n    </tr>\n    <tr>\n      <th>2</th>\n      <td>1953-06-01</td>\n      <td>3.11</td>\n    </tr>\n    <tr>\n      <th>3</th>\n      <td>1953-07-01</td>\n      <td>2.93</td>\n    </tr>\n    <tr>\n      <th>4</th>\n      <td>1953-08-01</td>\n      <td>2.95</td>\n    </tr>\n    <tr>\n      <th>...</th>\n      <td>...</td>\n      <td>...</td>\n    </tr>\n    <tr>\n      <th>792</th>\n      <td>2019-04-01</td>\n      <td>2.53</td>\n    </tr>\n    <tr>\n      <th>793</th>\n      <td>2019-05-01</td>\n      <td>2.40</td>\n    </tr>\n    <tr>\n      <th>794</th>\n      <td>2019-06-01</td>\n      <td>2.07</td>\n    </tr>\n    <tr>\n      <th>795</th>\n      <td>2019-07-01</td>\n      <td>2.06</td>\n    </tr>\n    <tr>\n      <th>796</th>\n      <td>2019-08-01</td>\n      <td>1.63</td>\n    </tr>\n  </tbody>\n</table>\n<p>797 rows × 2 columns</p>\n</div>"
     },
     "metadata": {},
     "execution_count": 12
    }
   ],
   "source": [
    "pd.read_excel(\"data/GS10.xls\",skiprows=10)"
   ]
  },
  {
   "cell_type": "markdown",
   "metadata": {},
   "source": [
    "## Problem: Converting Dates\n",
    "\n",
    "1. Load the CSV file without converting the dates in `read_csv`.\n",
    "2. Convert the date column, remove it from the DataFrame, and set it as the\n",
    "   index. "
   ]
  },
  {
   "cell_type": "code",
   "execution_count": 25,
   "metadata": {},
   "outputs": [
    {
     "output_type": "execute_result",
     "data": {
      "text/plain": [
       "            GS10\n",
       "DATE            \n",
       "1953-04-01  2.83\n",
       "1953-05-01  3.05\n",
       "1953-06-01  3.11\n",
       "1953-07-01  2.93\n",
       "1953-08-01  2.95\n",
       "...          ...\n",
       "2019-04-01  2.53\n",
       "2019-05-01  2.40\n",
       "2019-06-01  2.07\n",
       "2019-07-01  2.06\n",
       "2019-08-01  1.63\n",
       "\n",
       "[797 rows x 1 columns]"
      ],
      "text/html": "<div>\n<style scoped>\n    .dataframe tbody tr th:only-of-type {\n        vertical-align: middle;\n    }\n\n    .dataframe tbody tr th {\n        vertical-align: top;\n    }\n\n    .dataframe thead th {\n        text-align: right;\n    }\n</style>\n<table border=\"1\" class=\"dataframe\">\n  <thead>\n    <tr style=\"text-align: right;\">\n      <th></th>\n      <th>GS10</th>\n    </tr>\n    <tr>\n      <th>DATE</th>\n      <th></th>\n    </tr>\n  </thead>\n  <tbody>\n    <tr>\n      <th>1953-04-01</th>\n      <td>2.83</td>\n    </tr>\n    <tr>\n      <th>1953-05-01</th>\n      <td>3.05</td>\n    </tr>\n    <tr>\n      <th>1953-06-01</th>\n      <td>3.11</td>\n    </tr>\n    <tr>\n      <th>1953-07-01</th>\n      <td>2.93</td>\n    </tr>\n    <tr>\n      <th>1953-08-01</th>\n      <td>2.95</td>\n    </tr>\n    <tr>\n      <th>...</th>\n      <td>...</td>\n    </tr>\n    <tr>\n      <th>2019-04-01</th>\n      <td>2.53</td>\n    </tr>\n    <tr>\n      <th>2019-05-01</th>\n      <td>2.40</td>\n    </tr>\n    <tr>\n      <th>2019-06-01</th>\n      <td>2.07</td>\n    </tr>\n    <tr>\n      <th>2019-07-01</th>\n      <td>2.06</td>\n    </tr>\n    <tr>\n      <th>2019-08-01</th>\n      <td>1.63</td>\n    </tr>\n  </tbody>\n</table>\n<p>797 rows × 1 columns</p>\n</div>"
     },
     "metadata": {},
     "execution_count": 25
    }
   ],
   "source": [
    "g = pd.read_csv(\"data/GS10.csv\")\n",
    "dates = g.DATE\n",
    "dates = pd.to_datetime(dates)\n",
    "g.index = dates\n",
    "del g[\"DATE\"]\n",
    "g"
   ]
  },
  {
   "cell_type": "code",
   "execution_count": 30,
   "metadata": {},
   "outputs": [
    {
     "output_type": "execute_result",
     "data": {
      "text/plain": [
       "            GS10\n",
       "DATE            \n",
       "1953-04-01  2.83\n",
       "1953-05-01  3.05\n",
       "1953-06-01  3.11\n",
       "1953-07-01  2.93\n",
       "1953-08-01  2.95\n",
       "...          ...\n",
       "2019-04-01  2.53\n",
       "2019-05-01  2.40\n",
       "2019-06-01  2.07\n",
       "2019-07-01  2.06\n",
       "2019-08-01  1.63\n",
       "\n",
       "[797 rows x 1 columns]"
      ],
      "text/html": "<div>\n<style scoped>\n    .dataframe tbody tr th:only-of-type {\n        vertical-align: middle;\n    }\n\n    .dataframe tbody tr th {\n        vertical-align: top;\n    }\n\n    .dataframe thead th {\n        text-align: right;\n    }\n</style>\n<table border=\"1\" class=\"dataframe\">\n  <thead>\n    <tr style=\"text-align: right;\">\n      <th></th>\n      <th>GS10</th>\n    </tr>\n    <tr>\n      <th>DATE</th>\n      <th></th>\n    </tr>\n  </thead>\n  <tbody>\n    <tr>\n      <th>1953-04-01</th>\n      <td>2.83</td>\n    </tr>\n    <tr>\n      <th>1953-05-01</th>\n      <td>3.05</td>\n    </tr>\n    <tr>\n      <th>1953-06-01</th>\n      <td>3.11</td>\n    </tr>\n    <tr>\n      <th>1953-07-01</th>\n      <td>2.93</td>\n    </tr>\n    <tr>\n      <th>1953-08-01</th>\n      <td>2.95</td>\n    </tr>\n    <tr>\n      <th>...</th>\n      <td>...</td>\n    </tr>\n    <tr>\n      <th>2019-04-01</th>\n      <td>2.53</td>\n    </tr>\n    <tr>\n      <th>2019-05-01</th>\n      <td>2.40</td>\n    </tr>\n    <tr>\n      <th>2019-06-01</th>\n      <td>2.07</td>\n    </tr>\n    <tr>\n      <th>2019-07-01</th>\n      <td>2.06</td>\n    </tr>\n    <tr>\n      <th>2019-08-01</th>\n      <td>1.63</td>\n    </tr>\n  </tbody>\n</table>\n<p>797 rows × 1 columns</p>\n</div>"
     },
     "metadata": {},
     "execution_count": 30
    }
   ],
   "source": [
    "g10 = pd.read_csv(\"data/GS10.csv\")\n",
    "dates = g10.pop(\"DATE\")\n",
    "dates = pd.to_datetime(dates)\n",
    "g10.index = dates\n",
    "g10"
   ]
  },
  {
   "cell_type": "markdown",
   "metadata": {
    "collapsed": false,
    "pycharm": {
     "name": "#%% md\n"
    }
   },
   "source": [
    "## Exercises\n",
    "\n",
    "### Exercise: Selectively Load Columns\n",
    "\n",
    "1. Load the data in `data/fred-md.csv` in the columns sasdate,\n",
    "   RPI and INDPRO using the `usecols` keyword.\n",
    "2. Remove the first row by selecting the second to the end.\n",
    "3. Convert sasdate to dates\n",
    "4. Set sasdate as the index and remove it from the `DataFrame`."
   ]
  },
  {
   "cell_type": "code",
   "execution_count": null,
   "metadata": {},
   "outputs": [],
   "source": []
  },
  {
   "cell_type": "markdown",
   "metadata": {
    "collapsed": false,
    "pycharm": {
     "name": "#%% md\n"
    }
   },
   "source": [
    "### Exercise: Load and Merge multiple Sheets\n",
    "\n",
    "1. Load the data on the sheet \"Long Mat\" in the Excel file \"data/exercise.xlsx\". \n",
    "   These are 10 and 20 year constant maturity yields.\n",
    "2. Load the data on the sheet \"Short Mat\" in the Excel file \"data/exercise.xlsx\".\n",
    "   These are 1 and 3 year constant maturity yields.\n",
    "3. Combine the columns in the two `DataFrame`s by creating a dictionary of the keys in\n",
    "   each with the values equal to the column names."
   ]
  },
  {
   "cell_type": "code",
   "execution_count": null,
   "metadata": {},
   "outputs": [],
   "source": []
  }
 ],
 "metadata": {
  "kernelspec": {
   "display_name": "Python 3",
   "language": "python",
   "name": "python3"
  },
  "language_info": {
   "codemirror_mode": {
    "name": "ipython",
    "version": 3
   },
   "file_extension": ".py",
   "mimetype": "text/x-python",
   "name": "python",
   "nbconvert_exporter": "python",
   "pygments_lexer": "ipython3",
   "version": "3.8.3-final"
  },
  "pycharm": {
   "stem_cell": {
    "cell_type": "raw",
    "metadata": {
     "collapsed": false
    },
    "source": []
   }
  }
 },
 "nbformat": 4,
 "nbformat_minor": 1
}